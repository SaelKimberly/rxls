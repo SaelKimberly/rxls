{
 "cells": [
  {
   "attachments": {},
   "cell_type": "markdown",
   "metadata": {},
   "source": [
    "## Initialization"
   ]
  },
  {
   "cell_type": "code",
   "execution_count": null,
   "metadata": {},
   "outputs": [],
   "source": [
    "# ruff: noqa:I001, T201"
   ]
  },
  {
   "cell_type": "code",
   "execution_count": 1,
   "metadata": {
    "notebookRunGroups": {
     "groupValue": "1"
    }
   },
   "outputs": [
    {
     "name": "stdout",
     "output_type": "stream",
     "text": [
      "[========================================================================================================================]\n",
      "|                                               benchmark environment used                                               |\n",
      "[======== system ========][========================================== property ==========================================]\n",
      "|        Platform        ||                                  Windows-10-10.0.19044-SP0                                   |\n",
      "|          CPU           ||                      AMD64 Family 23 Model 17 Stepping 0, AuthenticAMD                       |\n",
      "|         CPU HZ         ||                               2.4950 GHz (actual: 2.5000 GHz)                                |\n",
      "|         Python         ||       3.8.10 (tags/v3.8.10:3d8993a, May  3 2021, 11:48:03) [MSC v.1928 64 bit (AMD64)]       |\n",
      "[====== dependency ======][========================================== version ===========================================]\n",
      "|        PyArrow         ||                                            14.0.2                                            |\n",
      "|         Polars         ||                                            0.20.4                                            |\n",
      "|         Pandas         ||                                            2.0.3                                             |\n",
      "|         Numba          ||                                            0.58.1                                            |\n",
      "|        XLSX2CSV        ||                                            0.8.2                                             |\n",
      "|        OpenPyXL        ||                                            3.1.2                                             |\n",
      "|         PyXLSB         ||                                            1.0.10                                            |\n",
      "|    python_calamine     ||                                            0.1.7                                             |\n",
      "|          tqdm          ||                                            4.66.1                                            |\n",
      "|      recordclass       ||                                            0.21.1                                            |\n",
      "|          lxml          ||                                            5.1.0                                             |\n",
      "|        cpuinfo         ||                                            9.0.0                                             |\n",
      "|    memory_profiler     ||                                            0.61.0                                            |\n",
      "[========================][==============================================================================================]\n"
     ]
    }
   ],
   "source": [
    "import platform\n",
    "import cpuinfo\n",
    "import sys\n",
    "\n",
    "import polars as pl\n",
    "import pyarrow as pa\n",
    "import pandas as pd\n",
    "import numba as nb\n",
    "\n",
    "import xlsx2csv\n",
    "import openpyxl\n",
    "import pyxlsb\n",
    "import python_calamine as calamine\n",
    "\n",
    "import recordclass\n",
    "import tqdm as _tqdm\n",
    "import lxml\n",
    "\n",
    "import memory_profiler\n",
    "\n",
    "from rxls.reader import read as xl_scan\n",
    "from tqdm import tqdm\n",
    "\n",
    "cpu: dict = cpuinfo.get_cpu_info()\n",
    "\n",
    "print(\n",
    "    f'[{\"=\":=^120}]',\n",
    "    f'|{\" benchmark environment used \":^120}|',\n",
    "    f'[{\" system \":=^24}][{\" property \":=^94}]',\n",
    "    *[\n",
    "        f'|{f\" {name} \":^24}||{f\" {version} \":^94}|'\n",
    "        for name, version in {\n",
    "            \"Platform\": platform.platform(),\n",
    "            \"CPU\": platform.processor(),\n",
    "            \"CPU HZ\": f'{cpu[\"hz_advertised_friendly\"]} (actual: {cpu[\"hz_actual_friendly\"]})',\n",
    "            \"Python\": sys.version,\n",
    "        }.items()\n",
    "    ],\n",
    "    f'[{\" dependency \":=^24}][{\" version \":=^94}]',\n",
    "    *[\n",
    "        f'|{f\" {name} \":^24}||{f\" {version} \":^94}|'\n",
    "        for name, version in {\n",
    "            \"PyArrow\": pa.__version__,\n",
    "            \"Polars\": pl.__version__,\n",
    "            \"Pandas\": pd.__version__,\n",
    "            \"Numba\": nb.__version__,\n",
    "            \"XLSX2CSV\": xlsx2csv.__version__,\n",
    "            \"OpenPyXL\": openpyxl.__version__,\n",
    "            \"PyXLSB\": pyxlsb.__version__,\n",
    "            \"python_calamine\": \"0.1.7\",  # On 2024-01-20 this package has no `__version__` attribute\n",
    "            \"tqdm\": _tqdm.__version__,\n",
    "            \"recordclass\": recordclass.__version__,\n",
    "            \"lxml\": lxml.__version__,\n",
    "            \"cpuinfo\": \".\".join(map(str, cpuinfo.CPUINFO_VERSION)),\n",
    "            \"memory_profiler\": memory_profiler.__version__,\n",
    "        }.items()\n",
    "    ],\n",
    "    f'[{\"=\":=^24}][{\"=\":=^94}]',\n",
    "    sep=\"\\n\",\n",
    ")"
   ]
  },
  {
   "attachments": {},
   "cell_type": "markdown",
   "metadata": {},
   "source": [
    "## DataSource:\n",
    "\n",
    "Our World In Data: COVID-19\n",
    "\n",
    "https://github.com/owid/covid-19-data/raw/cd68c0641d0837adb62c2ed3146459a593aa776a/public/data/owid-covid-data.csv\n",
    "\n",
    "**I've download this, and save with MS Excel to .xlsx and .xlsb formats using `Legacy` text import wizard (keep errors in columns)**"
   ]
  },
  {
   "cell_type": "code",
   "execution_count": 2,
   "metadata": {
    "notebookRunGroups": {
     "groupValue": "1"
    }
   },
   "outputs": [],
   "source": [
    "# Original CSV file and converted XLSX/XLSB datasets saved in `benchmarks.datasets.7z`\n",
    "XLSX_FILE = \"covid.xlsx\"\n",
    "XLSB_FILE = \"covid.xlsb\""
   ]
  },
  {
   "cell_type": "code",
   "execution_count": 3,
   "metadata": {
    "notebookRunGroups": {
     "groupValue": "1"
    }
   },
   "outputs": [],
   "source": [
    "from IPython.core.display import display_html\n",
    "\n",
    "\n",
    "def show_df(df: pl.DataFrame) -> None:\n",
    "    print(f\"rows: {df.height} columns: {df.width}\")\n",
    "    display_html(df.head())"
   ]
  },
  {
   "attachments": {},
   "cell_type": "markdown",
   "metadata": {},
   "source": [
    "### RXLS. Scan both xlsx and xlsb (*plain = convert all columns to utf8*)"
   ]
  },
  {
   "cell_type": "code",
   "execution_count": 4,
   "metadata": {
    "notebookRunGroups": {
     "groupValue": "1"
    }
   },
   "outputs": [],
   "source": [
    "def scan_rxls_xlsx_plain(path: str = XLSX_FILE) -> pl.DataFrame:\n",
    "    return pl.from_arrow(xl_scan(path, header=True, dtypes=pa.large_string()))  # type: ignore\n",
    "\n",
    "\n",
    "def scan_rxls_xlsb_plain(path: str = XLSB_FILE) -> pl.DataFrame:\n",
    "    return pl.from_arrow(xl_scan(path, header=True, dtypes=pa.large_string()))  # type: ignore\n",
    "\n",
    "\n",
    "def scan_rxls_xlsx(path: str = XLSX_FILE) -> pl.DataFrame:\n",
    "    return pl.from_arrow(xl_scan(path, header=True))  # type: ignore\n",
    "\n",
    "\n",
    "def scan_rxls_xlsb(path: str = XLSB_FILE) -> pl.DataFrame:\n",
    "    return pl.from_arrow(xl_scan(path, header=True))  # type: ignore"
   ]
  },
  {
   "cell_type": "code",
   "execution_count": 10,
   "metadata": {
    "notebookRunGroups": {
     "groupValue": ""
    }
   },
   "outputs": [
    {
     "name": "stdout",
     "output_type": "stream",
     "text": [
      "rows: 276700 columns: 67\n"
     ]
    },
    {
     "data": {
      "text/html": [
       "<div><style>\n",
       ".dataframe > thead > tr,\n",
       ".dataframe > tbody > tr {\n",
       "  text-align: right;\n",
       "  white-space: pre-wrap;\n",
       "}\n",
       "</style>\n",
       "<small>shape: (5, 67)</small><table border=\"1\" class=\"dataframe\"><thead><tr><th>iso_code</th><th>continent</th><th>location</th><th>date</th><th>total_cases</th><th>new_cases</th><th>new_cases_smoothed</th><th>total_deaths</th><th>new_deaths</th><th>new_deaths_smoothed</th><th>total_cases_per_million</th><th>new_cases_per_million</th><th>new_cases_smoothed_per_million</th><th>total_deaths_per_million</th><th>new_deaths_per_million</th><th>new_deaths_smoothed_per_million</th><th>reproduction_rate</th><th>icu_patients</th><th>icu_patients_per_million</th><th>hosp_patients</th><th>hosp_patients_per_million</th><th>weekly_icu_admissions</th><th>weekly_icu_admissions_per_million</th><th>weekly_hosp_admissions</th><th>weekly_hosp_admissions_per_million</th><th>total_tests</th><th>new_tests</th><th>total_tests_per_thousand</th><th>new_tests_per_thousand</th><th>new_tests_smoothed</th><th>new_tests_smoothed_per_thousand</th><th>positive_rate</th><th>tests_per_case</th><th>tests_units</th><th>total_vaccinations</th><th>people_vaccinated</th><th>people_fully_vaccinated</th><th>total_boosters</th><th>new_vaccinations</th><th>new_vaccinations_smoothed</th><th>total_vaccinations_per_hundred</th><th>people_vaccinated_per_hundred</th><th>people_fully_vaccinated_per_hundred</th><th>total_boosters_per_hundred</th><th>new_vaccinations_smoothed_per_million</th><th>new_people_vaccinated_smoothed</th><th>new_people_vaccinated_smoothed_per_hundred</th><th>stringency_index</th><th>population_density</th><th>median_age</th><th>aged_65_older</th><th>aged_70_older</th><th>gdp_per_capita</th><th>extreme_poverty</th><th>cardiovasc_death_rate</th><th>diabetes_prevalence</th><th>female_smokers</th><th>male_smokers</th><th>handwashing_facilities</th><th>hospital_beds_per_thousand</th><th>life_expectancy</th><th>human_development_index</th><th>population</th><th>excess_mortality_cumulative_absolute</th><th>excess_mortality_cumulative</th><th>excess_mortality</th><th>excess_mortality_cumulative_per_million</th></tr><tr><td>str</td><td>str</td><td>str</td><td>str</td><td>str</td><td>str</td><td>str</td><td>str</td><td>str</td><td>str</td><td>str</td><td>str</td><td>str</td><td>str</td><td>str</td><td>str</td><td>str</td><td>str</td><td>str</td><td>str</td><td>str</td><td>str</td><td>str</td><td>str</td><td>str</td><td>str</td><td>str</td><td>str</td><td>str</td><td>str</td><td>str</td><td>str</td><td>str</td><td>str</td><td>str</td><td>str</td><td>str</td><td>str</td><td>str</td><td>str</td><td>str</td><td>str</td><td>str</td><td>str</td><td>str</td><td>str</td><td>str</td><td>str</td><td>str</td><td>str</td><td>str</td><td>str</td><td>str</td><td>str</td><td>str</td><td>str</td><td>str</td><td>str</td><td>str</td><td>str</td><td>str</td><td>str</td><td>str</td><td>str</td><td>str</td><td>str</td><td>str</td></tr></thead><tbody><tr><td>&quot;AFG&quot;</td><td>&quot;Asia&quot;</td><td>&quot;Afghanistan&quot;</td><td>&quot;2020-01-05 00:…</td><td>null</td><td>&quot;0.0&quot;</td><td>null</td><td>null</td><td>&quot;0.0&quot;</td><td>null</td><td>null</td><td>&quot;0.0&quot;</td><td>null</td><td>null</td><td>&quot;0.0&quot;</td><td>null</td><td>null</td><td>null</td><td>null</td><td>null</td><td>null</td><td>null</td><td>null</td><td>null</td><td>null</td><td>null</td><td>null</td><td>null</td><td>null</td><td>null</td><td>null</td><td>null</td><td>null</td><td>null</td><td>null</td><td>null</td><td>null</td><td>null</td><td>null</td><td>null</td><td>null</td><td>null</td><td>null</td><td>null</td><td>null</td><td>null</td><td>null</td><td>&quot;0.0&quot;</td><td>&quot;54.422&quot;</td><td>&quot;2024-06-18 00:…</td><td>&quot;2.581&quot;</td><td>&quot;1.337&quot;</td><td>&quot;1803.987&quot;</td><td>null</td><td>&quot;597.029&quot;</td><td>&quot;1959-09-01 00:…</td><td>null</td><td>null</td><td>&quot;37.746&quot;</td><td>&quot;0.5&quot;</td><td>&quot;64.83&quot;</td><td>&quot;0.511&quot;</td><td>&quot;41128772.0&quot;</td><td>null</td><td>null</td><td>null</td><td>null</td></tr><tr><td>&quot;AFG&quot;</td><td>&quot;Asia&quot;</td><td>&quot;Afghanistan&quot;</td><td>&quot;2020-01-12 00:…</td><td>null</td><td>&quot;0.0&quot;</td><td>null</td><td>null</td><td>&quot;0.0&quot;</td><td>null</td><td>null</td><td>&quot;0.0&quot;</td><td>null</td><td>null</td><td>&quot;0.0&quot;</td><td>null</td><td>null</td><td>null</td><td>null</td><td>null</td><td>null</td><td>null</td><td>null</td><td>null</td><td>null</td><td>null</td><td>null</td><td>null</td><td>null</td><td>null</td><td>null</td><td>null</td><td>null</td><td>null</td><td>null</td><td>null</td><td>null</td><td>null</td><td>null</td><td>null</td><td>null</td><td>null</td><td>null</td><td>null</td><td>null</td><td>null</td><td>null</td><td>&quot;0.0&quot;</td><td>&quot;54.422&quot;</td><td>&quot;2024-06-18 00:…</td><td>&quot;2.581&quot;</td><td>&quot;1.337&quot;</td><td>&quot;1803.987&quot;</td><td>null</td><td>&quot;597.029&quot;</td><td>&quot;1959-09-01 00:…</td><td>null</td><td>null</td><td>&quot;37.746&quot;</td><td>&quot;0.5&quot;</td><td>&quot;64.83&quot;</td><td>&quot;0.511&quot;</td><td>&quot;41128772.0&quot;</td><td>null</td><td>null</td><td>null</td><td>null</td></tr><tr><td>&quot;AFG&quot;</td><td>&quot;Asia&quot;</td><td>&quot;Afghanistan&quot;</td><td>&quot;2020-01-19 00:…</td><td>null</td><td>&quot;0.0&quot;</td><td>null</td><td>null</td><td>&quot;0.0&quot;</td><td>null</td><td>null</td><td>&quot;0.0&quot;</td><td>null</td><td>null</td><td>&quot;0.0&quot;</td><td>null</td><td>null</td><td>null</td><td>null</td><td>null</td><td>null</td><td>null</td><td>null</td><td>null</td><td>null</td><td>null</td><td>null</td><td>null</td><td>null</td><td>null</td><td>null</td><td>null</td><td>null</td><td>null</td><td>null</td><td>null</td><td>null</td><td>null</td><td>null</td><td>null</td><td>null</td><td>null</td><td>null</td><td>null</td><td>null</td><td>null</td><td>null</td><td>&quot;0.0&quot;</td><td>&quot;54.422&quot;</td><td>&quot;2024-06-18 00:…</td><td>&quot;2.581&quot;</td><td>&quot;1.337&quot;</td><td>&quot;1803.987&quot;</td><td>null</td><td>&quot;597.029&quot;</td><td>&quot;1959-09-01 00:…</td><td>null</td><td>null</td><td>&quot;37.746&quot;</td><td>&quot;0.5&quot;</td><td>&quot;64.83&quot;</td><td>&quot;0.511&quot;</td><td>&quot;41128772.0&quot;</td><td>null</td><td>null</td><td>null</td><td>null</td></tr><tr><td>&quot;AFG&quot;</td><td>&quot;Asia&quot;</td><td>&quot;Afghanistan&quot;</td><td>&quot;2020-01-26 00:…</td><td>null</td><td>&quot;0.0&quot;</td><td>null</td><td>null</td><td>&quot;0.0&quot;</td><td>null</td><td>null</td><td>&quot;0.0&quot;</td><td>null</td><td>null</td><td>&quot;0.0&quot;</td><td>null</td><td>null</td><td>null</td><td>null</td><td>null</td><td>null</td><td>null</td><td>null</td><td>null</td><td>null</td><td>null</td><td>null</td><td>null</td><td>null</td><td>null</td><td>null</td><td>null</td><td>null</td><td>null</td><td>null</td><td>null</td><td>null</td><td>null</td><td>null</td><td>null</td><td>null</td><td>null</td><td>null</td><td>null</td><td>null</td><td>null</td><td>null</td><td>&quot;0.0&quot;</td><td>&quot;54.422&quot;</td><td>&quot;2024-06-18 00:…</td><td>&quot;2.581&quot;</td><td>&quot;1.337&quot;</td><td>&quot;1803.987&quot;</td><td>null</td><td>&quot;597.029&quot;</td><td>&quot;1959-09-01 00:…</td><td>null</td><td>null</td><td>&quot;37.746&quot;</td><td>&quot;0.5&quot;</td><td>&quot;64.83&quot;</td><td>&quot;0.511&quot;</td><td>&quot;41128772.0&quot;</td><td>null</td><td>null</td><td>null</td><td>null</td></tr><tr><td>&quot;AFG&quot;</td><td>&quot;Asia&quot;</td><td>&quot;Afghanistan&quot;</td><td>&quot;2020-02-02 00:…</td><td>null</td><td>&quot;0.0&quot;</td><td>null</td><td>null</td><td>&quot;0.0&quot;</td><td>null</td><td>null</td><td>&quot;0.0&quot;</td><td>null</td><td>null</td><td>&quot;0.0&quot;</td><td>null</td><td>null</td><td>null</td><td>null</td><td>null</td><td>null</td><td>null</td><td>null</td><td>null</td><td>null</td><td>null</td><td>null</td><td>null</td><td>null</td><td>null</td><td>null</td><td>null</td><td>null</td><td>null</td><td>null</td><td>null</td><td>null</td><td>null</td><td>null</td><td>null</td><td>null</td><td>null</td><td>null</td><td>null</td><td>null</td><td>null</td><td>null</td><td>&quot;0.0&quot;</td><td>&quot;54.422&quot;</td><td>&quot;2024-06-18 00:…</td><td>&quot;2.581&quot;</td><td>&quot;1.337&quot;</td><td>&quot;1803.987&quot;</td><td>null</td><td>&quot;597.029&quot;</td><td>&quot;1959-09-01 00:…</td><td>null</td><td>null</td><td>&quot;37.746&quot;</td><td>&quot;0.5&quot;</td><td>&quot;64.83&quot;</td><td>&quot;0.511&quot;</td><td>&quot;41128772.0&quot;</td><td>null</td><td>null</td><td>null</td><td>null</td></tr></tbody></table></div>"
      ]
     },
     "metadata": {},
     "output_type": "display_data"
    }
   ],
   "source": [
    "show_df(scan_rxls_xlsx_plain())\n",
    "# 2m 2.2s (276700 rows, 67 columns)"
   ]
  },
  {
   "cell_type": "code",
   "execution_count": 10,
   "metadata": {
    "notebookRunGroups": {
     "groupValue": ""
    }
   },
   "outputs": [
    {
     "name": "stdout",
     "output_type": "stream",
     "text": [
      "rows: 276700 columns: 67\n"
     ]
    },
    {
     "data": {
      "text/html": [
       "<div><style>\n",
       ".dataframe > thead > tr,\n",
       ".dataframe > tbody > tr {\n",
       "  text-align: right;\n",
       "  white-space: pre-wrap;\n",
       "}\n",
       "</style>\n",
       "<small>shape: (5, 67)</small><table border=\"1\" class=\"dataframe\"><thead><tr><th>iso_code</th><th>continent</th><th>location</th><th>date</th><th>total_cases</th><th>new_cases</th><th>new_cases_smoothed</th><th>total_deaths</th><th>new_deaths</th><th>new_deaths_smoothed</th><th>total_cases_per_million</th><th>new_cases_per_million</th><th>new_cases_smoothed_per_million</th><th>total_deaths_per_million</th><th>new_deaths_per_million</th><th>new_deaths_smoothed_per_million</th><th>reproduction_rate</th><th>icu_patients</th><th>icu_patients_per_million</th><th>hosp_patients</th><th>hosp_patients_per_million</th><th>weekly_icu_admissions</th><th>weekly_icu_admissions_per_million</th><th>weekly_hosp_admissions</th><th>weekly_hosp_admissions_per_million</th><th>total_tests</th><th>new_tests</th><th>total_tests_per_thousand</th><th>new_tests_per_thousand</th><th>new_tests_smoothed</th><th>new_tests_smoothed_per_thousand</th><th>positive_rate</th><th>tests_per_case</th><th>tests_units</th><th>total_vaccinations</th><th>people_vaccinated</th><th>people_fully_vaccinated</th><th>total_boosters</th><th>new_vaccinations</th><th>new_vaccinations_smoothed</th><th>total_vaccinations_per_hundred</th><th>people_vaccinated_per_hundred</th><th>people_fully_vaccinated_per_hundred</th><th>total_boosters_per_hundred</th><th>new_vaccinations_smoothed_per_million</th><th>new_people_vaccinated_smoothed</th><th>new_people_vaccinated_smoothed_per_hundred</th><th>stringency_index</th><th>population_density</th><th>median_age</th><th>aged_65_older</th><th>aged_70_older</th><th>gdp_per_capita</th><th>extreme_poverty</th><th>cardiovasc_death_rate</th><th>diabetes_prevalence</th><th>female_smokers</th><th>male_smokers</th><th>handwashing_facilities</th><th>hospital_beds_per_thousand</th><th>life_expectancy</th><th>human_development_index</th><th>population</th><th>excess_mortality_cumulative_absolute</th><th>excess_mortality_cumulative</th><th>excess_mortality</th><th>excess_mortality_cumulative_per_million</th></tr><tr><td>str</td><td>str</td><td>str</td><td>str</td><td>str</td><td>str</td><td>str</td><td>str</td><td>str</td><td>str</td><td>str</td><td>str</td><td>str</td><td>str</td><td>str</td><td>str</td><td>str</td><td>str</td><td>str</td><td>str</td><td>str</td><td>str</td><td>str</td><td>str</td><td>str</td><td>str</td><td>str</td><td>str</td><td>str</td><td>str</td><td>str</td><td>str</td><td>str</td><td>str</td><td>str</td><td>str</td><td>str</td><td>str</td><td>str</td><td>str</td><td>str</td><td>str</td><td>str</td><td>str</td><td>str</td><td>str</td><td>str</td><td>str</td><td>str</td><td>str</td><td>str</td><td>str</td><td>str</td><td>str</td><td>str</td><td>str</td><td>str</td><td>str</td><td>str</td><td>str</td><td>str</td><td>str</td><td>str</td><td>str</td><td>str</td><td>str</td><td>str</td></tr></thead><tbody><tr><td>&quot;AFG&quot;</td><td>&quot;Asia&quot;</td><td>&quot;Afghanistan&quot;</td><td>&quot;2020-01-05 00:…</td><td>null</td><td>&quot;0.0&quot;</td><td>null</td><td>null</td><td>&quot;0.0&quot;</td><td>null</td><td>null</td><td>&quot;0.0&quot;</td><td>null</td><td>null</td><td>&quot;0.0&quot;</td><td>null</td><td>null</td><td>null</td><td>null</td><td>null</td><td>null</td><td>null</td><td>null</td><td>null</td><td>null</td><td>null</td><td>null</td><td>null</td><td>null</td><td>null</td><td>null</td><td>null</td><td>null</td><td>null</td><td>null</td><td>null</td><td>null</td><td>null</td><td>null</td><td>null</td><td>null</td><td>null</td><td>null</td><td>null</td><td>null</td><td>null</td><td>null</td><td>&quot;0.0&quot;</td><td>&quot;54.422&quot;</td><td>&quot;2024-06-18 00:…</td><td>&quot;2.581&quot;</td><td>&quot;1.337&quot;</td><td>&quot;1803.987&quot;</td><td>null</td><td>&quot;597.029&quot;</td><td>&quot;1959-09-01 00:…</td><td>null</td><td>null</td><td>&quot;37.746&quot;</td><td>&quot;0.5&quot;</td><td>&quot;64.83&quot;</td><td>&quot;0.511&quot;</td><td>&quot;41128772.0&quot;</td><td>null</td><td>null</td><td>null</td><td>null</td></tr><tr><td>&quot;AFG&quot;</td><td>&quot;Asia&quot;</td><td>&quot;Afghanistan&quot;</td><td>&quot;2020-01-12 00:…</td><td>null</td><td>&quot;0.0&quot;</td><td>null</td><td>null</td><td>&quot;0.0&quot;</td><td>null</td><td>null</td><td>&quot;0.0&quot;</td><td>null</td><td>null</td><td>&quot;0.0&quot;</td><td>null</td><td>null</td><td>null</td><td>null</td><td>null</td><td>null</td><td>null</td><td>null</td><td>null</td><td>null</td><td>null</td><td>null</td><td>null</td><td>null</td><td>null</td><td>null</td><td>null</td><td>null</td><td>null</td><td>null</td><td>null</td><td>null</td><td>null</td><td>null</td><td>null</td><td>null</td><td>null</td><td>null</td><td>null</td><td>null</td><td>null</td><td>null</td><td>&quot;0.0&quot;</td><td>&quot;54.422&quot;</td><td>&quot;2024-06-18 00:…</td><td>&quot;2.581&quot;</td><td>&quot;1.337&quot;</td><td>&quot;1803.987&quot;</td><td>null</td><td>&quot;597.029&quot;</td><td>&quot;1959-09-01 00:…</td><td>null</td><td>null</td><td>&quot;37.746&quot;</td><td>&quot;0.5&quot;</td><td>&quot;64.83&quot;</td><td>&quot;0.511&quot;</td><td>&quot;41128772.0&quot;</td><td>null</td><td>null</td><td>null</td><td>null</td></tr><tr><td>&quot;AFG&quot;</td><td>&quot;Asia&quot;</td><td>&quot;Afghanistan&quot;</td><td>&quot;2020-01-19 00:…</td><td>null</td><td>&quot;0.0&quot;</td><td>null</td><td>null</td><td>&quot;0.0&quot;</td><td>null</td><td>null</td><td>&quot;0.0&quot;</td><td>null</td><td>null</td><td>&quot;0.0&quot;</td><td>null</td><td>null</td><td>null</td><td>null</td><td>null</td><td>null</td><td>null</td><td>null</td><td>null</td><td>null</td><td>null</td><td>null</td><td>null</td><td>null</td><td>null</td><td>null</td><td>null</td><td>null</td><td>null</td><td>null</td><td>null</td><td>null</td><td>null</td><td>null</td><td>null</td><td>null</td><td>null</td><td>null</td><td>null</td><td>null</td><td>null</td><td>null</td><td>&quot;0.0&quot;</td><td>&quot;54.422&quot;</td><td>&quot;2024-06-18 00:…</td><td>&quot;2.581&quot;</td><td>&quot;1.337&quot;</td><td>&quot;1803.987&quot;</td><td>null</td><td>&quot;597.029&quot;</td><td>&quot;1959-09-01 00:…</td><td>null</td><td>null</td><td>&quot;37.746&quot;</td><td>&quot;0.5&quot;</td><td>&quot;64.83&quot;</td><td>&quot;0.511&quot;</td><td>&quot;41128772.0&quot;</td><td>null</td><td>null</td><td>null</td><td>null</td></tr><tr><td>&quot;AFG&quot;</td><td>&quot;Asia&quot;</td><td>&quot;Afghanistan&quot;</td><td>&quot;2020-01-26 00:…</td><td>null</td><td>&quot;0.0&quot;</td><td>null</td><td>null</td><td>&quot;0.0&quot;</td><td>null</td><td>null</td><td>&quot;0.0&quot;</td><td>null</td><td>null</td><td>&quot;0.0&quot;</td><td>null</td><td>null</td><td>null</td><td>null</td><td>null</td><td>null</td><td>null</td><td>null</td><td>null</td><td>null</td><td>null</td><td>null</td><td>null</td><td>null</td><td>null</td><td>null</td><td>null</td><td>null</td><td>null</td><td>null</td><td>null</td><td>null</td><td>null</td><td>null</td><td>null</td><td>null</td><td>null</td><td>null</td><td>null</td><td>null</td><td>null</td><td>null</td><td>&quot;0.0&quot;</td><td>&quot;54.422&quot;</td><td>&quot;2024-06-18 00:…</td><td>&quot;2.581&quot;</td><td>&quot;1.337&quot;</td><td>&quot;1803.987&quot;</td><td>null</td><td>&quot;597.029&quot;</td><td>&quot;1959-09-01 00:…</td><td>null</td><td>null</td><td>&quot;37.746&quot;</td><td>&quot;0.5&quot;</td><td>&quot;64.83&quot;</td><td>&quot;0.511&quot;</td><td>&quot;41128772.0&quot;</td><td>null</td><td>null</td><td>null</td><td>null</td></tr><tr><td>&quot;AFG&quot;</td><td>&quot;Asia&quot;</td><td>&quot;Afghanistan&quot;</td><td>&quot;2020-02-02 00:…</td><td>null</td><td>&quot;0.0&quot;</td><td>null</td><td>null</td><td>&quot;0.0&quot;</td><td>null</td><td>null</td><td>&quot;0.0&quot;</td><td>null</td><td>null</td><td>&quot;0.0&quot;</td><td>null</td><td>null</td><td>null</td><td>null</td><td>null</td><td>null</td><td>null</td><td>null</td><td>null</td><td>null</td><td>null</td><td>null</td><td>null</td><td>null</td><td>null</td><td>null</td><td>null</td><td>null</td><td>null</td><td>null</td><td>null</td><td>null</td><td>null</td><td>null</td><td>null</td><td>null</td><td>null</td><td>null</td><td>null</td><td>null</td><td>null</td><td>null</td><td>&quot;0.0&quot;</td><td>&quot;54.422&quot;</td><td>&quot;2024-06-18 00:…</td><td>&quot;2.581&quot;</td><td>&quot;1.337&quot;</td><td>&quot;1803.987&quot;</td><td>null</td><td>&quot;597.029&quot;</td><td>&quot;1959-09-01 00:…</td><td>null</td><td>null</td><td>&quot;37.746&quot;</td><td>&quot;0.5&quot;</td><td>&quot;64.83&quot;</td><td>&quot;0.511&quot;</td><td>&quot;41128772.0&quot;</td><td>null</td><td>null</td><td>null</td><td>null</td></tr></tbody></table></div>"
      ]
     },
     "metadata": {},
     "output_type": "display_data"
    }
   ],
   "source": [
    "show_df(scan_rxls_xlsb_plain())\n",
    "# 1m 28.0s (276700 rows, 67 columns)"
   ]
  },
  {
   "cell_type": "code",
   "execution_count": 10,
   "metadata": {
    "notebookRunGroups": {
     "groupValue": ""
    }
   },
   "outputs": [
    {
     "name": "stdout",
     "output_type": "stream",
     "text": [
      "rows: 276700 columns: 67\n"
     ]
    },
    {
     "data": {
      "text/html": [
       "<div><style>\n",
       ".dataframe > thead > tr,\n",
       ".dataframe > tbody > tr {\n",
       "  text-align: right;\n",
       "  white-space: pre-wrap;\n",
       "}\n",
       "</style>\n",
       "<small>shape: (5, 67)</small><table border=\"1\" class=\"dataframe\"><thead><tr><th>iso_code</th><th>continent</th><th>location</th><th>date</th><th>total_cases</th><th>new_cases</th><th>new_cases_smoothed</th><th>total_deaths</th><th>new_deaths</th><th>new_deaths_smoothed</th><th>total_cases_per_million</th><th>new_cases_per_million</th><th>new_cases_smoothed_per_million</th><th>total_deaths_per_million</th><th>new_deaths_per_million</th><th>new_deaths_smoothed_per_million</th><th>reproduction_rate</th><th>icu_patients</th><th>icu_patients_per_million</th><th>hosp_patients</th><th>hosp_patients_per_million</th><th>weekly_icu_admissions</th><th>weekly_icu_admissions_per_million</th><th>weekly_hosp_admissions</th><th>weekly_hosp_admissions_per_million</th><th>total_tests</th><th>new_tests</th><th>total_tests_per_thousand</th><th>new_tests_per_thousand</th><th>new_tests_smoothed</th><th>new_tests_smoothed_per_thousand</th><th>positive_rate</th><th>tests_per_case</th><th>tests_units</th><th>total_vaccinations</th><th>people_vaccinated</th><th>people_fully_vaccinated</th><th>total_boosters</th><th>new_vaccinations</th><th>new_vaccinations_smoothed</th><th>total_vaccinations_per_hundred</th><th>people_vaccinated_per_hundred</th><th>people_fully_vaccinated_per_hundred</th><th>total_boosters_per_hundred</th><th>new_vaccinations_smoothed_per_million</th><th>new_people_vaccinated_smoothed</th><th>new_people_vaccinated_smoothed_per_hundred</th><th>stringency_index</th><th>population_density</th><th>median_age</th><th>aged_65_older</th><th>aged_70_older</th><th>gdp_per_capita</th><th>extreme_poverty</th><th>cardiovasc_death_rate</th><th>diabetes_prevalence</th><th>female_smokers</th><th>male_smokers</th><th>handwashing_facilities</th><th>hospital_beds_per_thousand</th><th>life_expectancy</th><th>human_development_index</th><th>population</th><th>excess_mortality_cumulative_absolute</th><th>excess_mortality_cumulative</th><th>excess_mortality</th><th>excess_mortality_cumulative_per_million</th></tr><tr><td>str</td><td>str</td><td>str</td><td>datetime[ms]</td><td>str</td><td>str</td><td>str</td><td>str</td><td>str</td><td>str</td><td>str</td><td>str</td><td>str</td><td>str</td><td>str</td><td>str</td><td>str</td><td>str</td><td>str</td><td>str</td><td>str</td><td>str</td><td>str</td><td>str</td><td>str</td><td>str</td><td>str</td><td>str</td><td>str</td><td>str</td><td>str</td><td>str</td><td>str</td><td>str</td><td>str</td><td>str</td><td>str</td><td>str</td><td>str</td><td>str</td><td>str</td><td>str</td><td>str</td><td>str</td><td>str</td><td>str</td><td>str</td><td>str</td><td>str</td><td>str</td><td>str</td><td>str</td><td>str</td><td>str</td><td>str</td><td>str</td><td>str</td><td>str</td><td>str</td><td>str</td><td>str</td><td>str</td><td>str</td><td>str</td><td>str</td><td>str</td><td>str</td></tr></thead><tbody><tr><td>&quot;AFG&quot;</td><td>&quot;Asia&quot;</td><td>&quot;Afghanistan&quot;</td><td>2020-01-05 00:00:00</td><td>null</td><td>&quot;0.0&quot;</td><td>null</td><td>null</td><td>&quot;0.0&quot;</td><td>null</td><td>null</td><td>&quot;0.0&quot;</td><td>null</td><td>null</td><td>&quot;0.0&quot;</td><td>null</td><td>null</td><td>null</td><td>null</td><td>null</td><td>null</td><td>null</td><td>null</td><td>null</td><td>null</td><td>null</td><td>null</td><td>null</td><td>null</td><td>null</td><td>null</td><td>null</td><td>null</td><td>null</td><td>null</td><td>null</td><td>null</td><td>null</td><td>null</td><td>null</td><td>null</td><td>null</td><td>null</td><td>null</td><td>null</td><td>null</td><td>null</td><td>&quot;0.0&quot;</td><td>&quot;54.422&quot;</td><td>&quot;2024-06-18 00:…</td><td>&quot;2.581&quot;</td><td>&quot;1.337&quot;</td><td>&quot;1803.987&quot;</td><td>null</td><td>&quot;597.029&quot;</td><td>&quot;1959-09-01 00:…</td><td>null</td><td>null</td><td>&quot;37.746&quot;</td><td>&quot;0.5&quot;</td><td>&quot;64.83&quot;</td><td>&quot;0.511&quot;</td><td>&quot;41128772.0&quot;</td><td>null</td><td>null</td><td>null</td><td>null</td></tr><tr><td>&quot;AFG&quot;</td><td>&quot;Asia&quot;</td><td>&quot;Afghanistan&quot;</td><td>2020-01-12 00:00:00</td><td>null</td><td>&quot;0.0&quot;</td><td>null</td><td>null</td><td>&quot;0.0&quot;</td><td>null</td><td>null</td><td>&quot;0.0&quot;</td><td>null</td><td>null</td><td>&quot;0.0&quot;</td><td>null</td><td>null</td><td>null</td><td>null</td><td>null</td><td>null</td><td>null</td><td>null</td><td>null</td><td>null</td><td>null</td><td>null</td><td>null</td><td>null</td><td>null</td><td>null</td><td>null</td><td>null</td><td>null</td><td>null</td><td>null</td><td>null</td><td>null</td><td>null</td><td>null</td><td>null</td><td>null</td><td>null</td><td>null</td><td>null</td><td>null</td><td>null</td><td>&quot;0.0&quot;</td><td>&quot;54.422&quot;</td><td>&quot;2024-06-18 00:…</td><td>&quot;2.581&quot;</td><td>&quot;1.337&quot;</td><td>&quot;1803.987&quot;</td><td>null</td><td>&quot;597.029&quot;</td><td>&quot;1959-09-01 00:…</td><td>null</td><td>null</td><td>&quot;37.746&quot;</td><td>&quot;0.5&quot;</td><td>&quot;64.83&quot;</td><td>&quot;0.511&quot;</td><td>&quot;41128772.0&quot;</td><td>null</td><td>null</td><td>null</td><td>null</td></tr><tr><td>&quot;AFG&quot;</td><td>&quot;Asia&quot;</td><td>&quot;Afghanistan&quot;</td><td>2020-01-19 00:00:00</td><td>null</td><td>&quot;0.0&quot;</td><td>null</td><td>null</td><td>&quot;0.0&quot;</td><td>null</td><td>null</td><td>&quot;0.0&quot;</td><td>null</td><td>null</td><td>&quot;0.0&quot;</td><td>null</td><td>null</td><td>null</td><td>null</td><td>null</td><td>null</td><td>null</td><td>null</td><td>null</td><td>null</td><td>null</td><td>null</td><td>null</td><td>null</td><td>null</td><td>null</td><td>null</td><td>null</td><td>null</td><td>null</td><td>null</td><td>null</td><td>null</td><td>null</td><td>null</td><td>null</td><td>null</td><td>null</td><td>null</td><td>null</td><td>null</td><td>null</td><td>&quot;0.0&quot;</td><td>&quot;54.422&quot;</td><td>&quot;2024-06-18 00:…</td><td>&quot;2.581&quot;</td><td>&quot;1.337&quot;</td><td>&quot;1803.987&quot;</td><td>null</td><td>&quot;597.029&quot;</td><td>&quot;1959-09-01 00:…</td><td>null</td><td>null</td><td>&quot;37.746&quot;</td><td>&quot;0.5&quot;</td><td>&quot;64.83&quot;</td><td>&quot;0.511&quot;</td><td>&quot;41128772.0&quot;</td><td>null</td><td>null</td><td>null</td><td>null</td></tr><tr><td>&quot;AFG&quot;</td><td>&quot;Asia&quot;</td><td>&quot;Afghanistan&quot;</td><td>2020-01-26 00:00:00</td><td>null</td><td>&quot;0.0&quot;</td><td>null</td><td>null</td><td>&quot;0.0&quot;</td><td>null</td><td>null</td><td>&quot;0.0&quot;</td><td>null</td><td>null</td><td>&quot;0.0&quot;</td><td>null</td><td>null</td><td>null</td><td>null</td><td>null</td><td>null</td><td>null</td><td>null</td><td>null</td><td>null</td><td>null</td><td>null</td><td>null</td><td>null</td><td>null</td><td>null</td><td>null</td><td>null</td><td>null</td><td>null</td><td>null</td><td>null</td><td>null</td><td>null</td><td>null</td><td>null</td><td>null</td><td>null</td><td>null</td><td>null</td><td>null</td><td>null</td><td>&quot;0.0&quot;</td><td>&quot;54.422&quot;</td><td>&quot;2024-06-18 00:…</td><td>&quot;2.581&quot;</td><td>&quot;1.337&quot;</td><td>&quot;1803.987&quot;</td><td>null</td><td>&quot;597.029&quot;</td><td>&quot;1959-09-01 00:…</td><td>null</td><td>null</td><td>&quot;37.746&quot;</td><td>&quot;0.5&quot;</td><td>&quot;64.83&quot;</td><td>&quot;0.511&quot;</td><td>&quot;41128772.0&quot;</td><td>null</td><td>null</td><td>null</td><td>null</td></tr><tr><td>&quot;AFG&quot;</td><td>&quot;Asia&quot;</td><td>&quot;Afghanistan&quot;</td><td>2020-02-02 00:00:00</td><td>null</td><td>&quot;0.0&quot;</td><td>null</td><td>null</td><td>&quot;0.0&quot;</td><td>null</td><td>null</td><td>&quot;0.0&quot;</td><td>null</td><td>null</td><td>&quot;0.0&quot;</td><td>null</td><td>null</td><td>null</td><td>null</td><td>null</td><td>null</td><td>null</td><td>null</td><td>null</td><td>null</td><td>null</td><td>null</td><td>null</td><td>null</td><td>null</td><td>null</td><td>null</td><td>null</td><td>null</td><td>null</td><td>null</td><td>null</td><td>null</td><td>null</td><td>null</td><td>null</td><td>null</td><td>null</td><td>null</td><td>null</td><td>null</td><td>null</td><td>&quot;0.0&quot;</td><td>&quot;54.422&quot;</td><td>&quot;2024-06-18 00:…</td><td>&quot;2.581&quot;</td><td>&quot;1.337&quot;</td><td>&quot;1803.987&quot;</td><td>null</td><td>&quot;597.029&quot;</td><td>&quot;1959-09-01 00:…</td><td>null</td><td>null</td><td>&quot;37.746&quot;</td><td>&quot;0.5&quot;</td><td>&quot;64.83&quot;</td><td>&quot;0.511&quot;</td><td>&quot;41128772.0&quot;</td><td>null</td><td>null</td><td>null</td><td>null</td></tr></tbody></table></div>"
      ]
     },
     "metadata": {},
     "output_type": "display_data"
    }
   ],
   "source": [
    "show_df(scan_rxls_xlsx())\n",
    "# 2m 3.7s (276700 rows, 67 columns)"
   ]
  },
  {
   "cell_type": "code",
   "execution_count": 10,
   "metadata": {
    "notebookRunGroups": {
     "groupValue": ""
    }
   },
   "outputs": [
    {
     "name": "stdout",
     "output_type": "stream",
     "text": [
      "rows: 276700 columns: 67\n"
     ]
    },
    {
     "data": {
      "text/html": [
       "<div><style>\n",
       ".dataframe > thead > tr,\n",
       ".dataframe > tbody > tr {\n",
       "  text-align: right;\n",
       "  white-space: pre-wrap;\n",
       "}\n",
       "</style>\n",
       "<small>shape: (5, 67)</small><table border=\"1\" class=\"dataframe\"><thead><tr><th>iso_code</th><th>continent</th><th>location</th><th>date</th><th>total_cases</th><th>new_cases</th><th>new_cases_smoothed</th><th>total_deaths</th><th>new_deaths</th><th>new_deaths_smoothed</th><th>total_cases_per_million</th><th>new_cases_per_million</th><th>new_cases_smoothed_per_million</th><th>total_deaths_per_million</th><th>new_deaths_per_million</th><th>new_deaths_smoothed_per_million</th><th>reproduction_rate</th><th>icu_patients</th><th>icu_patients_per_million</th><th>hosp_patients</th><th>hosp_patients_per_million</th><th>weekly_icu_admissions</th><th>weekly_icu_admissions_per_million</th><th>weekly_hosp_admissions</th><th>weekly_hosp_admissions_per_million</th><th>total_tests</th><th>new_tests</th><th>total_tests_per_thousand</th><th>new_tests_per_thousand</th><th>new_tests_smoothed</th><th>new_tests_smoothed_per_thousand</th><th>positive_rate</th><th>tests_per_case</th><th>tests_units</th><th>total_vaccinations</th><th>people_vaccinated</th><th>people_fully_vaccinated</th><th>total_boosters</th><th>new_vaccinations</th><th>new_vaccinations_smoothed</th><th>total_vaccinations_per_hundred</th><th>people_vaccinated_per_hundred</th><th>people_fully_vaccinated_per_hundred</th><th>total_boosters_per_hundred</th><th>new_vaccinations_smoothed_per_million</th><th>new_people_vaccinated_smoothed</th><th>new_people_vaccinated_smoothed_per_hundred</th><th>stringency_index</th><th>population_density</th><th>median_age</th><th>aged_65_older</th><th>aged_70_older</th><th>gdp_per_capita</th><th>extreme_poverty</th><th>cardiovasc_death_rate</th><th>diabetes_prevalence</th><th>female_smokers</th><th>male_smokers</th><th>handwashing_facilities</th><th>hospital_beds_per_thousand</th><th>life_expectancy</th><th>human_development_index</th><th>population</th><th>excess_mortality_cumulative_absolute</th><th>excess_mortality_cumulative</th><th>excess_mortality</th><th>excess_mortality_cumulative_per_million</th></tr><tr><td>str</td><td>str</td><td>str</td><td>datetime[ms]</td><td>str</td><td>str</td><td>str</td><td>str</td><td>str</td><td>str</td><td>str</td><td>str</td><td>str</td><td>str</td><td>str</td><td>str</td><td>str</td><td>str</td><td>str</td><td>str</td><td>str</td><td>str</td><td>str</td><td>str</td><td>str</td><td>str</td><td>str</td><td>str</td><td>str</td><td>str</td><td>str</td><td>str</td><td>str</td><td>str</td><td>str</td><td>str</td><td>str</td><td>str</td><td>str</td><td>str</td><td>str</td><td>str</td><td>str</td><td>str</td><td>str</td><td>str</td><td>str</td><td>str</td><td>str</td><td>str</td><td>str</td><td>str</td><td>str</td><td>str</td><td>str</td><td>str</td><td>str</td><td>str</td><td>str</td><td>str</td><td>str</td><td>str</td><td>str</td><td>str</td><td>str</td><td>str</td><td>str</td></tr></thead><tbody><tr><td>&quot;AFG&quot;</td><td>&quot;Asia&quot;</td><td>&quot;Afghanistan&quot;</td><td>2020-01-05 00:00:00</td><td>null</td><td>&quot;0.0&quot;</td><td>null</td><td>null</td><td>&quot;0.0&quot;</td><td>null</td><td>null</td><td>&quot;0.0&quot;</td><td>null</td><td>null</td><td>&quot;0.0&quot;</td><td>null</td><td>null</td><td>null</td><td>null</td><td>null</td><td>null</td><td>null</td><td>null</td><td>null</td><td>null</td><td>null</td><td>null</td><td>null</td><td>null</td><td>null</td><td>null</td><td>null</td><td>null</td><td>null</td><td>null</td><td>null</td><td>null</td><td>null</td><td>null</td><td>null</td><td>null</td><td>null</td><td>null</td><td>null</td><td>null</td><td>null</td><td>null</td><td>&quot;0.0&quot;</td><td>&quot;54.422&quot;</td><td>&quot;2024-06-18 00:…</td><td>&quot;2.581&quot;</td><td>&quot;1.337&quot;</td><td>&quot;1803.987&quot;</td><td>null</td><td>&quot;597.029&quot;</td><td>&quot;1959-09-01 00:…</td><td>null</td><td>null</td><td>&quot;37.746&quot;</td><td>&quot;0.5&quot;</td><td>&quot;64.83&quot;</td><td>&quot;0.511&quot;</td><td>&quot;41128772.0&quot;</td><td>null</td><td>null</td><td>null</td><td>null</td></tr><tr><td>&quot;AFG&quot;</td><td>&quot;Asia&quot;</td><td>&quot;Afghanistan&quot;</td><td>2020-01-12 00:00:00</td><td>null</td><td>&quot;0.0&quot;</td><td>null</td><td>null</td><td>&quot;0.0&quot;</td><td>null</td><td>null</td><td>&quot;0.0&quot;</td><td>null</td><td>null</td><td>&quot;0.0&quot;</td><td>null</td><td>null</td><td>null</td><td>null</td><td>null</td><td>null</td><td>null</td><td>null</td><td>null</td><td>null</td><td>null</td><td>null</td><td>null</td><td>null</td><td>null</td><td>null</td><td>null</td><td>null</td><td>null</td><td>null</td><td>null</td><td>null</td><td>null</td><td>null</td><td>null</td><td>null</td><td>null</td><td>null</td><td>null</td><td>null</td><td>null</td><td>null</td><td>&quot;0.0&quot;</td><td>&quot;54.422&quot;</td><td>&quot;2024-06-18 00:…</td><td>&quot;2.581&quot;</td><td>&quot;1.337&quot;</td><td>&quot;1803.987&quot;</td><td>null</td><td>&quot;597.029&quot;</td><td>&quot;1959-09-01 00:…</td><td>null</td><td>null</td><td>&quot;37.746&quot;</td><td>&quot;0.5&quot;</td><td>&quot;64.83&quot;</td><td>&quot;0.511&quot;</td><td>&quot;41128772.0&quot;</td><td>null</td><td>null</td><td>null</td><td>null</td></tr><tr><td>&quot;AFG&quot;</td><td>&quot;Asia&quot;</td><td>&quot;Afghanistan&quot;</td><td>2020-01-19 00:00:00</td><td>null</td><td>&quot;0.0&quot;</td><td>null</td><td>null</td><td>&quot;0.0&quot;</td><td>null</td><td>null</td><td>&quot;0.0&quot;</td><td>null</td><td>null</td><td>&quot;0.0&quot;</td><td>null</td><td>null</td><td>null</td><td>null</td><td>null</td><td>null</td><td>null</td><td>null</td><td>null</td><td>null</td><td>null</td><td>null</td><td>null</td><td>null</td><td>null</td><td>null</td><td>null</td><td>null</td><td>null</td><td>null</td><td>null</td><td>null</td><td>null</td><td>null</td><td>null</td><td>null</td><td>null</td><td>null</td><td>null</td><td>null</td><td>null</td><td>null</td><td>&quot;0.0&quot;</td><td>&quot;54.422&quot;</td><td>&quot;2024-06-18 00:…</td><td>&quot;2.581&quot;</td><td>&quot;1.337&quot;</td><td>&quot;1803.987&quot;</td><td>null</td><td>&quot;597.029&quot;</td><td>&quot;1959-09-01 00:…</td><td>null</td><td>null</td><td>&quot;37.746&quot;</td><td>&quot;0.5&quot;</td><td>&quot;64.83&quot;</td><td>&quot;0.511&quot;</td><td>&quot;41128772.0&quot;</td><td>null</td><td>null</td><td>null</td><td>null</td></tr><tr><td>&quot;AFG&quot;</td><td>&quot;Asia&quot;</td><td>&quot;Afghanistan&quot;</td><td>2020-01-26 00:00:00</td><td>null</td><td>&quot;0.0&quot;</td><td>null</td><td>null</td><td>&quot;0.0&quot;</td><td>null</td><td>null</td><td>&quot;0.0&quot;</td><td>null</td><td>null</td><td>&quot;0.0&quot;</td><td>null</td><td>null</td><td>null</td><td>null</td><td>null</td><td>null</td><td>null</td><td>null</td><td>null</td><td>null</td><td>null</td><td>null</td><td>null</td><td>null</td><td>null</td><td>null</td><td>null</td><td>null</td><td>null</td><td>null</td><td>null</td><td>null</td><td>null</td><td>null</td><td>null</td><td>null</td><td>null</td><td>null</td><td>null</td><td>null</td><td>null</td><td>null</td><td>&quot;0.0&quot;</td><td>&quot;54.422&quot;</td><td>&quot;2024-06-18 00:…</td><td>&quot;2.581&quot;</td><td>&quot;1.337&quot;</td><td>&quot;1803.987&quot;</td><td>null</td><td>&quot;597.029&quot;</td><td>&quot;1959-09-01 00:…</td><td>null</td><td>null</td><td>&quot;37.746&quot;</td><td>&quot;0.5&quot;</td><td>&quot;64.83&quot;</td><td>&quot;0.511&quot;</td><td>&quot;41128772.0&quot;</td><td>null</td><td>null</td><td>null</td><td>null</td></tr><tr><td>&quot;AFG&quot;</td><td>&quot;Asia&quot;</td><td>&quot;Afghanistan&quot;</td><td>2020-02-02 00:00:00</td><td>null</td><td>&quot;0.0&quot;</td><td>null</td><td>null</td><td>&quot;0.0&quot;</td><td>null</td><td>null</td><td>&quot;0.0&quot;</td><td>null</td><td>null</td><td>&quot;0.0&quot;</td><td>null</td><td>null</td><td>null</td><td>null</td><td>null</td><td>null</td><td>null</td><td>null</td><td>null</td><td>null</td><td>null</td><td>null</td><td>null</td><td>null</td><td>null</td><td>null</td><td>null</td><td>null</td><td>null</td><td>null</td><td>null</td><td>null</td><td>null</td><td>null</td><td>null</td><td>null</td><td>null</td><td>null</td><td>null</td><td>null</td><td>null</td><td>null</td><td>&quot;0.0&quot;</td><td>&quot;54.422&quot;</td><td>&quot;2024-06-18 00:…</td><td>&quot;2.581&quot;</td><td>&quot;1.337&quot;</td><td>&quot;1803.987&quot;</td><td>null</td><td>&quot;597.029&quot;</td><td>&quot;1959-09-01 00:…</td><td>null</td><td>null</td><td>&quot;37.746&quot;</td><td>&quot;0.5&quot;</td><td>&quot;64.83&quot;</td><td>&quot;0.511&quot;</td><td>&quot;41128772.0&quot;</td><td>null</td><td>null</td><td>null</td><td>null</td></tr></tbody></table></div>"
      ]
     },
     "metadata": {},
     "output_type": "display_data"
    }
   ],
   "source": [
    "show_df(scan_rxls_xlsb())\n",
    "# 10m 29.5s (341376 rows, 67 columns)"
   ]
  },
  {
   "attachments": {},
   "cell_type": "markdown",
   "metadata": {},
   "source": [
    "### XLSX2CSV case: xlsx -> csv -> polars.read_csv()"
   ]
  },
  {
   "cell_type": "code",
   "execution_count": 5,
   "metadata": {
    "notebookRunGroups": {
     "groupValue": "1"
    }
   },
   "outputs": [],
   "source": [
    "def scan_xlsx2csv(path: str = XLSX_FILE) -> pl.DataFrame:\n",
    "    return pl.read_excel(\n",
    "        path,\n",
    "        engine=\"xlsx2csv\",\n",
    "        # NOTE: This parameters only needs, because of mixed dtype columns\n",
    "        read_csv_options={\"has_header\": True, \"infer_schema_length\": 0},\n",
    "    )"
   ]
  },
  {
   "cell_type": "code",
   "execution_count": 10,
   "metadata": {
    "notebookRunGroups": {
     "groupValue": ""
    }
   },
   "outputs": [
    {
     "name": "stdout",
     "output_type": "stream",
     "text": [
      "rows: 276700 columns: 67\n"
     ]
    },
    {
     "data": {
      "text/html": [
       "<div><style>\n",
       ".dataframe > thead > tr,\n",
       ".dataframe > tbody > tr {\n",
       "  text-align: right;\n",
       "  white-space: pre-wrap;\n",
       "}\n",
       "</style>\n",
       "<small>shape: (5, 67)</small><table border=\"1\" class=\"dataframe\"><thead><tr><th>iso_code</th><th>continent</th><th>location</th><th>date</th><th>total_cases</th><th>new_cases</th><th>new_cases_smoothed</th><th>total_deaths</th><th>new_deaths</th><th>new_deaths_smoothed</th><th>total_cases_per_million</th><th>new_cases_per_million</th><th>new_cases_smoothed_per_million</th><th>total_deaths_per_million</th><th>new_deaths_per_million</th><th>new_deaths_smoothed_per_million</th><th>reproduction_rate</th><th>icu_patients</th><th>icu_patients_per_million</th><th>hosp_patients</th><th>hosp_patients_per_million</th><th>weekly_icu_admissions</th><th>weekly_icu_admissions_per_million</th><th>weekly_hosp_admissions</th><th>weekly_hosp_admissions_per_million</th><th>total_tests</th><th>new_tests</th><th>total_tests_per_thousand</th><th>new_tests_per_thousand</th><th>new_tests_smoothed</th><th>new_tests_smoothed_per_thousand</th><th>positive_rate</th><th>tests_per_case</th><th>tests_units</th><th>total_vaccinations</th><th>people_vaccinated</th><th>people_fully_vaccinated</th><th>total_boosters</th><th>new_vaccinations</th><th>new_vaccinations_smoothed</th><th>total_vaccinations_per_hundred</th><th>people_vaccinated_per_hundred</th><th>people_fully_vaccinated_per_hundred</th><th>total_boosters_per_hundred</th><th>new_vaccinations_smoothed_per_million</th><th>new_people_vaccinated_smoothed</th><th>new_people_vaccinated_smoothed_per_hundred</th><th>stringency_index</th><th>population_density</th><th>median_age</th><th>aged_65_older</th><th>aged_70_older</th><th>gdp_per_capita</th><th>extreme_poverty</th><th>cardiovasc_death_rate</th><th>diabetes_prevalence</th><th>female_smokers</th><th>male_smokers</th><th>handwashing_facilities</th><th>hospital_beds_per_thousand</th><th>life_expectancy</th><th>human_development_index</th><th>population</th><th>excess_mortality_cumulative_absolute</th><th>excess_mortality_cumulative</th><th>excess_mortality</th><th>excess_mortality_cumulative_per_million</th></tr><tr><td>str</td><td>str</td><td>str</td><td>str</td><td>str</td><td>str</td><td>str</td><td>str</td><td>str</td><td>str</td><td>str</td><td>str</td><td>str</td><td>str</td><td>str</td><td>str</td><td>str</td><td>str</td><td>str</td><td>str</td><td>str</td><td>str</td><td>str</td><td>str</td><td>str</td><td>str</td><td>str</td><td>str</td><td>str</td><td>str</td><td>str</td><td>str</td><td>str</td><td>str</td><td>str</td><td>str</td><td>str</td><td>str</td><td>str</td><td>str</td><td>str</td><td>str</td><td>str</td><td>str</td><td>str</td><td>str</td><td>str</td><td>str</td><td>str</td><td>str</td><td>str</td><td>str</td><td>str</td><td>str</td><td>str</td><td>str</td><td>str</td><td>str</td><td>str</td><td>str</td><td>str</td><td>str</td><td>str</td><td>str</td><td>str</td><td>str</td><td>str</td></tr></thead><tbody><tr><td>&quot;AFG&quot;</td><td>&quot;Asia&quot;</td><td>&quot;Afghanistan&quot;</td><td>&quot;01-05-20&quot;</td><td>null</td><td>&quot;0.0&quot;</td><td>null</td><td>null</td><td>&quot;0.0&quot;</td><td>null</td><td>null</td><td>&quot;0.0&quot;</td><td>null</td><td>null</td><td>&quot;0.0&quot;</td><td>null</td><td>null</td><td>null</td><td>null</td><td>null</td><td>null</td><td>null</td><td>null</td><td>null</td><td>null</td><td>null</td><td>null</td><td>null</td><td>null</td><td>null</td><td>null</td><td>null</td><td>null</td><td>null</td><td>null</td><td>null</td><td>null</td><td>null</td><td>null</td><td>null</td><td>null</td><td>null</td><td>null</td><td>null</td><td>null</td><td>null</td><td>null</td><td>&quot;0.0&quot;</td><td>&quot;54.422&quot;</td><td>&quot;18-Jun&quot;</td><td>&quot;2.581&quot;</td><td>&quot;1.337&quot;</td><td>&quot;1803.987&quot;</td><td>null</td><td>&quot;597.029&quot;</td><td>&quot;Sep-59&quot;</td><td>null</td><td>null</td><td>&quot;37.746&quot;</td><td>&quot;0.5&quot;</td><td>&quot;64.83&quot;</td><td>&quot;0.511&quot;</td><td>&quot;41128772.0&quot;</td><td>null</td><td>null</td><td>null</td><td>null</td></tr><tr><td>&quot;AFG&quot;</td><td>&quot;Asia&quot;</td><td>&quot;Afghanistan&quot;</td><td>&quot;01-12-20&quot;</td><td>null</td><td>&quot;0.0&quot;</td><td>null</td><td>null</td><td>&quot;0.0&quot;</td><td>null</td><td>null</td><td>&quot;0.0&quot;</td><td>null</td><td>null</td><td>&quot;0.0&quot;</td><td>null</td><td>null</td><td>null</td><td>null</td><td>null</td><td>null</td><td>null</td><td>null</td><td>null</td><td>null</td><td>null</td><td>null</td><td>null</td><td>null</td><td>null</td><td>null</td><td>null</td><td>null</td><td>null</td><td>null</td><td>null</td><td>null</td><td>null</td><td>null</td><td>null</td><td>null</td><td>null</td><td>null</td><td>null</td><td>null</td><td>null</td><td>null</td><td>&quot;0.0&quot;</td><td>&quot;54.422&quot;</td><td>&quot;18-Jun&quot;</td><td>&quot;2.581&quot;</td><td>&quot;1.337&quot;</td><td>&quot;1803.987&quot;</td><td>null</td><td>&quot;597.029&quot;</td><td>&quot;Sep-59&quot;</td><td>null</td><td>null</td><td>&quot;37.746&quot;</td><td>&quot;0.5&quot;</td><td>&quot;64.83&quot;</td><td>&quot;0.511&quot;</td><td>&quot;41128772.0&quot;</td><td>null</td><td>null</td><td>null</td><td>null</td></tr><tr><td>&quot;AFG&quot;</td><td>&quot;Asia&quot;</td><td>&quot;Afghanistan&quot;</td><td>&quot;01-19-20&quot;</td><td>null</td><td>&quot;0.0&quot;</td><td>null</td><td>null</td><td>&quot;0.0&quot;</td><td>null</td><td>null</td><td>&quot;0.0&quot;</td><td>null</td><td>null</td><td>&quot;0.0&quot;</td><td>null</td><td>null</td><td>null</td><td>null</td><td>null</td><td>null</td><td>null</td><td>null</td><td>null</td><td>null</td><td>null</td><td>null</td><td>null</td><td>null</td><td>null</td><td>null</td><td>null</td><td>null</td><td>null</td><td>null</td><td>null</td><td>null</td><td>null</td><td>null</td><td>null</td><td>null</td><td>null</td><td>null</td><td>null</td><td>null</td><td>null</td><td>null</td><td>&quot;0.0&quot;</td><td>&quot;54.422&quot;</td><td>&quot;18-Jun&quot;</td><td>&quot;2.581&quot;</td><td>&quot;1.337&quot;</td><td>&quot;1803.987&quot;</td><td>null</td><td>&quot;597.029&quot;</td><td>&quot;Sep-59&quot;</td><td>null</td><td>null</td><td>&quot;37.746&quot;</td><td>&quot;0.5&quot;</td><td>&quot;64.83&quot;</td><td>&quot;0.511&quot;</td><td>&quot;41128772.0&quot;</td><td>null</td><td>null</td><td>null</td><td>null</td></tr><tr><td>&quot;AFG&quot;</td><td>&quot;Asia&quot;</td><td>&quot;Afghanistan&quot;</td><td>&quot;01-26-20&quot;</td><td>null</td><td>&quot;0.0&quot;</td><td>null</td><td>null</td><td>&quot;0.0&quot;</td><td>null</td><td>null</td><td>&quot;0.0&quot;</td><td>null</td><td>null</td><td>&quot;0.0&quot;</td><td>null</td><td>null</td><td>null</td><td>null</td><td>null</td><td>null</td><td>null</td><td>null</td><td>null</td><td>null</td><td>null</td><td>null</td><td>null</td><td>null</td><td>null</td><td>null</td><td>null</td><td>null</td><td>null</td><td>null</td><td>null</td><td>null</td><td>null</td><td>null</td><td>null</td><td>null</td><td>null</td><td>null</td><td>null</td><td>null</td><td>null</td><td>null</td><td>&quot;0.0&quot;</td><td>&quot;54.422&quot;</td><td>&quot;18-Jun&quot;</td><td>&quot;2.581&quot;</td><td>&quot;1.337&quot;</td><td>&quot;1803.987&quot;</td><td>null</td><td>&quot;597.029&quot;</td><td>&quot;Sep-59&quot;</td><td>null</td><td>null</td><td>&quot;37.746&quot;</td><td>&quot;0.5&quot;</td><td>&quot;64.83&quot;</td><td>&quot;0.511&quot;</td><td>&quot;41128772.0&quot;</td><td>null</td><td>null</td><td>null</td><td>null</td></tr><tr><td>&quot;AFG&quot;</td><td>&quot;Asia&quot;</td><td>&quot;Afghanistan&quot;</td><td>&quot;02-02-20&quot;</td><td>null</td><td>&quot;0.0&quot;</td><td>null</td><td>null</td><td>&quot;0.0&quot;</td><td>null</td><td>null</td><td>&quot;0.0&quot;</td><td>null</td><td>null</td><td>&quot;0.0&quot;</td><td>null</td><td>null</td><td>null</td><td>null</td><td>null</td><td>null</td><td>null</td><td>null</td><td>null</td><td>null</td><td>null</td><td>null</td><td>null</td><td>null</td><td>null</td><td>null</td><td>null</td><td>null</td><td>null</td><td>null</td><td>null</td><td>null</td><td>null</td><td>null</td><td>null</td><td>null</td><td>null</td><td>null</td><td>null</td><td>null</td><td>null</td><td>null</td><td>&quot;0.0&quot;</td><td>&quot;54.422&quot;</td><td>&quot;18-Jun&quot;</td><td>&quot;2.581&quot;</td><td>&quot;1.337&quot;</td><td>&quot;1803.987&quot;</td><td>null</td><td>&quot;597.029&quot;</td><td>&quot;Sep-59&quot;</td><td>null</td><td>null</td><td>&quot;37.746&quot;</td><td>&quot;0.5&quot;</td><td>&quot;64.83&quot;</td><td>&quot;0.511&quot;</td><td>&quot;41128772.0&quot;</td><td>null</td><td>null</td><td>null</td><td>null</td></tr></tbody></table></div>"
      ]
     },
     "metadata": {},
     "output_type": "display_data"
    }
   ],
   "source": [
    "# NOTE: It's fine, but date columns have incorrect datatype, and are not ISO-dates.\n",
    "show_df(scan_xlsx2csv())\n",
    "# 2m 15s  (276700 rows, 67 columns)"
   ]
  },
  {
   "attachments": {},
   "cell_type": "markdown",
   "metadata": {},
   "source": [
    "### OpenPyXL: Scan xlsx only"
   ]
  },
  {
   "cell_type": "code",
   "execution_count": 6,
   "metadata": {
    "notebookRunGroups": {
     "groupValue": "1"
    }
   },
   "outputs": [],
   "source": [
    "def scan_openpyxl(path: str = XLSX_FILE) -> pl.DataFrame:\n",
    "    return pl.read_excel(path, engine=\"openpyxl\")"
   ]
  },
  {
   "cell_type": "code",
   "execution_count": 10,
   "metadata": {
    "notebookRunGroups": {
     "groupValue": ""
    }
   },
   "outputs": [
    {
     "name": "stdout",
     "output_type": "stream",
     "text": [
      "rows: 276700 columns: 67\n"
     ]
    },
    {
     "data": {
      "text/html": [
       "<div><style>\n",
       ".dataframe > thead > tr,\n",
       ".dataframe > tbody > tr {\n",
       "  text-align: right;\n",
       "  white-space: pre-wrap;\n",
       "}\n",
       "</style>\n",
       "<small>shape: (5, 67)</small><table border=\"1\" class=\"dataframe\"><thead><tr><th>iso_code</th><th>continent</th><th>location</th><th>date</th><th>total_cases</th><th>new_cases</th><th>new_cases_smoothed</th><th>total_deaths</th><th>new_deaths</th><th>new_deaths_smoothed</th><th>total_cases_per_million</th><th>new_cases_per_million</th><th>new_cases_smoothed_per_million</th><th>total_deaths_per_million</th><th>new_deaths_per_million</th><th>new_deaths_smoothed_per_million</th><th>reproduction_rate</th><th>icu_patients</th><th>icu_patients_per_million</th><th>hosp_patients</th><th>hosp_patients_per_million</th><th>weekly_icu_admissions</th><th>weekly_icu_admissions_per_million</th><th>weekly_hosp_admissions</th><th>weekly_hosp_admissions_per_million</th><th>total_tests</th><th>new_tests</th><th>total_tests_per_thousand</th><th>new_tests_per_thousand</th><th>new_tests_smoothed</th><th>new_tests_smoothed_per_thousand</th><th>positive_rate</th><th>tests_per_case</th><th>tests_units</th><th>total_vaccinations</th><th>people_vaccinated</th><th>people_fully_vaccinated</th><th>total_boosters</th><th>new_vaccinations</th><th>new_vaccinations_smoothed</th><th>total_vaccinations_per_hundred</th><th>people_vaccinated_per_hundred</th><th>people_fully_vaccinated_per_hundred</th><th>total_boosters_per_hundred</th><th>new_vaccinations_smoothed_per_million</th><th>new_people_vaccinated_smoothed</th><th>new_people_vaccinated_smoothed_per_hundred</th><th>stringency_index</th><th>population_density</th><th>median_age</th><th>aged_65_older</th><th>aged_70_older</th><th>gdp_per_capita</th><th>extreme_poverty</th><th>cardiovasc_death_rate</th><th>diabetes_prevalence</th><th>female_smokers</th><th>male_smokers</th><th>handwashing_facilities</th><th>hospital_beds_per_thousand</th><th>life_expectancy</th><th>human_development_index</th><th>population</th><th>excess_mortality_cumulative_absolute</th><th>excess_mortality_cumulative</th><th>excess_mortality</th><th>excess_mortality_cumulative_per_million</th></tr><tr><td>str</td><td>str</td><td>str</td><td>datetime[μs]</td><td>str</td><td>str</td><td>str</td><td>str</td><td>str</td><td>str</td><td>str</td><td>str</td><td>str</td><td>str</td><td>str</td><td>str</td><td>datetime[μs]</td><td>str</td><td>str</td><td>str</td><td>str</td><td>str</td><td>str</td><td>str</td><td>str</td><td>str</td><td>str</td><td>str</td><td>str</td><td>str</td><td>str</td><td>str</td><td>datetime[μs]</td><td>str</td><td>str</td><td>str</td><td>str</td><td>str</td><td>str</td><td>str</td><td>str</td><td>str</td><td>str</td><td>str</td><td>str</td><td>str</td><td>str</td><td>str</td><td>str</td><td>datetime[μs]</td><td>str</td><td>str</td><td>str</td><td>datetime[μs]</td><td>str</td><td>datetime[μs]</td><td>datetime[μs]</td><td>str</td><td>str</td><td>str</td><td>str</td><td>str</td><td>str</td><td>str</td><td>str</td><td>datetime[μs]</td><td>str</td></tr></thead><tbody><tr><td>&quot;AFG&quot;</td><td>&quot;Asia&quot;</td><td>&quot;Afghanistan&quot;</td><td>2020-01-05 00:00:00</td><td>null</td><td>&quot;0.0&quot;</td><td>null</td><td>null</td><td>&quot;0.0&quot;</td><td>null</td><td>null</td><td>&quot;0.0&quot;</td><td>null</td><td>null</td><td>&quot;0.0&quot;</td><td>null</td><td>null</td><td>null</td><td>null</td><td>null</td><td>null</td><td>null</td><td>null</td><td>null</td><td>null</td><td>null</td><td>null</td><td>null</td><td>null</td><td>null</td><td>null</td><td>null</td><td>null</td><td>null</td><td>null</td><td>null</td><td>null</td><td>null</td><td>null</td><td>null</td><td>null</td><td>null</td><td>null</td><td>null</td><td>null</td><td>null</td><td>null</td><td>&quot;0.0&quot;</td><td>&quot;54.422&quot;</td><td>2024-06-18 00:00:00</td><td>&quot;2.581&quot;</td><td>&quot;1.337&quot;</td><td>&quot;1803.987&quot;</td><td>null</td><td>&quot;597.029&quot;</td><td>1959-09-01 00:00:00</td><td>null</td><td>null</td><td>&quot;37.746&quot;</td><td>&quot;0.5&quot;</td><td>&quot;64.83&quot;</td><td>&quot;0.511&quot;</td><td>&quot;41128772.0&quot;</td><td>null</td><td>null</td><td>null</td><td>null</td></tr><tr><td>&quot;AFG&quot;</td><td>&quot;Asia&quot;</td><td>&quot;Afghanistan&quot;</td><td>2020-01-12 00:00:00</td><td>null</td><td>&quot;0.0&quot;</td><td>null</td><td>null</td><td>&quot;0.0&quot;</td><td>null</td><td>null</td><td>&quot;0.0&quot;</td><td>null</td><td>null</td><td>&quot;0.0&quot;</td><td>null</td><td>null</td><td>null</td><td>null</td><td>null</td><td>null</td><td>null</td><td>null</td><td>null</td><td>null</td><td>null</td><td>null</td><td>null</td><td>null</td><td>null</td><td>null</td><td>null</td><td>null</td><td>null</td><td>null</td><td>null</td><td>null</td><td>null</td><td>null</td><td>null</td><td>null</td><td>null</td><td>null</td><td>null</td><td>null</td><td>null</td><td>null</td><td>&quot;0.0&quot;</td><td>&quot;54.422&quot;</td><td>2024-06-18 00:00:00</td><td>&quot;2.581&quot;</td><td>&quot;1.337&quot;</td><td>&quot;1803.987&quot;</td><td>null</td><td>&quot;597.029&quot;</td><td>1959-09-01 00:00:00</td><td>null</td><td>null</td><td>&quot;37.746&quot;</td><td>&quot;0.5&quot;</td><td>&quot;64.83&quot;</td><td>&quot;0.511&quot;</td><td>&quot;41128772.0&quot;</td><td>null</td><td>null</td><td>null</td><td>null</td></tr><tr><td>&quot;AFG&quot;</td><td>&quot;Asia&quot;</td><td>&quot;Afghanistan&quot;</td><td>2020-01-19 00:00:00</td><td>null</td><td>&quot;0.0&quot;</td><td>null</td><td>null</td><td>&quot;0.0&quot;</td><td>null</td><td>null</td><td>&quot;0.0&quot;</td><td>null</td><td>null</td><td>&quot;0.0&quot;</td><td>null</td><td>null</td><td>null</td><td>null</td><td>null</td><td>null</td><td>null</td><td>null</td><td>null</td><td>null</td><td>null</td><td>null</td><td>null</td><td>null</td><td>null</td><td>null</td><td>null</td><td>null</td><td>null</td><td>null</td><td>null</td><td>null</td><td>null</td><td>null</td><td>null</td><td>null</td><td>null</td><td>null</td><td>null</td><td>null</td><td>null</td><td>null</td><td>&quot;0.0&quot;</td><td>&quot;54.422&quot;</td><td>2024-06-18 00:00:00</td><td>&quot;2.581&quot;</td><td>&quot;1.337&quot;</td><td>&quot;1803.987&quot;</td><td>null</td><td>&quot;597.029&quot;</td><td>1959-09-01 00:00:00</td><td>null</td><td>null</td><td>&quot;37.746&quot;</td><td>&quot;0.5&quot;</td><td>&quot;64.83&quot;</td><td>&quot;0.511&quot;</td><td>&quot;41128772.0&quot;</td><td>null</td><td>null</td><td>null</td><td>null</td></tr><tr><td>&quot;AFG&quot;</td><td>&quot;Asia&quot;</td><td>&quot;Afghanistan&quot;</td><td>2020-01-26 00:00:00</td><td>null</td><td>&quot;0.0&quot;</td><td>null</td><td>null</td><td>&quot;0.0&quot;</td><td>null</td><td>null</td><td>&quot;0.0&quot;</td><td>null</td><td>null</td><td>&quot;0.0&quot;</td><td>null</td><td>null</td><td>null</td><td>null</td><td>null</td><td>null</td><td>null</td><td>null</td><td>null</td><td>null</td><td>null</td><td>null</td><td>null</td><td>null</td><td>null</td><td>null</td><td>null</td><td>null</td><td>null</td><td>null</td><td>null</td><td>null</td><td>null</td><td>null</td><td>null</td><td>null</td><td>null</td><td>null</td><td>null</td><td>null</td><td>null</td><td>null</td><td>&quot;0.0&quot;</td><td>&quot;54.422&quot;</td><td>2024-06-18 00:00:00</td><td>&quot;2.581&quot;</td><td>&quot;1.337&quot;</td><td>&quot;1803.987&quot;</td><td>null</td><td>&quot;597.029&quot;</td><td>1959-09-01 00:00:00</td><td>null</td><td>null</td><td>&quot;37.746&quot;</td><td>&quot;0.5&quot;</td><td>&quot;64.83&quot;</td><td>&quot;0.511&quot;</td><td>&quot;41128772.0&quot;</td><td>null</td><td>null</td><td>null</td><td>null</td></tr><tr><td>&quot;AFG&quot;</td><td>&quot;Asia&quot;</td><td>&quot;Afghanistan&quot;</td><td>2020-02-02 00:00:00</td><td>null</td><td>&quot;0.0&quot;</td><td>null</td><td>null</td><td>&quot;0.0&quot;</td><td>null</td><td>null</td><td>&quot;0.0&quot;</td><td>null</td><td>null</td><td>&quot;0.0&quot;</td><td>null</td><td>null</td><td>null</td><td>null</td><td>null</td><td>null</td><td>null</td><td>null</td><td>null</td><td>null</td><td>null</td><td>null</td><td>null</td><td>null</td><td>null</td><td>null</td><td>null</td><td>null</td><td>null</td><td>null</td><td>null</td><td>null</td><td>null</td><td>null</td><td>null</td><td>null</td><td>null</td><td>null</td><td>null</td><td>null</td><td>null</td><td>null</td><td>&quot;0.0&quot;</td><td>&quot;54.422&quot;</td><td>2024-06-18 00:00:00</td><td>&quot;2.581&quot;</td><td>&quot;1.337&quot;</td><td>&quot;1803.987&quot;</td><td>null</td><td>&quot;597.029&quot;</td><td>1959-09-01 00:00:00</td><td>null</td><td>null</td><td>&quot;37.746&quot;</td><td>&quot;0.5&quot;</td><td>&quot;64.83&quot;</td><td>&quot;0.511&quot;</td><td>&quot;41128772.0&quot;</td><td>null</td><td>null</td><td>null</td><td>null</td></tr></tbody></table></div>"
      ]
     },
     "metadata": {},
     "output_type": "display_data"
    }
   ],
   "source": [
    "# NOTE: median_age column has missing data.\n",
    "show_df(scan_openpyxl())\n",
    "# 6m 51.1s  (276700 rows, 67 columns)"
   ]
  },
  {
   "cell_type": "markdown",
   "metadata": {},
   "source": [
    "### PyXLSB: Scan xlsb only"
   ]
  },
  {
   "cell_type": "code",
   "execution_count": 7,
   "metadata": {
    "notebookRunGroups": {
     "groupValue": "1"
    }
   },
   "outputs": [],
   "source": [
    "def scan_pyxlsb(path: str = XLSB_FILE) -> pl.DataFrame:\n",
    "    return pl.read_excel(path, engine=\"pyxlsb\")"
   ]
  },
  {
   "cell_type": "code",
   "execution_count": 10,
   "metadata": {},
   "outputs": [
    {
     "name": "stdout",
     "output_type": "stream",
     "text": [
      "rows: 276700 columns: 67\n"
     ]
    },
    {
     "data": {
      "text/html": [
       "<div><style>\n",
       ".dataframe > thead > tr,\n",
       ".dataframe > tbody > tr {\n",
       "  text-align: right;\n",
       "  white-space: pre-wrap;\n",
       "}\n",
       "</style>\n",
       "<small>shape: (5, 67)</small><table border=\"1\" class=\"dataframe\"><thead><tr><th>iso_code</th><th>continent</th><th>location</th><th>date</th><th>total_cases</th><th>new_cases</th><th>new_cases_smoothed</th><th>total_deaths</th><th>new_deaths</th><th>new_deaths_smoothed</th><th>total_cases_per_million</th><th>new_cases_per_million</th><th>new_cases_smoothed_per_million</th><th>total_deaths_per_million</th><th>new_deaths_per_million</th><th>new_deaths_smoothed_per_million</th><th>reproduction_rate</th><th>icu_patients</th><th>icu_patients_per_million</th><th>hosp_patients</th><th>hosp_patients_per_million</th><th>weekly_icu_admissions</th><th>weekly_icu_admissions_per_million</th><th>weekly_hosp_admissions</th><th>weekly_hosp_admissions_per_million</th><th>total_tests</th><th>new_tests</th><th>total_tests_per_thousand</th><th>new_tests_per_thousand</th><th>new_tests_smoothed</th><th>new_tests_smoothed_per_thousand</th><th>positive_rate</th><th>tests_per_case</th><th>tests_units</th><th>total_vaccinations</th><th>people_vaccinated</th><th>people_fully_vaccinated</th><th>total_boosters</th><th>new_vaccinations</th><th>new_vaccinations_smoothed</th><th>total_vaccinations_per_hundred</th><th>people_vaccinated_per_hundred</th><th>people_fully_vaccinated_per_hundred</th><th>total_boosters_per_hundred</th><th>new_vaccinations_smoothed_per_million</th><th>new_people_vaccinated_smoothed</th><th>new_people_vaccinated_smoothed_per_hundred</th><th>stringency_index</th><th>population_density</th><th>median_age</th><th>aged_65_older</th><th>aged_70_older</th><th>gdp_per_capita</th><th>extreme_poverty</th><th>cardiovasc_death_rate</th><th>diabetes_prevalence</th><th>female_smokers</th><th>male_smokers</th><th>handwashing_facilities</th><th>hospital_beds_per_thousand</th><th>life_expectancy</th><th>human_development_index</th><th>population</th><th>excess_mortality_cumulative_absolute</th><th>excess_mortality_cumulative</th><th>excess_mortality</th><th>excess_mortality_cumulative_per_million</th></tr><tr><td>str</td><td>str</td><td>str</td><td>f64</td><td>str</td><td>str</td><td>str</td><td>str</td><td>str</td><td>str</td><td>str</td><td>str</td><td>str</td><td>str</td><td>str</td><td>str</td><td>str</td><td>str</td><td>str</td><td>str</td><td>str</td><td>str</td><td>str</td><td>str</td><td>str</td><td>str</td><td>str</td><td>str</td><td>str</td><td>str</td><td>str</td><td>str</td><td>str</td><td>str</td><td>str</td><td>str</td><td>str</td><td>str</td><td>str</td><td>str</td><td>str</td><td>str</td><td>str</td><td>str</td><td>str</td><td>str</td><td>str</td><td>str</td><td>str</td><td>str</td><td>str</td><td>str</td><td>str</td><td>str</td><td>str</td><td>str</td><td>str</td><td>str</td><td>str</td><td>str</td><td>str</td><td>str</td><td>str</td><td>str</td><td>str</td><td>str</td><td>str</td></tr></thead><tbody><tr><td>&quot;AFG&quot;</td><td>&quot;Asia&quot;</td><td>&quot;Afghanistan&quot;</td><td>43835.0</td><td>null</td><td>&quot;0.0&quot;</td><td>null</td><td>null</td><td>&quot;0.0&quot;</td><td>null</td><td>null</td><td>&quot;0.0&quot;</td><td>null</td><td>null</td><td>&quot;0.0&quot;</td><td>null</td><td>null</td><td>null</td><td>null</td><td>null</td><td>null</td><td>null</td><td>null</td><td>null</td><td>null</td><td>null</td><td>null</td><td>null</td><td>null</td><td>null</td><td>null</td><td>null</td><td>null</td><td>null</td><td>null</td><td>null</td><td>null</td><td>null</td><td>null</td><td>null</td><td>null</td><td>null</td><td>null</td><td>null</td><td>null</td><td>null</td><td>null</td><td>&quot;0.0&quot;</td><td>&quot;54.422&quot;</td><td>null</td><td>&quot;2.581&quot;</td><td>&quot;1.337&quot;</td><td>&quot;1803.987&quot;</td><td>null</td><td>&quot;597.029&quot;</td><td>null</td><td>null</td><td>null</td><td>&quot;37.746&quot;</td><td>&quot;0.5&quot;</td><td>&quot;64.83&quot;</td><td>&quot;0.511&quot;</td><td>&quot;41128772.0&quot;</td><td>null</td><td>null</td><td>null</td><td>null</td></tr><tr><td>&quot;AFG&quot;</td><td>&quot;Asia&quot;</td><td>&quot;Afghanistan&quot;</td><td>43842.0</td><td>null</td><td>&quot;0.0&quot;</td><td>null</td><td>null</td><td>&quot;0.0&quot;</td><td>null</td><td>null</td><td>&quot;0.0&quot;</td><td>null</td><td>null</td><td>&quot;0.0&quot;</td><td>null</td><td>null</td><td>null</td><td>null</td><td>null</td><td>null</td><td>null</td><td>null</td><td>null</td><td>null</td><td>null</td><td>null</td><td>null</td><td>null</td><td>null</td><td>null</td><td>null</td><td>null</td><td>null</td><td>null</td><td>null</td><td>null</td><td>null</td><td>null</td><td>null</td><td>null</td><td>null</td><td>null</td><td>null</td><td>null</td><td>null</td><td>null</td><td>&quot;0.0&quot;</td><td>&quot;54.422&quot;</td><td>null</td><td>&quot;2.581&quot;</td><td>&quot;1.337&quot;</td><td>&quot;1803.987&quot;</td><td>null</td><td>&quot;597.029&quot;</td><td>null</td><td>null</td><td>null</td><td>&quot;37.746&quot;</td><td>&quot;0.5&quot;</td><td>&quot;64.83&quot;</td><td>&quot;0.511&quot;</td><td>&quot;41128772.0&quot;</td><td>null</td><td>null</td><td>null</td><td>null</td></tr><tr><td>&quot;AFG&quot;</td><td>&quot;Asia&quot;</td><td>&quot;Afghanistan&quot;</td><td>43849.0</td><td>null</td><td>&quot;0.0&quot;</td><td>null</td><td>null</td><td>&quot;0.0&quot;</td><td>null</td><td>null</td><td>&quot;0.0&quot;</td><td>null</td><td>null</td><td>&quot;0.0&quot;</td><td>null</td><td>null</td><td>null</td><td>null</td><td>null</td><td>null</td><td>null</td><td>null</td><td>null</td><td>null</td><td>null</td><td>null</td><td>null</td><td>null</td><td>null</td><td>null</td><td>null</td><td>null</td><td>null</td><td>null</td><td>null</td><td>null</td><td>null</td><td>null</td><td>null</td><td>null</td><td>null</td><td>null</td><td>null</td><td>null</td><td>null</td><td>null</td><td>&quot;0.0&quot;</td><td>&quot;54.422&quot;</td><td>null</td><td>&quot;2.581&quot;</td><td>&quot;1.337&quot;</td><td>&quot;1803.987&quot;</td><td>null</td><td>&quot;597.029&quot;</td><td>null</td><td>null</td><td>null</td><td>&quot;37.746&quot;</td><td>&quot;0.5&quot;</td><td>&quot;64.83&quot;</td><td>&quot;0.511&quot;</td><td>&quot;41128772.0&quot;</td><td>null</td><td>null</td><td>null</td><td>null</td></tr><tr><td>&quot;AFG&quot;</td><td>&quot;Asia&quot;</td><td>&quot;Afghanistan&quot;</td><td>43856.0</td><td>null</td><td>&quot;0.0&quot;</td><td>null</td><td>null</td><td>&quot;0.0&quot;</td><td>null</td><td>null</td><td>&quot;0.0&quot;</td><td>null</td><td>null</td><td>&quot;0.0&quot;</td><td>null</td><td>null</td><td>null</td><td>null</td><td>null</td><td>null</td><td>null</td><td>null</td><td>null</td><td>null</td><td>null</td><td>null</td><td>null</td><td>null</td><td>null</td><td>null</td><td>null</td><td>null</td><td>null</td><td>null</td><td>null</td><td>null</td><td>null</td><td>null</td><td>null</td><td>null</td><td>null</td><td>null</td><td>null</td><td>null</td><td>null</td><td>null</td><td>&quot;0.0&quot;</td><td>&quot;54.422&quot;</td><td>null</td><td>&quot;2.581&quot;</td><td>&quot;1.337&quot;</td><td>&quot;1803.987&quot;</td><td>null</td><td>&quot;597.029&quot;</td><td>null</td><td>null</td><td>null</td><td>&quot;37.746&quot;</td><td>&quot;0.5&quot;</td><td>&quot;64.83&quot;</td><td>&quot;0.511&quot;</td><td>&quot;41128772.0&quot;</td><td>null</td><td>null</td><td>null</td><td>null</td></tr><tr><td>&quot;AFG&quot;</td><td>&quot;Asia&quot;</td><td>&quot;Afghanistan&quot;</td><td>43863.0</td><td>null</td><td>&quot;0.0&quot;</td><td>null</td><td>null</td><td>&quot;0.0&quot;</td><td>null</td><td>null</td><td>&quot;0.0&quot;</td><td>null</td><td>null</td><td>&quot;0.0&quot;</td><td>null</td><td>null</td><td>null</td><td>null</td><td>null</td><td>null</td><td>null</td><td>null</td><td>null</td><td>null</td><td>null</td><td>null</td><td>null</td><td>null</td><td>null</td><td>null</td><td>null</td><td>null</td><td>null</td><td>null</td><td>null</td><td>null</td><td>null</td><td>null</td><td>null</td><td>null</td><td>null</td><td>null</td><td>null</td><td>null</td><td>null</td><td>null</td><td>&quot;0.0&quot;</td><td>&quot;54.422&quot;</td><td>null</td><td>&quot;2.581&quot;</td><td>&quot;1.337&quot;</td><td>&quot;1803.987&quot;</td><td>null</td><td>&quot;597.029&quot;</td><td>null</td><td>null</td><td>null</td><td>&quot;37.746&quot;</td><td>&quot;0.5&quot;</td><td>&quot;64.83&quot;</td><td>&quot;0.511&quot;</td><td>&quot;41128772.0&quot;</td><td>null</td><td>null</td><td>null</td><td>null</td></tr></tbody></table></div>"
      ]
     },
     "metadata": {},
     "output_type": "display_data"
    }
   ],
   "source": [
    "# NOTE: pyxlsb not recognized dates automatically - you can do this manually, but xl/styles.bin parsing required.\n",
    "show_df(scan_pyxlsb())\n",
    "# 2m 56.2s  (276700 rows, 67 columns)"
   ]
  },
  {
   "attachments": {},
   "cell_type": "markdown",
   "metadata": {},
   "source": [
    "### Calamine: Scan both xlsx and xlsb"
   ]
  },
  {
   "cell_type": "code",
   "execution_count": 8,
   "metadata": {
    "notebookRunGroups": {
     "groupValue": "1"
    }
   },
   "outputs": [],
   "source": [
    "def scan_calamine(path: str = XLSB_FILE, *, tq: bool = False) -> pl.DataFrame:\n",
    "    wb: calamine.CalamineWorkbook = calamine.load_workbook(path)\n",
    "    ws = wb.get_sheet_by_index(0)\n",
    "\n",
    "    row_it = iter(ws.to_python(skip_empty_area=False))\n",
    "\n",
    "    head = [\n",
    "        col_header\n",
    "        if cell[1] is not None and (col_header := str(cell[1]).strip())\n",
    "        else f\"Unnamed: {cell[0]}\"\n",
    "        for cell in enumerate(next(row_it))\n",
    "    ]\n",
    "    schema = dict.fromkeys(head, pl.Utf8)\n",
    "\n",
    "    data_it = ([str(cell) if cell else None for cell in row] for row in row_it)\n",
    "    if tq:\n",
    "        data_it = tqdm(data_it)\n",
    "\n",
    "    return pl.DataFrame(list(data_it), schema, orient=\"row\")\n"
   ]
  },
  {
   "cell_type": "code",
   "execution_count": 10,
   "metadata": {},
   "outputs": [
    {
     "name": "stdout",
     "output_type": "stream",
     "text": [
      "rows: 276700 columns: 67\n"
     ]
    },
    {
     "data": {
      "text/html": [
       "<div><style>\n",
       ".dataframe > thead > tr,\n",
       ".dataframe > tbody > tr {\n",
       "  text-align: right;\n",
       "  white-space: pre-wrap;\n",
       "}\n",
       "</style>\n",
       "<small>shape: (5, 67)</small><table border=\"1\" class=\"dataframe\"><thead><tr><th>iso_code</th><th>continent</th><th>location</th><th>date</th><th>total_cases</th><th>new_cases</th><th>new_cases_smoothed</th><th>total_deaths</th><th>new_deaths</th><th>new_deaths_smoothed</th><th>total_cases_per_million</th><th>new_cases_per_million</th><th>new_cases_smoothed_per_million</th><th>total_deaths_per_million</th><th>new_deaths_per_million</th><th>new_deaths_smoothed_per_million</th><th>reproduction_rate</th><th>icu_patients</th><th>icu_patients_per_million</th><th>hosp_patients</th><th>hosp_patients_per_million</th><th>weekly_icu_admissions</th><th>weekly_icu_admissions_per_million</th><th>weekly_hosp_admissions</th><th>weekly_hosp_admissions_per_million</th><th>total_tests</th><th>new_tests</th><th>total_tests_per_thousand</th><th>new_tests_per_thousand</th><th>new_tests_smoothed</th><th>new_tests_smoothed_per_thousand</th><th>positive_rate</th><th>tests_per_case</th><th>tests_units</th><th>total_vaccinations</th><th>people_vaccinated</th><th>people_fully_vaccinated</th><th>total_boosters</th><th>new_vaccinations</th><th>new_vaccinations_smoothed</th><th>total_vaccinations_per_hundred</th><th>people_vaccinated_per_hundred</th><th>people_fully_vaccinated_per_hundred</th><th>total_boosters_per_hundred</th><th>new_vaccinations_smoothed_per_million</th><th>new_people_vaccinated_smoothed</th><th>new_people_vaccinated_smoothed_per_hundred</th><th>stringency_index</th><th>population_density</th><th>median_age</th><th>aged_65_older</th><th>aged_70_older</th><th>gdp_per_capita</th><th>extreme_poverty</th><th>cardiovasc_death_rate</th><th>diabetes_prevalence</th><th>female_smokers</th><th>male_smokers</th><th>handwashing_facilities</th><th>hospital_beds_per_thousand</th><th>life_expectancy</th><th>human_development_index</th><th>population</th><th>excess_mortality_cumulative_absolute</th><th>excess_mortality_cumulative</th><th>excess_mortality</th><th>excess_mortality_cumulative_per_million</th></tr><tr><td>str</td><td>str</td><td>str</td><td>str</td><td>str</td><td>str</td><td>str</td><td>str</td><td>str</td><td>str</td><td>str</td><td>str</td><td>str</td><td>str</td><td>str</td><td>str</td><td>str</td><td>str</td><td>str</td><td>str</td><td>str</td><td>str</td><td>str</td><td>str</td><td>str</td><td>str</td><td>str</td><td>str</td><td>str</td><td>str</td><td>str</td><td>str</td><td>str</td><td>str</td><td>str</td><td>str</td><td>str</td><td>str</td><td>str</td><td>str</td><td>str</td><td>str</td><td>str</td><td>str</td><td>str</td><td>str</td><td>str</td><td>str</td><td>str</td><td>str</td><td>str</td><td>str</td><td>str</td><td>str</td><td>str</td><td>str</td><td>str</td><td>str</td><td>str</td><td>str</td><td>str</td><td>str</td><td>str</td><td>str</td><td>str</td><td>str</td><td>str</td></tr></thead><tbody><tr><td>&quot;AFG&quot;</td><td>&quot;Asia&quot;</td><td>&quot;Afghanistan&quot;</td><td>&quot;2020-01-05&quot;</td><td>null</td><td>&quot;0.0&quot;</td><td>null</td><td>null</td><td>&quot;0.0&quot;</td><td>null</td><td>null</td><td>&quot;0.0&quot;</td><td>null</td><td>null</td><td>&quot;0.0&quot;</td><td>null</td><td>null</td><td>null</td><td>null</td><td>null</td><td>null</td><td>null</td><td>null</td><td>null</td><td>null</td><td>null</td><td>null</td><td>null</td><td>null</td><td>null</td><td>null</td><td>null</td><td>null</td><td>null</td><td>null</td><td>null</td><td>null</td><td>null</td><td>null</td><td>null</td><td>null</td><td>null</td><td>null</td><td>null</td><td>null</td><td>null</td><td>null</td><td>&quot;0.0&quot;</td><td>&quot;54.422&quot;</td><td>&quot;2024-06-18&quot;</td><td>&quot;2.581&quot;</td><td>&quot;1.337&quot;</td><td>&quot;1803.987&quot;</td><td>null</td><td>&quot;597.029&quot;</td><td>&quot;1959-09-01&quot;</td><td>null</td><td>null</td><td>&quot;37.746&quot;</td><td>&quot;0.5&quot;</td><td>&quot;64.83&quot;</td><td>&quot;0.511&quot;</td><td>&quot;41128772.0&quot;</td><td>null</td><td>null</td><td>null</td><td>null</td></tr><tr><td>&quot;AFG&quot;</td><td>&quot;Asia&quot;</td><td>&quot;Afghanistan&quot;</td><td>&quot;2020-01-12&quot;</td><td>null</td><td>&quot;0.0&quot;</td><td>null</td><td>null</td><td>&quot;0.0&quot;</td><td>null</td><td>null</td><td>&quot;0.0&quot;</td><td>null</td><td>null</td><td>&quot;0.0&quot;</td><td>null</td><td>null</td><td>null</td><td>null</td><td>null</td><td>null</td><td>null</td><td>null</td><td>null</td><td>null</td><td>null</td><td>null</td><td>null</td><td>null</td><td>null</td><td>null</td><td>null</td><td>null</td><td>null</td><td>null</td><td>null</td><td>null</td><td>null</td><td>null</td><td>null</td><td>null</td><td>null</td><td>null</td><td>null</td><td>null</td><td>null</td><td>null</td><td>&quot;0.0&quot;</td><td>&quot;54.422&quot;</td><td>&quot;2024-06-18&quot;</td><td>&quot;2.581&quot;</td><td>&quot;1.337&quot;</td><td>&quot;1803.987&quot;</td><td>null</td><td>&quot;597.029&quot;</td><td>&quot;1959-09-01&quot;</td><td>null</td><td>null</td><td>&quot;37.746&quot;</td><td>&quot;0.5&quot;</td><td>&quot;64.83&quot;</td><td>&quot;0.511&quot;</td><td>&quot;41128772.0&quot;</td><td>null</td><td>null</td><td>null</td><td>null</td></tr><tr><td>&quot;AFG&quot;</td><td>&quot;Asia&quot;</td><td>&quot;Afghanistan&quot;</td><td>&quot;2020-01-19&quot;</td><td>null</td><td>&quot;0.0&quot;</td><td>null</td><td>null</td><td>&quot;0.0&quot;</td><td>null</td><td>null</td><td>&quot;0.0&quot;</td><td>null</td><td>null</td><td>&quot;0.0&quot;</td><td>null</td><td>null</td><td>null</td><td>null</td><td>null</td><td>null</td><td>null</td><td>null</td><td>null</td><td>null</td><td>null</td><td>null</td><td>null</td><td>null</td><td>null</td><td>null</td><td>null</td><td>null</td><td>null</td><td>null</td><td>null</td><td>null</td><td>null</td><td>null</td><td>null</td><td>null</td><td>null</td><td>null</td><td>null</td><td>null</td><td>null</td><td>null</td><td>&quot;0.0&quot;</td><td>&quot;54.422&quot;</td><td>&quot;2024-06-18&quot;</td><td>&quot;2.581&quot;</td><td>&quot;1.337&quot;</td><td>&quot;1803.987&quot;</td><td>null</td><td>&quot;597.029&quot;</td><td>&quot;1959-09-01&quot;</td><td>null</td><td>null</td><td>&quot;37.746&quot;</td><td>&quot;0.5&quot;</td><td>&quot;64.83&quot;</td><td>&quot;0.511&quot;</td><td>&quot;41128772.0&quot;</td><td>null</td><td>null</td><td>null</td><td>null</td></tr><tr><td>&quot;AFG&quot;</td><td>&quot;Asia&quot;</td><td>&quot;Afghanistan&quot;</td><td>&quot;2020-01-26&quot;</td><td>null</td><td>&quot;0.0&quot;</td><td>null</td><td>null</td><td>&quot;0.0&quot;</td><td>null</td><td>null</td><td>&quot;0.0&quot;</td><td>null</td><td>null</td><td>&quot;0.0&quot;</td><td>null</td><td>null</td><td>null</td><td>null</td><td>null</td><td>null</td><td>null</td><td>null</td><td>null</td><td>null</td><td>null</td><td>null</td><td>null</td><td>null</td><td>null</td><td>null</td><td>null</td><td>null</td><td>null</td><td>null</td><td>null</td><td>null</td><td>null</td><td>null</td><td>null</td><td>null</td><td>null</td><td>null</td><td>null</td><td>null</td><td>null</td><td>null</td><td>&quot;0.0&quot;</td><td>&quot;54.422&quot;</td><td>&quot;2024-06-18&quot;</td><td>&quot;2.581&quot;</td><td>&quot;1.337&quot;</td><td>&quot;1803.987&quot;</td><td>null</td><td>&quot;597.029&quot;</td><td>&quot;1959-09-01&quot;</td><td>null</td><td>null</td><td>&quot;37.746&quot;</td><td>&quot;0.5&quot;</td><td>&quot;64.83&quot;</td><td>&quot;0.511&quot;</td><td>&quot;41128772.0&quot;</td><td>null</td><td>null</td><td>null</td><td>null</td></tr><tr><td>&quot;AFG&quot;</td><td>&quot;Asia&quot;</td><td>&quot;Afghanistan&quot;</td><td>&quot;2020-02-02&quot;</td><td>null</td><td>&quot;0.0&quot;</td><td>null</td><td>null</td><td>&quot;0.0&quot;</td><td>null</td><td>null</td><td>&quot;0.0&quot;</td><td>null</td><td>null</td><td>&quot;0.0&quot;</td><td>null</td><td>null</td><td>null</td><td>null</td><td>null</td><td>null</td><td>null</td><td>null</td><td>null</td><td>null</td><td>null</td><td>null</td><td>null</td><td>null</td><td>null</td><td>null</td><td>null</td><td>null</td><td>null</td><td>null</td><td>null</td><td>null</td><td>null</td><td>null</td><td>null</td><td>null</td><td>null</td><td>null</td><td>null</td><td>null</td><td>null</td><td>null</td><td>&quot;0.0&quot;</td><td>&quot;54.422&quot;</td><td>&quot;2024-06-18&quot;</td><td>&quot;2.581&quot;</td><td>&quot;1.337&quot;</td><td>&quot;1803.987&quot;</td><td>null</td><td>&quot;597.029&quot;</td><td>&quot;1959-09-01&quot;</td><td>null</td><td>null</td><td>&quot;37.746&quot;</td><td>&quot;0.5&quot;</td><td>&quot;64.83&quot;</td><td>&quot;0.511&quot;</td><td>&quot;41128772.0&quot;</td><td>null</td><td>null</td><td>null</td><td>null</td></tr></tbody></table></div>"
      ]
     },
     "metadata": {},
     "output_type": "display_data"
    }
   ],
   "source": [
    "show_df(scan_calamine(XLSX_FILE))\n",
    "# 38.3s  (276700 rows, 67 columns)"
   ]
  },
  {
   "cell_type": "code",
   "execution_count": 10,
   "metadata": {
    "notebookRunGroups": {
     "groupValue": ""
    }
   },
   "outputs": [
    {
     "name": "stdout",
     "output_type": "stream",
     "text": [
      "rows: 276700 columns: 67\n"
     ]
    },
    {
     "data": {
      "text/html": [
       "<div><style>\n",
       ".dataframe > thead > tr,\n",
       ".dataframe > tbody > tr {\n",
       "  text-align: right;\n",
       "  white-space: pre-wrap;\n",
       "}\n",
       "</style>\n",
       "<small>shape: (5, 67)</small><table border=\"1\" class=\"dataframe\"><thead><tr><th>iso_code</th><th>continent</th><th>location</th><th>date</th><th>total_cases</th><th>new_cases</th><th>new_cases_smoothed</th><th>total_deaths</th><th>new_deaths</th><th>new_deaths_smoothed</th><th>total_cases_per_million</th><th>new_cases_per_million</th><th>new_cases_smoothed_per_million</th><th>total_deaths_per_million</th><th>new_deaths_per_million</th><th>new_deaths_smoothed_per_million</th><th>reproduction_rate</th><th>icu_patients</th><th>icu_patients_per_million</th><th>hosp_patients</th><th>hosp_patients_per_million</th><th>weekly_icu_admissions</th><th>weekly_icu_admissions_per_million</th><th>weekly_hosp_admissions</th><th>weekly_hosp_admissions_per_million</th><th>total_tests</th><th>new_tests</th><th>total_tests_per_thousand</th><th>new_tests_per_thousand</th><th>new_tests_smoothed</th><th>new_tests_smoothed_per_thousand</th><th>positive_rate</th><th>tests_per_case</th><th>tests_units</th><th>total_vaccinations</th><th>people_vaccinated</th><th>people_fully_vaccinated</th><th>total_boosters</th><th>new_vaccinations</th><th>new_vaccinations_smoothed</th><th>total_vaccinations_per_hundred</th><th>people_vaccinated_per_hundred</th><th>people_fully_vaccinated_per_hundred</th><th>total_boosters_per_hundred</th><th>new_vaccinations_smoothed_per_million</th><th>new_people_vaccinated_smoothed</th><th>new_people_vaccinated_smoothed_per_hundred</th><th>stringency_index</th><th>population_density</th><th>median_age</th><th>aged_65_older</th><th>aged_70_older</th><th>gdp_per_capita</th><th>extreme_poverty</th><th>cardiovasc_death_rate</th><th>diabetes_prevalence</th><th>female_smokers</th><th>male_smokers</th><th>handwashing_facilities</th><th>hospital_beds_per_thousand</th><th>life_expectancy</th><th>human_development_index</th><th>population</th><th>excess_mortality_cumulative_absolute</th><th>excess_mortality_cumulative</th><th>excess_mortality</th><th>excess_mortality_cumulative_per_million</th></tr><tr><td>str</td><td>str</td><td>str</td><td>str</td><td>str</td><td>str</td><td>str</td><td>str</td><td>str</td><td>str</td><td>str</td><td>str</td><td>str</td><td>str</td><td>str</td><td>str</td><td>str</td><td>str</td><td>str</td><td>str</td><td>str</td><td>str</td><td>str</td><td>str</td><td>str</td><td>str</td><td>str</td><td>str</td><td>str</td><td>str</td><td>str</td><td>str</td><td>str</td><td>str</td><td>str</td><td>str</td><td>str</td><td>str</td><td>str</td><td>str</td><td>str</td><td>str</td><td>str</td><td>str</td><td>str</td><td>str</td><td>str</td><td>str</td><td>str</td><td>str</td><td>str</td><td>str</td><td>str</td><td>str</td><td>str</td><td>str</td><td>str</td><td>str</td><td>str</td><td>str</td><td>str</td><td>str</td><td>str</td><td>str</td><td>str</td><td>str</td><td>str</td></tr></thead><tbody><tr><td>&quot;AFG&quot;</td><td>&quot;Asia&quot;</td><td>&quot;Afghanistan&quot;</td><td>&quot;2020-01-05&quot;</td><td>null</td><td>&quot;0.0&quot;</td><td>null</td><td>null</td><td>&quot;0.0&quot;</td><td>null</td><td>null</td><td>&quot;0.0&quot;</td><td>null</td><td>null</td><td>&quot;0.0&quot;</td><td>null</td><td>null</td><td>null</td><td>null</td><td>null</td><td>null</td><td>null</td><td>null</td><td>null</td><td>null</td><td>null</td><td>null</td><td>null</td><td>null</td><td>null</td><td>null</td><td>null</td><td>null</td><td>null</td><td>null</td><td>null</td><td>null</td><td>null</td><td>null</td><td>null</td><td>null</td><td>null</td><td>null</td><td>null</td><td>null</td><td>null</td><td>null</td><td>&quot;0.0&quot;</td><td>&quot;54.422&quot;</td><td>&quot;2024-06-18&quot;</td><td>&quot;2.581&quot;</td><td>&quot;1.337&quot;</td><td>&quot;1803.987&quot;</td><td>null</td><td>&quot;597.029&quot;</td><td>&quot;1959-09-01&quot;</td><td>null</td><td>null</td><td>&quot;37.746&quot;</td><td>&quot;0.5&quot;</td><td>&quot;64.83&quot;</td><td>&quot;0.511&quot;</td><td>&quot;41128772.0&quot;</td><td>null</td><td>null</td><td>null</td><td>null</td></tr><tr><td>&quot;AFG&quot;</td><td>&quot;Asia&quot;</td><td>&quot;Afghanistan&quot;</td><td>&quot;2020-01-12&quot;</td><td>null</td><td>&quot;0.0&quot;</td><td>null</td><td>null</td><td>&quot;0.0&quot;</td><td>null</td><td>null</td><td>&quot;0.0&quot;</td><td>null</td><td>null</td><td>&quot;0.0&quot;</td><td>null</td><td>null</td><td>null</td><td>null</td><td>null</td><td>null</td><td>null</td><td>null</td><td>null</td><td>null</td><td>null</td><td>null</td><td>null</td><td>null</td><td>null</td><td>null</td><td>null</td><td>null</td><td>null</td><td>null</td><td>null</td><td>null</td><td>null</td><td>null</td><td>null</td><td>null</td><td>null</td><td>null</td><td>null</td><td>null</td><td>null</td><td>null</td><td>&quot;0.0&quot;</td><td>&quot;54.422&quot;</td><td>&quot;2024-06-18&quot;</td><td>&quot;2.581&quot;</td><td>&quot;1.337&quot;</td><td>&quot;1803.987&quot;</td><td>null</td><td>&quot;597.029&quot;</td><td>&quot;1959-09-01&quot;</td><td>null</td><td>null</td><td>&quot;37.746&quot;</td><td>&quot;0.5&quot;</td><td>&quot;64.83&quot;</td><td>&quot;0.511&quot;</td><td>&quot;41128772.0&quot;</td><td>null</td><td>null</td><td>null</td><td>null</td></tr><tr><td>&quot;AFG&quot;</td><td>&quot;Asia&quot;</td><td>&quot;Afghanistan&quot;</td><td>&quot;2020-01-19&quot;</td><td>null</td><td>&quot;0.0&quot;</td><td>null</td><td>null</td><td>&quot;0.0&quot;</td><td>null</td><td>null</td><td>&quot;0.0&quot;</td><td>null</td><td>null</td><td>&quot;0.0&quot;</td><td>null</td><td>null</td><td>null</td><td>null</td><td>null</td><td>null</td><td>null</td><td>null</td><td>null</td><td>null</td><td>null</td><td>null</td><td>null</td><td>null</td><td>null</td><td>null</td><td>null</td><td>null</td><td>null</td><td>null</td><td>null</td><td>null</td><td>null</td><td>null</td><td>null</td><td>null</td><td>null</td><td>null</td><td>null</td><td>null</td><td>null</td><td>null</td><td>&quot;0.0&quot;</td><td>&quot;54.422&quot;</td><td>&quot;2024-06-18&quot;</td><td>&quot;2.581&quot;</td><td>&quot;1.337&quot;</td><td>&quot;1803.987&quot;</td><td>null</td><td>&quot;597.029&quot;</td><td>&quot;1959-09-01&quot;</td><td>null</td><td>null</td><td>&quot;37.746&quot;</td><td>&quot;0.5&quot;</td><td>&quot;64.83&quot;</td><td>&quot;0.511&quot;</td><td>&quot;41128772.0&quot;</td><td>null</td><td>null</td><td>null</td><td>null</td></tr><tr><td>&quot;AFG&quot;</td><td>&quot;Asia&quot;</td><td>&quot;Afghanistan&quot;</td><td>&quot;2020-01-26&quot;</td><td>null</td><td>&quot;0.0&quot;</td><td>null</td><td>null</td><td>&quot;0.0&quot;</td><td>null</td><td>null</td><td>&quot;0.0&quot;</td><td>null</td><td>null</td><td>&quot;0.0&quot;</td><td>null</td><td>null</td><td>null</td><td>null</td><td>null</td><td>null</td><td>null</td><td>null</td><td>null</td><td>null</td><td>null</td><td>null</td><td>null</td><td>null</td><td>null</td><td>null</td><td>null</td><td>null</td><td>null</td><td>null</td><td>null</td><td>null</td><td>null</td><td>null</td><td>null</td><td>null</td><td>null</td><td>null</td><td>null</td><td>null</td><td>null</td><td>null</td><td>&quot;0.0&quot;</td><td>&quot;54.422&quot;</td><td>&quot;2024-06-18&quot;</td><td>&quot;2.581&quot;</td><td>&quot;1.337&quot;</td><td>&quot;1803.987&quot;</td><td>null</td><td>&quot;597.029&quot;</td><td>&quot;1959-09-01&quot;</td><td>null</td><td>null</td><td>&quot;37.746&quot;</td><td>&quot;0.5&quot;</td><td>&quot;64.83&quot;</td><td>&quot;0.511&quot;</td><td>&quot;41128772.0&quot;</td><td>null</td><td>null</td><td>null</td><td>null</td></tr><tr><td>&quot;AFG&quot;</td><td>&quot;Asia&quot;</td><td>&quot;Afghanistan&quot;</td><td>&quot;2020-02-02&quot;</td><td>null</td><td>&quot;0.0&quot;</td><td>null</td><td>null</td><td>&quot;0.0&quot;</td><td>null</td><td>null</td><td>&quot;0.0&quot;</td><td>null</td><td>null</td><td>&quot;0.0&quot;</td><td>null</td><td>null</td><td>null</td><td>null</td><td>null</td><td>null</td><td>null</td><td>null</td><td>null</td><td>null</td><td>null</td><td>null</td><td>null</td><td>null</td><td>null</td><td>null</td><td>null</td><td>null</td><td>null</td><td>null</td><td>null</td><td>null</td><td>null</td><td>null</td><td>null</td><td>null</td><td>null</td><td>null</td><td>null</td><td>null</td><td>null</td><td>null</td><td>&quot;0.0&quot;</td><td>&quot;54.422&quot;</td><td>&quot;2024-06-18&quot;</td><td>&quot;2.581&quot;</td><td>&quot;1.337&quot;</td><td>&quot;1803.987&quot;</td><td>null</td><td>&quot;597.029&quot;</td><td>&quot;1959-09-01&quot;</td><td>null</td><td>null</td><td>&quot;37.746&quot;</td><td>&quot;0.5&quot;</td><td>&quot;64.83&quot;</td><td>&quot;0.511&quot;</td><td>&quot;41128772.0&quot;</td><td>null</td><td>null</td><td>null</td><td>null</td></tr></tbody></table></div>"
      ]
     },
     "metadata": {},
     "output_type": "display_data"
    }
   ],
   "source": [
    "show_df(scan_calamine())\n",
    "# 21.6s  (276700 rows, 67 columns)"
   ]
  },
  {
   "attachments": {},
   "cell_type": "markdown",
   "metadata": {},
   "source": [
    "## Benchmarks"
   ]
  },
  {
   "attachments": {},
   "cell_type": "markdown",
   "metadata": {},
   "source": [
    "### Timeit"
   ]
  },
  {
   "attachments": {},
   "cell_type": "markdown",
   "metadata": {},
   "source": [
    "*For these tests, I've reload kernel between tests, for better consistency*"
   ]
  },
  {
   "cell_type": "code",
   "execution_count": 10,
   "metadata": {
    "notebookRunGroups": {
     "groupValue": "2"
    }
   },
   "outputs": [
    {
     "name": "stdout",
     "output_type": "stream",
     "text": [
      "CPU times: total: 2min 7s\n",
      "Wall time: 2min 15s\n"
     ]
    },
    {
     "data": {
      "text/html": [
       "<div><style>\n",
       ".dataframe > thead > tr,\n",
       ".dataframe > tbody > tr {\n",
       "  text-align: right;\n",
       "  white-space: pre-wrap;\n",
       "}\n",
       "</style>\n",
       "<small>shape: (5, 67)</small><table border=\"1\" class=\"dataframe\"><thead><tr><th>iso_code</th><th>continent</th><th>location</th><th>date</th><th>total_cases</th><th>new_cases</th><th>new_cases_smoothed</th><th>total_deaths</th><th>new_deaths</th><th>new_deaths_smoothed</th><th>total_cases_per_million</th><th>new_cases_per_million</th><th>new_cases_smoothed_per_million</th><th>total_deaths_per_million</th><th>new_deaths_per_million</th><th>new_deaths_smoothed_per_million</th><th>reproduction_rate</th><th>icu_patients</th><th>icu_patients_per_million</th><th>hosp_patients</th><th>hosp_patients_per_million</th><th>weekly_icu_admissions</th><th>weekly_icu_admissions_per_million</th><th>weekly_hosp_admissions</th><th>weekly_hosp_admissions_per_million</th><th>total_tests</th><th>new_tests</th><th>total_tests_per_thousand</th><th>new_tests_per_thousand</th><th>new_tests_smoothed</th><th>new_tests_smoothed_per_thousand</th><th>positive_rate</th><th>tests_per_case</th><th>tests_units</th><th>total_vaccinations</th><th>people_vaccinated</th><th>people_fully_vaccinated</th><th>total_boosters</th><th>new_vaccinations</th><th>new_vaccinations_smoothed</th><th>total_vaccinations_per_hundred</th><th>people_vaccinated_per_hundred</th><th>people_fully_vaccinated_per_hundred</th><th>total_boosters_per_hundred</th><th>new_vaccinations_smoothed_per_million</th><th>new_people_vaccinated_smoothed</th><th>new_people_vaccinated_smoothed_per_hundred</th><th>stringency_index</th><th>population_density</th><th>median_age</th><th>aged_65_older</th><th>aged_70_older</th><th>gdp_per_capita</th><th>extreme_poverty</th><th>cardiovasc_death_rate</th><th>diabetes_prevalence</th><th>female_smokers</th><th>male_smokers</th><th>handwashing_facilities</th><th>hospital_beds_per_thousand</th><th>life_expectancy</th><th>human_development_index</th><th>population</th><th>excess_mortality_cumulative_absolute</th><th>excess_mortality_cumulative</th><th>excess_mortality</th><th>excess_mortality_cumulative_per_million</th></tr><tr><td>str</td><td>str</td><td>str</td><td>str</td><td>str</td><td>str</td><td>str</td><td>str</td><td>str</td><td>str</td><td>str</td><td>str</td><td>str</td><td>str</td><td>str</td><td>str</td><td>str</td><td>str</td><td>str</td><td>str</td><td>str</td><td>str</td><td>str</td><td>str</td><td>str</td><td>str</td><td>str</td><td>str</td><td>str</td><td>str</td><td>str</td><td>str</td><td>str</td><td>str</td><td>str</td><td>str</td><td>str</td><td>str</td><td>str</td><td>str</td><td>str</td><td>str</td><td>str</td><td>str</td><td>str</td><td>str</td><td>str</td><td>str</td><td>str</td><td>str</td><td>str</td><td>str</td><td>str</td><td>str</td><td>str</td><td>str</td><td>str</td><td>str</td><td>str</td><td>str</td><td>str</td><td>str</td><td>str</td><td>str</td><td>str</td><td>str</td><td>str</td></tr></thead><tbody><tr><td>&quot;AFG&quot;</td><td>&quot;Asia&quot;</td><td>&quot;Afghanistan&quot;</td><td>&quot;01-05-20&quot;</td><td>null</td><td>&quot;0.0&quot;</td><td>null</td><td>null</td><td>&quot;0.0&quot;</td><td>null</td><td>null</td><td>&quot;0.0&quot;</td><td>null</td><td>null</td><td>&quot;0.0&quot;</td><td>null</td><td>null</td><td>null</td><td>null</td><td>null</td><td>null</td><td>null</td><td>null</td><td>null</td><td>null</td><td>null</td><td>null</td><td>null</td><td>null</td><td>null</td><td>null</td><td>null</td><td>null</td><td>null</td><td>null</td><td>null</td><td>null</td><td>null</td><td>null</td><td>null</td><td>null</td><td>null</td><td>null</td><td>null</td><td>null</td><td>null</td><td>null</td><td>&quot;0.0&quot;</td><td>&quot;54.422&quot;</td><td>&quot;18-Jun&quot;</td><td>&quot;2.581&quot;</td><td>&quot;1.337&quot;</td><td>&quot;1803.987&quot;</td><td>null</td><td>&quot;597.029&quot;</td><td>&quot;Sep-59&quot;</td><td>null</td><td>null</td><td>&quot;37.746&quot;</td><td>&quot;0.5&quot;</td><td>&quot;64.83&quot;</td><td>&quot;0.511&quot;</td><td>&quot;41128772.0&quot;</td><td>null</td><td>null</td><td>null</td><td>null</td></tr><tr><td>&quot;AFG&quot;</td><td>&quot;Asia&quot;</td><td>&quot;Afghanistan&quot;</td><td>&quot;01-12-20&quot;</td><td>null</td><td>&quot;0.0&quot;</td><td>null</td><td>null</td><td>&quot;0.0&quot;</td><td>null</td><td>null</td><td>&quot;0.0&quot;</td><td>null</td><td>null</td><td>&quot;0.0&quot;</td><td>null</td><td>null</td><td>null</td><td>null</td><td>null</td><td>null</td><td>null</td><td>null</td><td>null</td><td>null</td><td>null</td><td>null</td><td>null</td><td>null</td><td>null</td><td>null</td><td>null</td><td>null</td><td>null</td><td>null</td><td>null</td><td>null</td><td>null</td><td>null</td><td>null</td><td>null</td><td>null</td><td>null</td><td>null</td><td>null</td><td>null</td><td>null</td><td>&quot;0.0&quot;</td><td>&quot;54.422&quot;</td><td>&quot;18-Jun&quot;</td><td>&quot;2.581&quot;</td><td>&quot;1.337&quot;</td><td>&quot;1803.987&quot;</td><td>null</td><td>&quot;597.029&quot;</td><td>&quot;Sep-59&quot;</td><td>null</td><td>null</td><td>&quot;37.746&quot;</td><td>&quot;0.5&quot;</td><td>&quot;64.83&quot;</td><td>&quot;0.511&quot;</td><td>&quot;41128772.0&quot;</td><td>null</td><td>null</td><td>null</td><td>null</td></tr><tr><td>&quot;AFG&quot;</td><td>&quot;Asia&quot;</td><td>&quot;Afghanistan&quot;</td><td>&quot;01-19-20&quot;</td><td>null</td><td>&quot;0.0&quot;</td><td>null</td><td>null</td><td>&quot;0.0&quot;</td><td>null</td><td>null</td><td>&quot;0.0&quot;</td><td>null</td><td>null</td><td>&quot;0.0&quot;</td><td>null</td><td>null</td><td>null</td><td>null</td><td>null</td><td>null</td><td>null</td><td>null</td><td>null</td><td>null</td><td>null</td><td>null</td><td>null</td><td>null</td><td>null</td><td>null</td><td>null</td><td>null</td><td>null</td><td>null</td><td>null</td><td>null</td><td>null</td><td>null</td><td>null</td><td>null</td><td>null</td><td>null</td><td>null</td><td>null</td><td>null</td><td>null</td><td>&quot;0.0&quot;</td><td>&quot;54.422&quot;</td><td>&quot;18-Jun&quot;</td><td>&quot;2.581&quot;</td><td>&quot;1.337&quot;</td><td>&quot;1803.987&quot;</td><td>null</td><td>&quot;597.029&quot;</td><td>&quot;Sep-59&quot;</td><td>null</td><td>null</td><td>&quot;37.746&quot;</td><td>&quot;0.5&quot;</td><td>&quot;64.83&quot;</td><td>&quot;0.511&quot;</td><td>&quot;41128772.0&quot;</td><td>null</td><td>null</td><td>null</td><td>null</td></tr><tr><td>&quot;AFG&quot;</td><td>&quot;Asia&quot;</td><td>&quot;Afghanistan&quot;</td><td>&quot;01-26-20&quot;</td><td>null</td><td>&quot;0.0&quot;</td><td>null</td><td>null</td><td>&quot;0.0&quot;</td><td>null</td><td>null</td><td>&quot;0.0&quot;</td><td>null</td><td>null</td><td>&quot;0.0&quot;</td><td>null</td><td>null</td><td>null</td><td>null</td><td>null</td><td>null</td><td>null</td><td>null</td><td>null</td><td>null</td><td>null</td><td>null</td><td>null</td><td>null</td><td>null</td><td>null</td><td>null</td><td>null</td><td>null</td><td>null</td><td>null</td><td>null</td><td>null</td><td>null</td><td>null</td><td>null</td><td>null</td><td>null</td><td>null</td><td>null</td><td>null</td><td>null</td><td>&quot;0.0&quot;</td><td>&quot;54.422&quot;</td><td>&quot;18-Jun&quot;</td><td>&quot;2.581&quot;</td><td>&quot;1.337&quot;</td><td>&quot;1803.987&quot;</td><td>null</td><td>&quot;597.029&quot;</td><td>&quot;Sep-59&quot;</td><td>null</td><td>null</td><td>&quot;37.746&quot;</td><td>&quot;0.5&quot;</td><td>&quot;64.83&quot;</td><td>&quot;0.511&quot;</td><td>&quot;41128772.0&quot;</td><td>null</td><td>null</td><td>null</td><td>null</td></tr><tr><td>&quot;AFG&quot;</td><td>&quot;Asia&quot;</td><td>&quot;Afghanistan&quot;</td><td>&quot;02-02-20&quot;</td><td>null</td><td>&quot;0.0&quot;</td><td>null</td><td>null</td><td>&quot;0.0&quot;</td><td>null</td><td>null</td><td>&quot;0.0&quot;</td><td>null</td><td>null</td><td>&quot;0.0&quot;</td><td>null</td><td>null</td><td>null</td><td>null</td><td>null</td><td>null</td><td>null</td><td>null</td><td>null</td><td>null</td><td>null</td><td>null</td><td>null</td><td>null</td><td>null</td><td>null</td><td>null</td><td>null</td><td>null</td><td>null</td><td>null</td><td>null</td><td>null</td><td>null</td><td>null</td><td>null</td><td>null</td><td>null</td><td>null</td><td>null</td><td>null</td><td>null</td><td>&quot;0.0&quot;</td><td>&quot;54.422&quot;</td><td>&quot;18-Jun&quot;</td><td>&quot;2.581&quot;</td><td>&quot;1.337&quot;</td><td>&quot;1803.987&quot;</td><td>null</td><td>&quot;597.029&quot;</td><td>&quot;Sep-59&quot;</td><td>null</td><td>null</td><td>&quot;37.746&quot;</td><td>&quot;0.5&quot;</td><td>&quot;64.83&quot;</td><td>&quot;0.511&quot;</td><td>&quot;41128772.0&quot;</td><td>null</td><td>null</td><td>null</td><td>null</td></tr></tbody></table></div>"
      ],
      "text/plain": [
       "shape: (5, 67)\n",
       "┌──────────┬───────────┬────────────┬──────────┬───┬───────────┬───────────┬───────────┬───────────┐\n",
       "│ iso_code ┆ continent ┆ location   ┆ date     ┆ … ┆ excess_mo ┆ excess_mo ┆ excess_mo ┆ excess_mo │\n",
       "│ ---      ┆ ---       ┆ ---        ┆ ---      ┆   ┆ rtality_c ┆ rtality_c ┆ rtality   ┆ rtality_c │\n",
       "│ str      ┆ str       ┆ str        ┆ str      ┆   ┆ umulative ┆ umulative ┆ ---       ┆ umulative │\n",
       "│          ┆           ┆            ┆          ┆   ┆ _abso…    ┆ ---       ┆ str       ┆ _per_…    │\n",
       "│          ┆           ┆            ┆          ┆   ┆ ---       ┆ str       ┆           ┆ ---       │\n",
       "│          ┆           ┆            ┆          ┆   ┆ str       ┆           ┆           ┆ str       │\n",
       "╞══════════╪═══════════╪════════════╪══════════╪═══╪═══════════╪═══════════╪═══════════╪═══════════╡\n",
       "│ AFG      ┆ Asia      ┆ Afghanista ┆ 01-05-20 ┆ … ┆ null      ┆ null      ┆ null      ┆ null      │\n",
       "│          ┆           ┆ n          ┆          ┆   ┆           ┆           ┆           ┆           │\n",
       "│ AFG      ┆ Asia      ┆ Afghanista ┆ 01-12-20 ┆ … ┆ null      ┆ null      ┆ null      ┆ null      │\n",
       "│          ┆           ┆ n          ┆          ┆   ┆           ┆           ┆           ┆           │\n",
       "│ AFG      ┆ Asia      ┆ Afghanista ┆ 01-19-20 ┆ … ┆ null      ┆ null      ┆ null      ┆ null      │\n",
       "│          ┆           ┆ n          ┆          ┆   ┆           ┆           ┆           ┆           │\n",
       "│ AFG      ┆ Asia      ┆ Afghanista ┆ 01-26-20 ┆ … ┆ null      ┆ null      ┆ null      ┆ null      │\n",
       "│          ┆           ┆ n          ┆          ┆   ┆           ┆           ┆           ┆           │\n",
       "│ AFG      ┆ Asia      ┆ Afghanista ┆ 02-02-20 ┆ … ┆ null      ┆ null      ┆ null      ┆ null      │\n",
       "│          ┆           ┆ n          ┆          ┆   ┆           ┆           ┆           ┆           │\n",
       "└──────────┴───────────┴────────────┴──────────┴───┴───────────┴───────────┴───────────┴───────────┘"
      ]
     },
     "execution_count": 10,
     "metadata": {},
     "output_type": "execute_result"
    }
   ],
   "source": [
    "%%time\n",
    "scan_xlsx2csv().head()"
   ]
  },
  {
   "cell_type": "code",
   "execution_count": 10,
   "metadata": {
    "notebookRunGroups": {
     "groupValue": "2"
    }
   },
   "outputs": [
    {
     "name": "stdout",
     "output_type": "stream",
     "text": [
      "CPU times: total: 5min 36s\n",
      "Wall time: 6min 37s\n"
     ]
    },
    {
     "data": {
      "text/html": [
       "<div><style>\n",
       ".dataframe > thead > tr,\n",
       ".dataframe > tbody > tr {\n",
       "  text-align: right;\n",
       "  white-space: pre-wrap;\n",
       "}\n",
       "</style>\n",
       "<small>shape: (5, 67)</small><table border=\"1\" class=\"dataframe\"><thead><tr><th>iso_code</th><th>continent</th><th>location</th><th>date</th><th>total_cases</th><th>new_cases</th><th>new_cases_smoothed</th><th>total_deaths</th><th>new_deaths</th><th>new_deaths_smoothed</th><th>total_cases_per_million</th><th>new_cases_per_million</th><th>new_cases_smoothed_per_million</th><th>total_deaths_per_million</th><th>new_deaths_per_million</th><th>new_deaths_smoothed_per_million</th><th>reproduction_rate</th><th>icu_patients</th><th>icu_patients_per_million</th><th>hosp_patients</th><th>hosp_patients_per_million</th><th>weekly_icu_admissions</th><th>weekly_icu_admissions_per_million</th><th>weekly_hosp_admissions</th><th>weekly_hosp_admissions_per_million</th><th>total_tests</th><th>new_tests</th><th>total_tests_per_thousand</th><th>new_tests_per_thousand</th><th>new_tests_smoothed</th><th>new_tests_smoothed_per_thousand</th><th>positive_rate</th><th>tests_per_case</th><th>tests_units</th><th>total_vaccinations</th><th>people_vaccinated</th><th>people_fully_vaccinated</th><th>total_boosters</th><th>new_vaccinations</th><th>new_vaccinations_smoothed</th><th>total_vaccinations_per_hundred</th><th>people_vaccinated_per_hundred</th><th>people_fully_vaccinated_per_hundred</th><th>total_boosters_per_hundred</th><th>new_vaccinations_smoothed_per_million</th><th>new_people_vaccinated_smoothed</th><th>new_people_vaccinated_smoothed_per_hundred</th><th>stringency_index</th><th>population_density</th><th>median_age</th><th>aged_65_older</th><th>aged_70_older</th><th>gdp_per_capita</th><th>extreme_poverty</th><th>cardiovasc_death_rate</th><th>diabetes_prevalence</th><th>female_smokers</th><th>male_smokers</th><th>handwashing_facilities</th><th>hospital_beds_per_thousand</th><th>life_expectancy</th><th>human_development_index</th><th>population</th><th>excess_mortality_cumulative_absolute</th><th>excess_mortality_cumulative</th><th>excess_mortality</th><th>excess_mortality_cumulative_per_million</th></tr><tr><td>str</td><td>str</td><td>str</td><td>datetime[μs]</td><td>str</td><td>str</td><td>str</td><td>str</td><td>str</td><td>str</td><td>str</td><td>str</td><td>str</td><td>str</td><td>str</td><td>str</td><td>datetime[μs]</td><td>str</td><td>str</td><td>str</td><td>str</td><td>str</td><td>str</td><td>str</td><td>str</td><td>str</td><td>str</td><td>str</td><td>str</td><td>str</td><td>str</td><td>str</td><td>datetime[μs]</td><td>str</td><td>str</td><td>str</td><td>str</td><td>str</td><td>str</td><td>str</td><td>str</td><td>str</td><td>str</td><td>str</td><td>str</td><td>str</td><td>str</td><td>str</td><td>str</td><td>datetime[μs]</td><td>str</td><td>str</td><td>str</td><td>datetime[μs]</td><td>str</td><td>datetime[μs]</td><td>datetime[μs]</td><td>str</td><td>str</td><td>str</td><td>str</td><td>str</td><td>str</td><td>str</td><td>str</td><td>datetime[μs]</td><td>str</td></tr></thead><tbody><tr><td>&quot;AFG&quot;</td><td>&quot;Asia&quot;</td><td>&quot;Afghanistan&quot;</td><td>2020-01-05 00:00:00</td><td>null</td><td>&quot;0.0&quot;</td><td>null</td><td>null</td><td>&quot;0.0&quot;</td><td>null</td><td>null</td><td>&quot;0.0&quot;</td><td>null</td><td>null</td><td>&quot;0.0&quot;</td><td>null</td><td>null</td><td>null</td><td>null</td><td>null</td><td>null</td><td>null</td><td>null</td><td>null</td><td>null</td><td>null</td><td>null</td><td>null</td><td>null</td><td>null</td><td>null</td><td>null</td><td>null</td><td>null</td><td>null</td><td>null</td><td>null</td><td>null</td><td>null</td><td>null</td><td>null</td><td>null</td><td>null</td><td>null</td><td>null</td><td>null</td><td>null</td><td>&quot;0.0&quot;</td><td>&quot;54.422&quot;</td><td>2024-06-18 00:00:00</td><td>&quot;2.581&quot;</td><td>&quot;1.337&quot;</td><td>&quot;1803.987&quot;</td><td>null</td><td>&quot;597.029&quot;</td><td>1959-09-01 00:00:00</td><td>null</td><td>null</td><td>&quot;37.746&quot;</td><td>&quot;0.5&quot;</td><td>&quot;64.83&quot;</td><td>&quot;0.511&quot;</td><td>&quot;41128772.0&quot;</td><td>null</td><td>null</td><td>null</td><td>null</td></tr><tr><td>&quot;AFG&quot;</td><td>&quot;Asia&quot;</td><td>&quot;Afghanistan&quot;</td><td>2020-01-12 00:00:00</td><td>null</td><td>&quot;0.0&quot;</td><td>null</td><td>null</td><td>&quot;0.0&quot;</td><td>null</td><td>null</td><td>&quot;0.0&quot;</td><td>null</td><td>null</td><td>&quot;0.0&quot;</td><td>null</td><td>null</td><td>null</td><td>null</td><td>null</td><td>null</td><td>null</td><td>null</td><td>null</td><td>null</td><td>null</td><td>null</td><td>null</td><td>null</td><td>null</td><td>null</td><td>null</td><td>null</td><td>null</td><td>null</td><td>null</td><td>null</td><td>null</td><td>null</td><td>null</td><td>null</td><td>null</td><td>null</td><td>null</td><td>null</td><td>null</td><td>null</td><td>&quot;0.0&quot;</td><td>&quot;54.422&quot;</td><td>2024-06-18 00:00:00</td><td>&quot;2.581&quot;</td><td>&quot;1.337&quot;</td><td>&quot;1803.987&quot;</td><td>null</td><td>&quot;597.029&quot;</td><td>1959-09-01 00:00:00</td><td>null</td><td>null</td><td>&quot;37.746&quot;</td><td>&quot;0.5&quot;</td><td>&quot;64.83&quot;</td><td>&quot;0.511&quot;</td><td>&quot;41128772.0&quot;</td><td>null</td><td>null</td><td>null</td><td>null</td></tr><tr><td>&quot;AFG&quot;</td><td>&quot;Asia&quot;</td><td>&quot;Afghanistan&quot;</td><td>2020-01-19 00:00:00</td><td>null</td><td>&quot;0.0&quot;</td><td>null</td><td>null</td><td>&quot;0.0&quot;</td><td>null</td><td>null</td><td>&quot;0.0&quot;</td><td>null</td><td>null</td><td>&quot;0.0&quot;</td><td>null</td><td>null</td><td>null</td><td>null</td><td>null</td><td>null</td><td>null</td><td>null</td><td>null</td><td>null</td><td>null</td><td>null</td><td>null</td><td>null</td><td>null</td><td>null</td><td>null</td><td>null</td><td>null</td><td>null</td><td>null</td><td>null</td><td>null</td><td>null</td><td>null</td><td>null</td><td>null</td><td>null</td><td>null</td><td>null</td><td>null</td><td>null</td><td>&quot;0.0&quot;</td><td>&quot;54.422&quot;</td><td>2024-06-18 00:00:00</td><td>&quot;2.581&quot;</td><td>&quot;1.337&quot;</td><td>&quot;1803.987&quot;</td><td>null</td><td>&quot;597.029&quot;</td><td>1959-09-01 00:00:00</td><td>null</td><td>null</td><td>&quot;37.746&quot;</td><td>&quot;0.5&quot;</td><td>&quot;64.83&quot;</td><td>&quot;0.511&quot;</td><td>&quot;41128772.0&quot;</td><td>null</td><td>null</td><td>null</td><td>null</td></tr><tr><td>&quot;AFG&quot;</td><td>&quot;Asia&quot;</td><td>&quot;Afghanistan&quot;</td><td>2020-01-26 00:00:00</td><td>null</td><td>&quot;0.0&quot;</td><td>null</td><td>null</td><td>&quot;0.0&quot;</td><td>null</td><td>null</td><td>&quot;0.0&quot;</td><td>null</td><td>null</td><td>&quot;0.0&quot;</td><td>null</td><td>null</td><td>null</td><td>null</td><td>null</td><td>null</td><td>null</td><td>null</td><td>null</td><td>null</td><td>null</td><td>null</td><td>null</td><td>null</td><td>null</td><td>null</td><td>null</td><td>null</td><td>null</td><td>null</td><td>null</td><td>null</td><td>null</td><td>null</td><td>null</td><td>null</td><td>null</td><td>null</td><td>null</td><td>null</td><td>null</td><td>null</td><td>&quot;0.0&quot;</td><td>&quot;54.422&quot;</td><td>2024-06-18 00:00:00</td><td>&quot;2.581&quot;</td><td>&quot;1.337&quot;</td><td>&quot;1803.987&quot;</td><td>null</td><td>&quot;597.029&quot;</td><td>1959-09-01 00:00:00</td><td>null</td><td>null</td><td>&quot;37.746&quot;</td><td>&quot;0.5&quot;</td><td>&quot;64.83&quot;</td><td>&quot;0.511&quot;</td><td>&quot;41128772.0&quot;</td><td>null</td><td>null</td><td>null</td><td>null</td></tr><tr><td>&quot;AFG&quot;</td><td>&quot;Asia&quot;</td><td>&quot;Afghanistan&quot;</td><td>2020-02-02 00:00:00</td><td>null</td><td>&quot;0.0&quot;</td><td>null</td><td>null</td><td>&quot;0.0&quot;</td><td>null</td><td>null</td><td>&quot;0.0&quot;</td><td>null</td><td>null</td><td>&quot;0.0&quot;</td><td>null</td><td>null</td><td>null</td><td>null</td><td>null</td><td>null</td><td>null</td><td>null</td><td>null</td><td>null</td><td>null</td><td>null</td><td>null</td><td>null</td><td>null</td><td>null</td><td>null</td><td>null</td><td>null</td><td>null</td><td>null</td><td>null</td><td>null</td><td>null</td><td>null</td><td>null</td><td>null</td><td>null</td><td>null</td><td>null</td><td>null</td><td>null</td><td>&quot;0.0&quot;</td><td>&quot;54.422&quot;</td><td>2024-06-18 00:00:00</td><td>&quot;2.581&quot;</td><td>&quot;1.337&quot;</td><td>&quot;1803.987&quot;</td><td>null</td><td>&quot;597.029&quot;</td><td>1959-09-01 00:00:00</td><td>null</td><td>null</td><td>&quot;37.746&quot;</td><td>&quot;0.5&quot;</td><td>&quot;64.83&quot;</td><td>&quot;0.511&quot;</td><td>&quot;41128772.0&quot;</td><td>null</td><td>null</td><td>null</td><td>null</td></tr></tbody></table></div>"
      ],
      "text/plain": [
       "shape: (5, 67)\n",
       "┌──────────┬───────────┬───────────┬───────────┬───┬───────────┬───────────┬───────────┬───────────┐\n",
       "│ iso_code ┆ continent ┆ location  ┆ date      ┆ … ┆ excess_mo ┆ excess_mo ┆ excess_mo ┆ excess_mo │\n",
       "│ ---      ┆ ---       ┆ ---       ┆ ---       ┆   ┆ rtality_c ┆ rtality_c ┆ rtality   ┆ rtality_c │\n",
       "│ str      ┆ str       ┆ str       ┆ datetime[ ┆   ┆ umulative ┆ umulative ┆ ---       ┆ umulative │\n",
       "│          ┆           ┆           ┆ μs]       ┆   ┆ _abso…    ┆ ---       ┆ datetime[ ┆ _per_…    │\n",
       "│          ┆           ┆           ┆           ┆   ┆ ---       ┆ str       ┆ μs]       ┆ ---       │\n",
       "│          ┆           ┆           ┆           ┆   ┆ str       ┆           ┆           ┆ str       │\n",
       "╞══════════╪═══════════╪═══════════╪═══════════╪═══╪═══════════╪═══════════╪═══════════╪═══════════╡\n",
       "│ AFG      ┆ Asia      ┆ Afghanist ┆ 2020-01-0 ┆ … ┆ null      ┆ null      ┆ null      ┆ null      │\n",
       "│          ┆           ┆ an        ┆ 5         ┆   ┆           ┆           ┆           ┆           │\n",
       "│          ┆           ┆           ┆ 00:00:00  ┆   ┆           ┆           ┆           ┆           │\n",
       "│ AFG      ┆ Asia      ┆ Afghanist ┆ 2020-01-1 ┆ … ┆ null      ┆ null      ┆ null      ┆ null      │\n",
       "│          ┆           ┆ an        ┆ 2         ┆   ┆           ┆           ┆           ┆           │\n",
       "│          ┆           ┆           ┆ 00:00:00  ┆   ┆           ┆           ┆           ┆           │\n",
       "│ AFG      ┆ Asia      ┆ Afghanist ┆ 2020-01-1 ┆ … ┆ null      ┆ null      ┆ null      ┆ null      │\n",
       "│          ┆           ┆ an        ┆ 9         ┆   ┆           ┆           ┆           ┆           │\n",
       "│          ┆           ┆           ┆ 00:00:00  ┆   ┆           ┆           ┆           ┆           │\n",
       "│ AFG      ┆ Asia      ┆ Afghanist ┆ 2020-01-2 ┆ … ┆ null      ┆ null      ┆ null      ┆ null      │\n",
       "│          ┆           ┆ an        ┆ 6         ┆   ┆           ┆           ┆           ┆           │\n",
       "│          ┆           ┆           ┆ 00:00:00  ┆   ┆           ┆           ┆           ┆           │\n",
       "│ AFG      ┆ Asia      ┆ Afghanist ┆ 2020-02-0 ┆ … ┆ null      ┆ null      ┆ null      ┆ null      │\n",
       "│          ┆           ┆ an        ┆ 2         ┆   ┆           ┆           ┆           ┆           │\n",
       "│          ┆           ┆           ┆ 00:00:00  ┆   ┆           ┆           ┆           ┆           │\n",
       "└──────────┴───────────┴───────────┴───────────┴───┴───────────┴───────────┴───────────┴───────────┘"
      ]
     },
     "execution_count": 10,
     "metadata": {},
     "output_type": "execute_result"
    }
   ],
   "source": [
    "%%time\n",
    "scan_openpyxl().head()"
   ]
  },
  {
   "cell_type": "code",
   "execution_count": 10,
   "metadata": {
    "notebookRunGroups": {
     "groupValue": "2"
    }
   },
   "outputs": [
    {
     "name": "stdout",
     "output_type": "stream",
     "text": [
      "CPU times: total: 2min 33s\n",
      "Wall time: 2min 43s\n"
     ]
    },
    {
     "data": {
      "text/html": [
       "<div><style>\n",
       ".dataframe > thead > tr,\n",
       ".dataframe > tbody > tr {\n",
       "  text-align: right;\n",
       "  white-space: pre-wrap;\n",
       "}\n",
       "</style>\n",
       "<small>shape: (5, 67)</small><table border=\"1\" class=\"dataframe\"><thead><tr><th>iso_code</th><th>continent</th><th>location</th><th>date</th><th>total_cases</th><th>new_cases</th><th>new_cases_smoothed</th><th>total_deaths</th><th>new_deaths</th><th>new_deaths_smoothed</th><th>total_cases_per_million</th><th>new_cases_per_million</th><th>new_cases_smoothed_per_million</th><th>total_deaths_per_million</th><th>new_deaths_per_million</th><th>new_deaths_smoothed_per_million</th><th>reproduction_rate</th><th>icu_patients</th><th>icu_patients_per_million</th><th>hosp_patients</th><th>hosp_patients_per_million</th><th>weekly_icu_admissions</th><th>weekly_icu_admissions_per_million</th><th>weekly_hosp_admissions</th><th>weekly_hosp_admissions_per_million</th><th>total_tests</th><th>new_tests</th><th>total_tests_per_thousand</th><th>new_tests_per_thousand</th><th>new_tests_smoothed</th><th>new_tests_smoothed_per_thousand</th><th>positive_rate</th><th>tests_per_case</th><th>tests_units</th><th>total_vaccinations</th><th>people_vaccinated</th><th>people_fully_vaccinated</th><th>total_boosters</th><th>new_vaccinations</th><th>new_vaccinations_smoothed</th><th>total_vaccinations_per_hundred</th><th>people_vaccinated_per_hundred</th><th>people_fully_vaccinated_per_hundred</th><th>total_boosters_per_hundred</th><th>new_vaccinations_smoothed_per_million</th><th>new_people_vaccinated_smoothed</th><th>new_people_vaccinated_smoothed_per_hundred</th><th>stringency_index</th><th>population_density</th><th>median_age</th><th>aged_65_older</th><th>aged_70_older</th><th>gdp_per_capita</th><th>extreme_poverty</th><th>cardiovasc_death_rate</th><th>diabetes_prevalence</th><th>female_smokers</th><th>male_smokers</th><th>handwashing_facilities</th><th>hospital_beds_per_thousand</th><th>life_expectancy</th><th>human_development_index</th><th>population</th><th>excess_mortality_cumulative_absolute</th><th>excess_mortality_cumulative</th><th>excess_mortality</th><th>excess_mortality_cumulative_per_million</th></tr><tr><td>str</td><td>str</td><td>str</td><td>f64</td><td>str</td><td>str</td><td>str</td><td>str</td><td>str</td><td>str</td><td>str</td><td>str</td><td>str</td><td>str</td><td>str</td><td>str</td><td>str</td><td>str</td><td>str</td><td>str</td><td>str</td><td>str</td><td>str</td><td>str</td><td>str</td><td>str</td><td>str</td><td>str</td><td>str</td><td>str</td><td>str</td><td>str</td><td>str</td><td>str</td><td>str</td><td>str</td><td>str</td><td>str</td><td>str</td><td>str</td><td>str</td><td>str</td><td>str</td><td>str</td><td>str</td><td>str</td><td>str</td><td>str</td><td>str</td><td>str</td><td>str</td><td>str</td><td>str</td><td>str</td><td>str</td><td>str</td><td>str</td><td>str</td><td>str</td><td>str</td><td>str</td><td>str</td><td>str</td><td>str</td><td>str</td><td>str</td><td>str</td></tr></thead><tbody><tr><td>&quot;AFG&quot;</td><td>&quot;Asia&quot;</td><td>&quot;Afghanistan&quot;</td><td>43835.0</td><td>null</td><td>&quot;0.0&quot;</td><td>null</td><td>null</td><td>&quot;0.0&quot;</td><td>null</td><td>null</td><td>&quot;0.0&quot;</td><td>null</td><td>null</td><td>&quot;0.0&quot;</td><td>null</td><td>null</td><td>null</td><td>null</td><td>null</td><td>null</td><td>null</td><td>null</td><td>null</td><td>null</td><td>null</td><td>null</td><td>null</td><td>null</td><td>null</td><td>null</td><td>null</td><td>null</td><td>null</td><td>null</td><td>null</td><td>null</td><td>null</td><td>null</td><td>null</td><td>null</td><td>null</td><td>null</td><td>null</td><td>null</td><td>null</td><td>null</td><td>&quot;0.0&quot;</td><td>&quot;54.422&quot;</td><td>null</td><td>&quot;2.581&quot;</td><td>&quot;1.337&quot;</td><td>&quot;1803.987&quot;</td><td>null</td><td>&quot;597.029&quot;</td><td>null</td><td>null</td><td>null</td><td>&quot;37.746&quot;</td><td>&quot;0.5&quot;</td><td>&quot;64.83&quot;</td><td>&quot;0.511&quot;</td><td>&quot;41128772.0&quot;</td><td>null</td><td>null</td><td>null</td><td>null</td></tr><tr><td>&quot;AFG&quot;</td><td>&quot;Asia&quot;</td><td>&quot;Afghanistan&quot;</td><td>43842.0</td><td>null</td><td>&quot;0.0&quot;</td><td>null</td><td>null</td><td>&quot;0.0&quot;</td><td>null</td><td>null</td><td>&quot;0.0&quot;</td><td>null</td><td>null</td><td>&quot;0.0&quot;</td><td>null</td><td>null</td><td>null</td><td>null</td><td>null</td><td>null</td><td>null</td><td>null</td><td>null</td><td>null</td><td>null</td><td>null</td><td>null</td><td>null</td><td>null</td><td>null</td><td>null</td><td>null</td><td>null</td><td>null</td><td>null</td><td>null</td><td>null</td><td>null</td><td>null</td><td>null</td><td>null</td><td>null</td><td>null</td><td>null</td><td>null</td><td>null</td><td>&quot;0.0&quot;</td><td>&quot;54.422&quot;</td><td>null</td><td>&quot;2.581&quot;</td><td>&quot;1.337&quot;</td><td>&quot;1803.987&quot;</td><td>null</td><td>&quot;597.029&quot;</td><td>null</td><td>null</td><td>null</td><td>&quot;37.746&quot;</td><td>&quot;0.5&quot;</td><td>&quot;64.83&quot;</td><td>&quot;0.511&quot;</td><td>&quot;41128772.0&quot;</td><td>null</td><td>null</td><td>null</td><td>null</td></tr><tr><td>&quot;AFG&quot;</td><td>&quot;Asia&quot;</td><td>&quot;Afghanistan&quot;</td><td>43849.0</td><td>null</td><td>&quot;0.0&quot;</td><td>null</td><td>null</td><td>&quot;0.0&quot;</td><td>null</td><td>null</td><td>&quot;0.0&quot;</td><td>null</td><td>null</td><td>&quot;0.0&quot;</td><td>null</td><td>null</td><td>null</td><td>null</td><td>null</td><td>null</td><td>null</td><td>null</td><td>null</td><td>null</td><td>null</td><td>null</td><td>null</td><td>null</td><td>null</td><td>null</td><td>null</td><td>null</td><td>null</td><td>null</td><td>null</td><td>null</td><td>null</td><td>null</td><td>null</td><td>null</td><td>null</td><td>null</td><td>null</td><td>null</td><td>null</td><td>null</td><td>&quot;0.0&quot;</td><td>&quot;54.422&quot;</td><td>null</td><td>&quot;2.581&quot;</td><td>&quot;1.337&quot;</td><td>&quot;1803.987&quot;</td><td>null</td><td>&quot;597.029&quot;</td><td>null</td><td>null</td><td>null</td><td>&quot;37.746&quot;</td><td>&quot;0.5&quot;</td><td>&quot;64.83&quot;</td><td>&quot;0.511&quot;</td><td>&quot;41128772.0&quot;</td><td>null</td><td>null</td><td>null</td><td>null</td></tr><tr><td>&quot;AFG&quot;</td><td>&quot;Asia&quot;</td><td>&quot;Afghanistan&quot;</td><td>43856.0</td><td>null</td><td>&quot;0.0&quot;</td><td>null</td><td>null</td><td>&quot;0.0&quot;</td><td>null</td><td>null</td><td>&quot;0.0&quot;</td><td>null</td><td>null</td><td>&quot;0.0&quot;</td><td>null</td><td>null</td><td>null</td><td>null</td><td>null</td><td>null</td><td>null</td><td>null</td><td>null</td><td>null</td><td>null</td><td>null</td><td>null</td><td>null</td><td>null</td><td>null</td><td>null</td><td>null</td><td>null</td><td>null</td><td>null</td><td>null</td><td>null</td><td>null</td><td>null</td><td>null</td><td>null</td><td>null</td><td>null</td><td>null</td><td>null</td><td>null</td><td>&quot;0.0&quot;</td><td>&quot;54.422&quot;</td><td>null</td><td>&quot;2.581&quot;</td><td>&quot;1.337&quot;</td><td>&quot;1803.987&quot;</td><td>null</td><td>&quot;597.029&quot;</td><td>null</td><td>null</td><td>null</td><td>&quot;37.746&quot;</td><td>&quot;0.5&quot;</td><td>&quot;64.83&quot;</td><td>&quot;0.511&quot;</td><td>&quot;41128772.0&quot;</td><td>null</td><td>null</td><td>null</td><td>null</td></tr><tr><td>&quot;AFG&quot;</td><td>&quot;Asia&quot;</td><td>&quot;Afghanistan&quot;</td><td>43863.0</td><td>null</td><td>&quot;0.0&quot;</td><td>null</td><td>null</td><td>&quot;0.0&quot;</td><td>null</td><td>null</td><td>&quot;0.0&quot;</td><td>null</td><td>null</td><td>&quot;0.0&quot;</td><td>null</td><td>null</td><td>null</td><td>null</td><td>null</td><td>null</td><td>null</td><td>null</td><td>null</td><td>null</td><td>null</td><td>null</td><td>null</td><td>null</td><td>null</td><td>null</td><td>null</td><td>null</td><td>null</td><td>null</td><td>null</td><td>null</td><td>null</td><td>null</td><td>null</td><td>null</td><td>null</td><td>null</td><td>null</td><td>null</td><td>null</td><td>null</td><td>&quot;0.0&quot;</td><td>&quot;54.422&quot;</td><td>null</td><td>&quot;2.581&quot;</td><td>&quot;1.337&quot;</td><td>&quot;1803.987&quot;</td><td>null</td><td>&quot;597.029&quot;</td><td>null</td><td>null</td><td>null</td><td>&quot;37.746&quot;</td><td>&quot;0.5&quot;</td><td>&quot;64.83&quot;</td><td>&quot;0.511&quot;</td><td>&quot;41128772.0&quot;</td><td>null</td><td>null</td><td>null</td><td>null</td></tr></tbody></table></div>"
      ],
      "text/plain": [
       "shape: (5, 67)\n",
       "┌──────────┬───────────┬────────────┬─────────┬───┬────────────┬───────────┬───────────┬───────────┐\n",
       "│ iso_code ┆ continent ┆ location   ┆ date    ┆ … ┆ excess_mor ┆ excess_mo ┆ excess_mo ┆ excess_mo │\n",
       "│ ---      ┆ ---       ┆ ---        ┆ ---     ┆   ┆ tality_cum ┆ rtality_c ┆ rtality   ┆ rtality_c │\n",
       "│ str      ┆ str       ┆ str        ┆ f64     ┆   ┆ ulative_ab ┆ umulative ┆ ---       ┆ umulative │\n",
       "│          ┆           ┆            ┆         ┆   ┆ so…        ┆ ---       ┆ str       ┆ _per_…    │\n",
       "│          ┆           ┆            ┆         ┆   ┆ ---        ┆ str       ┆           ┆ ---       │\n",
       "│          ┆           ┆            ┆         ┆   ┆ str        ┆           ┆           ┆ str       │\n",
       "╞══════════╪═══════════╪════════════╪═════════╪═══╪════════════╪═══════════╪═══════════╪═══════════╡\n",
       "│ AFG      ┆ Asia      ┆ Afghanista ┆ 43835.0 ┆ … ┆ null       ┆ null      ┆ null      ┆ null      │\n",
       "│          ┆           ┆ n          ┆         ┆   ┆            ┆           ┆           ┆           │\n",
       "│ AFG      ┆ Asia      ┆ Afghanista ┆ 43842.0 ┆ … ┆ null       ┆ null      ┆ null      ┆ null      │\n",
       "│          ┆           ┆ n          ┆         ┆   ┆            ┆           ┆           ┆           │\n",
       "│ AFG      ┆ Asia      ┆ Afghanista ┆ 43849.0 ┆ … ┆ null       ┆ null      ┆ null      ┆ null      │\n",
       "│          ┆           ┆ n          ┆         ┆   ┆            ┆           ┆           ┆           │\n",
       "│ AFG      ┆ Asia      ┆ Afghanista ┆ 43856.0 ┆ … ┆ null       ┆ null      ┆ null      ┆ null      │\n",
       "│          ┆           ┆ n          ┆         ┆   ┆            ┆           ┆           ┆           │\n",
       "│ AFG      ┆ Asia      ┆ Afghanista ┆ 43863.0 ┆ … ┆ null       ┆ null      ┆ null      ┆ null      │\n",
       "│          ┆           ┆ n          ┆         ┆   ┆            ┆           ┆           ┆           │\n",
       "└──────────┴───────────┴────────────┴─────────┴───┴────────────┴───────────┴───────────┴───────────┘"
      ]
     },
     "execution_count": 10,
     "metadata": {},
     "output_type": "execute_result"
    }
   ],
   "source": [
    "%%time\n",
    "scan_pyxlsb().head()"
   ]
  },
  {
   "cell_type": "code",
   "execution_count": 10,
   "metadata": {},
   "outputs": [
    {
     "name": "stdout",
     "output_type": "stream",
     "text": [
      "CPU times: total: 18.3 s\n",
      "Wall time: 21.3 s\n"
     ]
    },
    {
     "data": {
      "text/html": [
       "<div><style>\n",
       ".dataframe > thead > tr,\n",
       ".dataframe > tbody > tr {\n",
       "  text-align: right;\n",
       "  white-space: pre-wrap;\n",
       "}\n",
       "</style>\n",
       "<small>shape: (5, 67)</small><table border=\"1\" class=\"dataframe\"><thead><tr><th>iso_code</th><th>continent</th><th>location</th><th>date</th><th>total_cases</th><th>new_cases</th><th>new_cases_smoothed</th><th>total_deaths</th><th>new_deaths</th><th>new_deaths_smoothed</th><th>total_cases_per_million</th><th>new_cases_per_million</th><th>new_cases_smoothed_per_million</th><th>total_deaths_per_million</th><th>new_deaths_per_million</th><th>new_deaths_smoothed_per_million</th><th>reproduction_rate</th><th>icu_patients</th><th>icu_patients_per_million</th><th>hosp_patients</th><th>hosp_patients_per_million</th><th>weekly_icu_admissions</th><th>weekly_icu_admissions_per_million</th><th>weekly_hosp_admissions</th><th>weekly_hosp_admissions_per_million</th><th>total_tests</th><th>new_tests</th><th>total_tests_per_thousand</th><th>new_tests_per_thousand</th><th>new_tests_smoothed</th><th>new_tests_smoothed_per_thousand</th><th>positive_rate</th><th>tests_per_case</th><th>tests_units</th><th>total_vaccinations</th><th>people_vaccinated</th><th>people_fully_vaccinated</th><th>total_boosters</th><th>new_vaccinations</th><th>new_vaccinations_smoothed</th><th>total_vaccinations_per_hundred</th><th>people_vaccinated_per_hundred</th><th>people_fully_vaccinated_per_hundred</th><th>total_boosters_per_hundred</th><th>new_vaccinations_smoothed_per_million</th><th>new_people_vaccinated_smoothed</th><th>new_people_vaccinated_smoothed_per_hundred</th><th>stringency_index</th><th>population_density</th><th>median_age</th><th>aged_65_older</th><th>aged_70_older</th><th>gdp_per_capita</th><th>extreme_poverty</th><th>cardiovasc_death_rate</th><th>diabetes_prevalence</th><th>female_smokers</th><th>male_smokers</th><th>handwashing_facilities</th><th>hospital_beds_per_thousand</th><th>life_expectancy</th><th>human_development_index</th><th>population</th><th>excess_mortality_cumulative_absolute</th><th>excess_mortality_cumulative</th><th>excess_mortality</th><th>excess_mortality_cumulative_per_million</th></tr><tr><td>str</td><td>str</td><td>str</td><td>str</td><td>str</td><td>str</td><td>str</td><td>str</td><td>str</td><td>str</td><td>str</td><td>str</td><td>str</td><td>str</td><td>str</td><td>str</td><td>str</td><td>str</td><td>str</td><td>str</td><td>str</td><td>str</td><td>str</td><td>str</td><td>str</td><td>str</td><td>str</td><td>str</td><td>str</td><td>str</td><td>str</td><td>str</td><td>str</td><td>str</td><td>str</td><td>str</td><td>str</td><td>str</td><td>str</td><td>str</td><td>str</td><td>str</td><td>str</td><td>str</td><td>str</td><td>str</td><td>str</td><td>str</td><td>str</td><td>str</td><td>str</td><td>str</td><td>str</td><td>str</td><td>str</td><td>str</td><td>str</td><td>str</td><td>str</td><td>str</td><td>str</td><td>str</td><td>str</td><td>str</td><td>str</td><td>str</td><td>str</td></tr></thead><tbody><tr><td>&quot;AFG&quot;</td><td>&quot;Asia&quot;</td><td>&quot;Afghanistan&quot;</td><td>&quot;2020-01-05&quot;</td><td>null</td><td>&quot;0.0&quot;</td><td>null</td><td>null</td><td>&quot;0.0&quot;</td><td>null</td><td>null</td><td>&quot;0.0&quot;</td><td>null</td><td>null</td><td>&quot;0.0&quot;</td><td>null</td><td>null</td><td>null</td><td>null</td><td>null</td><td>null</td><td>null</td><td>null</td><td>null</td><td>null</td><td>null</td><td>null</td><td>null</td><td>null</td><td>null</td><td>null</td><td>null</td><td>null</td><td>null</td><td>null</td><td>null</td><td>null</td><td>null</td><td>null</td><td>null</td><td>null</td><td>null</td><td>null</td><td>null</td><td>null</td><td>null</td><td>null</td><td>&quot;0.0&quot;</td><td>&quot;54.422&quot;</td><td>&quot;2024-06-18&quot;</td><td>&quot;2.581&quot;</td><td>&quot;1.337&quot;</td><td>&quot;1803.987&quot;</td><td>null</td><td>&quot;597.029&quot;</td><td>&quot;1959-09-01&quot;</td><td>null</td><td>null</td><td>&quot;37.746&quot;</td><td>&quot;0.5&quot;</td><td>&quot;64.83&quot;</td><td>&quot;0.511&quot;</td><td>&quot;41128772.0&quot;</td><td>null</td><td>null</td><td>null</td><td>null</td></tr><tr><td>&quot;AFG&quot;</td><td>&quot;Asia&quot;</td><td>&quot;Afghanistan&quot;</td><td>&quot;2020-01-12&quot;</td><td>null</td><td>&quot;0.0&quot;</td><td>null</td><td>null</td><td>&quot;0.0&quot;</td><td>null</td><td>null</td><td>&quot;0.0&quot;</td><td>null</td><td>null</td><td>&quot;0.0&quot;</td><td>null</td><td>null</td><td>null</td><td>null</td><td>null</td><td>null</td><td>null</td><td>null</td><td>null</td><td>null</td><td>null</td><td>null</td><td>null</td><td>null</td><td>null</td><td>null</td><td>null</td><td>null</td><td>null</td><td>null</td><td>null</td><td>null</td><td>null</td><td>null</td><td>null</td><td>null</td><td>null</td><td>null</td><td>null</td><td>null</td><td>null</td><td>null</td><td>&quot;0.0&quot;</td><td>&quot;54.422&quot;</td><td>&quot;2024-06-18&quot;</td><td>&quot;2.581&quot;</td><td>&quot;1.337&quot;</td><td>&quot;1803.987&quot;</td><td>null</td><td>&quot;597.029&quot;</td><td>&quot;1959-09-01&quot;</td><td>null</td><td>null</td><td>&quot;37.746&quot;</td><td>&quot;0.5&quot;</td><td>&quot;64.83&quot;</td><td>&quot;0.511&quot;</td><td>&quot;41128772.0&quot;</td><td>null</td><td>null</td><td>null</td><td>null</td></tr><tr><td>&quot;AFG&quot;</td><td>&quot;Asia&quot;</td><td>&quot;Afghanistan&quot;</td><td>&quot;2020-01-19&quot;</td><td>null</td><td>&quot;0.0&quot;</td><td>null</td><td>null</td><td>&quot;0.0&quot;</td><td>null</td><td>null</td><td>&quot;0.0&quot;</td><td>null</td><td>null</td><td>&quot;0.0&quot;</td><td>null</td><td>null</td><td>null</td><td>null</td><td>null</td><td>null</td><td>null</td><td>null</td><td>null</td><td>null</td><td>null</td><td>null</td><td>null</td><td>null</td><td>null</td><td>null</td><td>null</td><td>null</td><td>null</td><td>null</td><td>null</td><td>null</td><td>null</td><td>null</td><td>null</td><td>null</td><td>null</td><td>null</td><td>null</td><td>null</td><td>null</td><td>null</td><td>&quot;0.0&quot;</td><td>&quot;54.422&quot;</td><td>&quot;2024-06-18&quot;</td><td>&quot;2.581&quot;</td><td>&quot;1.337&quot;</td><td>&quot;1803.987&quot;</td><td>null</td><td>&quot;597.029&quot;</td><td>&quot;1959-09-01&quot;</td><td>null</td><td>null</td><td>&quot;37.746&quot;</td><td>&quot;0.5&quot;</td><td>&quot;64.83&quot;</td><td>&quot;0.511&quot;</td><td>&quot;41128772.0&quot;</td><td>null</td><td>null</td><td>null</td><td>null</td></tr><tr><td>&quot;AFG&quot;</td><td>&quot;Asia&quot;</td><td>&quot;Afghanistan&quot;</td><td>&quot;2020-01-26&quot;</td><td>null</td><td>&quot;0.0&quot;</td><td>null</td><td>null</td><td>&quot;0.0&quot;</td><td>null</td><td>null</td><td>&quot;0.0&quot;</td><td>null</td><td>null</td><td>&quot;0.0&quot;</td><td>null</td><td>null</td><td>null</td><td>null</td><td>null</td><td>null</td><td>null</td><td>null</td><td>null</td><td>null</td><td>null</td><td>null</td><td>null</td><td>null</td><td>null</td><td>null</td><td>null</td><td>null</td><td>null</td><td>null</td><td>null</td><td>null</td><td>null</td><td>null</td><td>null</td><td>null</td><td>null</td><td>null</td><td>null</td><td>null</td><td>null</td><td>null</td><td>&quot;0.0&quot;</td><td>&quot;54.422&quot;</td><td>&quot;2024-06-18&quot;</td><td>&quot;2.581&quot;</td><td>&quot;1.337&quot;</td><td>&quot;1803.987&quot;</td><td>null</td><td>&quot;597.029&quot;</td><td>&quot;1959-09-01&quot;</td><td>null</td><td>null</td><td>&quot;37.746&quot;</td><td>&quot;0.5&quot;</td><td>&quot;64.83&quot;</td><td>&quot;0.511&quot;</td><td>&quot;41128772.0&quot;</td><td>null</td><td>null</td><td>null</td><td>null</td></tr><tr><td>&quot;AFG&quot;</td><td>&quot;Asia&quot;</td><td>&quot;Afghanistan&quot;</td><td>&quot;2020-02-02&quot;</td><td>null</td><td>&quot;0.0&quot;</td><td>null</td><td>null</td><td>&quot;0.0&quot;</td><td>null</td><td>null</td><td>&quot;0.0&quot;</td><td>null</td><td>null</td><td>&quot;0.0&quot;</td><td>null</td><td>null</td><td>null</td><td>null</td><td>null</td><td>null</td><td>null</td><td>null</td><td>null</td><td>null</td><td>null</td><td>null</td><td>null</td><td>null</td><td>null</td><td>null</td><td>null</td><td>null</td><td>null</td><td>null</td><td>null</td><td>null</td><td>null</td><td>null</td><td>null</td><td>null</td><td>null</td><td>null</td><td>null</td><td>null</td><td>null</td><td>null</td><td>&quot;0.0&quot;</td><td>&quot;54.422&quot;</td><td>&quot;2024-06-18&quot;</td><td>&quot;2.581&quot;</td><td>&quot;1.337&quot;</td><td>&quot;1803.987&quot;</td><td>null</td><td>&quot;597.029&quot;</td><td>&quot;1959-09-01&quot;</td><td>null</td><td>null</td><td>&quot;37.746&quot;</td><td>&quot;0.5&quot;</td><td>&quot;64.83&quot;</td><td>&quot;0.511&quot;</td><td>&quot;41128772.0&quot;</td><td>null</td><td>null</td><td>null</td><td>null</td></tr></tbody></table></div>"
      ],
      "text/plain": [
       "shape: (5, 67)\n",
       "┌──────────┬───────────┬───────────┬───────────┬───┬───────────┬───────────┬───────────┬───────────┐\n",
       "│ iso_code ┆ continent ┆ location  ┆ date      ┆ … ┆ excess_mo ┆ excess_mo ┆ excess_mo ┆ excess_mo │\n",
       "│ ---      ┆ ---       ┆ ---       ┆ ---       ┆   ┆ rtality_c ┆ rtality_c ┆ rtality   ┆ rtality_c │\n",
       "│ str      ┆ str       ┆ str       ┆ str       ┆   ┆ umulative ┆ umulative ┆ ---       ┆ umulative │\n",
       "│          ┆           ┆           ┆           ┆   ┆ _abso…    ┆ ---       ┆ str       ┆ _per_…    │\n",
       "│          ┆           ┆           ┆           ┆   ┆ ---       ┆ str       ┆           ┆ ---       │\n",
       "│          ┆           ┆           ┆           ┆   ┆ str       ┆           ┆           ┆ str       │\n",
       "╞══════════╪═══════════╪═══════════╪═══════════╪═══╪═══════════╪═══════════╪═══════════╪═══════════╡\n",
       "│ AFG      ┆ Asia      ┆ Afghanist ┆ 2020-01-0 ┆ … ┆ null      ┆ null      ┆ null      ┆ null      │\n",
       "│          ┆           ┆ an        ┆ 5         ┆   ┆           ┆           ┆           ┆           │\n",
       "│ AFG      ┆ Asia      ┆ Afghanist ┆ 2020-01-1 ┆ … ┆ null      ┆ null      ┆ null      ┆ null      │\n",
       "│          ┆           ┆ an        ┆ 2         ┆   ┆           ┆           ┆           ┆           │\n",
       "│ AFG      ┆ Asia      ┆ Afghanist ┆ 2020-01-1 ┆ … ┆ null      ┆ null      ┆ null      ┆ null      │\n",
       "│          ┆           ┆ an        ┆ 9         ┆   ┆           ┆           ┆           ┆           │\n",
       "│ AFG      ┆ Asia      ┆ Afghanist ┆ 2020-01-2 ┆ … ┆ null      ┆ null      ┆ null      ┆ null      │\n",
       "│          ┆           ┆ an        ┆ 6         ┆   ┆           ┆           ┆           ┆           │\n",
       "│ AFG      ┆ Asia      ┆ Afghanist ┆ 2020-02-0 ┆ … ┆ null      ┆ null      ┆ null      ┆ null      │\n",
       "│          ┆           ┆ an        ┆ 2         ┆   ┆           ┆           ┆           ┆           │\n",
       "└──────────┴───────────┴───────────┴───────────┴───┴───────────┴───────────┴───────────┴───────────┘"
      ]
     },
     "execution_count": 10,
     "metadata": {},
     "output_type": "execute_result"
    }
   ],
   "source": [
    "%%time\n",
    "scan_calamine(XLSB_FILE).head()"
   ]
  },
  {
   "cell_type": "code",
   "execution_count": 10,
   "metadata": {
    "notebookRunGroups": {
     "groupValue": "2"
    }
   },
   "outputs": [
    {
     "name": "stdout",
     "output_type": "stream",
     "text": [
      "CPU times: total: 33.9 s\n",
      "Wall time: 36.5 s\n"
     ]
    },
    {
     "data": {
      "text/html": [
       "<div><style>\n",
       ".dataframe > thead > tr,\n",
       ".dataframe > tbody > tr {\n",
       "  text-align: right;\n",
       "  white-space: pre-wrap;\n",
       "}\n",
       "</style>\n",
       "<small>shape: (5, 67)</small><table border=\"1\" class=\"dataframe\"><thead><tr><th>iso_code</th><th>continent</th><th>location</th><th>date</th><th>total_cases</th><th>new_cases</th><th>new_cases_smoothed</th><th>total_deaths</th><th>new_deaths</th><th>new_deaths_smoothed</th><th>total_cases_per_million</th><th>new_cases_per_million</th><th>new_cases_smoothed_per_million</th><th>total_deaths_per_million</th><th>new_deaths_per_million</th><th>new_deaths_smoothed_per_million</th><th>reproduction_rate</th><th>icu_patients</th><th>icu_patients_per_million</th><th>hosp_patients</th><th>hosp_patients_per_million</th><th>weekly_icu_admissions</th><th>weekly_icu_admissions_per_million</th><th>weekly_hosp_admissions</th><th>weekly_hosp_admissions_per_million</th><th>total_tests</th><th>new_tests</th><th>total_tests_per_thousand</th><th>new_tests_per_thousand</th><th>new_tests_smoothed</th><th>new_tests_smoothed_per_thousand</th><th>positive_rate</th><th>tests_per_case</th><th>tests_units</th><th>total_vaccinations</th><th>people_vaccinated</th><th>people_fully_vaccinated</th><th>total_boosters</th><th>new_vaccinations</th><th>new_vaccinations_smoothed</th><th>total_vaccinations_per_hundred</th><th>people_vaccinated_per_hundred</th><th>people_fully_vaccinated_per_hundred</th><th>total_boosters_per_hundred</th><th>new_vaccinations_smoothed_per_million</th><th>new_people_vaccinated_smoothed</th><th>new_people_vaccinated_smoothed_per_hundred</th><th>stringency_index</th><th>population_density</th><th>median_age</th><th>aged_65_older</th><th>aged_70_older</th><th>gdp_per_capita</th><th>extreme_poverty</th><th>cardiovasc_death_rate</th><th>diabetes_prevalence</th><th>female_smokers</th><th>male_smokers</th><th>handwashing_facilities</th><th>hospital_beds_per_thousand</th><th>life_expectancy</th><th>human_development_index</th><th>population</th><th>excess_mortality_cumulative_absolute</th><th>excess_mortality_cumulative</th><th>excess_mortality</th><th>excess_mortality_cumulative_per_million</th></tr><tr><td>str</td><td>str</td><td>str</td><td>str</td><td>str</td><td>str</td><td>str</td><td>str</td><td>str</td><td>str</td><td>str</td><td>str</td><td>str</td><td>str</td><td>str</td><td>str</td><td>str</td><td>str</td><td>str</td><td>str</td><td>str</td><td>str</td><td>str</td><td>str</td><td>str</td><td>str</td><td>str</td><td>str</td><td>str</td><td>str</td><td>str</td><td>str</td><td>str</td><td>str</td><td>str</td><td>str</td><td>str</td><td>str</td><td>str</td><td>str</td><td>str</td><td>str</td><td>str</td><td>str</td><td>str</td><td>str</td><td>str</td><td>str</td><td>str</td><td>str</td><td>str</td><td>str</td><td>str</td><td>str</td><td>str</td><td>str</td><td>str</td><td>str</td><td>str</td><td>str</td><td>str</td><td>str</td><td>str</td><td>str</td><td>str</td><td>str</td><td>str</td></tr></thead><tbody><tr><td>&quot;AFG&quot;</td><td>&quot;Asia&quot;</td><td>&quot;Afghanistan&quot;</td><td>&quot;2020-01-05&quot;</td><td>null</td><td>&quot;0.0&quot;</td><td>null</td><td>null</td><td>&quot;0.0&quot;</td><td>null</td><td>null</td><td>&quot;0.0&quot;</td><td>null</td><td>null</td><td>&quot;0.0&quot;</td><td>null</td><td>null</td><td>null</td><td>null</td><td>null</td><td>null</td><td>null</td><td>null</td><td>null</td><td>null</td><td>null</td><td>null</td><td>null</td><td>null</td><td>null</td><td>null</td><td>null</td><td>null</td><td>null</td><td>null</td><td>null</td><td>null</td><td>null</td><td>null</td><td>null</td><td>null</td><td>null</td><td>null</td><td>null</td><td>null</td><td>null</td><td>null</td><td>&quot;0.0&quot;</td><td>&quot;54.422&quot;</td><td>&quot;2024-06-18&quot;</td><td>&quot;2.581&quot;</td><td>&quot;1.337&quot;</td><td>&quot;1803.987&quot;</td><td>null</td><td>&quot;597.029&quot;</td><td>&quot;1959-09-01&quot;</td><td>null</td><td>null</td><td>&quot;37.746&quot;</td><td>&quot;0.5&quot;</td><td>&quot;64.83&quot;</td><td>&quot;0.511&quot;</td><td>&quot;41128772.0&quot;</td><td>null</td><td>null</td><td>null</td><td>null</td></tr><tr><td>&quot;AFG&quot;</td><td>&quot;Asia&quot;</td><td>&quot;Afghanistan&quot;</td><td>&quot;2020-01-12&quot;</td><td>null</td><td>&quot;0.0&quot;</td><td>null</td><td>null</td><td>&quot;0.0&quot;</td><td>null</td><td>null</td><td>&quot;0.0&quot;</td><td>null</td><td>null</td><td>&quot;0.0&quot;</td><td>null</td><td>null</td><td>null</td><td>null</td><td>null</td><td>null</td><td>null</td><td>null</td><td>null</td><td>null</td><td>null</td><td>null</td><td>null</td><td>null</td><td>null</td><td>null</td><td>null</td><td>null</td><td>null</td><td>null</td><td>null</td><td>null</td><td>null</td><td>null</td><td>null</td><td>null</td><td>null</td><td>null</td><td>null</td><td>null</td><td>null</td><td>null</td><td>&quot;0.0&quot;</td><td>&quot;54.422&quot;</td><td>&quot;2024-06-18&quot;</td><td>&quot;2.581&quot;</td><td>&quot;1.337&quot;</td><td>&quot;1803.987&quot;</td><td>null</td><td>&quot;597.029&quot;</td><td>&quot;1959-09-01&quot;</td><td>null</td><td>null</td><td>&quot;37.746&quot;</td><td>&quot;0.5&quot;</td><td>&quot;64.83&quot;</td><td>&quot;0.511&quot;</td><td>&quot;41128772.0&quot;</td><td>null</td><td>null</td><td>null</td><td>null</td></tr><tr><td>&quot;AFG&quot;</td><td>&quot;Asia&quot;</td><td>&quot;Afghanistan&quot;</td><td>&quot;2020-01-19&quot;</td><td>null</td><td>&quot;0.0&quot;</td><td>null</td><td>null</td><td>&quot;0.0&quot;</td><td>null</td><td>null</td><td>&quot;0.0&quot;</td><td>null</td><td>null</td><td>&quot;0.0&quot;</td><td>null</td><td>null</td><td>null</td><td>null</td><td>null</td><td>null</td><td>null</td><td>null</td><td>null</td><td>null</td><td>null</td><td>null</td><td>null</td><td>null</td><td>null</td><td>null</td><td>null</td><td>null</td><td>null</td><td>null</td><td>null</td><td>null</td><td>null</td><td>null</td><td>null</td><td>null</td><td>null</td><td>null</td><td>null</td><td>null</td><td>null</td><td>null</td><td>&quot;0.0&quot;</td><td>&quot;54.422&quot;</td><td>&quot;2024-06-18&quot;</td><td>&quot;2.581&quot;</td><td>&quot;1.337&quot;</td><td>&quot;1803.987&quot;</td><td>null</td><td>&quot;597.029&quot;</td><td>&quot;1959-09-01&quot;</td><td>null</td><td>null</td><td>&quot;37.746&quot;</td><td>&quot;0.5&quot;</td><td>&quot;64.83&quot;</td><td>&quot;0.511&quot;</td><td>&quot;41128772.0&quot;</td><td>null</td><td>null</td><td>null</td><td>null</td></tr><tr><td>&quot;AFG&quot;</td><td>&quot;Asia&quot;</td><td>&quot;Afghanistan&quot;</td><td>&quot;2020-01-26&quot;</td><td>null</td><td>&quot;0.0&quot;</td><td>null</td><td>null</td><td>&quot;0.0&quot;</td><td>null</td><td>null</td><td>&quot;0.0&quot;</td><td>null</td><td>null</td><td>&quot;0.0&quot;</td><td>null</td><td>null</td><td>null</td><td>null</td><td>null</td><td>null</td><td>null</td><td>null</td><td>null</td><td>null</td><td>null</td><td>null</td><td>null</td><td>null</td><td>null</td><td>null</td><td>null</td><td>null</td><td>null</td><td>null</td><td>null</td><td>null</td><td>null</td><td>null</td><td>null</td><td>null</td><td>null</td><td>null</td><td>null</td><td>null</td><td>null</td><td>null</td><td>&quot;0.0&quot;</td><td>&quot;54.422&quot;</td><td>&quot;2024-06-18&quot;</td><td>&quot;2.581&quot;</td><td>&quot;1.337&quot;</td><td>&quot;1803.987&quot;</td><td>null</td><td>&quot;597.029&quot;</td><td>&quot;1959-09-01&quot;</td><td>null</td><td>null</td><td>&quot;37.746&quot;</td><td>&quot;0.5&quot;</td><td>&quot;64.83&quot;</td><td>&quot;0.511&quot;</td><td>&quot;41128772.0&quot;</td><td>null</td><td>null</td><td>null</td><td>null</td></tr><tr><td>&quot;AFG&quot;</td><td>&quot;Asia&quot;</td><td>&quot;Afghanistan&quot;</td><td>&quot;2020-02-02&quot;</td><td>null</td><td>&quot;0.0&quot;</td><td>null</td><td>null</td><td>&quot;0.0&quot;</td><td>null</td><td>null</td><td>&quot;0.0&quot;</td><td>null</td><td>null</td><td>&quot;0.0&quot;</td><td>null</td><td>null</td><td>null</td><td>null</td><td>null</td><td>null</td><td>null</td><td>null</td><td>null</td><td>null</td><td>null</td><td>null</td><td>null</td><td>null</td><td>null</td><td>null</td><td>null</td><td>null</td><td>null</td><td>null</td><td>null</td><td>null</td><td>null</td><td>null</td><td>null</td><td>null</td><td>null</td><td>null</td><td>null</td><td>null</td><td>null</td><td>null</td><td>&quot;0.0&quot;</td><td>&quot;54.422&quot;</td><td>&quot;2024-06-18&quot;</td><td>&quot;2.581&quot;</td><td>&quot;1.337&quot;</td><td>&quot;1803.987&quot;</td><td>null</td><td>&quot;597.029&quot;</td><td>&quot;1959-09-01&quot;</td><td>null</td><td>null</td><td>&quot;37.746&quot;</td><td>&quot;0.5&quot;</td><td>&quot;64.83&quot;</td><td>&quot;0.511&quot;</td><td>&quot;41128772.0&quot;</td><td>null</td><td>null</td><td>null</td><td>null</td></tr></tbody></table></div>"
      ],
      "text/plain": [
       "shape: (5, 67)\n",
       "┌──────────┬───────────┬───────────┬───────────┬───┬───────────┬───────────┬───────────┬───────────┐\n",
       "│ iso_code ┆ continent ┆ location  ┆ date      ┆ … ┆ excess_mo ┆ excess_mo ┆ excess_mo ┆ excess_mo │\n",
       "│ ---      ┆ ---       ┆ ---       ┆ ---       ┆   ┆ rtality_c ┆ rtality_c ┆ rtality   ┆ rtality_c │\n",
       "│ str      ┆ str       ┆ str       ┆ str       ┆   ┆ umulative ┆ umulative ┆ ---       ┆ umulative │\n",
       "│          ┆           ┆           ┆           ┆   ┆ _abso…    ┆ ---       ┆ str       ┆ _per_…    │\n",
       "│          ┆           ┆           ┆           ┆   ┆ ---       ┆ str       ┆           ┆ ---       │\n",
       "│          ┆           ┆           ┆           ┆   ┆ str       ┆           ┆           ┆ str       │\n",
       "╞══════════╪═══════════╪═══════════╪═══════════╪═══╪═══════════╪═══════════╪═══════════╪═══════════╡\n",
       "│ AFG      ┆ Asia      ┆ Afghanist ┆ 2020-01-0 ┆ … ┆ null      ┆ null      ┆ null      ┆ null      │\n",
       "│          ┆           ┆ an        ┆ 5         ┆   ┆           ┆           ┆           ┆           │\n",
       "│ AFG      ┆ Asia      ┆ Afghanist ┆ 2020-01-1 ┆ … ┆ null      ┆ null      ┆ null      ┆ null      │\n",
       "│          ┆           ┆ an        ┆ 2         ┆   ┆           ┆           ┆           ┆           │\n",
       "│ AFG      ┆ Asia      ┆ Afghanist ┆ 2020-01-1 ┆ … ┆ null      ┆ null      ┆ null      ┆ null      │\n",
       "│          ┆           ┆ an        ┆ 9         ┆   ┆           ┆           ┆           ┆           │\n",
       "│ AFG      ┆ Asia      ┆ Afghanist ┆ 2020-01-2 ┆ … ┆ null      ┆ null      ┆ null      ┆ null      │\n",
       "│          ┆           ┆ an        ┆ 6         ┆   ┆           ┆           ┆           ┆           │\n",
       "│ AFG      ┆ Asia      ┆ Afghanist ┆ 2020-02-0 ┆ … ┆ null      ┆ null      ┆ null      ┆ null      │\n",
       "│          ┆           ┆ an        ┆ 2         ┆   ┆           ┆           ┆           ┆           │\n",
       "└──────────┴───────────┴───────────┴───────────┴───┴───────────┴───────────┴───────────┴───────────┘"
      ]
     },
     "execution_count": 10,
     "metadata": {},
     "output_type": "execute_result"
    }
   ],
   "source": [
    "%%time\n",
    "scan_calamine(XLSX_FILE).head()"
   ]
  },
  {
   "cell_type": "code",
   "execution_count": 10,
   "metadata": {
    "notebookRunGroups": {
     "groupValue": "2"
    }
   },
   "outputs": [
    {
     "name": "stdout",
     "output_type": "stream",
     "text": [
      "CPU times: total: 2min 4s\n",
      "Wall time: 2min 6s\n"
     ]
    },
    {
     "data": {
      "text/html": [
       "<div><style>\n",
       ".dataframe > thead > tr,\n",
       ".dataframe > tbody > tr {\n",
       "  text-align: right;\n",
       "  white-space: pre-wrap;\n",
       "}\n",
       "</style>\n",
       "<small>shape: (5, 67)</small><table border=\"1\" class=\"dataframe\"><thead><tr><th>iso_code</th><th>continent</th><th>location</th><th>date</th><th>total_cases</th><th>new_cases</th><th>new_cases_smoothed</th><th>total_deaths</th><th>new_deaths</th><th>new_deaths_smoothed</th><th>total_cases_per_million</th><th>new_cases_per_million</th><th>new_cases_smoothed_per_million</th><th>total_deaths_per_million</th><th>new_deaths_per_million</th><th>new_deaths_smoothed_per_million</th><th>reproduction_rate</th><th>icu_patients</th><th>icu_patients_per_million</th><th>hosp_patients</th><th>hosp_patients_per_million</th><th>weekly_icu_admissions</th><th>weekly_icu_admissions_per_million</th><th>weekly_hosp_admissions</th><th>weekly_hosp_admissions_per_million</th><th>total_tests</th><th>new_tests</th><th>total_tests_per_thousand</th><th>new_tests_per_thousand</th><th>new_tests_smoothed</th><th>new_tests_smoothed_per_thousand</th><th>positive_rate</th><th>tests_per_case</th><th>tests_units</th><th>total_vaccinations</th><th>people_vaccinated</th><th>people_fully_vaccinated</th><th>total_boosters</th><th>new_vaccinations</th><th>new_vaccinations_smoothed</th><th>total_vaccinations_per_hundred</th><th>people_vaccinated_per_hundred</th><th>people_fully_vaccinated_per_hundred</th><th>total_boosters_per_hundred</th><th>new_vaccinations_smoothed_per_million</th><th>new_people_vaccinated_smoothed</th><th>new_people_vaccinated_smoothed_per_hundred</th><th>stringency_index</th><th>population_density</th><th>median_age</th><th>aged_65_older</th><th>aged_70_older</th><th>gdp_per_capita</th><th>extreme_poverty</th><th>cardiovasc_death_rate</th><th>diabetes_prevalence</th><th>female_smokers</th><th>male_smokers</th><th>handwashing_facilities</th><th>hospital_beds_per_thousand</th><th>life_expectancy</th><th>human_development_index</th><th>population</th><th>excess_mortality_cumulative_absolute</th><th>excess_mortality_cumulative</th><th>excess_mortality</th><th>excess_mortality_cumulative_per_million</th></tr><tr><td>str</td><td>str</td><td>str</td><td>datetime[ms]</td><td>str</td><td>str</td><td>str</td><td>str</td><td>str</td><td>str</td><td>str</td><td>str</td><td>str</td><td>str</td><td>str</td><td>str</td><td>str</td><td>str</td><td>str</td><td>str</td><td>str</td><td>str</td><td>str</td><td>str</td><td>str</td><td>str</td><td>str</td><td>str</td><td>str</td><td>str</td><td>str</td><td>str</td><td>str</td><td>str</td><td>str</td><td>str</td><td>str</td><td>str</td><td>str</td><td>str</td><td>str</td><td>str</td><td>str</td><td>str</td><td>str</td><td>str</td><td>str</td><td>str</td><td>str</td><td>str</td><td>str</td><td>str</td><td>str</td><td>str</td><td>str</td><td>str</td><td>str</td><td>str</td><td>str</td><td>str</td><td>str</td><td>str</td><td>str</td><td>str</td><td>str</td><td>str</td><td>str</td></tr></thead><tbody><tr><td>&quot;AFG&quot;</td><td>&quot;Asia&quot;</td><td>&quot;Afghanistan&quot;</td><td>2020-01-05 00:00:00</td><td>null</td><td>&quot;0.0&quot;</td><td>null</td><td>null</td><td>&quot;0.0&quot;</td><td>null</td><td>null</td><td>&quot;0.0&quot;</td><td>null</td><td>null</td><td>&quot;0.0&quot;</td><td>null</td><td>null</td><td>null</td><td>null</td><td>null</td><td>null</td><td>null</td><td>null</td><td>null</td><td>null</td><td>null</td><td>null</td><td>null</td><td>null</td><td>null</td><td>null</td><td>null</td><td>null</td><td>null</td><td>null</td><td>null</td><td>null</td><td>null</td><td>null</td><td>null</td><td>null</td><td>null</td><td>null</td><td>null</td><td>null</td><td>null</td><td>null</td><td>&quot;0.0&quot;</td><td>&quot;54.422&quot;</td><td>&quot;2024-06-18 00:…</td><td>&quot;2.581&quot;</td><td>&quot;1.337&quot;</td><td>&quot;1803.987&quot;</td><td>null</td><td>&quot;597.029&quot;</td><td>&quot;1959-09-01 00:…</td><td>null</td><td>null</td><td>&quot;37.746&quot;</td><td>&quot;0.5&quot;</td><td>&quot;64.83&quot;</td><td>&quot;0.511&quot;</td><td>&quot;41128772.0&quot;</td><td>null</td><td>null</td><td>null</td><td>null</td></tr><tr><td>&quot;AFG&quot;</td><td>&quot;Asia&quot;</td><td>&quot;Afghanistan&quot;</td><td>2020-01-12 00:00:00</td><td>null</td><td>&quot;0.0&quot;</td><td>null</td><td>null</td><td>&quot;0.0&quot;</td><td>null</td><td>null</td><td>&quot;0.0&quot;</td><td>null</td><td>null</td><td>&quot;0.0&quot;</td><td>null</td><td>null</td><td>null</td><td>null</td><td>null</td><td>null</td><td>null</td><td>null</td><td>null</td><td>null</td><td>null</td><td>null</td><td>null</td><td>null</td><td>null</td><td>null</td><td>null</td><td>null</td><td>null</td><td>null</td><td>null</td><td>null</td><td>null</td><td>null</td><td>null</td><td>null</td><td>null</td><td>null</td><td>null</td><td>null</td><td>null</td><td>null</td><td>&quot;0.0&quot;</td><td>&quot;54.422&quot;</td><td>&quot;2024-06-18 00:…</td><td>&quot;2.581&quot;</td><td>&quot;1.337&quot;</td><td>&quot;1803.987&quot;</td><td>null</td><td>&quot;597.029&quot;</td><td>&quot;1959-09-01 00:…</td><td>null</td><td>null</td><td>&quot;37.746&quot;</td><td>&quot;0.5&quot;</td><td>&quot;64.83&quot;</td><td>&quot;0.511&quot;</td><td>&quot;41128772.0&quot;</td><td>null</td><td>null</td><td>null</td><td>null</td></tr><tr><td>&quot;AFG&quot;</td><td>&quot;Asia&quot;</td><td>&quot;Afghanistan&quot;</td><td>2020-01-19 00:00:00</td><td>null</td><td>&quot;0.0&quot;</td><td>null</td><td>null</td><td>&quot;0.0&quot;</td><td>null</td><td>null</td><td>&quot;0.0&quot;</td><td>null</td><td>null</td><td>&quot;0.0&quot;</td><td>null</td><td>null</td><td>null</td><td>null</td><td>null</td><td>null</td><td>null</td><td>null</td><td>null</td><td>null</td><td>null</td><td>null</td><td>null</td><td>null</td><td>null</td><td>null</td><td>null</td><td>null</td><td>null</td><td>null</td><td>null</td><td>null</td><td>null</td><td>null</td><td>null</td><td>null</td><td>null</td><td>null</td><td>null</td><td>null</td><td>null</td><td>null</td><td>&quot;0.0&quot;</td><td>&quot;54.422&quot;</td><td>&quot;2024-06-18 00:…</td><td>&quot;2.581&quot;</td><td>&quot;1.337&quot;</td><td>&quot;1803.987&quot;</td><td>null</td><td>&quot;597.029&quot;</td><td>&quot;1959-09-01 00:…</td><td>null</td><td>null</td><td>&quot;37.746&quot;</td><td>&quot;0.5&quot;</td><td>&quot;64.83&quot;</td><td>&quot;0.511&quot;</td><td>&quot;41128772.0&quot;</td><td>null</td><td>null</td><td>null</td><td>null</td></tr><tr><td>&quot;AFG&quot;</td><td>&quot;Asia&quot;</td><td>&quot;Afghanistan&quot;</td><td>2020-01-26 00:00:00</td><td>null</td><td>&quot;0.0&quot;</td><td>null</td><td>null</td><td>&quot;0.0&quot;</td><td>null</td><td>null</td><td>&quot;0.0&quot;</td><td>null</td><td>null</td><td>&quot;0.0&quot;</td><td>null</td><td>null</td><td>null</td><td>null</td><td>null</td><td>null</td><td>null</td><td>null</td><td>null</td><td>null</td><td>null</td><td>null</td><td>null</td><td>null</td><td>null</td><td>null</td><td>null</td><td>null</td><td>null</td><td>null</td><td>null</td><td>null</td><td>null</td><td>null</td><td>null</td><td>null</td><td>null</td><td>null</td><td>null</td><td>null</td><td>null</td><td>null</td><td>&quot;0.0&quot;</td><td>&quot;54.422&quot;</td><td>&quot;2024-06-18 00:…</td><td>&quot;2.581&quot;</td><td>&quot;1.337&quot;</td><td>&quot;1803.987&quot;</td><td>null</td><td>&quot;597.029&quot;</td><td>&quot;1959-09-01 00:…</td><td>null</td><td>null</td><td>&quot;37.746&quot;</td><td>&quot;0.5&quot;</td><td>&quot;64.83&quot;</td><td>&quot;0.511&quot;</td><td>&quot;41128772.0&quot;</td><td>null</td><td>null</td><td>null</td><td>null</td></tr><tr><td>&quot;AFG&quot;</td><td>&quot;Asia&quot;</td><td>&quot;Afghanistan&quot;</td><td>2020-02-02 00:00:00</td><td>null</td><td>&quot;0.0&quot;</td><td>null</td><td>null</td><td>&quot;0.0&quot;</td><td>null</td><td>null</td><td>&quot;0.0&quot;</td><td>null</td><td>null</td><td>&quot;0.0&quot;</td><td>null</td><td>null</td><td>null</td><td>null</td><td>null</td><td>null</td><td>null</td><td>null</td><td>null</td><td>null</td><td>null</td><td>null</td><td>null</td><td>null</td><td>null</td><td>null</td><td>null</td><td>null</td><td>null</td><td>null</td><td>null</td><td>null</td><td>null</td><td>null</td><td>null</td><td>null</td><td>null</td><td>null</td><td>null</td><td>null</td><td>null</td><td>null</td><td>&quot;0.0&quot;</td><td>&quot;54.422&quot;</td><td>&quot;2024-06-18 00:…</td><td>&quot;2.581&quot;</td><td>&quot;1.337&quot;</td><td>&quot;1803.987&quot;</td><td>null</td><td>&quot;597.029&quot;</td><td>&quot;1959-09-01 00:…</td><td>null</td><td>null</td><td>&quot;37.746&quot;</td><td>&quot;0.5&quot;</td><td>&quot;64.83&quot;</td><td>&quot;0.511&quot;</td><td>&quot;41128772.0&quot;</td><td>null</td><td>null</td><td>null</td><td>null</td></tr></tbody></table></div>"
      ],
      "text/plain": [
       "shape: (5, 67)\n",
       "┌──────────┬───────────┬───────────┬───────────┬───┬───────────┬───────────┬───────────┬───────────┐\n",
       "│ iso_code ┆ continent ┆ location  ┆ date      ┆ … ┆ excess_mo ┆ excess_mo ┆ excess_mo ┆ excess_mo │\n",
       "│ ---      ┆ ---       ┆ ---       ┆ ---       ┆   ┆ rtality_c ┆ rtality_c ┆ rtality   ┆ rtality_c │\n",
       "│ str      ┆ str       ┆ str       ┆ datetime[ ┆   ┆ umulative ┆ umulative ┆ ---       ┆ umulative │\n",
       "│          ┆           ┆           ┆ ms]       ┆   ┆ _abso…    ┆ ---       ┆ str       ┆ _per_…    │\n",
       "│          ┆           ┆           ┆           ┆   ┆ ---       ┆ str       ┆           ┆ ---       │\n",
       "│          ┆           ┆           ┆           ┆   ┆ str       ┆           ┆           ┆ str       │\n",
       "╞══════════╪═══════════╪═══════════╪═══════════╪═══╪═══════════╪═══════════╪═══════════╪═══════════╡\n",
       "│ AFG      ┆ Asia      ┆ Afghanist ┆ 2020-01-0 ┆ … ┆ null      ┆ null      ┆ null      ┆ null      │\n",
       "│          ┆           ┆ an        ┆ 5         ┆   ┆           ┆           ┆           ┆           │\n",
       "│          ┆           ┆           ┆ 00:00:00  ┆   ┆           ┆           ┆           ┆           │\n",
       "│ AFG      ┆ Asia      ┆ Afghanist ┆ 2020-01-1 ┆ … ┆ null      ┆ null      ┆ null      ┆ null      │\n",
       "│          ┆           ┆ an        ┆ 2         ┆   ┆           ┆           ┆           ┆           │\n",
       "│          ┆           ┆           ┆ 00:00:00  ┆   ┆           ┆           ┆           ┆           │\n",
       "│ AFG      ┆ Asia      ┆ Afghanist ┆ 2020-01-1 ┆ … ┆ null      ┆ null      ┆ null      ┆ null      │\n",
       "│          ┆           ┆ an        ┆ 9         ┆   ┆           ┆           ┆           ┆           │\n",
       "│          ┆           ┆           ┆ 00:00:00  ┆   ┆           ┆           ┆           ┆           │\n",
       "│ AFG      ┆ Asia      ┆ Afghanist ┆ 2020-01-2 ┆ … ┆ null      ┆ null      ┆ null      ┆ null      │\n",
       "│          ┆           ┆ an        ┆ 6         ┆   ┆           ┆           ┆           ┆           │\n",
       "│          ┆           ┆           ┆ 00:00:00  ┆   ┆           ┆           ┆           ┆           │\n",
       "│ AFG      ┆ Asia      ┆ Afghanist ┆ 2020-02-0 ┆ … ┆ null      ┆ null      ┆ null      ┆ null      │\n",
       "│          ┆           ┆ an        ┆ 2         ┆   ┆           ┆           ┆           ┆           │\n",
       "│          ┆           ┆           ┆ 00:00:00  ┆   ┆           ┆           ┆           ┆           │\n",
       "└──────────┴───────────┴───────────┴───────────┴───┴───────────┴───────────┴───────────┴───────────┘"
      ]
     },
     "execution_count": 10,
     "metadata": {},
     "output_type": "execute_result"
    }
   ],
   "source": [
    "%%time\n",
    "scan_rxls_xlsx().head()"
   ]
  },
  {
   "cell_type": "code",
   "execution_count": 10,
   "metadata": {
    "notebookRunGroups": {
     "groupValue": "2"
    }
   },
   "outputs": [
    {
     "name": "stdout",
     "output_type": "stream",
     "text": [
      "CPU times: total: 1min 24s\n",
      "Wall time: 1min 41s\n"
     ]
    },
    {
     "data": {
      "text/html": [
       "<div><style>\n",
       ".dataframe > thead > tr,\n",
       ".dataframe > tbody > tr {\n",
       "  text-align: right;\n",
       "  white-space: pre-wrap;\n",
       "}\n",
       "</style>\n",
       "<small>shape: (5, 67)</small><table border=\"1\" class=\"dataframe\"><thead><tr><th>iso_code</th><th>continent</th><th>location</th><th>date</th><th>total_cases</th><th>new_cases</th><th>new_cases_smoothed</th><th>total_deaths</th><th>new_deaths</th><th>new_deaths_smoothed</th><th>total_cases_per_million</th><th>new_cases_per_million</th><th>new_cases_smoothed_per_million</th><th>total_deaths_per_million</th><th>new_deaths_per_million</th><th>new_deaths_smoothed_per_million</th><th>reproduction_rate</th><th>icu_patients</th><th>icu_patients_per_million</th><th>hosp_patients</th><th>hosp_patients_per_million</th><th>weekly_icu_admissions</th><th>weekly_icu_admissions_per_million</th><th>weekly_hosp_admissions</th><th>weekly_hosp_admissions_per_million</th><th>total_tests</th><th>new_tests</th><th>total_tests_per_thousand</th><th>new_tests_per_thousand</th><th>new_tests_smoothed</th><th>new_tests_smoothed_per_thousand</th><th>positive_rate</th><th>tests_per_case</th><th>tests_units</th><th>total_vaccinations</th><th>people_vaccinated</th><th>people_fully_vaccinated</th><th>total_boosters</th><th>new_vaccinations</th><th>new_vaccinations_smoothed</th><th>total_vaccinations_per_hundred</th><th>people_vaccinated_per_hundred</th><th>people_fully_vaccinated_per_hundred</th><th>total_boosters_per_hundred</th><th>new_vaccinations_smoothed_per_million</th><th>new_people_vaccinated_smoothed</th><th>new_people_vaccinated_smoothed_per_hundred</th><th>stringency_index</th><th>population_density</th><th>median_age</th><th>aged_65_older</th><th>aged_70_older</th><th>gdp_per_capita</th><th>extreme_poverty</th><th>cardiovasc_death_rate</th><th>diabetes_prevalence</th><th>female_smokers</th><th>male_smokers</th><th>handwashing_facilities</th><th>hospital_beds_per_thousand</th><th>life_expectancy</th><th>human_development_index</th><th>population</th><th>excess_mortality_cumulative_absolute</th><th>excess_mortality_cumulative</th><th>excess_mortality</th><th>excess_mortality_cumulative_per_million</th></tr><tr><td>str</td><td>str</td><td>str</td><td>datetime[ms]</td><td>str</td><td>str</td><td>str</td><td>str</td><td>str</td><td>str</td><td>str</td><td>str</td><td>str</td><td>str</td><td>str</td><td>str</td><td>str</td><td>str</td><td>str</td><td>str</td><td>str</td><td>str</td><td>str</td><td>str</td><td>str</td><td>str</td><td>str</td><td>str</td><td>str</td><td>str</td><td>str</td><td>str</td><td>str</td><td>str</td><td>str</td><td>str</td><td>str</td><td>str</td><td>str</td><td>str</td><td>str</td><td>str</td><td>str</td><td>str</td><td>str</td><td>str</td><td>str</td><td>str</td><td>str</td><td>str</td><td>str</td><td>str</td><td>str</td><td>str</td><td>str</td><td>str</td><td>str</td><td>str</td><td>str</td><td>str</td><td>str</td><td>str</td><td>str</td><td>str</td><td>str</td><td>str</td><td>str</td></tr></thead><tbody><tr><td>&quot;AFG&quot;</td><td>&quot;Asia&quot;</td><td>&quot;Afghanistan&quot;</td><td>2020-01-05 00:00:00</td><td>null</td><td>&quot;0.0&quot;</td><td>null</td><td>null</td><td>&quot;0.0&quot;</td><td>null</td><td>null</td><td>&quot;0.0&quot;</td><td>null</td><td>null</td><td>&quot;0.0&quot;</td><td>null</td><td>null</td><td>null</td><td>null</td><td>null</td><td>null</td><td>null</td><td>null</td><td>null</td><td>null</td><td>null</td><td>null</td><td>null</td><td>null</td><td>null</td><td>null</td><td>null</td><td>null</td><td>null</td><td>null</td><td>null</td><td>null</td><td>null</td><td>null</td><td>null</td><td>null</td><td>null</td><td>null</td><td>null</td><td>null</td><td>null</td><td>null</td><td>&quot;0.0&quot;</td><td>&quot;54.422&quot;</td><td>&quot;2024-06-18 00:…</td><td>&quot;2.581&quot;</td><td>&quot;1.337&quot;</td><td>&quot;1803.987&quot;</td><td>null</td><td>&quot;597.029&quot;</td><td>&quot;1959-09-01 00:…</td><td>null</td><td>null</td><td>&quot;37.746&quot;</td><td>&quot;0.5&quot;</td><td>&quot;64.83&quot;</td><td>&quot;0.511&quot;</td><td>&quot;41128772.0&quot;</td><td>null</td><td>null</td><td>null</td><td>null</td></tr><tr><td>&quot;AFG&quot;</td><td>&quot;Asia&quot;</td><td>&quot;Afghanistan&quot;</td><td>2020-01-12 00:00:00</td><td>null</td><td>&quot;0.0&quot;</td><td>null</td><td>null</td><td>&quot;0.0&quot;</td><td>null</td><td>null</td><td>&quot;0.0&quot;</td><td>null</td><td>null</td><td>&quot;0.0&quot;</td><td>null</td><td>null</td><td>null</td><td>null</td><td>null</td><td>null</td><td>null</td><td>null</td><td>null</td><td>null</td><td>null</td><td>null</td><td>null</td><td>null</td><td>null</td><td>null</td><td>null</td><td>null</td><td>null</td><td>null</td><td>null</td><td>null</td><td>null</td><td>null</td><td>null</td><td>null</td><td>null</td><td>null</td><td>null</td><td>null</td><td>null</td><td>null</td><td>&quot;0.0&quot;</td><td>&quot;54.422&quot;</td><td>&quot;2024-06-18 00:…</td><td>&quot;2.581&quot;</td><td>&quot;1.337&quot;</td><td>&quot;1803.987&quot;</td><td>null</td><td>&quot;597.029&quot;</td><td>&quot;1959-09-01 00:…</td><td>null</td><td>null</td><td>&quot;37.746&quot;</td><td>&quot;0.5&quot;</td><td>&quot;64.83&quot;</td><td>&quot;0.511&quot;</td><td>&quot;41128772.0&quot;</td><td>null</td><td>null</td><td>null</td><td>null</td></tr><tr><td>&quot;AFG&quot;</td><td>&quot;Asia&quot;</td><td>&quot;Afghanistan&quot;</td><td>2020-01-19 00:00:00</td><td>null</td><td>&quot;0.0&quot;</td><td>null</td><td>null</td><td>&quot;0.0&quot;</td><td>null</td><td>null</td><td>&quot;0.0&quot;</td><td>null</td><td>null</td><td>&quot;0.0&quot;</td><td>null</td><td>null</td><td>null</td><td>null</td><td>null</td><td>null</td><td>null</td><td>null</td><td>null</td><td>null</td><td>null</td><td>null</td><td>null</td><td>null</td><td>null</td><td>null</td><td>null</td><td>null</td><td>null</td><td>null</td><td>null</td><td>null</td><td>null</td><td>null</td><td>null</td><td>null</td><td>null</td><td>null</td><td>null</td><td>null</td><td>null</td><td>null</td><td>&quot;0.0&quot;</td><td>&quot;54.422&quot;</td><td>&quot;2024-06-18 00:…</td><td>&quot;2.581&quot;</td><td>&quot;1.337&quot;</td><td>&quot;1803.987&quot;</td><td>null</td><td>&quot;597.029&quot;</td><td>&quot;1959-09-01 00:…</td><td>null</td><td>null</td><td>&quot;37.746&quot;</td><td>&quot;0.5&quot;</td><td>&quot;64.83&quot;</td><td>&quot;0.511&quot;</td><td>&quot;41128772.0&quot;</td><td>null</td><td>null</td><td>null</td><td>null</td></tr><tr><td>&quot;AFG&quot;</td><td>&quot;Asia&quot;</td><td>&quot;Afghanistan&quot;</td><td>2020-01-26 00:00:00</td><td>null</td><td>&quot;0.0&quot;</td><td>null</td><td>null</td><td>&quot;0.0&quot;</td><td>null</td><td>null</td><td>&quot;0.0&quot;</td><td>null</td><td>null</td><td>&quot;0.0&quot;</td><td>null</td><td>null</td><td>null</td><td>null</td><td>null</td><td>null</td><td>null</td><td>null</td><td>null</td><td>null</td><td>null</td><td>null</td><td>null</td><td>null</td><td>null</td><td>null</td><td>null</td><td>null</td><td>null</td><td>null</td><td>null</td><td>null</td><td>null</td><td>null</td><td>null</td><td>null</td><td>null</td><td>null</td><td>null</td><td>null</td><td>null</td><td>null</td><td>&quot;0.0&quot;</td><td>&quot;54.422&quot;</td><td>&quot;2024-06-18 00:…</td><td>&quot;2.581&quot;</td><td>&quot;1.337&quot;</td><td>&quot;1803.987&quot;</td><td>null</td><td>&quot;597.029&quot;</td><td>&quot;1959-09-01 00:…</td><td>null</td><td>null</td><td>&quot;37.746&quot;</td><td>&quot;0.5&quot;</td><td>&quot;64.83&quot;</td><td>&quot;0.511&quot;</td><td>&quot;41128772.0&quot;</td><td>null</td><td>null</td><td>null</td><td>null</td></tr><tr><td>&quot;AFG&quot;</td><td>&quot;Asia&quot;</td><td>&quot;Afghanistan&quot;</td><td>2020-02-02 00:00:00</td><td>null</td><td>&quot;0.0&quot;</td><td>null</td><td>null</td><td>&quot;0.0&quot;</td><td>null</td><td>null</td><td>&quot;0.0&quot;</td><td>null</td><td>null</td><td>&quot;0.0&quot;</td><td>null</td><td>null</td><td>null</td><td>null</td><td>null</td><td>null</td><td>null</td><td>null</td><td>null</td><td>null</td><td>null</td><td>null</td><td>null</td><td>null</td><td>null</td><td>null</td><td>null</td><td>null</td><td>null</td><td>null</td><td>null</td><td>null</td><td>null</td><td>null</td><td>null</td><td>null</td><td>null</td><td>null</td><td>null</td><td>null</td><td>null</td><td>null</td><td>&quot;0.0&quot;</td><td>&quot;54.422&quot;</td><td>&quot;2024-06-18 00:…</td><td>&quot;2.581&quot;</td><td>&quot;1.337&quot;</td><td>&quot;1803.987&quot;</td><td>null</td><td>&quot;597.029&quot;</td><td>&quot;1959-09-01 00:…</td><td>null</td><td>null</td><td>&quot;37.746&quot;</td><td>&quot;0.5&quot;</td><td>&quot;64.83&quot;</td><td>&quot;0.511&quot;</td><td>&quot;41128772.0&quot;</td><td>null</td><td>null</td><td>null</td><td>null</td></tr></tbody></table></div>"
      ],
      "text/plain": [
       "shape: (5, 67)\n",
       "┌──────────┬───────────┬───────────┬───────────┬───┬───────────┬───────────┬───────────┬───────────┐\n",
       "│ iso_code ┆ continent ┆ location  ┆ date      ┆ … ┆ excess_mo ┆ excess_mo ┆ excess_mo ┆ excess_mo │\n",
       "│ ---      ┆ ---       ┆ ---       ┆ ---       ┆   ┆ rtality_c ┆ rtality_c ┆ rtality   ┆ rtality_c │\n",
       "│ str      ┆ str       ┆ str       ┆ datetime[ ┆   ┆ umulative ┆ umulative ┆ ---       ┆ umulative │\n",
       "│          ┆           ┆           ┆ ms]       ┆   ┆ _abso…    ┆ ---       ┆ str       ┆ _per_…    │\n",
       "│          ┆           ┆           ┆           ┆   ┆ ---       ┆ str       ┆           ┆ ---       │\n",
       "│          ┆           ┆           ┆           ┆   ┆ str       ┆           ┆           ┆ str       │\n",
       "╞══════════╪═══════════╪═══════════╪═══════════╪═══╪═══════════╪═══════════╪═══════════╪═══════════╡\n",
       "│ AFG      ┆ Asia      ┆ Afghanist ┆ 2020-01-0 ┆ … ┆ null      ┆ null      ┆ null      ┆ null      │\n",
       "│          ┆           ┆ an        ┆ 5         ┆   ┆           ┆           ┆           ┆           │\n",
       "│          ┆           ┆           ┆ 00:00:00  ┆   ┆           ┆           ┆           ┆           │\n",
       "│ AFG      ┆ Asia      ┆ Afghanist ┆ 2020-01-1 ┆ … ┆ null      ┆ null      ┆ null      ┆ null      │\n",
       "│          ┆           ┆ an        ┆ 2         ┆   ┆           ┆           ┆           ┆           │\n",
       "│          ┆           ┆           ┆ 00:00:00  ┆   ┆           ┆           ┆           ┆           │\n",
       "│ AFG      ┆ Asia      ┆ Afghanist ┆ 2020-01-1 ┆ … ┆ null      ┆ null      ┆ null      ┆ null      │\n",
       "│          ┆           ┆ an        ┆ 9         ┆   ┆           ┆           ┆           ┆           │\n",
       "│          ┆           ┆           ┆ 00:00:00  ┆   ┆           ┆           ┆           ┆           │\n",
       "│ AFG      ┆ Asia      ┆ Afghanist ┆ 2020-01-2 ┆ … ┆ null      ┆ null      ┆ null      ┆ null      │\n",
       "│          ┆           ┆ an        ┆ 6         ┆   ┆           ┆           ┆           ┆           │\n",
       "│          ┆           ┆           ┆ 00:00:00  ┆   ┆           ┆           ┆           ┆           │\n",
       "│ AFG      ┆ Asia      ┆ Afghanist ┆ 2020-02-0 ┆ … ┆ null      ┆ null      ┆ null      ┆ null      │\n",
       "│          ┆           ┆ an        ┆ 2         ┆   ┆           ┆           ┆           ┆           │\n",
       "│          ┆           ┆           ┆ 00:00:00  ┆   ┆           ┆           ┆           ┆           │\n",
       "└──────────┴───────────┴───────────┴───────────┴───┴───────────┴───────────┴───────────┴───────────┘"
      ]
     },
     "execution_count": 10,
     "metadata": {},
     "output_type": "execute_result"
    }
   ],
   "source": [
    "%%time\n",
    "scan_rxls_xlsb().head()"
   ]
  },
  {
   "attachments": {},
   "cell_type": "markdown",
   "metadata": {},
   "source": [
    "### Memory Profiler"
   ]
  },
  {
   "attachments": {},
   "cell_type": "markdown",
   "metadata": {},
   "source": [
    "*For these tests, I've reload kernel between tests, for better consistency*"
   ]
  },
  {
   "cell_type": "code",
   "execution_count": 9,
   "metadata": {
    "notebookRunGroups": {
     "groupValue": "1"
    }
   },
   "outputs": [],
   "source": [
    "%load_ext memory_profiler"
   ]
  },
  {
   "cell_type": "code",
   "execution_count": 10,
   "metadata": {},
   "outputs": [
    {
     "name": "stdout",
     "output_type": "stream",
     "text": [
      "peak memory: 1657.45 MiB, increment: 1480.03 MiB\n"
     ]
    }
   ],
   "source": [
    "%memit scan_rxls_xlsb()"
   ]
  },
  {
   "cell_type": "code",
   "execution_count": 10,
   "metadata": {},
   "outputs": [
    {
     "name": "stdout",
     "output_type": "stream",
     "text": [
      "peak memory: 1926.55 MiB, increment: 1748.77 MiB\n"
     ]
    }
   ],
   "source": [
    "%memit scan_rxls_xlsx()"
   ]
  },
  {
   "cell_type": "code",
   "execution_count": 10,
   "metadata": {},
   "outputs": [
    {
     "name": "stdout",
     "output_type": "stream",
     "text": [
      "peak memory: 581.82 MiB, increment: 404.13 MiB\n"
     ]
    }
   ],
   "source": [
    "%memit scan_xlsx2csv()"
   ]
  },
  {
   "cell_type": "code",
   "execution_count": 10,
   "metadata": {},
   "outputs": [
    {
     "name": "stdout",
     "output_type": "stream",
     "text": [
      "peak memory: 4489.82 MiB, increment: 4312.04 MiB\n"
     ]
    }
   ],
   "source": [
    "%memit scan_openpyxl()"
   ]
  },
  {
   "cell_type": "code",
   "execution_count": 10,
   "metadata": {},
   "outputs": [
    {
     "name": "stdout",
     "output_type": "stream",
     "text": [
      "peak memory: 2160.24 MiB, increment: 1982.36 MiB\n"
     ]
    }
   ],
   "source": [
    "%memit scan_pyxlsb()"
   ]
  },
  {
   "cell_type": "code",
   "execution_count": 10,
   "metadata": {},
   "outputs": [
    {
     "name": "stdout",
     "output_type": "stream",
     "text": [
      "peak memory: 3169.70 MiB, increment: 2992.27 MiB\n"
     ]
    }
   ],
   "source": [
    "%memit scan_calamine(XLSX_FILE)"
   ]
  },
  {
   "cell_type": "code",
   "execution_count": 10,
   "metadata": {},
   "outputs": [
    {
     "name": "stdout",
     "output_type": "stream",
     "text": [
      "peak memory: 3185.12 MiB, increment: 3007.87 MiB\n"
     ]
    }
   ],
   "source": [
    "%memit scan_calamine(XLSB_FILE)"
   ]
  },
  {
   "attachments": {},
   "cell_type": "markdown",
   "metadata": {},
   "source": [
    "## Results"
   ]
  },
  {
   "cell_type": "markdown",
   "metadata": {},
   "source": [
    "### Time Performance Stats (XLSX)\n",
    "\n",
    "| Engine | Wall Time | CPU Time    |  Score |\n",
    "|--------|-----------|-------------|--------|\n",
    "|Calamine| 36.5 s | 33.9 s | 1 |\n",
    "|  RXLS  | 2min 6s | 2min 4s | 2 |\n",
    "|XLSX2CSV| 2min 15s | 2min 7s | 3 |\n",
    "|OpenPyXL| 6min 37s | 5min 36s | 4 |"
   ]
  },
  {
   "cell_type": "markdown",
   "metadata": {},
   "source": [
    "### Time Performance Stats (XLSB)\n",
    "\n",
    "| Engine | Wall Time | CPU Time    |  Score |\n",
    "|--------|-----------|-------------|--------|\n",
    "|Calamine| 21.3 s | 18.3 s | 1 |\n",
    "|  RXLS  | 1min 41s | 1min 24s | 2 |\n",
    "| PyXLSB | 2min 43s | 2min 33s | 3 |\n"
   ]
  },
  {
   "cell_type": "markdown",
   "metadata": {},
   "source": [
    "### Memory Performance Stats (XLSX)\n",
    "\n",
    "| Engine | Peak Memory |  Increment  | Score |\n",
    "|--------|-------------|-------------|-------|\n",
    "|XLSXCSV |  581.82 MiB |  404.13 MiB | 1 |\n",
    "|  RXLS  | 1926.55 MiB | 1748.77 MiB | 2 |\n",
    "|Calamine| 3169.70 MiB | 2992.27 MiB | 3 |\n",
    "|OpenPyXL| 4489.82 MiB | 4312.04 MiB | 4 |"
   ]
  },
  {
   "cell_type": "markdown",
   "metadata": {},
   "source": [
    "### Memory Performance Stats (XLSB)\n",
    "\n",
    "| Engine | Peak Memory |  Increment  | Score |\n",
    "|--------|-------------|-------------|-------|\n",
    "|  RXLS  | 1926.55 MiB | 1748.77 MiB | 1 |\n",
    "| PyXLSB | 2160.24 MiB | 1982.36 MiB | 2 |\n",
    "|Calamine| 3185.12 MiB | 3007.87 MiB | 3 |\n"
   ]
  },
  {
   "cell_type": "markdown",
   "metadata": {},
   "source": [
    "### Notes about benchmark:"
   ]
  },
  {
   "cell_type": "markdown",
   "metadata": {},
   "source": [
    "* RXLS performance increases significantly since previous commit of this benchmark.\n",
    "* Previous benchmark was on slower system, so there is large performance boost for all engines.\n",
    "* Add python-calamine engine to benchmark\n",
    "* There is only one case of reading files (whole file reading). In different cases, there may be some benefits from using one engine or another.\n",
    "* You can test RXLS with `TBB` along with `Numba` for even better performance increase. There is no such tests, because of other engines use only CPU (as I know).\n",
    "* OpenPyXL eats all my RAM, as always. So, keep this in mind, that on another machine it may take even more memory, than in benchmarks.\n",
    "* Original files size:\n",
    "    - XLSX: 45894952 bytes (~43.7 MB)\n",
    "    - XLSB: 20125767 bytes (~19.1 MB)\n",
    "* For each testing case (time or memit magic cell execution), kernel was restarted.\n",
    "* *Maybe, some optimisations missed in Polars openpyxl adapter: `read-only workbooks, data-only mode` (?)*"
   ]
  },
  {
   "cell_type": "markdown",
   "metadata": {},
   "source": [
    "### Notes about data"
   ]
  },
  {
   "cell_type": "markdown",
   "metadata": {},
   "source": [
    "Almost all columns in original files have some errors, such as:\n",
    "\n",
    "- Mixed data types (timestamps and floating-point cells in one column)\n",
    "\n",
    "This is a special case for show you not only difference between memory footprints or reading speed, but also quality of result (I know, that, with some advanced tuning, almost all engines can correctly read this... Maybe).\n",
    "\n",
    "There is some examples:"
   ]
  },
  {
   "cell_type": "markdown",
   "metadata": {},
   "source": [
    "### Quality of output data"
   ]
  },
  {
   "cell_type": "code",
   "execution_count": 10,
   "metadata": {},
   "outputs": [],
   "source": [
    "# Two different engines:\n",
    "df_ox = scan_xlsx2csv()\n",
    "df_rx = scan_rxls_xlsx()"
   ]
  },
  {
   "cell_type": "code",
   "execution_count": 12,
   "metadata": {},
   "outputs": [
    {
     "data": {
      "text/html": [
       "<div><style>\n",
       ".dataframe > thead > tr,\n",
       ".dataframe > tbody > tr {\n",
       "  text-align: right;\n",
       "  white-space: pre-wrap;\n",
       "}\n",
       "</style>\n",
       "<small>shape: (9, 68)</small><table border=\"1\" class=\"dataframe\"><thead><tr><th>describe</th><th>iso_code</th><th>continent</th><th>location</th><th>date</th><th>total_cases</th><th>new_cases</th><th>new_cases_smoothed</th><th>total_deaths</th><th>new_deaths</th><th>new_deaths_smoothed</th><th>total_cases_per_million</th><th>new_cases_per_million</th><th>new_cases_smoothed_per_million</th><th>total_deaths_per_million</th><th>new_deaths_per_million</th><th>new_deaths_smoothed_per_million</th><th>reproduction_rate</th><th>icu_patients</th><th>icu_patients_per_million</th><th>hosp_patients</th><th>hosp_patients_per_million</th><th>weekly_icu_admissions</th><th>weekly_icu_admissions_per_million</th><th>weekly_hosp_admissions</th><th>weekly_hosp_admissions_per_million</th><th>total_tests</th><th>new_tests</th><th>total_tests_per_thousand</th><th>new_tests_per_thousand</th><th>new_tests_smoothed</th><th>new_tests_smoothed_per_thousand</th><th>positive_rate</th><th>tests_per_case</th><th>tests_units</th><th>total_vaccinations</th><th>people_vaccinated</th><th>people_fully_vaccinated</th><th>total_boosters</th><th>new_vaccinations</th><th>new_vaccinations_smoothed</th><th>total_vaccinations_per_hundred</th><th>people_vaccinated_per_hundred</th><th>people_fully_vaccinated_per_hundred</th><th>total_boosters_per_hundred</th><th>new_vaccinations_smoothed_per_million</th><th>new_people_vaccinated_smoothed</th><th>new_people_vaccinated_smoothed_per_hundred</th><th>stringency_index</th><th>population_density</th><th>median_age</th><th>aged_65_older</th><th>aged_70_older</th><th>gdp_per_capita</th><th>extreme_poverty</th><th>cardiovasc_death_rate</th><th>diabetes_prevalence</th><th>female_smokers</th><th>male_smokers</th><th>handwashing_facilities</th><th>hospital_beds_per_thousand</th><th>life_expectancy</th><th>human_development_index</th><th>population</th><th>excess_mortality_cumulative_absolute</th><th>excess_mortality_cumulative</th><th>excess_mortality</th><th>excess_mortality_cumulative_per_million</th></tr><tr><td>str</td><td>str</td><td>str</td><td>str</td><td>str</td><td>str</td><td>str</td><td>str</td><td>str</td><td>str</td><td>str</td><td>str</td><td>str</td><td>str</td><td>str</td><td>str</td><td>str</td><td>str</td><td>str</td><td>str</td><td>str</td><td>str</td><td>str</td><td>str</td><td>str</td><td>str</td><td>str</td><td>str</td><td>str</td><td>str</td><td>str</td><td>str</td><td>str</td><td>str</td><td>str</td><td>str</td><td>str</td><td>str</td><td>str</td><td>str</td><td>str</td><td>str</td><td>str</td><td>str</td><td>str</td><td>str</td><td>str</td><td>str</td><td>str</td><td>str</td><td>str</td><td>str</td><td>str</td><td>str</td><td>str</td><td>str</td><td>str</td><td>str</td><td>str</td><td>str</td><td>str</td><td>str</td><td>str</td><td>str</td><td>str</td><td>str</td><td>str</td><td>str</td></tr></thead><tbody><tr><td>&quot;count&quot;</td><td>&quot;276700&quot;</td><td>&quot;262726&quot;</td><td>&quot;276700&quot;</td><td>&quot;276700&quot;</td><td>&quot;47775&quot;</td><td>&quot;51838&quot;</td><td>&quot;50608&quot;</td><td>&quot;44649&quot;</td><td>&quot;51859&quot;</td><td>&quot;50629&quot;</td><td>&quot;47775&quot;</td><td>&quot;51838&quot;</td><td>&quot;50608&quot;</td><td>&quot;44649&quot;</td><td>&quot;51859&quot;</td><td>&quot;50629&quot;</td><td>&quot;184817&quot;</td><td>&quot;38195&quot;</td><td>&quot;38195&quot;</td><td>&quot;39683&quot;</td><td>&quot;39683&quot;</td><td>&quot;10453&quot;</td><td>&quot;10453&quot;</td><td>&quot;23785&quot;</td><td>&quot;23785&quot;</td><td>&quot;79387&quot;</td><td>&quot;75403&quot;</td><td>&quot;79387&quot;</td><td>&quot;75403&quot;</td><td>&quot;103965&quot;</td><td>&quot;103965&quot;</td><td>&quot;95927&quot;</td><td>&quot;94348&quot;</td><td>&quot;106788&quot;</td><td>&quot;80910&quot;</td><td>&quot;77439&quot;</td><td>&quot;74164&quot;</td><td>&quot;49060&quot;</td><td>&quot;66854&quot;</td><td>&quot;185122&quot;</td><td>&quot;80910&quot;</td><td>&quot;77439&quot;</td><td>&quot;74164&quot;</td><td>&quot;49060&quot;</td><td>&quot;185122&quot;</td><td>&quot;184820&quot;</td><td>&quot;184820&quot;</td><td>&quot;180902&quot;</td><td>&quot;245128&quot;</td><td>&quot;232151&quot;</td><td>&quot;228629&quot;</td><td>&quot;230696&quot;</td><td>&quot;229745&quot;</td><td>&quot;152762&quot;</td><td>&quot;230192&quot;</td><td>&quot;239681&quot;</td><td>&quot;178131&quot;</td><td>&quot;175546&quot;</td><td>&quot;113626&quot;</td><td>&quot;205421&quot;</td><td>&quot;254747&quot;</td><td>&quot;225670&quot;</td><td>&quot;276700&quot;</td><td>&quot;11883&quot;</td><td>&quot;11883&quot;</td><td>&quot;11883&quot;</td><td>&quot;11883&quot;</td></tr><tr><td>&quot;null_count&quot;</td><td>&quot;0&quot;</td><td>&quot;13974&quot;</td><td>&quot;0&quot;</td><td>&quot;0&quot;</td><td>&quot;228925&quot;</td><td>&quot;224862&quot;</td><td>&quot;226092&quot;</td><td>&quot;232051&quot;</td><td>&quot;224841&quot;</td><td>&quot;226071&quot;</td><td>&quot;228925&quot;</td><td>&quot;224862&quot;</td><td>&quot;226092&quot;</td><td>&quot;232051&quot;</td><td>&quot;224841&quot;</td><td>&quot;226071&quot;</td><td>&quot;91883&quot;</td><td>&quot;238505&quot;</td><td>&quot;238505&quot;</td><td>&quot;237017&quot;</td><td>&quot;237017&quot;</td><td>&quot;266247&quot;</td><td>&quot;266247&quot;</td><td>&quot;252915&quot;</td><td>&quot;252915&quot;</td><td>&quot;197313&quot;</td><td>&quot;201297&quot;</td><td>&quot;197313&quot;</td><td>&quot;201297&quot;</td><td>&quot;172735&quot;</td><td>&quot;172735&quot;</td><td>&quot;180773&quot;</td><td>&quot;182352&quot;</td><td>&quot;169912&quot;</td><td>&quot;195790&quot;</td><td>&quot;199261&quot;</td><td>&quot;202536&quot;</td><td>&quot;227640&quot;</td><td>&quot;209846&quot;</td><td>&quot;91578&quot;</td><td>&quot;195790&quot;</td><td>&quot;199261&quot;</td><td>&quot;202536&quot;</td><td>&quot;227640&quot;</td><td>&quot;91578&quot;</td><td>&quot;91880&quot;</td><td>&quot;91880&quot;</td><td>&quot;95798&quot;</td><td>&quot;31572&quot;</td><td>&quot;44549&quot;</td><td>&quot;48071&quot;</td><td>&quot;46004&quot;</td><td>&quot;46955&quot;</td><td>&quot;123938&quot;</td><td>&quot;46508&quot;</td><td>&quot;37019&quot;</td><td>&quot;98569&quot;</td><td>&quot;101154&quot;</td><td>&quot;163074&quot;</td><td>&quot;71279&quot;</td><td>&quot;21953&quot;</td><td>&quot;51030&quot;</td><td>&quot;0&quot;</td><td>&quot;264817&quot;</td><td>&quot;264817&quot;</td><td>&quot;264817&quot;</td><td>&quot;264817&quot;</td></tr><tr><td>&quot;mean&quot;</td><td>null</td><td>null</td><td>null</td><td>null</td><td>null</td><td>null</td><td>null</td><td>null</td><td>null</td><td>null</td><td>null</td><td>null</td><td>null</td><td>null</td><td>null</td><td>null</td><td>null</td><td>null</td><td>null</td><td>null</td><td>null</td><td>null</td><td>null</td><td>null</td><td>null</td><td>null</td><td>null</td><td>null</td><td>null</td><td>null</td><td>null</td><td>null</td><td>null</td><td>null</td><td>null</td><td>null</td><td>null</td><td>null</td><td>null</td><td>null</td><td>null</td><td>null</td><td>null</td><td>null</td><td>null</td><td>null</td><td>null</td><td>null</td><td>null</td><td>null</td><td>null</td><td>null</td><td>null</td><td>null</td><td>null</td><td>null</td><td>null</td><td>null</td><td>null</td><td>null</td><td>null</td><td>null</td><td>null</td><td>null</td><td>null</td><td>null</td><td>null</td></tr><tr><td>&quot;std&quot;</td><td>null</td><td>null</td><td>null</td><td>null</td><td>null</td><td>null</td><td>null</td><td>null</td><td>null</td><td>null</td><td>null</td><td>null</td><td>null</td><td>null</td><td>null</td><td>null</td><td>null</td><td>null</td><td>null</td><td>null</td><td>null</td><td>null</td><td>null</td><td>null</td><td>null</td><td>null</td><td>null</td><td>null</td><td>null</td><td>null</td><td>null</td><td>null</td><td>null</td><td>null</td><td>null</td><td>null</td><td>null</td><td>null</td><td>null</td><td>null</td><td>null</td><td>null</td><td>null</td><td>null</td><td>null</td><td>null</td><td>null</td><td>null</td><td>null</td><td>null</td><td>null</td><td>null</td><td>null</td><td>null</td><td>null</td><td>null</td><td>null</td><td>null</td><td>null</td><td>null</td><td>null</td><td>null</td><td>null</td><td>null</td><td>null</td><td>null</td><td>null</td></tr><tr><td>&quot;min&quot;</td><td>&quot;ABW&quot;</td><td>&quot;Africa&quot;</td><td>&quot;Afghanistan&quot;</td><td>&quot;01-01-20&quot;</td><td>&quot;1.0&quot;</td><td>&quot;0.0&quot;</td><td>&quot;0.0&quot;</td><td>&quot;1.0&quot;</td><td>&quot;0.0&quot;</td><td>&quot;0.0&quot;</td><td>&quot;0.0&quot;</td><td>&quot;0.0&quot;</td><td>&quot;0.0&quot;</td><td>&quot;0.0&quot;</td><td>&quot;0.0&quot;</td><td>&quot;0.0&quot;</td><td>&quot;-0.0&quot;</td><td>&quot;0.0&quot;</td><td>&quot;0.0&quot;</td><td>&quot;0.0&quot;</td><td>&quot;0.0&quot;</td><td>&quot;0.0&quot;</td><td>&quot;0.0&quot;</td><td>&quot;0.0&quot;</td><td>&quot;0.0&quot;</td><td>&quot;0.0&quot;</td><td>&quot;1.0&quot;</td><td>&quot;0.0&quot;</td><td>&quot;0.0&quot;</td><td>&quot;0.0&quot;</td><td>&quot;0.0&quot;</td><td>&quot;0.0&quot;</td><td>&quot;01-Apr&quot;</td><td>&quot;people tested&quot;</td><td>&quot;0.0&quot;</td><td>&quot;0.0&quot;</td><td>&quot;1.0&quot;</td><td>&quot;1.0&quot;</td><td>&quot;0.0&quot;</td><td>&quot;0.0&quot;</td><td>&quot;0.0&quot;</td><td>&quot;0.0&quot;</td><td>&quot;0.0&quot;</td><td>&quot;0.0&quot;</td><td>&quot;0.0&quot;</td><td>&quot;0.0&quot;</td><td>&quot;0.0&quot;</td><td>&quot;0.0&quot;</td><td>&quot;0.137&quot;</td><td>&quot;15-Jan&quot;</td><td>&quot;03-Feb&quot;</td><td>&quot;0.526&quot;</td><td>&quot;104861.851&quot;</td><td>&quot;0.1&quot;</td><td>&quot;103.957&quot;</td><td>&quot;0.99&quot;</td><td>&quot;0.1&quot;</td><td>&quot;07-Jul&quot;</td><td>&quot;1.188&quot;</td><td>&quot;0.1&quot;</td><td>&quot;53.28&quot;</td><td>&quot;0.394&quot;</td><td>&quot;10142625.0&quot;</td><td>&quot;-0.20000076&quot;</td><td>&quot;-0.01&quot;</td><td>&quot;-0.01&quot;</td><td>&quot;-0.18260218&quot;</td></tr><tr><td>&quot;25%&quot;</td><td>null</td><td>null</td><td>null</td><td>null</td><td>null</td><td>null</td><td>null</td><td>null</td><td>null</td><td>null</td><td>null</td><td>null</td><td>null</td><td>null</td><td>null</td><td>null</td><td>null</td><td>null</td><td>null</td><td>null</td><td>null</td><td>null</td><td>null</td><td>null</td><td>null</td><td>null</td><td>null</td><td>null</td><td>null</td><td>null</td><td>null</td><td>null</td><td>null</td><td>null</td><td>null</td><td>null</td><td>null</td><td>null</td><td>null</td><td>null</td><td>null</td><td>null</td><td>null</td><td>null</td><td>null</td><td>null</td><td>null</td><td>null</td><td>null</td><td>null</td><td>null</td><td>null</td><td>null</td><td>null</td><td>null</td><td>null</td><td>null</td><td>null</td><td>null</td><td>null</td><td>null</td><td>null</td><td>null</td><td>null</td><td>null</td><td>null</td><td>null</td></tr><tr><td>&quot;50%&quot;</td><td>null</td><td>null</td><td>null</td><td>null</td><td>null</td><td>null</td><td>null</td><td>null</td><td>null</td><td>null</td><td>null</td><td>null</td><td>null</td><td>null</td><td>null</td><td>null</td><td>null</td><td>null</td><td>null</td><td>null</td><td>null</td><td>null</td><td>null</td><td>null</td><td>null</td><td>null</td><td>null</td><td>null</td><td>null</td><td>null</td><td>null</td><td>null</td><td>null</td><td>null</td><td>null</td><td>null</td><td>null</td><td>null</td><td>null</td><td>null</td><td>null</td><td>null</td><td>null</td><td>null</td><td>null</td><td>null</td><td>null</td><td>null</td><td>null</td><td>null</td><td>null</td><td>null</td><td>null</td><td>null</td><td>null</td><td>null</td><td>null</td><td>null</td><td>null</td><td>null</td><td>null</td><td>null</td><td>null</td><td>null</td><td>null</td><td>null</td><td>null</td></tr><tr><td>&quot;75%&quot;</td><td>null</td><td>null</td><td>null</td><td>null</td><td>null</td><td>null</td><td>null</td><td>null</td><td>null</td><td>null</td><td>null</td><td>null</td><td>null</td><td>null</td><td>null</td><td>null</td><td>null</td><td>null</td><td>null</td><td>null</td><td>null</td><td>null</td><td>null</td><td>null</td><td>null</td><td>null</td><td>null</td><td>null</td><td>null</td><td>null</td><td>null</td><td>null</td><td>null</td><td>null</td><td>null</td><td>null</td><td>null</td><td>null</td><td>null</td><td>null</td><td>null</td><td>null</td><td>null</td><td>null</td><td>null</td><td>null</td><td>null</td><td>null</td><td>null</td><td>null</td><td>null</td><td>null</td><td>null</td><td>null</td><td>null</td><td>null</td><td>null</td><td>null</td><td>null</td><td>null</td><td>null</td><td>null</td><td>null</td><td>null</td><td>null</td><td>null</td><td>null</td></tr><tr><td>&quot;max&quot;</td><td>&quot;ZWE&quot;</td><td>&quot;South America&quot;</td><td>&quot;Zimbabwe&quot;</td><td>&quot;12-31-23&quot;</td><td>&quot;999886.0&quot;</td><td>&quot;9999.0&quot;</td><td>&quot;99985.571&quot;</td><td>&quot;99965.0&quot;</td><td>&quot;999.0&quot;</td><td>&quot;998.714&quot;</td><td>&quot;Sep-87&quot;</td><td>&quot;Sep-88&quot;</td><td>&quot;Sep-96&quot;</td><td>&quot;Sep-95&quot;</td><td>&quot;Sep-98&quot;</td><td>&quot;Sep-98&quot;</td><td>&quot;May-87&quot;</td><td>&quot;9994.0&quot;</td><td>&quot;Sep-98&quot;</td><td>&quot;999.0&quot;</td><td>&quot;Sep-93&quot;</td><td>&quot;998.0&quot;</td><td>&quot;Sep-98&quot;</td><td>&quot;9996.0&quot;</td><td>&quot;Sep-91&quot;</td><td>&quot;9999879.0&quot;</td><td>&quot;99999.0&quot;</td><td>&quot;Sep-99&quot;</td><td>&quot;Sep-99&quot;</td><td>&quot;99990.0&quot;</td><td>&quot;Sep-99&quot;</td><td>&quot;1.0&quot;</td><td>&quot;999.8&quot;</td><td>&quot;units unclear&quot;</td><td>&quot;999990.0&quot;</td><td>&quot;9999633.0&quot;</td><td>&quot;9999902.0&quot;</td><td>&quot;999995.0&quot;</td><td>&quot;999947.0&quot;</td><td>&quot;99998.0&quot;</td><td>&quot;Sep-98&quot;</td><td>&quot;Sep-99&quot;</td><td>&quot;Sep-99&quot;</td><td>&quot;Sep-99&quot;</td><td>&quot;9999.0&quot;</td><td>&quot;99996.0&quot;</td><td>&quot;Mar-21&quot;</td><td>&quot;Sep-89&quot;</td><td>&quot;Jan-98&quot;</td><td>&quot;48.2&quot;</td><td>&quot;May-82&quot;</td><td>&quot;Sep-72&quot;</td><td>&quot;9795.834&quot;</td><td>&quot;77.6&quot;</td><td>&quot;99.739&quot;</td><td>&quot;Sep-85&quot;</td><td>&quot;7.0&quot;</td><td>&quot;78.1&quot;</td><td>&quot;Jul-96&quot;</td><td>&quot;May-98&quot;</td><td>&quot;86.75&quot;</td><td>&quot;0.957&quot;</td><td>&quot;9967304.0&quot;</td><td>&quot;99988.016&quot;</td><td>&quot;Sep-99&quot;</td><td>&quot;Sep-99&quot;</td><td>&quot;999.514&quot;</td></tr></tbody></table></div>"
      ],
      "text/plain": [
       "shape: (9, 68)\n",
       "┌───────────┬──────────┬───────────┬───────────┬───┬───────────┬───────────┬───────────┬───────────┐\n",
       "│ describe  ┆ iso_code ┆ continent ┆ location  ┆ … ┆ excess_mo ┆ excess_mo ┆ excess_mo ┆ excess_mo │\n",
       "│ ---       ┆ ---      ┆ ---       ┆ ---       ┆   ┆ rtality_c ┆ rtality_c ┆ rtality   ┆ rtality_c │\n",
       "│ str       ┆ str      ┆ str       ┆ str       ┆   ┆ umulative ┆ umulative ┆ ---       ┆ umulative │\n",
       "│           ┆          ┆           ┆           ┆   ┆ _abso…    ┆ ---       ┆ str       ┆ _per_…    │\n",
       "│           ┆          ┆           ┆           ┆   ┆ ---       ┆ str       ┆           ┆ ---       │\n",
       "│           ┆          ┆           ┆           ┆   ┆ str       ┆           ┆           ┆ str       │\n",
       "╞═══════════╪══════════╪═══════════╪═══════════╪═══╪═══════════╪═══════════╪═══════════╪═══════════╡\n",
       "│ count     ┆ 276700   ┆ 262726    ┆ 276700    ┆ … ┆ 11883     ┆ 11883     ┆ 11883     ┆ 11883     │\n",
       "│ null_coun ┆ 0        ┆ 13974     ┆ 0         ┆ … ┆ 264817    ┆ 264817    ┆ 264817    ┆ 264817    │\n",
       "│ t         ┆          ┆           ┆           ┆   ┆           ┆           ┆           ┆           │\n",
       "│ mean      ┆ null     ┆ null      ┆ null      ┆ … ┆ null      ┆ null      ┆ null      ┆ null      │\n",
       "│ std       ┆ null     ┆ null      ┆ null      ┆ … ┆ null      ┆ null      ┆ null      ┆ null      │\n",
       "│ min       ┆ ABW      ┆ Africa    ┆ Afghanist ┆ … ┆ -0.200000 ┆ -0.01     ┆ -0.01     ┆ -0.182602 │\n",
       "│           ┆          ┆           ┆ an        ┆   ┆ 76        ┆           ┆           ┆ 18        │\n",
       "│ 25%       ┆ null     ┆ null      ┆ null      ┆ … ┆ null      ┆ null      ┆ null      ┆ null      │\n",
       "│ 50%       ┆ null     ┆ null      ┆ null      ┆ … ┆ null      ┆ null      ┆ null      ┆ null      │\n",
       "│ 75%       ┆ null     ┆ null      ┆ null      ┆ … ┆ null      ┆ null      ┆ null      ┆ null      │\n",
       "│ max       ┆ ZWE      ┆ South     ┆ Zimbabwe  ┆ … ┆ 99988.016 ┆ Sep-99    ┆ Sep-99    ┆ 999.514   │\n",
       "│           ┆          ┆ America   ┆           ┆   ┆           ┆           ┆           ┆           │\n",
       "└───────────┴──────────┴───────────┴───────────┴───┴───────────┴───────────┴───────────┴───────────┘"
      ]
     },
     "execution_count": 12,
     "metadata": {},
     "output_type": "execute_result"
    }
   ],
   "source": [
    "df_ox.describe()"
   ]
  },
  {
   "cell_type": "code",
   "execution_count": 13,
   "metadata": {},
   "outputs": [
    {
     "data": {
      "text/html": [
       "<div><style>\n",
       ".dataframe > thead > tr,\n",
       ".dataframe > tbody > tr {\n",
       "  text-align: right;\n",
       "  white-space: pre-wrap;\n",
       "}\n",
       "</style>\n",
       "<small>shape: (9, 68)</small><table border=\"1\" class=\"dataframe\"><thead><tr><th>describe</th><th>iso_code</th><th>continent</th><th>location</th><th>date</th><th>total_cases</th><th>new_cases</th><th>new_cases_smoothed</th><th>total_deaths</th><th>new_deaths</th><th>new_deaths_smoothed</th><th>total_cases_per_million</th><th>new_cases_per_million</th><th>new_cases_smoothed_per_million</th><th>total_deaths_per_million</th><th>new_deaths_per_million</th><th>new_deaths_smoothed_per_million</th><th>reproduction_rate</th><th>icu_patients</th><th>icu_patients_per_million</th><th>hosp_patients</th><th>hosp_patients_per_million</th><th>weekly_icu_admissions</th><th>weekly_icu_admissions_per_million</th><th>weekly_hosp_admissions</th><th>weekly_hosp_admissions_per_million</th><th>total_tests</th><th>new_tests</th><th>total_tests_per_thousand</th><th>new_tests_per_thousand</th><th>new_tests_smoothed</th><th>new_tests_smoothed_per_thousand</th><th>positive_rate</th><th>tests_per_case</th><th>tests_units</th><th>total_vaccinations</th><th>people_vaccinated</th><th>people_fully_vaccinated</th><th>total_boosters</th><th>new_vaccinations</th><th>new_vaccinations_smoothed</th><th>total_vaccinations_per_hundred</th><th>people_vaccinated_per_hundred</th><th>people_fully_vaccinated_per_hundred</th><th>total_boosters_per_hundred</th><th>new_vaccinations_smoothed_per_million</th><th>new_people_vaccinated_smoothed</th><th>new_people_vaccinated_smoothed_per_hundred</th><th>stringency_index</th><th>population_density</th><th>median_age</th><th>aged_65_older</th><th>aged_70_older</th><th>gdp_per_capita</th><th>extreme_poverty</th><th>cardiovasc_death_rate</th><th>diabetes_prevalence</th><th>female_smokers</th><th>male_smokers</th><th>handwashing_facilities</th><th>hospital_beds_per_thousand</th><th>life_expectancy</th><th>human_development_index</th><th>population</th><th>excess_mortality_cumulative_absolute</th><th>excess_mortality_cumulative</th><th>excess_mortality</th><th>excess_mortality_cumulative_per_million</th></tr><tr><td>str</td><td>str</td><td>str</td><td>str</td><td>str</td><td>str</td><td>str</td><td>str</td><td>str</td><td>str</td><td>str</td><td>str</td><td>str</td><td>str</td><td>str</td><td>str</td><td>str</td><td>str</td><td>str</td><td>str</td><td>str</td><td>str</td><td>str</td><td>str</td><td>str</td><td>str</td><td>str</td><td>str</td><td>str</td><td>str</td><td>str</td><td>str</td><td>str</td><td>str</td><td>str</td><td>str</td><td>str</td><td>str</td><td>str</td><td>str</td><td>str</td><td>str</td><td>str</td><td>str</td><td>str</td><td>str</td><td>str</td><td>str</td><td>str</td><td>str</td><td>str</td><td>str</td><td>str</td><td>str</td><td>str</td><td>str</td><td>str</td><td>str</td><td>str</td><td>str</td><td>str</td><td>str</td><td>str</td><td>str</td><td>str</td><td>str</td><td>str</td><td>str</td></tr></thead><tbody><tr><td>&quot;count&quot;</td><td>&quot;276700&quot;</td><td>&quot;262726&quot;</td><td>&quot;276700&quot;</td><td>&quot;276700&quot;</td><td>&quot;47775&quot;</td><td>&quot;51838&quot;</td><td>&quot;50608&quot;</td><td>&quot;44649&quot;</td><td>&quot;51859&quot;</td><td>&quot;50629&quot;</td><td>&quot;47775&quot;</td><td>&quot;51838&quot;</td><td>&quot;50608&quot;</td><td>&quot;44649&quot;</td><td>&quot;51859&quot;</td><td>&quot;50629&quot;</td><td>&quot;184817&quot;</td><td>&quot;38195&quot;</td><td>&quot;38195&quot;</td><td>&quot;39683&quot;</td><td>&quot;39683&quot;</td><td>&quot;10453&quot;</td><td>&quot;10453&quot;</td><td>&quot;23785&quot;</td><td>&quot;23785&quot;</td><td>&quot;79387&quot;</td><td>&quot;75403&quot;</td><td>&quot;79387&quot;</td><td>&quot;75403&quot;</td><td>&quot;103965&quot;</td><td>&quot;103965&quot;</td><td>&quot;95927&quot;</td><td>&quot;94348&quot;</td><td>&quot;106788&quot;</td><td>&quot;80910&quot;</td><td>&quot;77439&quot;</td><td>&quot;74164&quot;</td><td>&quot;49060&quot;</td><td>&quot;66854&quot;</td><td>&quot;185122&quot;</td><td>&quot;80910&quot;</td><td>&quot;77439&quot;</td><td>&quot;74164&quot;</td><td>&quot;49060&quot;</td><td>&quot;185122&quot;</td><td>&quot;184820&quot;</td><td>&quot;184820&quot;</td><td>&quot;180902&quot;</td><td>&quot;245128&quot;</td><td>&quot;232151&quot;</td><td>&quot;228629&quot;</td><td>&quot;230696&quot;</td><td>&quot;229745&quot;</td><td>&quot;152762&quot;</td><td>&quot;230192&quot;</td><td>&quot;239681&quot;</td><td>&quot;178131&quot;</td><td>&quot;175546&quot;</td><td>&quot;113626&quot;</td><td>&quot;205421&quot;</td><td>&quot;254747&quot;</td><td>&quot;225670&quot;</td><td>&quot;276700&quot;</td><td>&quot;11883&quot;</td><td>&quot;11883&quot;</td><td>&quot;11883&quot;</td><td>&quot;11883&quot;</td></tr><tr><td>&quot;null_count&quot;</td><td>&quot;0&quot;</td><td>&quot;13974&quot;</td><td>&quot;0&quot;</td><td>&quot;0&quot;</td><td>&quot;228925&quot;</td><td>&quot;224862&quot;</td><td>&quot;226092&quot;</td><td>&quot;232051&quot;</td><td>&quot;224841&quot;</td><td>&quot;226071&quot;</td><td>&quot;228925&quot;</td><td>&quot;224862&quot;</td><td>&quot;226092&quot;</td><td>&quot;232051&quot;</td><td>&quot;224841&quot;</td><td>&quot;226071&quot;</td><td>&quot;91883&quot;</td><td>&quot;238505&quot;</td><td>&quot;238505&quot;</td><td>&quot;237017&quot;</td><td>&quot;237017&quot;</td><td>&quot;266247&quot;</td><td>&quot;266247&quot;</td><td>&quot;252915&quot;</td><td>&quot;252915&quot;</td><td>&quot;197313&quot;</td><td>&quot;201297&quot;</td><td>&quot;197313&quot;</td><td>&quot;201297&quot;</td><td>&quot;172735&quot;</td><td>&quot;172735&quot;</td><td>&quot;180773&quot;</td><td>&quot;182352&quot;</td><td>&quot;169912&quot;</td><td>&quot;195790&quot;</td><td>&quot;199261&quot;</td><td>&quot;202536&quot;</td><td>&quot;227640&quot;</td><td>&quot;209846&quot;</td><td>&quot;91578&quot;</td><td>&quot;195790&quot;</td><td>&quot;199261&quot;</td><td>&quot;202536&quot;</td><td>&quot;227640&quot;</td><td>&quot;91578&quot;</td><td>&quot;91880&quot;</td><td>&quot;91880&quot;</td><td>&quot;95798&quot;</td><td>&quot;31572&quot;</td><td>&quot;44549&quot;</td><td>&quot;48071&quot;</td><td>&quot;46004&quot;</td><td>&quot;46955&quot;</td><td>&quot;123938&quot;</td><td>&quot;46508&quot;</td><td>&quot;37019&quot;</td><td>&quot;98569&quot;</td><td>&quot;101154&quot;</td><td>&quot;163074&quot;</td><td>&quot;71279&quot;</td><td>&quot;21953&quot;</td><td>&quot;51030&quot;</td><td>&quot;0&quot;</td><td>&quot;264817&quot;</td><td>&quot;264817&quot;</td><td>&quot;264817&quot;</td><td>&quot;264817&quot;</td></tr><tr><td>&quot;mean&quot;</td><td>null</td><td>null</td><td>null</td><td>null</td><td>null</td><td>null</td><td>null</td><td>null</td><td>null</td><td>null</td><td>null</td><td>null</td><td>null</td><td>null</td><td>null</td><td>null</td><td>null</td><td>null</td><td>null</td><td>null</td><td>null</td><td>null</td><td>null</td><td>null</td><td>null</td><td>null</td><td>null</td><td>null</td><td>null</td><td>null</td><td>null</td><td>null</td><td>null</td><td>null</td><td>null</td><td>null</td><td>null</td><td>null</td><td>null</td><td>null</td><td>null</td><td>null</td><td>null</td><td>null</td><td>null</td><td>null</td><td>null</td><td>null</td><td>null</td><td>null</td><td>null</td><td>null</td><td>null</td><td>null</td><td>null</td><td>null</td><td>null</td><td>null</td><td>null</td><td>null</td><td>null</td><td>null</td><td>null</td><td>null</td><td>null</td><td>null</td><td>null</td></tr><tr><td>&quot;std&quot;</td><td>null</td><td>null</td><td>null</td><td>null</td><td>null</td><td>null</td><td>null</td><td>null</td><td>null</td><td>null</td><td>null</td><td>null</td><td>null</td><td>null</td><td>null</td><td>null</td><td>null</td><td>null</td><td>null</td><td>null</td><td>null</td><td>null</td><td>null</td><td>null</td><td>null</td><td>null</td><td>null</td><td>null</td><td>null</td><td>null</td><td>null</td><td>null</td><td>null</td><td>null</td><td>null</td><td>null</td><td>null</td><td>null</td><td>null</td><td>null</td><td>null</td><td>null</td><td>null</td><td>null</td><td>null</td><td>null</td><td>null</td><td>null</td><td>null</td><td>null</td><td>null</td><td>null</td><td>null</td><td>null</td><td>null</td><td>null</td><td>null</td><td>null</td><td>null</td><td>null</td><td>null</td><td>null</td><td>null</td><td>null</td><td>null</td><td>null</td><td>null</td></tr><tr><td>&quot;min&quot;</td><td>&quot;ABW&quot;</td><td>&quot;Africa&quot;</td><td>&quot;Afghanistan&quot;</td><td>&quot;2020-01-01 00:…</td><td>&quot;1.0&quot;</td><td>&quot;0.0&quot;</td><td>&quot;0.0&quot;</td><td>&quot;1.0&quot;</td><td>&quot;0.0&quot;</td><td>&quot;0.0&quot;</td><td>&quot;0.0&quot;</td><td>&quot;0.0&quot;</td><td>&quot;0.0&quot;</td><td>&quot;0.0&quot;</td><td>&quot;0.0&quot;</td><td>&quot;0.0&quot;</td><td>&quot;-0.0&quot;</td><td>&quot;0.0&quot;</td><td>&quot;0.0&quot;</td><td>&quot;0.0&quot;</td><td>&quot;0.0&quot;</td><td>&quot;0.0&quot;</td><td>&quot;0.0&quot;</td><td>&quot;0.0&quot;</td><td>&quot;0.0&quot;</td><td>&quot;0.0&quot;</td><td>&quot;1.0&quot;</td><td>&quot;0.0&quot;</td><td>&quot;0.0&quot;</td><td>&quot;0.0&quot;</td><td>&quot;0.0&quot;</td><td>&quot;0.0&quot;</td><td>&quot;1.0&quot;</td><td>&quot;people tested&quot;</td><td>&quot;0.0&quot;</td><td>&quot;0.0&quot;</td><td>&quot;1.0&quot;</td><td>&quot;1.0&quot;</td><td>&quot;0.0&quot;</td><td>&quot;0.0&quot;</td><td>&quot;0.0&quot;</td><td>&quot;0.0&quot;</td><td>&quot;0.0&quot;</td><td>&quot;0.0&quot;</td><td>&quot;0.0&quot;</td><td>&quot;0.0&quot;</td><td>&quot;0.0&quot;</td><td>&quot;0.0&quot;</td><td>&quot;0.137&quot;</td><td>&quot;17.0&quot;</td><td>&quot;1.144&quot;</td><td>&quot;0.526&quot;</td><td>&quot;104861.851&quot;</td><td>&quot;0.1&quot;</td><td>&quot;103.957&quot;</td><td>&quot;0.99&quot;</td><td>&quot;0.1&quot;</td><td>&quot;2024-01-18 00:…</td><td>&quot;1.188&quot;</td><td>&quot;0.1&quot;</td><td>&quot;53.28&quot;</td><td>&quot;0.394&quot;</td><td>&quot;10142625.0&quot;</td><td>&quot;-0.20000076&quot;</td><td>&quot;-0.01&quot;</td><td>&quot;-0.01&quot;</td><td>&quot;-0.18260218&quot;</td></tr><tr><td>&quot;25%&quot;</td><td>null</td><td>null</td><td>null</td><td>null</td><td>null</td><td>null</td><td>null</td><td>null</td><td>null</td><td>null</td><td>null</td><td>null</td><td>null</td><td>null</td><td>null</td><td>null</td><td>null</td><td>null</td><td>null</td><td>null</td><td>null</td><td>null</td><td>null</td><td>null</td><td>null</td><td>null</td><td>null</td><td>null</td><td>null</td><td>null</td><td>null</td><td>null</td><td>null</td><td>null</td><td>null</td><td>null</td><td>null</td><td>null</td><td>null</td><td>null</td><td>null</td><td>null</td><td>null</td><td>null</td><td>null</td><td>null</td><td>null</td><td>null</td><td>null</td><td>null</td><td>null</td><td>null</td><td>null</td><td>null</td><td>null</td><td>null</td><td>null</td><td>null</td><td>null</td><td>null</td><td>null</td><td>null</td><td>null</td><td>null</td><td>null</td><td>null</td><td>null</td></tr><tr><td>&quot;50%&quot;</td><td>null</td><td>null</td><td>null</td><td>null</td><td>null</td><td>null</td><td>null</td><td>null</td><td>null</td><td>null</td><td>null</td><td>null</td><td>null</td><td>null</td><td>null</td><td>null</td><td>null</td><td>null</td><td>null</td><td>null</td><td>null</td><td>null</td><td>null</td><td>null</td><td>null</td><td>null</td><td>null</td><td>null</td><td>null</td><td>null</td><td>null</td><td>null</td><td>null</td><td>null</td><td>null</td><td>null</td><td>null</td><td>null</td><td>null</td><td>null</td><td>null</td><td>null</td><td>null</td><td>null</td><td>null</td><td>null</td><td>null</td><td>null</td><td>null</td><td>null</td><td>null</td><td>null</td><td>null</td><td>null</td><td>null</td><td>null</td><td>null</td><td>null</td><td>null</td><td>null</td><td>null</td><td>null</td><td>null</td><td>null</td><td>null</td><td>null</td><td>null</td></tr><tr><td>&quot;75%&quot;</td><td>null</td><td>null</td><td>null</td><td>null</td><td>null</td><td>null</td><td>null</td><td>null</td><td>null</td><td>null</td><td>null</td><td>null</td><td>null</td><td>null</td><td>null</td><td>null</td><td>null</td><td>null</td><td>null</td><td>null</td><td>null</td><td>null</td><td>null</td><td>null</td><td>null</td><td>null</td><td>null</td><td>null</td><td>null</td><td>null</td><td>null</td><td>null</td><td>null</td><td>null</td><td>null</td><td>null</td><td>null</td><td>null</td><td>null</td><td>null</td><td>null</td><td>null</td><td>null</td><td>null</td><td>null</td><td>null</td><td>null</td><td>null</td><td>null</td><td>null</td><td>null</td><td>null</td><td>null</td><td>null</td><td>null</td><td>null</td><td>null</td><td>null</td><td>null</td><td>null</td><td>null</td><td>null</td><td>null</td><td>null</td><td>null</td><td>null</td><td>null</td></tr><tr><td>&quot;max&quot;</td><td>&quot;ZWE&quot;</td><td>&quot;South America&quot;</td><td>&quot;Zimbabwe&quot;</td><td>&quot;2024-01-19 00:…</td><td>&quot;999886.0&quot;</td><td>&quot;9999.0&quot;</td><td>&quot;99985.571&quot;</td><td>&quot;99965.0&quot;</td><td>&quot;999.0&quot;</td><td>&quot;998.714&quot;</td><td>&quot;99996.358&quot;</td><td>&quot;999.979&quot;</td><td>&quot;999.713&quot;</td><td>&quot;999.978&quot;</td><td>&quot;99.991&quot;</td><td>&quot;99.932&quot;</td><td>&quot;4.0&quot;</td><td>&quot;9994.0&quot;</td><td>&quot;99.981&quot;</td><td>&quot;999.0&quot;</td><td>&quot;995.991&quot;</td><td>&quot;998.0&quot;</td><td>&quot;91.696&quot;</td><td>&quot;9996.0&quot;</td><td>&quot;99.988&quot;</td><td>&quot;9999879.0&quot;</td><td>&quot;99999.0&quot;</td><td>&quot;9995.96&quot;</td><td>&quot;99.539&quot;</td><td>&quot;99990.0&quot;</td><td>&quot;99.969&quot;</td><td>&quot;1.0&quot;</td><td>&quot;999.8&quot;</td><td>&quot;units unclear&quot;</td><td>&quot;999990.0&quot;</td><td>&quot;9999633.0&quot;</td><td>&quot;9999902.0&quot;</td><td>&quot;999995.0&quot;</td><td>&quot;999947.0&quot;</td><td>&quot;99998.0&quot;</td><td>&quot;99.99&quot;</td><td>&quot;99.94&quot;</td><td>&quot;99.94&quot;</td><td>&quot;99.97&quot;</td><td>&quot;9999.0&quot;</td><td>&quot;99996.0&quot;</td><td>&quot;9.262&quot;</td><td>&quot;98.15&quot;</td><td>&quot;99.11&quot;</td><td>&quot;48.2&quot;</td><td>&quot;9.954&quot;</td><td>&quot;9.842&quot;</td><td>&quot;9795.834&quot;</td><td>&quot;77.6&quot;</td><td>&quot;99.739&quot;</td><td>&quot;6.0&quot;</td><td>&quot;7.0&quot;</td><td>&quot;78.1&quot;</td><td>&quot;98.999&quot;</td><td>&quot;8.0&quot;</td><td>&quot;86.75&quot;</td><td>&quot;0.957&quot;</td><td>&quot;9967304.0&quot;</td><td>&quot;99988.016&quot;</td><td>&quot;9.0&quot;</td><td>&quot;99.55&quot;</td><td>&quot;999.514&quot;</td></tr></tbody></table></div>"
      ],
      "text/plain": [
       "shape: (9, 68)\n",
       "┌───────────┬──────────┬───────────┬───────────┬───┬───────────┬───────────┬───────────┬───────────┐\n",
       "│ describe  ┆ iso_code ┆ continent ┆ location  ┆ … ┆ excess_mo ┆ excess_mo ┆ excess_mo ┆ excess_mo │\n",
       "│ ---       ┆ ---      ┆ ---       ┆ ---       ┆   ┆ rtality_c ┆ rtality_c ┆ rtality   ┆ rtality_c │\n",
       "│ str       ┆ str      ┆ str       ┆ str       ┆   ┆ umulative ┆ umulative ┆ ---       ┆ umulative │\n",
       "│           ┆          ┆           ┆           ┆   ┆ _abso…    ┆ ---       ┆ str       ┆ _per_…    │\n",
       "│           ┆          ┆           ┆           ┆   ┆ ---       ┆ str       ┆           ┆ ---       │\n",
       "│           ┆          ┆           ┆           ┆   ┆ str       ┆           ┆           ┆ str       │\n",
       "╞═══════════╪══════════╪═══════════╪═══════════╪═══╪═══════════╪═══════════╪═══════════╪═══════════╡\n",
       "│ count     ┆ 276700   ┆ 262726    ┆ 276700    ┆ … ┆ 11883     ┆ 11883     ┆ 11883     ┆ 11883     │\n",
       "│ null_coun ┆ 0        ┆ 13974     ┆ 0         ┆ … ┆ 264817    ┆ 264817    ┆ 264817    ┆ 264817    │\n",
       "│ t         ┆          ┆           ┆           ┆   ┆           ┆           ┆           ┆           │\n",
       "│ mean      ┆ null     ┆ null      ┆ null      ┆ … ┆ null      ┆ null      ┆ null      ┆ null      │\n",
       "│ std       ┆ null     ┆ null      ┆ null      ┆ … ┆ null      ┆ null      ┆ null      ┆ null      │\n",
       "│ min       ┆ ABW      ┆ Africa    ┆ Afghanist ┆ … ┆ -0.200000 ┆ -0.01     ┆ -0.01     ┆ -0.182602 │\n",
       "│           ┆          ┆           ┆ an        ┆   ┆ 76        ┆           ┆           ┆ 18        │\n",
       "│ 25%       ┆ null     ┆ null      ┆ null      ┆ … ┆ null      ┆ null      ┆ null      ┆ null      │\n",
       "│ 50%       ┆ null     ┆ null      ┆ null      ┆ … ┆ null      ┆ null      ┆ null      ┆ null      │\n",
       "│ 75%       ┆ null     ┆ null      ┆ null      ┆ … ┆ null      ┆ null      ┆ null      ┆ null      │\n",
       "│ max       ┆ ZWE      ┆ South     ┆ Zimbabwe  ┆ … ┆ 99988.016 ┆ 9.0       ┆ 99.55     ┆ 999.514   │\n",
       "│           ┆          ┆ America   ┆           ┆   ┆           ┆           ┆           ┆           │\n",
       "└───────────┴──────────┴───────────┴───────────┴───┴───────────┴───────────┴───────────┴───────────┘"
      ]
     },
     "execution_count": 13,
     "metadata": {},
     "output_type": "execute_result"
    }
   ],
   "source": [
    "df_rx.describe()"
   ]
  },
  {
   "cell_type": "markdown",
   "metadata": {},
   "source": [
    "### Explanation"
   ]
  },
  {
   "cell_type": "markdown",
   "metadata": {},
   "source": [
    "This simple showcase will give you some information about reading MS Excel files using Python engines. Just take a look on differences in `polars.DataFrame.describe` results in columns:\n",
    "\n",
    "- `total_cases_per_million`\n",
    "- `new_cases_per_million`\n",
    "- `new_cases_smoothed_per_million`\n",
    "- `total_deaths_per_million`\n",
    "- `new_deaths_per_million`\n",
    "- `...`\n",
    "\n",
    "There is no simple answer, which engine is better for your case. But, when there is some sh*t in the input data, you should take care about these differences - and there is some benefits for using RXLS:\n",
    "\n",
    "- All temporal data in mixed-dtype columns will be represented as ISO 8601 formatted timestamps, ready for further conversions.\n",
    "\n",
    "- Mixed-dtype column parts may be seamless converted to the common datatype without data loss. But you should keep in mind, that RXLS will convert floating-point values to timestamps, and it may cause rounding issues on converting them back.\n",
    "\n",
    "- If you don't know, which data is inside XLSX/XLSB file (does it contains some errors, or not), and file is Really Large (in my practice, XLSX files may be **larger than 3GB** (!)), you just can't take a look on data (MS Excel is not supporting files this large) - RXLS can read them all (and you could save it's sheets to Apache Arrow `.parquet` files for further analyzing).\n",
    "\n",
    "Other engines also can do this, just keep in mind their cons and pros on mixed-dtype columns reading."
   ]
  },
  {
   "cell_type": "code",
   "execution_count": null,
   "metadata": {},
   "outputs": [],
   "source": [
    "##"
   ]
  }
 ],
 "metadata": {
  "kernelspec": {
   "display_name": ".venv",
   "language": "python",
   "name": "python3"
  },
  "language_info": {
   "codemirror_mode": {
    "name": "ipython",
    "version": 3
   },
   "file_extension": ".py",
   "mimetype": "text/x-python",
   "name": "python",
   "nbconvert_exporter": "python",
   "pygments_lexer": "ipython3",
   "version": "3.8.10"
  },
  "orig_nbformat": 4,
  "vscode": {
   "interpreter": {
    "hash": "63b6a2b0f35fa4ea1c49d25456d100cfd93064b5ee1d57f74d839a65cc2b63a2"
   }
  }
 },
 "nbformat": 4,
 "nbformat_minor": 2
}
