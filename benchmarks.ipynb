{
 "cells": [
  {
   "attachments": {},
   "cell_type": "markdown",
   "metadata": {},
   "source": [
    "## Initialization"
   ]
  },
  {
   "cell_type": "code",
   "execution_count": null,
   "metadata": {},
   "outputs": [],
   "source": [
    "# ruff: noqa:I001, T201"
   ]
  },
  {
   "cell_type": "code",
   "execution_count": 1,
   "metadata": {
    "notebookRunGroups": {
     "groupValue": "1"
    }
   },
   "outputs": [
    {
     "name": "stdout",
     "output_type": "stream",
     "text": [
      "[========================================================================================================================]\n",
      "|                                               benchmark environment used                                               |\n",
      "[======== system ========][========================================== property ==========================================]\n",
      "|        Platform        ||                                  Windows-10-10.0.19044-SP0                                   |\n",
      "|          CPU           ||                      AMD64 Family 23 Model 17 Stepping 0, AuthenticAMD                       |\n",
      "|         CPU HZ         ||                               2.4950 GHz (actual: 2.5000 GHz)                                |\n",
      "|         Python         ||       3.8.10 (tags/v3.8.10:3d8993a, May  3 2021, 11:48:03) [MSC v.1928 64 bit (AMD64)]       |\n",
      "[====== dependency ======][========================================== version ===========================================]\n",
      "|        PyArrow         ||                                            14.0.2                                            |\n",
      "|         Polars         ||                                            0.20.4                                            |\n",
      "|         Pandas         ||                                            2.0.3                                             |\n",
      "|         Numba          ||                                            0.58.1                                            |\n",
      "|        XLSX2CSV        ||                                            0.8.2                                             |\n",
      "|        OpenPyXL        ||                                            3.1.2                                             |\n",
      "|         PyXLSB         ||                                            1.0.10                                            |\n",
      "|    python_calamine     ||                                            0.1.7                                             |\n",
      "|          tqdm          ||                                            4.66.1                                            |\n",
      "|      recordclass       ||                                            0.21.1                                            |\n",
      "|          lxml          ||                                            5.1.0                                             |\n",
      "|        cpuinfo         ||                                            9.0.0                                             |\n",
      "|    memory_profiler     ||                                            0.61.0                                            |\n",
      "[========================][==============================================================================================]\n"
     ]
    }
   ],
   "source": [
    "import platform\n",
    "import cpuinfo\n",
    "import sys\n",
    "\n",
    "import polars as pl\n",
    "import pyarrow as pa\n",
    "import pandas as pd\n",
    "import numba as nb\n",
    "\n",
    "import xlsx2csv\n",
    "import openpyxl\n",
    "import pyxlsb\n",
    "import python_calamine as calamine\n",
    "\n",
    "import recordclass\n",
    "import tqdm as _tqdm\n",
    "import lxml\n",
    "\n",
    "import memory_profiler\n",
    "\n",
    "from rxls.reader import read as xl_scan\n",
    "from tqdm import tqdm\n",
    "\n",
    "cpu: dict = cpuinfo.get_cpu_info()\n",
    "\n",
    "print(\n",
    "    f'[{\"=\":=^120}]',\n",
    "    f'|{\" benchmark environment used \":^120}|',\n",
    "    f'[{\" system \":=^24}][{\" property \":=^94}]',\n",
    "    *[\n",
    "        f'|{f\" {name} \":^24}||{f\" {version} \":^94}|'\n",
    "        for name, version in {\n",
    "            \"Platform\": platform.platform(),\n",
    "            \"CPU\": platform.processor(),\n",
    "            \"CPU HZ\": f'{cpu[\"hz_advertised_friendly\"]} (actual: {cpu[\"hz_actual_friendly\"]})',\n",
    "            \"Python\": sys.version,\n",
    "        }.items()\n",
    "    ],\n",
    "    f'[{\" dependency \":=^24}][{\" version \":=^94}]',\n",
    "    *[\n",
    "        f'|{f\" {name} \":^24}||{f\" {version} \":^94}|'\n",
    "        for name, version in {\n",
    "            \"PyArrow\": pa.__version__,\n",
    "            \"Polars\": pl.__version__,\n",
    "            \"Pandas\": pd.__version__,\n",
    "            \"Numba\": nb.__version__,\n",
    "            \"XLSX2CSV\": xlsx2csv.__version__,\n",
    "            \"OpenPyXL\": openpyxl.__version__,\n",
    "            \"PyXLSB\": pyxlsb.__version__,\n",
    "            \"python_calamine\": \"0.1.7\",  # On 2024-01-20 this package has no `__version__` attribute\n",
    "            \"tqdm\": _tqdm.__version__,\n",
    "            \"recordclass\": recordclass.__version__,\n",
    "            \"lxml\": lxml.__version__,\n",
    "            \"cpuinfo\": \".\".join(map(str, cpuinfo.CPUINFO_VERSION)),\n",
    "            \"memory_profiler\": memory_profiler.__version__,\n",
    "        }.items()\n",
    "    ],\n",
    "    f'[{\"=\":=^24}][{\"=\":=^94}]',\n",
    "    sep=\"\\n\",\n",
    ")"
   ]
  },
  {
   "attachments": {},
   "cell_type": "markdown",
   "metadata": {},
   "source": [
    "## DataSource:\n",
    "\n",
    "Our World In Data: COVID-19\n",
    "\n",
    "https://github.com/owid/covid-19-data/raw/cd68c0641d0837adb62c2ed3146459a593aa776a/public/data/owid-covid-data.csv\n",
    "\n",
    "**I've download this, and save with MS Excel to .xlsx and .xlsb formats using `Legacy` text import wizard (keep errors in columns)**"
   ]
  },
  {
   "cell_type": "code",
   "execution_count": 2,
   "metadata": {
    "notebookRunGroups": {
     "groupValue": "1"
    }
   },
   "outputs": [],
   "source": [
    "# Original CSV file and converted XLSX/XLSB datasets saved in `benchmarks.datasets.7z`\n",
    "XLSX_FILE = \"covid.xlsx\"\n",
    "XLSB_FILE = \"covid.xlsb\""
   ]
  },
  {
   "cell_type": "code",
   "execution_count": 3,
   "metadata": {
    "notebookRunGroups": {
     "groupValue": "1"
    }
   },
   "outputs": [],
   "source": [
    "from IPython.core.display import display_html\n",
    "\n",
    "\n",
    "def show_df(df: pl.DataFrame) -> None:\n",
    "    print(f\"rows: {df.height} columns: {df.width}\")\n",
    "    display_html(df.head())"
   ]
  },
  {
   "attachments": {},
   "cell_type": "markdown",
   "metadata": {},
   "source": [
    "### RXLS. Scan both xlsx and xlsb (*plain = convert all columns to utf8*)"
   ]
  },
  {
   "cell_type": "code",
   "execution_count": 4,
   "metadata": {
    "notebookRunGroups": {
     "groupValue": "1"
    }
   },
   "outputs": [],
   "source": [
    "def scan_rxls_xlsx_plain(path: str = XLSX_FILE) -> pl.DataFrame:\n",
    "    return pl.from_arrow(xl_scan(path, header=True, dtypes=pa.large_string()))  # type: ignore\n",
    "\n",
    "\n",
    "def scan_rxls_xlsb_plain(path: str = XLSB_FILE) -> pl.DataFrame:\n",
    "    return pl.from_arrow(xl_scan(path, header=True, dtypes=pa.large_string()))  # type: ignore\n",
    "\n",
    "\n",
    "def scan_rxls_xlsx(path: str = XLSX_FILE) -> pl.DataFrame:\n",
    "    return pl.from_arrow(xl_scan(path, header=True))  # type: ignore\n",
    "\n",
    "\n",
    "def scan_rxls_xlsb(path: str = XLSB_FILE) -> pl.DataFrame:\n",
    "    return pl.from_arrow(xl_scan(path, header=True))  # type: ignore"
   ]
  },
  {
   "cell_type": "code",
   "execution_count": 10,
   "metadata": {
    "notebookRunGroups": {
     "groupValue": ""
    }
   },
   "outputs": [
    {
     "name": "stdout",
     "output_type": "stream",
     "text": [
      "rows: 276700 columns: 67\n"
     ]
    },
    {
     "data": {
      "text/html": [
       "<div><style>\n",
       ".dataframe > thead > tr,\n",
       ".dataframe > tbody > tr {\n",
       "  text-align: right;\n",
       "  white-space: pre-wrap;\n",
       "}\n",
       "</style>\n",
       "<small>shape: (5, 67)</small><table border=\"1\" class=\"dataframe\"><thead><tr><th>iso_code</th><th>continent</th><th>location</th><th>date</th><th>total_cases</th><th>new_cases</th><th>new_cases_smoothed</th><th>total_deaths</th><th>new_deaths</th><th>new_deaths_smoothed</th><th>total_cases_per_million</th><th>new_cases_per_million</th><th>new_cases_smoothed_per_million</th><th>total_deaths_per_million</th><th>new_deaths_per_million</th><th>new_deaths_smoothed_per_million</th><th>reproduction_rate</th><th>icu_patients</th><th>icu_patients_per_million</th><th>hosp_patients</th><th>hosp_patients_per_million</th><th>weekly_icu_admissions</th><th>weekly_icu_admissions_per_million</th><th>weekly_hosp_admissions</th><th>weekly_hosp_admissions_per_million</th><th>total_tests</th><th>new_tests</th><th>total_tests_per_thousand</th><th>new_tests_per_thousand</th><th>new_tests_smoothed</th><th>new_tests_smoothed_per_thousand</th><th>positive_rate</th><th>tests_per_case</th><th>tests_units</th><th>total_vaccinations</th><th>people_vaccinated</th><th>people_fully_vaccinated</th><th>total_boosters</th><th>new_vaccinations</th><th>new_vaccinations_smoothed</th><th>total_vaccinations_per_hundred</th><th>people_vaccinated_per_hundred</th><th>people_fully_vaccinated_per_hundred</th><th>total_boosters_per_hundred</th><th>new_vaccinations_smoothed_per_million</th><th>new_people_vaccinated_smoothed</th><th>new_people_vaccinated_smoothed_per_hundred</th><th>stringency_index</th><th>population_density</th><th>median_age</th><th>aged_65_older</th><th>aged_70_older</th><th>gdp_per_capita</th><th>extreme_poverty</th><th>cardiovasc_death_rate</th><th>diabetes_prevalence</th><th>female_smokers</th><th>male_smokers</th><th>handwashing_facilities</th><th>hospital_beds_per_thousand</th><th>life_expectancy</th><th>human_development_index</th><th>population</th><th>excess_mortality_cumulative_absolute</th><th>excess_mortality_cumulative</th><th>excess_mortality</th><th>excess_mortality_cumulative_per_million</th></tr><tr><td>str</td><td>str</td><td>str</td><td>str</td><td>str</td><td>str</td><td>str</td><td>str</td><td>str</td><td>str</td><td>str</td><td>str</td><td>str</td><td>str</td><td>str</td><td>str</td><td>str</td><td>str</td><td>str</td><td>str</td><td>str</td><td>str</td><td>str</td><td>str</td><td>str</td><td>str</td><td>str</td><td>str</td><td>str</td><td>str</td><td>str</td><td>str</td><td>str</td><td>str</td><td>str</td><td>str</td><td>str</td><td>str</td><td>str</td><td>str</td><td>str</td><td>str</td><td>str</td><td>str</td><td>str</td><td>str</td><td>str</td><td>str</td><td>str</td><td>str</td><td>str</td><td>str</td><td>str</td><td>str</td><td>str</td><td>str</td><td>str</td><td>str</td><td>str</td><td>str</td><td>str</td><td>str</td><td>str</td><td>str</td><td>str</td><td>str</td><td>str</td></tr></thead><tbody><tr><td>&quot;AFG&quot;</td><td>&quot;Asia&quot;</td><td>&quot;Afghanistan&quot;</td><td>&quot;2020-01-05 00:…</td><td>null</td><td>&quot;0.0&quot;</td><td>null</td><td>null</td><td>&quot;0.0&quot;</td><td>null</td><td>null</td><td>&quot;0.0&quot;</td><td>null</td><td>null</td><td>&quot;0.0&quot;</td><td>null</td><td>null</td><td>null</td><td>null</td><td>null</td><td>null</td><td>null</td><td>null</td><td>null</td><td>null</td><td>null</td><td>null</td><td>null</td><td>null</td><td>null</td><td>null</td><td>null</td><td>null</td><td>null</td><td>null</td><td>null</td><td>null</td><td>null</td><td>null</td><td>null</td><td>null</td><td>null</td><td>null</td><td>null</td><td>null</td><td>null</td><td>null</td><td>&quot;0.0&quot;</td><td>&quot;54.422&quot;</td><td>&quot;2024-06-18 00:…</td><td>&quot;2.581&quot;</td><td>&quot;1.337&quot;</td><td>&quot;1803.987&quot;</td><td>null</td><td>&quot;597.029&quot;</td><td>&quot;1959-09-01 00:…</td><td>null</td><td>null</td><td>&quot;37.746&quot;</td><td>&quot;0.5&quot;</td><td>&quot;64.83&quot;</td><td>&quot;0.511&quot;</td><td>&quot;41128772.0&quot;</td><td>null</td><td>null</td><td>null</td><td>null</td></tr><tr><td>&quot;AFG&quot;</td><td>&quot;Asia&quot;</td><td>&quot;Afghanistan&quot;</td><td>&quot;2020-01-12 00:…</td><td>null</td><td>&quot;0.0&quot;</td><td>null</td><td>null</td><td>&quot;0.0&quot;</td><td>null</td><td>null</td><td>&quot;0.0&quot;</td><td>null</td><td>null</td><td>&quot;0.0&quot;</td><td>null</td><td>null</td><td>null</td><td>null</td><td>null</td><td>null</td><td>null</td><td>null</td><td>null</td><td>null</td><td>null</td><td>null</td><td>null</td><td>null</td><td>null</td><td>null</td><td>null</td><td>null</td><td>null</td><td>null</td><td>null</td><td>null</td><td>null</td><td>null</td><td>null</td><td>null</td><td>null</td><td>null</td><td>null</td><td>null</td><td>null</td><td>null</td><td>&quot;0.0&quot;</td><td>&quot;54.422&quot;</td><td>&quot;2024-06-18 00:…</td><td>&quot;2.581&quot;</td><td>&quot;1.337&quot;</td><td>&quot;1803.987&quot;</td><td>null</td><td>&quot;597.029&quot;</td><td>&quot;1959-09-01 00:…</td><td>null</td><td>null</td><td>&quot;37.746&quot;</td><td>&quot;0.5&quot;</td><td>&quot;64.83&quot;</td><td>&quot;0.511&quot;</td><td>&quot;41128772.0&quot;</td><td>null</td><td>null</td><td>null</td><td>null</td></tr><tr><td>&quot;AFG&quot;</td><td>&quot;Asia&quot;</td><td>&quot;Afghanistan&quot;</td><td>&quot;2020-01-19 00:…</td><td>null</td><td>&quot;0.0&quot;</td><td>null</td><td>null</td><td>&quot;0.0&quot;</td><td>null</td><td>null</td><td>&quot;0.0&quot;</td><td>null</td><td>null</td><td>&quot;0.0&quot;</td><td>null</td><td>null</td><td>null</td><td>null</td><td>null</td><td>null</td><td>null</td><td>null</td><td>null</td><td>null</td><td>null</td><td>null</td><td>null</td><td>null</td><td>null</td><td>null</td><td>null</td><td>null</td><td>null</td><td>null</td><td>null</td><td>null</td><td>null</td><td>null</td><td>null</td><td>null</td><td>null</td><td>null</td><td>null</td><td>null</td><td>null</td><td>null</td><td>&quot;0.0&quot;</td><td>&quot;54.422&quot;</td><td>&quot;2024-06-18 00:…</td><td>&quot;2.581&quot;</td><td>&quot;1.337&quot;</td><td>&quot;1803.987&quot;</td><td>null</td><td>&quot;597.029&quot;</td><td>&quot;1959-09-01 00:…</td><td>null</td><td>null</td><td>&quot;37.746&quot;</td><td>&quot;0.5&quot;</td><td>&quot;64.83&quot;</td><td>&quot;0.511&quot;</td><td>&quot;41128772.0&quot;</td><td>null</td><td>null</td><td>null</td><td>null</td></tr><tr><td>&quot;AFG&quot;</td><td>&quot;Asia&quot;</td><td>&quot;Afghanistan&quot;</td><td>&quot;2020-01-26 00:…</td><td>null</td><td>&quot;0.0&quot;</td><td>null</td><td>null</td><td>&quot;0.0&quot;</td><td>null</td><td>null</td><td>&quot;0.0&quot;</td><td>null</td><td>null</td><td>&quot;0.0&quot;</td><td>null</td><td>null</td><td>null</td><td>null</td><td>null</td><td>null</td><td>null</td><td>null</td><td>null</td><td>null</td><td>null</td><td>null</td><td>null</td><td>null</td><td>null</td><td>null</td><td>null</td><td>null</td><td>null</td><td>null</td><td>null</td><td>null</td><td>null</td><td>null</td><td>null</td><td>null</td><td>null</td><td>null</td><td>null</td><td>null</td><td>null</td><td>null</td><td>&quot;0.0&quot;</td><td>&quot;54.422&quot;</td><td>&quot;2024-06-18 00:…</td><td>&quot;2.581&quot;</td><td>&quot;1.337&quot;</td><td>&quot;1803.987&quot;</td><td>null</td><td>&quot;597.029&quot;</td><td>&quot;1959-09-01 00:…</td><td>null</td><td>null</td><td>&quot;37.746&quot;</td><td>&quot;0.5&quot;</td><td>&quot;64.83&quot;</td><td>&quot;0.511&quot;</td><td>&quot;41128772.0&quot;</td><td>null</td><td>null</td><td>null</td><td>null</td></tr><tr><td>&quot;AFG&quot;</td><td>&quot;Asia&quot;</td><td>&quot;Afghanistan&quot;</td><td>&quot;2020-02-02 00:…</td><td>null</td><td>&quot;0.0&quot;</td><td>null</td><td>null</td><td>&quot;0.0&quot;</td><td>null</td><td>null</td><td>&quot;0.0&quot;</td><td>null</td><td>null</td><td>&quot;0.0&quot;</td><td>null</td><td>null</td><td>null</td><td>null</td><td>null</td><td>null</td><td>null</td><td>null</td><td>null</td><td>null</td><td>null</td><td>null</td><td>null</td><td>null</td><td>null</td><td>null</td><td>null</td><td>null</td><td>null</td><td>null</td><td>null</td><td>null</td><td>null</td><td>null</td><td>null</td><td>null</td><td>null</td><td>null</td><td>null</td><td>null</td><td>null</td><td>null</td><td>&quot;0.0&quot;</td><td>&quot;54.422&quot;</td><td>&quot;2024-06-18 00:…</td><td>&quot;2.581&quot;</td><td>&quot;1.337&quot;</td><td>&quot;1803.987&quot;</td><td>null</td><td>&quot;597.029&quot;</td><td>&quot;1959-09-01 00:…</td><td>null</td><td>null</td><td>&quot;37.746&quot;</td><td>&quot;0.5&quot;</td><td>&quot;64.83&quot;</td><td>&quot;0.511&quot;</td><td>&quot;41128772.0&quot;</td><td>null</td><td>null</td><td>null</td><td>null</td></tr></tbody></table></div>"
      ]
     },
     "metadata": {},
     "output_type": "display_data"
    }
   ],
   "source": [
    "show_df(scan_rxls_xlsx_plain())\n",
    "# 2m 2.2s (276700 rows, 67 columns)"
   ]
  },
  {
   "cell_type": "code",
   "execution_count": 10,
   "metadata": {
    "notebookRunGroups": {
     "groupValue": ""
    }
   },
   "outputs": [
    {
     "name": "stdout",
     "output_type": "stream",
     "text": [
      "rows: 276700 columns: 67\n"
     ]
    },
    {
     "data": {
      "text/html": [
       "<div><style>\n",
       ".dataframe > thead > tr,\n",
       ".dataframe > tbody > tr {\n",
       "  text-align: right;\n",
       "  white-space: pre-wrap;\n",
       "}\n",
       "</style>\n",
       "<small>shape: (5, 67)</small><table border=\"1\" class=\"dataframe\"><thead><tr><th>iso_code</th><th>continent</th><th>location</th><th>date</th><th>total_cases</th><th>new_cases</th><th>new_cases_smoothed</th><th>total_deaths</th><th>new_deaths</th><th>new_deaths_smoothed</th><th>total_cases_per_million</th><th>new_cases_per_million</th><th>new_cases_smoothed_per_million</th><th>total_deaths_per_million</th><th>new_deaths_per_million</th><th>new_deaths_smoothed_per_million</th><th>reproduction_rate</th><th>icu_patients</th><th>icu_patients_per_million</th><th>hosp_patients</th><th>hosp_patients_per_million</th><th>weekly_icu_admissions</th><th>weekly_icu_admissions_per_million</th><th>weekly_hosp_admissions</th><th>weekly_hosp_admissions_per_million</th><th>total_tests</th><th>new_tests</th><th>total_tests_per_thousand</th><th>new_tests_per_thousand</th><th>new_tests_smoothed</th><th>new_tests_smoothed_per_thousand</th><th>positive_rate</th><th>tests_per_case</th><th>tests_units</th><th>total_vaccinations</th><th>people_vaccinated</th><th>people_fully_vaccinated</th><th>total_boosters</th><th>new_vaccinations</th><th>new_vaccinations_smoothed</th><th>total_vaccinations_per_hundred</th><th>people_vaccinated_per_hundred</th><th>people_fully_vaccinated_per_hundred</th><th>total_boosters_per_hundred</th><th>new_vaccinations_smoothed_per_million</th><th>new_people_vaccinated_smoothed</th><th>new_people_vaccinated_smoothed_per_hundred</th><th>stringency_index</th><th>population_density</th><th>median_age</th><th>aged_65_older</th><th>aged_70_older</th><th>gdp_per_capita</th><th>extreme_poverty</th><th>cardiovasc_death_rate</th><th>diabetes_prevalence</th><th>female_smokers</th><th>male_smokers</th><th>handwashing_facilities</th><th>hospital_beds_per_thousand</th><th>life_expectancy</th><th>human_development_index</th><th>population</th><th>excess_mortality_cumulative_absolute</th><th>excess_mortality_cumulative</th><th>excess_mortality</th><th>excess_mortality_cumulative_per_million</th></tr><tr><td>str</td><td>str</td><td>str</td><td>str</td><td>str</td><td>str</td><td>str</td><td>str</td><td>str</td><td>str</td><td>str</td><td>str</td><td>str</td><td>str</td><td>str</td><td>str</td><td>str</td><td>str</td><td>str</td><td>str</td><td>str</td><td>str</td><td>str</td><td>str</td><td>str</td><td>str</td><td>str</td><td>str</td><td>str</td><td>str</td><td>str</td><td>str</td><td>str</td><td>str</td><td>str</td><td>str</td><td>str</td><td>str</td><td>str</td><td>str</td><td>str</td><td>str</td><td>str</td><td>str</td><td>str</td><td>str</td><td>str</td><td>str</td><td>str</td><td>str</td><td>str</td><td>str</td><td>str</td><td>str</td><td>str</td><td>str</td><td>str</td><td>str</td><td>str</td><td>str</td><td>str</td><td>str</td><td>str</td><td>str</td><td>str</td><td>str</td><td>str</td></tr></thead><tbody><tr><td>&quot;AFG&quot;</td><td>&quot;Asia&quot;</td><td>&quot;Afghanistan&quot;</td><td>&quot;2020-01-05 00:…</td><td>null</td><td>&quot;0.0&quot;</td><td>null</td><td>null</td><td>&quot;0.0&quot;</td><td>null</td><td>null</td><td>&quot;0.0&quot;</td><td>null</td><td>null</td><td>&quot;0.0&quot;</td><td>null</td><td>null</td><td>null</td><td>null</td><td>null</td><td>null</td><td>null</td><td>null</td><td>null</td><td>null</td><td>null</td><td>null</td><td>null</td><td>null</td><td>null</td><td>null</td><td>null</td><td>null</td><td>null</td><td>null</td><td>null</td><td>null</td><td>null</td><td>null</td><td>null</td><td>null</td><td>null</td><td>null</td><td>null</td><td>null</td><td>null</td><td>null</td><td>&quot;0.0&quot;</td><td>&quot;54.422&quot;</td><td>&quot;2024-06-18 00:…</td><td>&quot;2.581&quot;</td><td>&quot;1.337&quot;</td><td>&quot;1803.987&quot;</td><td>null</td><td>&quot;597.029&quot;</td><td>&quot;1959-09-01 00:…</td><td>null</td><td>null</td><td>&quot;37.746&quot;</td><td>&quot;0.5&quot;</td><td>&quot;64.83&quot;</td><td>&quot;0.511&quot;</td><td>&quot;41128772.0&quot;</td><td>null</td><td>null</td><td>null</td><td>null</td></tr><tr><td>&quot;AFG&quot;</td><td>&quot;Asia&quot;</td><td>&quot;Afghanistan&quot;</td><td>&quot;2020-01-12 00:…</td><td>null</td><td>&quot;0.0&quot;</td><td>null</td><td>null</td><td>&quot;0.0&quot;</td><td>null</td><td>null</td><td>&quot;0.0&quot;</td><td>null</td><td>null</td><td>&quot;0.0&quot;</td><td>null</td><td>null</td><td>null</td><td>null</td><td>null</td><td>null</td><td>null</td><td>null</td><td>null</td><td>null</td><td>null</td><td>null</td><td>null</td><td>null</td><td>null</td><td>null</td><td>null</td><td>null</td><td>null</td><td>null</td><td>null</td><td>null</td><td>null</td><td>null</td><td>null</td><td>null</td><td>null</td><td>null</td><td>null</td><td>null</td><td>null</td><td>null</td><td>&quot;0.0&quot;</td><td>&quot;54.422&quot;</td><td>&quot;2024-06-18 00:…</td><td>&quot;2.581&quot;</td><td>&quot;1.337&quot;</td><td>&quot;1803.987&quot;</td><td>null</td><td>&quot;597.029&quot;</td><td>&quot;1959-09-01 00:…</td><td>null</td><td>null</td><td>&quot;37.746&quot;</td><td>&quot;0.5&quot;</td><td>&quot;64.83&quot;</td><td>&quot;0.511&quot;</td><td>&quot;41128772.0&quot;</td><td>null</td><td>null</td><td>null</td><td>null</td></tr><tr><td>&quot;AFG&quot;</td><td>&quot;Asia&quot;</td><td>&quot;Afghanistan&quot;</td><td>&quot;2020-01-19 00:…</td><td>null</td><td>&quot;0.0&quot;</td><td>null</td><td>null</td><td>&quot;0.0&quot;</td><td>null</td><td>null</td><td>&quot;0.0&quot;</td><td>null</td><td>null</td><td>&quot;0.0&quot;</td><td>null</td><td>null</td><td>null</td><td>null</td><td>null</td><td>null</td><td>null</td><td>null</td><td>null</td><td>null</td><td>null</td><td>null</td><td>null</td><td>null</td><td>null</td><td>null</td><td>null</td><td>null</td><td>null</td><td>null</td><td>null</td><td>null</td><td>null</td><td>null</td><td>null</td><td>null</td><td>null</td><td>null</td><td>null</td><td>null</td><td>null</td><td>null</td><td>&quot;0.0&quot;</td><td>&quot;54.422&quot;</td><td>&quot;2024-06-18 00:…</td><td>&quot;2.581&quot;</td><td>&quot;1.337&quot;</td><td>&quot;1803.987&quot;</td><td>null</td><td>&quot;597.029&quot;</td><td>&quot;1959-09-01 00:…</td><td>null</td><td>null</td><td>&quot;37.746&quot;</td><td>&quot;0.5&quot;</td><td>&quot;64.83&quot;</td><td>&quot;0.511&quot;</td><td>&quot;41128772.0&quot;</td><td>null</td><td>null</td><td>null</td><td>null</td></tr><tr><td>&quot;AFG&quot;</td><td>&quot;Asia&quot;</td><td>&quot;Afghanistan&quot;</td><td>&quot;2020-01-26 00:…</td><td>null</td><td>&quot;0.0&quot;</td><td>null</td><td>null</td><td>&quot;0.0&quot;</td><td>null</td><td>null</td><td>&quot;0.0&quot;</td><td>null</td><td>null</td><td>&quot;0.0&quot;</td><td>null</td><td>null</td><td>null</td><td>null</td><td>null</td><td>null</td><td>null</td><td>null</td><td>null</td><td>null</td><td>null</td><td>null</td><td>null</td><td>null</td><td>null</td><td>null</td><td>null</td><td>null</td><td>null</td><td>null</td><td>null</td><td>null</td><td>null</td><td>null</td><td>null</td><td>null</td><td>null</td><td>null</td><td>null</td><td>null</td><td>null</td><td>null</td><td>&quot;0.0&quot;</td><td>&quot;54.422&quot;</td><td>&quot;2024-06-18 00:…</td><td>&quot;2.581&quot;</td><td>&quot;1.337&quot;</td><td>&quot;1803.987&quot;</td><td>null</td><td>&quot;597.029&quot;</td><td>&quot;1959-09-01 00:…</td><td>null</td><td>null</td><td>&quot;37.746&quot;</td><td>&quot;0.5&quot;</td><td>&quot;64.83&quot;</td><td>&quot;0.511&quot;</td><td>&quot;41128772.0&quot;</td><td>null</td><td>null</td><td>null</td><td>null</td></tr><tr><td>&quot;AFG&quot;</td><td>&quot;Asia&quot;</td><td>&quot;Afghanistan&quot;</td><td>&quot;2020-02-02 00:…</td><td>null</td><td>&quot;0.0&quot;</td><td>null</td><td>null</td><td>&quot;0.0&quot;</td><td>null</td><td>null</td><td>&quot;0.0&quot;</td><td>null</td><td>null</td><td>&quot;0.0&quot;</td><td>null</td><td>null</td><td>null</td><td>null</td><td>null</td><td>null</td><td>null</td><td>null</td><td>null</td><td>null</td><td>null</td><td>null</td><td>null</td><td>null</td><td>null</td><td>null</td><td>null</td><td>null</td><td>null</td><td>null</td><td>null</td><td>null</td><td>null</td><td>null</td><td>null</td><td>null</td><td>null</td><td>null</td><td>null</td><td>null</td><td>null</td><td>null</td><td>&quot;0.0&quot;</td><td>&quot;54.422&quot;</td><td>&quot;2024-06-18 00:…</td><td>&quot;2.581&quot;</td><td>&quot;1.337&quot;</td><td>&quot;1803.987&quot;</td><td>null</td><td>&quot;597.029&quot;</td><td>&quot;1959-09-01 00:…</td><td>null</td><td>null</td><td>&quot;37.746&quot;</td><td>&quot;0.5&quot;</td><td>&quot;64.83&quot;</td><td>&quot;0.511&quot;</td><td>&quot;41128772.0&quot;</td><td>null</td><td>null</td><td>null</td><td>null</td></tr></tbody></table></div>"
      ]
     },
     "metadata": {},
     "output_type": "display_data"
    }
   ],
   "source": [
    "show_df(scan_rxls_xlsb_plain())\n",
    "# 1m 28.0s (276700 rows, 67 columns)"
   ]
  },
  {
   "cell_type": "code",
   "execution_count": 10,
   "metadata": {
    "notebookRunGroups": {
     "groupValue": ""
    }
   },
   "outputs": [
    {
     "name": "stdout",
     "output_type": "stream",
     "text": [
      "rows: 276700 columns: 67\n"
     ]
    },
    {
     "data": {
      "text/html": [
       "<div><style>\n",
       ".dataframe > thead > tr,\n",
       ".dataframe > tbody > tr {\n",
       "  text-align: right;\n",
       "  white-space: pre-wrap;\n",
       "}\n",
       "</style>\n",
       "<small>shape: (5, 67)</small><table border=\"1\" class=\"dataframe\"><thead><tr><th>iso_code</th><th>continent</th><th>location</th><th>date</th><th>total_cases</th><th>new_cases</th><th>new_cases_smoothed</th><th>total_deaths</th><th>new_deaths</th><th>new_deaths_smoothed</th><th>total_cases_per_million</th><th>new_cases_per_million</th><th>new_cases_smoothed_per_million</th><th>total_deaths_per_million</th><th>new_deaths_per_million</th><th>new_deaths_smoothed_per_million</th><th>reproduction_rate</th><th>icu_patients</th><th>icu_patients_per_million</th><th>hosp_patients</th><th>hosp_patients_per_million</th><th>weekly_icu_admissions</th><th>weekly_icu_admissions_per_million</th><th>weekly_hosp_admissions</th><th>weekly_hosp_admissions_per_million</th><th>total_tests</th><th>new_tests</th><th>total_tests_per_thousand</th><th>new_tests_per_thousand</th><th>new_tests_smoothed</th><th>new_tests_smoothed_per_thousand</th><th>positive_rate</th><th>tests_per_case</th><th>tests_units</th><th>total_vaccinations</th><th>people_vaccinated</th><th>people_fully_vaccinated</th><th>total_boosters</th><th>new_vaccinations</th><th>new_vaccinations_smoothed</th><th>total_vaccinations_per_hundred</th><th>people_vaccinated_per_hundred</th><th>people_fully_vaccinated_per_hundred</th><th>total_boosters_per_hundred</th><th>new_vaccinations_smoothed_per_million</th><th>new_people_vaccinated_smoothed</th><th>new_people_vaccinated_smoothed_per_hundred</th><th>stringency_index</th><th>population_density</th><th>median_age</th><th>aged_65_older</th><th>aged_70_older</th><th>gdp_per_capita</th><th>extreme_poverty</th><th>cardiovasc_death_rate</th><th>diabetes_prevalence</th><th>female_smokers</th><th>male_smokers</th><th>handwashing_facilities</th><th>hospital_beds_per_thousand</th><th>life_expectancy</th><th>human_development_index</th><th>population</th><th>excess_mortality_cumulative_absolute</th><th>excess_mortality_cumulative</th><th>excess_mortality</th><th>excess_mortality_cumulative_per_million</th></tr><tr><td>str</td><td>str</td><td>str</td><td>datetime[ms]</td><td>str</td><td>str</td><td>str</td><td>str</td><td>str</td><td>str</td><td>str</td><td>str</td><td>str</td><td>str</td><td>str</td><td>str</td><td>str</td><td>str</td><td>str</td><td>str</td><td>str</td><td>str</td><td>str</td><td>str</td><td>str</td><td>str</td><td>str</td><td>str</td><td>str</td><td>str</td><td>str</td><td>str</td><td>str</td><td>str</td><td>str</td><td>str</td><td>str</td><td>str</td><td>str</td><td>str</td><td>str</td><td>str</td><td>str</td><td>str</td><td>str</td><td>str</td><td>str</td><td>str</td><td>str</td><td>str</td><td>str</td><td>str</td><td>str</td><td>str</td><td>str</td><td>str</td><td>str</td><td>str</td><td>str</td><td>str</td><td>str</td><td>str</td><td>str</td><td>str</td><td>str</td><td>str</td><td>str</td></tr></thead><tbody><tr><td>&quot;AFG&quot;</td><td>&quot;Asia&quot;</td><td>&quot;Afghanistan&quot;</td><td>2020-01-05 00:00:00</td><td>null</td><td>&quot;0.0&quot;</td><td>null</td><td>null</td><td>&quot;0.0&quot;</td><td>null</td><td>null</td><td>&quot;0.0&quot;</td><td>null</td><td>null</td><td>&quot;0.0&quot;</td><td>null</td><td>null</td><td>null</td><td>null</td><td>null</td><td>null</td><td>null</td><td>null</td><td>null</td><td>null</td><td>null</td><td>null</td><td>null</td><td>null</td><td>null</td><td>null</td><td>null</td><td>null</td><td>null</td><td>null</td><td>null</td><td>null</td><td>null</td><td>null</td><td>null</td><td>null</td><td>null</td><td>null</td><td>null</td><td>null</td><td>null</td><td>null</td><td>&quot;0.0&quot;</td><td>&quot;54.422&quot;</td><td>&quot;2024-06-18 00:…</td><td>&quot;2.581&quot;</td><td>&quot;1.337&quot;</td><td>&quot;1803.987&quot;</td><td>null</td><td>&quot;597.029&quot;</td><td>&quot;1959-09-01 00:…</td><td>null</td><td>null</td><td>&quot;37.746&quot;</td><td>&quot;0.5&quot;</td><td>&quot;64.83&quot;</td><td>&quot;0.511&quot;</td><td>&quot;41128772.0&quot;</td><td>null</td><td>null</td><td>null</td><td>null</td></tr><tr><td>&quot;AFG&quot;</td><td>&quot;Asia&quot;</td><td>&quot;Afghanistan&quot;</td><td>2020-01-12 00:00:00</td><td>null</td><td>&quot;0.0&quot;</td><td>null</td><td>null</td><td>&quot;0.0&quot;</td><td>null</td><td>null</td><td>&quot;0.0&quot;</td><td>null</td><td>null</td><td>&quot;0.0&quot;</td><td>null</td><td>null</td><td>null</td><td>null</td><td>null</td><td>null</td><td>null</td><td>null</td><td>null</td><td>null</td><td>null</td><td>null</td><td>null</td><td>null</td><td>null</td><td>null</td><td>null</td><td>null</td><td>null</td><td>null</td><td>null</td><td>null</td><td>null</td><td>null</td><td>null</td><td>null</td><td>null</td><td>null</td><td>null</td><td>null</td><td>null</td><td>null</td><td>&quot;0.0&quot;</td><td>&quot;54.422&quot;</td><td>&quot;2024-06-18 00:…</td><td>&quot;2.581&quot;</td><td>&quot;1.337&quot;</td><td>&quot;1803.987&quot;</td><td>null</td><td>&quot;597.029&quot;</td><td>&quot;1959-09-01 00:…</td><td>null</td><td>null</td><td>&quot;37.746&quot;</td><td>&quot;0.5&quot;</td><td>&quot;64.83&quot;</td><td>&quot;0.511&quot;</td><td>&quot;41128772.0&quot;</td><td>null</td><td>null</td><td>null</td><td>null</td></tr><tr><td>&quot;AFG&quot;</td><td>&quot;Asia&quot;</td><td>&quot;Afghanistan&quot;</td><td>2020-01-19 00:00:00</td><td>null</td><td>&quot;0.0&quot;</td><td>null</td><td>null</td><td>&quot;0.0&quot;</td><td>null</td><td>null</td><td>&quot;0.0&quot;</td><td>null</td><td>null</td><td>&quot;0.0&quot;</td><td>null</td><td>null</td><td>null</td><td>null</td><td>null</td><td>null</td><td>null</td><td>null</td><td>null</td><td>null</td><td>null</td><td>null</td><td>null</td><td>null</td><td>null</td><td>null</td><td>null</td><td>null</td><td>null</td><td>null</td><td>null</td><td>null</td><td>null</td><td>null</td><td>null</td><td>null</td><td>null</td><td>null</td><td>null</td><td>null</td><td>null</td><td>null</td><td>&quot;0.0&quot;</td><td>&quot;54.422&quot;</td><td>&quot;2024-06-18 00:…</td><td>&quot;2.581&quot;</td><td>&quot;1.337&quot;</td><td>&quot;1803.987&quot;</td><td>null</td><td>&quot;597.029&quot;</td><td>&quot;1959-09-01 00:…</td><td>null</td><td>null</td><td>&quot;37.746&quot;</td><td>&quot;0.5&quot;</td><td>&quot;64.83&quot;</td><td>&quot;0.511&quot;</td><td>&quot;41128772.0&quot;</td><td>null</td><td>null</td><td>null</td><td>null</td></tr><tr><td>&quot;AFG&quot;</td><td>&quot;Asia&quot;</td><td>&quot;Afghanistan&quot;</td><td>2020-01-26 00:00:00</td><td>null</td><td>&quot;0.0&quot;</td><td>null</td><td>null</td><td>&quot;0.0&quot;</td><td>null</td><td>null</td><td>&quot;0.0&quot;</td><td>null</td><td>null</td><td>&quot;0.0&quot;</td><td>null</td><td>null</td><td>null</td><td>null</td><td>null</td><td>null</td><td>null</td><td>null</td><td>null</td><td>null</td><td>null</td><td>null</td><td>null</td><td>null</td><td>null</td><td>null</td><td>null</td><td>null</td><td>null</td><td>null</td><td>null</td><td>null</td><td>null</td><td>null</td><td>null</td><td>null</td><td>null</td><td>null</td><td>null</td><td>null</td><td>null</td><td>null</td><td>&quot;0.0&quot;</td><td>&quot;54.422&quot;</td><td>&quot;2024-06-18 00:…</td><td>&quot;2.581&quot;</td><td>&quot;1.337&quot;</td><td>&quot;1803.987&quot;</td><td>null</td><td>&quot;597.029&quot;</td><td>&quot;1959-09-01 00:…</td><td>null</td><td>null</td><td>&quot;37.746&quot;</td><td>&quot;0.5&quot;</td><td>&quot;64.83&quot;</td><td>&quot;0.511&quot;</td><td>&quot;41128772.0&quot;</td><td>null</td><td>null</td><td>null</td><td>null</td></tr><tr><td>&quot;AFG&quot;</td><td>&quot;Asia&quot;</td><td>&quot;Afghanistan&quot;</td><td>2020-02-02 00:00:00</td><td>null</td><td>&quot;0.0&quot;</td><td>null</td><td>null</td><td>&quot;0.0&quot;</td><td>null</td><td>null</td><td>&quot;0.0&quot;</td><td>null</td><td>null</td><td>&quot;0.0&quot;</td><td>null</td><td>null</td><td>null</td><td>null</td><td>null</td><td>null</td><td>null</td><td>null</td><td>null</td><td>null</td><td>null</td><td>null</td><td>null</td><td>null</td><td>null</td><td>null</td><td>null</td><td>null</td><td>null</td><td>null</td><td>null</td><td>null</td><td>null</td><td>null</td><td>null</td><td>null</td><td>null</td><td>null</td><td>null</td><td>null</td><td>null</td><td>null</td><td>&quot;0.0&quot;</td><td>&quot;54.422&quot;</td><td>&quot;2024-06-18 00:…</td><td>&quot;2.581&quot;</td><td>&quot;1.337&quot;</td><td>&quot;1803.987&quot;</td><td>null</td><td>&quot;597.029&quot;</td><td>&quot;1959-09-01 00:…</td><td>null</td><td>null</td><td>&quot;37.746&quot;</td><td>&quot;0.5&quot;</td><td>&quot;64.83&quot;</td><td>&quot;0.511&quot;</td><td>&quot;41128772.0&quot;</td><td>null</td><td>null</td><td>null</td><td>null</td></tr></tbody></table></div>"
      ]
     },
     "metadata": {},
     "output_type": "display_data"
    }
   ],
   "source": [
    "show_df(scan_rxls_xlsx())\n",
    "# 2m 3.7s (276700 rows, 67 columns)"
   ]
  },
  {
   "cell_type": "code",
   "execution_count": 10,
   "metadata": {
    "notebookRunGroups": {
     "groupValue": ""
    }
   },
   "outputs": [
    {
     "name": "stdout",
     "output_type": "stream",
     "text": [
      "rows: 276700 columns: 67\n"
     ]
    },
    {
     "data": {
      "text/html": [
       "<div><style>\n",
       ".dataframe > thead > tr,\n",
       ".dataframe > tbody > tr {\n",
       "  text-align: right;\n",
       "  white-space: pre-wrap;\n",
       "}\n",
       "</style>\n",
       "<small>shape: (5, 67)</small><table border=\"1\" class=\"dataframe\"><thead><tr><th>iso_code</th><th>continent</th><th>location</th><th>date</th><th>total_cases</th><th>new_cases</th><th>new_cases_smoothed</th><th>total_deaths</th><th>new_deaths</th><th>new_deaths_smoothed</th><th>total_cases_per_million</th><th>new_cases_per_million</th><th>new_cases_smoothed_per_million</th><th>total_deaths_per_million</th><th>new_deaths_per_million</th><th>new_deaths_smoothed_per_million</th><th>reproduction_rate</th><th>icu_patients</th><th>icu_patients_per_million</th><th>hosp_patients</th><th>hosp_patients_per_million</th><th>weekly_icu_admissions</th><th>weekly_icu_admissions_per_million</th><th>weekly_hosp_admissions</th><th>weekly_hosp_admissions_per_million</th><th>total_tests</th><th>new_tests</th><th>total_tests_per_thousand</th><th>new_tests_per_thousand</th><th>new_tests_smoothed</th><th>new_tests_smoothed_per_thousand</th><th>positive_rate</th><th>tests_per_case</th><th>tests_units</th><th>total_vaccinations</th><th>people_vaccinated</th><th>people_fully_vaccinated</th><th>total_boosters</th><th>new_vaccinations</th><th>new_vaccinations_smoothed</th><th>total_vaccinations_per_hundred</th><th>people_vaccinated_per_hundred</th><th>people_fully_vaccinated_per_hundred</th><th>total_boosters_per_hundred</th><th>new_vaccinations_smoothed_per_million</th><th>new_people_vaccinated_smoothed</th><th>new_people_vaccinated_smoothed_per_hundred</th><th>stringency_index</th><th>population_density</th><th>median_age</th><th>aged_65_older</th><th>aged_70_older</th><th>gdp_per_capita</th><th>extreme_poverty</th><th>cardiovasc_death_rate</th><th>diabetes_prevalence</th><th>female_smokers</th><th>male_smokers</th><th>handwashing_facilities</th><th>hospital_beds_per_thousand</th><th>life_expectancy</th><th>human_development_index</th><th>population</th><th>excess_mortality_cumulative_absolute</th><th>excess_mortality_cumulative</th><th>excess_mortality</th><th>excess_mortality_cumulative_per_million</th></tr><tr><td>str</td><td>str</td><td>str</td><td>datetime[ms]</td><td>str</td><td>str</td><td>str</td><td>str</td><td>str</td><td>str</td><td>str</td><td>str</td><td>str</td><td>str</td><td>str</td><td>str</td><td>str</td><td>str</td><td>str</td><td>str</td><td>str</td><td>str</td><td>str</td><td>str</td><td>str</td><td>str</td><td>str</td><td>str</td><td>str</td><td>str</td><td>str</td><td>str</td><td>str</td><td>str</td><td>str</td><td>str</td><td>str</td><td>str</td><td>str</td><td>str</td><td>str</td><td>str</td><td>str</td><td>str</td><td>str</td><td>str</td><td>str</td><td>str</td><td>str</td><td>str</td><td>str</td><td>str</td><td>str</td><td>str</td><td>str</td><td>str</td><td>str</td><td>str</td><td>str</td><td>str</td><td>str</td><td>str</td><td>str</td><td>str</td><td>str</td><td>str</td><td>str</td></tr></thead><tbody><tr><td>&quot;AFG&quot;</td><td>&quot;Asia&quot;</td><td>&quot;Afghanistan&quot;</td><td>2020-01-05 00:00:00</td><td>null</td><td>&quot;0.0&quot;</td><td>null</td><td>null</td><td>&quot;0.0&quot;</td><td>null</td><td>null</td><td>&quot;0.0&quot;</td><td>null</td><td>null</td><td>&quot;0.0&quot;</td><td>null</td><td>null</td><td>null</td><td>null</td><td>null</td><td>null</td><td>null</td><td>null</td><td>null</td><td>null</td><td>null</td><td>null</td><td>null</td><td>null</td><td>null</td><td>null</td><td>null</td><td>null</td><td>null</td><td>null</td><td>null</td><td>null</td><td>null</td><td>null</td><td>null</td><td>null</td><td>null</td><td>null</td><td>null</td><td>null</td><td>null</td><td>null</td><td>&quot;0.0&quot;</td><td>&quot;54.422&quot;</td><td>&quot;2024-06-18 00:…</td><td>&quot;2.581&quot;</td><td>&quot;1.337&quot;</td><td>&quot;1803.987&quot;</td><td>null</td><td>&quot;597.029&quot;</td><td>&quot;1959-09-01 00:…</td><td>null</td><td>null</td><td>&quot;37.746&quot;</td><td>&quot;0.5&quot;</td><td>&quot;64.83&quot;</td><td>&quot;0.511&quot;</td><td>&quot;41128772.0&quot;</td><td>null</td><td>null</td><td>null</td><td>null</td></tr><tr><td>&quot;AFG&quot;</td><td>&quot;Asia&quot;</td><td>&quot;Afghanistan&quot;</td><td>2020-01-12 00:00:00</td><td>null</td><td>&quot;0.0&quot;</td><td>null</td><td>null</td><td>&quot;0.0&quot;</td><td>null</td><td>null</td><td>&quot;0.0&quot;</td><td>null</td><td>null</td><td>&quot;0.0&quot;</td><td>null</td><td>null</td><td>null</td><td>null</td><td>null</td><td>null</td><td>null</td><td>null</td><td>null</td><td>null</td><td>null</td><td>null</td><td>null</td><td>null</td><td>null</td><td>null</td><td>null</td><td>null</td><td>null</td><td>null</td><td>null</td><td>null</td><td>null</td><td>null</td><td>null</td><td>null</td><td>null</td><td>null</td><td>null</td><td>null</td><td>null</td><td>null</td><td>&quot;0.0&quot;</td><td>&quot;54.422&quot;</td><td>&quot;2024-06-18 00:…</td><td>&quot;2.581&quot;</td><td>&quot;1.337&quot;</td><td>&quot;1803.987&quot;</td><td>null</td><td>&quot;597.029&quot;</td><td>&quot;1959-09-01 00:…</td><td>null</td><td>null</td><td>&quot;37.746&quot;</td><td>&quot;0.5&quot;</td><td>&quot;64.83&quot;</td><td>&quot;0.511&quot;</td><td>&quot;41128772.0&quot;</td><td>null</td><td>null</td><td>null</td><td>null</td></tr><tr><td>&quot;AFG&quot;</td><td>&quot;Asia&quot;</td><td>&quot;Afghanistan&quot;</td><td>2020-01-19 00:00:00</td><td>null</td><td>&quot;0.0&quot;</td><td>null</td><td>null</td><td>&quot;0.0&quot;</td><td>null</td><td>null</td><td>&quot;0.0&quot;</td><td>null</td><td>null</td><td>&quot;0.0&quot;</td><td>null</td><td>null</td><td>null</td><td>null</td><td>null</td><td>null</td><td>null</td><td>null</td><td>null</td><td>null</td><td>null</td><td>null</td><td>null</td><td>null</td><td>null</td><td>null</td><td>null</td><td>null</td><td>null</td><td>null</td><td>null</td><td>null</td><td>null</td><td>null</td><td>null</td><td>null</td><td>null</td><td>null</td><td>null</td><td>null</td><td>null</td><td>null</td><td>&quot;0.0&quot;</td><td>&quot;54.422&quot;</td><td>&quot;2024-06-18 00:…</td><td>&quot;2.581&quot;</td><td>&quot;1.337&quot;</td><td>&quot;1803.987&quot;</td><td>null</td><td>&quot;597.029&quot;</td><td>&quot;1959-09-01 00:…</td><td>null</td><td>null</td><td>&quot;37.746&quot;</td><td>&quot;0.5&quot;</td><td>&quot;64.83&quot;</td><td>&quot;0.511&quot;</td><td>&quot;41128772.0&quot;</td><td>null</td><td>null</td><td>null</td><td>null</td></tr><tr><td>&quot;AFG&quot;</td><td>&quot;Asia&quot;</td><td>&quot;Afghanistan&quot;</td><td>2020-01-26 00:00:00</td><td>null</td><td>&quot;0.0&quot;</td><td>null</td><td>null</td><td>&quot;0.0&quot;</td><td>null</td><td>null</td><td>&quot;0.0&quot;</td><td>null</td><td>null</td><td>&quot;0.0&quot;</td><td>null</td><td>null</td><td>null</td><td>null</td><td>null</td><td>null</td><td>null</td><td>null</td><td>null</td><td>null</td><td>null</td><td>null</td><td>null</td><td>null</td><td>null</td><td>null</td><td>null</td><td>null</td><td>null</td><td>null</td><td>null</td><td>null</td><td>null</td><td>null</td><td>null</td><td>null</td><td>null</td><td>null</td><td>null</td><td>null</td><td>null</td><td>null</td><td>&quot;0.0&quot;</td><td>&quot;54.422&quot;</td><td>&quot;2024-06-18 00:…</td><td>&quot;2.581&quot;</td><td>&quot;1.337&quot;</td><td>&quot;1803.987&quot;</td><td>null</td><td>&quot;597.029&quot;</td><td>&quot;1959-09-01 00:…</td><td>null</td><td>null</td><td>&quot;37.746&quot;</td><td>&quot;0.5&quot;</td><td>&quot;64.83&quot;</td><td>&quot;0.511&quot;</td><td>&quot;41128772.0&quot;</td><td>null</td><td>null</td><td>null</td><td>null</td></tr><tr><td>&quot;AFG&quot;</td><td>&quot;Asia&quot;</td><td>&quot;Afghanistan&quot;</td><td>2020-02-02 00:00:00</td><td>null</td><td>&quot;0.0&quot;</td><td>null</td><td>null</td><td>&quot;0.0&quot;</td><td>null</td><td>null</td><td>&quot;0.0&quot;</td><td>null</td><td>null</td><td>&quot;0.0&quot;</td><td>null</td><td>null</td><td>null</td><td>null</td><td>null</td><td>null</td><td>null</td><td>null</td><td>null</td><td>null</td><td>null</td><td>null</td><td>null</td><td>null</td><td>null</td><td>null</td><td>null</td><td>null</td><td>null</td><td>null</td><td>null</td><td>null</td><td>null</td><td>null</td><td>null</td><td>null</td><td>null</td><td>null</td><td>null</td><td>null</td><td>null</td><td>null</td><td>&quot;0.0&quot;</td><td>&quot;54.422&quot;</td><td>&quot;2024-06-18 00:…</td><td>&quot;2.581&quot;</td><td>&quot;1.337&quot;</td><td>&quot;1803.987&quot;</td><td>null</td><td>&quot;597.029&quot;</td><td>&quot;1959-09-01 00:…</td><td>null</td><td>null</td><td>&quot;37.746&quot;</td><td>&quot;0.5&quot;</td><td>&quot;64.83&quot;</td><td>&quot;0.511&quot;</td><td>&quot;41128772.0&quot;</td><td>null</td><td>null</td><td>null</td><td>null</td></tr></tbody></table></div>"
      ]
     },
     "metadata": {},
     "output_type": "display_data"
    }
   ],
   "source": [
    "show_df(scan_rxls_xlsb())\n",
    "# 10m 29.5s (341376 rows, 67 columns)"
   ]
  },
  {
   "attachments": {},
   "cell_type": "markdown",
   "metadata": {},
   "source": [
    "### XLSX2CSV case: xlsx -> csv -> polars.read_csv()"
   ]
  },
  {
   "cell_type": "code",
   "execution_count": 5,
   "metadata": {
    "notebookRunGroups": {
     "groupValue": "1"
    }
   },
   "outputs": [],
   "source": [
    "def scan_xlsx2csv(path: str = XLSX_FILE) -> pl.DataFrame:\n",
    "    return pl.read_excel(\n",
    "        path,\n",
    "        engine=\"xlsx2csv\",\n",
    "        # NOTE: This parameters only needs, because of mixed dtype columns\n",
    "        read_csv_options={\"has_header\": True, \"infer_schema_length\": 0},\n",
    "    )"
   ]
  },
  {
   "cell_type": "code",
   "execution_count": 10,
   "metadata": {
    "notebookRunGroups": {
     "groupValue": ""
    }
   },
   "outputs": [
    {
     "name": "stdout",
     "output_type": "stream",
     "text": [
      "rows: 276700 columns: 67\n"
     ]
    },
    {
     "data": {
      "text/html": [
       "<div><style>\n",
       ".dataframe > thead > tr,\n",
       ".dataframe > tbody > tr {\n",
       "  text-align: right;\n",
       "  white-space: pre-wrap;\n",
       "}\n",
       "</style>\n",
       "<small>shape: (5, 67)</small><table border=\"1\" class=\"dataframe\"><thead><tr><th>iso_code</th><th>continent</th><th>location</th><th>date</th><th>total_cases</th><th>new_cases</th><th>new_cases_smoothed</th><th>total_deaths</th><th>new_deaths</th><th>new_deaths_smoothed</th><th>total_cases_per_million</th><th>new_cases_per_million</th><th>new_cases_smoothed_per_million</th><th>total_deaths_per_million</th><th>new_deaths_per_million</th><th>new_deaths_smoothed_per_million</th><th>reproduction_rate</th><th>icu_patients</th><th>icu_patients_per_million</th><th>hosp_patients</th><th>hosp_patients_per_million</th><th>weekly_icu_admissions</th><th>weekly_icu_admissions_per_million</th><th>weekly_hosp_admissions</th><th>weekly_hosp_admissions_per_million</th><th>total_tests</th><th>new_tests</th><th>total_tests_per_thousand</th><th>new_tests_per_thousand</th><th>new_tests_smoothed</th><th>new_tests_smoothed_per_thousand</th><th>positive_rate</th><th>tests_per_case</th><th>tests_units</th><th>total_vaccinations</th><th>people_vaccinated</th><th>people_fully_vaccinated</th><th>total_boosters</th><th>new_vaccinations</th><th>new_vaccinations_smoothed</th><th>total_vaccinations_per_hundred</th><th>people_vaccinated_per_hundred</th><th>people_fully_vaccinated_per_hundred</th><th>total_boosters_per_hundred</th><th>new_vaccinations_smoothed_per_million</th><th>new_people_vaccinated_smoothed</th><th>new_people_vaccinated_smoothed_per_hundred</th><th>stringency_index</th><th>population_density</th><th>median_age</th><th>aged_65_older</th><th>aged_70_older</th><th>gdp_per_capita</th><th>extreme_poverty</th><th>cardiovasc_death_rate</th><th>diabetes_prevalence</th><th>female_smokers</th><th>male_smokers</th><th>handwashing_facilities</th><th>hospital_beds_per_thousand</th><th>life_expectancy</th><th>human_development_index</th><th>population</th><th>excess_mortality_cumulative_absolute</th><th>excess_mortality_cumulative</th><th>excess_mortality</th><th>excess_mortality_cumulative_per_million</th></tr><tr><td>str</td><td>str</td><td>str</td><td>str</td><td>str</td><td>str</td><td>str</td><td>str</td><td>str</td><td>str</td><td>str</td><td>str</td><td>str</td><td>str</td><td>str</td><td>str</td><td>str</td><td>str</td><td>str</td><td>str</td><td>str</td><td>str</td><td>str</td><td>str</td><td>str</td><td>str</td><td>str</td><td>str</td><td>str</td><td>str</td><td>str</td><td>str</td><td>str</td><td>str</td><td>str</td><td>str</td><td>str</td><td>str</td><td>str</td><td>str</td><td>str</td><td>str</td><td>str</td><td>str</td><td>str</td><td>str</td><td>str</td><td>str</td><td>str</td><td>str</td><td>str</td><td>str</td><td>str</td><td>str</td><td>str</td><td>str</td><td>str</td><td>str</td><td>str</td><td>str</td><td>str</td><td>str</td><td>str</td><td>str</td><td>str</td><td>str</td><td>str</td></tr></thead><tbody><tr><td>&quot;AFG&quot;</td><td>&quot;Asia&quot;</td><td>&quot;Afghanistan&quot;</td><td>&quot;01-05-20&quot;</td><td>null</td><td>&quot;0.0&quot;</td><td>null</td><td>null</td><td>&quot;0.0&quot;</td><td>null</td><td>null</td><td>&quot;0.0&quot;</td><td>null</td><td>null</td><td>&quot;0.0&quot;</td><td>null</td><td>null</td><td>null</td><td>null</td><td>null</td><td>null</td><td>null</td><td>null</td><td>null</td><td>null</td><td>null</td><td>null</td><td>null</td><td>null</td><td>null</td><td>null</td><td>null</td><td>null</td><td>null</td><td>null</td><td>null</td><td>null</td><td>null</td><td>null</td><td>null</td><td>null</td><td>null</td><td>null</td><td>null</td><td>null</td><td>null</td><td>null</td><td>&quot;0.0&quot;</td><td>&quot;54.422&quot;</td><td>&quot;18-Jun&quot;</td><td>&quot;2.581&quot;</td><td>&quot;1.337&quot;</td><td>&quot;1803.987&quot;</td><td>null</td><td>&quot;597.029&quot;</td><td>&quot;Sep-59&quot;</td><td>null</td><td>null</td><td>&quot;37.746&quot;</td><td>&quot;0.5&quot;</td><td>&quot;64.83&quot;</td><td>&quot;0.511&quot;</td><td>&quot;41128772.0&quot;</td><td>null</td><td>null</td><td>null</td><td>null</td></tr><tr><td>&quot;AFG&quot;</td><td>&quot;Asia&quot;</td><td>&quot;Afghanistan&quot;</td><td>&quot;01-12-20&quot;</td><td>null</td><td>&quot;0.0&quot;</td><td>null</td><td>null</td><td>&quot;0.0&quot;</td><td>null</td><td>null</td><td>&quot;0.0&quot;</td><td>null</td><td>null</td><td>&quot;0.0&quot;</td><td>null</td><td>null</td><td>null</td><td>null</td><td>null</td><td>null</td><td>null</td><td>null</td><td>null</td><td>null</td><td>null</td><td>null</td><td>null</td><td>null</td><td>null</td><td>null</td><td>null</td><td>null</td><td>null</td><td>null</td><td>null</td><td>null</td><td>null</td><td>null</td><td>null</td><td>null</td><td>null</td><td>null</td><td>null</td><td>null</td><td>null</td><td>null</td><td>&quot;0.0&quot;</td><td>&quot;54.422&quot;</td><td>&quot;18-Jun&quot;</td><td>&quot;2.581&quot;</td><td>&quot;1.337&quot;</td><td>&quot;1803.987&quot;</td><td>null</td><td>&quot;597.029&quot;</td><td>&quot;Sep-59&quot;</td><td>null</td><td>null</td><td>&quot;37.746&quot;</td><td>&quot;0.5&quot;</td><td>&quot;64.83&quot;</td><td>&quot;0.511&quot;</td><td>&quot;41128772.0&quot;</td><td>null</td><td>null</td><td>null</td><td>null</td></tr><tr><td>&quot;AFG&quot;</td><td>&quot;Asia&quot;</td><td>&quot;Afghanistan&quot;</td><td>&quot;01-19-20&quot;</td><td>null</td><td>&quot;0.0&quot;</td><td>null</td><td>null</td><td>&quot;0.0&quot;</td><td>null</td><td>null</td><td>&quot;0.0&quot;</td><td>null</td><td>null</td><td>&quot;0.0&quot;</td><td>null</td><td>null</td><td>null</td><td>null</td><td>null</td><td>null</td><td>null</td><td>null</td><td>null</td><td>null</td><td>null</td><td>null</td><td>null</td><td>null</td><td>null</td><td>null</td><td>null</td><td>null</td><td>null</td><td>null</td><td>null</td><td>null</td><td>null</td><td>null</td><td>null</td><td>null</td><td>null</td><td>null</td><td>null</td><td>null</td><td>null</td><td>null</td><td>&quot;0.0&quot;</td><td>&quot;54.422&quot;</td><td>&quot;18-Jun&quot;</td><td>&quot;2.581&quot;</td><td>&quot;1.337&quot;</td><td>&quot;1803.987&quot;</td><td>null</td><td>&quot;597.029&quot;</td><td>&quot;Sep-59&quot;</td><td>null</td><td>null</td><td>&quot;37.746&quot;</td><td>&quot;0.5&quot;</td><td>&quot;64.83&quot;</td><td>&quot;0.511&quot;</td><td>&quot;41128772.0&quot;</td><td>null</td><td>null</td><td>null</td><td>null</td></tr><tr><td>&quot;AFG&quot;</td><td>&quot;Asia&quot;</td><td>&quot;Afghanistan&quot;</td><td>&quot;01-26-20&quot;</td><td>null</td><td>&quot;0.0&quot;</td><td>null</td><td>null</td><td>&quot;0.0&quot;</td><td>null</td><td>null</td><td>&quot;0.0&quot;</td><td>null</td><td>null</td><td>&quot;0.0&quot;</td><td>null</td><td>null</td><td>null</td><td>null</td><td>null</td><td>null</td><td>null</td><td>null</td><td>null</td><td>null</td><td>null</td><td>null</td><td>null</td><td>null</td><td>null</td><td>null</td><td>null</td><td>null</td><td>null</td><td>null</td><td>null</td><td>null</td><td>null</td><td>null</td><td>null</td><td>null</td><td>null</td><td>null</td><td>null</td><td>null</td><td>null</td><td>null</td><td>&quot;0.0&quot;</td><td>&quot;54.422&quot;</td><td>&quot;18-Jun&quot;</td><td>&quot;2.581&quot;</td><td>&quot;1.337&quot;</td><td>&quot;1803.987&quot;</td><td>null</td><td>&quot;597.029&quot;</td><td>&quot;Sep-59&quot;</td><td>null</td><td>null</td><td>&quot;37.746&quot;</td><td>&quot;0.5&quot;</td><td>&quot;64.83&quot;</td><td>&quot;0.511&quot;</td><td>&quot;41128772.0&quot;</td><td>null</td><td>null</td><td>null</td><td>null</td></tr><tr><td>&quot;AFG&quot;</td><td>&quot;Asia&quot;</td><td>&quot;Afghanistan&quot;</td><td>&quot;02-02-20&quot;</td><td>null</td><td>&quot;0.0&quot;</td><td>null</td><td>null</td><td>&quot;0.0&quot;</td><td>null</td><td>null</td><td>&quot;0.0&quot;</td><td>null</td><td>null</td><td>&quot;0.0&quot;</td><td>null</td><td>null</td><td>null</td><td>null</td><td>null</td><td>null</td><td>null</td><td>null</td><td>null</td><td>null</td><td>null</td><td>null</td><td>null</td><td>null</td><td>null</td><td>null</td><td>null</td><td>null</td><td>null</td><td>null</td><td>null</td><td>null</td><td>null</td><td>null</td><td>null</td><td>null</td><td>null</td><td>null</td><td>null</td><td>null</td><td>null</td><td>null</td><td>&quot;0.0&quot;</td><td>&quot;54.422&quot;</td><td>&quot;18-Jun&quot;</td><td>&quot;2.581&quot;</td><td>&quot;1.337&quot;</td><td>&quot;1803.987&quot;</td><td>null</td><td>&quot;597.029&quot;</td><td>&quot;Sep-59&quot;</td><td>null</td><td>null</td><td>&quot;37.746&quot;</td><td>&quot;0.5&quot;</td><td>&quot;64.83&quot;</td><td>&quot;0.511&quot;</td><td>&quot;41128772.0&quot;</td><td>null</td><td>null</td><td>null</td><td>null</td></tr></tbody></table></div>"
      ]
     },
     "metadata": {},
     "output_type": "display_data"
    }
   ],
   "source": [
    "# NOTE: It's fine, but date columns have incorrect datatype, and are not ISO-dates.\n",
    "show_df(scan_xlsx2csv())\n",
    "# 2m 15s  (276700 rows, 67 columns)"
   ]
  },
  {
   "attachments": {},
   "cell_type": "markdown",
   "metadata": {},
   "source": [
    "### OpenPyXL: Scan xlsx only"
   ]
  },
  {
   "cell_type": "code",
   "execution_count": 6,
   "metadata": {
    "notebookRunGroups": {
     "groupValue": "1"
    }
   },
   "outputs": [],
   "source": [
    "def scan_openpyxl(path: str = XLSX_FILE) -> pl.DataFrame:\n",
    "    return pl.read_excel(path, engine=\"openpyxl\")"
   ]
  },
  {
   "cell_type": "code",
   "execution_count": 10,
   "metadata": {
    "notebookRunGroups": {
     "groupValue": ""
    }
   },
   "outputs": [
    {
     "name": "stdout",
     "output_type": "stream",
     "text": [
      "rows: 276700 columns: 67\n"
     ]
    },
    {
     "data": {
      "text/html": [
       "<div><style>\n",
       ".dataframe > thead > tr,\n",
       ".dataframe > tbody > tr {\n",
       "  text-align: right;\n",
       "  white-space: pre-wrap;\n",
       "}\n",
       "</style>\n",
       "<small>shape: (5, 67)</small><table border=\"1\" class=\"dataframe\"><thead><tr><th>iso_code</th><th>continent</th><th>location</th><th>date</th><th>total_cases</th><th>new_cases</th><th>new_cases_smoothed</th><th>total_deaths</th><th>new_deaths</th><th>new_deaths_smoothed</th><th>total_cases_per_million</th><th>new_cases_per_million</th><th>new_cases_smoothed_per_million</th><th>total_deaths_per_million</th><th>new_deaths_per_million</th><th>new_deaths_smoothed_per_million</th><th>reproduction_rate</th><th>icu_patients</th><th>icu_patients_per_million</th><th>hosp_patients</th><th>hosp_patients_per_million</th><th>weekly_icu_admissions</th><th>weekly_icu_admissions_per_million</th><th>weekly_hosp_admissions</th><th>weekly_hosp_admissions_per_million</th><th>total_tests</th><th>new_tests</th><th>total_tests_per_thousand</th><th>new_tests_per_thousand</th><th>new_tests_smoothed</th><th>new_tests_smoothed_per_thousand</th><th>positive_rate</th><th>tests_per_case</th><th>tests_units</th><th>total_vaccinations</th><th>people_vaccinated</th><th>people_fully_vaccinated</th><th>total_boosters</th><th>new_vaccinations</th><th>new_vaccinations_smoothed</th><th>total_vaccinations_per_hundred</th><th>people_vaccinated_per_hundred</th><th>people_fully_vaccinated_per_hundred</th><th>total_boosters_per_hundred</th><th>new_vaccinations_smoothed_per_million</th><th>new_people_vaccinated_smoothed</th><th>new_people_vaccinated_smoothed_per_hundred</th><th>stringency_index</th><th>population_density</th><th>median_age</th><th>aged_65_older</th><th>aged_70_older</th><th>gdp_per_capita</th><th>extreme_poverty</th><th>cardiovasc_death_rate</th><th>diabetes_prevalence</th><th>female_smokers</th><th>male_smokers</th><th>handwashing_facilities</th><th>hospital_beds_per_thousand</th><th>life_expectancy</th><th>human_development_index</th><th>population</th><th>excess_mortality_cumulative_absolute</th><th>excess_mortality_cumulative</th><th>excess_mortality</th><th>excess_mortality_cumulative_per_million</th></tr><tr><td>str</td><td>str</td><td>str</td><td>datetime[μs]</td><td>str</td><td>str</td><td>str</td><td>str</td><td>str</td><td>str</td><td>str</td><td>str</td><td>str</td><td>str</td><td>str</td><td>str</td><td>datetime[μs]</td><td>str</td><td>str</td><td>str</td><td>str</td><td>str</td><td>str</td><td>str</td><td>str</td><td>str</td><td>str</td><td>str</td><td>str</td><td>str</td><td>str</td><td>str</td><td>datetime[μs]</td><td>str</td><td>str</td><td>str</td><td>str</td><td>str</td><td>str</td><td>str</td><td>str</td><td>str</td><td>str</td><td>str</td><td>str</td><td>str</td><td>str</td><td>str</td><td>str</td><td>datetime[μs]</td><td>str</td><td>str</td><td>str</td><td>datetime[μs]</td><td>str</td><td>datetime[μs]</td><td>datetime[μs]</td><td>str</td><td>str</td><td>str</td><td>str</td><td>str</td><td>str</td><td>str</td><td>str</td><td>datetime[μs]</td><td>str</td></tr></thead><tbody><tr><td>&quot;AFG&quot;</td><td>&quot;Asia&quot;</td><td>&quot;Afghanistan&quot;</td><td>2020-01-05 00:00:00</td><td>null</td><td>&quot;0.0&quot;</td><td>null</td><td>null</td><td>&quot;0.0&quot;</td><td>null</td><td>null</td><td>&quot;0.0&quot;</td><td>null</td><td>null</td><td>&quot;0.0&quot;</td><td>null</td><td>null</td><td>null</td><td>null</td><td>null</td><td>null</td><td>null</td><td>null</td><td>null</td><td>null</td><td>null</td><td>null</td><td>null</td><td>null</td><td>null</td><td>null</td><td>null</td><td>null</td><td>null</td><td>null</td><td>null</td><td>null</td><td>null</td><td>null</td><td>null</td><td>null</td><td>null</td><td>null</td><td>null</td><td>null</td><td>null</td><td>null</td><td>&quot;0.0&quot;</td><td>&quot;54.422&quot;</td><td>2024-06-18 00:00:00</td><td>&quot;2.581&quot;</td><td>&quot;1.337&quot;</td><td>&quot;1803.987&quot;</td><td>null</td><td>&quot;597.029&quot;</td><td>1959-09-01 00:00:00</td><td>null</td><td>null</td><td>&quot;37.746&quot;</td><td>&quot;0.5&quot;</td><td>&quot;64.83&quot;</td><td>&quot;0.511&quot;</td><td>&quot;41128772.0&quot;</td><td>null</td><td>null</td><td>null</td><td>null</td></tr><tr><td>&quot;AFG&quot;</td><td>&quot;Asia&quot;</td><td>&quot;Afghanistan&quot;</td><td>2020-01-12 00:00:00</td><td>null</td><td>&quot;0.0&quot;</td><td>null</td><td>null</td><td>&quot;0.0&quot;</td><td>null</td><td>null</td><td>&quot;0.0&quot;</td><td>null</td><td>null</td><td>&quot;0.0&quot;</td><td>null</td><td>null</td><td>null</td><td>null</td><td>null</td><td>null</td><td>null</td><td>null</td><td>null</td><td>null</td><td>null</td><td>null</td><td>null</td><td>null</td><td>null</td><td>null</td><td>null</td><td>null</td><td>null</td><td>null</td><td>null</td><td>null</td><td>null</td><td>null</td><td>null</td><td>null</td><td>null</td><td>null</td><td>null</td><td>null</td><td>null</td><td>null</td><td>&quot;0.0&quot;</td><td>&quot;54.422&quot;</td><td>2024-06-18 00:00:00</td><td>&quot;2.581&quot;</td><td>&quot;1.337&quot;</td><td>&quot;1803.987&quot;</td><td>null</td><td>&quot;597.029&quot;</td><td>1959-09-01 00:00:00</td><td>null</td><td>null</td><td>&quot;37.746&quot;</td><td>&quot;0.5&quot;</td><td>&quot;64.83&quot;</td><td>&quot;0.511&quot;</td><td>&quot;41128772.0&quot;</td><td>null</td><td>null</td><td>null</td><td>null</td></tr><tr><td>&quot;AFG&quot;</td><td>&quot;Asia&quot;</td><td>&quot;Afghanistan&quot;</td><td>2020-01-19 00:00:00</td><td>null</td><td>&quot;0.0&quot;</td><td>null</td><td>null</td><td>&quot;0.0&quot;</td><td>null</td><td>null</td><td>&quot;0.0&quot;</td><td>null</td><td>null</td><td>&quot;0.0&quot;</td><td>null</td><td>null</td><td>null</td><td>null</td><td>null</td><td>null</td><td>null</td><td>null</td><td>null</td><td>null</td><td>null</td><td>null</td><td>null</td><td>null</td><td>null</td><td>null</td><td>null</td><td>null</td><td>null</td><td>null</td><td>null</td><td>null</td><td>null</td><td>null</td><td>null</td><td>null</td><td>null</td><td>null</td><td>null</td><td>null</td><td>null</td><td>null</td><td>&quot;0.0&quot;</td><td>&quot;54.422&quot;</td><td>2024-06-18 00:00:00</td><td>&quot;2.581&quot;</td><td>&quot;1.337&quot;</td><td>&quot;1803.987&quot;</td><td>null</td><td>&quot;597.029&quot;</td><td>1959-09-01 00:00:00</td><td>null</td><td>null</td><td>&quot;37.746&quot;</td><td>&quot;0.5&quot;</td><td>&quot;64.83&quot;</td><td>&quot;0.511&quot;</td><td>&quot;41128772.0&quot;</td><td>null</td><td>null</td><td>null</td><td>null</td></tr><tr><td>&quot;AFG&quot;</td><td>&quot;Asia&quot;</td><td>&quot;Afghanistan&quot;</td><td>2020-01-26 00:00:00</td><td>null</td><td>&quot;0.0&quot;</td><td>null</td><td>null</td><td>&quot;0.0&quot;</td><td>null</td><td>null</td><td>&quot;0.0&quot;</td><td>null</td><td>null</td><td>&quot;0.0&quot;</td><td>null</td><td>null</td><td>null</td><td>null</td><td>null</td><td>null</td><td>null</td><td>null</td><td>null</td><td>null</td><td>null</td><td>null</td><td>null</td><td>null</td><td>null</td><td>null</td><td>null</td><td>null</td><td>null</td><td>null</td><td>null</td><td>null</td><td>null</td><td>null</td><td>null</td><td>null</td><td>null</td><td>null</td><td>null</td><td>null</td><td>null</td><td>null</td><td>&quot;0.0&quot;</td><td>&quot;54.422&quot;</td><td>2024-06-18 00:00:00</td><td>&quot;2.581&quot;</td><td>&quot;1.337&quot;</td><td>&quot;1803.987&quot;</td><td>null</td><td>&quot;597.029&quot;</td><td>1959-09-01 00:00:00</td><td>null</td><td>null</td><td>&quot;37.746&quot;</td><td>&quot;0.5&quot;</td><td>&quot;64.83&quot;</td><td>&quot;0.511&quot;</td><td>&quot;41128772.0&quot;</td><td>null</td><td>null</td><td>null</td><td>null</td></tr><tr><td>&quot;AFG&quot;</td><td>&quot;Asia&quot;</td><td>&quot;Afghanistan&quot;</td><td>2020-02-02 00:00:00</td><td>null</td><td>&quot;0.0&quot;</td><td>null</td><td>null</td><td>&quot;0.0&quot;</td><td>null</td><td>null</td><td>&quot;0.0&quot;</td><td>null</td><td>null</td><td>&quot;0.0&quot;</td><td>null</td><td>null</td><td>null</td><td>null</td><td>null</td><td>null</td><td>null</td><td>null</td><td>null</td><td>null</td><td>null</td><td>null</td><td>null</td><td>null</td><td>null</td><td>null</td><td>null</td><td>null</td><td>null</td><td>null</td><td>null</td><td>null</td><td>null</td><td>null</td><td>null</td><td>null</td><td>null</td><td>null</td><td>null</td><td>null</td><td>null</td><td>null</td><td>&quot;0.0&quot;</td><td>&quot;54.422&quot;</td><td>2024-06-18 00:00:00</td><td>&quot;2.581&quot;</td><td>&quot;1.337&quot;</td><td>&quot;1803.987&quot;</td><td>null</td><td>&quot;597.029&quot;</td><td>1959-09-01 00:00:00</td><td>null</td><td>null</td><td>&quot;37.746&quot;</td><td>&quot;0.5&quot;</td><td>&quot;64.83&quot;</td><td>&quot;0.511&quot;</td><td>&quot;41128772.0&quot;</td><td>null</td><td>null</td><td>null</td><td>null</td></tr></tbody></table></div>"
      ]
     },
     "metadata": {},
     "output_type": "display_data"
    }
   ],
   "source": [
    "# NOTE: median_age column has missing data.\n",
    "show_df(scan_openpyxl())\n",
    "# 6m 51.1s  (276700 rows, 67 columns)"
   ]
  },
  {
   "cell_type": "markdown",
   "metadata": {},
   "source": [
    "### PyXLSB: Scan xlsb only"
   ]
  },
  {
   "cell_type": "code",
   "execution_count": 7,
   "metadata": {
    "notebookRunGroups": {
     "groupValue": "1"
    }
   },
   "outputs": [],
   "source": [
    "def scan_pyxlsb(path: str = XLSB_FILE) -> pl.DataFrame:\n",
    "    return pl.read_excel(path, engine=\"pyxlsb\")"
   ]
  },
  {
   "cell_type": "code",
   "execution_count": 10,
   "metadata": {},
   "outputs": [
    {
     "name": "stdout",
     "output_type": "stream",
     "text": [
      "rows: 276700 columns: 67\n"
     ]
    },
    {
     "data": {
      "text/html": [
       "<div><style>\n",
       ".dataframe > thead > tr,\n",
       ".dataframe > tbody > tr {\n",
       "  text-align: right;\n",
       "  white-space: pre-wrap;\n",
       "}\n",
       "</style>\n",
       "<small>shape: (5, 67)</small><table border=\"1\" class=\"dataframe\"><thead><tr><th>iso_code</th><th>continent</th><th>location</th><th>date</th><th>total_cases</th><th>new_cases</th><th>new_cases_smoothed</th><th>total_deaths</th><th>new_deaths</th><th>new_deaths_smoothed</th><th>total_cases_per_million</th><th>new_cases_per_million</th><th>new_cases_smoothed_per_million</th><th>total_deaths_per_million</th><th>new_deaths_per_million</th><th>new_deaths_smoothed_per_million</th><th>reproduction_rate</th><th>icu_patients</th><th>icu_patients_per_million</th><th>hosp_patients</th><th>hosp_patients_per_million</th><th>weekly_icu_admissions</th><th>weekly_icu_admissions_per_million</th><th>weekly_hosp_admissions</th><th>weekly_hosp_admissions_per_million</th><th>total_tests</th><th>new_tests</th><th>total_tests_per_thousand</th><th>new_tests_per_thousand</th><th>new_tests_smoothed</th><th>new_tests_smoothed_per_thousand</th><th>positive_rate</th><th>tests_per_case</th><th>tests_units</th><th>total_vaccinations</th><th>people_vaccinated</th><th>people_fully_vaccinated</th><th>total_boosters</th><th>new_vaccinations</th><th>new_vaccinations_smoothed</th><th>total_vaccinations_per_hundred</th><th>people_vaccinated_per_hundred</th><th>people_fully_vaccinated_per_hundred</th><th>total_boosters_per_hundred</th><th>new_vaccinations_smoothed_per_million</th><th>new_people_vaccinated_smoothed</th><th>new_people_vaccinated_smoothed_per_hundred</th><th>stringency_index</th><th>population_density</th><th>median_age</th><th>aged_65_older</th><th>aged_70_older</th><th>gdp_per_capita</th><th>extreme_poverty</th><th>cardiovasc_death_rate</th><th>diabetes_prevalence</th><th>female_smokers</th><th>male_smokers</th><th>handwashing_facilities</th><th>hospital_beds_per_thousand</th><th>life_expectancy</th><th>human_development_index</th><th>population</th><th>excess_mortality_cumulative_absolute</th><th>excess_mortality_cumulative</th><th>excess_mortality</th><th>excess_mortality_cumulative_per_million</th></tr><tr><td>str</td><td>str</td><td>str</td><td>f64</td><td>str</td><td>str</td><td>str</td><td>str</td><td>str</td><td>str</td><td>str</td><td>str</td><td>str</td><td>str</td><td>str</td><td>str</td><td>str</td><td>str</td><td>str</td><td>str</td><td>str</td><td>str</td><td>str</td><td>str</td><td>str</td><td>str</td><td>str</td><td>str</td><td>str</td><td>str</td><td>str</td><td>str</td><td>str</td><td>str</td><td>str</td><td>str</td><td>str</td><td>str</td><td>str</td><td>str</td><td>str</td><td>str</td><td>str</td><td>str</td><td>str</td><td>str</td><td>str</td><td>str</td><td>str</td><td>str</td><td>str</td><td>str</td><td>str</td><td>str</td><td>str</td><td>str</td><td>str</td><td>str</td><td>str</td><td>str</td><td>str</td><td>str</td><td>str</td><td>str</td><td>str</td><td>str</td><td>str</td></tr></thead><tbody><tr><td>&quot;AFG&quot;</td><td>&quot;Asia&quot;</td><td>&quot;Afghanistan&quot;</td><td>43835.0</td><td>null</td><td>&quot;0.0&quot;</td><td>null</td><td>null</td><td>&quot;0.0&quot;</td><td>null</td><td>null</td><td>&quot;0.0&quot;</td><td>null</td><td>null</td><td>&quot;0.0&quot;</td><td>null</td><td>null</td><td>null</td><td>null</td><td>null</td><td>null</td><td>null</td><td>null</td><td>null</td><td>null</td><td>null</td><td>null</td><td>null</td><td>null</td><td>null</td><td>null</td><td>null</td><td>null</td><td>null</td><td>null</td><td>null</td><td>null</td><td>null</td><td>null</td><td>null</td><td>null</td><td>null</td><td>null</td><td>null</td><td>null</td><td>null</td><td>null</td><td>&quot;0.0&quot;</td><td>&quot;54.422&quot;</td><td>null</td><td>&quot;2.581&quot;</td><td>&quot;1.337&quot;</td><td>&quot;1803.987&quot;</td><td>null</td><td>&quot;597.029&quot;</td><td>null</td><td>null</td><td>null</td><td>&quot;37.746&quot;</td><td>&quot;0.5&quot;</td><td>&quot;64.83&quot;</td><td>&quot;0.511&quot;</td><td>&quot;41128772.0&quot;</td><td>null</td><td>null</td><td>null</td><td>null</td></tr><tr><td>&quot;AFG&quot;</td><td>&quot;Asia&quot;</td><td>&quot;Afghanistan&quot;</td><td>43842.0</td><td>null</td><td>&quot;0.0&quot;</td><td>null</td><td>null</td><td>&quot;0.0&quot;</td><td>null</td><td>null</td><td>&quot;0.0&quot;</td><td>null</td><td>null</td><td>&quot;0.0&quot;</td><td>null</td><td>null</td><td>null</td><td>null</td><td>null</td><td>null</td><td>null</td><td>null</td><td>null</td><td>null</td><td>null</td><td>null</td><td>null</td><td>null</td><td>null</td><td>null</td><td>null</td><td>null</td><td>null</td><td>null</td><td>null</td><td>null</td><td>null</td><td>null</td><td>null</td><td>null</td><td>null</td><td>null</td><td>null</td><td>null</td><td>null</td><td>null</td><td>&quot;0.0&quot;</td><td>&quot;54.422&quot;</td><td>null</td><td>&quot;2.581&quot;</td><td>&quot;1.337&quot;</td><td>&quot;1803.987&quot;</td><td>null</td><td>&quot;597.029&quot;</td><td>null</td><td>null</td><td>null</td><td>&quot;37.746&quot;</td><td>&quot;0.5&quot;</td><td>&quot;64.83&quot;</td><td>&quot;0.511&quot;</td><td>&quot;41128772.0&quot;</td><td>null</td><td>null</td><td>null</td><td>null</td></tr><tr><td>&quot;AFG&quot;</td><td>&quot;Asia&quot;</td><td>&quot;Afghanistan&quot;</td><td>43849.0</td><td>null</td><td>&quot;0.0&quot;</td><td>null</td><td>null</td><td>&quot;0.0&quot;</td><td>null</td><td>null</td><td>&quot;0.0&quot;</td><td>null</td><td>null</td><td>&quot;0.0&quot;</td><td>null</td><td>null</td><td>null</td><td>null</td><td>null</td><td>null</td><td>null</td><td>null</td><td>null</td><td>null</td><td>null</td><td>null</td><td>null</td><td>null</td><td>null</td><td>null</td><td>null</td><td>null</td><td>null</td><td>null</td><td>null</td><td>null</td><td>null</td><td>null</td><td>null</td><td>null</td><td>null</td><td>null</td><td>null</td><td>null</td><td>null</td><td>null</td><td>&quot;0.0&quot;</td><td>&quot;54.422&quot;</td><td>null</td><td>&quot;2.581&quot;</td><td>&quot;1.337&quot;</td><td>&quot;1803.987&quot;</td><td>null</td><td>&quot;597.029&quot;</td><td>null</td><td>null</td><td>null</td><td>&quot;37.746&quot;</td><td>&quot;0.5&quot;</td><td>&quot;64.83&quot;</td><td>&quot;0.511&quot;</td><td>&quot;41128772.0&quot;</td><td>null</td><td>null</td><td>null</td><td>null</td></tr><tr><td>&quot;AFG&quot;</td><td>&quot;Asia&quot;</td><td>&quot;Afghanistan&quot;</td><td>43856.0</td><td>null</td><td>&quot;0.0&quot;</td><td>null</td><td>null</td><td>&quot;0.0&quot;</td><td>null</td><td>null</td><td>&quot;0.0&quot;</td><td>null</td><td>null</td><td>&quot;0.0&quot;</td><td>null</td><td>null</td><td>null</td><td>null</td><td>null</td><td>null</td><td>null</td><td>null</td><td>null</td><td>null</td><td>null</td><td>null</td><td>null</td><td>null</td><td>null</td><td>null</td><td>null</td><td>null</td><td>null</td><td>null</td><td>null</td><td>null</td><td>null</td><td>null</td><td>null</td><td>null</td><td>null</td><td>null</td><td>null</td><td>null</td><td>null</td><td>null</td><td>&quot;0.0&quot;</td><td>&quot;54.422&quot;</td><td>null</td><td>&quot;2.581&quot;</td><td>&quot;1.337&quot;</td><td>&quot;1803.987&quot;</td><td>null</td><td>&quot;597.029&quot;</td><td>null</td><td>null</td><td>null</td><td>&quot;37.746&quot;</td><td>&quot;0.5&quot;</td><td>&quot;64.83&quot;</td><td>&quot;0.511&quot;</td><td>&quot;41128772.0&quot;</td><td>null</td><td>null</td><td>null</td><td>null</td></tr><tr><td>&quot;AFG&quot;</td><td>&quot;Asia&quot;</td><td>&quot;Afghanistan&quot;</td><td>43863.0</td><td>null</td><td>&quot;0.0&quot;</td><td>null</td><td>null</td><td>&quot;0.0&quot;</td><td>null</td><td>null</td><td>&quot;0.0&quot;</td><td>null</td><td>null</td><td>&quot;0.0&quot;</td><td>null</td><td>null</td><td>null</td><td>null</td><td>null</td><td>null</td><td>null</td><td>null</td><td>null</td><td>null</td><td>null</td><td>null</td><td>null</td><td>null</td><td>null</td><td>null</td><td>null</td><td>null</td><td>null</td><td>null</td><td>null</td><td>null</td><td>null</td><td>null</td><td>null</td><td>null</td><td>null</td><td>null</td><td>null</td><td>null</td><td>null</td><td>null</td><td>&quot;0.0&quot;</td><td>&quot;54.422&quot;</td><td>null</td><td>&quot;2.581&quot;</td><td>&quot;1.337&quot;</td><td>&quot;1803.987&quot;</td><td>null</td><td>&quot;597.029&quot;</td><td>null</td><td>null</td><td>null</td><td>&quot;37.746&quot;</td><td>&quot;0.5&quot;</td><td>&quot;64.83&quot;</td><td>&quot;0.511&quot;</td><td>&quot;41128772.0&quot;</td><td>null</td><td>null</td><td>null</td><td>null</td></tr></tbody></table></div>"
      ]
     },
     "metadata": {},
     "output_type": "display_data"
    }
   ],
   "source": [
    "# NOTE: pyxlsb not recognized dates automatically - you can do this manually, but xl/styles.bin parsing required.\n",
    "show_df(scan_pyxlsb())\n",
    "# 2m 56.2s  (276700 rows, 67 columns)"
   ]
  },
  {
   "attachments": {},
   "cell_type": "markdown",
   "metadata": {},
   "source": [
    "### Calamine: Scan both xlsx and xlsb"
   ]
  },
  {
   "cell_type": "code",
   "execution_count": 8,
   "metadata": {
    "notebookRunGroups": {
     "groupValue": "1"
    }
   },
   "outputs": [],
   "source": [
    "def scan_calamine(path: str = XLSB_FILE, *, tq: bool = False) -> pl.DataFrame:\n",
    "    wb: calamine.CalamineWorkbook = calamine.load_workbook(path)\n",
    "    ws = wb.get_sheet_by_index(0)\n",
    "\n",
    "    row_it = iter(ws.to_python(skip_empty_area=False))\n",
    "\n",
    "    head = [\n",
    "        col_header\n",
    "        if cell[1] is not None and (col_header := str(cell[1]).strip())\n",
    "        else f\"Unnamed: {cell[0]}\"\n",
    "        for cell in enumerate(next(row_it))\n",
    "    ]\n",
    "    schema = dict.fromkeys(head, pl.Utf8)\n",
    "\n",
    "    data_it = ([str(cell) if cell else None for cell in row] for row in row_it)\n",
    "    if tq:\n",
    "        data_it = tqdm(data_it)\n",
    "\n",
    "    return pl.DataFrame(list(data_it), schema, orient=\"row\")\n"
   ]
  },
  {
   "cell_type": "code",
   "execution_count": 10,
   "metadata": {},
   "outputs": [
    {
     "name": "stdout",
     "output_type": "stream",
     "text": [
      "rows: 276700 columns: 67\n"
     ]
    },
    {
     "data": {
      "text/html": [
       "<div><style>\n",
       ".dataframe > thead > tr,\n",
       ".dataframe > tbody > tr {\n",
       "  text-align: right;\n",
       "  white-space: pre-wrap;\n",
       "}\n",
       "</style>\n",
       "<small>shape: (5, 67)</small><table border=\"1\" class=\"dataframe\"><thead><tr><th>iso_code</th><th>continent</th><th>location</th><th>date</th><th>total_cases</th><th>new_cases</th><th>new_cases_smoothed</th><th>total_deaths</th><th>new_deaths</th><th>new_deaths_smoothed</th><th>total_cases_per_million</th><th>new_cases_per_million</th><th>new_cases_smoothed_per_million</th><th>total_deaths_per_million</th><th>new_deaths_per_million</th><th>new_deaths_smoothed_per_million</th><th>reproduction_rate</th><th>icu_patients</th><th>icu_patients_per_million</th><th>hosp_patients</th><th>hosp_patients_per_million</th><th>weekly_icu_admissions</th><th>weekly_icu_admissions_per_million</th><th>weekly_hosp_admissions</th><th>weekly_hosp_admissions_per_million</th><th>total_tests</th><th>new_tests</th><th>total_tests_per_thousand</th><th>new_tests_per_thousand</th><th>new_tests_smoothed</th><th>new_tests_smoothed_per_thousand</th><th>positive_rate</th><th>tests_per_case</th><th>tests_units</th><th>total_vaccinations</th><th>people_vaccinated</th><th>people_fully_vaccinated</th><th>total_boosters</th><th>new_vaccinations</th><th>new_vaccinations_smoothed</th><th>total_vaccinations_per_hundred</th><th>people_vaccinated_per_hundred</th><th>people_fully_vaccinated_per_hundred</th><th>total_boosters_per_hundred</th><th>new_vaccinations_smoothed_per_million</th><th>new_people_vaccinated_smoothed</th><th>new_people_vaccinated_smoothed_per_hundred</th><th>stringency_index</th><th>population_density</th><th>median_age</th><th>aged_65_older</th><th>aged_70_older</th><th>gdp_per_capita</th><th>extreme_poverty</th><th>cardiovasc_death_rate</th><th>diabetes_prevalence</th><th>female_smokers</th><th>male_smokers</th><th>handwashing_facilities</th><th>hospital_beds_per_thousand</th><th>life_expectancy</th><th>human_development_index</th><th>population</th><th>excess_mortality_cumulative_absolute</th><th>excess_mortality_cumulative</th><th>excess_mortality</th><th>excess_mortality_cumulative_per_million</th></tr><tr><td>str</td><td>str</td><td>str</td><td>str</td><td>str</td><td>str</td><td>str</td><td>str</td><td>str</td><td>str</td><td>str</td><td>str</td><td>str</td><td>str</td><td>str</td><td>str</td><td>str</td><td>str</td><td>str</td><td>str</td><td>str</td><td>str</td><td>str</td><td>str</td><td>str</td><td>str</td><td>str</td><td>str</td><td>str</td><td>str</td><td>str</td><td>str</td><td>str</td><td>str</td><td>str</td><td>str</td><td>str</td><td>str</td><td>str</td><td>str</td><td>str</td><td>str</td><td>str</td><td>str</td><td>str</td><td>str</td><td>str</td><td>str</td><td>str</td><td>str</td><td>str</td><td>str</td><td>str</td><td>str</td><td>str</td><td>str</td><td>str</td><td>str</td><td>str</td><td>str</td><td>str</td><td>str</td><td>str</td><td>str</td><td>str</td><td>str</td><td>str</td></tr></thead><tbody><tr><td>&quot;AFG&quot;</td><td>&quot;Asia&quot;</td><td>&quot;Afghanistan&quot;</td><td>&quot;2020-01-05&quot;</td><td>null</td><td>&quot;0.0&quot;</td><td>null</td><td>null</td><td>&quot;0.0&quot;</td><td>null</td><td>null</td><td>&quot;0.0&quot;</td><td>null</td><td>null</td><td>&quot;0.0&quot;</td><td>null</td><td>null</td><td>null</td><td>null</td><td>null</td><td>null</td><td>null</td><td>null</td><td>null</td><td>null</td><td>null</td><td>null</td><td>null</td><td>null</td><td>null</td><td>null</td><td>null</td><td>null</td><td>null</td><td>null</td><td>null</td><td>null</td><td>null</td><td>null</td><td>null</td><td>null</td><td>null</td><td>null</td><td>null</td><td>null</td><td>null</td><td>null</td><td>&quot;0.0&quot;</td><td>&quot;54.422&quot;</td><td>&quot;2024-06-18&quot;</td><td>&quot;2.581&quot;</td><td>&quot;1.337&quot;</td><td>&quot;1803.987&quot;</td><td>null</td><td>&quot;597.029&quot;</td><td>&quot;1959-09-01&quot;</td><td>null</td><td>null</td><td>&quot;37.746&quot;</td><td>&quot;0.5&quot;</td><td>&quot;64.83&quot;</td><td>&quot;0.511&quot;</td><td>&quot;41128772.0&quot;</td><td>null</td><td>null</td><td>null</td><td>null</td></tr><tr><td>&quot;AFG&quot;</td><td>&quot;Asia&quot;</td><td>&quot;Afghanistan&quot;</td><td>&quot;2020-01-12&quot;</td><td>null</td><td>&quot;0.0&quot;</td><td>null</td><td>null</td><td>&quot;0.0&quot;</td><td>null</td><td>null</td><td>&quot;0.0&quot;</td><td>null</td><td>null</td><td>&quot;0.0&quot;</td><td>null</td><td>null</td><td>null</td><td>null</td><td>null</td><td>null</td><td>null</td><td>null</td><td>null</td><td>null</td><td>null</td><td>null</td><td>null</td><td>null</td><td>null</td><td>null</td><td>null</td><td>null</td><td>null</td><td>null</td><td>null</td><td>null</td><td>null</td><td>null</td><td>null</td><td>null</td><td>null</td><td>null</td><td>null</td><td>null</td><td>null</td><td>null</td><td>&quot;0.0&quot;</td><td>&quot;54.422&quot;</td><td>&quot;2024-06-18&quot;</td><td>&quot;2.581&quot;</td><td>&quot;1.337&quot;</td><td>&quot;1803.987&quot;</td><td>null</td><td>&quot;597.029&quot;</td><td>&quot;1959-09-01&quot;</td><td>null</td><td>null</td><td>&quot;37.746&quot;</td><td>&quot;0.5&quot;</td><td>&quot;64.83&quot;</td><td>&quot;0.511&quot;</td><td>&quot;41128772.0&quot;</td><td>null</td><td>null</td><td>null</td><td>null</td></tr><tr><td>&quot;AFG&quot;</td><td>&quot;Asia&quot;</td><td>&quot;Afghanistan&quot;</td><td>&quot;2020-01-19&quot;</td><td>null</td><td>&quot;0.0&quot;</td><td>null</td><td>null</td><td>&quot;0.0&quot;</td><td>null</td><td>null</td><td>&quot;0.0&quot;</td><td>null</td><td>null</td><td>&quot;0.0&quot;</td><td>null</td><td>null</td><td>null</td><td>null</td><td>null</td><td>null</td><td>null</td><td>null</td><td>null</td><td>null</td><td>null</td><td>null</td><td>null</td><td>null</td><td>null</td><td>null</td><td>null</td><td>null</td><td>null</td><td>null</td><td>null</td><td>null</td><td>null</td><td>null</td><td>null</td><td>null</td><td>null</td><td>null</td><td>null</td><td>null</td><td>null</td><td>null</td><td>&quot;0.0&quot;</td><td>&quot;54.422&quot;</td><td>&quot;2024-06-18&quot;</td><td>&quot;2.581&quot;</td><td>&quot;1.337&quot;</td><td>&quot;1803.987&quot;</td><td>null</td><td>&quot;597.029&quot;</td><td>&quot;1959-09-01&quot;</td><td>null</td><td>null</td><td>&quot;37.746&quot;</td><td>&quot;0.5&quot;</td><td>&quot;64.83&quot;</td><td>&quot;0.511&quot;</td><td>&quot;41128772.0&quot;</td><td>null</td><td>null</td><td>null</td><td>null</td></tr><tr><td>&quot;AFG&quot;</td><td>&quot;Asia&quot;</td><td>&quot;Afghanistan&quot;</td><td>&quot;2020-01-26&quot;</td><td>null</td><td>&quot;0.0&quot;</td><td>null</td><td>null</td><td>&quot;0.0&quot;</td><td>null</td><td>null</td><td>&quot;0.0&quot;</td><td>null</td><td>null</td><td>&quot;0.0&quot;</td><td>null</td><td>null</td><td>null</td><td>null</td><td>null</td><td>null</td><td>null</td><td>null</td><td>null</td><td>null</td><td>null</td><td>null</td><td>null</td><td>null</td><td>null</td><td>null</td><td>null</td><td>null</td><td>null</td><td>null</td><td>null</td><td>null</td><td>null</td><td>null</td><td>null</td><td>null</td><td>null</td><td>null</td><td>null</td><td>null</td><td>null</td><td>null</td><td>&quot;0.0&quot;</td><td>&quot;54.422&quot;</td><td>&quot;2024-06-18&quot;</td><td>&quot;2.581&quot;</td><td>&quot;1.337&quot;</td><td>&quot;1803.987&quot;</td><td>null</td><td>&quot;597.029&quot;</td><td>&quot;1959-09-01&quot;</td><td>null</td><td>null</td><td>&quot;37.746&quot;</td><td>&quot;0.5&quot;</td><td>&quot;64.83&quot;</td><td>&quot;0.511&quot;</td><td>&quot;41128772.0&quot;</td><td>null</td><td>null</td><td>null</td><td>null</td></tr><tr><td>&quot;AFG&quot;</td><td>&quot;Asia&quot;</td><td>&quot;Afghanistan&quot;</td><td>&quot;2020-02-02&quot;</td><td>null</td><td>&quot;0.0&quot;</td><td>null</td><td>null</td><td>&quot;0.0&quot;</td><td>null</td><td>null</td><td>&quot;0.0&quot;</td><td>null</td><td>null</td><td>&quot;0.0&quot;</td><td>null</td><td>null</td><td>null</td><td>null</td><td>null</td><td>null</td><td>null</td><td>null</td><td>null</td><td>null</td><td>null</td><td>null</td><td>null</td><td>null</td><td>null</td><td>null</td><td>null</td><td>null</td><td>null</td><td>null</td><td>null</td><td>null</td><td>null</td><td>null</td><td>null</td><td>null</td><td>null</td><td>null</td><td>null</td><td>null</td><td>null</td><td>null</td><td>&quot;0.0&quot;</td><td>&quot;54.422&quot;</td><td>&quot;2024-06-18&quot;</td><td>&quot;2.581&quot;</td><td>&quot;1.337&quot;</td><td>&quot;1803.987&quot;</td><td>null</td><td>&quot;597.029&quot;</td><td>&quot;1959-09-01&quot;</td><td>null</td><td>null</td><td>&quot;37.746&quot;</td><td>&quot;0.5&quot;</td><td>&quot;64.83&quot;</td><td>&quot;0.511&quot;</td><td>&quot;41128772.0&quot;</td><td>null</td><td>null</td><td>null</td><td>null</td></tr></tbody></table></div>"
      ]
     },
     "metadata": {},
     "output_type": "display_data"
    }
   ],
   "source": [
    "show_df(scan_calamine(XLSX_FILE))\n",
    "# 38.3s  (276700 rows, 67 columns)"
   ]
  },
  {
   "cell_type": "code",
   "execution_count": 10,
   "metadata": {
    "notebookRunGroups": {
     "groupValue": ""
    }
   },
   "outputs": [
    {
     "name": "stdout",
     "output_type": "stream",
     "text": [
      "rows: 276700 columns: 67\n"
     ]
    },
    {
     "data": {
      "text/html": [
       "<div><style>\n",
       ".dataframe > thead > tr,\n",
       ".dataframe > tbody > tr {\n",
       "  text-align: right;\n",
       "  white-space: pre-wrap;\n",
       "}\n",
       "</style>\n",
       "<small>shape: (5, 67)</small><table border=\"1\" class=\"dataframe\"><thead><tr><th>iso_code</th><th>continent</th><th>location</th><th>date</th><th>total_cases</th><th>new_cases</th><th>new_cases_smoothed</th><th>total_deaths</th><th>new_deaths</th><th>new_deaths_smoothed</th><th>total_cases_per_million</th><th>new_cases_per_million</th><th>new_cases_smoothed_per_million</th><th>total_deaths_per_million</th><th>new_deaths_per_million</th><th>new_deaths_smoothed_per_million</th><th>reproduction_rate</th><th>icu_patients</th><th>icu_patients_per_million</th><th>hosp_patients</th><th>hosp_patients_per_million</th><th>weekly_icu_admissions</th><th>weekly_icu_admissions_per_million</th><th>weekly_hosp_admissions</th><th>weekly_hosp_admissions_per_million</th><th>total_tests</th><th>new_tests</th><th>total_tests_per_thousand</th><th>new_tests_per_thousand</th><th>new_tests_smoothed</th><th>new_tests_smoothed_per_thousand</th><th>positive_rate</th><th>tests_per_case</th><th>tests_units</th><th>total_vaccinations</th><th>people_vaccinated</th><th>people_fully_vaccinated</th><th>total_boosters</th><th>new_vaccinations</th><th>new_vaccinations_smoothed</th><th>total_vaccinations_per_hundred</th><th>people_vaccinated_per_hundred</th><th>people_fully_vaccinated_per_hundred</th><th>total_boosters_per_hundred</th><th>new_vaccinations_smoothed_per_million</th><th>new_people_vaccinated_smoothed</th><th>new_people_vaccinated_smoothed_per_hundred</th><th>stringency_index</th><th>population_density</th><th>median_age</th><th>aged_65_older</th><th>aged_70_older</th><th>gdp_per_capita</th><th>extreme_poverty</th><th>cardiovasc_death_rate</th><th>diabetes_prevalence</th><th>female_smokers</th><th>male_smokers</th><th>handwashing_facilities</th><th>hospital_beds_per_thousand</th><th>life_expectancy</th><th>human_development_index</th><th>population</th><th>excess_mortality_cumulative_absolute</th><th>excess_mortality_cumulative</th><th>excess_mortality</th><th>excess_mortality_cumulative_per_million</th></tr><tr><td>str</td><td>str</td><td>str</td><td>str</td><td>str</td><td>str</td><td>str</td><td>str</td><td>str</td><td>str</td><td>str</td><td>str</td><td>str</td><td>str</td><td>str</td><td>str</td><td>str</td><td>str</td><td>str</td><td>str</td><td>str</td><td>str</td><td>str</td><td>str</td><td>str</td><td>str</td><td>str</td><td>str</td><td>str</td><td>str</td><td>str</td><td>str</td><td>str</td><td>str</td><td>str</td><td>str</td><td>str</td><td>str</td><td>str</td><td>str</td><td>str</td><td>str</td><td>str</td><td>str</td><td>str</td><td>str</td><td>str</td><td>str</td><td>str</td><td>str</td><td>str</td><td>str</td><td>str</td><td>str</td><td>str</td><td>str</td><td>str</td><td>str</td><td>str</td><td>str</td><td>str</td><td>str</td><td>str</td><td>str</td><td>str</td><td>str</td><td>str</td></tr></thead><tbody><tr><td>&quot;AFG&quot;</td><td>&quot;Asia&quot;</td><td>&quot;Afghanistan&quot;</td><td>&quot;2020-01-05&quot;</td><td>null</td><td>&quot;0.0&quot;</td><td>null</td><td>null</td><td>&quot;0.0&quot;</td><td>null</td><td>null</td><td>&quot;0.0&quot;</td><td>null</td><td>null</td><td>&quot;0.0&quot;</td><td>null</td><td>null</td><td>null</td><td>null</td><td>null</td><td>null</td><td>null</td><td>null</td><td>null</td><td>null</td><td>null</td><td>null</td><td>null</td><td>null</td><td>null</td><td>null</td><td>null</td><td>null</td><td>null</td><td>null</td><td>null</td><td>null</td><td>null</td><td>null</td><td>null</td><td>null</td><td>null</td><td>null</td><td>null</td><td>null</td><td>null</td><td>null</td><td>&quot;0.0&quot;</td><td>&quot;54.422&quot;</td><td>&quot;2024-06-18&quot;</td><td>&quot;2.581&quot;</td><td>&quot;1.337&quot;</td><td>&quot;1803.987&quot;</td><td>null</td><td>&quot;597.029&quot;</td><td>&quot;1959-09-01&quot;</td><td>null</td><td>null</td><td>&quot;37.746&quot;</td><td>&quot;0.5&quot;</td><td>&quot;64.83&quot;</td><td>&quot;0.511&quot;</td><td>&quot;41128772.0&quot;</td><td>null</td><td>null</td><td>null</td><td>null</td></tr><tr><td>&quot;AFG&quot;</td><td>&quot;Asia&quot;</td><td>&quot;Afghanistan&quot;</td><td>&quot;2020-01-12&quot;</td><td>null</td><td>&quot;0.0&quot;</td><td>null</td><td>null</td><td>&quot;0.0&quot;</td><td>null</td><td>null</td><td>&quot;0.0&quot;</td><td>null</td><td>null</td><td>&quot;0.0&quot;</td><td>null</td><td>null</td><td>null</td><td>null</td><td>null</td><td>null</td><td>null</td><td>null</td><td>null</td><td>null</td><td>null</td><td>null</td><td>null</td><td>null</td><td>null</td><td>null</td><td>null</td><td>null</td><td>null</td><td>null</td><td>null</td><td>null</td><td>null</td><td>null</td><td>null</td><td>null</td><td>null</td><td>null</td><td>null</td><td>null</td><td>null</td><td>null</td><td>&quot;0.0&quot;</td><td>&quot;54.422&quot;</td><td>&quot;2024-06-18&quot;</td><td>&quot;2.581&quot;</td><td>&quot;1.337&quot;</td><td>&quot;1803.987&quot;</td><td>null</td><td>&quot;597.029&quot;</td><td>&quot;1959-09-01&quot;</td><td>null</td><td>null</td><td>&quot;37.746&quot;</td><td>&quot;0.5&quot;</td><td>&quot;64.83&quot;</td><td>&quot;0.511&quot;</td><td>&quot;41128772.0&quot;</td><td>null</td><td>null</td><td>null</td><td>null</td></tr><tr><td>&quot;AFG&quot;</td><td>&quot;Asia&quot;</td><td>&quot;Afghanistan&quot;</td><td>&quot;2020-01-19&quot;</td><td>null</td><td>&quot;0.0&quot;</td><td>null</td><td>null</td><td>&quot;0.0&quot;</td><td>null</td><td>null</td><td>&quot;0.0&quot;</td><td>null</td><td>null</td><td>&quot;0.0&quot;</td><td>null</td><td>null</td><td>null</td><td>null</td><td>null</td><td>null</td><td>null</td><td>null</td><td>null</td><td>null</td><td>null</td><td>null</td><td>null</td><td>null</td><td>null</td><td>null</td><td>null</td><td>null</td><td>null</td><td>null</td><td>null</td><td>null</td><td>null</td><td>null</td><td>null</td><td>null</td><td>null</td><td>null</td><td>null</td><td>null</td><td>null</td><td>null</td><td>&quot;0.0&quot;</td><td>&quot;54.422&quot;</td><td>&quot;2024-06-18&quot;</td><td>&quot;2.581&quot;</td><td>&quot;1.337&quot;</td><td>&quot;1803.987&quot;</td><td>null</td><td>&quot;597.029&quot;</td><td>&quot;1959-09-01&quot;</td><td>null</td><td>null</td><td>&quot;37.746&quot;</td><td>&quot;0.5&quot;</td><td>&quot;64.83&quot;</td><td>&quot;0.511&quot;</td><td>&quot;41128772.0&quot;</td><td>null</td><td>null</td><td>null</td><td>null</td></tr><tr><td>&quot;AFG&quot;</td><td>&quot;Asia&quot;</td><td>&quot;Afghanistan&quot;</td><td>&quot;2020-01-26&quot;</td><td>null</td><td>&quot;0.0&quot;</td><td>null</td><td>null</td><td>&quot;0.0&quot;</td><td>null</td><td>null</td><td>&quot;0.0&quot;</td><td>null</td><td>null</td><td>&quot;0.0&quot;</td><td>null</td><td>null</td><td>null</td><td>null</td><td>null</td><td>null</td><td>null</td><td>null</td><td>null</td><td>null</td><td>null</td><td>null</td><td>null</td><td>null</td><td>null</td><td>null</td><td>null</td><td>null</td><td>null</td><td>null</td><td>null</td><td>null</td><td>null</td><td>null</td><td>null</td><td>null</td><td>null</td><td>null</td><td>null</td><td>null</td><td>null</td><td>null</td><td>&quot;0.0&quot;</td><td>&quot;54.422&quot;</td><td>&quot;2024-06-18&quot;</td><td>&quot;2.581&quot;</td><td>&quot;1.337&quot;</td><td>&quot;1803.987&quot;</td><td>null</td><td>&quot;597.029&quot;</td><td>&quot;1959-09-01&quot;</td><td>null</td><td>null</td><td>&quot;37.746&quot;</td><td>&quot;0.5&quot;</td><td>&quot;64.83&quot;</td><td>&quot;0.511&quot;</td><td>&quot;41128772.0&quot;</td><td>null</td><td>null</td><td>null</td><td>null</td></tr><tr><td>&quot;AFG&quot;</td><td>&quot;Asia&quot;</td><td>&quot;Afghanistan&quot;</td><td>&quot;2020-02-02&quot;</td><td>null</td><td>&quot;0.0&quot;</td><td>null</td><td>null</td><td>&quot;0.0&quot;</td><td>null</td><td>null</td><td>&quot;0.0&quot;</td><td>null</td><td>null</td><td>&quot;0.0&quot;</td><td>null</td><td>null</td><td>null</td><td>null</td><td>null</td><td>null</td><td>null</td><td>null</td><td>null</td><td>null</td><td>null</td><td>null</td><td>null</td><td>null</td><td>null</td><td>null</td><td>null</td><td>null</td><td>null</td><td>null</td><td>null</td><td>null</td><td>null</td><td>null</td><td>null</td><td>null</td><td>null</td><td>null</td><td>null</td><td>null</td><td>null</td><td>null</td><td>&quot;0.0&quot;</td><td>&quot;54.422&quot;</td><td>&quot;2024-06-18&quot;</td><td>&quot;2.581&quot;</td><td>&quot;1.337&quot;</td><td>&quot;1803.987&quot;</td><td>null</td><td>&quot;597.029&quot;</td><td>&quot;1959-09-01&quot;</td><td>null</td><td>null</td><td>&quot;37.746&quot;</td><td>&quot;0.5&quot;</td><td>&quot;64.83&quot;</td><td>&quot;0.511&quot;</td><td>&quot;41128772.0&quot;</td><td>null</td><td>null</td><td>null</td><td>null</td></tr></tbody></table></div>"
      ]
     },
     "metadata": {},
     "output_type": "display_data"
    }
   ],
   "source": [
    "show_df(scan_calamine())\n",
    "# 21.6s  (276700 rows, 67 columns)"
   ]
  },
  {
   "attachments": {},
   "cell_type": "markdown",
   "metadata": {},
   "source": [
    "## Benchmarks"
   ]
  },
  {
   "attachments": {},
   "cell_type": "markdown",
   "metadata": {},
   "source": [
    "### Timeit"
   ]
  },
  {
   "attachments": {},
   "cell_type": "markdown",
   "metadata": {},
   "source": [
    "*For these tests, I've reload kernel between tests, for better consistency*"
   ]
  },
  {
   "cell_type": "code",
   "execution_count": 10,
   "metadata": {
    "notebookRunGroups": {
     "groupValue": "2"
    }
   },
   "outputs": [
    {
     "name": "stdout",
     "output_type": "stream",
     "text": [
      "CPU times: total: 2min 7s\n",
      "Wall time: 2min 15s\n"
     ]
    },
    {
     "data": {
      "text/html": [
       "<div><style>\n",
       ".dataframe > thead > tr,\n",
       ".dataframe > tbody > tr {\n",
       "  text-align: right;\n",
       "  white-space: pre-wrap;\n",
       "}\n",
       "</style>\n",
       "<small>shape: (5, 67)</small><table border=\"1\" class=\"dataframe\"><thead><tr><th>iso_code</th><th>continent</th><th>location</th><th>date</th><th>total_cases</th><th>new_cases</th><th>new_cases_smoothed</th><th>total_deaths</th><th>new_deaths</th><th>new_deaths_smoothed</th><th>total_cases_per_million</th><th>new_cases_per_million</th><th>new_cases_smoothed_per_million</th><th>total_deaths_per_million</th><th>new_deaths_per_million</th><th>new_deaths_smoothed_per_million</th><th>reproduction_rate</th><th>icu_patients</th><th>icu_patients_per_million</th><th>hosp_patients</th><th>hosp_patients_per_million</th><th>weekly_icu_admissions</th><th>weekly_icu_admissions_per_million</th><th>weekly_hosp_admissions</th><th>weekly_hosp_admissions_per_million</th><th>total_tests</th><th>new_tests</th><th>total_tests_per_thousand</th><th>new_tests_per_thousand</th><th>new_tests_smoothed</th><th>new_tests_smoothed_per_thousand</th><th>positive_rate</th><th>tests_per_case</th><th>tests_units</th><th>total_vaccinations</th><th>people_vaccinated</th><th>people_fully_vaccinated</th><th>total_boosters</th><th>new_vaccinations</th><th>new_vaccinations_smoothed</th><th>total_vaccinations_per_hundred</th><th>people_vaccinated_per_hundred</th><th>people_fully_vaccinated_per_hundred</th><th>total_boosters_per_hundred</th><th>new_vaccinations_smoothed_per_million</th><th>new_people_vaccinated_smoothed</th><th>new_people_vaccinated_smoothed_per_hundred</th><th>stringency_index</th><th>population_density</th><th>median_age</th><th>aged_65_older</th><th>aged_70_older</th><th>gdp_per_capita</th><th>extreme_poverty</th><th>cardiovasc_death_rate</th><th>diabetes_prevalence</th><th>female_smokers</th><th>male_smokers</th><th>handwashing_facilities</th><th>hospital_beds_per_thousand</th><th>life_expectancy</th><th>human_development_index</th><th>population</th><th>excess_mortality_cumulative_absolute</th><th>excess_mortality_cumulative</th><th>excess_mortality</th><th>excess_mortality_cumulative_per_million</th></tr><tr><td>str</td><td>str</td><td>str</td><td>str</td><td>str</td><td>str</td><td>str</td><td>str</td><td>str</td><td>str</td><td>str</td><td>str</td><td>str</td><td>str</td><td>str</td><td>str</td><td>str</td><td>str</td><td>str</td><td>str</td><td>str</td><td>str</td><td>str</td><td>str</td><td>str</td><td>str</td><td>str</td><td>str</td><td>str</td><td>str</td><td>str</td><td>str</td><td>str</td><td>str</td><td>str</td><td>str</td><td>str</td><td>str</td><td>str</td><td>str</td><td>str</td><td>str</td><td>str</td><td>str</td><td>str</td><td>str</td><td>str</td><td>str</td><td>str</td><td>str</td><td>str</td><td>str</td><td>str</td><td>str</td><td>str</td><td>str</td><td>str</td><td>str</td><td>str</td><td>str</td><td>str</td><td>str</td><td>str</td><td>str</td><td>str</td><td>str</td><td>str</td></tr></thead><tbody><tr><td>&quot;AFG&quot;</td><td>&quot;Asia&quot;</td><td>&quot;Afghanistan&quot;</td><td>&quot;01-05-20&quot;</td><td>null</td><td>&quot;0.0&quot;</td><td>null</td><td>null</td><td>&quot;0.0&quot;</td><td>null</td><td>null</td><td>&quot;0.0&quot;</td><td>null</td><td>null</td><td>&quot;0.0&quot;</td><td>null</td><td>null</td><td>null</td><td>null</td><td>null</td><td>null</td><td>null</td><td>null</td><td>null</td><td>null</td><td>null</td><td>null</td><td>null</td><td>null</td><td>null</td><td>null</td><td>null</td><td>null</td><td>null</td><td>null</td><td>null</td><td>null</td><td>null</td><td>null</td><td>null</td><td>null</td><td>null</td><td>null</td><td>null</td><td>null</td><td>null</td><td>null</td><td>&quot;0.0&quot;</td><td>&quot;54.422&quot;</td><td>&quot;18-Jun&quot;</td><td>&quot;2.581&quot;</td><td>&quot;1.337&quot;</td><td>&quot;1803.987&quot;</td><td>null</td><td>&quot;597.029&quot;</td><td>&quot;Sep-59&quot;</td><td>null</td><td>null</td><td>&quot;37.746&quot;</td><td>&quot;0.5&quot;</td><td>&quot;64.83&quot;</td><td>&quot;0.511&quot;</td><td>&quot;41128772.0&quot;</td><td>null</td><td>null</td><td>null</td><td>null</td></tr><tr><td>&quot;AFG&quot;</td><td>&quot;Asia&quot;</td><td>&quot;Afghanistan&quot;</td><td>&quot;01-12-20&quot;</td><td>null</td><td>&quot;0.0&quot;</td><td>null</td><td>null</td><td>&quot;0.0&quot;</td><td>null</td><td>null</td><td>&quot;0.0&quot;</td><td>null</td><td>null</td><td>&quot;0.0&quot;</td><td>null</td><td>null</td><td>null</td><td>null</td><td>null</td><td>null</td><td>null</td><td>null</td><td>null</td><td>null</td><td>null</td><td>null</td><td>null</td><td>null</td><td>null</td><td>null</td><td>null</td><td>null</td><td>null</td><td>null</td><td>null</td><td>null</td><td>null</td><td>null</td><td>null</td><td>null</td><td>null</td><td>null</td><td>null</td><td>null</td><td>null</td><td>null</td><td>&quot;0.0&quot;</td><td>&quot;54.422&quot;</td><td>&quot;18-Jun&quot;</td><td>&quot;2.581&quot;</td><td>&quot;1.337&quot;</td><td>&quot;1803.987&quot;</td><td>null</td><td>&quot;597.029&quot;</td><td>&quot;Sep-59&quot;</td><td>null</td><td>null</td><td>&quot;37.746&quot;</td><td>&quot;0.5&quot;</td><td>&quot;64.83&quot;</td><td>&quot;0.511&quot;</td><td>&quot;41128772.0&quot;</td><td>null</td><td>null</td><td>null</td><td>null</td></tr><tr><td>&quot;AFG&quot;</td><td>&quot;Asia&quot;</td><td>&quot;Afghanistan&quot;</td><td>&quot;01-19-20&quot;</td><td>null</td><td>&quot;0.0&quot;</td><td>null</td><td>null</td><td>&quot;0.0&quot;</td><td>null</td><td>null</td><td>&quot;0.0&quot;</td><td>null</td><td>null</td><td>&quot;0.0&quot;</td><td>null</td><td>null</td><td>null</td><td>null</td><td>null</td><td>null</td><td>null</td><td>null</td><td>null</td><td>null</td><td>null</td><td>null</td><td>null</td><td>null</td><td>null</td><td>null</td><td>null</td><td>null</td><td>null</td><td>null</td><td>null</td><td>null</td><td>null</td><td>null</td><td>null</td><td>null</td><td>null</td><td>null</td><td>null</td><td>null</td><td>null</td><td>null</td><td>&quot;0.0&quot;</td><td>&quot;54.422&quot;</td><td>&quot;18-Jun&quot;</td><td>&quot;2.581&quot;</td><td>&quot;1.337&quot;</td><td>&quot;1803.987&quot;</td><td>null</td><td>&quot;597.029&quot;</td><td>&quot;Sep-59&quot;</td><td>null</td><td>null</td><td>&quot;37.746&quot;</td><td>&quot;0.5&quot;</td><td>&quot;64.83&quot;</td><td>&quot;0.511&quot;</td><td>&quot;41128772.0&quot;</td><td>null</td><td>null</td><td>null</td><td>null</td></tr><tr><td>&quot;AFG&quot;</td><td>&quot;Asia&quot;</td><td>&quot;Afghanistan&quot;</td><td>&quot;01-26-20&quot;</td><td>null</td><td>&quot;0.0&quot;</td><td>null</td><td>null</td><td>&quot;0.0&quot;</td><td>null</td><td>null</td><td>&quot;0.0&quot;</td><td>null</td><td>null</td><td>&quot;0.0&quot;</td><td>null</td><td>null</td><td>null</td><td>null</td><td>null</td><td>null</td><td>null</td><td>null</td><td>null</td><td>null</td><td>null</td><td>null</td><td>null</td><td>null</td><td>null</td><td>null</td><td>null</td><td>null</td><td>null</td><td>null</td><td>null</td><td>null</td><td>null</td><td>null</td><td>null</td><td>null</td><td>null</td><td>null</td><td>null</td><td>null</td><td>null</td><td>null</td><td>&quot;0.0&quot;</td><td>&quot;54.422&quot;</td><td>&quot;18-Jun&quot;</td><td>&quot;2.581&quot;</td><td>&quot;1.337&quot;</td><td>&quot;1803.987&quot;</td><td>null</td><td>&quot;597.029&quot;</td><td>&quot;Sep-59&quot;</td><td>null</td><td>null</td><td>&quot;37.746&quot;</td><td>&quot;0.5&quot;</td><td>&quot;64.83&quot;</td><td>&quot;0.511&quot;</td><td>&quot;41128772.0&quot;</td><td>null</td><td>null</td><td>null</td><td>null</td></tr><tr><td>&quot;AFG&quot;</td><td>&quot;Asia&quot;</td><td>&quot;Afghanistan&quot;</td><td>&quot;02-02-20&quot;</td><td>null</td><td>&quot;0.0&quot;</td><td>null</td><td>null</td><td>&quot;0.0&quot;</td><td>null</td><td>null</td><td>&quot;0.0&quot;</td><td>null</td><td>null</td><td>&quot;0.0&quot;</td><td>null</td><td>null</td><td>null</td><td>null</td><td>null</td><td>null</td><td>null</td><td>null</td><td>null</td><td>null</td><td>null</td><td>null</td><td>null</td><td>null</td><td>null</td><td>null</td><td>null</td><td>null</td><td>null</td><td>null</td><td>null</td><td>null</td><td>null</td><td>null</td><td>null</td><td>null</td><td>null</td><td>null</td><td>null</td><td>null</td><td>null</td><td>null</td><td>&quot;0.0&quot;</td><td>&quot;54.422&quot;</td><td>&quot;18-Jun&quot;</td><td>&quot;2.581&quot;</td><td>&quot;1.337&quot;</td><td>&quot;1803.987&quot;</td><td>null</td><td>&quot;597.029&quot;</td><td>&quot;Sep-59&quot;</td><td>null</td><td>null</td><td>&quot;37.746&quot;</td><td>&quot;0.5&quot;</td><td>&quot;64.83&quot;</td><td>&quot;0.511&quot;</td><td>&quot;41128772.0&quot;</td><td>null</td><td>null</td><td>null</td><td>null</td></tr></tbody></table></div>"
      ],
      "text/plain": [
       "shape: (5, 67)\n",
       "┌──────────┬───────────┬────────────┬──────────┬───┬───────────┬───────────┬───────────┬───────────┐\n",
       "│ iso_code ┆ continent ┆ location   ┆ date     ┆ … ┆ excess_mo ┆ excess_mo ┆ excess_mo ┆ excess_mo │\n",
       "│ ---      ┆ ---       ┆ ---        ┆ ---      ┆   ┆ rtality_c ┆ rtality_c ┆ rtality   ┆ rtality_c │\n",
       "│ str      ┆ str       ┆ str        ┆ str      ┆   ┆ umulative ┆ umulative ┆ ---       ┆ umulative │\n",
       "│          ┆           ┆            ┆          ┆   ┆ _abso…    ┆ ---       ┆ str       ┆ _per_…    │\n",
       "│          ┆           ┆            ┆          ┆   ┆ ---       ┆ str       ┆           ┆ ---       │\n",
       "│          ┆           ┆            ┆          ┆   ┆ str       ┆           ┆           ┆ str       │\n",
       "╞══════════╪═══════════╪════════════╪══════════╪═══╪═══════════╪═══════════╪═══════════╪═══════════╡\n",
       "│ AFG      ┆ Asia      ┆ Afghanista ┆ 01-05-20 ┆ … ┆ null      ┆ null      ┆ null      ┆ null      │\n",
       "│          ┆           ┆ n          ┆          ┆   ┆           ┆           ┆           ┆           │\n",
       "│ AFG      ┆ Asia      ┆ Afghanista ┆ 01-12-20 ┆ … ┆ null      ┆ null      ┆ null      ┆ null      │\n",
       "│          ┆           ┆ n          ┆          ┆   ┆           ┆           ┆           ┆           │\n",
       "│ AFG      ┆ Asia      ┆ Afghanista ┆ 01-19-20 ┆ … ┆ null      ┆ null      ┆ null      ┆ null      │\n",
       "│          ┆           ┆ n          ┆          ┆   ┆           ┆           ┆           ┆           │\n",
       "│ AFG      ┆ Asia      ┆ Afghanista ┆ 01-26-20 ┆ … ┆ null      ┆ null      ┆ null      ┆ null      │\n",
       "│          ┆           ┆ n          ┆          ┆   ┆           ┆           ┆           ┆           │\n",
       "│ AFG      ┆ Asia      ┆ Afghanista ┆ 02-02-20 ┆ … ┆ null      ┆ null      ┆ null      ┆ null      │\n",
       "│          ┆           ┆ n          ┆          ┆   ┆           ┆           ┆           ┆           │\n",
       "└──────────┴───────────┴────────────┴──────────┴───┴───────────┴───────────┴───────────┴───────────┘"
      ]
     },
     "execution_count": 10,
     "metadata": {},
     "output_type": "execute_result"
    }
   ],
   "source": [
    "%%time\n",
    "scan_xlsx2csv().head()"
   ]
  },
  {
   "cell_type": "code",
   "execution_count": 10,
   "metadata": {
    "notebookRunGroups": {
     "groupValue": "2"
    }
   },
   "outputs": [
    {
     "name": "stdout",
     "output_type": "stream",
     "text": [
      "CPU times: total: 5min 36s\n",
      "Wall time: 6min 37s\n"
     ]
    },
    {
     "data": {
      "text/html": [
       "<div><style>\n",
       ".dataframe > thead > tr,\n",
       ".dataframe > tbody > tr {\n",
       "  text-align: right;\n",
       "  white-space: pre-wrap;\n",
       "}\n",
       "</style>\n",
       "<small>shape: (5, 67)</small><table border=\"1\" class=\"dataframe\"><thead><tr><th>iso_code</th><th>continent</th><th>location</th><th>date</th><th>total_cases</th><th>new_cases</th><th>new_cases_smoothed</th><th>total_deaths</th><th>new_deaths</th><th>new_deaths_smoothed</th><th>total_cases_per_million</th><th>new_cases_per_million</th><th>new_cases_smoothed_per_million</th><th>total_deaths_per_million</th><th>new_deaths_per_million</th><th>new_deaths_smoothed_per_million</th><th>reproduction_rate</th><th>icu_patients</th><th>icu_patients_per_million</th><th>hosp_patients</th><th>hosp_patients_per_million</th><th>weekly_icu_admissions</th><th>weekly_icu_admissions_per_million</th><th>weekly_hosp_admissions</th><th>weekly_hosp_admissions_per_million</th><th>total_tests</th><th>new_tests</th><th>total_tests_per_thousand</th><th>new_tests_per_thousand</th><th>new_tests_smoothed</th><th>new_tests_smoothed_per_thousand</th><th>positive_rate</th><th>tests_per_case</th><th>tests_units</th><th>total_vaccinations</th><th>people_vaccinated</th><th>people_fully_vaccinated</th><th>total_boosters</th><th>new_vaccinations</th><th>new_vaccinations_smoothed</th><th>total_vaccinations_per_hundred</th><th>people_vaccinated_per_hundred</th><th>people_fully_vaccinated_per_hundred</th><th>total_boosters_per_hundred</th><th>new_vaccinations_smoothed_per_million</th><th>new_people_vaccinated_smoothed</th><th>new_people_vaccinated_smoothed_per_hundred</th><th>stringency_index</th><th>population_density</th><th>median_age</th><th>aged_65_older</th><th>aged_70_older</th><th>gdp_per_capita</th><th>extreme_poverty</th><th>cardiovasc_death_rate</th><th>diabetes_prevalence</th><th>female_smokers</th><th>male_smokers</th><th>handwashing_facilities</th><th>hospital_beds_per_thousand</th><th>life_expectancy</th><th>human_development_index</th><th>population</th><th>excess_mortality_cumulative_absolute</th><th>excess_mortality_cumulative</th><th>excess_mortality</th><th>excess_mortality_cumulative_per_million</th></tr><tr><td>str</td><td>str</td><td>str</td><td>datetime[μs]</td><td>str</td><td>str</td><td>str</td><td>str</td><td>str</td><td>str</td><td>str</td><td>str</td><td>str</td><td>str</td><td>str</td><td>str</td><td>datetime[μs]</td><td>str</td><td>str</td><td>str</td><td>str</td><td>str</td><td>str</td><td>str</td><td>str</td><td>str</td><td>str</td><td>str</td><td>str</td><td>str</td><td>str</td><td>str</td><td>datetime[μs]</td><td>str</td><td>str</td><td>str</td><td>str</td><td>str</td><td>str</td><td>str</td><td>str</td><td>str</td><td>str</td><td>str</td><td>str</td><td>str</td><td>str</td><td>str</td><td>str</td><td>datetime[μs]</td><td>str</td><td>str</td><td>str</td><td>datetime[μs]</td><td>str</td><td>datetime[μs]</td><td>datetime[μs]</td><td>str</td><td>str</td><td>str</td><td>str</td><td>str</td><td>str</td><td>str</td><td>str</td><td>datetime[μs]</td><td>str</td></tr></thead><tbody><tr><td>&quot;AFG&quot;</td><td>&quot;Asia&quot;</td><td>&quot;Afghanistan&quot;</td><td>2020-01-05 00:00:00</td><td>null</td><td>&quot;0.0&quot;</td><td>null</td><td>null</td><td>&quot;0.0&quot;</td><td>null</td><td>null</td><td>&quot;0.0&quot;</td><td>null</td><td>null</td><td>&quot;0.0&quot;</td><td>null</td><td>null</td><td>null</td><td>null</td><td>null</td><td>null</td><td>null</td><td>null</td><td>null</td><td>null</td><td>null</td><td>null</td><td>null</td><td>null</td><td>null</td><td>null</td><td>null</td><td>null</td><td>null</td><td>null</td><td>null</td><td>null</td><td>null</td><td>null</td><td>null</td><td>null</td><td>null</td><td>null</td><td>null</td><td>null</td><td>null</td><td>null</td><td>&quot;0.0&quot;</td><td>&quot;54.422&quot;</td><td>2024-06-18 00:00:00</td><td>&quot;2.581&quot;</td><td>&quot;1.337&quot;</td><td>&quot;1803.987&quot;</td><td>null</td><td>&quot;597.029&quot;</td><td>1959-09-01 00:00:00</td><td>null</td><td>null</td><td>&quot;37.746&quot;</td><td>&quot;0.5&quot;</td><td>&quot;64.83&quot;</td><td>&quot;0.511&quot;</td><td>&quot;41128772.0&quot;</td><td>null</td><td>null</td><td>null</td><td>null</td></tr><tr><td>&quot;AFG&quot;</td><td>&quot;Asia&quot;</td><td>&quot;Afghanistan&quot;</td><td>2020-01-12 00:00:00</td><td>null</td><td>&quot;0.0&quot;</td><td>null</td><td>null</td><td>&quot;0.0&quot;</td><td>null</td><td>null</td><td>&quot;0.0&quot;</td><td>null</td><td>null</td><td>&quot;0.0&quot;</td><td>null</td><td>null</td><td>null</td><td>null</td><td>null</td><td>null</td><td>null</td><td>null</td><td>null</td><td>null</td><td>null</td><td>null</td><td>null</td><td>null</td><td>null</td><td>null</td><td>null</td><td>null</td><td>null</td><td>null</td><td>null</td><td>null</td><td>null</td><td>null</td><td>null</td><td>null</td><td>null</td><td>null</td><td>null</td><td>null</td><td>null</td><td>null</td><td>&quot;0.0&quot;</td><td>&quot;54.422&quot;</td><td>2024-06-18 00:00:00</td><td>&quot;2.581&quot;</td><td>&quot;1.337&quot;</td><td>&quot;1803.987&quot;</td><td>null</td><td>&quot;597.029&quot;</td><td>1959-09-01 00:00:00</td><td>null</td><td>null</td><td>&quot;37.746&quot;</td><td>&quot;0.5&quot;</td><td>&quot;64.83&quot;</td><td>&quot;0.511&quot;</td><td>&quot;41128772.0&quot;</td><td>null</td><td>null</td><td>null</td><td>null</td></tr><tr><td>&quot;AFG&quot;</td><td>&quot;Asia&quot;</td><td>&quot;Afghanistan&quot;</td><td>2020-01-19 00:00:00</td><td>null</td><td>&quot;0.0&quot;</td><td>null</td><td>null</td><td>&quot;0.0&quot;</td><td>null</td><td>null</td><td>&quot;0.0&quot;</td><td>null</td><td>null</td><td>&quot;0.0&quot;</td><td>null</td><td>null</td><td>null</td><td>null</td><td>null</td><td>null</td><td>null</td><td>null</td><td>null</td><td>null</td><td>null</td><td>null</td><td>null</td><td>null</td><td>null</td><td>null</td><td>null</td><td>null</td><td>null</td><td>null</td><td>null</td><td>null</td><td>null</td><td>null</td><td>null</td><td>null</td><td>null</td><td>null</td><td>null</td><td>null</td><td>null</td><td>null</td><td>&quot;0.0&quot;</td><td>&quot;54.422&quot;</td><td>2024-06-18 00:00:00</td><td>&quot;2.581&quot;</td><td>&quot;1.337&quot;</td><td>&quot;1803.987&quot;</td><td>null</td><td>&quot;597.029&quot;</td><td>1959-09-01 00:00:00</td><td>null</td><td>null</td><td>&quot;37.746&quot;</td><td>&quot;0.5&quot;</td><td>&quot;64.83&quot;</td><td>&quot;0.511&quot;</td><td>&quot;41128772.0&quot;</td><td>null</td><td>null</td><td>null</td><td>null</td></tr><tr><td>&quot;AFG&quot;</td><td>&quot;Asia&quot;</td><td>&quot;Afghanistan&quot;</td><td>2020-01-26 00:00:00</td><td>null</td><td>&quot;0.0&quot;</td><td>null</td><td>null</td><td>&quot;0.0&quot;</td><td>null</td><td>null</td><td>&quot;0.0&quot;</td><td>null</td><td>null</td><td>&quot;0.0&quot;</td><td>null</td><td>null</td><td>null</td><td>null</td><td>null</td><td>null</td><td>null</td><td>null</td><td>null</td><td>null</td><td>null</td><td>null</td><td>null</td><td>null</td><td>null</td><td>null</td><td>null</td><td>null</td><td>null</td><td>null</td><td>null</td><td>null</td><td>null</td><td>null</td><td>null</td><td>null</td><td>null</td><td>null</td><td>null</td><td>null</td><td>null</td><td>null</td><td>&quot;0.0&quot;</td><td>&quot;54.422&quot;</td><td>2024-06-18 00:00:00</td><td>&quot;2.581&quot;</td><td>&quot;1.337&quot;</td><td>&quot;1803.987&quot;</td><td>null</td><td>&quot;597.029&quot;</td><td>1959-09-01 00:00:00</td><td>null</td><td>null</td><td>&quot;37.746&quot;</td><td>&quot;0.5&quot;</td><td>&quot;64.83&quot;</td><td>&quot;0.511&quot;</td><td>&quot;41128772.0&quot;</td><td>null</td><td>null</td><td>null</td><td>null</td></tr><tr><td>&quot;AFG&quot;</td><td>&quot;Asia&quot;</td><td>&quot;Afghanistan&quot;</td><td>2020-02-02 00:00:00</td><td>null</td><td>&quot;0.0&quot;</td><td>null</td><td>null</td><td>&quot;0.0&quot;</td><td>null</td><td>null</td><td>&quot;0.0&quot;</td><td>null</td><td>null</td><td>&quot;0.0&quot;</td><td>null</td><td>null</td><td>null</td><td>null</td><td>null</td><td>null</td><td>null</td><td>null</td><td>null</td><td>null</td><td>null</td><td>null</td><td>null</td><td>null</td><td>null</td><td>null</td><td>null</td><td>null</td><td>null</td><td>null</td><td>null</td><td>null</td><td>null</td><td>null</td><td>null</td><td>null</td><td>null</td><td>null</td><td>null</td><td>null</td><td>null</td><td>null</td><td>&quot;0.0&quot;</td><td>&quot;54.422&quot;</td><td>2024-06-18 00:00:00</td><td>&quot;2.581&quot;</td><td>&quot;1.337&quot;</td><td>&quot;1803.987&quot;</td><td>null</td><td>&quot;597.029&quot;</td><td>1959-09-01 00:00:00</td><td>null</td><td>null</td><td>&quot;37.746&quot;</td><td>&quot;0.5&quot;</td><td>&quot;64.83&quot;</td><td>&quot;0.511&quot;</td><td>&quot;41128772.0&quot;</td><td>null</td><td>null</td><td>null</td><td>null</td></tr></tbody></table></div>"
      ],
      "text/plain": [
       "shape: (5, 67)\n",
       "┌──────────┬───────────┬───────────┬───────────┬───┬───────────┬───────────┬───────────┬───────────┐\n",
       "│ iso_code ┆ continent ┆ location  ┆ date      ┆ … ┆ excess_mo ┆ excess_mo ┆ excess_mo ┆ excess_mo │\n",
       "│ ---      ┆ ---       ┆ ---       ┆ ---       ┆   ┆ rtality_c ┆ rtality_c ┆ rtality   ┆ rtality_c │\n",
       "│ str      ┆ str       ┆ str       ┆ datetime[ ┆   ┆ umulative ┆ umulative ┆ ---       ┆ umulative │\n",
       "│          ┆           ┆           ┆ μs]       ┆   ┆ _abso…    ┆ ---       ┆ datetime[ ┆ _per_…    │\n",
       "│          ┆           ┆           ┆           ┆   ┆ ---       ┆ str       ┆ μs]       ┆ ---       │\n",
       "│          ┆           ┆           ┆           ┆   ┆ str       ┆           ┆           ┆ str       │\n",
       "╞══════════╪═══════════╪═══════════╪═══════════╪═══╪═══════════╪═══════════╪═══════════╪═══════════╡\n",
       "│ AFG      ┆ Asia      ┆ Afghanist ┆ 2020-01-0 ┆ … ┆ null      ┆ null      ┆ null      ┆ null      │\n",
       "│          ┆           ┆ an        ┆ 5         ┆   ┆           ┆           ┆           ┆           │\n",
       "│          ┆           ┆           ┆ 00:00:00  ┆   ┆           ┆           ┆           ┆           │\n",
       "│ AFG      ┆ Asia      ┆ Afghanist ┆ 2020-01-1 ┆ … ┆ null      ┆ null      ┆ null      ┆ null      │\n",
       "│          ┆           ┆ an        ┆ 2         ┆   ┆           ┆           ┆           ┆           │\n",
       "│          ┆           ┆           ┆ 00:00:00  ┆   ┆           ┆           ┆           ┆           │\n",
       "│ AFG      ┆ Asia      ┆ Afghanist ┆ 2020-01-1 ┆ … ┆ null      ┆ null      ┆ null      ┆ null      │\n",
       "│          ┆           ┆ an        ┆ 9         ┆   ┆           ┆           ┆           ┆           │\n",
       "│          ┆           ┆           ┆ 00:00:00  ┆   ┆           ┆           ┆           ┆           │\n",
       "│ AFG      ┆ Asia      ┆ Afghanist ┆ 2020-01-2 ┆ … ┆ null      ┆ null      ┆ null      ┆ null      │\n",
       "│          ┆           ┆ an        ┆ 6         ┆   ┆           ┆           ┆           ┆           │\n",
       "│          ┆           ┆           ┆ 00:00:00  ┆   ┆           ┆           ┆           ┆           │\n",
       "│ AFG      ┆ Asia      ┆ Afghanist ┆ 2020-02-0 ┆ … ┆ null      ┆ null      ┆ null      ┆ null      │\n",
       "│          ┆           ┆ an        ┆ 2         ┆   ┆           ┆           ┆           ┆           │\n",
       "│          ┆           ┆           ┆ 00:00:00  ┆   ┆           ┆           ┆           ┆           │\n",
       "└──────────┴───────────┴───────────┴───────────┴───┴───────────┴───────────┴───────────┴───────────┘"
      ]
     },
     "execution_count": 10,
     "metadata": {},
     "output_type": "execute_result"
    }
   ],
   "source": [
    "%%time\n",
    "scan_openpyxl().head()"
   ]
  },
  {
   "cell_type": "code",
   "execution_count": 10,
   "metadata": {
    "notebookRunGroups": {
     "groupValue": "2"
    }
   },
   "outputs": [
    {
     "name": "stdout",
     "output_type": "stream",
     "text": [
      "CPU times: total: 2min 33s\n",
      "Wall time: 2min 43s\n"
     ]
    },
    {
     "data": {
      "text/html": [
       "<div><style>\n",
       ".dataframe > thead > tr,\n",
       ".dataframe > tbody > tr {\n",
       "  text-align: right;\n",
       "  white-space: pre-wrap;\n",
       "}\n",
       "</style>\n",
       "<small>shape: (5, 67)</small><table border=\"1\" class=\"dataframe\"><thead><tr><th>iso_code</th><th>continent</th><th>location</th><th>date</th><th>total_cases</th><th>new_cases</th><th>new_cases_smoothed</th><th>total_deaths</th><th>new_deaths</th><th>new_deaths_smoothed</th><th>total_cases_per_million</th><th>new_cases_per_million</th><th>new_cases_smoothed_per_million</th><th>total_deaths_per_million</th><th>new_deaths_per_million</th><th>new_deaths_smoothed_per_million</th><th>reproduction_rate</th><th>icu_patients</th><th>icu_patients_per_million</th><th>hosp_patients</th><th>hosp_patients_per_million</th><th>weekly_icu_admissions</th><th>weekly_icu_admissions_per_million</th><th>weekly_hosp_admissions</th><th>weekly_hosp_admissions_per_million</th><th>total_tests</th><th>new_tests</th><th>total_tests_per_thousand</th><th>new_tests_per_thousand</th><th>new_tests_smoothed</th><th>new_tests_smoothed_per_thousand</th><th>positive_rate</th><th>tests_per_case</th><th>tests_units</th><th>total_vaccinations</th><th>people_vaccinated</th><th>people_fully_vaccinated</th><th>total_boosters</th><th>new_vaccinations</th><th>new_vaccinations_smoothed</th><th>total_vaccinations_per_hundred</th><th>people_vaccinated_per_hundred</th><th>people_fully_vaccinated_per_hundred</th><th>total_boosters_per_hundred</th><th>new_vaccinations_smoothed_per_million</th><th>new_people_vaccinated_smoothed</th><th>new_people_vaccinated_smoothed_per_hundred</th><th>stringency_index</th><th>population_density</th><th>median_age</th><th>aged_65_older</th><th>aged_70_older</th><th>gdp_per_capita</th><th>extreme_poverty</th><th>cardiovasc_death_rate</th><th>diabetes_prevalence</th><th>female_smokers</th><th>male_smokers</th><th>handwashing_facilities</th><th>hospital_beds_per_thousand</th><th>life_expectancy</th><th>human_development_index</th><th>population</th><th>excess_mortality_cumulative_absolute</th><th>excess_mortality_cumulative</th><th>excess_mortality</th><th>excess_mortality_cumulative_per_million</th></tr><tr><td>str</td><td>str</td><td>str</td><td>f64</td><td>str</td><td>str</td><td>str</td><td>str</td><td>str</td><td>str</td><td>str</td><td>str</td><td>str</td><td>str</td><td>str</td><td>str</td><td>str</td><td>str</td><td>str</td><td>str</td><td>str</td><td>str</td><td>str</td><td>str</td><td>str</td><td>str</td><td>str</td><td>str</td><td>str</td><td>str</td><td>str</td><td>str</td><td>str</td><td>str</td><td>str</td><td>str</td><td>str</td><td>str</td><td>str</td><td>str</td><td>str</td><td>str</td><td>str</td><td>str</td><td>str</td><td>str</td><td>str</td><td>str</td><td>str</td><td>str</td><td>str</td><td>str</td><td>str</td><td>str</td><td>str</td><td>str</td><td>str</td><td>str</td><td>str</td><td>str</td><td>str</td><td>str</td><td>str</td><td>str</td><td>str</td><td>str</td><td>str</td></tr></thead><tbody><tr><td>&quot;AFG&quot;</td><td>&quot;Asia&quot;</td><td>&quot;Afghanistan&quot;</td><td>43835.0</td><td>null</td><td>&quot;0.0&quot;</td><td>null</td><td>null</td><td>&quot;0.0&quot;</td><td>null</td><td>null</td><td>&quot;0.0&quot;</td><td>null</td><td>null</td><td>&quot;0.0&quot;</td><td>null</td><td>null</td><td>null</td><td>null</td><td>null</td><td>null</td><td>null</td><td>null</td><td>null</td><td>null</td><td>null</td><td>null</td><td>null</td><td>null</td><td>null</td><td>null</td><td>null</td><td>null</td><td>null</td><td>null</td><td>null</td><td>null</td><td>null</td><td>null</td><td>null</td><td>null</td><td>null</td><td>null</td><td>null</td><td>null</td><td>null</td><td>null</td><td>&quot;0.0&quot;</td><td>&quot;54.422&quot;</td><td>null</td><td>&quot;2.581&quot;</td><td>&quot;1.337&quot;</td><td>&quot;1803.987&quot;</td><td>null</td><td>&quot;597.029&quot;</td><td>null</td><td>null</td><td>null</td><td>&quot;37.746&quot;</td><td>&quot;0.5&quot;</td><td>&quot;64.83&quot;</td><td>&quot;0.511&quot;</td><td>&quot;41128772.0&quot;</td><td>null</td><td>null</td><td>null</td><td>null</td></tr><tr><td>&quot;AFG&quot;</td><td>&quot;Asia&quot;</td><td>&quot;Afghanistan&quot;</td><td>43842.0</td><td>null</td><td>&quot;0.0&quot;</td><td>null</td><td>null</td><td>&quot;0.0&quot;</td><td>null</td><td>null</td><td>&quot;0.0&quot;</td><td>null</td><td>null</td><td>&quot;0.0&quot;</td><td>null</td><td>null</td><td>null</td><td>null</td><td>null</td><td>null</td><td>null</td><td>null</td><td>null</td><td>null</td><td>null</td><td>null</td><td>null</td><td>null</td><td>null</td><td>null</td><td>null</td><td>null</td><td>null</td><td>null</td><td>null</td><td>null</td><td>null</td><td>null</td><td>null</td><td>null</td><td>null</td><td>null</td><td>null</td><td>null</td><td>null</td><td>null</td><td>&quot;0.0&quot;</td><td>&quot;54.422&quot;</td><td>null</td><td>&quot;2.581&quot;</td><td>&quot;1.337&quot;</td><td>&quot;1803.987&quot;</td><td>null</td><td>&quot;597.029&quot;</td><td>null</td><td>null</td><td>null</td><td>&quot;37.746&quot;</td><td>&quot;0.5&quot;</td><td>&quot;64.83&quot;</td><td>&quot;0.511&quot;</td><td>&quot;41128772.0&quot;</td><td>null</td><td>null</td><td>null</td><td>null</td></tr><tr><td>&quot;AFG&quot;</td><td>&quot;Asia&quot;</td><td>&quot;Afghanistan&quot;</td><td>43849.0</td><td>null</td><td>&quot;0.0&quot;</td><td>null</td><td>null</td><td>&quot;0.0&quot;</td><td>null</td><td>null</td><td>&quot;0.0&quot;</td><td>null</td><td>null</td><td>&quot;0.0&quot;</td><td>null</td><td>null</td><td>null</td><td>null</td><td>null</td><td>null</td><td>null</td><td>null</td><td>null</td><td>null</td><td>null</td><td>null</td><td>null</td><td>null</td><td>null</td><td>null</td><td>null</td><td>null</td><td>null</td><td>null</td><td>null</td><td>null</td><td>null</td><td>null</td><td>null</td><td>null</td><td>null</td><td>null</td><td>null</td><td>null</td><td>null</td><td>null</td><td>&quot;0.0&quot;</td><td>&quot;54.422&quot;</td><td>null</td><td>&quot;2.581&quot;</td><td>&quot;1.337&quot;</td><td>&quot;1803.987&quot;</td><td>null</td><td>&quot;597.029&quot;</td><td>null</td><td>null</td><td>null</td><td>&quot;37.746&quot;</td><td>&quot;0.5&quot;</td><td>&quot;64.83&quot;</td><td>&quot;0.511&quot;</td><td>&quot;41128772.0&quot;</td><td>null</td><td>null</td><td>null</td><td>null</td></tr><tr><td>&quot;AFG&quot;</td><td>&quot;Asia&quot;</td><td>&quot;Afghanistan&quot;</td><td>43856.0</td><td>null</td><td>&quot;0.0&quot;</td><td>null</td><td>null</td><td>&quot;0.0&quot;</td><td>null</td><td>null</td><td>&quot;0.0&quot;</td><td>null</td><td>null</td><td>&quot;0.0&quot;</td><td>null</td><td>null</td><td>null</td><td>null</td><td>null</td><td>null</td><td>null</td><td>null</td><td>null</td><td>null</td><td>null</td><td>null</td><td>null</td><td>null</td><td>null</td><td>null</td><td>null</td><td>null</td><td>null</td><td>null</td><td>null</td><td>null</td><td>null</td><td>null</td><td>null</td><td>null</td><td>null</td><td>null</td><td>null</td><td>null</td><td>null</td><td>null</td><td>&quot;0.0&quot;</td><td>&quot;54.422&quot;</td><td>null</td><td>&quot;2.581&quot;</td><td>&quot;1.337&quot;</td><td>&quot;1803.987&quot;</td><td>null</td><td>&quot;597.029&quot;</td><td>null</td><td>null</td><td>null</td><td>&quot;37.746&quot;</td><td>&quot;0.5&quot;</td><td>&quot;64.83&quot;</td><td>&quot;0.511&quot;</td><td>&quot;41128772.0&quot;</td><td>null</td><td>null</td><td>null</td><td>null</td></tr><tr><td>&quot;AFG&quot;</td><td>&quot;Asia&quot;</td><td>&quot;Afghanistan&quot;</td><td>43863.0</td><td>null</td><td>&quot;0.0&quot;</td><td>null</td><td>null</td><td>&quot;0.0&quot;</td><td>null</td><td>null</td><td>&quot;0.0&quot;</td><td>null</td><td>null</td><td>&quot;0.0&quot;</td><td>null</td><td>null</td><td>null</td><td>null</td><td>null</td><td>null</td><td>null</td><td>null</td><td>null</td><td>null</td><td>null</td><td>null</td><td>null</td><td>null</td><td>null</td><td>null</td><td>null</td><td>null</td><td>null</td><td>null</td><td>null</td><td>null</td><td>null</td><td>null</td><td>null</td><td>null</td><td>null</td><td>null</td><td>null</td><td>null</td><td>null</td><td>null</td><td>&quot;0.0&quot;</td><td>&quot;54.422&quot;</td><td>null</td><td>&quot;2.581&quot;</td><td>&quot;1.337&quot;</td><td>&quot;1803.987&quot;</td><td>null</td><td>&quot;597.029&quot;</td><td>null</td><td>null</td><td>null</td><td>&quot;37.746&quot;</td><td>&quot;0.5&quot;</td><td>&quot;64.83&quot;</td><td>&quot;0.511&quot;</td><td>&quot;41128772.0&quot;</td><td>null</td><td>null</td><td>null</td><td>null</td></tr></tbody></table></div>"
      ],
      "text/plain": [
       "shape: (5, 67)\n",
       "┌──────────┬───────────┬────────────┬─────────┬───┬────────────┬───────────┬───────────┬───────────┐\n",
       "│ iso_code ┆ continent ┆ location   ┆ date    ┆ … ┆ excess_mor ┆ excess_mo ┆ excess_mo ┆ excess_mo │\n",
       "│ ---      ┆ ---       ┆ ---        ┆ ---     ┆   ┆ tality_cum ┆ rtality_c ┆ rtality   ┆ rtality_c │\n",
       "│ str      ┆ str       ┆ str        ┆ f64     ┆   ┆ ulative_ab ┆ umulative ┆ ---       ┆ umulative │\n",
       "│          ┆           ┆            ┆         ┆   ┆ so…        ┆ ---       ┆ str       ┆ _per_…    │\n",
       "│          ┆           ┆            ┆         ┆   ┆ ---        ┆ str       ┆           ┆ ---       │\n",
       "│          ┆           ┆            ┆         ┆   ┆ str        ┆           ┆           ┆ str       │\n",
       "╞══════════╪═══════════╪════════════╪═════════╪═══╪════════════╪═══════════╪═══════════╪═══════════╡\n",
       "│ AFG      ┆ Asia      ┆ Afghanista ┆ 43835.0 ┆ … ┆ null       ┆ null      ┆ null      ┆ null      │\n",
       "│          ┆           ┆ n          ┆         ┆   ┆            ┆           ┆           ┆           │\n",
       "│ AFG      ┆ Asia      ┆ Afghanista ┆ 43842.0 ┆ … ┆ null       ┆ null      ┆ null      ┆ null      │\n",
       "│          ┆           ┆ n          ┆         ┆   ┆            ┆           ┆           ┆           │\n",
       "│ AFG      ┆ Asia      ┆ Afghanista ┆ 43849.0 ┆ … ┆ null       ┆ null      ┆ null      ┆ null      │\n",
       "│          ┆           ┆ n          ┆         ┆   ┆            ┆           ┆           ┆           │\n",
       "│ AFG      ┆ Asia      ┆ Afghanista ┆ 43856.0 ┆ … ┆ null       ┆ null      ┆ null      ┆ null      │\n",
       "│          ┆           ┆ n          ┆         ┆   ┆            ┆           ┆           ┆           │\n",
       "│ AFG      ┆ Asia      ┆ Afghanista ┆ 43863.0 ┆ … ┆ null       ┆ null      ┆ null      ┆ null      │\n",
       "│          ┆           ┆ n          ┆         ┆   ┆            ┆           ┆           ┆           │\n",
       "└──────────┴───────────┴────────────┴─────────┴───┴────────────┴───────────┴───────────┴───────────┘"
      ]
     },
     "execution_count": 10,
     "metadata": {},
     "output_type": "execute_result"
    }
   ],
   "source": [
    "%%time\n",
    "scan_pyxlsb().head()"
   ]
  },
  {
   "cell_type": "code",
   "execution_count": 10,
   "metadata": {},
   "outputs": [
    {
     "name": "stdout",
     "output_type": "stream",
     "text": [
      "CPU times: total: 18.3 s\n",
      "Wall time: 21.3 s\n"
     ]
    },
    {
     "data": {
      "text/html": [
       "<div><style>\n",
       ".dataframe > thead > tr,\n",
       ".dataframe > tbody > tr {\n",
       "  text-align: right;\n",
       "  white-space: pre-wrap;\n",
       "}\n",
       "</style>\n",
       "<small>shape: (5, 67)</small><table border=\"1\" class=\"dataframe\"><thead><tr><th>iso_code</th><th>continent</th><th>location</th><th>date</th><th>total_cases</th><th>new_cases</th><th>new_cases_smoothed</th><th>total_deaths</th><th>new_deaths</th><th>new_deaths_smoothed</th><th>total_cases_per_million</th><th>new_cases_per_million</th><th>new_cases_smoothed_per_million</th><th>total_deaths_per_million</th><th>new_deaths_per_million</th><th>new_deaths_smoothed_per_million</th><th>reproduction_rate</th><th>icu_patients</th><th>icu_patients_per_million</th><th>hosp_patients</th><th>hosp_patients_per_million</th><th>weekly_icu_admissions</th><th>weekly_icu_admissions_per_million</th><th>weekly_hosp_admissions</th><th>weekly_hosp_admissions_per_million</th><th>total_tests</th><th>new_tests</th><th>total_tests_per_thousand</th><th>new_tests_per_thousand</th><th>new_tests_smoothed</th><th>new_tests_smoothed_per_thousand</th><th>positive_rate</th><th>tests_per_case</th><th>tests_units</th><th>total_vaccinations</th><th>people_vaccinated</th><th>people_fully_vaccinated</th><th>total_boosters</th><th>new_vaccinations</th><th>new_vaccinations_smoothed</th><th>total_vaccinations_per_hundred</th><th>people_vaccinated_per_hundred</th><th>people_fully_vaccinated_per_hundred</th><th>total_boosters_per_hundred</th><th>new_vaccinations_smoothed_per_million</th><th>new_people_vaccinated_smoothed</th><th>new_people_vaccinated_smoothed_per_hundred</th><th>stringency_index</th><th>population_density</th><th>median_age</th><th>aged_65_older</th><th>aged_70_older</th><th>gdp_per_capita</th><th>extreme_poverty</th><th>cardiovasc_death_rate</th><th>diabetes_prevalence</th><th>female_smokers</th><th>male_smokers</th><th>handwashing_facilities</th><th>hospital_beds_per_thousand</th><th>life_expectancy</th><th>human_development_index</th><th>population</th><th>excess_mortality_cumulative_absolute</th><th>excess_mortality_cumulative</th><th>excess_mortality</th><th>excess_mortality_cumulative_per_million</th></tr><tr><td>str</td><td>str</td><td>str</td><td>str</td><td>str</td><td>str</td><td>str</td><td>str</td><td>str</td><td>str</td><td>str</td><td>str</td><td>str</td><td>str</td><td>str</td><td>str</td><td>str</td><td>str</td><td>str</td><td>str</td><td>str</td><td>str</td><td>str</td><td>str</td><td>str</td><td>str</td><td>str</td><td>str</td><td>str</td><td>str</td><td>str</td><td>str</td><td>str</td><td>str</td><td>str</td><td>str</td><td>str</td><td>str</td><td>str</td><td>str</td><td>str</td><td>str</td><td>str</td><td>str</td><td>str</td><td>str</td><td>str</td><td>str</td><td>str</td><td>str</td><td>str</td><td>str</td><td>str</td><td>str</td><td>str</td><td>str</td><td>str</td><td>str</td><td>str</td><td>str</td><td>str</td><td>str</td><td>str</td><td>str</td><td>str</td><td>str</td><td>str</td></tr></thead><tbody><tr><td>&quot;AFG&quot;</td><td>&quot;Asia&quot;</td><td>&quot;Afghanistan&quot;</td><td>&quot;2020-01-05&quot;</td><td>null</td><td>&quot;0.0&quot;</td><td>null</td><td>null</td><td>&quot;0.0&quot;</td><td>null</td><td>null</td><td>&quot;0.0&quot;</td><td>null</td><td>null</td><td>&quot;0.0&quot;</td><td>null</td><td>null</td><td>null</td><td>null</td><td>null</td><td>null</td><td>null</td><td>null</td><td>null</td><td>null</td><td>null</td><td>null</td><td>null</td><td>null</td><td>null</td><td>null</td><td>null</td><td>null</td><td>null</td><td>null</td><td>null</td><td>null</td><td>null</td><td>null</td><td>null</td><td>null</td><td>null</td><td>null</td><td>null</td><td>null</td><td>null</td><td>null</td><td>&quot;0.0&quot;</td><td>&quot;54.422&quot;</td><td>&quot;2024-06-18&quot;</td><td>&quot;2.581&quot;</td><td>&quot;1.337&quot;</td><td>&quot;1803.987&quot;</td><td>null</td><td>&quot;597.029&quot;</td><td>&quot;1959-09-01&quot;</td><td>null</td><td>null</td><td>&quot;37.746&quot;</td><td>&quot;0.5&quot;</td><td>&quot;64.83&quot;</td><td>&quot;0.511&quot;</td><td>&quot;41128772.0&quot;</td><td>null</td><td>null</td><td>null</td><td>null</td></tr><tr><td>&quot;AFG&quot;</td><td>&quot;Asia&quot;</td><td>&quot;Afghanistan&quot;</td><td>&quot;2020-01-12&quot;</td><td>null</td><td>&quot;0.0&quot;</td><td>null</td><td>null</td><td>&quot;0.0&quot;</td><td>null</td><td>null</td><td>&quot;0.0&quot;</td><td>null</td><td>null</td><td>&quot;0.0&quot;</td><td>null</td><td>null</td><td>null</td><td>null</td><td>null</td><td>null</td><td>null</td><td>null</td><td>null</td><td>null</td><td>null</td><td>null</td><td>null</td><td>null</td><td>null</td><td>null</td><td>null</td><td>null</td><td>null</td><td>null</td><td>null</td><td>null</td><td>null</td><td>null</td><td>null</td><td>null</td><td>null</td><td>null</td><td>null</td><td>null</td><td>null</td><td>null</td><td>&quot;0.0&quot;</td><td>&quot;54.422&quot;</td><td>&quot;2024-06-18&quot;</td><td>&quot;2.581&quot;</td><td>&quot;1.337&quot;</td><td>&quot;1803.987&quot;</td><td>null</td><td>&quot;597.029&quot;</td><td>&quot;1959-09-01&quot;</td><td>null</td><td>null</td><td>&quot;37.746&quot;</td><td>&quot;0.5&quot;</td><td>&quot;64.83&quot;</td><td>&quot;0.511&quot;</td><td>&quot;41128772.0&quot;</td><td>null</td><td>null</td><td>null</td><td>null</td></tr><tr><td>&quot;AFG&quot;</td><td>&quot;Asia&quot;</td><td>&quot;Afghanistan&quot;</td><td>&quot;2020-01-19&quot;</td><td>null</td><td>&quot;0.0&quot;</td><td>null</td><td>null</td><td>&quot;0.0&quot;</td><td>null</td><td>null</td><td>&quot;0.0&quot;</td><td>null</td><td>null</td><td>&quot;0.0&quot;</td><td>null</td><td>null</td><td>null</td><td>null</td><td>null</td><td>null</td><td>null</td><td>null</td><td>null</td><td>null</td><td>null</td><td>null</td><td>null</td><td>null</td><td>null</td><td>null</td><td>null</td><td>null</td><td>null</td><td>null</td><td>null</td><td>null</td><td>null</td><td>null</td><td>null</td><td>null</td><td>null</td><td>null</td><td>null</td><td>null</td><td>null</td><td>null</td><td>&quot;0.0&quot;</td><td>&quot;54.422&quot;</td><td>&quot;2024-06-18&quot;</td><td>&quot;2.581&quot;</td><td>&quot;1.337&quot;</td><td>&quot;1803.987&quot;</td><td>null</td><td>&quot;597.029&quot;</td><td>&quot;1959-09-01&quot;</td><td>null</td><td>null</td><td>&quot;37.746&quot;</td><td>&quot;0.5&quot;</td><td>&quot;64.83&quot;</td><td>&quot;0.511&quot;</td><td>&quot;41128772.0&quot;</td><td>null</td><td>null</td><td>null</td><td>null</td></tr><tr><td>&quot;AFG&quot;</td><td>&quot;Asia&quot;</td><td>&quot;Afghanistan&quot;</td><td>&quot;2020-01-26&quot;</td><td>null</td><td>&quot;0.0&quot;</td><td>null</td><td>null</td><td>&quot;0.0&quot;</td><td>null</td><td>null</td><td>&quot;0.0&quot;</td><td>null</td><td>null</td><td>&quot;0.0&quot;</td><td>null</td><td>null</td><td>null</td><td>null</td><td>null</td><td>null</td><td>null</td><td>null</td><td>null</td><td>null</td><td>null</td><td>null</td><td>null</td><td>null</td><td>null</td><td>null</td><td>null</td><td>null</td><td>null</td><td>null</td><td>null</td><td>null</td><td>null</td><td>null</td><td>null</td><td>null</td><td>null</td><td>null</td><td>null</td><td>null</td><td>null</td><td>null</td><td>&quot;0.0&quot;</td><td>&quot;54.422&quot;</td><td>&quot;2024-06-18&quot;</td><td>&quot;2.581&quot;</td><td>&quot;1.337&quot;</td><td>&quot;1803.987&quot;</td><td>null</td><td>&quot;597.029&quot;</td><td>&quot;1959-09-01&quot;</td><td>null</td><td>null</td><td>&quot;37.746&quot;</td><td>&quot;0.5&quot;</td><td>&quot;64.83&quot;</td><td>&quot;0.511&quot;</td><td>&quot;41128772.0&quot;</td><td>null</td><td>null</td><td>null</td><td>null</td></tr><tr><td>&quot;AFG&quot;</td><td>&quot;Asia&quot;</td><td>&quot;Afghanistan&quot;</td><td>&quot;2020-02-02&quot;</td><td>null</td><td>&quot;0.0&quot;</td><td>null</td><td>null</td><td>&quot;0.0&quot;</td><td>null</td><td>null</td><td>&quot;0.0&quot;</td><td>null</td><td>null</td><td>&quot;0.0&quot;</td><td>null</td><td>null</td><td>null</td><td>null</td><td>null</td><td>null</td><td>null</td><td>null</td><td>null</td><td>null</td><td>null</td><td>null</td><td>null</td><td>null</td><td>null</td><td>null</td><td>null</td><td>null</td><td>null</td><td>null</td><td>null</td><td>null</td><td>null</td><td>null</td><td>null</td><td>null</td><td>null</td><td>null</td><td>null</td><td>null</td><td>null</td><td>null</td><td>&quot;0.0&quot;</td><td>&quot;54.422&quot;</td><td>&quot;2024-06-18&quot;</td><td>&quot;2.581&quot;</td><td>&quot;1.337&quot;</td><td>&quot;1803.987&quot;</td><td>null</td><td>&quot;597.029&quot;</td><td>&quot;1959-09-01&quot;</td><td>null</td><td>null</td><td>&quot;37.746&quot;</td><td>&quot;0.5&quot;</td><td>&quot;64.83&quot;</td><td>&quot;0.511&quot;</td><td>&quot;41128772.0&quot;</td><td>null</td><td>null</td><td>null</td><td>null</td></tr></tbody></table></div>"
      ],
      "text/plain": [
       "shape: (5, 67)\n",
       "┌──────────┬───────────┬───────────┬───────────┬───┬───────────┬───────────┬───────────┬───────────┐\n",
       "│ iso_code ┆ continent ┆ location  ┆ date      ┆ … ┆ excess_mo ┆ excess_mo ┆ excess_mo ┆ excess_mo │\n",
       "│ ---      ┆ ---       ┆ ---       ┆ ---       ┆   ┆ rtality_c ┆ rtality_c ┆ rtality   ┆ rtality_c │\n",
       "│ str      ┆ str       ┆ str       ┆ str       ┆   ┆ umulative ┆ umulative ┆ ---       ┆ umulative │\n",
       "│          ┆           ┆           ┆           ┆   ┆ _abso…    ┆ ---       ┆ str       ┆ _per_…    │\n",
       "│          ┆           ┆           ┆           ┆   ┆ ---       ┆ str       ┆           ┆ ---       │\n",
       "│          ┆           ┆           ┆           ┆   ┆ str       ┆           ┆           ┆ str       │\n",
       "╞══════════╪═══════════╪═══════════╪═══════════╪═══╪═══════════╪═══════════╪═══════════╪═══════════╡\n",
       "│ AFG      ┆ Asia      ┆ Afghanist ┆ 2020-01-0 ┆ … ┆ null      ┆ null      ┆ null      ┆ null      │\n",
       "│          ┆           ┆ an        ┆ 5         ┆   ┆           ┆           ┆           ┆           │\n",
       "│ AFG      ┆ Asia      ┆ Afghanist ┆ 2020-01-1 ┆ … ┆ null      ┆ null      ┆ null      ┆ null      │\n",
       "│          ┆           ┆ an        ┆ 2         ┆   ┆           ┆           ┆           ┆           │\n",
       "│ AFG      ┆ Asia      ┆ Afghanist ┆ 2020-01-1 ┆ … ┆ null      ┆ null      ┆ null      ┆ null      │\n",
       "│          ┆           ┆ an        ┆ 9         ┆   ┆           ┆           ┆           ┆           │\n",
       "│ AFG      ┆ Asia      ┆ Afghanist ┆ 2020-01-2 ┆ … ┆ null      ┆ null      ┆ null      ┆ null      │\n",
       "│          ┆           ┆ an        ┆ 6         ┆   ┆           ┆           ┆           ┆           │\n",
       "│ AFG      ┆ Asia      ┆ Afghanist ┆ 2020-02-0 ┆ … ┆ null      ┆ null      ┆ null      ┆ null      │\n",
       "│          ┆           ┆ an        ┆ 2         ┆   ┆           ┆           ┆           ┆           │\n",
       "└──────────┴───────────┴───────────┴───────────┴───┴───────────┴───────────┴───────────┴───────────┘"
      ]
     },
     "execution_count": 10,
     "metadata": {},
     "output_type": "execute_result"
    }
   ],
   "source": [
    "%%time\n",
    "scan_calamine(XLSB_FILE).head()"
   ]
  },
  {
   "cell_type": "code",
   "execution_count": 10,
   "metadata": {
    "notebookRunGroups": {
     "groupValue": "2"
    }
   },
   "outputs": [
    {
     "name": "stdout",
     "output_type": "stream",
     "text": [
      "CPU times: total: 33.9 s\n",
      "Wall time: 36.5 s\n"
     ]
    },
    {
     "data": {
      "text/html": [
       "<div><style>\n",
       ".dataframe > thead > tr,\n",
       ".dataframe > tbody > tr {\n",
       "  text-align: right;\n",
       "  white-space: pre-wrap;\n",
       "}\n",
       "</style>\n",
       "<small>shape: (5, 67)</small><table border=\"1\" class=\"dataframe\"><thead><tr><th>iso_code</th><th>continent</th><th>location</th><th>date</th><th>total_cases</th><th>new_cases</th><th>new_cases_smoothed</th><th>total_deaths</th><th>new_deaths</th><th>new_deaths_smoothed</th><th>total_cases_per_million</th><th>new_cases_per_million</th><th>new_cases_smoothed_per_million</th><th>total_deaths_per_million</th><th>new_deaths_per_million</th><th>new_deaths_smoothed_per_million</th><th>reproduction_rate</th><th>icu_patients</th><th>icu_patients_per_million</th><th>hosp_patients</th><th>hosp_patients_per_million</th><th>weekly_icu_admissions</th><th>weekly_icu_admissions_per_million</th><th>weekly_hosp_admissions</th><th>weekly_hosp_admissions_per_million</th><th>total_tests</th><th>new_tests</th><th>total_tests_per_thousand</th><th>new_tests_per_thousand</th><th>new_tests_smoothed</th><th>new_tests_smoothed_per_thousand</th><th>positive_rate</th><th>tests_per_case</th><th>tests_units</th><th>total_vaccinations</th><th>people_vaccinated</th><th>people_fully_vaccinated</th><th>total_boosters</th><th>new_vaccinations</th><th>new_vaccinations_smoothed</th><th>total_vaccinations_per_hundred</th><th>people_vaccinated_per_hundred</th><th>people_fully_vaccinated_per_hundred</th><th>total_boosters_per_hundred</th><th>new_vaccinations_smoothed_per_million</th><th>new_people_vaccinated_smoothed</th><th>new_people_vaccinated_smoothed_per_hundred</th><th>stringency_index</th><th>population_density</th><th>median_age</th><th>aged_65_older</th><th>aged_70_older</th><th>gdp_per_capita</th><th>extreme_poverty</th><th>cardiovasc_death_rate</th><th>diabetes_prevalence</th><th>female_smokers</th><th>male_smokers</th><th>handwashing_facilities</th><th>hospital_beds_per_thousand</th><th>life_expectancy</th><th>human_development_index</th><th>population</th><th>excess_mortality_cumulative_absolute</th><th>excess_mortality_cumulative</th><th>excess_mortality</th><th>excess_mortality_cumulative_per_million</th></tr><tr><td>str</td><td>str</td><td>str</td><td>str</td><td>str</td><td>str</td><td>str</td><td>str</td><td>str</td><td>str</td><td>str</td><td>str</td><td>str</td><td>str</td><td>str</td><td>str</td><td>str</td><td>str</td><td>str</td><td>str</td><td>str</td><td>str</td><td>str</td><td>str</td><td>str</td><td>str</td><td>str</td><td>str</td><td>str</td><td>str</td><td>str</td><td>str</td><td>str</td><td>str</td><td>str</td><td>str</td><td>str</td><td>str</td><td>str</td><td>str</td><td>str</td><td>str</td><td>str</td><td>str</td><td>str</td><td>str</td><td>str</td><td>str</td><td>str</td><td>str</td><td>str</td><td>str</td><td>str</td><td>str</td><td>str</td><td>str</td><td>str</td><td>str</td><td>str</td><td>str</td><td>str</td><td>str</td><td>str</td><td>str</td><td>str</td><td>str</td><td>str</td></tr></thead><tbody><tr><td>&quot;AFG&quot;</td><td>&quot;Asia&quot;</td><td>&quot;Afghanistan&quot;</td><td>&quot;2020-01-05&quot;</td><td>null</td><td>&quot;0.0&quot;</td><td>null</td><td>null</td><td>&quot;0.0&quot;</td><td>null</td><td>null</td><td>&quot;0.0&quot;</td><td>null</td><td>null</td><td>&quot;0.0&quot;</td><td>null</td><td>null</td><td>null</td><td>null</td><td>null</td><td>null</td><td>null</td><td>null</td><td>null</td><td>null</td><td>null</td><td>null</td><td>null</td><td>null</td><td>null</td><td>null</td><td>null</td><td>null</td><td>null</td><td>null</td><td>null</td><td>null</td><td>null</td><td>null</td><td>null</td><td>null</td><td>null</td><td>null</td><td>null</td><td>null</td><td>null</td><td>null</td><td>&quot;0.0&quot;</td><td>&quot;54.422&quot;</td><td>&quot;2024-06-18&quot;</td><td>&quot;2.581&quot;</td><td>&quot;1.337&quot;</td><td>&quot;1803.987&quot;</td><td>null</td><td>&quot;597.029&quot;</td><td>&quot;1959-09-01&quot;</td><td>null</td><td>null</td><td>&quot;37.746&quot;</td><td>&quot;0.5&quot;</td><td>&quot;64.83&quot;</td><td>&quot;0.511&quot;</td><td>&quot;41128772.0&quot;</td><td>null</td><td>null</td><td>null</td><td>null</td></tr><tr><td>&quot;AFG&quot;</td><td>&quot;Asia&quot;</td><td>&quot;Afghanistan&quot;</td><td>&quot;2020-01-12&quot;</td><td>null</td><td>&quot;0.0&quot;</td><td>null</td><td>null</td><td>&quot;0.0&quot;</td><td>null</td><td>null</td><td>&quot;0.0&quot;</td><td>null</td><td>null</td><td>&quot;0.0&quot;</td><td>null</td><td>null</td><td>null</td><td>null</td><td>null</td><td>null</td><td>null</td><td>null</td><td>null</td><td>null</td><td>null</td><td>null</td><td>null</td><td>null</td><td>null</td><td>null</td><td>null</td><td>null</td><td>null</td><td>null</td><td>null</td><td>null</td><td>null</td><td>null</td><td>null</td><td>null</td><td>null</td><td>null</td><td>null</td><td>null</td><td>null</td><td>null</td><td>&quot;0.0&quot;</td><td>&quot;54.422&quot;</td><td>&quot;2024-06-18&quot;</td><td>&quot;2.581&quot;</td><td>&quot;1.337&quot;</td><td>&quot;1803.987&quot;</td><td>null</td><td>&quot;597.029&quot;</td><td>&quot;1959-09-01&quot;</td><td>null</td><td>null</td><td>&quot;37.746&quot;</td><td>&quot;0.5&quot;</td><td>&quot;64.83&quot;</td><td>&quot;0.511&quot;</td><td>&quot;41128772.0&quot;</td><td>null</td><td>null</td><td>null</td><td>null</td></tr><tr><td>&quot;AFG&quot;</td><td>&quot;Asia&quot;</td><td>&quot;Afghanistan&quot;</td><td>&quot;2020-01-19&quot;</td><td>null</td><td>&quot;0.0&quot;</td><td>null</td><td>null</td><td>&quot;0.0&quot;</td><td>null</td><td>null</td><td>&quot;0.0&quot;</td><td>null</td><td>null</td><td>&quot;0.0&quot;</td><td>null</td><td>null</td><td>null</td><td>null</td><td>null</td><td>null</td><td>null</td><td>null</td><td>null</td><td>null</td><td>null</td><td>null</td><td>null</td><td>null</td><td>null</td><td>null</td><td>null</td><td>null</td><td>null</td><td>null</td><td>null</td><td>null</td><td>null</td><td>null</td><td>null</td><td>null</td><td>null</td><td>null</td><td>null</td><td>null</td><td>null</td><td>null</td><td>&quot;0.0&quot;</td><td>&quot;54.422&quot;</td><td>&quot;2024-06-18&quot;</td><td>&quot;2.581&quot;</td><td>&quot;1.337&quot;</td><td>&quot;1803.987&quot;</td><td>null</td><td>&quot;597.029&quot;</td><td>&quot;1959-09-01&quot;</td><td>null</td><td>null</td><td>&quot;37.746&quot;</td><td>&quot;0.5&quot;</td><td>&quot;64.83&quot;</td><td>&quot;0.511&quot;</td><td>&quot;41128772.0&quot;</td><td>null</td><td>null</td><td>null</td><td>null</td></tr><tr><td>&quot;AFG&quot;</td><td>&quot;Asia&quot;</td><td>&quot;Afghanistan&quot;</td><td>&quot;2020-01-26&quot;</td><td>null</td><td>&quot;0.0&quot;</td><td>null</td><td>null</td><td>&quot;0.0&quot;</td><td>null</td><td>null</td><td>&quot;0.0&quot;</td><td>null</td><td>null</td><td>&quot;0.0&quot;</td><td>null</td><td>null</td><td>null</td><td>null</td><td>null</td><td>null</td><td>null</td><td>null</td><td>null</td><td>null</td><td>null</td><td>null</td><td>null</td><td>null</td><td>null</td><td>null</td><td>null</td><td>null</td><td>null</td><td>null</td><td>null</td><td>null</td><td>null</td><td>null</td><td>null</td><td>null</td><td>null</td><td>null</td><td>null</td><td>null</td><td>null</td><td>null</td><td>&quot;0.0&quot;</td><td>&quot;54.422&quot;</td><td>&quot;2024-06-18&quot;</td><td>&quot;2.581&quot;</td><td>&quot;1.337&quot;</td><td>&quot;1803.987&quot;</td><td>null</td><td>&quot;597.029&quot;</td><td>&quot;1959-09-01&quot;</td><td>null</td><td>null</td><td>&quot;37.746&quot;</td><td>&quot;0.5&quot;</td><td>&quot;64.83&quot;</td><td>&quot;0.511&quot;</td><td>&quot;41128772.0&quot;</td><td>null</td><td>null</td><td>null</td><td>null</td></tr><tr><td>&quot;AFG&quot;</td><td>&quot;Asia&quot;</td><td>&quot;Afghanistan&quot;</td><td>&quot;2020-02-02&quot;</td><td>null</td><td>&quot;0.0&quot;</td><td>null</td><td>null</td><td>&quot;0.0&quot;</td><td>null</td><td>null</td><td>&quot;0.0&quot;</td><td>null</td><td>null</td><td>&quot;0.0&quot;</td><td>null</td><td>null</td><td>null</td><td>null</td><td>null</td><td>null</td><td>null</td><td>null</td><td>null</td><td>null</td><td>null</td><td>null</td><td>null</td><td>null</td><td>null</td><td>null</td><td>null</td><td>null</td><td>null</td><td>null</td><td>null</td><td>null</td><td>null</td><td>null</td><td>null</td><td>null</td><td>null</td><td>null</td><td>null</td><td>null</td><td>null</td><td>null</td><td>&quot;0.0&quot;</td><td>&quot;54.422&quot;</td><td>&quot;2024-06-18&quot;</td><td>&quot;2.581&quot;</td><td>&quot;1.337&quot;</td><td>&quot;1803.987&quot;</td><td>null</td><td>&quot;597.029&quot;</td><td>&quot;1959-09-01&quot;</td><td>null</td><td>null</td><td>&quot;37.746&quot;</td><td>&quot;0.5&quot;</td><td>&quot;64.83&quot;</td><td>&quot;0.511&quot;</td><td>&quot;41128772.0&quot;</td><td>null</td><td>null</td><td>null</td><td>null</td></tr></tbody></table></div>"
      ],
      "text/plain": [
       "shape: (5, 67)\n",
       "┌──────────┬───────────┬───────────┬───────────┬───┬───────────┬───────────┬───────────┬───────────┐\n",
       "│ iso_code ┆ continent ┆ location  ┆ date      ┆ … ┆ excess_mo ┆ excess_mo ┆ excess_mo ┆ excess_mo │\n",
       "│ ---      ┆ ---       ┆ ---       ┆ ---       ┆   ┆ rtality_c ┆ rtality_c ┆ rtality   ┆ rtality_c │\n",
       "│ str      ┆ str       ┆ str       ┆ str       ┆   ┆ umulative ┆ umulative ┆ ---       ┆ umulative │\n",
       "│          ┆           ┆           ┆           ┆   ┆ _abso…    ┆ ---       ┆ str       ┆ _per_…    │\n",
       "│          ┆           ┆           ┆           ┆   ┆ ---       ┆ str       ┆           ┆ ---       │\n",
       "│          ┆           ┆           ┆           ┆   ┆ str       ┆           ┆           ┆ str       │\n",
       "╞══════════╪═══════════╪═══════════╪═══════════╪═══╪═══════════╪═══════════╪═══════════╪═══════════╡\n",
       "│ AFG      ┆ Asia      ┆ Afghanist ┆ 2020-01-0 ┆ … ┆ null      ┆ null      ┆ null      ┆ null      │\n",
       "│          ┆           ┆ an        ┆ 5         ┆   ┆           ┆           ┆           ┆           │\n",
       "│ AFG      ┆ Asia      ┆ Afghanist ┆ 2020-01-1 ┆ … ┆ null      ┆ null      ┆ null      ┆ null      │\n",
       "│          ┆           ┆ an        ┆ 2         ┆   ┆           ┆           ┆           ┆           │\n",
       "│ AFG      ┆ Asia      ┆ Afghanist ┆ 2020-01-1 ┆ … ┆ null      ┆ null      ┆ null      ┆ null      │\n",
       "│          ┆           ┆ an        ┆ 9         ┆   ┆           ┆           ┆           ┆           │\n",
       "│ AFG      ┆ Asia      ┆ Afghanist ┆ 2020-01-2 ┆ … ┆ null      ┆ null      ┆ null      ┆ null      │\n",
       "│          ┆           ┆ an        ┆ 6         ┆   ┆           ┆           ┆           ┆           │\n",
       "│ AFG      ┆ Asia      ┆ Afghanist ┆ 2020-02-0 ┆ … ┆ null      ┆ null      ┆ null      ┆ null      │\n",
       "│          ┆           ┆ an        ┆ 2         ┆   ┆           ┆           ┆           ┆           │\n",
       "└──────────┴───────────┴───────────┴───────────┴───┴───────────┴───────────┴───────────┴───────────┘"
      ]
     },
     "execution_count": 10,
     "metadata": {},
     "output_type": "execute_result"
    }
   ],
   "source": [
    "%%time\n",
    "scan_calamine(XLSX_FILE).head()"
   ]
  },
  {
   "cell_type": "code",
   "execution_count": 10,
   "metadata": {
    "notebookRunGroups": {
     "groupValue": "2"
    }
   },
   "outputs": [
    {
     "name": "stdout",
     "output_type": "stream",
     "text": [
      "CPU times: total: 2min 4s\n",
      "Wall time: 2min 6s\n"
     ]
    },
    {
     "data": {
      "text/html": [
       "<div><style>\n",
       ".dataframe > thead > tr,\n",
       ".dataframe > tbody > tr {\n",
       "  text-align: right;\n",
       "  white-space: pre-wrap;\n",
       "}\n",
       "</style>\n",
       "<small>shape: (5, 67)</small><table border=\"1\" class=\"dataframe\"><thead><tr><th>iso_code</th><th>continent</th><th>location</th><th>date</th><th>total_cases</th><th>new_cases</th><th>new_cases_smoothed</th><th>total_deaths</th><th>new_deaths</th><th>new_deaths_smoothed</th><th>total_cases_per_million</th><th>new_cases_per_million</th><th>new_cases_smoothed_per_million</th><th>total_deaths_per_million</th><th>new_deaths_per_million</th><th>new_deaths_smoothed_per_million</th><th>reproduction_rate</th><th>icu_patients</th><th>icu_patients_per_million</th><th>hosp_patients</th><th>hosp_patients_per_million</th><th>weekly_icu_admissions</th><th>weekly_icu_admissions_per_million</th><th>weekly_hosp_admissions</th><th>weekly_hosp_admissions_per_million</th><th>total_tests</th><th>new_tests</th><th>total_tests_per_thousand</th><th>new_tests_per_thousand</th><th>new_tests_smoothed</th><th>new_tests_smoothed_per_thousand</th><th>positive_rate</th><th>tests_per_case</th><th>tests_units</th><th>total_vaccinations</th><th>people_vaccinated</th><th>people_fully_vaccinated</th><th>total_boosters</th><th>new_vaccinations</th><th>new_vaccinations_smoothed</th><th>total_vaccinations_per_hundred</th><th>people_vaccinated_per_hundred</th><th>people_fully_vaccinated_per_hundred</th><th>total_boosters_per_hundred</th><th>new_vaccinations_smoothed_per_million</th><th>new_people_vaccinated_smoothed</th><th>new_people_vaccinated_smoothed_per_hundred</th><th>stringency_index</th><th>population_density</th><th>median_age</th><th>aged_65_older</th><th>aged_70_older</th><th>gdp_per_capita</th><th>extreme_poverty</th><th>cardiovasc_death_rate</th><th>diabetes_prevalence</th><th>female_smokers</th><th>male_smokers</th><th>handwashing_facilities</th><th>hospital_beds_per_thousand</th><th>life_expectancy</th><th>human_development_index</th><th>population</th><th>excess_mortality_cumulative_absolute</th><th>excess_mortality_cumulative</th><th>excess_mortality</th><th>excess_mortality_cumulative_per_million</th></tr><tr><td>str</td><td>str</td><td>str</td><td>datetime[ms]</td><td>str</td><td>str</td><td>str</td><td>str</td><td>str</td><td>str</td><td>str</td><td>str</td><td>str</td><td>str</td><td>str</td><td>str</td><td>str</td><td>str</td><td>str</td><td>str</td><td>str</td><td>str</td><td>str</td><td>str</td><td>str</td><td>str</td><td>str</td><td>str</td><td>str</td><td>str</td><td>str</td><td>str</td><td>str</td><td>str</td><td>str</td><td>str</td><td>str</td><td>str</td><td>str</td><td>str</td><td>str</td><td>str</td><td>str</td><td>str</td><td>str</td><td>str</td><td>str</td><td>str</td><td>str</td><td>str</td><td>str</td><td>str</td><td>str</td><td>str</td><td>str</td><td>str</td><td>str</td><td>str</td><td>str</td><td>str</td><td>str</td><td>str</td><td>str</td><td>str</td><td>str</td><td>str</td><td>str</td></tr></thead><tbody><tr><td>&quot;AFG&quot;</td><td>&quot;Asia&quot;</td><td>&quot;Afghanistan&quot;</td><td>2020-01-05 00:00:00</td><td>null</td><td>&quot;0.0&quot;</td><td>null</td><td>null</td><td>&quot;0.0&quot;</td><td>null</td><td>null</td><td>&quot;0.0&quot;</td><td>null</td><td>null</td><td>&quot;0.0&quot;</td><td>null</td><td>null</td><td>null</td><td>null</td><td>null</td><td>null</td><td>null</td><td>null</td><td>null</td><td>null</td><td>null</td><td>null</td><td>null</td><td>null</td><td>null</td><td>null</td><td>null</td><td>null</td><td>null</td><td>null</td><td>null</td><td>null</td><td>null</td><td>null</td><td>null</td><td>null</td><td>null</td><td>null</td><td>null</td><td>null</td><td>null</td><td>null</td><td>&quot;0.0&quot;</td><td>&quot;54.422&quot;</td><td>&quot;2024-06-18 00:…</td><td>&quot;2.581&quot;</td><td>&quot;1.337&quot;</td><td>&quot;1803.987&quot;</td><td>null</td><td>&quot;597.029&quot;</td><td>&quot;1959-09-01 00:…</td><td>null</td><td>null</td><td>&quot;37.746&quot;</td><td>&quot;0.5&quot;</td><td>&quot;64.83&quot;</td><td>&quot;0.511&quot;</td><td>&quot;41128772.0&quot;</td><td>null</td><td>null</td><td>null</td><td>null</td></tr><tr><td>&quot;AFG&quot;</td><td>&quot;Asia&quot;</td><td>&quot;Afghanistan&quot;</td><td>2020-01-12 00:00:00</td><td>null</td><td>&quot;0.0&quot;</td><td>null</td><td>null</td><td>&quot;0.0&quot;</td><td>null</td><td>null</td><td>&quot;0.0&quot;</td><td>null</td><td>null</td><td>&quot;0.0&quot;</td><td>null</td><td>null</td><td>null</td><td>null</td><td>null</td><td>null</td><td>null</td><td>null</td><td>null</td><td>null</td><td>null</td><td>null</td><td>null</td><td>null</td><td>null</td><td>null</td><td>null</td><td>null</td><td>null</td><td>null</td><td>null</td><td>null</td><td>null</td><td>null</td><td>null</td><td>null</td><td>null</td><td>null</td><td>null</td><td>null</td><td>null</td><td>null</td><td>&quot;0.0&quot;</td><td>&quot;54.422&quot;</td><td>&quot;2024-06-18 00:…</td><td>&quot;2.581&quot;</td><td>&quot;1.337&quot;</td><td>&quot;1803.987&quot;</td><td>null</td><td>&quot;597.029&quot;</td><td>&quot;1959-09-01 00:…</td><td>null</td><td>null</td><td>&quot;37.746&quot;</td><td>&quot;0.5&quot;</td><td>&quot;64.83&quot;</td><td>&quot;0.511&quot;</td><td>&quot;41128772.0&quot;</td><td>null</td><td>null</td><td>null</td><td>null</td></tr><tr><td>&quot;AFG&quot;</td><td>&quot;Asia&quot;</td><td>&quot;Afghanistan&quot;</td><td>2020-01-19 00:00:00</td><td>null</td><td>&quot;0.0&quot;</td><td>null</td><td>null</td><td>&quot;0.0&quot;</td><td>null</td><td>null</td><td>&quot;0.0&quot;</td><td>null</td><td>null</td><td>&quot;0.0&quot;</td><td>null</td><td>null</td><td>null</td><td>null</td><td>null</td><td>null</td><td>null</td><td>null</td><td>null</td><td>null</td><td>null</td><td>null</td><td>null</td><td>null</td><td>null</td><td>null</td><td>null</td><td>null</td><td>null</td><td>null</td><td>null</td><td>null</td><td>null</td><td>null</td><td>null</td><td>null</td><td>null</td><td>null</td><td>null</td><td>null</td><td>null</td><td>null</td><td>&quot;0.0&quot;</td><td>&quot;54.422&quot;</td><td>&quot;2024-06-18 00:…</td><td>&quot;2.581&quot;</td><td>&quot;1.337&quot;</td><td>&quot;1803.987&quot;</td><td>null</td><td>&quot;597.029&quot;</td><td>&quot;1959-09-01 00:…</td><td>null</td><td>null</td><td>&quot;37.746&quot;</td><td>&quot;0.5&quot;</td><td>&quot;64.83&quot;</td><td>&quot;0.511&quot;</td><td>&quot;41128772.0&quot;</td><td>null</td><td>null</td><td>null</td><td>null</td></tr><tr><td>&quot;AFG&quot;</td><td>&quot;Asia&quot;</td><td>&quot;Afghanistan&quot;</td><td>2020-01-26 00:00:00</td><td>null</td><td>&quot;0.0&quot;</td><td>null</td><td>null</td><td>&quot;0.0&quot;</td><td>null</td><td>null</td><td>&quot;0.0&quot;</td><td>null</td><td>null</td><td>&quot;0.0&quot;</td><td>null</td><td>null</td><td>null</td><td>null</td><td>null</td><td>null</td><td>null</td><td>null</td><td>null</td><td>null</td><td>null</td><td>null</td><td>null</td><td>null</td><td>null</td><td>null</td><td>null</td><td>null</td><td>null</td><td>null</td><td>null</td><td>null</td><td>null</td><td>null</td><td>null</td><td>null</td><td>null</td><td>null</td><td>null</td><td>null</td><td>null</td><td>null</td><td>&quot;0.0&quot;</td><td>&quot;54.422&quot;</td><td>&quot;2024-06-18 00:…</td><td>&quot;2.581&quot;</td><td>&quot;1.337&quot;</td><td>&quot;1803.987&quot;</td><td>null</td><td>&quot;597.029&quot;</td><td>&quot;1959-09-01 00:…</td><td>null</td><td>null</td><td>&quot;37.746&quot;</td><td>&quot;0.5&quot;</td><td>&quot;64.83&quot;</td><td>&quot;0.511&quot;</td><td>&quot;41128772.0&quot;</td><td>null</td><td>null</td><td>null</td><td>null</td></tr><tr><td>&quot;AFG&quot;</td><td>&quot;Asia&quot;</td><td>&quot;Afghanistan&quot;</td><td>2020-02-02 00:00:00</td><td>null</td><td>&quot;0.0&quot;</td><td>null</td><td>null</td><td>&quot;0.0&quot;</td><td>null</td><td>null</td><td>&quot;0.0&quot;</td><td>null</td><td>null</td><td>&quot;0.0&quot;</td><td>null</td><td>null</td><td>null</td><td>null</td><td>null</td><td>null</td><td>null</td><td>null</td><td>null</td><td>null</td><td>null</td><td>null</td><td>null</td><td>null</td><td>null</td><td>null</td><td>null</td><td>null</td><td>null</td><td>null</td><td>null</td><td>null</td><td>null</td><td>null</td><td>null</td><td>null</td><td>null</td><td>null</td><td>null</td><td>null</td><td>null</td><td>null</td><td>&quot;0.0&quot;</td><td>&quot;54.422&quot;</td><td>&quot;2024-06-18 00:…</td><td>&quot;2.581&quot;</td><td>&quot;1.337&quot;</td><td>&quot;1803.987&quot;</td><td>null</td><td>&quot;597.029&quot;</td><td>&quot;1959-09-01 00:…</td><td>null</td><td>null</td><td>&quot;37.746&quot;</td><td>&quot;0.5&quot;</td><td>&quot;64.83&quot;</td><td>&quot;0.511&quot;</td><td>&quot;41128772.0&quot;</td><td>null</td><td>null</td><td>null</td><td>null</td></tr></tbody></table></div>"
      ],
      "text/plain": [
       "shape: (5, 67)\n",
       "┌──────────┬───────────┬───────────┬───────────┬───┬───────────┬───────────┬───────────┬───────────┐\n",
       "│ iso_code ┆ continent ┆ location  ┆ date      ┆ … ┆ excess_mo ┆ excess_mo ┆ excess_mo ┆ excess_mo │\n",
       "│ ---      ┆ ---       ┆ ---       ┆ ---       ┆   ┆ rtality_c ┆ rtality_c ┆ rtality   ┆ rtality_c │\n",
       "│ str      ┆ str       ┆ str       ┆ datetime[ ┆   ┆ umulative ┆ umulative ┆ ---       ┆ umulative │\n",
       "│          ┆           ┆           ┆ ms]       ┆   ┆ _abso…    ┆ ---       ┆ str       ┆ _per_…    │\n",
       "│          ┆           ┆           ┆           ┆   ┆ ---       ┆ str       ┆           ┆ ---       │\n",
       "│          ┆           ┆           ┆           ┆   ┆ str       ┆           ┆           ┆ str       │\n",
       "╞══════════╪═══════════╪═══════════╪═══════════╪═══╪═══════════╪═══════════╪═══════════╪═══════════╡\n",
       "│ AFG      ┆ Asia      ┆ Afghanist ┆ 2020-01-0 ┆ … ┆ null      ┆ null      ┆ null      ┆ null      │\n",
       "│          ┆           ┆ an        ┆ 5         ┆   ┆           ┆           ┆           ┆           │\n",
       "│          ┆           ┆           ┆ 00:00:00  ┆   ┆           ┆           ┆           ┆           │\n",
       "│ AFG      ┆ Asia      ┆ Afghanist ┆ 2020-01-1 ┆ … ┆ null      ┆ null      ┆ null      ┆ null      │\n",
       "│          ┆           ┆ an        ┆ 2         ┆   ┆           ┆           ┆           ┆           │\n",
       "│          ┆           ┆           ┆ 00:00:00  ┆   ┆           ┆           ┆           ┆           │\n",
       "│ AFG      ┆ Asia      ┆ Afghanist ┆ 2020-01-1 ┆ … ┆ null      ┆ null      ┆ null      ┆ null      │\n",
       "│          ┆           ┆ an        ┆ 9         ┆   ┆           ┆           ┆           ┆           │\n",
       "│          ┆           ┆           ┆ 00:00:00  ┆   ┆           ┆           ┆           ┆           │\n",
       "│ AFG      ┆ Asia      ┆ Afghanist ┆ 2020-01-2 ┆ … ┆ null      ┆ null      ┆ null      ┆ null      │\n",
       "│          ┆           ┆ an        ┆ 6         ┆   ┆           ┆           ┆           ┆           │\n",
       "│          ┆           ┆           ┆ 00:00:00  ┆   ┆           ┆           ┆           ┆           │\n",
       "│ AFG      ┆ Asia      ┆ Afghanist ┆ 2020-02-0 ┆ … ┆ null      ┆ null      ┆ null      ┆ null      │\n",
       "│          ┆           ┆ an        ┆ 2         ┆   ┆           ┆           ┆           ┆           │\n",
       "│          ┆           ┆           ┆ 00:00:00  ┆   ┆           ┆           ┆           ┆           │\n",
       "└──────────┴───────────┴───────────┴───────────┴───┴───────────┴───────────┴───────────┴───────────┘"
      ]
     },
     "execution_count": 10,
     "metadata": {},
     "output_type": "execute_result"
    }
   ],
   "source": [
    "%%time\n",
    "scan_rxls_xlsx().head()"
   ]
  },
  {
   "cell_type": "code",
   "execution_count": 10,
   "metadata": {
    "notebookRunGroups": {
     "groupValue": "2"
    }
   },
   "outputs": [
    {
     "name": "stdout",
     "output_type": "stream",
     "text": [
      "CPU times: total: 1min 24s\n",
      "Wall time: 1min 41s\n"
     ]
    },
    {
     "data": {
      "text/html": [
       "<div><style>\n",
       ".dataframe > thead > tr,\n",
       ".dataframe > tbody > tr {\n",
       "  text-align: right;\n",
       "  white-space: pre-wrap;\n",
       "}\n",
       "</style>\n",
       "<small>shape: (5, 67)</small><table border=\"1\" class=\"dataframe\"><thead><tr><th>iso_code</th><th>continent</th><th>location</th><th>date</th><th>total_cases</th><th>new_cases</th><th>new_cases_smoothed</th><th>total_deaths</th><th>new_deaths</th><th>new_deaths_smoothed</th><th>total_cases_per_million</th><th>new_cases_per_million</th><th>new_cases_smoothed_per_million</th><th>total_deaths_per_million</th><th>new_deaths_per_million</th><th>new_deaths_smoothed_per_million</th><th>reproduction_rate</th><th>icu_patients</th><th>icu_patients_per_million</th><th>hosp_patients</th><th>hosp_patients_per_million</th><th>weekly_icu_admissions</th><th>weekly_icu_admissions_per_million</th><th>weekly_hosp_admissions</th><th>weekly_hosp_admissions_per_million</th><th>total_tests</th><th>new_tests</th><th>total_tests_per_thousand</th><th>new_tests_per_thousand</th><th>new_tests_smoothed</th><th>new_tests_smoothed_per_thousand</th><th>positive_rate</th><th>tests_per_case</th><th>tests_units</th><th>total_vaccinations</th><th>people_vaccinated</th><th>people_fully_vaccinated</th><th>total_boosters</th><th>new_vaccinations</th><th>new_vaccinations_smoothed</th><th>total_vaccinations_per_hundred</th><th>people_vaccinated_per_hundred</th><th>people_fully_vaccinated_per_hundred</th><th>total_boosters_per_hundred</th><th>new_vaccinations_smoothed_per_million</th><th>new_people_vaccinated_smoothed</th><th>new_people_vaccinated_smoothed_per_hundred</th><th>stringency_index</th><th>population_density</th><th>median_age</th><th>aged_65_older</th><th>aged_70_older</th><th>gdp_per_capita</th><th>extreme_poverty</th><th>cardiovasc_death_rate</th><th>diabetes_prevalence</th><th>female_smokers</th><th>male_smokers</th><th>handwashing_facilities</th><th>hospital_beds_per_thousand</th><th>life_expectancy</th><th>human_development_index</th><th>population</th><th>excess_mortality_cumulative_absolute</th><th>excess_mortality_cumulative</th><th>excess_mortality</th><th>excess_mortality_cumulative_per_million</th></tr><tr><td>str</td><td>str</td><td>str</td><td>datetime[ms]</td><td>str</td><td>str</td><td>str</td><td>str</td><td>str</td><td>str</td><td>str</td><td>str</td><td>str</td><td>str</td><td>str</td><td>str</td><td>str</td><td>str</td><td>str</td><td>str</td><td>str</td><td>str</td><td>str</td><td>str</td><td>str</td><td>str</td><td>str</td><td>str</td><td>str</td><td>str</td><td>str</td><td>str</td><td>str</td><td>str</td><td>str</td><td>str</td><td>str</td><td>str</td><td>str</td><td>str</td><td>str</td><td>str</td><td>str</td><td>str</td><td>str</td><td>str</td><td>str</td><td>str</td><td>str</td><td>str</td><td>str</td><td>str</td><td>str</td><td>str</td><td>str</td><td>str</td><td>str</td><td>str</td><td>str</td><td>str</td><td>str</td><td>str</td><td>str</td><td>str</td><td>str</td><td>str</td><td>str</td></tr></thead><tbody><tr><td>&quot;AFG&quot;</td><td>&quot;Asia&quot;</td><td>&quot;Afghanistan&quot;</td><td>2020-01-05 00:00:00</td><td>null</td><td>&quot;0.0&quot;</td><td>null</td><td>null</td><td>&quot;0.0&quot;</td><td>null</td><td>null</td><td>&quot;0.0&quot;</td><td>null</td><td>null</td><td>&quot;0.0&quot;</td><td>null</td><td>null</td><td>null</td><td>null</td><td>null</td><td>null</td><td>null</td><td>null</td><td>null</td><td>null</td><td>null</td><td>null</td><td>null</td><td>null</td><td>null</td><td>null</td><td>null</td><td>null</td><td>null</td><td>null</td><td>null</td><td>null</td><td>null</td><td>null</td><td>null</td><td>null</td><td>null</td><td>null</td><td>null</td><td>null</td><td>null</td><td>null</td><td>&quot;0.0&quot;</td><td>&quot;54.422&quot;</td><td>&quot;2024-06-18 00:…</td><td>&quot;2.581&quot;</td><td>&quot;1.337&quot;</td><td>&quot;1803.987&quot;</td><td>null</td><td>&quot;597.029&quot;</td><td>&quot;1959-09-01 00:…</td><td>null</td><td>null</td><td>&quot;37.746&quot;</td><td>&quot;0.5&quot;</td><td>&quot;64.83&quot;</td><td>&quot;0.511&quot;</td><td>&quot;41128772.0&quot;</td><td>null</td><td>null</td><td>null</td><td>null</td></tr><tr><td>&quot;AFG&quot;</td><td>&quot;Asia&quot;</td><td>&quot;Afghanistan&quot;</td><td>2020-01-12 00:00:00</td><td>null</td><td>&quot;0.0&quot;</td><td>null</td><td>null</td><td>&quot;0.0&quot;</td><td>null</td><td>null</td><td>&quot;0.0&quot;</td><td>null</td><td>null</td><td>&quot;0.0&quot;</td><td>null</td><td>null</td><td>null</td><td>null</td><td>null</td><td>null</td><td>null</td><td>null</td><td>null</td><td>null</td><td>null</td><td>null</td><td>null</td><td>null</td><td>null</td><td>null</td><td>null</td><td>null</td><td>null</td><td>null</td><td>null</td><td>null</td><td>null</td><td>null</td><td>null</td><td>null</td><td>null</td><td>null</td><td>null</td><td>null</td><td>null</td><td>null</td><td>&quot;0.0&quot;</td><td>&quot;54.422&quot;</td><td>&quot;2024-06-18 00:…</td><td>&quot;2.581&quot;</td><td>&quot;1.337&quot;</td><td>&quot;1803.987&quot;</td><td>null</td><td>&quot;597.029&quot;</td><td>&quot;1959-09-01 00:…</td><td>null</td><td>null</td><td>&quot;37.746&quot;</td><td>&quot;0.5&quot;</td><td>&quot;64.83&quot;</td><td>&quot;0.511&quot;</td><td>&quot;41128772.0&quot;</td><td>null</td><td>null</td><td>null</td><td>null</td></tr><tr><td>&quot;AFG&quot;</td><td>&quot;Asia&quot;</td><td>&quot;Afghanistan&quot;</td><td>2020-01-19 00:00:00</td><td>null</td><td>&quot;0.0&quot;</td><td>null</td><td>null</td><td>&quot;0.0&quot;</td><td>null</td><td>null</td><td>&quot;0.0&quot;</td><td>null</td><td>null</td><td>&quot;0.0&quot;</td><td>null</td><td>null</td><td>null</td><td>null</td><td>null</td><td>null</td><td>null</td><td>null</td><td>null</td><td>null</td><td>null</td><td>null</td><td>null</td><td>null</td><td>null</td><td>null</td><td>null</td><td>null</td><td>null</td><td>null</td><td>null</td><td>null</td><td>null</td><td>null</td><td>null</td><td>null</td><td>null</td><td>null</td><td>null</td><td>null</td><td>null</td><td>null</td><td>&quot;0.0&quot;</td><td>&quot;54.422&quot;</td><td>&quot;2024-06-18 00:…</td><td>&quot;2.581&quot;</td><td>&quot;1.337&quot;</td><td>&quot;1803.987&quot;</td><td>null</td><td>&quot;597.029&quot;</td><td>&quot;1959-09-01 00:…</td><td>null</td><td>null</td><td>&quot;37.746&quot;</td><td>&quot;0.5&quot;</td><td>&quot;64.83&quot;</td><td>&quot;0.511&quot;</td><td>&quot;41128772.0&quot;</td><td>null</td><td>null</td><td>null</td><td>null</td></tr><tr><td>&quot;AFG&quot;</td><td>&quot;Asia&quot;</td><td>&quot;Afghanistan&quot;</td><td>2020-01-26 00:00:00</td><td>null</td><td>&quot;0.0&quot;</td><td>null</td><td>null</td><td>&quot;0.0&quot;</td><td>null</td><td>null</td><td>&quot;0.0&quot;</td><td>null</td><td>null</td><td>&quot;0.0&quot;</td><td>null</td><td>null</td><td>null</td><td>null</td><td>null</td><td>null</td><td>null</td><td>null</td><td>null</td><td>null</td><td>null</td><td>null</td><td>null</td><td>null</td><td>null</td><td>null</td><td>null</td><td>null</td><td>null</td><td>null</td><td>null</td><td>null</td><td>null</td><td>null</td><td>null</td><td>null</td><td>null</td><td>null</td><td>null</td><td>null</td><td>null</td><td>null</td><td>&quot;0.0&quot;</td><td>&quot;54.422&quot;</td><td>&quot;2024-06-18 00:…</td><td>&quot;2.581&quot;</td><td>&quot;1.337&quot;</td><td>&quot;1803.987&quot;</td><td>null</td><td>&quot;597.029&quot;</td><td>&quot;1959-09-01 00:…</td><td>null</td><td>null</td><td>&quot;37.746&quot;</td><td>&quot;0.5&quot;</td><td>&quot;64.83&quot;</td><td>&quot;0.511&quot;</td><td>&quot;41128772.0&quot;</td><td>null</td><td>null</td><td>null</td><td>null</td></tr><tr><td>&quot;AFG&quot;</td><td>&quot;Asia&quot;</td><td>&quot;Afghanistan&quot;</td><td>2020-02-02 00:00:00</td><td>null</td><td>&quot;0.0&quot;</td><td>null</td><td>null</td><td>&quot;0.0&quot;</td><td>null</td><td>null</td><td>&quot;0.0&quot;</td><td>null</td><td>null</td><td>&quot;0.0&quot;</td><td>null</td><td>null</td><td>null</td><td>null</td><td>null</td><td>null</td><td>null</td><td>null</td><td>null</td><td>null</td><td>null</td><td>null</td><td>null</td><td>null</td><td>null</td><td>null</td><td>null</td><td>null</td><td>null</td><td>null</td><td>null</td><td>null</td><td>null</td><td>null</td><td>null</td><td>null</td><td>null</td><td>null</td><td>null</td><td>null</td><td>null</td><td>null</td><td>&quot;0.0&quot;</td><td>&quot;54.422&quot;</td><td>&quot;2024-06-18 00:…</td><td>&quot;2.581&quot;</td><td>&quot;1.337&quot;</td><td>&quot;1803.987&quot;</td><td>null</td><td>&quot;597.029&quot;</td><td>&quot;1959-09-01 00:…</td><td>null</td><td>null</td><td>&quot;37.746&quot;</td><td>&quot;0.5&quot;</td><td>&quot;64.83&quot;</td><td>&quot;0.511&quot;</td><td>&quot;41128772.0&quot;</td><td>null</td><td>null</td><td>null</td><td>null</td></tr></tbody></table></div>"
      ],
      "text/plain": [
       "shape: (5, 67)\n",
       "┌──────────┬───────────┬───────────┬───────────┬───┬───────────┬───────────┬───────────┬───────────┐\n",
       "│ iso_code ┆ continent ┆ location  ┆ date      ┆ … ┆ excess_mo ┆ excess_mo ┆ excess_mo ┆ excess_mo │\n",
       "│ ---      ┆ ---       ┆ ---       ┆ ---       ┆   ┆ rtality_c ┆ rtality_c ┆ rtality   ┆ rtality_c │\n",
       "│ str      ┆ str       ┆ str       ┆ datetime[ ┆   ┆ umulative ┆ umulative ┆ ---       ┆ umulative │\n",
       "│          ┆           ┆           ┆ ms]       ┆   ┆ _abso…    ┆ ---       ┆ str       ┆ _per_…    │\n",
       "│          ┆           ┆           ┆           ┆   ┆ ---       ┆ str       ┆           ┆ ---       │\n",
       "│          ┆           ┆           ┆           ┆   ┆ str       ┆           ┆           ┆ str       │\n",
       "╞══════════╪═══════════╪═══════════╪═══════════╪═══╪═══════════╪═══════════╪═══════════╪═══════════╡\n",
       "│ AFG      ┆ Asia      ┆ Afghanist ┆ 2020-01-0 ┆ … ┆ null      ┆ null      ┆ null      ┆ null      │\n",
       "│          ┆           ┆ an        ┆ 5         ┆   ┆           ┆           ┆           ┆           │\n",
       "│          ┆           ┆           ┆ 00:00:00  ┆   ┆           ┆           ┆           ┆           │\n",
       "│ AFG      ┆ Asia      ┆ Afghanist ┆ 2020-01-1 ┆ … ┆ null      ┆ null      ┆ null      ┆ null      │\n",
       "│          ┆           ┆ an        ┆ 2         ┆   ┆           ┆           ┆           ┆           │\n",
       "│          ┆           ┆           ┆ 00:00:00  ┆   ┆           ┆           ┆           ┆           │\n",
       "│ AFG      ┆ Asia      ┆ Afghanist ┆ 2020-01-1 ┆ … ┆ null      ┆ null      ┆ null      ┆ null      │\n",
       "│          ┆           ┆ an        ┆ 9         ┆   ┆           ┆           ┆           ┆           │\n",
       "│          ┆           ┆           ┆ 00:00:00  ┆   ┆           ┆           ┆           ┆           │\n",
       "│ AFG      ┆ Asia      ┆ Afghanist ┆ 2020-01-2 ┆ … ┆ null      ┆ null      ┆ null      ┆ null      │\n",
       "│          ┆           ┆ an        ┆ 6         ┆   ┆           ┆           ┆           ┆           │\n",
       "│          ┆           ┆           ┆ 00:00:00  ┆   ┆           ┆           ┆           ┆           │\n",
       "│ AFG      ┆ Asia      ┆ Afghanist ┆ 2020-02-0 ┆ … ┆ null      ┆ null      ┆ null      ┆ null      │\n",
       "│          ┆           ┆ an        ┆ 2         ┆   ┆           ┆           ┆           ┆           │\n",
       "│          ┆           ┆           ┆ 00:00:00  ┆   ┆           ┆           ┆           ┆           │\n",
       "└──────────┴───────────┴───────────┴───────────┴───┴───────────┴───────────┴───────────┴───────────┘"
      ]
     },
     "execution_count": 10,
     "metadata": {},
     "output_type": "execute_result"
    }
   ],
   "source": [
    "%%time\n",
    "scan_rxls_xlsb().head()"
   ]
  },
  {
   "attachments": {},
   "cell_type": "markdown",
   "metadata": {},
   "source": [
    "### Memory Profiler"
   ]
  },
  {
   "attachments": {},
   "cell_type": "markdown",
   "metadata": {},
   "source": [
    "*For these tests, I've reload kernel between tests, for better consistency*"
   ]
  },
  {
   "cell_type": "code",
   "execution_count": 9,
   "metadata": {
    "notebookRunGroups": {
     "groupValue": "1"
    }
   },
   "outputs": [],
   "source": [
    "%load_ext memory_profiler"
   ]
  },
  {
   "cell_type": "code",
   "execution_count": 10,
   "metadata": {},
   "outputs": [
    {
     "name": "stdout",
     "output_type": "stream",
     "text": [
      "peak memory: 1657.45 MiB, increment: 1480.03 MiB\n"
     ]
    }
   ],
   "source": [
    "%memit scan_rxls_xlsb()"
   ]
  },
  {
   "cell_type": "code",
   "execution_count": 10,
   "metadata": {},
   "outputs": [
    {
     "name": "stdout",
     "output_type": "stream",
     "text": [
      "peak memory: 1926.55 MiB, increment: 1748.77 MiB\n"
     ]
    }
   ],
   "source": [
    "%memit scan_rxls_xlsx()"
   ]
  },
  {
   "cell_type": "code",
   "execution_count": 10,
   "metadata": {},
   "outputs": [
    {
     "name": "stdout",
     "output_type": "stream",
     "text": [
      "peak memory: 581.82 MiB, increment: 404.13 MiB\n"
     ]
    }
   ],
   "source": [
    "%memit scan_xlsx2csv()"
   ]
  },
  {
   "cell_type": "code",
   "execution_count": 10,
   "metadata": {},
   "outputs": [
    {
     "name": "stdout",
     "output_type": "stream",
     "text": [
      "peak memory: 4489.82 MiB, increment: 4312.04 MiB\n"
     ]
    }
   ],
   "source": [
    "%memit scan_openpyxl()"
   ]
  },
  {
   "cell_type": "code",
   "execution_count": 10,
   "metadata": {},
   "outputs": [
    {
     "name": "stdout",
     "output_type": "stream",
     "text": [
      "peak memory: 2160.24 MiB, increment: 1982.36 MiB\n"
     ]
    }
   ],
   "source": [
    "%memit scan_pyxlsb()"
   ]
  },
  {
   "cell_type": "code",
   "execution_count": 10,
   "metadata": {},
   "outputs": [
    {
     "name": "stdout",
     "output_type": "stream",
     "text": [
      "peak memory: 3169.70 MiB, increment: 2992.27 MiB\n"
     ]
    }
   ],
   "source": [
    "%memit scan_calamine(XLSX_FILE)"
   ]
  },
  {
   "cell_type": "code",
   "execution_count": 10,
   "metadata": {},
   "outputs": [
    {
     "name": "stdout",
     "output_type": "stream",
     "text": [
      "peak memory: 3185.12 MiB, increment: 3007.87 MiB\n"
     ]
    }
   ],
   "source": [
    "%memit scan_calamine(XLSB_FILE)"
   ]
  },
  {
   "attachments": {},
   "cell_type": "markdown",
   "metadata": {},
   "source": [
    "## Results"
   ]
  },
  {
   "cell_type": "markdown",
   "metadata": {},
   "source": [
    "### Time Performance Stats (XLSX)\n",
    "\n",
    "| Engine | Wall Time | CPU Time    |  Score |\n",
    "|--------|-----------|-------------|--------|\n",
    "|Calamine| 36.5 s | 33.9 s | 1 |\n",
    "|  RXLS  | 2min 6s | 2min 4s | 2 |\n",
    "|XLSX2CSV| 2min 15s | 2min 7s | 3 |\n",
    "|OpenPyXL| 6min 37s | 5min 36s | 4 |"
   ]
  },
  {
   "cell_type": "markdown",
   "metadata": {},
   "source": [
    "### Time Performance Stats (XLSB)\n",
    "\n",
    "| Engine | Wall Time | CPU Time    |  Score |\n",
    "|--------|-----------|-------------|--------|\n",
    "|Calamine| 21.3 s | 18.3 s | 1 |\n",
    "|  RXLS  | 1min 41s | 1min 24s | 2 |\n",
    "| PyXLSB | 2min 43s | 2min 33s | 3 |\n"
   ]
  },
  {
   "cell_type": "markdown",
   "metadata": {},
   "source": [
    "### Memory Performance Stats (XLSX)\n",
    "\n",
    "| Engine | Peak Memory |  Increment  | Score |\n",
    "|--------|-------------|-------------|-------|\n",
    "|XLSXCSV |  581.82 MiB |  404.13 MiB | 1 |\n",
    "|  RXLS  | 1926.55 MiB | 1748.77 MiB | 2 |\n",
    "|Calamine| 3169.70 MiB | 2992.27 MiB | 3 |\n",
    "|OpenPyXL| 4489.82 MiB | 4312.04 MiB | 4 |"
   ]
  },
  {
   "cell_type": "markdown",
   "metadata": {},
   "source": [
    "### Memory Performance Stats (XLSB)\n",
    "\n",
    "| Engine | Peak Memory |  Increment  | Score |\n",
    "|--------|-------------|-------------|-------|\n",
    "|  RXLS  | 1926.55 MiB | 1748.77 MiB | 1 |\n",
    "| PyXLSB | 2160.24 MiB | 1982.36 MiB | 2 |\n",
    "|Calamine| 3185.12 MiB | 3007.87 MiB | 3 |\n"
   ]
  },
  {
   "cell_type": "code",
   "execution_count": 32,
   "metadata": {},
   "outputs": [],
   "source": [
    "from datetime import time\n",
    "import polars as pl\n",
    "\n",
    "df_bench_xlsx = pl.DataFrame(\n",
    "    {\n",
    "        \"Engine\": [\"Calamine\", \"RXLS\", \"XLSX2CSV\", \"OpenPyXL\"],\n",
    "        \"Wall Time\": [\n",
    "            time(0, 0, 36, 500000),\n",
    "            time(0, 2, 6),\n",
    "            time(0, 2, 15),\n",
    "            time(0, 6, 37),\n",
    "        ],\n",
    "        \"CPU Time\": [\n",
    "            time(0, 0, 33, 900000),\n",
    "            time(0, 2, 4),\n",
    "            time(0, 2, 7),\n",
    "            time(0, 5, 36),\n",
    "        ],\n",
    "        \"Peak Memory (MiB)\": [3169.70, 1926.55, 581.82, 4489.82],\n",
    "        \"Increment (MiB)\": [2992.27, 1748.77, 404.13, 4312.04],\n",
    "    }\n",
    ").with_columns(\n",
    "    pl.col(\"Wall Time\").cast(pl.Int64) / 60000000000,\n",
    "    pl.col(\"CPU Time\").cast(pl.Int64) / 60000000000,\n",
    ")\n",
    "\n",
    "df_bench_xlsb = pl.DataFrame(\n",
    "    {\n",
    "        \"Engine\": [\"Calamine\", \"RXLS\", \"PyXLSB\"],\n",
    "        \"Wall Time\": [\n",
    "            time(0, 0, 21, 300000),\n",
    "            time(0, 1, 41),\n",
    "            time(0, 2, 43),\n",
    "        ],\n",
    "        \"CPU Time\": [\n",
    "            time(0, 0, 18, 300000),\n",
    "            time(0, 1, 24),\n",
    "            time(0, 2, 43),\n",
    "        ],\n",
    "        \"Peak Memory (MiB)\": [3185.12, 1926.55, 2160.24],\n",
    "        \"Increment (MiB)\": [3007.87, 1748.77, 1982.36],\n",
    "    }\n",
    ").with_columns(\n",
    "    pl.col(\"Wall Time\").cast(pl.Int64) / 60000000000,\n",
    "    pl.col(\"CPU Time\").cast(pl.Int64) / 60000000000,\n",
    ")\n"
   ]
  },
  {
   "cell_type": "code",
   "execution_count": 42,
   "metadata": {},
   "outputs": [
    {
     "data": {},
     "metadata": {},
     "output_type": "display_data"
    },
    {
     "data": {
      "application/vnd.holoviews_exec.v0+json": "",
      "text/html": [
       "<div id='p2914'>\n",
       "  <div id=\"cc788060-b219-4573-a71b-1af83e2ba504\" data-root-id=\"p2914\" style=\"display: contents;\"></div>\n",
       "</div>\n",
       "<script type=\"application/javascript\">(function(root) {\n",
       "  var docs_json = {\"b165a625-c28e-4437-b2c1-4c8202adced0\":{\"version\":\"3.3.3\",\"title\":\"Bokeh Application\",\"roots\":[{\"type\":\"object\",\"name\":\"Row\",\"id\":\"p2914\",\"attributes\":{\"name\":\"Row05243\",\"tags\":[\"embedded\"],\"stylesheets\":[\"\\n:host(.pn-loading.pn-arc):before, .pn-loading.pn-arc:before {\\n  background-image: url(\\\"data:image/svg+xml;base64,PHN2ZyB4bWxucz0iaHR0cDovL3d3dy53My5vcmcvMjAwMC9zdmciIHN0eWxlPSJtYXJnaW46IGF1dG87IGJhY2tncm91bmQ6IG5vbmU7IGRpc3BsYXk6IGJsb2NrOyBzaGFwZS1yZW5kZXJpbmc6IGF1dG87IiB2aWV3Qm94PSIwIDAgMTAwIDEwMCIgcHJlc2VydmVBc3BlY3RSYXRpbz0ieE1pZFlNaWQiPiAgPGNpcmNsZSBjeD0iNTAiIGN5PSI1MCIgZmlsbD0ibm9uZSIgc3Ryb2tlPSIjYzNjM2MzIiBzdHJva2Utd2lkdGg9IjEwIiByPSIzNSIgc3Ryb2tlLWRhc2hhcnJheT0iMTY0LjkzMzYxNDMxMzQ2NDE1IDU2Ljk3Nzg3MTQzNzgyMTM4Ij4gICAgPGFuaW1hdGVUcmFuc2Zvcm0gYXR0cmlidXRlTmFtZT0idHJhbnNmb3JtIiB0eXBlPSJyb3RhdGUiIHJlcGVhdENvdW50PSJpbmRlZmluaXRlIiBkdXI9IjFzIiB2YWx1ZXM9IjAgNTAgNTA7MzYwIDUwIDUwIiBrZXlUaW1lcz0iMDsxIj48L2FuaW1hdGVUcmFuc2Zvcm0+ICA8L2NpcmNsZT48L3N2Zz4=\\\");\\n  background-size: auto calc(min(50%, 400px));\\n}\",{\"type\":\"object\",\"name\":\"ImportedStyleSheet\",\"id\":\"p2917\",\"attributes\":{\"url\":\"https://cdn.holoviz.org/panel/1.3.6/dist/css/loading.css\"}},{\"type\":\"object\",\"name\":\"ImportedStyleSheet\",\"id\":\"p2974\",\"attributes\":{\"url\":\"https://cdn.holoviz.org/panel/1.3.6/dist/css/listpanel.css\"}},{\"type\":\"object\",\"name\":\"ImportedStyleSheet\",\"id\":\"p2915\",\"attributes\":{\"url\":\"https://cdn.holoviz.org/panel/1.3.6/dist/bundled/theme/default.css\"}},{\"type\":\"object\",\"name\":\"ImportedStyleSheet\",\"id\":\"p2916\",\"attributes\":{\"url\":\"https://cdn.holoviz.org/panel/1.3.6/dist/bundled/theme/native.css\"}}],\"min_width\":700,\"margin\":0,\"sizing_mode\":\"stretch_width\",\"align\":\"start\",\"children\":[{\"type\":\"object\",\"name\":\"Spacer\",\"id\":\"p2918\",\"attributes\":{\"name\":\"HSpacer05250\",\"stylesheets\":[\"\\n:host(.pn-loading.pn-arc):before, .pn-loading.pn-arc:before {\\n  background-image: url(\\\"data:image/svg+xml;base64,PHN2ZyB4bWxucz0iaHR0cDovL3d3dy53My5vcmcvMjAwMC9zdmciIHN0eWxlPSJtYXJnaW46IGF1dG87IGJhY2tncm91bmQ6IG5vbmU7IGRpc3BsYXk6IGJsb2NrOyBzaGFwZS1yZW5kZXJpbmc6IGF1dG87IiB2aWV3Qm94PSIwIDAgMTAwIDEwMCIgcHJlc2VydmVBc3BlY3RSYXRpbz0ieE1pZFlNaWQiPiAgPGNpcmNsZSBjeD0iNTAiIGN5PSI1MCIgZmlsbD0ibm9uZSIgc3Ryb2tlPSIjYzNjM2MzIiBzdHJva2Utd2lkdGg9IjEwIiByPSIzNSIgc3Ryb2tlLWRhc2hhcnJheT0iMTY0LjkzMzYxNDMxMzQ2NDE1IDU2Ljk3Nzg3MTQzNzgyMTM4Ij4gICAgPGFuaW1hdGVUcmFuc2Zvcm0gYXR0cmlidXRlTmFtZT0idHJhbnNmb3JtIiB0eXBlPSJyb3RhdGUiIHJlcGVhdENvdW50PSJpbmRlZmluaXRlIiBkdXI9IjFzIiB2YWx1ZXM9IjAgNTAgNTA7MzYwIDUwIDUwIiBrZXlUaW1lcz0iMDsxIj48L2FuaW1hdGVUcmFuc2Zvcm0+ICA8L2NpcmNsZT48L3N2Zz4=\\\");\\n  background-size: auto calc(min(50%, 400px));\\n}\",{\"id\":\"p2917\"},{\"id\":\"p2915\"},{\"id\":\"p2916\"}],\"margin\":0,\"sizing_mode\":\"stretch_width\",\"align\":\"start\"}},{\"type\":\"object\",\"name\":\"Figure\",\"id\":\"p2926\",\"attributes\":{\"width\":700,\"height\":300,\"margin\":[5,10],\"sizing_mode\":\"fixed\",\"align\":\"start\",\"x_range\":{\"type\":\"object\",\"name\":\"FactorRange\",\"id\":\"p2919\",\"attributes\":{\"tags\":[[[\"Engine\",\"Engine\",null],[\"Variable\",\"Variable\",null]],[]],\"factors\":[[\"Calamine\",\"CPU Time\"],[\"Calamine\",\"Wall Time\"],[\"RXLS\",\"CPU Time\"],[\"RXLS\",\"Wall Time\"],[\"XLSX2CSV\",\"CPU Time\"],[\"XLSX2CSV\",\"Wall Time\"],[\"OpenPyXL\",\"CPU Time\"],[\"OpenPyXL\",\"Wall Time\"]]}},\"y_range\":{\"type\":\"object\",\"name\":\"Range1d\",\"id\":\"p2920\",\"attributes\":{\"tags\":[[[\"value\",\"value\",null]],{\"type\":\"map\",\"entries\":[[\"invert_yaxis\",false],[\"autorange\",false]]}],\"end\":7.221833333333333,\"reset_start\":0.0,\"reset_end\":7.221833333333333}},\"x_scale\":{\"type\":\"object\",\"name\":\"CategoricalScale\",\"id\":\"p2936\"},\"y_scale\":{\"type\":\"object\",\"name\":\"LinearScale\",\"id\":\"p2937\"},\"title\":{\"type\":\"object\",\"name\":\"Title\",\"id\":\"p2929\",\"attributes\":{\"text_color\":\"black\",\"text_font_size\":\"12pt\"}},\"renderers\":[{\"type\":\"object\",\"name\":\"GlyphRenderer\",\"id\":\"p2967\",\"attributes\":{\"data_source\":{\"type\":\"object\",\"name\":\"ColumnDataSource\",\"id\":\"p2958\",\"attributes\":{\"selected\":{\"type\":\"object\",\"name\":\"Selection\",\"id\":\"p2959\",\"attributes\":{\"indices\":[],\"line_indices\":[]}},\"selection_policy\":{\"type\":\"object\",\"name\":\"UnionRenderers\",\"id\":\"p2960\"},\"data\":{\"type\":\"map\",\"entries\":[[\"xoffsets\",[[\"Calamine\",\"Wall Time\"],[\"RXLS\",\"Wall Time\"],[\"XLSX2CSV\",\"Wall Time\"],[\"OpenPyXL\",\"Wall Time\"],[\"Calamine\",\"CPU Time\"],[\"RXLS\",\"CPU Time\"],[\"XLSX2CSV\",\"CPU Time\"],[\"OpenPyXL\",\"CPU Time\"]]],[\"value\",{\"type\":\"ndarray\",\"array\":{\"type\":\"bytes\",\"data\":\"d3d3d3d34z/NzMzMzMwAQAAAAAAAAAJAd3d3d3d3GkAUrkfhehTiP4mIiIiIiABA7+7u7u7uAEBmZmZmZmYWQA==\"},\"shape\":[8],\"dtype\":\"float64\",\"order\":\"little\"}],[\"Engine\",[\"Calamine\",\"RXLS\",\"XLSX2CSV\",\"OpenPyXL\",\"Calamine\",\"RXLS\",\"XLSX2CSV\",\"OpenPyXL\"]],[\"Variable\",[\"Wall Time\",\"Wall Time\",\"Wall Time\",\"Wall Time\",\"CPU Time\",\"CPU Time\",\"CPU Time\",\"CPU Time\"]]]}}},\"view\":{\"type\":\"object\",\"name\":\"CDSView\",\"id\":\"p2968\",\"attributes\":{\"filter\":{\"type\":\"object\",\"name\":\"AllIndices\",\"id\":\"p2969\"}}},\"glyph\":{\"type\":\"object\",\"name\":\"VBar\",\"id\":\"p2964\",\"attributes\":{\"tags\":[\"apply_ranges\"],\"x\":{\"type\":\"field\",\"field\":\"xoffsets\"},\"width\":{\"type\":\"value\",\"value\":0.8},\"top\":{\"type\":\"field\",\"field\":\"value\"},\"fill_color\":{\"type\":\"field\",\"field\":\"Variable\",\"transform\":{\"type\":\"object\",\"name\":\"CategoricalColorMapper\",\"id\":\"p2957\",\"attributes\":{\"palette\":[\"#30a2da\",\"#fc4f30\"],\"factors\":[\"Wall Time\",\"CPU Time\"]}}},\"hatch_color\":{\"type\":\"field\",\"field\":\"Variable\",\"transform\":{\"id\":\"p2957\"}}}},\"selection_glyph\":{\"type\":\"object\",\"name\":\"VBar\",\"id\":\"p2970\",\"attributes\":{\"tags\":[\"apply_ranges\"],\"x\":{\"type\":\"field\",\"field\":\"xoffsets\"},\"width\":{\"type\":\"value\",\"value\":0.8},\"bottom\":{\"type\":\"value\",\"value\":0},\"top\":{\"type\":\"field\",\"field\":\"value\"},\"line_color\":{\"type\":\"value\",\"value\":\"black\"},\"line_alpha\":{\"type\":\"value\",\"value\":1.0},\"line_width\":{\"type\":\"value\",\"value\":1},\"line_join\":{\"type\":\"value\",\"value\":\"bevel\"},\"line_cap\":{\"type\":\"value\",\"value\":\"butt\"},\"line_dash\":{\"type\":\"value\",\"value\":[]},\"line_dash_offset\":{\"type\":\"value\",\"value\":0},\"fill_color\":{\"type\":\"field\",\"field\":\"Variable\",\"transform\":{\"id\":\"p2957\"}},\"fill_alpha\":{\"type\":\"value\",\"value\":1.0},\"hatch_color\":{\"type\":\"field\",\"field\":\"Variable\",\"transform\":{\"id\":\"p2957\"}},\"hatch_alpha\":{\"type\":\"value\",\"value\":1.0},\"hatch_scale\":{\"type\":\"value\",\"value\":12.0},\"hatch_pattern\":{\"type\":\"value\",\"value\":null},\"hatch_weight\":{\"type\":\"value\",\"value\":1.0}}},\"nonselection_glyph\":{\"type\":\"object\",\"name\":\"VBar\",\"id\":\"p2965\",\"attributes\":{\"tags\":[\"apply_ranges\"],\"x\":{\"type\":\"field\",\"field\":\"xoffsets\"},\"width\":{\"type\":\"value\",\"value\":0.8},\"top\":{\"type\":\"field\",\"field\":\"value\"},\"line_alpha\":{\"type\":\"value\",\"value\":0.1},\"fill_color\":{\"type\":\"field\",\"field\":\"Variable\",\"transform\":{\"id\":\"p2957\"}},\"fill_alpha\":{\"type\":\"value\",\"value\":0.1},\"hatch_color\":{\"type\":\"field\",\"field\":\"Variable\",\"transform\":{\"id\":\"p2957\"}},\"hatch_alpha\":{\"type\":\"value\",\"value\":0.1}}},\"muted_glyph\":{\"type\":\"object\",\"name\":\"VBar\",\"id\":\"p2966\",\"attributes\":{\"tags\":[\"apply_ranges\"],\"x\":{\"type\":\"field\",\"field\":\"xoffsets\"},\"width\":{\"type\":\"value\",\"value\":0.8},\"top\":{\"type\":\"field\",\"field\":\"value\"},\"line_alpha\":{\"type\":\"value\",\"value\":0.2},\"fill_color\":{\"type\":\"field\",\"field\":\"Variable\",\"transform\":{\"id\":\"p2957\"}},\"fill_alpha\":{\"type\":\"value\",\"value\":0.2},\"hatch_color\":{\"type\":\"field\",\"field\":\"Variable\",\"transform\":{\"id\":\"p2957\"}},\"hatch_alpha\":{\"type\":\"value\",\"value\":0.2}}}}}],\"toolbar\":{\"type\":\"object\",\"name\":\"Toolbar\",\"id\":\"p2935\",\"attributes\":{\"tools\":[{\"type\":\"object\",\"name\":\"WheelZoomTool\",\"id\":\"p2924\",\"attributes\":{\"tags\":[\"hv_created\"],\"renderers\":\"auto\",\"zoom_together\":\"none\"}},{\"type\":\"object\",\"name\":\"HoverTool\",\"id\":\"p2925\",\"attributes\":{\"tags\":[\"hv_created\"],\"renderers\":[{\"id\":\"p2967\"}],\"tooltips\":[[\"Engine\",\"@{Engine}\"],[\"Variable\",\"@{Variable}\"],[\"value\",\"@{value}\"]]}},{\"type\":\"object\",\"name\":\"SaveTool\",\"id\":\"p2948\"},{\"type\":\"object\",\"name\":\"PanTool\",\"id\":\"p2949\"},{\"type\":\"object\",\"name\":\"BoxZoomTool\",\"id\":\"p2950\",\"attributes\":{\"overlay\":{\"type\":\"object\",\"name\":\"BoxAnnotation\",\"id\":\"p2951\",\"attributes\":{\"syncable\":false,\"level\":\"overlay\",\"visible\":false,\"left\":{\"type\":\"number\",\"value\":\"nan\"},\"right\":{\"type\":\"number\",\"value\":\"nan\"},\"top\":{\"type\":\"number\",\"value\":\"nan\"},\"bottom\":{\"type\":\"number\",\"value\":\"nan\"},\"left_units\":\"canvas\",\"right_units\":\"canvas\",\"top_units\":\"canvas\",\"bottom_units\":\"canvas\",\"line_color\":\"black\",\"line_alpha\":1.0,\"line_width\":2,\"line_dash\":[4,4],\"fill_color\":\"lightgrey\",\"fill_alpha\":0.5}}}},{\"type\":\"object\",\"name\":\"ResetTool\",\"id\":\"p2956\"}],\"active_drag\":{\"id\":\"p2949\"},\"active_scroll\":{\"id\":\"p2924\"}}},\"left\":[{\"type\":\"object\",\"name\":\"LinearAxis\",\"id\":\"p2943\",\"attributes\":{\"ticker\":{\"type\":\"object\",\"name\":\"BasicTicker\",\"id\":\"p2944\",\"attributes\":{\"mantissas\":[1,2,5]}},\"formatter\":{\"type\":\"object\",\"name\":\"BasicTickFormatter\",\"id\":\"p2945\"},\"axis_label\":\"XLSX reading (minutes)\",\"major_label_policy\":{\"type\":\"object\",\"name\":\"AllLabels\",\"id\":\"p2946\"}}}],\"below\":[{\"type\":\"object\",\"name\":\"CategoricalAxis\",\"id\":\"p2938\",\"attributes\":{\"ticker\":{\"type\":\"object\",\"name\":\"CategoricalTicker\",\"id\":\"p2939\"},\"formatter\":{\"type\":\"object\",\"name\":\"CategoricalTickFormatter\",\"id\":\"p2940\"},\"axis_label\":\"Engine, Variable\",\"major_label_policy\":{\"type\":\"object\",\"name\":\"AllLabels\",\"id\":\"p2941\"}}}],\"center\":[{\"type\":\"object\",\"name\":\"Grid\",\"id\":\"p2942\",\"attributes\":{\"axis\":{\"id\":\"p2938\"},\"grid_line_color\":null}},{\"type\":\"object\",\"name\":\"Grid\",\"id\":\"p2947\",\"attributes\":{\"dimension\":1,\"axis\":{\"id\":\"p2943\"},\"grid_line_color\":null}}],\"min_border_top\":10,\"min_border_bottom\":10,\"min_border_left\":10,\"min_border_right\":10,\"output_backend\":\"webgl\"}},{\"type\":\"object\",\"name\":\"Spacer\",\"id\":\"p2972\",\"attributes\":{\"name\":\"HSpacer05251\",\"stylesheets\":[\"\\n:host(.pn-loading.pn-arc):before, .pn-loading.pn-arc:before {\\n  background-image: url(\\\"data:image/svg+xml;base64,PHN2ZyB4bWxucz0iaHR0cDovL3d3dy53My5vcmcvMjAwMC9zdmciIHN0eWxlPSJtYXJnaW46IGF1dG87IGJhY2tncm91bmQ6IG5vbmU7IGRpc3BsYXk6IGJsb2NrOyBzaGFwZS1yZW5kZXJpbmc6IGF1dG87IiB2aWV3Qm94PSIwIDAgMTAwIDEwMCIgcHJlc2VydmVBc3BlY3RSYXRpbz0ieE1pZFlNaWQiPiAgPGNpcmNsZSBjeD0iNTAiIGN5PSI1MCIgZmlsbD0ibm9uZSIgc3Ryb2tlPSIjYzNjM2MzIiBzdHJva2Utd2lkdGg9IjEwIiByPSIzNSIgc3Ryb2tlLWRhc2hhcnJheT0iMTY0LjkzMzYxNDMxMzQ2NDE1IDU2Ljk3Nzg3MTQzNzgyMTM4Ij4gICAgPGFuaW1hdGVUcmFuc2Zvcm0gYXR0cmlidXRlTmFtZT0idHJhbnNmb3JtIiB0eXBlPSJyb3RhdGUiIHJlcGVhdENvdW50PSJpbmRlZmluaXRlIiBkdXI9IjFzIiB2YWx1ZXM9IjAgNTAgNTA7MzYwIDUwIDUwIiBrZXlUaW1lcz0iMDsxIj48L2FuaW1hdGVUcmFuc2Zvcm0+ICA8L2NpcmNsZT48L3N2Zz4=\\\");\\n  background-size: auto calc(min(50%, 400px));\\n}\",{\"id\":\"p2917\"},{\"id\":\"p2915\"},{\"id\":\"p2916\"}],\"margin\":0,\"sizing_mode\":\"stretch_width\",\"align\":\"start\"}}]}}],\"defs\":[{\"type\":\"model\",\"name\":\"ReactiveHTML1\"},{\"type\":\"model\",\"name\":\"FlexBox1\",\"properties\":[{\"name\":\"align_content\",\"kind\":\"Any\",\"default\":\"flex-start\"},{\"name\":\"align_items\",\"kind\":\"Any\",\"default\":\"flex-start\"},{\"name\":\"flex_direction\",\"kind\":\"Any\",\"default\":\"row\"},{\"name\":\"flex_wrap\",\"kind\":\"Any\",\"default\":\"wrap\"},{\"name\":\"justify_content\",\"kind\":\"Any\",\"default\":\"flex-start\"}]},{\"type\":\"model\",\"name\":\"FloatPanel1\",\"properties\":[{\"name\":\"config\",\"kind\":\"Any\",\"default\":{\"type\":\"map\"}},{\"name\":\"contained\",\"kind\":\"Any\",\"default\":true},{\"name\":\"position\",\"kind\":\"Any\",\"default\":\"right-top\"},{\"name\":\"offsetx\",\"kind\":\"Any\",\"default\":null},{\"name\":\"offsety\",\"kind\":\"Any\",\"default\":null},{\"name\":\"theme\",\"kind\":\"Any\",\"default\":\"primary\"},{\"name\":\"status\",\"kind\":\"Any\",\"default\":\"normalized\"}]},{\"type\":\"model\",\"name\":\"GridStack1\",\"properties\":[{\"name\":\"mode\",\"kind\":\"Any\",\"default\":\"warn\"},{\"name\":\"ncols\",\"kind\":\"Any\",\"default\":null},{\"name\":\"nrows\",\"kind\":\"Any\",\"default\":null},{\"name\":\"allow_resize\",\"kind\":\"Any\",\"default\":true},{\"name\":\"allow_drag\",\"kind\":\"Any\",\"default\":true},{\"name\":\"state\",\"kind\":\"Any\",\"default\":[]}]},{\"type\":\"model\",\"name\":\"drag1\",\"properties\":[{\"name\":\"slider_width\",\"kind\":\"Any\",\"default\":5},{\"name\":\"slider_color\",\"kind\":\"Any\",\"default\":\"black\"},{\"name\":\"value\",\"kind\":\"Any\",\"default\":50}]},{\"type\":\"model\",\"name\":\"click1\",\"properties\":[{\"name\":\"terminal_output\",\"kind\":\"Any\",\"default\":\"\"},{\"name\":\"debug_name\",\"kind\":\"Any\",\"default\":\"\"},{\"name\":\"clears\",\"kind\":\"Any\",\"default\":0}]},{\"type\":\"model\",\"name\":\"copy_to_clipboard1\",\"properties\":[{\"name\":\"fill\",\"kind\":\"Any\",\"default\":\"none\"},{\"name\":\"value\",\"kind\":\"Any\",\"default\":null}]},{\"type\":\"model\",\"name\":\"FastWrapper1\",\"properties\":[{\"name\":\"object\",\"kind\":\"Any\",\"default\":null},{\"name\":\"style\",\"kind\":\"Any\",\"default\":null}]},{\"type\":\"model\",\"name\":\"NotificationAreaBase1\",\"properties\":[{\"name\":\"js_events\",\"kind\":\"Any\",\"default\":{\"type\":\"map\"}},{\"name\":\"position\",\"kind\":\"Any\",\"default\":\"bottom-right\"},{\"name\":\"_clear\",\"kind\":\"Any\",\"default\":0}]},{\"type\":\"model\",\"name\":\"NotificationArea1\",\"properties\":[{\"name\":\"js_events\",\"kind\":\"Any\",\"default\":{\"type\":\"map\"}},{\"name\":\"notifications\",\"kind\":\"Any\",\"default\":[]},{\"name\":\"position\",\"kind\":\"Any\",\"default\":\"bottom-right\"},{\"name\":\"_clear\",\"kind\":\"Any\",\"default\":0},{\"name\":\"types\",\"kind\":\"Any\",\"default\":[{\"type\":\"map\",\"entries\":[[\"type\",\"warning\"],[\"background\",\"#ffc107\"],[\"icon\",{\"type\":\"map\",\"entries\":[[\"className\",\"fas fa-exclamation-triangle\"],[\"tagName\",\"i\"],[\"color\",\"white\"]]}]]},{\"type\":\"map\",\"entries\":[[\"type\",\"info\"],[\"background\",\"#007bff\"],[\"icon\",{\"type\":\"map\",\"entries\":[[\"className\",\"fas fa-info-circle\"],[\"tagName\",\"i\"],[\"color\",\"white\"]]}]]}]}]},{\"type\":\"model\",\"name\":\"Notification\",\"properties\":[{\"name\":\"background\",\"kind\":\"Any\",\"default\":null},{\"name\":\"duration\",\"kind\":\"Any\",\"default\":3000},{\"name\":\"icon\",\"kind\":\"Any\",\"default\":null},{\"name\":\"message\",\"kind\":\"Any\",\"default\":\"\"},{\"name\":\"notification_type\",\"kind\":\"Any\",\"default\":null},{\"name\":\"_destroyed\",\"kind\":\"Any\",\"default\":false}]},{\"type\":\"model\",\"name\":\"TemplateActions1\",\"properties\":[{\"name\":\"open_modal\",\"kind\":\"Any\",\"default\":0},{\"name\":\"close_modal\",\"kind\":\"Any\",\"default\":0}]},{\"type\":\"model\",\"name\":\"BootstrapTemplateActions1\",\"properties\":[{\"name\":\"open_modal\",\"kind\":\"Any\",\"default\":0},{\"name\":\"close_modal\",\"kind\":\"Any\",\"default\":0}]},{\"type\":\"model\",\"name\":\"MaterialTemplateActions1\",\"properties\":[{\"name\":\"open_modal\",\"kind\":\"Any\",\"default\":0},{\"name\":\"close_modal\",\"kind\":\"Any\",\"default\":0}]}]}};\n",
       "  var render_items = [{\"docid\":\"b165a625-c28e-4437-b2c1-4c8202adced0\",\"roots\":{\"p2914\":\"cc788060-b219-4573-a71b-1af83e2ba504\"},\"root_ids\":[\"p2914\"]}];\n",
       "  var docs = Object.values(docs_json)\n",
       "  if (!docs) {\n",
       "    return\n",
       "  }\n",
       "  const py_version = docs[0].version.replace('rc', '-rc.').replace('.dev', '-dev.')\n",
       "  function embed_document(root) {\n",
       "    var Bokeh = get_bokeh(root)\n",
       "    Bokeh.embed.embed_items_notebook(docs_json, render_items);\n",
       "    for (const render_item of render_items) {\n",
       "      for (const root_id of render_item.root_ids) {\n",
       "\tconst id_el = document.getElementById(root_id)\n",
       "\tif (id_el.children.length && (id_el.children[0].className === 'bk-root')) {\n",
       "\t  const root_el = id_el.children[0]\n",
       "\t  root_el.id = root_el.id + '-rendered'\n",
       "\t}\n",
       "      }\n",
       "    }\n",
       "  }\n",
       "  function get_bokeh(root) {\n",
       "    if (root.Bokeh === undefined) {\n",
       "      return null\n",
       "    } else if (root.Bokeh.version !== py_version) {\n",
       "      if (root.Bokeh.versions === undefined || !root.Bokeh.versions.has(py_version)) {\n",
       "\treturn null\n",
       "      }\n",
       "      return root.Bokeh.versions.get(py_version);\n",
       "    } else if (root.Bokeh.version === py_version) {\n",
       "      return root.Bokeh\n",
       "    }\n",
       "    return null\n",
       "  }\n",
       "  function is_loaded(root) {\n",
       "    var Bokeh = get_bokeh(root)\n",
       "    return (Bokeh != null && Bokeh.Panel !== undefined)\n",
       "  }\n",
       "  if (is_loaded(root)) {\n",
       "    embed_document(root);\n",
       "  } else {\n",
       "    var attempts = 0;\n",
       "    var timer = setInterval(function(root) {\n",
       "      if (is_loaded(root)) {\n",
       "        clearInterval(timer);\n",
       "        embed_document(root);\n",
       "      } else if (document.readyState == \"complete\") {\n",
       "        attempts++;\n",
       "        if (attempts > 200) {\n",
       "          clearInterval(timer);\n",
       "\t  var Bokeh = get_bokeh(root)\n",
       "\t  if (Bokeh == null || Bokeh.Panel == null) {\n",
       "            console.warn(\"Panel: ERROR: Unable to run Panel code because Bokeh or Panel library is missing\");\n",
       "\t  } else {\n",
       "\t    console.warn(\"Panel: WARNING: Attempting to render but not all required libraries could be resolved.\")\n",
       "\t    embed_document(root)\n",
       "\t  }\n",
       "        }\n",
       "      }\n",
       "    }, 25, root)\n",
       "  }\n",
       "})(window);</script>"
      ],
      "text/plain": [
       ":Bars   [Engine,Variable]   (value)"
      ]
     },
     "execution_count": 42,
     "metadata": {
      "application/vnd.holoviews_exec.v0+json": {
       "id": "p2914"
      }
     },
     "output_type": "execute_result"
    }
   ],
   "source": [
    "df_bench_xlsx.sort(\"Wall Time\", descending=False).plot.bar(\n",
    "    y=[\"Wall Time\", \"CPU Time\"], x=\"Engine\", ylabel=\"XLSX reading (minutes)\"\n",
    ")\n"
   ]
  },
  {
   "cell_type": "code",
   "execution_count": 36,
   "metadata": {},
   "outputs": [
    {
     "data": {},
     "metadata": {},
     "output_type": "display_data"
    },
    {
     "data": {
      "application/vnd.holoviews_exec.v0+json": "",
      "text/html": [
       "<div id='p2474'>\n",
       "  <div id=\"a0205dd6-66ec-45e7-9efa-1afb396057fd\" data-root-id=\"p2474\" style=\"display: contents;\"></div>\n",
       "</div>\n",
       "<script type=\"application/javascript\">(function(root) {\n",
       "  var docs_json = {\"ed814ace-b23d-4d75-ab1d-b4220605c593\":{\"version\":\"3.3.3\",\"title\":\"Bokeh Application\",\"roots\":[{\"type\":\"object\",\"name\":\"Row\",\"id\":\"p2474\",\"attributes\":{\"name\":\"Row04308\",\"tags\":[\"embedded\"],\"stylesheets\":[\"\\n:host(.pn-loading.pn-arc):before, .pn-loading.pn-arc:before {\\n  background-image: url(\\\"data:image/svg+xml;base64,PHN2ZyB4bWxucz0iaHR0cDovL3d3dy53My5vcmcvMjAwMC9zdmciIHN0eWxlPSJtYXJnaW46IGF1dG87IGJhY2tncm91bmQ6IG5vbmU7IGRpc3BsYXk6IGJsb2NrOyBzaGFwZS1yZW5kZXJpbmc6IGF1dG87IiB2aWV3Qm94PSIwIDAgMTAwIDEwMCIgcHJlc2VydmVBc3BlY3RSYXRpbz0ieE1pZFlNaWQiPiAgPGNpcmNsZSBjeD0iNTAiIGN5PSI1MCIgZmlsbD0ibm9uZSIgc3Ryb2tlPSIjYzNjM2MzIiBzdHJva2Utd2lkdGg9IjEwIiByPSIzNSIgc3Ryb2tlLWRhc2hhcnJheT0iMTY0LjkzMzYxNDMxMzQ2NDE1IDU2Ljk3Nzg3MTQzNzgyMTM4Ij4gICAgPGFuaW1hdGVUcmFuc2Zvcm0gYXR0cmlidXRlTmFtZT0idHJhbnNmb3JtIiB0eXBlPSJyb3RhdGUiIHJlcGVhdENvdW50PSJpbmRlZmluaXRlIiBkdXI9IjFzIiB2YWx1ZXM9IjAgNTAgNTA7MzYwIDUwIDUwIiBrZXlUaW1lcz0iMDsxIj48L2FuaW1hdGVUcmFuc2Zvcm0+ICA8L2NpcmNsZT48L3N2Zz4=\\\");\\n  background-size: auto calc(min(50%, 400px));\\n}\",{\"type\":\"object\",\"name\":\"ImportedStyleSheet\",\"id\":\"p2477\",\"attributes\":{\"url\":\"https://cdn.holoviz.org/panel/1.3.6/dist/css/loading.css\"}},{\"type\":\"object\",\"name\":\"ImportedStyleSheet\",\"id\":\"p2534\",\"attributes\":{\"url\":\"https://cdn.holoviz.org/panel/1.3.6/dist/css/listpanel.css\"}},{\"type\":\"object\",\"name\":\"ImportedStyleSheet\",\"id\":\"p2475\",\"attributes\":{\"url\":\"https://cdn.holoviz.org/panel/1.3.6/dist/bundled/theme/default.css\"}},{\"type\":\"object\",\"name\":\"ImportedStyleSheet\",\"id\":\"p2476\",\"attributes\":{\"url\":\"https://cdn.holoviz.org/panel/1.3.6/dist/bundled/theme/native.css\"}}],\"min_width\":700,\"margin\":0,\"sizing_mode\":\"stretch_width\",\"align\":\"start\",\"children\":[{\"type\":\"object\",\"name\":\"Spacer\",\"id\":\"p2478\",\"attributes\":{\"name\":\"HSpacer04315\",\"stylesheets\":[\"\\n:host(.pn-loading.pn-arc):before, .pn-loading.pn-arc:before {\\n  background-image: url(\\\"data:image/svg+xml;base64,PHN2ZyB4bWxucz0iaHR0cDovL3d3dy53My5vcmcvMjAwMC9zdmciIHN0eWxlPSJtYXJnaW46IGF1dG87IGJhY2tncm91bmQ6IG5vbmU7IGRpc3BsYXk6IGJsb2NrOyBzaGFwZS1yZW5kZXJpbmc6IGF1dG87IiB2aWV3Qm94PSIwIDAgMTAwIDEwMCIgcHJlc2VydmVBc3BlY3RSYXRpbz0ieE1pZFlNaWQiPiAgPGNpcmNsZSBjeD0iNTAiIGN5PSI1MCIgZmlsbD0ibm9uZSIgc3Ryb2tlPSIjYzNjM2MzIiBzdHJva2Utd2lkdGg9IjEwIiByPSIzNSIgc3Ryb2tlLWRhc2hhcnJheT0iMTY0LjkzMzYxNDMxMzQ2NDE1IDU2Ljk3Nzg3MTQzNzgyMTM4Ij4gICAgPGFuaW1hdGVUcmFuc2Zvcm0gYXR0cmlidXRlTmFtZT0idHJhbnNmb3JtIiB0eXBlPSJyb3RhdGUiIHJlcGVhdENvdW50PSJpbmRlZmluaXRlIiBkdXI9IjFzIiB2YWx1ZXM9IjAgNTAgNTA7MzYwIDUwIDUwIiBrZXlUaW1lcz0iMDsxIj48L2FuaW1hdGVUcmFuc2Zvcm0+ICA8L2NpcmNsZT48L3N2Zz4=\\\");\\n  background-size: auto calc(min(50%, 400px));\\n}\",{\"id\":\"p2477\"},{\"id\":\"p2475\"},{\"id\":\"p2476\"}],\"margin\":0,\"sizing_mode\":\"stretch_width\",\"align\":\"start\"}},{\"type\":\"object\",\"name\":\"Figure\",\"id\":\"p2486\",\"attributes\":{\"width\":700,\"height\":300,\"margin\":[5,10],\"sizing_mode\":\"fixed\",\"align\":\"start\",\"x_range\":{\"type\":\"object\",\"name\":\"FactorRange\",\"id\":\"p2479\",\"attributes\":{\"tags\":[[[\"Engine\",\"Engine\",null],[\"Variable\",\"Variable\",null]],[]],\"factors\":[[\"Calamine\",\"CPU Time\"],[\"Calamine\",\"Wall Time\"],[\"RXLS\",\"CPU Time\"],[\"RXLS\",\"Wall Time\"],[\"PyXLSB\",\"CPU Time\"],[\"PyXLSB\",\"Wall Time\"]]}},\"y_range\":{\"type\":\"object\",\"name\":\"Range1d\",\"id\":\"p2480\",\"attributes\":{\"tags\":[[[\"value\",\"value\",null]],{\"type\":\"map\",\"entries\":[[\"invert_yaxis\",false],[\"autorange\",false]]}],\"end\":2.9578333333333333,\"reset_start\":0.0,\"reset_end\":2.9578333333333333}},\"x_scale\":{\"type\":\"object\",\"name\":\"CategoricalScale\",\"id\":\"p2496\"},\"y_scale\":{\"type\":\"object\",\"name\":\"LinearScale\",\"id\":\"p2497\"},\"title\":{\"type\":\"object\",\"name\":\"Title\",\"id\":\"p2489\",\"attributes\":{\"text_color\":\"black\",\"text_font_size\":\"12pt\"}},\"renderers\":[{\"type\":\"object\",\"name\":\"GlyphRenderer\",\"id\":\"p2527\",\"attributes\":{\"data_source\":{\"type\":\"object\",\"name\":\"ColumnDataSource\",\"id\":\"p2518\",\"attributes\":{\"selected\":{\"type\":\"object\",\"name\":\"Selection\",\"id\":\"p2519\",\"attributes\":{\"indices\":[],\"line_indices\":[]}},\"selection_policy\":{\"type\":\"object\",\"name\":\"UnionRenderers\",\"id\":\"p2520\"},\"data\":{\"type\":\"map\",\"entries\":[[\"xoffsets\",[[\"Calamine\",\"Wall Time\"],[\"RXLS\",\"Wall Time\"],[\"PyXLSB\",\"Wall Time\"],[\"Calamine\",\"CPU Time\"],[\"RXLS\",\"CPU Time\"],[\"PyXLSB\",\"CPU Time\"]]],[\"value\",{\"type\":\"ndarray\",\"array\":{\"type\":\"bytes\",\"data\":\"uB6F61G41j/v7u7u7u76P7y7u7u7uwVAhetRuB6F0z9mZmZmZmb2P7y7u7u7uwVA\"},\"shape\":[6],\"dtype\":\"float64\",\"order\":\"little\"}],[\"Engine\",[\"Calamine\",\"RXLS\",\"PyXLSB\",\"Calamine\",\"RXLS\",\"PyXLSB\"]],[\"Variable\",[\"Wall Time\",\"Wall Time\",\"Wall Time\",\"CPU Time\",\"CPU Time\",\"CPU Time\"]]]}}},\"view\":{\"type\":\"object\",\"name\":\"CDSView\",\"id\":\"p2528\",\"attributes\":{\"filter\":{\"type\":\"object\",\"name\":\"AllIndices\",\"id\":\"p2529\"}}},\"glyph\":{\"type\":\"object\",\"name\":\"VBar\",\"id\":\"p2524\",\"attributes\":{\"tags\":[\"apply_ranges\"],\"x\":{\"type\":\"field\",\"field\":\"xoffsets\"},\"width\":{\"type\":\"value\",\"value\":0.8},\"top\":{\"type\":\"field\",\"field\":\"value\"},\"fill_color\":{\"type\":\"field\",\"field\":\"Variable\",\"transform\":{\"type\":\"object\",\"name\":\"CategoricalColorMapper\",\"id\":\"p2517\",\"attributes\":{\"palette\":[\"#30a2da\",\"#fc4f30\"],\"factors\":[\"Wall Time\",\"CPU Time\"]}}},\"hatch_color\":{\"type\":\"field\",\"field\":\"Variable\",\"transform\":{\"id\":\"p2517\"}}}},\"selection_glyph\":{\"type\":\"object\",\"name\":\"VBar\",\"id\":\"p2530\",\"attributes\":{\"tags\":[\"apply_ranges\"],\"x\":{\"type\":\"field\",\"field\":\"xoffsets\"},\"width\":{\"type\":\"value\",\"value\":0.8},\"bottom\":{\"type\":\"value\",\"value\":0},\"top\":{\"type\":\"field\",\"field\":\"value\"},\"line_color\":{\"type\":\"value\",\"value\":\"black\"},\"line_alpha\":{\"type\":\"value\",\"value\":1.0},\"line_width\":{\"type\":\"value\",\"value\":1},\"line_join\":{\"type\":\"value\",\"value\":\"bevel\"},\"line_cap\":{\"type\":\"value\",\"value\":\"butt\"},\"line_dash\":{\"type\":\"value\",\"value\":[]},\"line_dash_offset\":{\"type\":\"value\",\"value\":0},\"fill_color\":{\"type\":\"field\",\"field\":\"Variable\",\"transform\":{\"id\":\"p2517\"}},\"fill_alpha\":{\"type\":\"value\",\"value\":1.0},\"hatch_color\":{\"type\":\"field\",\"field\":\"Variable\",\"transform\":{\"id\":\"p2517\"}},\"hatch_alpha\":{\"type\":\"value\",\"value\":1.0},\"hatch_scale\":{\"type\":\"value\",\"value\":12.0},\"hatch_pattern\":{\"type\":\"value\",\"value\":null},\"hatch_weight\":{\"type\":\"value\",\"value\":1.0}}},\"nonselection_glyph\":{\"type\":\"object\",\"name\":\"VBar\",\"id\":\"p2525\",\"attributes\":{\"tags\":[\"apply_ranges\"],\"x\":{\"type\":\"field\",\"field\":\"xoffsets\"},\"width\":{\"type\":\"value\",\"value\":0.8},\"top\":{\"type\":\"field\",\"field\":\"value\"},\"line_alpha\":{\"type\":\"value\",\"value\":0.1},\"fill_color\":{\"type\":\"field\",\"field\":\"Variable\",\"transform\":{\"id\":\"p2517\"}},\"fill_alpha\":{\"type\":\"value\",\"value\":0.1},\"hatch_color\":{\"type\":\"field\",\"field\":\"Variable\",\"transform\":{\"id\":\"p2517\"}},\"hatch_alpha\":{\"type\":\"value\",\"value\":0.1}}},\"muted_glyph\":{\"type\":\"object\",\"name\":\"VBar\",\"id\":\"p2526\",\"attributes\":{\"tags\":[\"apply_ranges\"],\"x\":{\"type\":\"field\",\"field\":\"xoffsets\"},\"width\":{\"type\":\"value\",\"value\":0.8},\"top\":{\"type\":\"field\",\"field\":\"value\"},\"line_alpha\":{\"type\":\"value\",\"value\":0.2},\"fill_color\":{\"type\":\"field\",\"field\":\"Variable\",\"transform\":{\"id\":\"p2517\"}},\"fill_alpha\":{\"type\":\"value\",\"value\":0.2},\"hatch_color\":{\"type\":\"field\",\"field\":\"Variable\",\"transform\":{\"id\":\"p2517\"}},\"hatch_alpha\":{\"type\":\"value\",\"value\":0.2}}}}}],\"toolbar\":{\"type\":\"object\",\"name\":\"Toolbar\",\"id\":\"p2495\",\"attributes\":{\"tools\":[{\"type\":\"object\",\"name\":\"WheelZoomTool\",\"id\":\"p2484\",\"attributes\":{\"tags\":[\"hv_created\"],\"renderers\":\"auto\",\"zoom_together\":\"none\"}},{\"type\":\"object\",\"name\":\"HoverTool\",\"id\":\"p2485\",\"attributes\":{\"tags\":[\"hv_created\"],\"renderers\":[{\"id\":\"p2527\"}],\"tooltips\":[[\"Engine\",\"@{Engine}\"],[\"Variable\",\"@{Variable}\"],[\"value\",\"@{value}\"]]}},{\"type\":\"object\",\"name\":\"SaveTool\",\"id\":\"p2508\"},{\"type\":\"object\",\"name\":\"PanTool\",\"id\":\"p2509\"},{\"type\":\"object\",\"name\":\"BoxZoomTool\",\"id\":\"p2510\",\"attributes\":{\"overlay\":{\"type\":\"object\",\"name\":\"BoxAnnotation\",\"id\":\"p2511\",\"attributes\":{\"syncable\":false,\"level\":\"overlay\",\"visible\":false,\"left\":{\"type\":\"number\",\"value\":\"nan\"},\"right\":{\"type\":\"number\",\"value\":\"nan\"},\"top\":{\"type\":\"number\",\"value\":\"nan\"},\"bottom\":{\"type\":\"number\",\"value\":\"nan\"},\"left_units\":\"canvas\",\"right_units\":\"canvas\",\"top_units\":\"canvas\",\"bottom_units\":\"canvas\",\"line_color\":\"black\",\"line_alpha\":1.0,\"line_width\":2,\"line_dash\":[4,4],\"fill_color\":\"lightgrey\",\"fill_alpha\":0.5}}}},{\"type\":\"object\",\"name\":\"ResetTool\",\"id\":\"p2516\"}],\"active_drag\":{\"id\":\"p2509\"},\"active_scroll\":{\"id\":\"p2484\"}}},\"left\":[{\"type\":\"object\",\"name\":\"LinearAxis\",\"id\":\"p2503\",\"attributes\":{\"ticker\":{\"type\":\"object\",\"name\":\"BasicTicker\",\"id\":\"p2504\",\"attributes\":{\"mantissas\":[1,2,5]}},\"formatter\":{\"type\":\"object\",\"name\":\"BasicTickFormatter\",\"id\":\"p2505\"},\"axis_label\":\"XLSB reading (minutes)\",\"major_label_policy\":{\"type\":\"object\",\"name\":\"AllLabels\",\"id\":\"p2506\"}}}],\"below\":[{\"type\":\"object\",\"name\":\"CategoricalAxis\",\"id\":\"p2498\",\"attributes\":{\"ticker\":{\"type\":\"object\",\"name\":\"CategoricalTicker\",\"id\":\"p2499\"},\"formatter\":{\"type\":\"object\",\"name\":\"CategoricalTickFormatter\",\"id\":\"p2500\"},\"axis_label\":\"Engine, Variable\",\"major_label_policy\":{\"type\":\"object\",\"name\":\"AllLabels\",\"id\":\"p2501\"}}}],\"center\":[{\"type\":\"object\",\"name\":\"Grid\",\"id\":\"p2502\",\"attributes\":{\"axis\":{\"id\":\"p2498\"},\"grid_line_color\":null}},{\"type\":\"object\",\"name\":\"Grid\",\"id\":\"p2507\",\"attributes\":{\"dimension\":1,\"axis\":{\"id\":\"p2503\"},\"grid_line_color\":null}}],\"min_border_top\":10,\"min_border_bottom\":10,\"min_border_left\":10,\"min_border_right\":10,\"output_backend\":\"webgl\"}},{\"type\":\"object\",\"name\":\"Spacer\",\"id\":\"p2532\",\"attributes\":{\"name\":\"HSpacer04316\",\"stylesheets\":[\"\\n:host(.pn-loading.pn-arc):before, .pn-loading.pn-arc:before {\\n  background-image: url(\\\"data:image/svg+xml;base64,PHN2ZyB4bWxucz0iaHR0cDovL3d3dy53My5vcmcvMjAwMC9zdmciIHN0eWxlPSJtYXJnaW46IGF1dG87IGJhY2tncm91bmQ6IG5vbmU7IGRpc3BsYXk6IGJsb2NrOyBzaGFwZS1yZW5kZXJpbmc6IGF1dG87IiB2aWV3Qm94PSIwIDAgMTAwIDEwMCIgcHJlc2VydmVBc3BlY3RSYXRpbz0ieE1pZFlNaWQiPiAgPGNpcmNsZSBjeD0iNTAiIGN5PSI1MCIgZmlsbD0ibm9uZSIgc3Ryb2tlPSIjYzNjM2MzIiBzdHJva2Utd2lkdGg9IjEwIiByPSIzNSIgc3Ryb2tlLWRhc2hhcnJheT0iMTY0LjkzMzYxNDMxMzQ2NDE1IDU2Ljk3Nzg3MTQzNzgyMTM4Ij4gICAgPGFuaW1hdGVUcmFuc2Zvcm0gYXR0cmlidXRlTmFtZT0idHJhbnNmb3JtIiB0eXBlPSJyb3RhdGUiIHJlcGVhdENvdW50PSJpbmRlZmluaXRlIiBkdXI9IjFzIiB2YWx1ZXM9IjAgNTAgNTA7MzYwIDUwIDUwIiBrZXlUaW1lcz0iMDsxIj48L2FuaW1hdGVUcmFuc2Zvcm0+ICA8L2NpcmNsZT48L3N2Zz4=\\\");\\n  background-size: auto calc(min(50%, 400px));\\n}\",{\"id\":\"p2477\"},{\"id\":\"p2475\"},{\"id\":\"p2476\"}],\"margin\":0,\"sizing_mode\":\"stretch_width\",\"align\":\"start\"}}]}}],\"defs\":[{\"type\":\"model\",\"name\":\"ReactiveHTML1\"},{\"type\":\"model\",\"name\":\"FlexBox1\",\"properties\":[{\"name\":\"align_content\",\"kind\":\"Any\",\"default\":\"flex-start\"},{\"name\":\"align_items\",\"kind\":\"Any\",\"default\":\"flex-start\"},{\"name\":\"flex_direction\",\"kind\":\"Any\",\"default\":\"row\"},{\"name\":\"flex_wrap\",\"kind\":\"Any\",\"default\":\"wrap\"},{\"name\":\"justify_content\",\"kind\":\"Any\",\"default\":\"flex-start\"}]},{\"type\":\"model\",\"name\":\"FloatPanel1\",\"properties\":[{\"name\":\"config\",\"kind\":\"Any\",\"default\":{\"type\":\"map\"}},{\"name\":\"contained\",\"kind\":\"Any\",\"default\":true},{\"name\":\"position\",\"kind\":\"Any\",\"default\":\"right-top\"},{\"name\":\"offsetx\",\"kind\":\"Any\",\"default\":null},{\"name\":\"offsety\",\"kind\":\"Any\",\"default\":null},{\"name\":\"theme\",\"kind\":\"Any\",\"default\":\"primary\"},{\"name\":\"status\",\"kind\":\"Any\",\"default\":\"normalized\"}]},{\"type\":\"model\",\"name\":\"GridStack1\",\"properties\":[{\"name\":\"mode\",\"kind\":\"Any\",\"default\":\"warn\"},{\"name\":\"ncols\",\"kind\":\"Any\",\"default\":null},{\"name\":\"nrows\",\"kind\":\"Any\",\"default\":null},{\"name\":\"allow_resize\",\"kind\":\"Any\",\"default\":true},{\"name\":\"allow_drag\",\"kind\":\"Any\",\"default\":true},{\"name\":\"state\",\"kind\":\"Any\",\"default\":[]}]},{\"type\":\"model\",\"name\":\"drag1\",\"properties\":[{\"name\":\"slider_width\",\"kind\":\"Any\",\"default\":5},{\"name\":\"slider_color\",\"kind\":\"Any\",\"default\":\"black\"},{\"name\":\"value\",\"kind\":\"Any\",\"default\":50}]},{\"type\":\"model\",\"name\":\"click1\",\"properties\":[{\"name\":\"terminal_output\",\"kind\":\"Any\",\"default\":\"\"},{\"name\":\"debug_name\",\"kind\":\"Any\",\"default\":\"\"},{\"name\":\"clears\",\"kind\":\"Any\",\"default\":0}]},{\"type\":\"model\",\"name\":\"copy_to_clipboard1\",\"properties\":[{\"name\":\"fill\",\"kind\":\"Any\",\"default\":\"none\"},{\"name\":\"value\",\"kind\":\"Any\",\"default\":null}]},{\"type\":\"model\",\"name\":\"FastWrapper1\",\"properties\":[{\"name\":\"object\",\"kind\":\"Any\",\"default\":null},{\"name\":\"style\",\"kind\":\"Any\",\"default\":null}]},{\"type\":\"model\",\"name\":\"NotificationAreaBase1\",\"properties\":[{\"name\":\"js_events\",\"kind\":\"Any\",\"default\":{\"type\":\"map\"}},{\"name\":\"position\",\"kind\":\"Any\",\"default\":\"bottom-right\"},{\"name\":\"_clear\",\"kind\":\"Any\",\"default\":0}]},{\"type\":\"model\",\"name\":\"NotificationArea1\",\"properties\":[{\"name\":\"js_events\",\"kind\":\"Any\",\"default\":{\"type\":\"map\"}},{\"name\":\"notifications\",\"kind\":\"Any\",\"default\":[]},{\"name\":\"position\",\"kind\":\"Any\",\"default\":\"bottom-right\"},{\"name\":\"_clear\",\"kind\":\"Any\",\"default\":0},{\"name\":\"types\",\"kind\":\"Any\",\"default\":[{\"type\":\"map\",\"entries\":[[\"type\",\"warning\"],[\"background\",\"#ffc107\"],[\"icon\",{\"type\":\"map\",\"entries\":[[\"className\",\"fas fa-exclamation-triangle\"],[\"tagName\",\"i\"],[\"color\",\"white\"]]}]]},{\"type\":\"map\",\"entries\":[[\"type\",\"info\"],[\"background\",\"#007bff\"],[\"icon\",{\"type\":\"map\",\"entries\":[[\"className\",\"fas fa-info-circle\"],[\"tagName\",\"i\"],[\"color\",\"white\"]]}]]}]}]},{\"type\":\"model\",\"name\":\"Notification\",\"properties\":[{\"name\":\"background\",\"kind\":\"Any\",\"default\":null},{\"name\":\"duration\",\"kind\":\"Any\",\"default\":3000},{\"name\":\"icon\",\"kind\":\"Any\",\"default\":null},{\"name\":\"message\",\"kind\":\"Any\",\"default\":\"\"},{\"name\":\"notification_type\",\"kind\":\"Any\",\"default\":null},{\"name\":\"_destroyed\",\"kind\":\"Any\",\"default\":false}]},{\"type\":\"model\",\"name\":\"TemplateActions1\",\"properties\":[{\"name\":\"open_modal\",\"kind\":\"Any\",\"default\":0},{\"name\":\"close_modal\",\"kind\":\"Any\",\"default\":0}]},{\"type\":\"model\",\"name\":\"BootstrapTemplateActions1\",\"properties\":[{\"name\":\"open_modal\",\"kind\":\"Any\",\"default\":0},{\"name\":\"close_modal\",\"kind\":\"Any\",\"default\":0}]},{\"type\":\"model\",\"name\":\"MaterialTemplateActions1\",\"properties\":[{\"name\":\"open_modal\",\"kind\":\"Any\",\"default\":0},{\"name\":\"close_modal\",\"kind\":\"Any\",\"default\":0}]}]}};\n",
       "  var render_items = [{\"docid\":\"ed814ace-b23d-4d75-ab1d-b4220605c593\",\"roots\":{\"p2474\":\"a0205dd6-66ec-45e7-9efa-1afb396057fd\"},\"root_ids\":[\"p2474\"]}];\n",
       "  var docs = Object.values(docs_json)\n",
       "  if (!docs) {\n",
       "    return\n",
       "  }\n",
       "  const py_version = docs[0].version.replace('rc', '-rc.').replace('.dev', '-dev.')\n",
       "  function embed_document(root) {\n",
       "    var Bokeh = get_bokeh(root)\n",
       "    Bokeh.embed.embed_items_notebook(docs_json, render_items);\n",
       "    for (const render_item of render_items) {\n",
       "      for (const root_id of render_item.root_ids) {\n",
       "\tconst id_el = document.getElementById(root_id)\n",
       "\tif (id_el.children.length && (id_el.children[0].className === 'bk-root')) {\n",
       "\t  const root_el = id_el.children[0]\n",
       "\t  root_el.id = root_el.id + '-rendered'\n",
       "\t}\n",
       "      }\n",
       "    }\n",
       "  }\n",
       "  function get_bokeh(root) {\n",
       "    if (root.Bokeh === undefined) {\n",
       "      return null\n",
       "    } else if (root.Bokeh.version !== py_version) {\n",
       "      if (root.Bokeh.versions === undefined || !root.Bokeh.versions.has(py_version)) {\n",
       "\treturn null\n",
       "      }\n",
       "      return root.Bokeh.versions.get(py_version);\n",
       "    } else if (root.Bokeh.version === py_version) {\n",
       "      return root.Bokeh\n",
       "    }\n",
       "    return null\n",
       "  }\n",
       "  function is_loaded(root) {\n",
       "    var Bokeh = get_bokeh(root)\n",
       "    return (Bokeh != null && Bokeh.Panel !== undefined)\n",
       "  }\n",
       "  if (is_loaded(root)) {\n",
       "    embed_document(root);\n",
       "  } else {\n",
       "    var attempts = 0;\n",
       "    var timer = setInterval(function(root) {\n",
       "      if (is_loaded(root)) {\n",
       "        clearInterval(timer);\n",
       "        embed_document(root);\n",
       "      } else if (document.readyState == \"complete\") {\n",
       "        attempts++;\n",
       "        if (attempts > 200) {\n",
       "          clearInterval(timer);\n",
       "\t  var Bokeh = get_bokeh(root)\n",
       "\t  if (Bokeh == null || Bokeh.Panel == null) {\n",
       "            console.warn(\"Panel: ERROR: Unable to run Panel code because Bokeh or Panel library is missing\");\n",
       "\t  } else {\n",
       "\t    console.warn(\"Panel: WARNING: Attempting to render but not all required libraries could be resolved.\")\n",
       "\t    embed_document(root)\n",
       "\t  }\n",
       "        }\n",
       "      }\n",
       "    }, 25, root)\n",
       "  }\n",
       "})(window);</script>"
      ],
      "text/plain": [
       ":Bars   [Engine,Variable]   (value)"
      ]
     },
     "execution_count": 36,
     "metadata": {
      "application/vnd.holoviews_exec.v0+json": {
       "id": "p2474"
      }
     },
     "output_type": "execute_result"
    }
   ],
   "source": [
    "df_bench_xlsb.sort(\"Wall Time\", descending=False).plot.bar(\n",
    "    y=[\"Wall Time\", \"CPU Time\"], x=\"Engine\", ylabel=\"XLSB reading (minutes)\"\n",
    ")"
   ]
  },
  {
   "cell_type": "code",
   "execution_count": 39,
   "metadata": {},
   "outputs": [
    {
     "data": {},
     "metadata": {},
     "output_type": "display_data"
    },
    {
     "data": {
      "application/vnd.holoviews_exec.v0+json": "",
      "text/html": [
       "<div id='p2663'>\n",
       "  <div id=\"a7bcbaae-4b94-4b09-b43c-0126d1b1e971\" data-root-id=\"p2663\" style=\"display: contents;\"></div>\n",
       "</div>\n",
       "<script type=\"application/javascript\">(function(root) {\n",
       "  var docs_json = {\"e9526c31-a40f-4251-b8ad-25f1ae66c542\":{\"version\":\"3.3.3\",\"title\":\"Bokeh Application\",\"roots\":[{\"type\":\"object\",\"name\":\"Row\",\"id\":\"p2663\",\"attributes\":{\"name\":\"Row04693\",\"tags\":[\"embedded\"],\"stylesheets\":[\"\\n:host(.pn-loading.pn-arc):before, .pn-loading.pn-arc:before {\\n  background-image: url(\\\"data:image/svg+xml;base64,PHN2ZyB4bWxucz0iaHR0cDovL3d3dy53My5vcmcvMjAwMC9zdmciIHN0eWxlPSJtYXJnaW46IGF1dG87IGJhY2tncm91bmQ6IG5vbmU7IGRpc3BsYXk6IGJsb2NrOyBzaGFwZS1yZW5kZXJpbmc6IGF1dG87IiB2aWV3Qm94PSIwIDAgMTAwIDEwMCIgcHJlc2VydmVBc3BlY3RSYXRpbz0ieE1pZFlNaWQiPiAgPGNpcmNsZSBjeD0iNTAiIGN5PSI1MCIgZmlsbD0ibm9uZSIgc3Ryb2tlPSIjYzNjM2MzIiBzdHJva2Utd2lkdGg9IjEwIiByPSIzNSIgc3Ryb2tlLWRhc2hhcnJheT0iMTY0LjkzMzYxNDMxMzQ2NDE1IDU2Ljk3Nzg3MTQzNzgyMTM4Ij4gICAgPGFuaW1hdGVUcmFuc2Zvcm0gYXR0cmlidXRlTmFtZT0idHJhbnNmb3JtIiB0eXBlPSJyb3RhdGUiIHJlcGVhdENvdW50PSJpbmRlZmluaXRlIiBkdXI9IjFzIiB2YWx1ZXM9IjAgNTAgNTA7MzYwIDUwIDUwIiBrZXlUaW1lcz0iMDsxIj48L2FuaW1hdGVUcmFuc2Zvcm0+ICA8L2NpcmNsZT48L3N2Zz4=\\\");\\n  background-size: auto calc(min(50%, 400px));\\n}\",{\"type\":\"object\",\"name\":\"ImportedStyleSheet\",\"id\":\"p2666\",\"attributes\":{\"url\":\"https://cdn.holoviz.org/panel/1.3.6/dist/css/loading.css\"}},{\"type\":\"object\",\"name\":\"ImportedStyleSheet\",\"id\":\"p2723\",\"attributes\":{\"url\":\"https://cdn.holoviz.org/panel/1.3.6/dist/css/listpanel.css\"}},{\"type\":\"object\",\"name\":\"ImportedStyleSheet\",\"id\":\"p2664\",\"attributes\":{\"url\":\"https://cdn.holoviz.org/panel/1.3.6/dist/bundled/theme/default.css\"}},{\"type\":\"object\",\"name\":\"ImportedStyleSheet\",\"id\":\"p2665\",\"attributes\":{\"url\":\"https://cdn.holoviz.org/panel/1.3.6/dist/bundled/theme/native.css\"}}],\"min_width\":700,\"margin\":0,\"sizing_mode\":\"stretch_width\",\"align\":\"start\",\"children\":[{\"type\":\"object\",\"name\":\"Spacer\",\"id\":\"p2667\",\"attributes\":{\"name\":\"HSpacer04700\",\"stylesheets\":[\"\\n:host(.pn-loading.pn-arc):before, .pn-loading.pn-arc:before {\\n  background-image: url(\\\"data:image/svg+xml;base64,PHN2ZyB4bWxucz0iaHR0cDovL3d3dy53My5vcmcvMjAwMC9zdmciIHN0eWxlPSJtYXJnaW46IGF1dG87IGJhY2tncm91bmQ6IG5vbmU7IGRpc3BsYXk6IGJsb2NrOyBzaGFwZS1yZW5kZXJpbmc6IGF1dG87IiB2aWV3Qm94PSIwIDAgMTAwIDEwMCIgcHJlc2VydmVBc3BlY3RSYXRpbz0ieE1pZFlNaWQiPiAgPGNpcmNsZSBjeD0iNTAiIGN5PSI1MCIgZmlsbD0ibm9uZSIgc3Ryb2tlPSIjYzNjM2MzIiBzdHJva2Utd2lkdGg9IjEwIiByPSIzNSIgc3Ryb2tlLWRhc2hhcnJheT0iMTY0LjkzMzYxNDMxMzQ2NDE1IDU2Ljk3Nzg3MTQzNzgyMTM4Ij4gICAgPGFuaW1hdGVUcmFuc2Zvcm0gYXR0cmlidXRlTmFtZT0idHJhbnNmb3JtIiB0eXBlPSJyb3RhdGUiIHJlcGVhdENvdW50PSJpbmRlZmluaXRlIiBkdXI9IjFzIiB2YWx1ZXM9IjAgNTAgNTA7MzYwIDUwIDUwIiBrZXlUaW1lcz0iMDsxIj48L2FuaW1hdGVUcmFuc2Zvcm0+ICA8L2NpcmNsZT48L3N2Zz4=\\\");\\n  background-size: auto calc(min(50%, 400px));\\n}\",{\"id\":\"p2666\"},{\"id\":\"p2664\"},{\"id\":\"p2665\"}],\"margin\":0,\"sizing_mode\":\"stretch_width\",\"align\":\"start\"}},{\"type\":\"object\",\"name\":\"Figure\",\"id\":\"p2675\",\"attributes\":{\"width\":700,\"height\":300,\"margin\":[5,10],\"sizing_mode\":\"fixed\",\"align\":\"start\",\"x_range\":{\"type\":\"object\",\"name\":\"FactorRange\",\"id\":\"p2668\",\"attributes\":{\"tags\":[[[\"Engine\",\"Engine\",null],[\"Variable\",\"Variable\",null]],[]],\"factors\":[[\"XLSX2CSV\",\"Increment (MiB)\"],[\"XLSX2CSV\",\"Peak Memory (MiB)\"],[\"RXLS\",\"Increment (MiB)\"],[\"RXLS\",\"Peak Memory (MiB)\"],[\"Calamine\",\"Increment (MiB)\"],[\"Calamine\",\"Peak Memory (MiB)\"],[\"OpenPyXL\",\"Increment (MiB)\"],[\"OpenPyXL\",\"Peak Memory (MiB)\"]]}},\"y_range\":{\"type\":\"object\",\"name\":\"Range1d\",\"id\":\"p2669\",\"attributes\":{\"tags\":[[[\"value\",\"value\",null]],{\"type\":\"map\",\"entries\":[[\"invert_yaxis\",false],[\"autorange\",false]]}],\"end\":4898.388999999999,\"reset_start\":0.0,\"reset_end\":4898.388999999999}},\"x_scale\":{\"type\":\"object\",\"name\":\"CategoricalScale\",\"id\":\"p2685\"},\"y_scale\":{\"type\":\"object\",\"name\":\"LinearScale\",\"id\":\"p2686\"},\"title\":{\"type\":\"object\",\"name\":\"Title\",\"id\":\"p2678\",\"attributes\":{\"text_color\":\"black\",\"text_font_size\":\"12pt\"}},\"renderers\":[{\"type\":\"object\",\"name\":\"GlyphRenderer\",\"id\":\"p2716\",\"attributes\":{\"data_source\":{\"type\":\"object\",\"name\":\"ColumnDataSource\",\"id\":\"p2707\",\"attributes\":{\"selected\":{\"type\":\"object\",\"name\":\"Selection\",\"id\":\"p2708\",\"attributes\":{\"indices\":[],\"line_indices\":[]}},\"selection_policy\":{\"type\":\"object\",\"name\":\"UnionRenderers\",\"id\":\"p2709\"},\"data\":{\"type\":\"map\",\"entries\":[[\"xoffsets\",[[\"XLSX2CSV\",\"Peak Memory (MiB)\"],[\"RXLS\",\"Peak Memory (MiB)\"],[\"Calamine\",\"Peak Memory (MiB)\"],[\"OpenPyXL\",\"Peak Memory (MiB)\"],[\"XLSX2CSV\",\"Increment (MiB)\"],[\"RXLS\",\"Increment (MiB)\"],[\"Calamine\",\"Increment (MiB)\"],[\"OpenPyXL\",\"Increment (MiB)\"]]],[\"value\",{\"type\":\"ndarray\",\"array\":{\"type\":\"bytes\",\"data\":\"w/UoXI8ugkAzMzMzMxqeQGZmZmZmw6hAuB6F69GJsUCuR+F6FEJ5QK5H4XoUU5tA16NwPYpgp0DXo3A9CtiwQA==\"},\"shape\":[8],\"dtype\":\"float64\",\"order\":\"little\"}],[\"Engine\",[\"XLSX2CSV\",\"RXLS\",\"Calamine\",\"OpenPyXL\",\"XLSX2CSV\",\"RXLS\",\"Calamine\",\"OpenPyXL\"]],[\"Variable\",[\"Peak Memory (MiB)\",\"Peak Memory (MiB)\",\"Peak Memory (MiB)\",\"Peak Memory (MiB)\",\"Increment (MiB)\",\"Increment (MiB)\",\"Increment (MiB)\",\"Increment (MiB)\"]]]}}},\"view\":{\"type\":\"object\",\"name\":\"CDSView\",\"id\":\"p2717\",\"attributes\":{\"filter\":{\"type\":\"object\",\"name\":\"AllIndices\",\"id\":\"p2718\"}}},\"glyph\":{\"type\":\"object\",\"name\":\"VBar\",\"id\":\"p2713\",\"attributes\":{\"tags\":[\"apply_ranges\"],\"x\":{\"type\":\"field\",\"field\":\"xoffsets\"},\"width\":{\"type\":\"value\",\"value\":0.8},\"top\":{\"type\":\"field\",\"field\":\"value\"},\"fill_color\":{\"type\":\"field\",\"field\":\"Variable\",\"transform\":{\"type\":\"object\",\"name\":\"CategoricalColorMapper\",\"id\":\"p2706\",\"attributes\":{\"palette\":[\"#30a2da\",\"#fc4f30\"],\"factors\":[\"Peak Memory (MiB)\",\"Increment (MiB)\"]}}},\"hatch_color\":{\"type\":\"field\",\"field\":\"Variable\",\"transform\":{\"id\":\"p2706\"}}}},\"selection_glyph\":{\"type\":\"object\",\"name\":\"VBar\",\"id\":\"p2719\",\"attributes\":{\"tags\":[\"apply_ranges\"],\"x\":{\"type\":\"field\",\"field\":\"xoffsets\"},\"width\":{\"type\":\"value\",\"value\":0.8},\"bottom\":{\"type\":\"value\",\"value\":0},\"top\":{\"type\":\"field\",\"field\":\"value\"},\"line_color\":{\"type\":\"value\",\"value\":\"black\"},\"line_alpha\":{\"type\":\"value\",\"value\":1.0},\"line_width\":{\"type\":\"value\",\"value\":1},\"line_join\":{\"type\":\"value\",\"value\":\"bevel\"},\"line_cap\":{\"type\":\"value\",\"value\":\"butt\"},\"line_dash\":{\"type\":\"value\",\"value\":[]},\"line_dash_offset\":{\"type\":\"value\",\"value\":0},\"fill_color\":{\"type\":\"field\",\"field\":\"Variable\",\"transform\":{\"id\":\"p2706\"}},\"fill_alpha\":{\"type\":\"value\",\"value\":1.0},\"hatch_color\":{\"type\":\"field\",\"field\":\"Variable\",\"transform\":{\"id\":\"p2706\"}},\"hatch_alpha\":{\"type\":\"value\",\"value\":1.0},\"hatch_scale\":{\"type\":\"value\",\"value\":12.0},\"hatch_pattern\":{\"type\":\"value\",\"value\":null},\"hatch_weight\":{\"type\":\"value\",\"value\":1.0}}},\"nonselection_glyph\":{\"type\":\"object\",\"name\":\"VBar\",\"id\":\"p2714\",\"attributes\":{\"tags\":[\"apply_ranges\"],\"x\":{\"type\":\"field\",\"field\":\"xoffsets\"},\"width\":{\"type\":\"value\",\"value\":0.8},\"top\":{\"type\":\"field\",\"field\":\"value\"},\"line_alpha\":{\"type\":\"value\",\"value\":0.1},\"fill_color\":{\"type\":\"field\",\"field\":\"Variable\",\"transform\":{\"id\":\"p2706\"}},\"fill_alpha\":{\"type\":\"value\",\"value\":0.1},\"hatch_color\":{\"type\":\"field\",\"field\":\"Variable\",\"transform\":{\"id\":\"p2706\"}},\"hatch_alpha\":{\"type\":\"value\",\"value\":0.1}}},\"muted_glyph\":{\"type\":\"object\",\"name\":\"VBar\",\"id\":\"p2715\",\"attributes\":{\"tags\":[\"apply_ranges\"],\"x\":{\"type\":\"field\",\"field\":\"xoffsets\"},\"width\":{\"type\":\"value\",\"value\":0.8},\"top\":{\"type\":\"field\",\"field\":\"value\"},\"line_alpha\":{\"type\":\"value\",\"value\":0.2},\"fill_color\":{\"type\":\"field\",\"field\":\"Variable\",\"transform\":{\"id\":\"p2706\"}},\"fill_alpha\":{\"type\":\"value\",\"value\":0.2},\"hatch_color\":{\"type\":\"field\",\"field\":\"Variable\",\"transform\":{\"id\":\"p2706\"}},\"hatch_alpha\":{\"type\":\"value\",\"value\":0.2}}}}}],\"toolbar\":{\"type\":\"object\",\"name\":\"Toolbar\",\"id\":\"p2684\",\"attributes\":{\"tools\":[{\"type\":\"object\",\"name\":\"WheelZoomTool\",\"id\":\"p2673\",\"attributes\":{\"tags\":[\"hv_created\"],\"renderers\":\"auto\",\"zoom_together\":\"none\"}},{\"type\":\"object\",\"name\":\"HoverTool\",\"id\":\"p2674\",\"attributes\":{\"tags\":[\"hv_created\"],\"renderers\":[{\"id\":\"p2716\"}],\"tooltips\":[[\"Engine\",\"@{Engine}\"],[\"Variable\",\"@{Variable}\"],[\"value\",\"@{value}\"]]}},{\"type\":\"object\",\"name\":\"SaveTool\",\"id\":\"p2697\"},{\"type\":\"object\",\"name\":\"PanTool\",\"id\":\"p2698\"},{\"type\":\"object\",\"name\":\"BoxZoomTool\",\"id\":\"p2699\",\"attributes\":{\"overlay\":{\"type\":\"object\",\"name\":\"BoxAnnotation\",\"id\":\"p2700\",\"attributes\":{\"syncable\":false,\"level\":\"overlay\",\"visible\":false,\"left\":{\"type\":\"number\",\"value\":\"nan\"},\"right\":{\"type\":\"number\",\"value\":\"nan\"},\"top\":{\"type\":\"number\",\"value\":\"nan\"},\"bottom\":{\"type\":\"number\",\"value\":\"nan\"},\"left_units\":\"canvas\",\"right_units\":\"canvas\",\"top_units\":\"canvas\",\"bottom_units\":\"canvas\",\"line_color\":\"black\",\"line_alpha\":1.0,\"line_width\":2,\"line_dash\":[4,4],\"fill_color\":\"lightgrey\",\"fill_alpha\":0.5}}}},{\"type\":\"object\",\"name\":\"ResetTool\",\"id\":\"p2705\"}],\"active_drag\":{\"id\":\"p2698\"},\"active_scroll\":{\"id\":\"p2673\"}}},\"left\":[{\"type\":\"object\",\"name\":\"LinearAxis\",\"id\":\"p2692\",\"attributes\":{\"ticker\":{\"type\":\"object\",\"name\":\"BasicTicker\",\"id\":\"p2693\",\"attributes\":{\"mantissas\":[1,2,5]}},\"formatter\":{\"type\":\"object\",\"name\":\"BasicTickFormatter\",\"id\":\"p2694\"},\"axis_label\":\"XLSX reading\",\"major_label_policy\":{\"type\":\"object\",\"name\":\"AllLabels\",\"id\":\"p2695\"}}}],\"below\":[{\"type\":\"object\",\"name\":\"CategoricalAxis\",\"id\":\"p2687\",\"attributes\":{\"ticker\":{\"type\":\"object\",\"name\":\"CategoricalTicker\",\"id\":\"p2688\"},\"formatter\":{\"type\":\"object\",\"name\":\"CategoricalTickFormatter\",\"id\":\"p2689\"},\"axis_label\":\"Engine, Variable\",\"major_label_policy\":{\"type\":\"object\",\"name\":\"AllLabels\",\"id\":\"p2690\"}}}],\"center\":[{\"type\":\"object\",\"name\":\"Grid\",\"id\":\"p2691\",\"attributes\":{\"axis\":{\"id\":\"p2687\"},\"grid_line_color\":null}},{\"type\":\"object\",\"name\":\"Grid\",\"id\":\"p2696\",\"attributes\":{\"dimension\":1,\"axis\":{\"id\":\"p2692\"},\"grid_line_color\":null}}],\"min_border_top\":10,\"min_border_bottom\":10,\"min_border_left\":10,\"min_border_right\":10,\"output_backend\":\"webgl\"}},{\"type\":\"object\",\"name\":\"Spacer\",\"id\":\"p2721\",\"attributes\":{\"name\":\"HSpacer04701\",\"stylesheets\":[\"\\n:host(.pn-loading.pn-arc):before, .pn-loading.pn-arc:before {\\n  background-image: url(\\\"data:image/svg+xml;base64,PHN2ZyB4bWxucz0iaHR0cDovL3d3dy53My5vcmcvMjAwMC9zdmciIHN0eWxlPSJtYXJnaW46IGF1dG87IGJhY2tncm91bmQ6IG5vbmU7IGRpc3BsYXk6IGJsb2NrOyBzaGFwZS1yZW5kZXJpbmc6IGF1dG87IiB2aWV3Qm94PSIwIDAgMTAwIDEwMCIgcHJlc2VydmVBc3BlY3RSYXRpbz0ieE1pZFlNaWQiPiAgPGNpcmNsZSBjeD0iNTAiIGN5PSI1MCIgZmlsbD0ibm9uZSIgc3Ryb2tlPSIjYzNjM2MzIiBzdHJva2Utd2lkdGg9IjEwIiByPSIzNSIgc3Ryb2tlLWRhc2hhcnJheT0iMTY0LjkzMzYxNDMxMzQ2NDE1IDU2Ljk3Nzg3MTQzNzgyMTM4Ij4gICAgPGFuaW1hdGVUcmFuc2Zvcm0gYXR0cmlidXRlTmFtZT0idHJhbnNmb3JtIiB0eXBlPSJyb3RhdGUiIHJlcGVhdENvdW50PSJpbmRlZmluaXRlIiBkdXI9IjFzIiB2YWx1ZXM9IjAgNTAgNTA7MzYwIDUwIDUwIiBrZXlUaW1lcz0iMDsxIj48L2FuaW1hdGVUcmFuc2Zvcm0+ICA8L2NpcmNsZT48L3N2Zz4=\\\");\\n  background-size: auto calc(min(50%, 400px));\\n}\",{\"id\":\"p2666\"},{\"id\":\"p2664\"},{\"id\":\"p2665\"}],\"margin\":0,\"sizing_mode\":\"stretch_width\",\"align\":\"start\"}}]}}],\"defs\":[{\"type\":\"model\",\"name\":\"ReactiveHTML1\"},{\"type\":\"model\",\"name\":\"FlexBox1\",\"properties\":[{\"name\":\"align_content\",\"kind\":\"Any\",\"default\":\"flex-start\"},{\"name\":\"align_items\",\"kind\":\"Any\",\"default\":\"flex-start\"},{\"name\":\"flex_direction\",\"kind\":\"Any\",\"default\":\"row\"},{\"name\":\"flex_wrap\",\"kind\":\"Any\",\"default\":\"wrap\"},{\"name\":\"justify_content\",\"kind\":\"Any\",\"default\":\"flex-start\"}]},{\"type\":\"model\",\"name\":\"FloatPanel1\",\"properties\":[{\"name\":\"config\",\"kind\":\"Any\",\"default\":{\"type\":\"map\"}},{\"name\":\"contained\",\"kind\":\"Any\",\"default\":true},{\"name\":\"position\",\"kind\":\"Any\",\"default\":\"right-top\"},{\"name\":\"offsetx\",\"kind\":\"Any\",\"default\":null},{\"name\":\"offsety\",\"kind\":\"Any\",\"default\":null},{\"name\":\"theme\",\"kind\":\"Any\",\"default\":\"primary\"},{\"name\":\"status\",\"kind\":\"Any\",\"default\":\"normalized\"}]},{\"type\":\"model\",\"name\":\"GridStack1\",\"properties\":[{\"name\":\"mode\",\"kind\":\"Any\",\"default\":\"warn\"},{\"name\":\"ncols\",\"kind\":\"Any\",\"default\":null},{\"name\":\"nrows\",\"kind\":\"Any\",\"default\":null},{\"name\":\"allow_resize\",\"kind\":\"Any\",\"default\":true},{\"name\":\"allow_drag\",\"kind\":\"Any\",\"default\":true},{\"name\":\"state\",\"kind\":\"Any\",\"default\":[]}]},{\"type\":\"model\",\"name\":\"drag1\",\"properties\":[{\"name\":\"slider_width\",\"kind\":\"Any\",\"default\":5},{\"name\":\"slider_color\",\"kind\":\"Any\",\"default\":\"black\"},{\"name\":\"value\",\"kind\":\"Any\",\"default\":50}]},{\"type\":\"model\",\"name\":\"click1\",\"properties\":[{\"name\":\"terminal_output\",\"kind\":\"Any\",\"default\":\"\"},{\"name\":\"debug_name\",\"kind\":\"Any\",\"default\":\"\"},{\"name\":\"clears\",\"kind\":\"Any\",\"default\":0}]},{\"type\":\"model\",\"name\":\"copy_to_clipboard1\",\"properties\":[{\"name\":\"fill\",\"kind\":\"Any\",\"default\":\"none\"},{\"name\":\"value\",\"kind\":\"Any\",\"default\":null}]},{\"type\":\"model\",\"name\":\"FastWrapper1\",\"properties\":[{\"name\":\"object\",\"kind\":\"Any\",\"default\":null},{\"name\":\"style\",\"kind\":\"Any\",\"default\":null}]},{\"type\":\"model\",\"name\":\"NotificationAreaBase1\",\"properties\":[{\"name\":\"js_events\",\"kind\":\"Any\",\"default\":{\"type\":\"map\"}},{\"name\":\"position\",\"kind\":\"Any\",\"default\":\"bottom-right\"},{\"name\":\"_clear\",\"kind\":\"Any\",\"default\":0}]},{\"type\":\"model\",\"name\":\"NotificationArea1\",\"properties\":[{\"name\":\"js_events\",\"kind\":\"Any\",\"default\":{\"type\":\"map\"}},{\"name\":\"notifications\",\"kind\":\"Any\",\"default\":[]},{\"name\":\"position\",\"kind\":\"Any\",\"default\":\"bottom-right\"},{\"name\":\"_clear\",\"kind\":\"Any\",\"default\":0},{\"name\":\"types\",\"kind\":\"Any\",\"default\":[{\"type\":\"map\",\"entries\":[[\"type\",\"warning\"],[\"background\",\"#ffc107\"],[\"icon\",{\"type\":\"map\",\"entries\":[[\"className\",\"fas fa-exclamation-triangle\"],[\"tagName\",\"i\"],[\"color\",\"white\"]]}]]},{\"type\":\"map\",\"entries\":[[\"type\",\"info\"],[\"background\",\"#007bff\"],[\"icon\",{\"type\":\"map\",\"entries\":[[\"className\",\"fas fa-info-circle\"],[\"tagName\",\"i\"],[\"color\",\"white\"]]}]]}]}]},{\"type\":\"model\",\"name\":\"Notification\",\"properties\":[{\"name\":\"background\",\"kind\":\"Any\",\"default\":null},{\"name\":\"duration\",\"kind\":\"Any\",\"default\":3000},{\"name\":\"icon\",\"kind\":\"Any\",\"default\":null},{\"name\":\"message\",\"kind\":\"Any\",\"default\":\"\"},{\"name\":\"notification_type\",\"kind\":\"Any\",\"default\":null},{\"name\":\"_destroyed\",\"kind\":\"Any\",\"default\":false}]},{\"type\":\"model\",\"name\":\"TemplateActions1\",\"properties\":[{\"name\":\"open_modal\",\"kind\":\"Any\",\"default\":0},{\"name\":\"close_modal\",\"kind\":\"Any\",\"default\":0}]},{\"type\":\"model\",\"name\":\"BootstrapTemplateActions1\",\"properties\":[{\"name\":\"open_modal\",\"kind\":\"Any\",\"default\":0},{\"name\":\"close_modal\",\"kind\":\"Any\",\"default\":0}]},{\"type\":\"model\",\"name\":\"MaterialTemplateActions1\",\"properties\":[{\"name\":\"open_modal\",\"kind\":\"Any\",\"default\":0},{\"name\":\"close_modal\",\"kind\":\"Any\",\"default\":0}]}]}};\n",
       "  var render_items = [{\"docid\":\"e9526c31-a40f-4251-b8ad-25f1ae66c542\",\"roots\":{\"p2663\":\"a7bcbaae-4b94-4b09-b43c-0126d1b1e971\"},\"root_ids\":[\"p2663\"]}];\n",
       "  var docs = Object.values(docs_json)\n",
       "  if (!docs) {\n",
       "    return\n",
       "  }\n",
       "  const py_version = docs[0].version.replace('rc', '-rc.').replace('.dev', '-dev.')\n",
       "  function embed_document(root) {\n",
       "    var Bokeh = get_bokeh(root)\n",
       "    Bokeh.embed.embed_items_notebook(docs_json, render_items);\n",
       "    for (const render_item of render_items) {\n",
       "      for (const root_id of render_item.root_ids) {\n",
       "\tconst id_el = document.getElementById(root_id)\n",
       "\tif (id_el.children.length && (id_el.children[0].className === 'bk-root')) {\n",
       "\t  const root_el = id_el.children[0]\n",
       "\t  root_el.id = root_el.id + '-rendered'\n",
       "\t}\n",
       "      }\n",
       "    }\n",
       "  }\n",
       "  function get_bokeh(root) {\n",
       "    if (root.Bokeh === undefined) {\n",
       "      return null\n",
       "    } else if (root.Bokeh.version !== py_version) {\n",
       "      if (root.Bokeh.versions === undefined || !root.Bokeh.versions.has(py_version)) {\n",
       "\treturn null\n",
       "      }\n",
       "      return root.Bokeh.versions.get(py_version);\n",
       "    } else if (root.Bokeh.version === py_version) {\n",
       "      return root.Bokeh\n",
       "    }\n",
       "    return null\n",
       "  }\n",
       "  function is_loaded(root) {\n",
       "    var Bokeh = get_bokeh(root)\n",
       "    return (Bokeh != null && Bokeh.Panel !== undefined)\n",
       "  }\n",
       "  if (is_loaded(root)) {\n",
       "    embed_document(root);\n",
       "  } else {\n",
       "    var attempts = 0;\n",
       "    var timer = setInterval(function(root) {\n",
       "      if (is_loaded(root)) {\n",
       "        clearInterval(timer);\n",
       "        embed_document(root);\n",
       "      } else if (document.readyState == \"complete\") {\n",
       "        attempts++;\n",
       "        if (attempts > 200) {\n",
       "          clearInterval(timer);\n",
       "\t  var Bokeh = get_bokeh(root)\n",
       "\t  if (Bokeh == null || Bokeh.Panel == null) {\n",
       "            console.warn(\"Panel: ERROR: Unable to run Panel code because Bokeh or Panel library is missing\");\n",
       "\t  } else {\n",
       "\t    console.warn(\"Panel: WARNING: Attempting to render but not all required libraries could be resolved.\")\n",
       "\t    embed_document(root)\n",
       "\t  }\n",
       "        }\n",
       "      }\n",
       "    }, 25, root)\n",
       "  }\n",
       "})(window);</script>"
      ],
      "text/plain": [
       ":Bars   [Engine,Variable]   (value)"
      ]
     },
     "execution_count": 39,
     "metadata": {
      "application/vnd.holoviews_exec.v0+json": {
       "id": "p2663"
      }
     },
     "output_type": "execute_result"
    }
   ],
   "source": [
    "df_bench_xlsx.sort(\"Increment (MiB)\", descending=False).plot.bar(\n",
    "    y=[\"Peak Memory (MiB)\", \"Increment (MiB)\"], stacked=False, x=\"Engine\", ylabel='XLSX reading'\n",
    ")\n"
   ]
  },
  {
   "cell_type": "code",
   "execution_count": 40,
   "metadata": {},
   "outputs": [
    {
     "data": {},
     "metadata": {},
     "output_type": "display_data"
    },
    {
     "data": {
      "application/vnd.holoviews_exec.v0+json": "",
      "text/html": [
       "<div id='p2726'>\n",
       "  <div id=\"e83765bf-8a7f-4243-a35b-310fd4536d45\" data-root-id=\"p2726\" style=\"display: contents;\"></div>\n",
       "</div>\n",
       "<script type=\"application/javascript\">(function(root) {\n",
       "  var docs_json = {\"601d2345-03b2-4c4c-9a46-9de423d0b84d\":{\"version\":\"3.3.3\",\"title\":\"Bokeh Application\",\"roots\":[{\"type\":\"object\",\"name\":\"Row\",\"id\":\"p2726\",\"attributes\":{\"name\":\"Row04823\",\"tags\":[\"embedded\"],\"stylesheets\":[\"\\n:host(.pn-loading.pn-arc):before, .pn-loading.pn-arc:before {\\n  background-image: url(\\\"data:image/svg+xml;base64,PHN2ZyB4bWxucz0iaHR0cDovL3d3dy53My5vcmcvMjAwMC9zdmciIHN0eWxlPSJtYXJnaW46IGF1dG87IGJhY2tncm91bmQ6IG5vbmU7IGRpc3BsYXk6IGJsb2NrOyBzaGFwZS1yZW5kZXJpbmc6IGF1dG87IiB2aWV3Qm94PSIwIDAgMTAwIDEwMCIgcHJlc2VydmVBc3BlY3RSYXRpbz0ieE1pZFlNaWQiPiAgPGNpcmNsZSBjeD0iNTAiIGN5PSI1MCIgZmlsbD0ibm9uZSIgc3Ryb2tlPSIjYzNjM2MzIiBzdHJva2Utd2lkdGg9IjEwIiByPSIzNSIgc3Ryb2tlLWRhc2hhcnJheT0iMTY0LjkzMzYxNDMxMzQ2NDE1IDU2Ljk3Nzg3MTQzNzgyMTM4Ij4gICAgPGFuaW1hdGVUcmFuc2Zvcm0gYXR0cmlidXRlTmFtZT0idHJhbnNmb3JtIiB0eXBlPSJyb3RhdGUiIHJlcGVhdENvdW50PSJpbmRlZmluaXRlIiBkdXI9IjFzIiB2YWx1ZXM9IjAgNTAgNTA7MzYwIDUwIDUwIiBrZXlUaW1lcz0iMDsxIj48L2FuaW1hdGVUcmFuc2Zvcm0+ICA8L2NpcmNsZT48L3N2Zz4=\\\");\\n  background-size: auto calc(min(50%, 400px));\\n}\",{\"type\":\"object\",\"name\":\"ImportedStyleSheet\",\"id\":\"p2729\",\"attributes\":{\"url\":\"https://cdn.holoviz.org/panel/1.3.6/dist/css/loading.css\"}},{\"type\":\"object\",\"name\":\"ImportedStyleSheet\",\"id\":\"p2786\",\"attributes\":{\"url\":\"https://cdn.holoviz.org/panel/1.3.6/dist/css/listpanel.css\"}},{\"type\":\"object\",\"name\":\"ImportedStyleSheet\",\"id\":\"p2727\",\"attributes\":{\"url\":\"https://cdn.holoviz.org/panel/1.3.6/dist/bundled/theme/default.css\"}},{\"type\":\"object\",\"name\":\"ImportedStyleSheet\",\"id\":\"p2728\",\"attributes\":{\"url\":\"https://cdn.holoviz.org/panel/1.3.6/dist/bundled/theme/native.css\"}}],\"min_width\":700,\"margin\":0,\"sizing_mode\":\"stretch_width\",\"align\":\"start\",\"children\":[{\"type\":\"object\",\"name\":\"Spacer\",\"id\":\"p2730\",\"attributes\":{\"name\":\"HSpacer04830\",\"stylesheets\":[\"\\n:host(.pn-loading.pn-arc):before, .pn-loading.pn-arc:before {\\n  background-image: url(\\\"data:image/svg+xml;base64,PHN2ZyB4bWxucz0iaHR0cDovL3d3dy53My5vcmcvMjAwMC9zdmciIHN0eWxlPSJtYXJnaW46IGF1dG87IGJhY2tncm91bmQ6IG5vbmU7IGRpc3BsYXk6IGJsb2NrOyBzaGFwZS1yZW5kZXJpbmc6IGF1dG87IiB2aWV3Qm94PSIwIDAgMTAwIDEwMCIgcHJlc2VydmVBc3BlY3RSYXRpbz0ieE1pZFlNaWQiPiAgPGNpcmNsZSBjeD0iNTAiIGN5PSI1MCIgZmlsbD0ibm9uZSIgc3Ryb2tlPSIjYzNjM2MzIiBzdHJva2Utd2lkdGg9IjEwIiByPSIzNSIgc3Ryb2tlLWRhc2hhcnJheT0iMTY0LjkzMzYxNDMxMzQ2NDE1IDU2Ljk3Nzg3MTQzNzgyMTM4Ij4gICAgPGFuaW1hdGVUcmFuc2Zvcm0gYXR0cmlidXRlTmFtZT0idHJhbnNmb3JtIiB0eXBlPSJyb3RhdGUiIHJlcGVhdENvdW50PSJpbmRlZmluaXRlIiBkdXI9IjFzIiB2YWx1ZXM9IjAgNTAgNTA7MzYwIDUwIDUwIiBrZXlUaW1lcz0iMDsxIj48L2FuaW1hdGVUcmFuc2Zvcm0+ICA8L2NpcmNsZT48L3N2Zz4=\\\");\\n  background-size: auto calc(min(50%, 400px));\\n}\",{\"id\":\"p2729\"},{\"id\":\"p2727\"},{\"id\":\"p2728\"}],\"margin\":0,\"sizing_mode\":\"stretch_width\",\"align\":\"start\"}},{\"type\":\"object\",\"name\":\"Figure\",\"id\":\"p2738\",\"attributes\":{\"width\":700,\"height\":300,\"margin\":[5,10],\"sizing_mode\":\"fixed\",\"align\":\"start\",\"x_range\":{\"type\":\"object\",\"name\":\"FactorRange\",\"id\":\"p2731\",\"attributes\":{\"tags\":[[[\"Engine\",\"Engine\",null],[\"Variable\",\"Variable\",null]],[]],\"factors\":[[\"RXLS\",\"Increment (MiB)\"],[\"RXLS\",\"Peak Memory (MiB)\"],[\"PyXLSB\",\"Increment (MiB)\"],[\"PyXLSB\",\"Peak Memory (MiB)\"],[\"Calamine\",\"Increment (MiB)\"],[\"Calamine\",\"Peak Memory (MiB)\"]]}},\"y_range\":{\"type\":\"object\",\"name\":\"Range1d\",\"id\":\"p2732\",\"attributes\":{\"tags\":[[[\"value\",\"value\",null]],{\"type\":\"map\",\"entries\":[[\"invert_yaxis\",false],[\"autorange\",false]]}],\"end\":3328.755,\"reset_start\":0.0,\"reset_end\":3328.755}},\"x_scale\":{\"type\":\"object\",\"name\":\"CategoricalScale\",\"id\":\"p2748\"},\"y_scale\":{\"type\":\"object\",\"name\":\"LinearScale\",\"id\":\"p2749\"},\"title\":{\"type\":\"object\",\"name\":\"Title\",\"id\":\"p2741\",\"attributes\":{\"text_color\":\"black\",\"text_font_size\":\"12pt\"}},\"renderers\":[{\"type\":\"object\",\"name\":\"GlyphRenderer\",\"id\":\"p2779\",\"attributes\":{\"data_source\":{\"type\":\"object\",\"name\":\"ColumnDataSource\",\"id\":\"p2770\",\"attributes\":{\"selected\":{\"type\":\"object\",\"name\":\"Selection\",\"id\":\"p2771\",\"attributes\":{\"indices\":[],\"line_indices\":[]}},\"selection_policy\":{\"type\":\"object\",\"name\":\"UnionRenderers\",\"id\":\"p2772\"},\"data\":{\"type\":\"map\",\"entries\":[[\"xoffsets\",[[\"RXLS\",\"Peak Memory (MiB)\"],[\"PyXLSB\",\"Peak Memory (MiB)\"],[\"Calamine\",\"Peak Memory (MiB)\"],[\"RXLS\",\"Increment (MiB)\"],[\"PyXLSB\",\"Increment (MiB)\"],[\"Calamine\",\"Increment (MiB)\"]]],[\"value\",{\"type\":\"ndarray\",\"array\":{\"type\":\"bytes\",\"data\":\"MzMzMzMankAUrkfheuCgQArXo3A94qhArkfhehRTm0A9CtejcPmeQArXo3C9f6dA\"},\"shape\":[6],\"dtype\":\"float64\",\"order\":\"little\"}],[\"Engine\",[\"RXLS\",\"PyXLSB\",\"Calamine\",\"RXLS\",\"PyXLSB\",\"Calamine\"]],[\"Variable\",[\"Peak Memory (MiB)\",\"Peak Memory (MiB)\",\"Peak Memory (MiB)\",\"Increment (MiB)\",\"Increment (MiB)\",\"Increment (MiB)\"]]]}}},\"view\":{\"type\":\"object\",\"name\":\"CDSView\",\"id\":\"p2780\",\"attributes\":{\"filter\":{\"type\":\"object\",\"name\":\"AllIndices\",\"id\":\"p2781\"}}},\"glyph\":{\"type\":\"object\",\"name\":\"VBar\",\"id\":\"p2776\",\"attributes\":{\"tags\":[\"apply_ranges\"],\"x\":{\"type\":\"field\",\"field\":\"xoffsets\"},\"width\":{\"type\":\"value\",\"value\":0.8},\"top\":{\"type\":\"field\",\"field\":\"value\"},\"fill_color\":{\"type\":\"field\",\"field\":\"Variable\",\"transform\":{\"type\":\"object\",\"name\":\"CategoricalColorMapper\",\"id\":\"p2769\",\"attributes\":{\"palette\":[\"#30a2da\",\"#fc4f30\"],\"factors\":[\"Peak Memory (MiB)\",\"Increment (MiB)\"]}}},\"hatch_color\":{\"type\":\"field\",\"field\":\"Variable\",\"transform\":{\"id\":\"p2769\"}}}},\"selection_glyph\":{\"type\":\"object\",\"name\":\"VBar\",\"id\":\"p2782\",\"attributes\":{\"tags\":[\"apply_ranges\"],\"x\":{\"type\":\"field\",\"field\":\"xoffsets\"},\"width\":{\"type\":\"value\",\"value\":0.8},\"bottom\":{\"type\":\"value\",\"value\":0},\"top\":{\"type\":\"field\",\"field\":\"value\"},\"line_color\":{\"type\":\"value\",\"value\":\"black\"},\"line_alpha\":{\"type\":\"value\",\"value\":1.0},\"line_width\":{\"type\":\"value\",\"value\":1},\"line_join\":{\"type\":\"value\",\"value\":\"bevel\"},\"line_cap\":{\"type\":\"value\",\"value\":\"butt\"},\"line_dash\":{\"type\":\"value\",\"value\":[]},\"line_dash_offset\":{\"type\":\"value\",\"value\":0},\"fill_color\":{\"type\":\"field\",\"field\":\"Variable\",\"transform\":{\"id\":\"p2769\"}},\"fill_alpha\":{\"type\":\"value\",\"value\":1.0},\"hatch_color\":{\"type\":\"field\",\"field\":\"Variable\",\"transform\":{\"id\":\"p2769\"}},\"hatch_alpha\":{\"type\":\"value\",\"value\":1.0},\"hatch_scale\":{\"type\":\"value\",\"value\":12.0},\"hatch_pattern\":{\"type\":\"value\",\"value\":null},\"hatch_weight\":{\"type\":\"value\",\"value\":1.0}}},\"nonselection_glyph\":{\"type\":\"object\",\"name\":\"VBar\",\"id\":\"p2777\",\"attributes\":{\"tags\":[\"apply_ranges\"],\"x\":{\"type\":\"field\",\"field\":\"xoffsets\"},\"width\":{\"type\":\"value\",\"value\":0.8},\"top\":{\"type\":\"field\",\"field\":\"value\"},\"line_alpha\":{\"type\":\"value\",\"value\":0.1},\"fill_color\":{\"type\":\"field\",\"field\":\"Variable\",\"transform\":{\"id\":\"p2769\"}},\"fill_alpha\":{\"type\":\"value\",\"value\":0.1},\"hatch_color\":{\"type\":\"field\",\"field\":\"Variable\",\"transform\":{\"id\":\"p2769\"}},\"hatch_alpha\":{\"type\":\"value\",\"value\":0.1}}},\"muted_glyph\":{\"type\":\"object\",\"name\":\"VBar\",\"id\":\"p2778\",\"attributes\":{\"tags\":[\"apply_ranges\"],\"x\":{\"type\":\"field\",\"field\":\"xoffsets\"},\"width\":{\"type\":\"value\",\"value\":0.8},\"top\":{\"type\":\"field\",\"field\":\"value\"},\"line_alpha\":{\"type\":\"value\",\"value\":0.2},\"fill_color\":{\"type\":\"field\",\"field\":\"Variable\",\"transform\":{\"id\":\"p2769\"}},\"fill_alpha\":{\"type\":\"value\",\"value\":0.2},\"hatch_color\":{\"type\":\"field\",\"field\":\"Variable\",\"transform\":{\"id\":\"p2769\"}},\"hatch_alpha\":{\"type\":\"value\",\"value\":0.2}}}}}],\"toolbar\":{\"type\":\"object\",\"name\":\"Toolbar\",\"id\":\"p2747\",\"attributes\":{\"tools\":[{\"type\":\"object\",\"name\":\"WheelZoomTool\",\"id\":\"p2736\",\"attributes\":{\"tags\":[\"hv_created\"],\"renderers\":\"auto\",\"zoom_together\":\"none\"}},{\"type\":\"object\",\"name\":\"HoverTool\",\"id\":\"p2737\",\"attributes\":{\"tags\":[\"hv_created\"],\"renderers\":[{\"id\":\"p2779\"}],\"tooltips\":[[\"Engine\",\"@{Engine}\"],[\"Variable\",\"@{Variable}\"],[\"value\",\"@{value}\"]]}},{\"type\":\"object\",\"name\":\"SaveTool\",\"id\":\"p2760\"},{\"type\":\"object\",\"name\":\"PanTool\",\"id\":\"p2761\"},{\"type\":\"object\",\"name\":\"BoxZoomTool\",\"id\":\"p2762\",\"attributes\":{\"overlay\":{\"type\":\"object\",\"name\":\"BoxAnnotation\",\"id\":\"p2763\",\"attributes\":{\"syncable\":false,\"level\":\"overlay\",\"visible\":false,\"left\":{\"type\":\"number\",\"value\":\"nan\"},\"right\":{\"type\":\"number\",\"value\":\"nan\"},\"top\":{\"type\":\"number\",\"value\":\"nan\"},\"bottom\":{\"type\":\"number\",\"value\":\"nan\"},\"left_units\":\"canvas\",\"right_units\":\"canvas\",\"top_units\":\"canvas\",\"bottom_units\":\"canvas\",\"line_color\":\"black\",\"line_alpha\":1.0,\"line_width\":2,\"line_dash\":[4,4],\"fill_color\":\"lightgrey\",\"fill_alpha\":0.5}}}},{\"type\":\"object\",\"name\":\"ResetTool\",\"id\":\"p2768\"}],\"active_drag\":{\"id\":\"p2761\"},\"active_scroll\":{\"id\":\"p2736\"}}},\"left\":[{\"type\":\"object\",\"name\":\"LinearAxis\",\"id\":\"p2755\",\"attributes\":{\"ticker\":{\"type\":\"object\",\"name\":\"BasicTicker\",\"id\":\"p2756\",\"attributes\":{\"mantissas\":[1,2,5]}},\"formatter\":{\"type\":\"object\",\"name\":\"BasicTickFormatter\",\"id\":\"p2757\"},\"axis_label\":\"XLSB reading\",\"major_label_policy\":{\"type\":\"object\",\"name\":\"AllLabels\",\"id\":\"p2758\"}}}],\"below\":[{\"type\":\"object\",\"name\":\"CategoricalAxis\",\"id\":\"p2750\",\"attributes\":{\"ticker\":{\"type\":\"object\",\"name\":\"CategoricalTicker\",\"id\":\"p2751\"},\"formatter\":{\"type\":\"object\",\"name\":\"CategoricalTickFormatter\",\"id\":\"p2752\"},\"axis_label\":\"Engine, Variable\",\"major_label_policy\":{\"type\":\"object\",\"name\":\"AllLabels\",\"id\":\"p2753\"}}}],\"center\":[{\"type\":\"object\",\"name\":\"Grid\",\"id\":\"p2754\",\"attributes\":{\"axis\":{\"id\":\"p2750\"},\"grid_line_color\":null}},{\"type\":\"object\",\"name\":\"Grid\",\"id\":\"p2759\",\"attributes\":{\"dimension\":1,\"axis\":{\"id\":\"p2755\"},\"grid_line_color\":null}}],\"min_border_top\":10,\"min_border_bottom\":10,\"min_border_left\":10,\"min_border_right\":10,\"output_backend\":\"webgl\"}},{\"type\":\"object\",\"name\":\"Spacer\",\"id\":\"p2784\",\"attributes\":{\"name\":\"HSpacer04831\",\"stylesheets\":[\"\\n:host(.pn-loading.pn-arc):before, .pn-loading.pn-arc:before {\\n  background-image: url(\\\"data:image/svg+xml;base64,PHN2ZyB4bWxucz0iaHR0cDovL3d3dy53My5vcmcvMjAwMC9zdmciIHN0eWxlPSJtYXJnaW46IGF1dG87IGJhY2tncm91bmQ6IG5vbmU7IGRpc3BsYXk6IGJsb2NrOyBzaGFwZS1yZW5kZXJpbmc6IGF1dG87IiB2aWV3Qm94PSIwIDAgMTAwIDEwMCIgcHJlc2VydmVBc3BlY3RSYXRpbz0ieE1pZFlNaWQiPiAgPGNpcmNsZSBjeD0iNTAiIGN5PSI1MCIgZmlsbD0ibm9uZSIgc3Ryb2tlPSIjYzNjM2MzIiBzdHJva2Utd2lkdGg9IjEwIiByPSIzNSIgc3Ryb2tlLWRhc2hhcnJheT0iMTY0LjkzMzYxNDMxMzQ2NDE1IDU2Ljk3Nzg3MTQzNzgyMTM4Ij4gICAgPGFuaW1hdGVUcmFuc2Zvcm0gYXR0cmlidXRlTmFtZT0idHJhbnNmb3JtIiB0eXBlPSJyb3RhdGUiIHJlcGVhdENvdW50PSJpbmRlZmluaXRlIiBkdXI9IjFzIiB2YWx1ZXM9IjAgNTAgNTA7MzYwIDUwIDUwIiBrZXlUaW1lcz0iMDsxIj48L2FuaW1hdGVUcmFuc2Zvcm0+ICA8L2NpcmNsZT48L3N2Zz4=\\\");\\n  background-size: auto calc(min(50%, 400px));\\n}\",{\"id\":\"p2729\"},{\"id\":\"p2727\"},{\"id\":\"p2728\"}],\"margin\":0,\"sizing_mode\":\"stretch_width\",\"align\":\"start\"}}]}}],\"defs\":[{\"type\":\"model\",\"name\":\"ReactiveHTML1\"},{\"type\":\"model\",\"name\":\"FlexBox1\",\"properties\":[{\"name\":\"align_content\",\"kind\":\"Any\",\"default\":\"flex-start\"},{\"name\":\"align_items\",\"kind\":\"Any\",\"default\":\"flex-start\"},{\"name\":\"flex_direction\",\"kind\":\"Any\",\"default\":\"row\"},{\"name\":\"flex_wrap\",\"kind\":\"Any\",\"default\":\"wrap\"},{\"name\":\"justify_content\",\"kind\":\"Any\",\"default\":\"flex-start\"}]},{\"type\":\"model\",\"name\":\"FloatPanel1\",\"properties\":[{\"name\":\"config\",\"kind\":\"Any\",\"default\":{\"type\":\"map\"}},{\"name\":\"contained\",\"kind\":\"Any\",\"default\":true},{\"name\":\"position\",\"kind\":\"Any\",\"default\":\"right-top\"},{\"name\":\"offsetx\",\"kind\":\"Any\",\"default\":null},{\"name\":\"offsety\",\"kind\":\"Any\",\"default\":null},{\"name\":\"theme\",\"kind\":\"Any\",\"default\":\"primary\"},{\"name\":\"status\",\"kind\":\"Any\",\"default\":\"normalized\"}]},{\"type\":\"model\",\"name\":\"GridStack1\",\"properties\":[{\"name\":\"mode\",\"kind\":\"Any\",\"default\":\"warn\"},{\"name\":\"ncols\",\"kind\":\"Any\",\"default\":null},{\"name\":\"nrows\",\"kind\":\"Any\",\"default\":null},{\"name\":\"allow_resize\",\"kind\":\"Any\",\"default\":true},{\"name\":\"allow_drag\",\"kind\":\"Any\",\"default\":true},{\"name\":\"state\",\"kind\":\"Any\",\"default\":[]}]},{\"type\":\"model\",\"name\":\"drag1\",\"properties\":[{\"name\":\"slider_width\",\"kind\":\"Any\",\"default\":5},{\"name\":\"slider_color\",\"kind\":\"Any\",\"default\":\"black\"},{\"name\":\"value\",\"kind\":\"Any\",\"default\":50}]},{\"type\":\"model\",\"name\":\"click1\",\"properties\":[{\"name\":\"terminal_output\",\"kind\":\"Any\",\"default\":\"\"},{\"name\":\"debug_name\",\"kind\":\"Any\",\"default\":\"\"},{\"name\":\"clears\",\"kind\":\"Any\",\"default\":0}]},{\"type\":\"model\",\"name\":\"copy_to_clipboard1\",\"properties\":[{\"name\":\"fill\",\"kind\":\"Any\",\"default\":\"none\"},{\"name\":\"value\",\"kind\":\"Any\",\"default\":null}]},{\"type\":\"model\",\"name\":\"FastWrapper1\",\"properties\":[{\"name\":\"object\",\"kind\":\"Any\",\"default\":null},{\"name\":\"style\",\"kind\":\"Any\",\"default\":null}]},{\"type\":\"model\",\"name\":\"NotificationAreaBase1\",\"properties\":[{\"name\":\"js_events\",\"kind\":\"Any\",\"default\":{\"type\":\"map\"}},{\"name\":\"position\",\"kind\":\"Any\",\"default\":\"bottom-right\"},{\"name\":\"_clear\",\"kind\":\"Any\",\"default\":0}]},{\"type\":\"model\",\"name\":\"NotificationArea1\",\"properties\":[{\"name\":\"js_events\",\"kind\":\"Any\",\"default\":{\"type\":\"map\"}},{\"name\":\"notifications\",\"kind\":\"Any\",\"default\":[]},{\"name\":\"position\",\"kind\":\"Any\",\"default\":\"bottom-right\"},{\"name\":\"_clear\",\"kind\":\"Any\",\"default\":0},{\"name\":\"types\",\"kind\":\"Any\",\"default\":[{\"type\":\"map\",\"entries\":[[\"type\",\"warning\"],[\"background\",\"#ffc107\"],[\"icon\",{\"type\":\"map\",\"entries\":[[\"className\",\"fas fa-exclamation-triangle\"],[\"tagName\",\"i\"],[\"color\",\"white\"]]}]]},{\"type\":\"map\",\"entries\":[[\"type\",\"info\"],[\"background\",\"#007bff\"],[\"icon\",{\"type\":\"map\",\"entries\":[[\"className\",\"fas fa-info-circle\"],[\"tagName\",\"i\"],[\"color\",\"white\"]]}]]}]}]},{\"type\":\"model\",\"name\":\"Notification\",\"properties\":[{\"name\":\"background\",\"kind\":\"Any\",\"default\":null},{\"name\":\"duration\",\"kind\":\"Any\",\"default\":3000},{\"name\":\"icon\",\"kind\":\"Any\",\"default\":null},{\"name\":\"message\",\"kind\":\"Any\",\"default\":\"\"},{\"name\":\"notification_type\",\"kind\":\"Any\",\"default\":null},{\"name\":\"_destroyed\",\"kind\":\"Any\",\"default\":false}]},{\"type\":\"model\",\"name\":\"TemplateActions1\",\"properties\":[{\"name\":\"open_modal\",\"kind\":\"Any\",\"default\":0},{\"name\":\"close_modal\",\"kind\":\"Any\",\"default\":0}]},{\"type\":\"model\",\"name\":\"BootstrapTemplateActions1\",\"properties\":[{\"name\":\"open_modal\",\"kind\":\"Any\",\"default\":0},{\"name\":\"close_modal\",\"kind\":\"Any\",\"default\":0}]},{\"type\":\"model\",\"name\":\"MaterialTemplateActions1\",\"properties\":[{\"name\":\"open_modal\",\"kind\":\"Any\",\"default\":0},{\"name\":\"close_modal\",\"kind\":\"Any\",\"default\":0}]}]}};\n",
       "  var render_items = [{\"docid\":\"601d2345-03b2-4c4c-9a46-9de423d0b84d\",\"roots\":{\"p2726\":\"e83765bf-8a7f-4243-a35b-310fd4536d45\"},\"root_ids\":[\"p2726\"]}];\n",
       "  var docs = Object.values(docs_json)\n",
       "  if (!docs) {\n",
       "    return\n",
       "  }\n",
       "  const py_version = docs[0].version.replace('rc', '-rc.').replace('.dev', '-dev.')\n",
       "  function embed_document(root) {\n",
       "    var Bokeh = get_bokeh(root)\n",
       "    Bokeh.embed.embed_items_notebook(docs_json, render_items);\n",
       "    for (const render_item of render_items) {\n",
       "      for (const root_id of render_item.root_ids) {\n",
       "\tconst id_el = document.getElementById(root_id)\n",
       "\tif (id_el.children.length && (id_el.children[0].className === 'bk-root')) {\n",
       "\t  const root_el = id_el.children[0]\n",
       "\t  root_el.id = root_el.id + '-rendered'\n",
       "\t}\n",
       "      }\n",
       "    }\n",
       "  }\n",
       "  function get_bokeh(root) {\n",
       "    if (root.Bokeh === undefined) {\n",
       "      return null\n",
       "    } else if (root.Bokeh.version !== py_version) {\n",
       "      if (root.Bokeh.versions === undefined || !root.Bokeh.versions.has(py_version)) {\n",
       "\treturn null\n",
       "      }\n",
       "      return root.Bokeh.versions.get(py_version);\n",
       "    } else if (root.Bokeh.version === py_version) {\n",
       "      return root.Bokeh\n",
       "    }\n",
       "    return null\n",
       "  }\n",
       "  function is_loaded(root) {\n",
       "    var Bokeh = get_bokeh(root)\n",
       "    return (Bokeh != null && Bokeh.Panel !== undefined)\n",
       "  }\n",
       "  if (is_loaded(root)) {\n",
       "    embed_document(root);\n",
       "  } else {\n",
       "    var attempts = 0;\n",
       "    var timer = setInterval(function(root) {\n",
       "      if (is_loaded(root)) {\n",
       "        clearInterval(timer);\n",
       "        embed_document(root);\n",
       "      } else if (document.readyState == \"complete\") {\n",
       "        attempts++;\n",
       "        if (attempts > 200) {\n",
       "          clearInterval(timer);\n",
       "\t  var Bokeh = get_bokeh(root)\n",
       "\t  if (Bokeh == null || Bokeh.Panel == null) {\n",
       "            console.warn(\"Panel: ERROR: Unable to run Panel code because Bokeh or Panel library is missing\");\n",
       "\t  } else {\n",
       "\t    console.warn(\"Panel: WARNING: Attempting to render but not all required libraries could be resolved.\")\n",
       "\t    embed_document(root)\n",
       "\t  }\n",
       "        }\n",
       "      }\n",
       "    }, 25, root)\n",
       "  }\n",
       "})(window);</script>"
      ],
      "text/plain": [
       ":Bars   [Engine,Variable]   (value)"
      ]
     },
     "execution_count": 40,
     "metadata": {
      "application/vnd.holoviews_exec.v0+json": {
       "id": "p2726"
      }
     },
     "output_type": "execute_result"
    }
   ],
   "source": [
    "df_bench_xlsb.sort(\"Increment (MiB)\", descending=False).plot.bar(\n",
    "    y=[\"Peak Memory (MiB)\", \"Increment (MiB)\"], stacked=False, x=\"Engine\", ylabel='XLSB reading'\n",
    ")\n"
   ]
  },
  {
   "cell_type": "markdown",
   "metadata": {},
   "source": [
    "### Notes about benchmark:"
   ]
  },
  {
   "cell_type": "markdown",
   "metadata": {},
   "source": [
    "* RXLS performance increases significantly since previous commit of this benchmark.\n",
    "* Previous benchmark was on slower system, so there is large performance boost for all engines.\n",
    "* Add python-calamine engine to benchmark\n",
    "* There is only one case of reading files (whole file reading). In different cases, there may be some benefits from using one engine or another.\n",
    "* You can test RXLS with `TBB` along with `Numba` for even better performance increase. There is no such tests, because of other engines use only CPU (as I know).\n",
    "* OpenPyXL eats all my RAM, as always. So, keep this in mind, that on another machine it may take even more memory, than in benchmarks.\n",
    "* Original files size:\n",
    "    - XLSX: 45894952 bytes (~43.7 MB)\n",
    "    - XLSB: 20125767 bytes (~19.1 MB)\n",
    "* For each testing case (time or memit magic cell execution), kernel was restarted.\n",
    "* *Maybe, some optimisations missed in Polars openpyxl adapter: `read-only workbooks, data-only mode` (?)*"
   ]
  },
  {
   "cell_type": "markdown",
   "metadata": {},
   "source": [
    "### Notes about data"
   ]
  },
  {
   "cell_type": "markdown",
   "metadata": {},
   "source": [
    "Almost all columns in original files have some errors, such as:\n",
    "\n",
    "- Mixed data types (timestamps and floating-point cells in one column)\n",
    "\n",
    "This is a special case for show you not only difference between memory footprints or reading speed, but also quality of result (I know, that, with some advanced tuning, almost all engines can correctly read this... Maybe).\n",
    "\n",
    "There is some examples:"
   ]
  },
  {
   "cell_type": "markdown",
   "metadata": {},
   "source": [
    "### Quality of output data"
   ]
  },
  {
   "cell_type": "code",
   "execution_count": 10,
   "metadata": {},
   "outputs": [],
   "source": [
    "# Two different engines:\n",
    "df_ox = scan_xlsx2csv()\n",
    "df_rx = scan_rxls_xlsx()"
   ]
  },
  {
   "cell_type": "code",
   "execution_count": 12,
   "metadata": {},
   "outputs": [
    {
     "data": {
      "text/html": [
       "<div><style>\n",
       ".dataframe > thead > tr,\n",
       ".dataframe > tbody > tr {\n",
       "  text-align: right;\n",
       "  white-space: pre-wrap;\n",
       "}\n",
       "</style>\n",
       "<small>shape: (9, 68)</small><table border=\"1\" class=\"dataframe\"><thead><tr><th>describe</th><th>iso_code</th><th>continent</th><th>location</th><th>date</th><th>total_cases</th><th>new_cases</th><th>new_cases_smoothed</th><th>total_deaths</th><th>new_deaths</th><th>new_deaths_smoothed</th><th>total_cases_per_million</th><th>new_cases_per_million</th><th>new_cases_smoothed_per_million</th><th>total_deaths_per_million</th><th>new_deaths_per_million</th><th>new_deaths_smoothed_per_million</th><th>reproduction_rate</th><th>icu_patients</th><th>icu_patients_per_million</th><th>hosp_patients</th><th>hosp_patients_per_million</th><th>weekly_icu_admissions</th><th>weekly_icu_admissions_per_million</th><th>weekly_hosp_admissions</th><th>weekly_hosp_admissions_per_million</th><th>total_tests</th><th>new_tests</th><th>total_tests_per_thousand</th><th>new_tests_per_thousand</th><th>new_tests_smoothed</th><th>new_tests_smoothed_per_thousand</th><th>positive_rate</th><th>tests_per_case</th><th>tests_units</th><th>total_vaccinations</th><th>people_vaccinated</th><th>people_fully_vaccinated</th><th>total_boosters</th><th>new_vaccinations</th><th>new_vaccinations_smoothed</th><th>total_vaccinations_per_hundred</th><th>people_vaccinated_per_hundred</th><th>people_fully_vaccinated_per_hundred</th><th>total_boosters_per_hundred</th><th>new_vaccinations_smoothed_per_million</th><th>new_people_vaccinated_smoothed</th><th>new_people_vaccinated_smoothed_per_hundred</th><th>stringency_index</th><th>population_density</th><th>median_age</th><th>aged_65_older</th><th>aged_70_older</th><th>gdp_per_capita</th><th>extreme_poverty</th><th>cardiovasc_death_rate</th><th>diabetes_prevalence</th><th>female_smokers</th><th>male_smokers</th><th>handwashing_facilities</th><th>hospital_beds_per_thousand</th><th>life_expectancy</th><th>human_development_index</th><th>population</th><th>excess_mortality_cumulative_absolute</th><th>excess_mortality_cumulative</th><th>excess_mortality</th><th>excess_mortality_cumulative_per_million</th></tr><tr><td>str</td><td>str</td><td>str</td><td>str</td><td>str</td><td>str</td><td>str</td><td>str</td><td>str</td><td>str</td><td>str</td><td>str</td><td>str</td><td>str</td><td>str</td><td>str</td><td>str</td><td>str</td><td>str</td><td>str</td><td>str</td><td>str</td><td>str</td><td>str</td><td>str</td><td>str</td><td>str</td><td>str</td><td>str</td><td>str</td><td>str</td><td>str</td><td>str</td><td>str</td><td>str</td><td>str</td><td>str</td><td>str</td><td>str</td><td>str</td><td>str</td><td>str</td><td>str</td><td>str</td><td>str</td><td>str</td><td>str</td><td>str</td><td>str</td><td>str</td><td>str</td><td>str</td><td>str</td><td>str</td><td>str</td><td>str</td><td>str</td><td>str</td><td>str</td><td>str</td><td>str</td><td>str</td><td>str</td><td>str</td><td>str</td><td>str</td><td>str</td><td>str</td></tr></thead><tbody><tr><td>&quot;count&quot;</td><td>&quot;276700&quot;</td><td>&quot;262726&quot;</td><td>&quot;276700&quot;</td><td>&quot;276700&quot;</td><td>&quot;47775&quot;</td><td>&quot;51838&quot;</td><td>&quot;50608&quot;</td><td>&quot;44649&quot;</td><td>&quot;51859&quot;</td><td>&quot;50629&quot;</td><td>&quot;47775&quot;</td><td>&quot;51838&quot;</td><td>&quot;50608&quot;</td><td>&quot;44649&quot;</td><td>&quot;51859&quot;</td><td>&quot;50629&quot;</td><td>&quot;184817&quot;</td><td>&quot;38195&quot;</td><td>&quot;38195&quot;</td><td>&quot;39683&quot;</td><td>&quot;39683&quot;</td><td>&quot;10453&quot;</td><td>&quot;10453&quot;</td><td>&quot;23785&quot;</td><td>&quot;23785&quot;</td><td>&quot;79387&quot;</td><td>&quot;75403&quot;</td><td>&quot;79387&quot;</td><td>&quot;75403&quot;</td><td>&quot;103965&quot;</td><td>&quot;103965&quot;</td><td>&quot;95927&quot;</td><td>&quot;94348&quot;</td><td>&quot;106788&quot;</td><td>&quot;80910&quot;</td><td>&quot;77439&quot;</td><td>&quot;74164&quot;</td><td>&quot;49060&quot;</td><td>&quot;66854&quot;</td><td>&quot;185122&quot;</td><td>&quot;80910&quot;</td><td>&quot;77439&quot;</td><td>&quot;74164&quot;</td><td>&quot;49060&quot;</td><td>&quot;185122&quot;</td><td>&quot;184820&quot;</td><td>&quot;184820&quot;</td><td>&quot;180902&quot;</td><td>&quot;245128&quot;</td><td>&quot;232151&quot;</td><td>&quot;228629&quot;</td><td>&quot;230696&quot;</td><td>&quot;229745&quot;</td><td>&quot;152762&quot;</td><td>&quot;230192&quot;</td><td>&quot;239681&quot;</td><td>&quot;178131&quot;</td><td>&quot;175546&quot;</td><td>&quot;113626&quot;</td><td>&quot;205421&quot;</td><td>&quot;254747&quot;</td><td>&quot;225670&quot;</td><td>&quot;276700&quot;</td><td>&quot;11883&quot;</td><td>&quot;11883&quot;</td><td>&quot;11883&quot;</td><td>&quot;11883&quot;</td></tr><tr><td>&quot;null_count&quot;</td><td>&quot;0&quot;</td><td>&quot;13974&quot;</td><td>&quot;0&quot;</td><td>&quot;0&quot;</td><td>&quot;228925&quot;</td><td>&quot;224862&quot;</td><td>&quot;226092&quot;</td><td>&quot;232051&quot;</td><td>&quot;224841&quot;</td><td>&quot;226071&quot;</td><td>&quot;228925&quot;</td><td>&quot;224862&quot;</td><td>&quot;226092&quot;</td><td>&quot;232051&quot;</td><td>&quot;224841&quot;</td><td>&quot;226071&quot;</td><td>&quot;91883&quot;</td><td>&quot;238505&quot;</td><td>&quot;238505&quot;</td><td>&quot;237017&quot;</td><td>&quot;237017&quot;</td><td>&quot;266247&quot;</td><td>&quot;266247&quot;</td><td>&quot;252915&quot;</td><td>&quot;252915&quot;</td><td>&quot;197313&quot;</td><td>&quot;201297&quot;</td><td>&quot;197313&quot;</td><td>&quot;201297&quot;</td><td>&quot;172735&quot;</td><td>&quot;172735&quot;</td><td>&quot;180773&quot;</td><td>&quot;182352&quot;</td><td>&quot;169912&quot;</td><td>&quot;195790&quot;</td><td>&quot;199261&quot;</td><td>&quot;202536&quot;</td><td>&quot;227640&quot;</td><td>&quot;209846&quot;</td><td>&quot;91578&quot;</td><td>&quot;195790&quot;</td><td>&quot;199261&quot;</td><td>&quot;202536&quot;</td><td>&quot;227640&quot;</td><td>&quot;91578&quot;</td><td>&quot;91880&quot;</td><td>&quot;91880&quot;</td><td>&quot;95798&quot;</td><td>&quot;31572&quot;</td><td>&quot;44549&quot;</td><td>&quot;48071&quot;</td><td>&quot;46004&quot;</td><td>&quot;46955&quot;</td><td>&quot;123938&quot;</td><td>&quot;46508&quot;</td><td>&quot;37019&quot;</td><td>&quot;98569&quot;</td><td>&quot;101154&quot;</td><td>&quot;163074&quot;</td><td>&quot;71279&quot;</td><td>&quot;21953&quot;</td><td>&quot;51030&quot;</td><td>&quot;0&quot;</td><td>&quot;264817&quot;</td><td>&quot;264817&quot;</td><td>&quot;264817&quot;</td><td>&quot;264817&quot;</td></tr><tr><td>&quot;mean&quot;</td><td>null</td><td>null</td><td>null</td><td>null</td><td>null</td><td>null</td><td>null</td><td>null</td><td>null</td><td>null</td><td>null</td><td>null</td><td>null</td><td>null</td><td>null</td><td>null</td><td>null</td><td>null</td><td>null</td><td>null</td><td>null</td><td>null</td><td>null</td><td>null</td><td>null</td><td>null</td><td>null</td><td>null</td><td>null</td><td>null</td><td>null</td><td>null</td><td>null</td><td>null</td><td>null</td><td>null</td><td>null</td><td>null</td><td>null</td><td>null</td><td>null</td><td>null</td><td>null</td><td>null</td><td>null</td><td>null</td><td>null</td><td>null</td><td>null</td><td>null</td><td>null</td><td>null</td><td>null</td><td>null</td><td>null</td><td>null</td><td>null</td><td>null</td><td>null</td><td>null</td><td>null</td><td>null</td><td>null</td><td>null</td><td>null</td><td>null</td><td>null</td></tr><tr><td>&quot;std&quot;</td><td>null</td><td>null</td><td>null</td><td>null</td><td>null</td><td>null</td><td>null</td><td>null</td><td>null</td><td>null</td><td>null</td><td>null</td><td>null</td><td>null</td><td>null</td><td>null</td><td>null</td><td>null</td><td>null</td><td>null</td><td>null</td><td>null</td><td>null</td><td>null</td><td>null</td><td>null</td><td>null</td><td>null</td><td>null</td><td>null</td><td>null</td><td>null</td><td>null</td><td>null</td><td>null</td><td>null</td><td>null</td><td>null</td><td>null</td><td>null</td><td>null</td><td>null</td><td>null</td><td>null</td><td>null</td><td>null</td><td>null</td><td>null</td><td>null</td><td>null</td><td>null</td><td>null</td><td>null</td><td>null</td><td>null</td><td>null</td><td>null</td><td>null</td><td>null</td><td>null</td><td>null</td><td>null</td><td>null</td><td>null</td><td>null</td><td>null</td><td>null</td></tr><tr><td>&quot;min&quot;</td><td>&quot;ABW&quot;</td><td>&quot;Africa&quot;</td><td>&quot;Afghanistan&quot;</td><td>&quot;01-01-20&quot;</td><td>&quot;1.0&quot;</td><td>&quot;0.0&quot;</td><td>&quot;0.0&quot;</td><td>&quot;1.0&quot;</td><td>&quot;0.0&quot;</td><td>&quot;0.0&quot;</td><td>&quot;0.0&quot;</td><td>&quot;0.0&quot;</td><td>&quot;0.0&quot;</td><td>&quot;0.0&quot;</td><td>&quot;0.0&quot;</td><td>&quot;0.0&quot;</td><td>&quot;-0.0&quot;</td><td>&quot;0.0&quot;</td><td>&quot;0.0&quot;</td><td>&quot;0.0&quot;</td><td>&quot;0.0&quot;</td><td>&quot;0.0&quot;</td><td>&quot;0.0&quot;</td><td>&quot;0.0&quot;</td><td>&quot;0.0&quot;</td><td>&quot;0.0&quot;</td><td>&quot;1.0&quot;</td><td>&quot;0.0&quot;</td><td>&quot;0.0&quot;</td><td>&quot;0.0&quot;</td><td>&quot;0.0&quot;</td><td>&quot;0.0&quot;</td><td>&quot;01-Apr&quot;</td><td>&quot;people tested&quot;</td><td>&quot;0.0&quot;</td><td>&quot;0.0&quot;</td><td>&quot;1.0&quot;</td><td>&quot;1.0&quot;</td><td>&quot;0.0&quot;</td><td>&quot;0.0&quot;</td><td>&quot;0.0&quot;</td><td>&quot;0.0&quot;</td><td>&quot;0.0&quot;</td><td>&quot;0.0&quot;</td><td>&quot;0.0&quot;</td><td>&quot;0.0&quot;</td><td>&quot;0.0&quot;</td><td>&quot;0.0&quot;</td><td>&quot;0.137&quot;</td><td>&quot;15-Jan&quot;</td><td>&quot;03-Feb&quot;</td><td>&quot;0.526&quot;</td><td>&quot;104861.851&quot;</td><td>&quot;0.1&quot;</td><td>&quot;103.957&quot;</td><td>&quot;0.99&quot;</td><td>&quot;0.1&quot;</td><td>&quot;07-Jul&quot;</td><td>&quot;1.188&quot;</td><td>&quot;0.1&quot;</td><td>&quot;53.28&quot;</td><td>&quot;0.394&quot;</td><td>&quot;10142625.0&quot;</td><td>&quot;-0.20000076&quot;</td><td>&quot;-0.01&quot;</td><td>&quot;-0.01&quot;</td><td>&quot;-0.18260218&quot;</td></tr><tr><td>&quot;25%&quot;</td><td>null</td><td>null</td><td>null</td><td>null</td><td>null</td><td>null</td><td>null</td><td>null</td><td>null</td><td>null</td><td>null</td><td>null</td><td>null</td><td>null</td><td>null</td><td>null</td><td>null</td><td>null</td><td>null</td><td>null</td><td>null</td><td>null</td><td>null</td><td>null</td><td>null</td><td>null</td><td>null</td><td>null</td><td>null</td><td>null</td><td>null</td><td>null</td><td>null</td><td>null</td><td>null</td><td>null</td><td>null</td><td>null</td><td>null</td><td>null</td><td>null</td><td>null</td><td>null</td><td>null</td><td>null</td><td>null</td><td>null</td><td>null</td><td>null</td><td>null</td><td>null</td><td>null</td><td>null</td><td>null</td><td>null</td><td>null</td><td>null</td><td>null</td><td>null</td><td>null</td><td>null</td><td>null</td><td>null</td><td>null</td><td>null</td><td>null</td><td>null</td></tr><tr><td>&quot;50%&quot;</td><td>null</td><td>null</td><td>null</td><td>null</td><td>null</td><td>null</td><td>null</td><td>null</td><td>null</td><td>null</td><td>null</td><td>null</td><td>null</td><td>null</td><td>null</td><td>null</td><td>null</td><td>null</td><td>null</td><td>null</td><td>null</td><td>null</td><td>null</td><td>null</td><td>null</td><td>null</td><td>null</td><td>null</td><td>null</td><td>null</td><td>null</td><td>null</td><td>null</td><td>null</td><td>null</td><td>null</td><td>null</td><td>null</td><td>null</td><td>null</td><td>null</td><td>null</td><td>null</td><td>null</td><td>null</td><td>null</td><td>null</td><td>null</td><td>null</td><td>null</td><td>null</td><td>null</td><td>null</td><td>null</td><td>null</td><td>null</td><td>null</td><td>null</td><td>null</td><td>null</td><td>null</td><td>null</td><td>null</td><td>null</td><td>null</td><td>null</td><td>null</td></tr><tr><td>&quot;75%&quot;</td><td>null</td><td>null</td><td>null</td><td>null</td><td>null</td><td>null</td><td>null</td><td>null</td><td>null</td><td>null</td><td>null</td><td>null</td><td>null</td><td>null</td><td>null</td><td>null</td><td>null</td><td>null</td><td>null</td><td>null</td><td>null</td><td>null</td><td>null</td><td>null</td><td>null</td><td>null</td><td>null</td><td>null</td><td>null</td><td>null</td><td>null</td><td>null</td><td>null</td><td>null</td><td>null</td><td>null</td><td>null</td><td>null</td><td>null</td><td>null</td><td>null</td><td>null</td><td>null</td><td>null</td><td>null</td><td>null</td><td>null</td><td>null</td><td>null</td><td>null</td><td>null</td><td>null</td><td>null</td><td>null</td><td>null</td><td>null</td><td>null</td><td>null</td><td>null</td><td>null</td><td>null</td><td>null</td><td>null</td><td>null</td><td>null</td><td>null</td><td>null</td></tr><tr><td>&quot;max&quot;</td><td>&quot;ZWE&quot;</td><td>&quot;South America&quot;</td><td>&quot;Zimbabwe&quot;</td><td>&quot;12-31-23&quot;</td><td>&quot;999886.0&quot;</td><td>&quot;9999.0&quot;</td><td>&quot;99985.571&quot;</td><td>&quot;99965.0&quot;</td><td>&quot;999.0&quot;</td><td>&quot;998.714&quot;</td><td>&quot;Sep-87&quot;</td><td>&quot;Sep-88&quot;</td><td>&quot;Sep-96&quot;</td><td>&quot;Sep-95&quot;</td><td>&quot;Sep-98&quot;</td><td>&quot;Sep-98&quot;</td><td>&quot;May-87&quot;</td><td>&quot;9994.0&quot;</td><td>&quot;Sep-98&quot;</td><td>&quot;999.0&quot;</td><td>&quot;Sep-93&quot;</td><td>&quot;998.0&quot;</td><td>&quot;Sep-98&quot;</td><td>&quot;9996.0&quot;</td><td>&quot;Sep-91&quot;</td><td>&quot;9999879.0&quot;</td><td>&quot;99999.0&quot;</td><td>&quot;Sep-99&quot;</td><td>&quot;Sep-99&quot;</td><td>&quot;99990.0&quot;</td><td>&quot;Sep-99&quot;</td><td>&quot;1.0&quot;</td><td>&quot;999.8&quot;</td><td>&quot;units unclear&quot;</td><td>&quot;999990.0&quot;</td><td>&quot;9999633.0&quot;</td><td>&quot;9999902.0&quot;</td><td>&quot;999995.0&quot;</td><td>&quot;999947.0&quot;</td><td>&quot;99998.0&quot;</td><td>&quot;Sep-98&quot;</td><td>&quot;Sep-99&quot;</td><td>&quot;Sep-99&quot;</td><td>&quot;Sep-99&quot;</td><td>&quot;9999.0&quot;</td><td>&quot;99996.0&quot;</td><td>&quot;Mar-21&quot;</td><td>&quot;Sep-89&quot;</td><td>&quot;Jan-98&quot;</td><td>&quot;48.2&quot;</td><td>&quot;May-82&quot;</td><td>&quot;Sep-72&quot;</td><td>&quot;9795.834&quot;</td><td>&quot;77.6&quot;</td><td>&quot;99.739&quot;</td><td>&quot;Sep-85&quot;</td><td>&quot;7.0&quot;</td><td>&quot;78.1&quot;</td><td>&quot;Jul-96&quot;</td><td>&quot;May-98&quot;</td><td>&quot;86.75&quot;</td><td>&quot;0.957&quot;</td><td>&quot;9967304.0&quot;</td><td>&quot;99988.016&quot;</td><td>&quot;Sep-99&quot;</td><td>&quot;Sep-99&quot;</td><td>&quot;999.514&quot;</td></tr></tbody></table></div>"
      ],
      "text/plain": [
       "shape: (9, 68)\n",
       "┌───────────┬──────────┬───────────┬───────────┬───┬───────────┬───────────┬───────────┬───────────┐\n",
       "│ describe  ┆ iso_code ┆ continent ┆ location  ┆ … ┆ excess_mo ┆ excess_mo ┆ excess_mo ┆ excess_mo │\n",
       "│ ---       ┆ ---      ┆ ---       ┆ ---       ┆   ┆ rtality_c ┆ rtality_c ┆ rtality   ┆ rtality_c │\n",
       "│ str       ┆ str      ┆ str       ┆ str       ┆   ┆ umulative ┆ umulative ┆ ---       ┆ umulative │\n",
       "│           ┆          ┆           ┆           ┆   ┆ _abso…    ┆ ---       ┆ str       ┆ _per_…    │\n",
       "│           ┆          ┆           ┆           ┆   ┆ ---       ┆ str       ┆           ┆ ---       │\n",
       "│           ┆          ┆           ┆           ┆   ┆ str       ┆           ┆           ┆ str       │\n",
       "╞═══════════╪══════════╪═══════════╪═══════════╪═══╪═══════════╪═══════════╪═══════════╪═══════════╡\n",
       "│ count     ┆ 276700   ┆ 262726    ┆ 276700    ┆ … ┆ 11883     ┆ 11883     ┆ 11883     ┆ 11883     │\n",
       "│ null_coun ┆ 0        ┆ 13974     ┆ 0         ┆ … ┆ 264817    ┆ 264817    ┆ 264817    ┆ 264817    │\n",
       "│ t         ┆          ┆           ┆           ┆   ┆           ┆           ┆           ┆           │\n",
       "│ mean      ┆ null     ┆ null      ┆ null      ┆ … ┆ null      ┆ null      ┆ null      ┆ null      │\n",
       "│ std       ┆ null     ┆ null      ┆ null      ┆ … ┆ null      ┆ null      ┆ null      ┆ null      │\n",
       "│ min       ┆ ABW      ┆ Africa    ┆ Afghanist ┆ … ┆ -0.200000 ┆ -0.01     ┆ -0.01     ┆ -0.182602 │\n",
       "│           ┆          ┆           ┆ an        ┆   ┆ 76        ┆           ┆           ┆ 18        │\n",
       "│ 25%       ┆ null     ┆ null      ┆ null      ┆ … ┆ null      ┆ null      ┆ null      ┆ null      │\n",
       "│ 50%       ┆ null     ┆ null      ┆ null      ┆ … ┆ null      ┆ null      ┆ null      ┆ null      │\n",
       "│ 75%       ┆ null     ┆ null      ┆ null      ┆ … ┆ null      ┆ null      ┆ null      ┆ null      │\n",
       "│ max       ┆ ZWE      ┆ South     ┆ Zimbabwe  ┆ … ┆ 99988.016 ┆ Sep-99    ┆ Sep-99    ┆ 999.514   │\n",
       "│           ┆          ┆ America   ┆           ┆   ┆           ┆           ┆           ┆           │\n",
       "└───────────┴──────────┴───────────┴───────────┴───┴───────────┴───────────┴───────────┴───────────┘"
      ]
     },
     "execution_count": 12,
     "metadata": {},
     "output_type": "execute_result"
    }
   ],
   "source": [
    "df_ox.describe()"
   ]
  },
  {
   "cell_type": "code",
   "execution_count": 13,
   "metadata": {},
   "outputs": [
    {
     "data": {
      "text/html": [
       "<div><style>\n",
       ".dataframe > thead > tr,\n",
       ".dataframe > tbody > tr {\n",
       "  text-align: right;\n",
       "  white-space: pre-wrap;\n",
       "}\n",
       "</style>\n",
       "<small>shape: (9, 68)</small><table border=\"1\" class=\"dataframe\"><thead><tr><th>describe</th><th>iso_code</th><th>continent</th><th>location</th><th>date</th><th>total_cases</th><th>new_cases</th><th>new_cases_smoothed</th><th>total_deaths</th><th>new_deaths</th><th>new_deaths_smoothed</th><th>total_cases_per_million</th><th>new_cases_per_million</th><th>new_cases_smoothed_per_million</th><th>total_deaths_per_million</th><th>new_deaths_per_million</th><th>new_deaths_smoothed_per_million</th><th>reproduction_rate</th><th>icu_patients</th><th>icu_patients_per_million</th><th>hosp_patients</th><th>hosp_patients_per_million</th><th>weekly_icu_admissions</th><th>weekly_icu_admissions_per_million</th><th>weekly_hosp_admissions</th><th>weekly_hosp_admissions_per_million</th><th>total_tests</th><th>new_tests</th><th>total_tests_per_thousand</th><th>new_tests_per_thousand</th><th>new_tests_smoothed</th><th>new_tests_smoothed_per_thousand</th><th>positive_rate</th><th>tests_per_case</th><th>tests_units</th><th>total_vaccinations</th><th>people_vaccinated</th><th>people_fully_vaccinated</th><th>total_boosters</th><th>new_vaccinations</th><th>new_vaccinations_smoothed</th><th>total_vaccinations_per_hundred</th><th>people_vaccinated_per_hundred</th><th>people_fully_vaccinated_per_hundred</th><th>total_boosters_per_hundred</th><th>new_vaccinations_smoothed_per_million</th><th>new_people_vaccinated_smoothed</th><th>new_people_vaccinated_smoothed_per_hundred</th><th>stringency_index</th><th>population_density</th><th>median_age</th><th>aged_65_older</th><th>aged_70_older</th><th>gdp_per_capita</th><th>extreme_poverty</th><th>cardiovasc_death_rate</th><th>diabetes_prevalence</th><th>female_smokers</th><th>male_smokers</th><th>handwashing_facilities</th><th>hospital_beds_per_thousand</th><th>life_expectancy</th><th>human_development_index</th><th>population</th><th>excess_mortality_cumulative_absolute</th><th>excess_mortality_cumulative</th><th>excess_mortality</th><th>excess_mortality_cumulative_per_million</th></tr><tr><td>str</td><td>str</td><td>str</td><td>str</td><td>str</td><td>str</td><td>str</td><td>str</td><td>str</td><td>str</td><td>str</td><td>str</td><td>str</td><td>str</td><td>str</td><td>str</td><td>str</td><td>str</td><td>str</td><td>str</td><td>str</td><td>str</td><td>str</td><td>str</td><td>str</td><td>str</td><td>str</td><td>str</td><td>str</td><td>str</td><td>str</td><td>str</td><td>str</td><td>str</td><td>str</td><td>str</td><td>str</td><td>str</td><td>str</td><td>str</td><td>str</td><td>str</td><td>str</td><td>str</td><td>str</td><td>str</td><td>str</td><td>str</td><td>str</td><td>str</td><td>str</td><td>str</td><td>str</td><td>str</td><td>str</td><td>str</td><td>str</td><td>str</td><td>str</td><td>str</td><td>str</td><td>str</td><td>str</td><td>str</td><td>str</td><td>str</td><td>str</td><td>str</td></tr></thead><tbody><tr><td>&quot;count&quot;</td><td>&quot;276700&quot;</td><td>&quot;262726&quot;</td><td>&quot;276700&quot;</td><td>&quot;276700&quot;</td><td>&quot;47775&quot;</td><td>&quot;51838&quot;</td><td>&quot;50608&quot;</td><td>&quot;44649&quot;</td><td>&quot;51859&quot;</td><td>&quot;50629&quot;</td><td>&quot;47775&quot;</td><td>&quot;51838&quot;</td><td>&quot;50608&quot;</td><td>&quot;44649&quot;</td><td>&quot;51859&quot;</td><td>&quot;50629&quot;</td><td>&quot;184817&quot;</td><td>&quot;38195&quot;</td><td>&quot;38195&quot;</td><td>&quot;39683&quot;</td><td>&quot;39683&quot;</td><td>&quot;10453&quot;</td><td>&quot;10453&quot;</td><td>&quot;23785&quot;</td><td>&quot;23785&quot;</td><td>&quot;79387&quot;</td><td>&quot;75403&quot;</td><td>&quot;79387&quot;</td><td>&quot;75403&quot;</td><td>&quot;103965&quot;</td><td>&quot;103965&quot;</td><td>&quot;95927&quot;</td><td>&quot;94348&quot;</td><td>&quot;106788&quot;</td><td>&quot;80910&quot;</td><td>&quot;77439&quot;</td><td>&quot;74164&quot;</td><td>&quot;49060&quot;</td><td>&quot;66854&quot;</td><td>&quot;185122&quot;</td><td>&quot;80910&quot;</td><td>&quot;77439&quot;</td><td>&quot;74164&quot;</td><td>&quot;49060&quot;</td><td>&quot;185122&quot;</td><td>&quot;184820&quot;</td><td>&quot;184820&quot;</td><td>&quot;180902&quot;</td><td>&quot;245128&quot;</td><td>&quot;232151&quot;</td><td>&quot;228629&quot;</td><td>&quot;230696&quot;</td><td>&quot;229745&quot;</td><td>&quot;152762&quot;</td><td>&quot;230192&quot;</td><td>&quot;239681&quot;</td><td>&quot;178131&quot;</td><td>&quot;175546&quot;</td><td>&quot;113626&quot;</td><td>&quot;205421&quot;</td><td>&quot;254747&quot;</td><td>&quot;225670&quot;</td><td>&quot;276700&quot;</td><td>&quot;11883&quot;</td><td>&quot;11883&quot;</td><td>&quot;11883&quot;</td><td>&quot;11883&quot;</td></tr><tr><td>&quot;null_count&quot;</td><td>&quot;0&quot;</td><td>&quot;13974&quot;</td><td>&quot;0&quot;</td><td>&quot;0&quot;</td><td>&quot;228925&quot;</td><td>&quot;224862&quot;</td><td>&quot;226092&quot;</td><td>&quot;232051&quot;</td><td>&quot;224841&quot;</td><td>&quot;226071&quot;</td><td>&quot;228925&quot;</td><td>&quot;224862&quot;</td><td>&quot;226092&quot;</td><td>&quot;232051&quot;</td><td>&quot;224841&quot;</td><td>&quot;226071&quot;</td><td>&quot;91883&quot;</td><td>&quot;238505&quot;</td><td>&quot;238505&quot;</td><td>&quot;237017&quot;</td><td>&quot;237017&quot;</td><td>&quot;266247&quot;</td><td>&quot;266247&quot;</td><td>&quot;252915&quot;</td><td>&quot;252915&quot;</td><td>&quot;197313&quot;</td><td>&quot;201297&quot;</td><td>&quot;197313&quot;</td><td>&quot;201297&quot;</td><td>&quot;172735&quot;</td><td>&quot;172735&quot;</td><td>&quot;180773&quot;</td><td>&quot;182352&quot;</td><td>&quot;169912&quot;</td><td>&quot;195790&quot;</td><td>&quot;199261&quot;</td><td>&quot;202536&quot;</td><td>&quot;227640&quot;</td><td>&quot;209846&quot;</td><td>&quot;91578&quot;</td><td>&quot;195790&quot;</td><td>&quot;199261&quot;</td><td>&quot;202536&quot;</td><td>&quot;227640&quot;</td><td>&quot;91578&quot;</td><td>&quot;91880&quot;</td><td>&quot;91880&quot;</td><td>&quot;95798&quot;</td><td>&quot;31572&quot;</td><td>&quot;44549&quot;</td><td>&quot;48071&quot;</td><td>&quot;46004&quot;</td><td>&quot;46955&quot;</td><td>&quot;123938&quot;</td><td>&quot;46508&quot;</td><td>&quot;37019&quot;</td><td>&quot;98569&quot;</td><td>&quot;101154&quot;</td><td>&quot;163074&quot;</td><td>&quot;71279&quot;</td><td>&quot;21953&quot;</td><td>&quot;51030&quot;</td><td>&quot;0&quot;</td><td>&quot;264817&quot;</td><td>&quot;264817&quot;</td><td>&quot;264817&quot;</td><td>&quot;264817&quot;</td></tr><tr><td>&quot;mean&quot;</td><td>null</td><td>null</td><td>null</td><td>null</td><td>null</td><td>null</td><td>null</td><td>null</td><td>null</td><td>null</td><td>null</td><td>null</td><td>null</td><td>null</td><td>null</td><td>null</td><td>null</td><td>null</td><td>null</td><td>null</td><td>null</td><td>null</td><td>null</td><td>null</td><td>null</td><td>null</td><td>null</td><td>null</td><td>null</td><td>null</td><td>null</td><td>null</td><td>null</td><td>null</td><td>null</td><td>null</td><td>null</td><td>null</td><td>null</td><td>null</td><td>null</td><td>null</td><td>null</td><td>null</td><td>null</td><td>null</td><td>null</td><td>null</td><td>null</td><td>null</td><td>null</td><td>null</td><td>null</td><td>null</td><td>null</td><td>null</td><td>null</td><td>null</td><td>null</td><td>null</td><td>null</td><td>null</td><td>null</td><td>null</td><td>null</td><td>null</td><td>null</td></tr><tr><td>&quot;std&quot;</td><td>null</td><td>null</td><td>null</td><td>null</td><td>null</td><td>null</td><td>null</td><td>null</td><td>null</td><td>null</td><td>null</td><td>null</td><td>null</td><td>null</td><td>null</td><td>null</td><td>null</td><td>null</td><td>null</td><td>null</td><td>null</td><td>null</td><td>null</td><td>null</td><td>null</td><td>null</td><td>null</td><td>null</td><td>null</td><td>null</td><td>null</td><td>null</td><td>null</td><td>null</td><td>null</td><td>null</td><td>null</td><td>null</td><td>null</td><td>null</td><td>null</td><td>null</td><td>null</td><td>null</td><td>null</td><td>null</td><td>null</td><td>null</td><td>null</td><td>null</td><td>null</td><td>null</td><td>null</td><td>null</td><td>null</td><td>null</td><td>null</td><td>null</td><td>null</td><td>null</td><td>null</td><td>null</td><td>null</td><td>null</td><td>null</td><td>null</td><td>null</td></tr><tr><td>&quot;min&quot;</td><td>&quot;ABW&quot;</td><td>&quot;Africa&quot;</td><td>&quot;Afghanistan&quot;</td><td>&quot;2020-01-01 00:…</td><td>&quot;1.0&quot;</td><td>&quot;0.0&quot;</td><td>&quot;0.0&quot;</td><td>&quot;1.0&quot;</td><td>&quot;0.0&quot;</td><td>&quot;0.0&quot;</td><td>&quot;0.0&quot;</td><td>&quot;0.0&quot;</td><td>&quot;0.0&quot;</td><td>&quot;0.0&quot;</td><td>&quot;0.0&quot;</td><td>&quot;0.0&quot;</td><td>&quot;-0.0&quot;</td><td>&quot;0.0&quot;</td><td>&quot;0.0&quot;</td><td>&quot;0.0&quot;</td><td>&quot;0.0&quot;</td><td>&quot;0.0&quot;</td><td>&quot;0.0&quot;</td><td>&quot;0.0&quot;</td><td>&quot;0.0&quot;</td><td>&quot;0.0&quot;</td><td>&quot;1.0&quot;</td><td>&quot;0.0&quot;</td><td>&quot;0.0&quot;</td><td>&quot;0.0&quot;</td><td>&quot;0.0&quot;</td><td>&quot;0.0&quot;</td><td>&quot;1.0&quot;</td><td>&quot;people tested&quot;</td><td>&quot;0.0&quot;</td><td>&quot;0.0&quot;</td><td>&quot;1.0&quot;</td><td>&quot;1.0&quot;</td><td>&quot;0.0&quot;</td><td>&quot;0.0&quot;</td><td>&quot;0.0&quot;</td><td>&quot;0.0&quot;</td><td>&quot;0.0&quot;</td><td>&quot;0.0&quot;</td><td>&quot;0.0&quot;</td><td>&quot;0.0&quot;</td><td>&quot;0.0&quot;</td><td>&quot;0.0&quot;</td><td>&quot;0.137&quot;</td><td>&quot;17.0&quot;</td><td>&quot;1.144&quot;</td><td>&quot;0.526&quot;</td><td>&quot;104861.851&quot;</td><td>&quot;0.1&quot;</td><td>&quot;103.957&quot;</td><td>&quot;0.99&quot;</td><td>&quot;0.1&quot;</td><td>&quot;2024-01-18 00:…</td><td>&quot;1.188&quot;</td><td>&quot;0.1&quot;</td><td>&quot;53.28&quot;</td><td>&quot;0.394&quot;</td><td>&quot;10142625.0&quot;</td><td>&quot;-0.20000076&quot;</td><td>&quot;-0.01&quot;</td><td>&quot;-0.01&quot;</td><td>&quot;-0.18260218&quot;</td></tr><tr><td>&quot;25%&quot;</td><td>null</td><td>null</td><td>null</td><td>null</td><td>null</td><td>null</td><td>null</td><td>null</td><td>null</td><td>null</td><td>null</td><td>null</td><td>null</td><td>null</td><td>null</td><td>null</td><td>null</td><td>null</td><td>null</td><td>null</td><td>null</td><td>null</td><td>null</td><td>null</td><td>null</td><td>null</td><td>null</td><td>null</td><td>null</td><td>null</td><td>null</td><td>null</td><td>null</td><td>null</td><td>null</td><td>null</td><td>null</td><td>null</td><td>null</td><td>null</td><td>null</td><td>null</td><td>null</td><td>null</td><td>null</td><td>null</td><td>null</td><td>null</td><td>null</td><td>null</td><td>null</td><td>null</td><td>null</td><td>null</td><td>null</td><td>null</td><td>null</td><td>null</td><td>null</td><td>null</td><td>null</td><td>null</td><td>null</td><td>null</td><td>null</td><td>null</td><td>null</td></tr><tr><td>&quot;50%&quot;</td><td>null</td><td>null</td><td>null</td><td>null</td><td>null</td><td>null</td><td>null</td><td>null</td><td>null</td><td>null</td><td>null</td><td>null</td><td>null</td><td>null</td><td>null</td><td>null</td><td>null</td><td>null</td><td>null</td><td>null</td><td>null</td><td>null</td><td>null</td><td>null</td><td>null</td><td>null</td><td>null</td><td>null</td><td>null</td><td>null</td><td>null</td><td>null</td><td>null</td><td>null</td><td>null</td><td>null</td><td>null</td><td>null</td><td>null</td><td>null</td><td>null</td><td>null</td><td>null</td><td>null</td><td>null</td><td>null</td><td>null</td><td>null</td><td>null</td><td>null</td><td>null</td><td>null</td><td>null</td><td>null</td><td>null</td><td>null</td><td>null</td><td>null</td><td>null</td><td>null</td><td>null</td><td>null</td><td>null</td><td>null</td><td>null</td><td>null</td><td>null</td></tr><tr><td>&quot;75%&quot;</td><td>null</td><td>null</td><td>null</td><td>null</td><td>null</td><td>null</td><td>null</td><td>null</td><td>null</td><td>null</td><td>null</td><td>null</td><td>null</td><td>null</td><td>null</td><td>null</td><td>null</td><td>null</td><td>null</td><td>null</td><td>null</td><td>null</td><td>null</td><td>null</td><td>null</td><td>null</td><td>null</td><td>null</td><td>null</td><td>null</td><td>null</td><td>null</td><td>null</td><td>null</td><td>null</td><td>null</td><td>null</td><td>null</td><td>null</td><td>null</td><td>null</td><td>null</td><td>null</td><td>null</td><td>null</td><td>null</td><td>null</td><td>null</td><td>null</td><td>null</td><td>null</td><td>null</td><td>null</td><td>null</td><td>null</td><td>null</td><td>null</td><td>null</td><td>null</td><td>null</td><td>null</td><td>null</td><td>null</td><td>null</td><td>null</td><td>null</td><td>null</td></tr><tr><td>&quot;max&quot;</td><td>&quot;ZWE&quot;</td><td>&quot;South America&quot;</td><td>&quot;Zimbabwe&quot;</td><td>&quot;2024-01-19 00:…</td><td>&quot;999886.0&quot;</td><td>&quot;9999.0&quot;</td><td>&quot;99985.571&quot;</td><td>&quot;99965.0&quot;</td><td>&quot;999.0&quot;</td><td>&quot;998.714&quot;</td><td>&quot;99996.358&quot;</td><td>&quot;999.979&quot;</td><td>&quot;999.713&quot;</td><td>&quot;999.978&quot;</td><td>&quot;99.991&quot;</td><td>&quot;99.932&quot;</td><td>&quot;4.0&quot;</td><td>&quot;9994.0&quot;</td><td>&quot;99.981&quot;</td><td>&quot;999.0&quot;</td><td>&quot;995.991&quot;</td><td>&quot;998.0&quot;</td><td>&quot;91.696&quot;</td><td>&quot;9996.0&quot;</td><td>&quot;99.988&quot;</td><td>&quot;9999879.0&quot;</td><td>&quot;99999.0&quot;</td><td>&quot;9995.96&quot;</td><td>&quot;99.539&quot;</td><td>&quot;99990.0&quot;</td><td>&quot;99.969&quot;</td><td>&quot;1.0&quot;</td><td>&quot;999.8&quot;</td><td>&quot;units unclear&quot;</td><td>&quot;999990.0&quot;</td><td>&quot;9999633.0&quot;</td><td>&quot;9999902.0&quot;</td><td>&quot;999995.0&quot;</td><td>&quot;999947.0&quot;</td><td>&quot;99998.0&quot;</td><td>&quot;99.99&quot;</td><td>&quot;99.94&quot;</td><td>&quot;99.94&quot;</td><td>&quot;99.97&quot;</td><td>&quot;9999.0&quot;</td><td>&quot;99996.0&quot;</td><td>&quot;9.262&quot;</td><td>&quot;98.15&quot;</td><td>&quot;99.11&quot;</td><td>&quot;48.2&quot;</td><td>&quot;9.954&quot;</td><td>&quot;9.842&quot;</td><td>&quot;9795.834&quot;</td><td>&quot;77.6&quot;</td><td>&quot;99.739&quot;</td><td>&quot;6.0&quot;</td><td>&quot;7.0&quot;</td><td>&quot;78.1&quot;</td><td>&quot;98.999&quot;</td><td>&quot;8.0&quot;</td><td>&quot;86.75&quot;</td><td>&quot;0.957&quot;</td><td>&quot;9967304.0&quot;</td><td>&quot;99988.016&quot;</td><td>&quot;9.0&quot;</td><td>&quot;99.55&quot;</td><td>&quot;999.514&quot;</td></tr></tbody></table></div>"
      ],
      "text/plain": [
       "shape: (9, 68)\n",
       "┌───────────┬──────────┬───────────┬───────────┬───┬───────────┬───────────┬───────────┬───────────┐\n",
       "│ describe  ┆ iso_code ┆ continent ┆ location  ┆ … ┆ excess_mo ┆ excess_mo ┆ excess_mo ┆ excess_mo │\n",
       "│ ---       ┆ ---      ┆ ---       ┆ ---       ┆   ┆ rtality_c ┆ rtality_c ┆ rtality   ┆ rtality_c │\n",
       "│ str       ┆ str      ┆ str       ┆ str       ┆   ┆ umulative ┆ umulative ┆ ---       ┆ umulative │\n",
       "│           ┆          ┆           ┆           ┆   ┆ _abso…    ┆ ---       ┆ str       ┆ _per_…    │\n",
       "│           ┆          ┆           ┆           ┆   ┆ ---       ┆ str       ┆           ┆ ---       │\n",
       "│           ┆          ┆           ┆           ┆   ┆ str       ┆           ┆           ┆ str       │\n",
       "╞═══════════╪══════════╪═══════════╪═══════════╪═══╪═══════════╪═══════════╪═══════════╪═══════════╡\n",
       "│ count     ┆ 276700   ┆ 262726    ┆ 276700    ┆ … ┆ 11883     ┆ 11883     ┆ 11883     ┆ 11883     │\n",
       "│ null_coun ┆ 0        ┆ 13974     ┆ 0         ┆ … ┆ 264817    ┆ 264817    ┆ 264817    ┆ 264817    │\n",
       "│ t         ┆          ┆           ┆           ┆   ┆           ┆           ┆           ┆           │\n",
       "│ mean      ┆ null     ┆ null      ┆ null      ┆ … ┆ null      ┆ null      ┆ null      ┆ null      │\n",
       "│ std       ┆ null     ┆ null      ┆ null      ┆ … ┆ null      ┆ null      ┆ null      ┆ null      │\n",
       "│ min       ┆ ABW      ┆ Africa    ┆ Afghanist ┆ … ┆ -0.200000 ┆ -0.01     ┆ -0.01     ┆ -0.182602 │\n",
       "│           ┆          ┆           ┆ an        ┆   ┆ 76        ┆           ┆           ┆ 18        │\n",
       "│ 25%       ┆ null     ┆ null      ┆ null      ┆ … ┆ null      ┆ null      ┆ null      ┆ null      │\n",
       "│ 50%       ┆ null     ┆ null      ┆ null      ┆ … ┆ null      ┆ null      ┆ null      ┆ null      │\n",
       "│ 75%       ┆ null     ┆ null      ┆ null      ┆ … ┆ null      ┆ null      ┆ null      ┆ null      │\n",
       "│ max       ┆ ZWE      ┆ South     ┆ Zimbabwe  ┆ … ┆ 99988.016 ┆ 9.0       ┆ 99.55     ┆ 999.514   │\n",
       "│           ┆          ┆ America   ┆           ┆   ┆           ┆           ┆           ┆           │\n",
       "└───────────┴──────────┴───────────┴───────────┴───┴───────────┴───────────┴───────────┴───────────┘"
      ]
     },
     "execution_count": 13,
     "metadata": {},
     "output_type": "execute_result"
    }
   ],
   "source": [
    "df_rx.describe()"
   ]
  },
  {
   "cell_type": "markdown",
   "metadata": {},
   "source": [
    "### Explanation"
   ]
  },
  {
   "cell_type": "markdown",
   "metadata": {},
   "source": [
    "This simple showcase will give you some information about reading MS Excel files using Python engines. Just take a look on differences in `polars.DataFrame.describe` results in columns:\n",
    "\n",
    "- `total_cases_per_million`\n",
    "- `new_cases_per_million`\n",
    "- `new_cases_smoothed_per_million`\n",
    "- `total_deaths_per_million`\n",
    "- `new_deaths_per_million`\n",
    "- `...`\n",
    "\n",
    "There is no simple answer, which engine is better for your case. But, when there is some sh*t in the input data, you should take care about these differences - and there is some benefits for using RXLS:\n",
    "\n",
    "- All temporal data in mixed-dtype columns will be represented as ISO 8601 formatted timestamps, ready for further conversions.\n",
    "\n",
    "- Mixed-dtype column parts may be seamless converted to the common datatype without data loss. But you should keep in mind, that RXLS will convert floating-point values to timestamps, and it may cause rounding issues on converting them back.\n",
    "\n",
    "- If you don't know, which data is inside XLSX/XLSB file (does it contains some errors, or not), and file is Really Large (in my practice, XLSX files may be **larger than 3GB** (!)), you just can't take a look on data (MS Excel is not supporting files this large) - RXLS can read them all (and you could save it's sheets to Apache Arrow `.parquet` files for further analyzing).\n",
    "\n",
    "Other engines also can do this, just keep in mind their cons and pros on mixed-dtype columns reading."
   ]
  },
  {
   "cell_type": "code",
   "execution_count": null,
   "metadata": {},
   "outputs": [],
   "source": [
    "##"
   ]
  }
 ],
 "metadata": {
  "kernelspec": {
   "display_name": ".venv",
   "language": "python",
   "name": "python3"
  },
  "language_info": {
   "codemirror_mode": {
    "name": "ipython",
    "version": 3
   },
   "file_extension": ".py",
   "mimetype": "text/x-python",
   "name": "python",
   "nbconvert_exporter": "python",
   "pygments_lexer": "ipython3",
   "version": "3.12.0"
  },
  "orig_nbformat": 4,
  "vscode": {
   "interpreter": {
    "hash": "63b6a2b0f35fa4ea1c49d25456d100cfd93064b5ee1d57f74d839a65cc2b63a2"
   }
  }
 },
 "nbformat": 4,
 "nbformat_minor": 2
}
