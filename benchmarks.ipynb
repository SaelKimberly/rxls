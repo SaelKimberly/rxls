{
 "cells": [
  {
   "attachments": {},
   "cell_type": "markdown",
   "metadata": {},
   "source": [
    "## Initialization"
   ]
  },
  {
   "cell_type": "code",
   "execution_count": 1,
   "metadata": {
    "notebookRunGroups": {
     "groupValue": "1"
    }
   },
   "outputs": [
    {
     "name": "stdout",
     "output_type": "stream",
     "text": [
      "[========================================================================================================================]\n",
      "|                                               benchmark environment used                                               |\n",
      "[======= product ========][========================================== version ===========================================]\n",
      "|        Platform        ||                                  Windows-10-10.0.19045-SP0                                   |\n",
      "|          CPU           ||                      AMD64 Family 23 Model 24 Stepping 1, AuthenticAMD                       |\n",
      "|         CPU HZ         ||                               2.0960 GHz (actual: 2.1000 GHz)                                |\n",
      "|         Python         ||       3.10.0 (tags/v3.10.0:b494f59, Oct  4 2021, 19:00:18) [MSC v.1929 64 bit (AMD64)]       |\n",
      "|        PyArrow         ||                                            13.0.0                                            |\n",
      "|         Polars         ||                                            0.19.3                                            |\n",
      "|         Pandas         ||                                            2.1.0                                             |\n",
      "|         Numba          ||                                            0.57.1                                            |\n",
      "|        XLSX2CSV        ||                                            0.8.1                                             |\n",
      "|        OpenPyXL        ||                                            3.1.2                                             |\n",
      "|         PyXLSB         ||                                            1.0.10                                            |\n",
      "|          tqdm          ||                                            4.66.1                                            |\n",
      "|      ordered-set       ||                                            4.1.0                                             |\n",
      "|      recordclass       ||                                             0.20                                             |\n",
      "|          lxml          ||                                            4.9.3                                             |\n",
      "|        cpuinfo         ||                                            9.0.0                                             |\n",
      "|    memory_profiler     ||                                            0.61.0                                            |\n",
      "[========================================================================================================================]\n"
     ]
    }
   ],
   "source": [
    "import platform\n",
    "import cpuinfo\n",
    "import sys\n",
    "\n",
    "import polars as pl\n",
    "import pyarrow as pa\n",
    "import pandas as pd\n",
    "import numba as nb\n",
    "\n",
    "import xlsx2csv\n",
    "import openpyxl\n",
    "import pyxlsb\n",
    "\n",
    "import ordered_set\n",
    "import recordclass\n",
    "import tqdm as _tqdm\n",
    "import lxml\n",
    "\n",
    "import memory_profiler\n",
    "\n",
    "from rxls import xl_scan\n",
    "from tqdm import tqdm\n",
    "\n",
    "cpu: dict = cpuinfo.get_cpu_info()\n",
    "\n",
    "print(\n",
    "    f'[{\"=\":=^120}]',\n",
    "    f'|{\" benchmark environment used \":^120}|',\n",
    "    f'[{\" product \":=^24}][{\" version \":=^94}]',\n",
    "    *[\n",
    "        f'|{f\" {name} \":^24}||{f\" {version} \":^94}|' for name, version in {\n",
    "            'Platform': platform.platform(),\n",
    "            'CPU': platform.processor(),\n",
    "            'CPU HZ': f'{cpu[\"hz_advertised_friendly\"]} (actual: {cpu[\"hz_actual_friendly\"]})',\n",
    "            'Python': sys.version,\n",
    "            'PyArrow': pa.__version__,\n",
    "            'Polars': pl.__version__,\n",
    "            'Pandas': pd.__version__,\n",
    "            'Numba': nb.__version__,\n",
    "            'XLSX2CSV': xlsx2csv.__version__,\n",
    "            'OpenPyXL': openpyxl.__version__,\n",
    "            'PyXLSB': pyxlsb.__version__,\n",
    "            'tqdm': _tqdm.__version__,\n",
    "            'ordered-set': ordered_set.__version__,\n",
    "            'recordclass': recordclass.__version__,\n",
    "            'lxml': lxml.__version__,\n",
    "            'cpuinfo': '.'.join(map(str, cpuinfo.CPUINFO_VERSION)),\n",
    "            'memory_profiler': memory_profiler.__version__\n",
    "        }.items()\n",
    "    ],\n",
    "    f'[{\"=\":=^120}]',\n",
    "    sep='\\n'\n",
    ")"
   ]
  },
  {
   "attachments": {},
   "cell_type": "markdown",
   "metadata": {},
   "source": [
    "## DataSource:\n",
    "\n",
    "https://www.learningcontainer.com/download/sample-sales-data-excel-xls/\n",
    "\n",
    "**I've download this, and save with MS Excel to .xlsx and .xlsb formats with same name**"
   ]
  },
  {
   "cell_type": "code",
   "execution_count": 2,
   "metadata": {
    "notebookRunGroups": {
     "groupValue": "1"
    }
   },
   "outputs": [],
   "source": [
    "XLSX_FILE = 'Sample-sales-data-excel.xlsx'\n",
    "XLSB_FILE = 'Sample-sales-data-excel.xlsb'"
   ]
  },
  {
   "attachments": {},
   "cell_type": "markdown",
   "metadata": {},
   "source": [
    "### RXLS. Scan both xlsx and xlsb (*plain = as in pyxlsb (`inferring='no'`)*)"
   ]
  },
  {
   "cell_type": "code",
   "execution_count": 3,
   "metadata": {
    "notebookRunGroups": {
     "groupValue": "1"
    }
   },
   "outputs": [],
   "source": [
    "def scan_rxls_xlsx_plain(path: str = XLSX_FILE, tq: bool = False) -> pl.DataFrame:\n",
    "    return xl_scan(path, head=True, with_tqdm=tq, inferring='no')\n",
    "\n",
    "def scan_rxls_xlsb_plain(path: str = XLSB_FILE, tq: bool = False) -> pl.DataFrame:\n",
    "    return xl_scan(path, head=True, with_tqdm=tq, inferring='no')\n",
    "\n",
    "def scan_rxls_xlsx(path: str = XLSX_FILE, tq: bool = False) -> pl.DataFrame:\n",
    "    return xl_scan(path, head=True, with_tqdm=tq)\n",
    "\n",
    "def scan_rxls_xlsb(path: str = XLSB_FILE, tq: bool = False) -> pl.DataFrame:\n",
    "    return xl_scan(path, head=True, with_tqdm=tq)"
   ]
  },
  {
   "cell_type": "code",
   "execution_count": 7,
   "metadata": {
    "notebookRunGroups": {
     "groupValue": ""
    }
   },
   "outputs": [
    {
     "data": {
      "text/html": [
       "<div><style>\n",
       ".dataframe > thead > tr > th,\n",
       ".dataframe > tbody > tr > td {\n",
       "  text-align: right;\n",
       "  white-space: pre-wrap;\n",
       "}\n",
       "</style>\n",
       "<small>shape: (5, 21)</small><table border=\"1\" class=\"dataframe\"><thead><tr><th>Row ID</th><th>Order ID</th><th>Order Date</th><th>Ship Date</th><th>Ship Mode</th><th>Customer ID</th><th>Customer Name</th><th>Segment</th><th>Country</th><th>City</th><th>State</th><th>Postal Code</th><th>Region</th><th>Product ID</th><th>Category</th><th>Sub-Category</th><th>Product Name</th><th>Sales</th><th>Quantity</th><th>Discount</th><th>Profit</th></tr><tr><td>str</td><td>str</td><td>str</td><td>str</td><td>str</td><td>str</td><td>str</td><td>str</td><td>str</td><td>str</td><td>str</td><td>str</td><td>str</td><td>str</td><td>str</td><td>str</td><td>str</td><td>str</td><td>str</td><td>str</td><td>str</td></tr></thead><tbody><tr><td>&quot;1&quot;</td><td>&quot;CA-2016-152156…</td><td>&quot;42682&quot;</td><td>&quot;42685&quot;</td><td>&quot;Second Class&quot;</td><td>&quot;CG-12520&quot;</td><td>&quot;Claire Gute&quot;</td><td>&quot;Consumer&quot;</td><td>&quot;United States&quot;</td><td>&quot;Henderson&quot;</td><td>&quot;Kentucky&quot;</td><td>&quot;42420&quot;</td><td>&quot;South&quot;</td><td>&quot;FUR-BO-1000179…</td><td>&quot;Furniture&quot;</td><td>&quot;Bookcases&quot;</td><td>&quot;Bush Somerset …</td><td>&quot;261.9599999999…</td><td>&quot;2&quot;</td><td>&quot;0&quot;</td><td>&quot;41.91360000000…</td></tr><tr><td>&quot;2&quot;</td><td>&quot;CA-2016-152156…</td><td>&quot;42682&quot;</td><td>&quot;42685&quot;</td><td>&quot;Second Class&quot;</td><td>&quot;CG-12520&quot;</td><td>&quot;Claire Gute&quot;</td><td>&quot;Consumer&quot;</td><td>&quot;United States&quot;</td><td>&quot;Henderson&quot;</td><td>&quot;Kentucky&quot;</td><td>&quot;42420&quot;</td><td>&quot;South&quot;</td><td>&quot;FUR-CH-1000045…</td><td>&quot;Furniture&quot;</td><td>&quot;Chairs&quot;</td><td>&quot;Hon Deluxe Fab…</td><td>&quot;731.9399999999…</td><td>&quot;3&quot;</td><td>&quot;0&quot;</td><td>&quot;219.5819999999…</td></tr><tr><td>&quot;3&quot;</td><td>&quot;CA-2016-138688…</td><td>&quot;42533&quot;</td><td>&quot;42537&quot;</td><td>&quot;Second Class&quot;</td><td>&quot;DV-13045&quot;</td><td>&quot;Darrin Van Huf…</td><td>&quot;Corporate&quot;</td><td>&quot;United States&quot;</td><td>&quot;Los Angeles&quot;</td><td>&quot;California&quot;</td><td>&quot;90036&quot;</td><td>&quot;West&quot;</td><td>&quot;OFF-LA-1000024…</td><td>&quot;Office Supplie…</td><td>&quot;Labels&quot;</td><td>&quot;Self-Adhesive …</td><td>&quot;14.62&quot;</td><td>&quot;2&quot;</td><td>&quot;0&quot;</td><td>&quot;6.871399999999…</td></tr><tr><td>&quot;4&quot;</td><td>&quot;US-2015-108966…</td><td>&quot;42288&quot;</td><td>&quot;42295&quot;</td><td>&quot;Standard Class…</td><td>&quot;SO-20335&quot;</td><td>&quot;Sean O&#x27;Donnell…</td><td>&quot;Consumer&quot;</td><td>&quot;United States&quot;</td><td>&quot;Fort Lauderdal…</td><td>&quot;Florida&quot;</td><td>&quot;33311&quot;</td><td>&quot;South&quot;</td><td>&quot;FUR-TA-1000057…</td><td>&quot;Furniture&quot;</td><td>&quot;Tables&quot;</td><td>&quot;Bretford CR450…</td><td>&quot;957.5774999999…</td><td>&quot;5&quot;</td><td>&quot;0.45&quot;</td><td>&quot;-383.031000000…</td></tr><tr><td>&quot;5&quot;</td><td>&quot;US-2015-108966…</td><td>&quot;42288&quot;</td><td>&quot;42295&quot;</td><td>&quot;Standard Class…</td><td>&quot;SO-20335&quot;</td><td>&quot;Sean O&#x27;Donnell…</td><td>&quot;Consumer&quot;</td><td>&quot;United States&quot;</td><td>&quot;Fort Lauderdal…</td><td>&quot;Florida&quot;</td><td>&quot;33311&quot;</td><td>&quot;South&quot;</td><td>&quot;OFF-ST-1000076…</td><td>&quot;Office Supplie…</td><td>&quot;Storage&quot;</td><td>&quot;Eldon Fold &#x27;N …</td><td>&quot;22.36800000000…</td><td>&quot;2&quot;</td><td>&quot;0.2&quot;</td><td>&quot;2.516399999999…</td></tr></tbody></table></div>"
      ],
      "text/plain": [
       "shape: (5, 21)\n",
       "┌────────┬────────────┬────────────┬───────────┬───┬────────────┬──────────┬──────────┬────────────┐\n",
       "│ Row ID ┆ Order ID   ┆ Order Date ┆ Ship Date ┆ … ┆ Sales      ┆ Quantity ┆ Discount ┆ Profit     │\n",
       "│ ---    ┆ ---        ┆ ---        ┆ ---       ┆   ┆ ---        ┆ ---      ┆ ---      ┆ ---        │\n",
       "│ str    ┆ str        ┆ str        ┆ str       ┆   ┆ str        ┆ str      ┆ str      ┆ str        │\n",
       "╞════════╪════════════╪════════════╪═══════════╪═══╪════════════╪══════════╪══════════╪════════════╡\n",
       "│ 1      ┆ CA-2016-15 ┆ 42682      ┆ 42685     ┆ … ┆ 261.959999 ┆ 2        ┆ 0        ┆ 41.9136000 │\n",
       "│        ┆ 2156       ┆            ┆           ┆   ┆ 99999998   ┆          ┆          ┆ 00000002   │\n",
       "│ 2      ┆ CA-2016-15 ┆ 42682      ┆ 42685     ┆ … ┆ 731.939999 ┆ 3        ┆ 0        ┆ 219.581999 │\n",
       "│        ┆ 2156       ┆            ┆           ┆   ┆ 99999994   ┆          ┆          ┆ 99999997   │\n",
       "│ 3      ┆ CA-2016-13 ┆ 42533      ┆ 42537     ┆ … ┆ 14.62      ┆ 2        ┆ 0        ┆ 6.87139999 │\n",
       "│        ┆ 8688       ┆            ┆           ┆   ┆            ┆          ┆          ┆ 99999995   │\n",
       "│ 4      ┆ US-2015-10 ┆ 42288      ┆ 42295     ┆ … ┆ 957.577499 ┆ 5        ┆ 0.45     ┆ -383.03100 │\n",
       "│        ┆ 8966       ┆            ┆           ┆   ┆ 99999999   ┆          ┆          ┆ 000000006  │\n",
       "│ 5      ┆ US-2015-10 ┆ 42288      ┆ 42295     ┆ … ┆ 22.3680000 ┆ 2        ┆ 0.2      ┆ 2.51639999 │\n",
       "│        ┆ 8966       ┆            ┆           ┆   ┆ 00000002   ┆          ┆          ┆ 99999991   │\n",
       "└────────┴────────────┴────────────┴───────────┴───┴────────────┴──────────┴──────────┴────────────┘"
      ]
     },
     "execution_count": 7,
     "metadata": {},
     "output_type": "execute_result"
    }
   ],
   "source": [
    "scan_rxls_xlsx_plain().head()"
   ]
  },
  {
   "cell_type": "code",
   "execution_count": 8,
   "metadata": {
    "notebookRunGroups": {
     "groupValue": ""
    }
   },
   "outputs": [
    {
     "data": {
      "text/html": [
       "<div><style>\n",
       ".dataframe > thead > tr > th,\n",
       ".dataframe > tbody > tr > td {\n",
       "  text-align: right;\n",
       "  white-space: pre-wrap;\n",
       "}\n",
       "</style>\n",
       "<small>shape: (5, 21)</small><table border=\"1\" class=\"dataframe\"><thead><tr><th>Row ID</th><th>Order ID</th><th>Order Date</th><th>Ship Date</th><th>Ship Mode</th><th>Customer ID</th><th>Customer Name</th><th>Segment</th><th>Country</th><th>City</th><th>State</th><th>Postal Code</th><th>Region</th><th>Product ID</th><th>Category</th><th>Sub-Category</th><th>Product Name</th><th>Sales</th><th>Quantity</th><th>Discount</th><th>Profit</th></tr><tr><td>str</td><td>str</td><td>str</td><td>str</td><td>str</td><td>str</td><td>str</td><td>str</td><td>str</td><td>str</td><td>str</td><td>str</td><td>str</td><td>str</td><td>str</td><td>str</td><td>str</td><td>str</td><td>str</td><td>str</td><td>str</td></tr></thead><tbody><tr><td>&quot;1.0&quot;</td><td>&quot;CA-2016-152156…</td><td>&quot;42682&quot;</td><td>&quot;42685&quot;</td><td>&quot;Second Class&quot;</td><td>&quot;CG-12520&quot;</td><td>&quot;Claire Gute&quot;</td><td>&quot;Consumer&quot;</td><td>&quot;United States&quot;</td><td>&quot;Henderson&quot;</td><td>&quot;Kentucky&quot;</td><td>&quot;42420.0&quot;</td><td>&quot;South&quot;</td><td>&quot;FUR-BO-1000179…</td><td>&quot;Furniture&quot;</td><td>&quot;Bookcases&quot;</td><td>&quot;Bush Somerset …</td><td>&quot;261.96&quot;</td><td>&quot;2.0&quot;</td><td>&quot;0.0&quot;</td><td>&quot;41.9136&quot;</td></tr><tr><td>&quot;2.0&quot;</td><td>&quot;CA-2016-152156…</td><td>&quot;42682&quot;</td><td>&quot;42685&quot;</td><td>&quot;Second Class&quot;</td><td>&quot;CG-12520&quot;</td><td>&quot;Claire Gute&quot;</td><td>&quot;Consumer&quot;</td><td>&quot;United States&quot;</td><td>&quot;Henderson&quot;</td><td>&quot;Kentucky&quot;</td><td>&quot;42420.0&quot;</td><td>&quot;South&quot;</td><td>&quot;FUR-CH-1000045…</td><td>&quot;Furniture&quot;</td><td>&quot;Chairs&quot;</td><td>&quot;Hon Deluxe Fab…</td><td>&quot;731.94&quot;</td><td>&quot;3.0&quot;</td><td>&quot;0.0&quot;</td><td>&quot;219.582&quot;</td></tr><tr><td>&quot;3.0&quot;</td><td>&quot;CA-2016-138688…</td><td>&quot;42533&quot;</td><td>&quot;42537&quot;</td><td>&quot;Second Class&quot;</td><td>&quot;DV-13045&quot;</td><td>&quot;Darrin Van Huf…</td><td>&quot;Corporate&quot;</td><td>&quot;United States&quot;</td><td>&quot;Los Angeles&quot;</td><td>&quot;California&quot;</td><td>&quot;90036.0&quot;</td><td>&quot;West&quot;</td><td>&quot;OFF-LA-1000024…</td><td>&quot;Office Supplie…</td><td>&quot;Labels&quot;</td><td>&quot;Self-Adhesive …</td><td>&quot;14.62&quot;</td><td>&quot;2.0&quot;</td><td>&quot;0.0&quot;</td><td>&quot;6.8714&quot;</td></tr><tr><td>&quot;4.0&quot;</td><td>&quot;US-2015-108966…</td><td>&quot;42288&quot;</td><td>&quot;42295&quot;</td><td>&quot;Standard Class…</td><td>&quot;SO-20335&quot;</td><td>&quot;Sean O&#x27;Donnell…</td><td>&quot;Consumer&quot;</td><td>&quot;United States&quot;</td><td>&quot;Fort Lauderdal…</td><td>&quot;Florida&quot;</td><td>&quot;33311.0&quot;</td><td>&quot;South&quot;</td><td>&quot;FUR-TA-1000057…</td><td>&quot;Furniture&quot;</td><td>&quot;Tables&quot;</td><td>&quot;Bretford CR450…</td><td>&quot;957.5775&quot;</td><td>&quot;5.0&quot;</td><td>&quot;0.45&quot;</td><td>&quot;-383.031&quot;</td></tr><tr><td>&quot;5.0&quot;</td><td>&quot;US-2015-108966…</td><td>&quot;42288&quot;</td><td>&quot;42295&quot;</td><td>&quot;Standard Class…</td><td>&quot;SO-20335&quot;</td><td>&quot;Sean O&#x27;Donnell…</td><td>&quot;Consumer&quot;</td><td>&quot;United States&quot;</td><td>&quot;Fort Lauderdal…</td><td>&quot;Florida&quot;</td><td>&quot;33311.0&quot;</td><td>&quot;South&quot;</td><td>&quot;OFF-ST-1000076…</td><td>&quot;Office Supplie…</td><td>&quot;Storage&quot;</td><td>&quot;Eldon Fold &#x27;N …</td><td>&quot;22.368&quot;</td><td>&quot;2.0&quot;</td><td>&quot;0.2&quot;</td><td>&quot;2.5164&quot;</td></tr></tbody></table></div>"
      ],
      "text/plain": [
       "shape: (5, 21)\n",
       "┌────────┬────────────────┬────────────┬───────────┬───┬──────────┬──────────┬──────────┬──────────┐\n",
       "│ Row ID ┆ Order ID       ┆ Order Date ┆ Ship Date ┆ … ┆ Sales    ┆ Quantity ┆ Discount ┆ Profit   │\n",
       "│ ---    ┆ ---            ┆ ---        ┆ ---       ┆   ┆ ---      ┆ ---      ┆ ---      ┆ ---      │\n",
       "│ str    ┆ str            ┆ str        ┆ str       ┆   ┆ str      ┆ str      ┆ str      ┆ str      │\n",
       "╞════════╪════════════════╪════════════╪═══════════╪═══╪══════════╪══════════╪══════════╪══════════╡\n",
       "│ 1.0    ┆ CA-2016-152156 ┆ 42682      ┆ 42685     ┆ … ┆ 261.96   ┆ 2.0      ┆ 0.0      ┆ 41.9136  │\n",
       "│ 2.0    ┆ CA-2016-152156 ┆ 42682      ┆ 42685     ┆ … ┆ 731.94   ┆ 3.0      ┆ 0.0      ┆ 219.582  │\n",
       "│ 3.0    ┆ CA-2016-138688 ┆ 42533      ┆ 42537     ┆ … ┆ 14.62    ┆ 2.0      ┆ 0.0      ┆ 6.8714   │\n",
       "│ 4.0    ┆ US-2015-108966 ┆ 42288      ┆ 42295     ┆ … ┆ 957.5775 ┆ 5.0      ┆ 0.45     ┆ -383.031 │\n",
       "│ 5.0    ┆ US-2015-108966 ┆ 42288      ┆ 42295     ┆ … ┆ 22.368   ┆ 2.0      ┆ 0.2      ┆ 2.5164   │\n",
       "└────────┴────────────────┴────────────┴───────────┴───┴──────────┴──────────┴──────────┴──────────┘"
      ]
     },
     "execution_count": 8,
     "metadata": {},
     "output_type": "execute_result"
    }
   ],
   "source": [
    "scan_rxls_xlsb_plain().head()"
   ]
  },
  {
   "cell_type": "code",
   "execution_count": 9,
   "metadata": {
    "notebookRunGroups": {
     "groupValue": ""
    }
   },
   "outputs": [
    {
     "data": {
      "text/html": [
       "<div><style>\n",
       ".dataframe > thead > tr > th,\n",
       ".dataframe > tbody > tr > td {\n",
       "  text-align: right;\n",
       "  white-space: pre-wrap;\n",
       "}\n",
       "</style>\n",
       "<small>shape: (5, 21)</small><table border=\"1\" class=\"dataframe\"><thead><tr><th>Row ID</th><th>Order ID</th><th>Order Date</th><th>Ship Date</th><th>Ship Mode</th><th>Customer ID</th><th>Customer Name</th><th>Segment</th><th>Country</th><th>City</th><th>State</th><th>Postal Code</th><th>Region</th><th>Product ID</th><th>Category</th><th>Sub-Category</th><th>Product Name</th><th>Sales</th><th>Quantity</th><th>Discount</th><th>Profit</th></tr><tr><td>str</td><td>str</td><td>date</td><td>date</td><td>str</td><td>str</td><td>str</td><td>str</td><td>str</td><td>str</td><td>str</td><td>str</td><td>str</td><td>str</td><td>str</td><td>str</td><td>str</td><td>str</td><td>str</td><td>str</td><td>str</td></tr></thead><tbody><tr><td>&quot;1&quot;</td><td>&quot;CA-2016-152156…</td><td>2016-11-08</td><td>2016-11-11</td><td>&quot;Second Class&quot;</td><td>&quot;CG-12520&quot;</td><td>&quot;Claire Gute&quot;</td><td>&quot;Consumer&quot;</td><td>&quot;United States&quot;</td><td>&quot;Henderson&quot;</td><td>&quot;Kentucky&quot;</td><td>&quot;42420&quot;</td><td>&quot;South&quot;</td><td>&quot;FUR-BO-1000179…</td><td>&quot;Furniture&quot;</td><td>&quot;Bookcases&quot;</td><td>&quot;Bush Somerset …</td><td>&quot;261.9599999999…</td><td>&quot;2&quot;</td><td>&quot;0&quot;</td><td>&quot;41.91360000000…</td></tr><tr><td>&quot;2&quot;</td><td>&quot;CA-2016-152156…</td><td>2016-11-08</td><td>2016-11-11</td><td>&quot;Second Class&quot;</td><td>&quot;CG-12520&quot;</td><td>&quot;Claire Gute&quot;</td><td>&quot;Consumer&quot;</td><td>&quot;United States&quot;</td><td>&quot;Henderson&quot;</td><td>&quot;Kentucky&quot;</td><td>&quot;42420&quot;</td><td>&quot;South&quot;</td><td>&quot;FUR-CH-1000045…</td><td>&quot;Furniture&quot;</td><td>&quot;Chairs&quot;</td><td>&quot;Hon Deluxe Fab…</td><td>&quot;731.9399999999…</td><td>&quot;3&quot;</td><td>&quot;0&quot;</td><td>&quot;219.5819999999…</td></tr><tr><td>&quot;3&quot;</td><td>&quot;CA-2016-138688…</td><td>2016-06-12</td><td>2016-06-16</td><td>&quot;Second Class&quot;</td><td>&quot;DV-13045&quot;</td><td>&quot;Darrin Van Huf…</td><td>&quot;Corporate&quot;</td><td>&quot;United States&quot;</td><td>&quot;Los Angeles&quot;</td><td>&quot;California&quot;</td><td>&quot;90036&quot;</td><td>&quot;West&quot;</td><td>&quot;OFF-LA-1000024…</td><td>&quot;Office Supplie…</td><td>&quot;Labels&quot;</td><td>&quot;Self-Adhesive …</td><td>&quot;14.62&quot;</td><td>&quot;2&quot;</td><td>&quot;0&quot;</td><td>&quot;6.871399999999…</td></tr><tr><td>&quot;4&quot;</td><td>&quot;US-2015-108966…</td><td>2015-10-11</td><td>2015-10-18</td><td>&quot;Standard Class…</td><td>&quot;SO-20335&quot;</td><td>&quot;Sean O&#x27;Donnell…</td><td>&quot;Consumer&quot;</td><td>&quot;United States&quot;</td><td>&quot;Fort Lauderdal…</td><td>&quot;Florida&quot;</td><td>&quot;33311&quot;</td><td>&quot;South&quot;</td><td>&quot;FUR-TA-1000057…</td><td>&quot;Furniture&quot;</td><td>&quot;Tables&quot;</td><td>&quot;Bretford CR450…</td><td>&quot;957.5774999999…</td><td>&quot;5&quot;</td><td>&quot;0.45&quot;</td><td>&quot;-383.031000000…</td></tr><tr><td>&quot;5&quot;</td><td>&quot;US-2015-108966…</td><td>2015-10-11</td><td>2015-10-18</td><td>&quot;Standard Class…</td><td>&quot;SO-20335&quot;</td><td>&quot;Sean O&#x27;Donnell…</td><td>&quot;Consumer&quot;</td><td>&quot;United States&quot;</td><td>&quot;Fort Lauderdal…</td><td>&quot;Florida&quot;</td><td>&quot;33311&quot;</td><td>&quot;South&quot;</td><td>&quot;OFF-ST-1000076…</td><td>&quot;Office Supplie…</td><td>&quot;Storage&quot;</td><td>&quot;Eldon Fold &#x27;N …</td><td>&quot;22.36800000000…</td><td>&quot;2&quot;</td><td>&quot;0.2&quot;</td><td>&quot;2.516399999999…</td></tr></tbody></table></div>"
      ],
      "text/plain": [
       "shape: (5, 21)\n",
       "┌────────┬────────────┬────────────┬────────────┬───┬────────────┬──────────┬──────────┬───────────┐\n",
       "│ Row ID ┆ Order ID   ┆ Order Date ┆ Ship Date  ┆ … ┆ Sales      ┆ Quantity ┆ Discount ┆ Profit    │\n",
       "│ ---    ┆ ---        ┆ ---        ┆ ---        ┆   ┆ ---        ┆ ---      ┆ ---      ┆ ---       │\n",
       "│ str    ┆ str        ┆ date       ┆ date       ┆   ┆ str        ┆ str      ┆ str      ┆ str       │\n",
       "╞════════╪════════════╪════════════╪════════════╪═══╪════════════╪══════════╪══════════╪═══════════╡\n",
       "│ 1      ┆ CA-2016-15 ┆ 2016-11-08 ┆ 2016-11-11 ┆ … ┆ 261.959999 ┆ 2        ┆ 0        ┆ 41.913600 │\n",
       "│        ┆ 2156       ┆            ┆            ┆   ┆ 99999998   ┆          ┆          ┆ 000000002 │\n",
       "│ 2      ┆ CA-2016-15 ┆ 2016-11-08 ┆ 2016-11-11 ┆ … ┆ 731.939999 ┆ 3        ┆ 0        ┆ 219.58199 │\n",
       "│        ┆ 2156       ┆            ┆            ┆   ┆ 99999994   ┆          ┆          ┆ 999999997 │\n",
       "│ 3      ┆ CA-2016-13 ┆ 2016-06-12 ┆ 2016-06-16 ┆ … ┆ 14.62      ┆ 2        ┆ 0        ┆ 6.8713999 │\n",
       "│        ┆ 8688       ┆            ┆            ┆   ┆            ┆          ┆          ┆ 999999995 │\n",
       "│ 4      ┆ US-2015-10 ┆ 2015-10-11 ┆ 2015-10-18 ┆ … ┆ 957.577499 ┆ 5        ┆ 0.45     ┆ -383.0310 │\n",
       "│        ┆ 8966       ┆            ┆            ┆   ┆ 99999999   ┆          ┆          ┆ 000000000 │\n",
       "│        ┆            ┆            ┆            ┆   ┆            ┆          ┆          ┆ 6         │\n",
       "│ 5      ┆ US-2015-10 ┆ 2015-10-11 ┆ 2015-10-18 ┆ … ┆ 22.3680000 ┆ 2        ┆ 0.2      ┆ 2.5163999 │\n",
       "│        ┆ 8966       ┆            ┆            ┆   ┆ 00000002   ┆          ┆          ┆ 999999991 │\n",
       "└────────┴────────────┴────────────┴────────────┴───┴────────────┴──────────┴──────────┴───────────┘"
      ]
     },
     "execution_count": 9,
     "metadata": {},
     "output_type": "execute_result"
    }
   ],
   "source": [
    "# NOTE: There is a bug: floating-point columns scanned as utf-8, but it's not critical...\n",
    "scan_rxls_xlsx().head()"
   ]
  },
  {
   "cell_type": "code",
   "execution_count": 10,
   "metadata": {
    "notebookRunGroups": {
     "groupValue": ""
    }
   },
   "outputs": [
    {
     "data": {
      "text/html": [
       "<div><style>\n",
       ".dataframe > thead > tr > th,\n",
       ".dataframe > tbody > tr > td {\n",
       "  text-align: right;\n",
       "  white-space: pre-wrap;\n",
       "}\n",
       "</style>\n",
       "<small>shape: (5, 21)</small><table border=\"1\" class=\"dataframe\"><thead><tr><th>Row ID</th><th>Order ID</th><th>Order Date</th><th>Ship Date</th><th>Ship Mode</th><th>Customer ID</th><th>Customer Name</th><th>Segment</th><th>Country</th><th>City</th><th>State</th><th>Postal Code</th><th>Region</th><th>Product ID</th><th>Category</th><th>Sub-Category</th><th>Product Name</th><th>Sales</th><th>Quantity</th><th>Discount</th><th>Profit</th></tr><tr><td>i64</td><td>str</td><td>date</td><td>date</td><td>str</td><td>str</td><td>str</td><td>str</td><td>str</td><td>str</td><td>str</td><td>i64</td><td>str</td><td>str</td><td>str</td><td>str</td><td>str</td><td>f64</td><td>i64</td><td>f64</td><td>f64</td></tr></thead><tbody><tr><td>1</td><td>&quot;CA-2016-152156…</td><td>2016-11-08</td><td>2016-11-11</td><td>&quot;Second Class&quot;</td><td>&quot;CG-12520&quot;</td><td>&quot;Claire Gute&quot;</td><td>&quot;Consumer&quot;</td><td>&quot;United States&quot;</td><td>&quot;Henderson&quot;</td><td>&quot;Kentucky&quot;</td><td>42420</td><td>&quot;South&quot;</td><td>&quot;FUR-BO-1000179…</td><td>&quot;Furniture&quot;</td><td>&quot;Bookcases&quot;</td><td>&quot;Bush Somerset …</td><td>261.96</td><td>2</td><td>0.0</td><td>41.9136</td></tr><tr><td>2</td><td>&quot;CA-2016-152156…</td><td>2016-11-08</td><td>2016-11-11</td><td>&quot;Second Class&quot;</td><td>&quot;CG-12520&quot;</td><td>&quot;Claire Gute&quot;</td><td>&quot;Consumer&quot;</td><td>&quot;United States&quot;</td><td>&quot;Henderson&quot;</td><td>&quot;Kentucky&quot;</td><td>42420</td><td>&quot;South&quot;</td><td>&quot;FUR-CH-1000045…</td><td>&quot;Furniture&quot;</td><td>&quot;Chairs&quot;</td><td>&quot;Hon Deluxe Fab…</td><td>731.94</td><td>3</td><td>0.0</td><td>219.582</td></tr><tr><td>3</td><td>&quot;CA-2016-138688…</td><td>2016-06-12</td><td>2016-06-16</td><td>&quot;Second Class&quot;</td><td>&quot;DV-13045&quot;</td><td>&quot;Darrin Van Huf…</td><td>&quot;Corporate&quot;</td><td>&quot;United States&quot;</td><td>&quot;Los Angeles&quot;</td><td>&quot;California&quot;</td><td>90036</td><td>&quot;West&quot;</td><td>&quot;OFF-LA-1000024…</td><td>&quot;Office Supplie…</td><td>&quot;Labels&quot;</td><td>&quot;Self-Adhesive …</td><td>14.62</td><td>2</td><td>0.0</td><td>6.8714</td></tr><tr><td>4</td><td>&quot;US-2015-108966…</td><td>2015-10-11</td><td>2015-10-18</td><td>&quot;Standard Class…</td><td>&quot;SO-20335&quot;</td><td>&quot;Sean O&#x27;Donnell…</td><td>&quot;Consumer&quot;</td><td>&quot;United States&quot;</td><td>&quot;Fort Lauderdal…</td><td>&quot;Florida&quot;</td><td>33311</td><td>&quot;South&quot;</td><td>&quot;FUR-TA-1000057…</td><td>&quot;Furniture&quot;</td><td>&quot;Tables&quot;</td><td>&quot;Bretford CR450…</td><td>957.5775</td><td>5</td><td>0.45</td><td>-383.031</td></tr><tr><td>5</td><td>&quot;US-2015-108966…</td><td>2015-10-11</td><td>2015-10-18</td><td>&quot;Standard Class…</td><td>&quot;SO-20335&quot;</td><td>&quot;Sean O&#x27;Donnell…</td><td>&quot;Consumer&quot;</td><td>&quot;United States&quot;</td><td>&quot;Fort Lauderdal…</td><td>&quot;Florida&quot;</td><td>33311</td><td>&quot;South&quot;</td><td>&quot;OFF-ST-1000076…</td><td>&quot;Office Supplie…</td><td>&quot;Storage&quot;</td><td>&quot;Eldon Fold &#x27;N …</td><td>22.368</td><td>2</td><td>0.2</td><td>2.5164</td></tr></tbody></table></div>"
      ],
      "text/plain": [
       "shape: (5, 21)\n",
       "┌────────┬───────────────┬────────────┬────────────┬───┬──────────┬──────────┬──────────┬──────────┐\n",
       "│ Row ID ┆ Order ID      ┆ Order Date ┆ Ship Date  ┆ … ┆ Sales    ┆ Quantity ┆ Discount ┆ Profit   │\n",
       "│ ---    ┆ ---           ┆ ---        ┆ ---        ┆   ┆ ---      ┆ ---      ┆ ---      ┆ ---      │\n",
       "│ i64    ┆ str           ┆ date       ┆ date       ┆   ┆ f64      ┆ i64      ┆ f64      ┆ f64      │\n",
       "╞════════╪═══════════════╪════════════╪════════════╪═══╪══════════╪══════════╪══════════╪══════════╡\n",
       "│ 1      ┆ CA-2016-15215 ┆ 2016-11-08 ┆ 2016-11-11 ┆ … ┆ 261.96   ┆ 2        ┆ 0.0      ┆ 41.9136  │\n",
       "│        ┆ 6             ┆            ┆            ┆   ┆          ┆          ┆          ┆          │\n",
       "│ 2      ┆ CA-2016-15215 ┆ 2016-11-08 ┆ 2016-11-11 ┆ … ┆ 731.94   ┆ 3        ┆ 0.0      ┆ 219.582  │\n",
       "│        ┆ 6             ┆            ┆            ┆   ┆          ┆          ┆          ┆          │\n",
       "│ 3      ┆ CA-2016-13868 ┆ 2016-06-12 ┆ 2016-06-16 ┆ … ┆ 14.62    ┆ 2        ┆ 0.0      ┆ 6.8714   │\n",
       "│        ┆ 8             ┆            ┆            ┆   ┆          ┆          ┆          ┆          │\n",
       "│ 4      ┆ US-2015-10896 ┆ 2015-10-11 ┆ 2015-10-18 ┆ … ┆ 957.5775 ┆ 5        ┆ 0.45     ┆ -383.031 │\n",
       "│        ┆ 6             ┆            ┆            ┆   ┆          ┆          ┆          ┆          │\n",
       "│ 5      ┆ US-2015-10896 ┆ 2015-10-11 ┆ 2015-10-18 ┆ … ┆ 22.368   ┆ 2        ┆ 0.2      ┆ 2.5164   │\n",
       "│        ┆ 6             ┆            ┆            ┆   ┆          ┆          ┆          ┆          │\n",
       "└────────┴───────────────┴────────────┴────────────┴───┴──────────┴──────────┴──────────┴──────────┘"
      ]
     },
     "execution_count": 10,
     "metadata": {},
     "output_type": "execute_result"
    }
   ],
   "source": [
    "# NOTE: All columns have correct datatypes\n",
    "scan_rxls_xlsb().head()"
   ]
  },
  {
   "attachments": {},
   "cell_type": "markdown",
   "metadata": {},
   "source": [
    "### XLSX2CSV case: xlsx -> csv -> polars.read_csv()"
   ]
  },
  {
   "cell_type": "code",
   "execution_count": 4,
   "metadata": {
    "notebookRunGroups": {
     "groupValue": "1"
    }
   },
   "outputs": [],
   "source": [
    "def scan_xlsx2csv(path: str = XLSX_FILE) -> pl.DataFrame:\n",
    "    return pl.read_excel(path, engine='xlsx2csv')"
   ]
  },
  {
   "cell_type": "code",
   "execution_count": 11,
   "metadata": {
    "notebookRunGroups": {
     "groupValue": ""
    }
   },
   "outputs": [
    {
     "data": {
      "text/html": [
       "<div><style>\n",
       ".dataframe > thead > tr > th,\n",
       ".dataframe > tbody > tr > td {\n",
       "  text-align: right;\n",
       "  white-space: pre-wrap;\n",
       "}\n",
       "</style>\n",
       "<small>shape: (5, 21)</small><table border=\"1\" class=\"dataframe\"><thead><tr><th>Row ID</th><th>Order ID</th><th>Order Date</th><th>Ship Date</th><th>Ship Mode</th><th>Customer ID</th><th>Customer Name</th><th>Segment</th><th>Country</th><th>City</th><th>State</th><th>Postal Code</th><th>Region</th><th>Product ID</th><th>Category</th><th>Sub-Category</th><th>Product Name</th><th>Sales</th><th>Quantity</th><th>Discount</th><th>Profit</th></tr><tr><td>i64</td><td>str</td><td>str</td><td>str</td><td>str</td><td>str</td><td>str</td><td>str</td><td>str</td><td>str</td><td>str</td><td>i64</td><td>str</td><td>str</td><td>str</td><td>str</td><td>str</td><td>f64</td><td>i64</td><td>f64</td><td>f64</td></tr></thead><tbody><tr><td>1</td><td>&quot;CA-2016-152156…</td><td>&quot;11-08-16&quot;</td><td>&quot;11-11-16&quot;</td><td>&quot;Second Class&quot;</td><td>&quot;CG-12520&quot;</td><td>&quot;Claire Gute&quot;</td><td>&quot;Consumer&quot;</td><td>&quot;United States&quot;</td><td>&quot;Henderson&quot;</td><td>&quot;Kentucky&quot;</td><td>42420</td><td>&quot;South&quot;</td><td>&quot;FUR-BO-1000179…</td><td>&quot;Furniture&quot;</td><td>&quot;Bookcases&quot;</td><td>&quot;Bush Somerset …</td><td>261.96</td><td>2</td><td>0.0</td><td>41.9136</td></tr><tr><td>2</td><td>&quot;CA-2016-152156…</td><td>&quot;11-08-16&quot;</td><td>&quot;11-11-16&quot;</td><td>&quot;Second Class&quot;</td><td>&quot;CG-12520&quot;</td><td>&quot;Claire Gute&quot;</td><td>&quot;Consumer&quot;</td><td>&quot;United States&quot;</td><td>&quot;Henderson&quot;</td><td>&quot;Kentucky&quot;</td><td>42420</td><td>&quot;South&quot;</td><td>&quot;FUR-CH-1000045…</td><td>&quot;Furniture&quot;</td><td>&quot;Chairs&quot;</td><td>&quot;Hon Deluxe Fab…</td><td>731.94</td><td>3</td><td>0.0</td><td>219.582</td></tr><tr><td>3</td><td>&quot;CA-2016-138688…</td><td>&quot;06-12-16&quot;</td><td>&quot;06-16-16&quot;</td><td>&quot;Second Class&quot;</td><td>&quot;DV-13045&quot;</td><td>&quot;Darrin Van Huf…</td><td>&quot;Corporate&quot;</td><td>&quot;United States&quot;</td><td>&quot;Los Angeles&quot;</td><td>&quot;California&quot;</td><td>90036</td><td>&quot;West&quot;</td><td>&quot;OFF-LA-1000024…</td><td>&quot;Office Supplie…</td><td>&quot;Labels&quot;</td><td>&quot;Self-Adhesive …</td><td>14.62</td><td>2</td><td>0.0</td><td>6.8714</td></tr><tr><td>4</td><td>&quot;US-2015-108966…</td><td>&quot;10-11-15&quot;</td><td>&quot;10-18-15&quot;</td><td>&quot;Standard Class…</td><td>&quot;SO-20335&quot;</td><td>&quot;Sean O&#x27;Donnell…</td><td>&quot;Consumer&quot;</td><td>&quot;United States&quot;</td><td>&quot;Fort Lauderdal…</td><td>&quot;Florida&quot;</td><td>33311</td><td>&quot;South&quot;</td><td>&quot;FUR-TA-1000057…</td><td>&quot;Furniture&quot;</td><td>&quot;Tables&quot;</td><td>&quot;Bretford CR450…</td><td>957.5775</td><td>5</td><td>0.45</td><td>-383.031</td></tr><tr><td>5</td><td>&quot;US-2015-108966…</td><td>&quot;10-11-15&quot;</td><td>&quot;10-18-15&quot;</td><td>&quot;Standard Class…</td><td>&quot;SO-20335&quot;</td><td>&quot;Sean O&#x27;Donnell…</td><td>&quot;Consumer&quot;</td><td>&quot;United States&quot;</td><td>&quot;Fort Lauderdal…</td><td>&quot;Florida&quot;</td><td>33311</td><td>&quot;South&quot;</td><td>&quot;OFF-ST-1000076…</td><td>&quot;Office Supplie…</td><td>&quot;Storage&quot;</td><td>&quot;Eldon Fold &#x27;N …</td><td>22.368</td><td>2</td><td>0.2</td><td>2.5164</td></tr></tbody></table></div>"
      ],
      "text/plain": [
       "shape: (5, 21)\n",
       "┌────────┬────────────────┬────────────┬───────────┬───┬──────────┬──────────┬──────────┬──────────┐\n",
       "│ Row ID ┆ Order ID       ┆ Order Date ┆ Ship Date ┆ … ┆ Sales    ┆ Quantity ┆ Discount ┆ Profit   │\n",
       "│ ---    ┆ ---            ┆ ---        ┆ ---       ┆   ┆ ---      ┆ ---      ┆ ---      ┆ ---      │\n",
       "│ i64    ┆ str            ┆ str        ┆ str       ┆   ┆ f64      ┆ i64      ┆ f64      ┆ f64      │\n",
       "╞════════╪════════════════╪════════════╪═══════════╪═══╪══════════╪══════════╪══════════╪══════════╡\n",
       "│ 1      ┆ CA-2016-152156 ┆ 11-08-16   ┆ 11-11-16  ┆ … ┆ 261.96   ┆ 2        ┆ 0.0      ┆ 41.9136  │\n",
       "│ 2      ┆ CA-2016-152156 ┆ 11-08-16   ┆ 11-11-16  ┆ … ┆ 731.94   ┆ 3        ┆ 0.0      ┆ 219.582  │\n",
       "│ 3      ┆ CA-2016-138688 ┆ 06-12-16   ┆ 06-16-16  ┆ … ┆ 14.62    ┆ 2        ┆ 0.0      ┆ 6.8714   │\n",
       "│ 4      ┆ US-2015-108966 ┆ 10-11-15   ┆ 10-18-15  ┆ … ┆ 957.5775 ┆ 5        ┆ 0.45     ┆ -383.031 │\n",
       "│ 5      ┆ US-2015-108966 ┆ 10-11-15   ┆ 10-18-15  ┆ … ┆ 22.368   ┆ 2        ┆ 0.2      ┆ 2.5164   │\n",
       "└────────┴────────────────┴────────────┴───────────┴───┴──────────┴──────────┴──────────┴──────────┘"
      ]
     },
     "execution_count": 11,
     "metadata": {},
     "output_type": "execute_result"
    }
   ],
   "source": [
    "# NOTE: It's fine, but date columns have incorrect datatype, and are not ISO-dates.\n",
    "scan_xlsx2csv().head()"
   ]
  },
  {
   "attachments": {},
   "cell_type": "markdown",
   "metadata": {},
   "source": [
    "### OpenPyXL: Scan xlsx only"
   ]
  },
  {
   "cell_type": "code",
   "execution_count": 5,
   "metadata": {
    "notebookRunGroups": {
     "groupValue": "1"
    }
   },
   "outputs": [],
   "source": [
    "def scan_openpyxl(path: str = XLSX_FILE) -> pl.DataFrame:\n",
    "    return pl.read_excel(path, engine='openpyxl')"
   ]
  },
  {
   "cell_type": "code",
   "execution_count": 12,
   "metadata": {
    "notebookRunGroups": {
     "groupValue": ""
    }
   },
   "outputs": [
    {
     "data": {
      "text/html": [
       "<div><style>\n",
       ".dataframe > thead > tr > th,\n",
       ".dataframe > tbody > tr > td {\n",
       "  text-align: right;\n",
       "  white-space: pre-wrap;\n",
       "}\n",
       "</style>\n",
       "<small>shape: (5, 21)</small><table border=\"1\" class=\"dataframe\"><thead><tr><th>Row ID</th><th>Order ID</th><th>Order Date</th><th>Ship Date</th><th>Ship Mode</th><th>Customer ID</th><th>Customer Name</th><th>Segment</th><th>Country</th><th>City</th><th>State</th><th>Postal Code</th><th>Region</th><th>Product ID</th><th>Category</th><th>Sub-Category</th><th>Product Name</th><th>Sales</th><th>Quantity</th><th>Discount</th><th>Profit</th></tr><tr><td>i64</td><td>str</td><td>datetime[μs]</td><td>datetime[μs]</td><td>str</td><td>str</td><td>str</td><td>str</td><td>str</td><td>str</td><td>str</td><td>str</td><td>str</td><td>str</td><td>str</td><td>str</td><td>str</td><td>f64</td><td>i64</td><td>f64</td><td>f64</td></tr></thead><tbody><tr><td>1</td><td>&quot;CA-2016-152156…</td><td>2016-11-08 00:00:00</td><td>2016-11-11 00:00:00</td><td>&quot;Second Class&quot;</td><td>&quot;CG-12520&quot;</td><td>&quot;Claire Gute&quot;</td><td>&quot;Consumer&quot;</td><td>&quot;United States&quot;</td><td>&quot;Henderson&quot;</td><td>&quot;Kentucky&quot;</td><td>null</td><td>&quot;South&quot;</td><td>&quot;FUR-BO-1000179…</td><td>&quot;Furniture&quot;</td><td>&quot;Bookcases&quot;</td><td>&quot;Bush Somerset …</td><td>261.96</td><td>2</td><td>0.0</td><td>41.9136</td></tr><tr><td>2</td><td>&quot;CA-2016-152156…</td><td>2016-11-08 00:00:00</td><td>2016-11-11 00:00:00</td><td>&quot;Second Class&quot;</td><td>&quot;CG-12520&quot;</td><td>&quot;Claire Gute&quot;</td><td>&quot;Consumer&quot;</td><td>&quot;United States&quot;</td><td>&quot;Henderson&quot;</td><td>&quot;Kentucky&quot;</td><td>null</td><td>&quot;South&quot;</td><td>&quot;FUR-CH-1000045…</td><td>&quot;Furniture&quot;</td><td>&quot;Chairs&quot;</td><td>&quot;Hon Deluxe Fab…</td><td>731.94</td><td>3</td><td>0.0</td><td>219.582</td></tr><tr><td>3</td><td>&quot;CA-2016-138688…</td><td>2016-06-12 00:00:00</td><td>2016-06-16 00:00:00</td><td>&quot;Second Class&quot;</td><td>&quot;DV-13045&quot;</td><td>&quot;Darrin Van Huf…</td><td>&quot;Corporate&quot;</td><td>&quot;United States&quot;</td><td>&quot;Los Angeles&quot;</td><td>&quot;California&quot;</td><td>null</td><td>&quot;West&quot;</td><td>&quot;OFF-LA-1000024…</td><td>&quot;Office Supplie…</td><td>&quot;Labels&quot;</td><td>&quot;Self-Adhesive …</td><td>14.62</td><td>2</td><td>0.0</td><td>6.8714</td></tr><tr><td>4</td><td>&quot;US-2015-108966…</td><td>2015-10-11 00:00:00</td><td>2015-10-18 00:00:00</td><td>&quot;Standard Class…</td><td>&quot;SO-20335&quot;</td><td>&quot;Sean O&#x27;Donnell…</td><td>&quot;Consumer&quot;</td><td>&quot;United States&quot;</td><td>&quot;Fort Lauderdal…</td><td>&quot;Florida&quot;</td><td>null</td><td>&quot;South&quot;</td><td>&quot;FUR-TA-1000057…</td><td>&quot;Furniture&quot;</td><td>&quot;Tables&quot;</td><td>&quot;Bretford CR450…</td><td>957.5775</td><td>5</td><td>0.45</td><td>-383.031</td></tr><tr><td>5</td><td>&quot;US-2015-108966…</td><td>2015-10-11 00:00:00</td><td>2015-10-18 00:00:00</td><td>&quot;Standard Class…</td><td>&quot;SO-20335&quot;</td><td>&quot;Sean O&#x27;Donnell…</td><td>&quot;Consumer&quot;</td><td>&quot;United States&quot;</td><td>&quot;Fort Lauderdal…</td><td>&quot;Florida&quot;</td><td>null</td><td>&quot;South&quot;</td><td>&quot;OFF-ST-1000076…</td><td>&quot;Office Supplie…</td><td>&quot;Storage&quot;</td><td>&quot;Eldon Fold &#x27;N …</td><td>22.368</td><td>2</td><td>0.2</td><td>2.5164</td></tr></tbody></table></div>"
      ],
      "text/plain": [
       "shape: (5, 21)\n",
       "┌────────┬─────────────┬─────────────┬─────────────┬───┬──────────┬──────────┬──────────┬──────────┐\n",
       "│ Row ID ┆ Order ID    ┆ Order Date  ┆ Ship Date   ┆ … ┆ Sales    ┆ Quantity ┆ Discount ┆ Profit   │\n",
       "│ ---    ┆ ---         ┆ ---         ┆ ---         ┆   ┆ ---      ┆ ---      ┆ ---      ┆ ---      │\n",
       "│ i64    ┆ str         ┆ datetime[μs ┆ datetime[μs ┆   ┆ f64      ┆ i64      ┆ f64      ┆ f64      │\n",
       "│        ┆             ┆ ]           ┆ ]           ┆   ┆          ┆          ┆          ┆          │\n",
       "╞════════╪═════════════╪═════════════╪═════════════╪═══╪══════════╪══════════╪══════════╪══════════╡\n",
       "│ 1      ┆ CA-2016-152 ┆ 2016-11-08  ┆ 2016-11-11  ┆ … ┆ 261.96   ┆ 2        ┆ 0.0      ┆ 41.9136  │\n",
       "│        ┆ 156         ┆ 00:00:00    ┆ 00:00:00    ┆   ┆          ┆          ┆          ┆          │\n",
       "│ 2      ┆ CA-2016-152 ┆ 2016-11-08  ┆ 2016-11-11  ┆ … ┆ 731.94   ┆ 3        ┆ 0.0      ┆ 219.582  │\n",
       "│        ┆ 156         ┆ 00:00:00    ┆ 00:00:00    ┆   ┆          ┆          ┆          ┆          │\n",
       "│ 3      ┆ CA-2016-138 ┆ 2016-06-12  ┆ 2016-06-16  ┆ … ┆ 14.62    ┆ 2        ┆ 0.0      ┆ 6.8714   │\n",
       "│        ┆ 688         ┆ 00:00:00    ┆ 00:00:00    ┆   ┆          ┆          ┆          ┆          │\n",
       "│ 4      ┆ US-2015-108 ┆ 2015-10-11  ┆ 2015-10-18  ┆ … ┆ 957.5775 ┆ 5        ┆ 0.45     ┆ -383.031 │\n",
       "│        ┆ 966         ┆ 00:00:00    ┆ 00:00:00    ┆   ┆          ┆          ┆          ┆          │\n",
       "│ 5      ┆ US-2015-108 ┆ 2015-10-11  ┆ 2015-10-18  ┆ … ┆ 22.368   ┆ 2        ┆ 0.2      ┆ 2.5164   │\n",
       "│        ┆ 966         ┆ 00:00:00    ┆ 00:00:00    ┆   ┆          ┆          ┆          ┆          │\n",
       "└────────┴─────────────┴─────────────┴─────────────┴───┴──────────┴──────────┴──────────┴──────────┘"
      ]
     },
     "execution_count": 12,
     "metadata": {},
     "output_type": "execute_result"
    }
   ],
   "source": [
    "# NOTE: Postal Code column has missing data.\n",
    "scan_openpyxl().head()"
   ]
  },
  {
   "attachments": {},
   "cell_type": "markdown",
   "metadata": {},
   "source": [
    "### PyXLSB: Scan xlsb only"
   ]
  },
  {
   "cell_type": "code",
   "execution_count": 6,
   "metadata": {
    "notebookRunGroups": {
     "groupValue": "1"
    }
   },
   "outputs": [],
   "source": [
    "def scan_pyxlsb(path: str = XLSB_FILE, tq: bool = False) -> pl.DataFrame:\n",
    "    with pyxlsb.open_workbook(path) as wb:\n",
    "        sheet = wb.get_sheet(1)\n",
    "\n",
    "        row_it = sheet.rows(True)\n",
    "        \n",
    "        head = list(map(lambda cell: str(cell[1].v) if cell[1].v else f'Unnamed: {cell[0]}', enumerate(next(row_it))))\n",
    "        # NOTE: pyxlsb not recognized dates automatically - you can do this manually, but xl/styles.bin parsing required.\n",
    "        data_it = (\n",
    "            [str(cell.v) for cell in row] for row in row_it\n",
    "        )\n",
    "        if tq:\n",
    "            data_it = tqdm(data_it)\n",
    "        \n",
    "        return pl.DataFrame(list(data_it), head, orient='row')"
   ]
  },
  {
   "cell_type": "code",
   "execution_count": 48,
   "metadata": {
    "notebookRunGroups": {
     "groupValue": ""
    }
   },
   "outputs": [
    {
     "data": {
      "text/html": [
       "<div><style>\n",
       ".dataframe > thead > tr > th,\n",
       ".dataframe > tbody > tr > td {\n",
       "  text-align: right;\n",
       "  white-space: pre-wrap;\n",
       "}\n",
       "</style>\n",
       "<small>shape: (5, 21)</small><table border=\"1\" class=\"dataframe\"><thead><tr><th>Row ID</th><th>Order ID</th><th>Order Date</th><th>Ship Date</th><th>Ship Mode</th><th>Customer ID</th><th>Customer Name</th><th>Segment</th><th>Country</th><th>City</th><th>State</th><th>Postal Code</th><th>Region</th><th>Product ID</th><th>Category</th><th>Sub-Category</th><th>Product Name</th><th>Sales</th><th>Quantity</th><th>Discount</th><th>Profit</th></tr><tr><td>str</td><td>str</td><td>str</td><td>str</td><td>str</td><td>str</td><td>str</td><td>str</td><td>str</td><td>str</td><td>str</td><td>str</td><td>str</td><td>str</td><td>str</td><td>str</td><td>str</td><td>str</td><td>str</td><td>str</td><td>str</td></tr></thead><tbody><tr><td>&quot;1.0&quot;</td><td>&quot;CA-2016-152156…</td><td>&quot;42682.0&quot;</td><td>&quot;42685.0&quot;</td><td>&quot;Second Class&quot;</td><td>&quot;CG-12520&quot;</td><td>&quot;Claire Gute&quot;</td><td>&quot;Consumer&quot;</td><td>&quot;United States&quot;</td><td>&quot;Henderson&quot;</td><td>&quot;Kentucky&quot;</td><td>&quot;42420.0&quot;</td><td>&quot;South&quot;</td><td>&quot;FUR-BO-1000179…</td><td>&quot;Furniture&quot;</td><td>&quot;Bookcases&quot;</td><td>&quot;Bush Somerset …</td><td>&quot;261.96&quot;</td><td>&quot;2.0&quot;</td><td>&quot;0.0&quot;</td><td>&quot;41.9136&quot;</td></tr><tr><td>&quot;2.0&quot;</td><td>&quot;CA-2016-152156…</td><td>&quot;42682.0&quot;</td><td>&quot;42685.0&quot;</td><td>&quot;Second Class&quot;</td><td>&quot;CG-12520&quot;</td><td>&quot;Claire Gute&quot;</td><td>&quot;Consumer&quot;</td><td>&quot;United States&quot;</td><td>&quot;Henderson&quot;</td><td>&quot;Kentucky&quot;</td><td>&quot;42420.0&quot;</td><td>&quot;South&quot;</td><td>&quot;FUR-CH-1000045…</td><td>&quot;Furniture&quot;</td><td>&quot;Chairs&quot;</td><td>&quot;Hon Deluxe Fab…</td><td>&quot;731.9399999999…</td><td>&quot;3.0&quot;</td><td>&quot;0.0&quot;</td><td>&quot;219.5819999999…</td></tr><tr><td>&quot;3.0&quot;</td><td>&quot;CA-2016-138688…</td><td>&quot;42533.0&quot;</td><td>&quot;42537.0&quot;</td><td>&quot;Second Class&quot;</td><td>&quot;DV-13045&quot;</td><td>&quot;Darrin Van Huf…</td><td>&quot;Corporate&quot;</td><td>&quot;United States&quot;</td><td>&quot;Los Angeles&quot;</td><td>&quot;California&quot;</td><td>&quot;90036.0&quot;</td><td>&quot;West&quot;</td><td>&quot;OFF-LA-1000024…</td><td>&quot;Office Supplie…</td><td>&quot;Labels&quot;</td><td>&quot;Self-Adhesive …</td><td>&quot;14.62&quot;</td><td>&quot;2.0&quot;</td><td>&quot;0.0&quot;</td><td>&quot;6.871399999999…</td></tr><tr><td>&quot;4.0&quot;</td><td>&quot;US-2015-108966…</td><td>&quot;42288.0&quot;</td><td>&quot;42295.0&quot;</td><td>&quot;Standard Class…</td><td>&quot;SO-20335&quot;</td><td>&quot;Sean O&#x27;Donnell…</td><td>&quot;Consumer&quot;</td><td>&quot;United States&quot;</td><td>&quot;Fort Lauderdal…</td><td>&quot;Florida&quot;</td><td>&quot;33311.0&quot;</td><td>&quot;South&quot;</td><td>&quot;FUR-TA-1000057…</td><td>&quot;Furniture&quot;</td><td>&quot;Tables&quot;</td><td>&quot;Bretford CR450…</td><td>&quot;957.5775&quot;</td><td>&quot;5.0&quot;</td><td>&quot;0.45&quot;</td><td>&quot;-383.031000000…</td></tr><tr><td>&quot;5.0&quot;</td><td>&quot;US-2015-108966…</td><td>&quot;42288.0&quot;</td><td>&quot;42295.0&quot;</td><td>&quot;Standard Class…</td><td>&quot;SO-20335&quot;</td><td>&quot;Sean O&#x27;Donnell…</td><td>&quot;Consumer&quot;</td><td>&quot;United States&quot;</td><td>&quot;Fort Lauderdal…</td><td>&quot;Florida&quot;</td><td>&quot;33311.0&quot;</td><td>&quot;South&quot;</td><td>&quot;OFF-ST-1000076…</td><td>&quot;Office Supplie…</td><td>&quot;Storage&quot;</td><td>&quot;Eldon Fold &#x27;N …</td><td>&quot;22.36800000000…</td><td>&quot;2.0&quot;</td><td>&quot;0.2&quot;</td><td>&quot;2.516399999999…</td></tr></tbody></table></div>"
      ],
      "text/plain": [
       "shape: (5, 21)\n",
       "┌────────┬────────────┬────────────┬───────────┬───┬────────────┬──────────┬──────────┬────────────┐\n",
       "│ Row ID ┆ Order ID   ┆ Order Date ┆ Ship Date ┆ … ┆ Sales      ┆ Quantity ┆ Discount ┆ Profit     │\n",
       "│ ---    ┆ ---        ┆ ---        ┆ ---       ┆   ┆ ---        ┆ ---      ┆ ---      ┆ ---        │\n",
       "│ str    ┆ str        ┆ str        ┆ str       ┆   ┆ str        ┆ str      ┆ str      ┆ str        │\n",
       "╞════════╪════════════╪════════════╪═══════════╪═══╪════════════╪══════════╪══════════╪════════════╡\n",
       "│ 1.0    ┆ CA-2016-15 ┆ 42682.0    ┆ 42685.0   ┆ … ┆ 261.96     ┆ 2.0      ┆ 0.0      ┆ 41.9136    │\n",
       "│        ┆ 2156       ┆            ┆           ┆   ┆            ┆          ┆          ┆            │\n",
       "│ 2.0    ┆ CA-2016-15 ┆ 42682.0    ┆ 42685.0   ┆ … ┆ 731.939999 ┆ 3.0      ┆ 0.0      ┆ 219.581999 │\n",
       "│        ┆ 2156       ┆            ┆           ┆   ┆ 9999999    ┆          ┆          ┆ 99999997   │\n",
       "│ 3.0    ┆ CA-2016-13 ┆ 42533.0    ┆ 42537.0   ┆ … ┆ 14.62      ┆ 2.0      ┆ 0.0      ┆ 6.87139999 │\n",
       "│        ┆ 8688       ┆            ┆           ┆   ┆            ┆          ┆          ┆ 99999995   │\n",
       "│ 4.0    ┆ US-2015-10 ┆ 42288.0    ┆ 42295.0   ┆ … ┆ 957.5775   ┆ 5.0      ┆ 0.45     ┆ -383.03100 │\n",
       "│        ┆ 8966       ┆            ┆           ┆   ┆            ┆          ┆          ┆ 000000006  │\n",
       "│ 5.0    ┆ US-2015-10 ┆ 42288.0    ┆ 42295.0   ┆ … ┆ 22.3680000 ┆ 2.0      ┆ 0.2      ┆ 2.51639999 │\n",
       "│        ┆ 8966       ┆            ┆           ┆   ┆ 00000002   ┆          ┆          ┆ 9999999    │\n",
       "└────────┴────────────┴────────────┴───────────┴───┴────────────┴──────────┴──────────┴────────────┘"
      ]
     },
     "execution_count": 48,
     "metadata": {},
     "output_type": "execute_result"
    }
   ],
   "source": [
    "scan_pyxlsb().head()"
   ]
  },
  {
   "attachments": {},
   "cell_type": "markdown",
   "metadata": {},
   "source": [
    "## Benchmarks"
   ]
  },
  {
   "attachments": {},
   "cell_type": "markdown",
   "metadata": {},
   "source": [
    "### Timeit"
   ]
  },
  {
   "attachments": {},
   "cell_type": "markdown",
   "metadata": {},
   "source": [
    "*This tests I've done without kernel reloading*"
   ]
  },
  {
   "cell_type": "code",
   "execution_count": 8,
   "metadata": {
    "notebookRunGroups": {
     "groupValue": "2"
    }
   },
   "outputs": [
    {
     "name": "stdout",
     "output_type": "stream",
     "text": [
      "2.82 s ± 266 ms per loop (mean ± std. dev. of 7 runs, 1 loop each)\n"
     ]
    }
   ],
   "source": [
    "%%timeit\n",
    "scan_xlsx2csv().head()"
   ]
  },
  {
   "cell_type": "code",
   "execution_count": 9,
   "metadata": {
    "notebookRunGroups": {
     "groupValue": "2"
    }
   },
   "outputs": [
    {
     "name": "stdout",
     "output_type": "stream",
     "text": [
      "2.86 s ± 64.7 ms per loop (mean ± std. dev. of 7 runs, 1 loop each)\n"
     ]
    }
   ],
   "source": [
    "%%timeit\n",
    "scan_openpyxl().head()"
   ]
  },
  {
   "cell_type": "code",
   "execution_count": 10,
   "metadata": {
    "notebookRunGroups": {
     "groupValue": "2"
    }
   },
   "outputs": [
    {
     "name": "stdout",
     "output_type": "stream",
     "text": [
      "2.58 s ± 105 ms per loop (mean ± std. dev. of 7 runs, 1 loop each)\n"
     ]
    }
   ],
   "source": [
    "%%timeit\n",
    "scan_pyxlsb().head()"
   ]
  },
  {
   "cell_type": "code",
   "execution_count": 11,
   "metadata": {
    "notebookRunGroups": {
     "groupValue": "2"
    }
   },
   "outputs": [
    {
     "name": "stdout",
     "output_type": "stream",
     "text": [
      "2.55 s ± 171 ms per loop (mean ± std. dev. of 7 runs, 1 loop each)\n"
     ]
    }
   ],
   "source": [
    "%%timeit\n",
    "scan_rxls_xlsx().head()"
   ]
  },
  {
   "cell_type": "code",
   "execution_count": 12,
   "metadata": {
    "notebookRunGroups": {
     "groupValue": "2"
    }
   },
   "outputs": [
    {
     "name": "stdout",
     "output_type": "stream",
     "text": [
      "2.6 s ± 87 ms per loop (mean ± std. dev. of 7 runs, 1 loop each)\n"
     ]
    }
   ],
   "source": [
    "%%timeit\n",
    "scan_rxls_xlsx_plain().head()"
   ]
  },
  {
   "cell_type": "code",
   "execution_count": 13,
   "metadata": {
    "notebookRunGroups": {
     "groupValue": "2"
    }
   },
   "outputs": [
    {
     "name": "stdout",
     "output_type": "stream",
     "text": [
      "2.75 s ± 350 ms per loop (mean ± std. dev. of 7 runs, 1 loop each)\n"
     ]
    }
   ],
   "source": [
    "%%timeit\n",
    "scan_rxls_xlsb().head()"
   ]
  },
  {
   "cell_type": "code",
   "execution_count": 14,
   "metadata": {
    "notebookRunGroups": {
     "groupValue": "2"
    }
   },
   "outputs": [
    {
     "name": "stdout",
     "output_type": "stream",
     "text": [
      "2.51 s ± 42.3 ms per loop (mean ± std. dev. of 7 runs, 1 loop each)\n"
     ]
    }
   ],
   "source": [
    "%%timeit\n",
    "scan_rxls_xlsb_plain().head()"
   ]
  },
  {
   "attachments": {},
   "cell_type": "markdown",
   "metadata": {},
   "source": [
    "### Memory Profiler"
   ]
  },
  {
   "attachments": {},
   "cell_type": "markdown",
   "metadata": {},
   "source": [
    "*For these tests, I've reload kernel between tests, for better consistency*"
   ]
  },
  {
   "cell_type": "code",
   "execution_count": 7,
   "metadata": {
    "notebookRunGroups": {
     "groupValue": "1"
    }
   },
   "outputs": [],
   "source": [
    "%load_ext memory_profiler"
   ]
  },
  {
   "cell_type": "code",
   "execution_count": 8,
   "metadata": {},
   "outputs": [
    {
     "name": "stdout",
     "output_type": "stream",
     "text": [
      "peak memory: 202.35 MiB, increment: 23.70 MiB\n"
     ]
    }
   ],
   "source": [
    "%memit scan_rxls_xlsb()"
   ]
  },
  {
   "cell_type": "code",
   "execution_count": 8,
   "metadata": {},
   "outputs": [
    {
     "name": "stdout",
     "output_type": "stream",
     "text": [
      "peak memory: 200.18 MiB, increment: 21.16 MiB\n"
     ]
    }
   ],
   "source": [
    "%memit scan_rxls_xlsx()"
   ]
  },
  {
   "cell_type": "code",
   "execution_count": 8,
   "metadata": {},
   "outputs": [
    {
     "name": "stdout",
     "output_type": "stream",
     "text": [
      "peak memory: 194.72 MiB, increment: 15.71 MiB\n"
     ]
    }
   ],
   "source": [
    "%memit scan_rxls_xlsb_plain()"
   ]
  },
  {
   "cell_type": "code",
   "execution_count": 8,
   "metadata": {},
   "outputs": [
    {
     "name": "stdout",
     "output_type": "stream",
     "text": [
      "peak memory: 195.05 MiB, increment: 16.29 MiB\n"
     ]
    }
   ],
   "source": [
    "%memit scan_rxls_xlsx_plain()"
   ]
  },
  {
   "cell_type": "code",
   "execution_count": 9,
   "metadata": {},
   "outputs": [
    {
     "name": "stdout",
     "output_type": "stream",
     "text": [
      "peak memory: 206.03 MiB, increment: 18.24 MiB\n"
     ]
    }
   ],
   "source": [
    "%memit scan_xlsx2csv()"
   ]
  },
  {
   "cell_type": "code",
   "execution_count": 8,
   "metadata": {},
   "outputs": [
    {
     "name": "stdout",
     "output_type": "stream",
     "text": [
      "peak memory: 268.98 MiB, increment: 90.93 MiB\n"
     ]
    }
   ],
   "source": [
    "%memit scan_openpyxl()"
   ]
  },
  {
   "cell_type": "code",
   "execution_count": 8,
   "metadata": {},
   "outputs": [
    {
     "name": "stdout",
     "output_type": "stream",
     "text": [
      "peak memory: 200.15 MiB, increment: 21.14 MiB\n"
     ]
    }
   ],
   "source": [
    "%memit scan_pyxlsb()"
   ]
  },
  {
   "attachments": {},
   "cell_type": "markdown",
   "metadata": {},
   "source": [
    "## Results:"
   ]
  },
  {
   "attachments": {},
   "cell_type": "markdown",
   "metadata": {},
   "source": [
    "### TimeIt:\n",
    "\n",
    "- XLSB reading:\n",
    "    1) RXLS `(plain: 2.51 s ± 42.3 ms per loop (mean ± std. dev. of 7 runs, 1 loop each))`\n",
    "    2) PyXLSB `(2.58 s ± 105 ms per loop (mean ± std. dev. of 7 runs, 1 loop each))`\n",
    "    3) RXLS `(basic: 2.75 s ± 350 ms per loop (mean ± std. dev. of 7 runs, 1 loop each))`\n",
    "\n",
    "\n",
    "- XLSX reading:\n",
    "    1) RXLS `(2.55 s ± 171 ms per loop (mean ± std. dev. of 7 runs, 1 loop each))` *plain ~ basic*\n",
    "    2) XLSX2CSV `(2.82 s ± 266 ms per loop (mean ± std. dev. of 7 runs, 1 loop each))`\n",
    "    3) OpenPyXL `(2.86 s ± 64.7 ms per loop (mean ± std. dev. of 7 runs, 1 loop each))`"
   ]
  },
  {
   "attachments": {},
   "cell_type": "markdown",
   "metadata": {},
   "source": [
    "### Memory profiler\n",
    "\n",
    "- XLSB reading:\n",
    "    1) RXLS `(plain: peak memory: 194.72 MiB, increment: 15.71 MiB)`\n",
    "    2) PyXLSB `(peak memory: 200.15 MiB, increment: 21.14 MiB)`\n",
    "    3) RXLS `(basic: peak memory: 202.35 MiB, increment: 23.70 MiB)`\n",
    "\n",
    "\n",
    "- XLSX reading:\n",
    "    1) RXLS `(plain: peak memory: 195.05 MiB, increment: 16.29 MiB)`\n",
    "    2) XLSX2CSV `(peak memory: 206.03 MiB, increment: 18.24 MiB)`\n",
    "    3) RXLS `(basic: peak memory: 200.18 MiB, increment: 21.16 MiB)`\n",
    "    4) OpenPyXL `(peak memory: 268.98 MiB, increment: 90.93 MiB)` "
   ]
  }
 ],
 "metadata": {
  "kernelspec": {
   "display_name": ".venv",
   "language": "python",
   "name": "python3"
  },
  "language_info": {
   "codemirror_mode": {
    "name": "ipython",
    "version": 3
   },
   "file_extension": ".py",
   "mimetype": "text/x-python",
   "name": "python",
   "nbconvert_exporter": "python",
   "pygments_lexer": "ipython3",
   "version": "3.10.0"
  },
  "orig_nbformat": 4,
  "vscode": {
   "interpreter": {
    "hash": "63b6a2b0f35fa4ea1c49d25456d100cfd93064b5ee1d57f74d839a65cc2b63a2"
   }
  }
 },
 "nbformat": 4,
 "nbformat_minor": 2
}
