{
 "cells": [
  {
   "attachments": {},
   "cell_type": "markdown",
   "metadata": {},
   "source": [
    "## Initialization"
   ]
  },
  {
   "cell_type": "code",
   "execution_count": 1,
   "metadata": {
    "notebookRunGroups": {
     "groupValue": "1"
    }
   },
   "outputs": [
    {
     "name": "stdout",
     "output_type": "stream",
     "text": [
      "[========================================================================================================================]\n",
      "|                                               benchmark environment used                                               |\n",
      "[======= product ========][========================================== version ===========================================]\n",
      "|        Platform        ||                                  Windows-10-10.0.19045-SP0                                   |\n",
      "|          CPU           ||                      AMD64 Family 23 Model 24 Stepping 1, AuthenticAMD                       |\n",
      "|         CPU HZ         ||                               2.0960 GHz (actual: 2.1000 GHz)                                |\n",
      "|         Python         ||       3.10.0 (tags/v3.10.0:b494f59, Oct  4 2021, 19:00:18) [MSC v.1929 64 bit (AMD64)]       |\n",
      "|        PyArrow         ||                                            13.0.0                                            |\n",
      "|         Polars         ||                                            0.19.3                                            |\n",
      "|         Pandas         ||                                            2.1.0                                             |\n",
      "|         Numba          ||                                            0.57.1                                            |\n",
      "|        XLSX2CSV        ||                                            0.8.1                                             |\n",
      "|        OpenPyXL        ||                                            3.1.2                                             |\n",
      "|         PyXLSB         ||                                            1.0.10                                            |\n",
      "|          tqdm          ||                                            4.66.1                                            |\n",
      "|      ordered-set       ||                                            4.1.0                                             |\n",
      "|      recordclass       ||                                             0.20                                             |\n",
      "|          lxml          ||                                            4.9.3                                             |\n",
      "|        cpuinfo         ||                                            9.0.0                                             |\n",
      "|    memory_profiler     ||                                            0.61.0                                            |\n",
      "[========================================================================================================================]\n"
     ]
    }
   ],
   "source": [
    "import platform\n",
    "import cpuinfo\n",
    "import sys\n",
    "\n",
    "import polars as pl\n",
    "import pyarrow as pa\n",
    "import pandas as pd\n",
    "import numba as nb\n",
    "\n",
    "import xlsx2csv\n",
    "import openpyxl\n",
    "import pyxlsb\n",
    "\n",
    "import ordered_set\n",
    "import recordclass\n",
    "import tqdm as _tqdm\n",
    "import lxml\n",
    "\n",
    "import memory_profiler\n",
    "\n",
    "from rxls import xl_scan\n",
    "from tqdm import tqdm\n",
    "\n",
    "cpu: dict = cpuinfo.get_cpu_info()\n",
    "\n",
    "print(\n",
    "    f'[{\"=\":=^120}]',\n",
    "    f'|{\" benchmark environment used \":^120}|',\n",
    "    f'[{\" product \":=^24}][{\" version \":=^94}]',\n",
    "    *[\n",
    "        f'|{f\" {name} \":^24}||{f\" {version} \":^94}|' for name, version in {\n",
    "            'Platform': platform.platform(),\n",
    "            'CPU': platform.processor(),\n",
    "            'CPU HZ': f'{cpu[\"hz_advertised_friendly\"]} (actual: {cpu[\"hz_actual_friendly\"]})',\n",
    "            'Python': sys.version,\n",
    "            'PyArrow': pa.__version__,\n",
    "            'Polars': pl.__version__,\n",
    "            'Pandas': pd.__version__,\n",
    "            'Numba': nb.__version__,\n",
    "            'XLSX2CSV': xlsx2csv.__version__,\n",
    "            'OpenPyXL': openpyxl.__version__,\n",
    "            'PyXLSB': pyxlsb.__version__,\n",
    "            'tqdm': _tqdm.__version__,\n",
    "            'ordered-set': ordered_set.__version__,\n",
    "            'recordclass': recordclass.__version__,\n",
    "            'lxml': lxml.__version__,\n",
    "            'cpuinfo': '.'.join(map(str, cpuinfo.CPUINFO_VERSION)),\n",
    "            'memory_profiler': memory_profiler.__version__\n",
    "        }.items()\n",
    "    ],\n",
    "    f'[{\"=\":=^120}]',\n",
    "    sep='\\n'\n",
    ")"
   ]
  },
  {
   "attachments": {},
   "cell_type": "markdown",
   "metadata": {},
   "source": [
    "## DataSource:\n",
    "\n",
    "Our World In Data: COVID-19\n",
    "\n",
    "https://ourworldindata.org/explorers/coronavirus-data-explorer?zoomToSelection=true&time=2020-03-01..latest&facet=none&country=USA~GBR~CAN~DEU~ITA~IND&pickerSort=asc&pickerMetric=location&Metric=Confirmed+cases&Interval=7-day+rolling+average&Relative+to+Population=true&Color+by+test+positivity=false\n",
    "\n",
    "**I've download this, and save with MS Excel to .xlsx and .xlsb formats**"
   ]
  },
  {
   "cell_type": "code",
   "execution_count": 2,
   "metadata": {
    "notebookRunGroups": {
     "groupValue": "1"
    }
   },
   "outputs": [],
   "source": [
    "XLSX_FILE = 'covid.xlsx'\n",
    "XLSB_FILE = 'covid.xlsb'"
   ]
  },
  {
   "cell_type": "code",
   "execution_count": 3,
   "metadata": {
    "notebookRunGroups": {
     "groupValue": "1"
    }
   },
   "outputs": [],
   "source": [
    "from IPython.core.display import display_html\n",
    "\n",
    "def show_df(df: pl.DataFrame):\n",
    "    print(f'rows: {df.height} columns: {df.width}')\n",
    "    display_html(df.head())"
   ]
  },
  {
   "attachments": {},
   "cell_type": "markdown",
   "metadata": {},
   "source": [
    "### RXLS. Scan both xlsx and xlsb (*plain = as in pyxlsb (`inferring='no'`)*)"
   ]
  },
  {
   "cell_type": "code",
   "execution_count": 4,
   "metadata": {
    "notebookRunGroups": {
     "groupValue": "1"
    }
   },
   "outputs": [],
   "source": [
    "def scan_rxls_xlsx_plain(path: str = XLSX_FILE, tq: bool = False) -> pl.DataFrame:\n",
    "    return xl_scan(path, head=True, with_tqdm=tq, inferring='no')\n",
    "\n",
    "def scan_rxls_xlsb_plain(path: str = XLSB_FILE, tq: bool = False) -> pl.DataFrame:\n",
    "    return xl_scan(path, head=True, with_tqdm=tq, inferring='no')\n",
    "\n",
    "def scan_rxls_xlsx(path: str = XLSX_FILE, tq: bool = False) -> pl.DataFrame:\n",
    "    return xl_scan(path, head=True, with_tqdm=tq)\n",
    "\n",
    "def scan_rxls_xlsb(path: str = XLSB_FILE, tq: bool = False) -> pl.DataFrame:\n",
    "    return xl_scan(path, head=True, with_tqdm=tq)"
   ]
  },
  {
   "cell_type": "code",
   "execution_count": 9,
   "metadata": {
    "notebookRunGroups": {
     "groupValue": ""
    }
   },
   "outputs": [
    {
     "name": "stdout",
     "output_type": "stream",
     "text": [
      "rows: 341376 columns: 67\n"
     ]
    },
    {
     "data": {
      "text/html": [
       "<div><style>\n",
       ".dataframe > thead > tr > th,\n",
       ".dataframe > tbody > tr > td {\n",
       "  text-align: right;\n",
       "  white-space: pre-wrap;\n",
       "}\n",
       "</style>\n",
       "<small>shape: (5, 67)</small><table border=\"1\" class=\"dataframe\"><thead><tr><th>iso_code</th><th>continent</th><th>location</th><th>date</th><th>total_cases</th><th>new_cases</th><th>new_cases_smoothed</th><th>total_deaths</th><th>new_deaths</th><th>new_deaths_smoothed</th><th>total_cases_per_million</th><th>new_cases_per_million</th><th>new_cases_smoothed_per_million</th><th>total_deaths_per_million</th><th>new_deaths_per_million</th><th>new_deaths_smoothed_per_million</th><th>reproduction_rate</th><th>icu_patients</th><th>icu_patients_per_million</th><th>hosp_patients</th><th>hosp_patients_per_million</th><th>weekly_icu_admissions</th><th>weekly_icu_admissions_per_million</th><th>weekly_hosp_admissions</th><th>weekly_hosp_admissions_per_million</th><th>total_tests</th><th>new_tests</th><th>total_tests_per_thousand</th><th>new_tests_per_thousand</th><th>new_tests_smoothed</th><th>new_tests_smoothed_per_thousand</th><th>positive_rate</th><th>tests_per_case</th><th>tests_units</th><th>total_vaccinations</th><th>people_vaccinated</th><th>people_fully_vaccinated</th><th>total_boosters</th><th>new_vaccinations</th><th>new_vaccinations_smoothed</th><th>total_vaccinations_per_hundred</th><th>people_vaccinated_per_hundred</th><th>people_fully_vaccinated_per_hundred</th><th>total_boosters_per_hundred</th><th>new_vaccinations_smoothed_per_million</th><th>new_people_vaccinated_smoothed</th><th>new_people_vaccinated_smoothed_per_hundred</th><th>stringency_index</th><th>population_density</th><th>median_age</th><th>aged_65_older</th><th>aged_70_older</th><th>gdp_per_capita</th><th>extreme_poverty</th><th>cardiovasc_death_rate</th><th>diabetes_prevalence</th><th>female_smokers</th><th>male_smokers</th><th>handwashing_facilities</th><th>hospital_beds_per_thousand</th><th>life_expectancy</th><th>human_development_index</th><th>population</th><th>excess_mortality_cumulative_absolute</th><th>excess_mortality_cumulative</th><th>excess_mortality</th><th>excess_mortality_cumulative_per_million</th></tr><tr><td>str</td><td>str</td><td>str</td><td>str</td><td>str</td><td>str</td><td>str</td><td>str</td><td>str</td><td>str</td><td>str</td><td>str</td><td>str</td><td>str</td><td>str</td><td>str</td><td>str</td><td>str</td><td>str</td><td>str</td><td>str</td><td>str</td><td>str</td><td>str</td><td>str</td><td>str</td><td>str</td><td>str</td><td>str</td><td>str</td><td>str</td><td>str</td><td>str</td><td>str</td><td>str</td><td>str</td><td>str</td><td>str</td><td>str</td><td>str</td><td>str</td><td>str</td><td>str</td><td>str</td><td>str</td><td>str</td><td>str</td><td>str</td><td>str</td><td>str</td><td>str</td><td>str</td><td>str</td><td>str</td><td>str</td><td>str</td><td>str</td><td>str</td><td>str</td><td>str</td><td>str</td><td>str</td><td>str</td><td>str</td><td>str</td><td>str</td><td>str</td></tr></thead><tbody><tr><td>&quot;AFG&quot;</td><td>&quot;Asia&quot;</td><td>&quot;Afghanistan&quot;</td><td>&quot;43833&quot;</td><td>null</td><td>&quot;0.0&quot;</td><td>null</td><td>null</td><td>&quot;0.0&quot;</td><td>null</td><td>null</td><td>&quot;0.0&quot;</td><td>null</td><td>null</td><td>&quot;0.0&quot;</td><td>null</td><td>null</td><td>null</td><td>null</td><td>null</td><td>null</td><td>null</td><td>null</td><td>null</td><td>null</td><td>null</td><td>null</td><td>null</td><td>null</td><td>null</td><td>null</td><td>null</td><td>null</td><td>null</td><td>null</td><td>null</td><td>null</td><td>null</td><td>null</td><td>null</td><td>null</td><td>null</td><td>null</td><td>null</td><td>null</td><td>null</td><td>null</td><td>&quot;0.0&quot;</td><td>&quot;54.422&quot;</td><td>&quot;45095&quot;</td><td>&quot;2.581&quot;</td><td>&quot;1.337&quot;</td><td>&quot;1803.987&quot;</td><td>null</td><td>&quot;597.029&quot;</td><td>&quot;21794&quot;</td><td>null</td><td>null</td><td>&quot;37.746&quot;</td><td>&quot;0.5&quot;</td><td>&quot;64.83&quot;</td><td>&quot;0.511&quot;</td><td>&quot;41128772.0&quot;</td><td>null</td><td>null</td><td>null</td><td>null</td></tr><tr><td>&quot;AFG&quot;</td><td>&quot;Asia&quot;</td><td>&quot;Afghanistan&quot;</td><td>&quot;43834&quot;</td><td>null</td><td>&quot;0.0&quot;</td><td>null</td><td>null</td><td>&quot;0.0&quot;</td><td>null</td><td>null</td><td>&quot;0.0&quot;</td><td>null</td><td>null</td><td>&quot;0.0&quot;</td><td>null</td><td>null</td><td>null</td><td>null</td><td>null</td><td>null</td><td>null</td><td>null</td><td>null</td><td>null</td><td>null</td><td>null</td><td>null</td><td>null</td><td>null</td><td>null</td><td>null</td><td>null</td><td>null</td><td>null</td><td>null</td><td>null</td><td>null</td><td>null</td><td>null</td><td>null</td><td>null</td><td>null</td><td>null</td><td>null</td><td>null</td><td>null</td><td>&quot;0.0&quot;</td><td>&quot;54.422&quot;</td><td>&quot;45095&quot;</td><td>&quot;2.581&quot;</td><td>&quot;1.337&quot;</td><td>&quot;1803.987&quot;</td><td>null</td><td>&quot;597.029&quot;</td><td>&quot;21794&quot;</td><td>null</td><td>null</td><td>&quot;37.746&quot;</td><td>&quot;0.5&quot;</td><td>&quot;64.83&quot;</td><td>&quot;0.511&quot;</td><td>&quot;41128772.0&quot;</td><td>null</td><td>null</td><td>null</td><td>null</td></tr><tr><td>&quot;AFG&quot;</td><td>&quot;Asia&quot;</td><td>&quot;Afghanistan&quot;</td><td>&quot;43835&quot;</td><td>null</td><td>&quot;0.0&quot;</td><td>null</td><td>null</td><td>&quot;0.0&quot;</td><td>null</td><td>null</td><td>&quot;0.0&quot;</td><td>null</td><td>null</td><td>&quot;0.0&quot;</td><td>null</td><td>null</td><td>null</td><td>null</td><td>null</td><td>null</td><td>null</td><td>null</td><td>null</td><td>null</td><td>null</td><td>null</td><td>null</td><td>null</td><td>null</td><td>null</td><td>null</td><td>null</td><td>null</td><td>null</td><td>null</td><td>null</td><td>null</td><td>null</td><td>null</td><td>null</td><td>null</td><td>null</td><td>null</td><td>null</td><td>null</td><td>null</td><td>&quot;0.0&quot;</td><td>&quot;54.422&quot;</td><td>&quot;45095&quot;</td><td>&quot;2.581&quot;</td><td>&quot;1.337&quot;</td><td>&quot;1803.987&quot;</td><td>null</td><td>&quot;597.029&quot;</td><td>&quot;21794&quot;</td><td>null</td><td>null</td><td>&quot;37.746&quot;</td><td>&quot;0.5&quot;</td><td>&quot;64.83&quot;</td><td>&quot;0.511&quot;</td><td>&quot;41128772.0&quot;</td><td>null</td><td>null</td><td>null</td><td>null</td></tr><tr><td>&quot;AFG&quot;</td><td>&quot;Asia&quot;</td><td>&quot;Afghanistan&quot;</td><td>&quot;43836&quot;</td><td>null</td><td>&quot;0.0&quot;</td><td>null</td><td>null</td><td>&quot;0.0&quot;</td><td>null</td><td>null</td><td>&quot;0.0&quot;</td><td>null</td><td>null</td><td>&quot;0.0&quot;</td><td>null</td><td>null</td><td>null</td><td>null</td><td>null</td><td>null</td><td>null</td><td>null</td><td>null</td><td>null</td><td>null</td><td>null</td><td>null</td><td>null</td><td>null</td><td>null</td><td>null</td><td>null</td><td>null</td><td>null</td><td>null</td><td>null</td><td>null</td><td>null</td><td>null</td><td>null</td><td>null</td><td>null</td><td>null</td><td>null</td><td>null</td><td>null</td><td>&quot;0.0&quot;</td><td>&quot;54.422&quot;</td><td>&quot;45095&quot;</td><td>&quot;2.581&quot;</td><td>&quot;1.337&quot;</td><td>&quot;1803.987&quot;</td><td>null</td><td>&quot;597.029&quot;</td><td>&quot;21794&quot;</td><td>null</td><td>null</td><td>&quot;37.746&quot;</td><td>&quot;0.5&quot;</td><td>&quot;64.83&quot;</td><td>&quot;0.511&quot;</td><td>&quot;41128772.0&quot;</td><td>null</td><td>null</td><td>null</td><td>null</td></tr><tr><td>&quot;AFG&quot;</td><td>&quot;Asia&quot;</td><td>&quot;Afghanistan&quot;</td><td>&quot;43837&quot;</td><td>null</td><td>&quot;0.0&quot;</td><td>null</td><td>null</td><td>&quot;0.0&quot;</td><td>null</td><td>null</td><td>&quot;0.0&quot;</td><td>null</td><td>null</td><td>&quot;0.0&quot;</td><td>null</td><td>null</td><td>null</td><td>null</td><td>null</td><td>null</td><td>null</td><td>null</td><td>null</td><td>null</td><td>null</td><td>null</td><td>null</td><td>null</td><td>null</td><td>null</td><td>null</td><td>null</td><td>null</td><td>null</td><td>null</td><td>null</td><td>null</td><td>null</td><td>null</td><td>null</td><td>null</td><td>null</td><td>null</td><td>null</td><td>null</td><td>null</td><td>&quot;0.0&quot;</td><td>&quot;54.422&quot;</td><td>&quot;45095&quot;</td><td>&quot;2.581&quot;</td><td>&quot;1.337&quot;</td><td>&quot;1803.987&quot;</td><td>null</td><td>&quot;597.029&quot;</td><td>&quot;21794&quot;</td><td>null</td><td>null</td><td>&quot;37.746&quot;</td><td>&quot;0.5&quot;</td><td>&quot;64.83&quot;</td><td>&quot;0.511&quot;</td><td>&quot;41128772.0&quot;</td><td>null</td><td>null</td><td>null</td><td>null</td></tr></tbody></table></div>"
      ]
     },
     "metadata": {},
     "output_type": "display_data"
    }
   ],
   "source": [
    "show_df(scan_rxls_xlsx_plain())\n",
    "# 4m 35.5s (341376 rows, 67 columns)"
   ]
  },
  {
   "cell_type": "code",
   "execution_count": 10,
   "metadata": {
    "notebookRunGroups": {
     "groupValue": ""
    }
   },
   "outputs": [
    {
     "name": "stdout",
     "output_type": "stream",
     "text": [
      "rows: 341376 columns: 67\n"
     ]
    },
    {
     "data": {
      "text/html": [
       "<div><style>\n",
       ".dataframe > thead > tr > th,\n",
       ".dataframe > tbody > tr > td {\n",
       "  text-align: right;\n",
       "  white-space: pre-wrap;\n",
       "}\n",
       "</style>\n",
       "<small>shape: (5, 67)</small><table border=\"1\" class=\"dataframe\"><thead><tr><th>iso_code</th><th>continent</th><th>location</th><th>date</th><th>total_cases</th><th>new_cases</th><th>new_cases_smoothed</th><th>total_deaths</th><th>new_deaths</th><th>new_deaths_smoothed</th><th>total_cases_per_million</th><th>new_cases_per_million</th><th>new_cases_smoothed_per_million</th><th>total_deaths_per_million</th><th>new_deaths_per_million</th><th>new_deaths_smoothed_per_million</th><th>reproduction_rate</th><th>icu_patients</th><th>icu_patients_per_million</th><th>hosp_patients</th><th>hosp_patients_per_million</th><th>weekly_icu_admissions</th><th>weekly_icu_admissions_per_million</th><th>weekly_hosp_admissions</th><th>weekly_hosp_admissions_per_million</th><th>total_tests</th><th>new_tests</th><th>total_tests_per_thousand</th><th>new_tests_per_thousand</th><th>new_tests_smoothed</th><th>new_tests_smoothed_per_thousand</th><th>positive_rate</th><th>tests_per_case</th><th>tests_units</th><th>total_vaccinations</th><th>people_vaccinated</th><th>people_fully_vaccinated</th><th>total_boosters</th><th>new_vaccinations</th><th>new_vaccinations_smoothed</th><th>total_vaccinations_per_hundred</th><th>people_vaccinated_per_hundred</th><th>people_fully_vaccinated_per_hundred</th><th>total_boosters_per_hundred</th><th>new_vaccinations_smoothed_per_million</th><th>new_people_vaccinated_smoothed</th><th>new_people_vaccinated_smoothed_per_hundred</th><th>stringency_index</th><th>population_density</th><th>median_age</th><th>aged_65_older</th><th>aged_70_older</th><th>gdp_per_capita</th><th>extreme_poverty</th><th>cardiovasc_death_rate</th><th>diabetes_prevalence</th><th>female_smokers</th><th>male_smokers</th><th>handwashing_facilities</th><th>hospital_beds_per_thousand</th><th>life_expectancy</th><th>human_development_index</th><th>population</th><th>excess_mortality_cumulative_absolute</th><th>excess_mortality_cumulative</th><th>excess_mortality</th><th>excess_mortality_cumulative_per_million</th></tr><tr><td>str</td><td>str</td><td>str</td><td>str</td><td>str</td><td>str</td><td>str</td><td>str</td><td>str</td><td>str</td><td>str</td><td>str</td><td>str</td><td>str</td><td>str</td><td>str</td><td>str</td><td>str</td><td>str</td><td>str</td><td>str</td><td>str</td><td>str</td><td>str</td><td>str</td><td>str</td><td>str</td><td>str</td><td>str</td><td>str</td><td>str</td><td>str</td><td>str</td><td>str</td><td>str</td><td>str</td><td>str</td><td>str</td><td>str</td><td>str</td><td>str</td><td>str</td><td>str</td><td>str</td><td>str</td><td>str</td><td>str</td><td>str</td><td>str</td><td>str</td><td>str</td><td>str</td><td>str</td><td>str</td><td>str</td><td>str</td><td>str</td><td>str</td><td>str</td><td>str</td><td>str</td><td>str</td><td>str</td><td>str</td><td>str</td><td>str</td><td>str</td></tr></thead><tbody><tr><td>&quot;AFG&quot;</td><td>&quot;Asia&quot;</td><td>&quot;Afghanistan&quot;</td><td>&quot;43833&quot;</td><td>null</td><td>&quot;0.0&quot;</td><td>null</td><td>null</td><td>&quot;0.0&quot;</td><td>null</td><td>null</td><td>&quot;0.0&quot;</td><td>null</td><td>null</td><td>&quot;0.0&quot;</td><td>null</td><td>null</td><td>null</td><td>null</td><td>null</td><td>null</td><td>null</td><td>null</td><td>null</td><td>null</td><td>null</td><td>null</td><td>null</td><td>null</td><td>null</td><td>null</td><td>null</td><td>null</td><td>null</td><td>null</td><td>null</td><td>null</td><td>null</td><td>null</td><td>null</td><td>null</td><td>null</td><td>null</td><td>null</td><td>null</td><td>null</td><td>null</td><td>&quot;0.0&quot;</td><td>&quot;54.422&quot;</td><td>&quot;45095.0&quot;</td><td>&quot;2.581&quot;</td><td>&quot;1.337&quot;</td><td>&quot;1803.987&quot;</td><td>null</td><td>&quot;597.029&quot;</td><td>&quot;21794.0&quot;</td><td>null</td><td>null</td><td>&quot;37.746&quot;</td><td>&quot;0.5&quot;</td><td>&quot;64.83&quot;</td><td>&quot;0.511&quot;</td><td>&quot;41128772.0&quot;</td><td>null</td><td>null</td><td>null</td><td>null</td></tr><tr><td>&quot;AFG&quot;</td><td>&quot;Asia&quot;</td><td>&quot;Afghanistan&quot;</td><td>&quot;43834&quot;</td><td>null</td><td>&quot;0.0&quot;</td><td>null</td><td>null</td><td>&quot;0.0&quot;</td><td>null</td><td>null</td><td>&quot;0.0&quot;</td><td>null</td><td>null</td><td>&quot;0.0&quot;</td><td>null</td><td>null</td><td>null</td><td>null</td><td>null</td><td>null</td><td>null</td><td>null</td><td>null</td><td>null</td><td>null</td><td>null</td><td>null</td><td>null</td><td>null</td><td>null</td><td>null</td><td>null</td><td>null</td><td>null</td><td>null</td><td>null</td><td>null</td><td>null</td><td>null</td><td>null</td><td>null</td><td>null</td><td>null</td><td>null</td><td>null</td><td>null</td><td>&quot;0.0&quot;</td><td>&quot;54.422&quot;</td><td>&quot;45095.0&quot;</td><td>&quot;2.581&quot;</td><td>&quot;1.337&quot;</td><td>&quot;1803.987&quot;</td><td>null</td><td>&quot;597.029&quot;</td><td>&quot;21794.0&quot;</td><td>null</td><td>null</td><td>&quot;37.746&quot;</td><td>&quot;0.5&quot;</td><td>&quot;64.83&quot;</td><td>&quot;0.511&quot;</td><td>&quot;41128772.0&quot;</td><td>null</td><td>null</td><td>null</td><td>null</td></tr><tr><td>&quot;AFG&quot;</td><td>&quot;Asia&quot;</td><td>&quot;Afghanistan&quot;</td><td>&quot;43835&quot;</td><td>null</td><td>&quot;0.0&quot;</td><td>null</td><td>null</td><td>&quot;0.0&quot;</td><td>null</td><td>null</td><td>&quot;0.0&quot;</td><td>null</td><td>null</td><td>&quot;0.0&quot;</td><td>null</td><td>null</td><td>null</td><td>null</td><td>null</td><td>null</td><td>null</td><td>null</td><td>null</td><td>null</td><td>null</td><td>null</td><td>null</td><td>null</td><td>null</td><td>null</td><td>null</td><td>null</td><td>null</td><td>null</td><td>null</td><td>null</td><td>null</td><td>null</td><td>null</td><td>null</td><td>null</td><td>null</td><td>null</td><td>null</td><td>null</td><td>null</td><td>&quot;0.0&quot;</td><td>&quot;54.422&quot;</td><td>&quot;45095.0&quot;</td><td>&quot;2.581&quot;</td><td>&quot;1.337&quot;</td><td>&quot;1803.987&quot;</td><td>null</td><td>&quot;597.029&quot;</td><td>&quot;21794.0&quot;</td><td>null</td><td>null</td><td>&quot;37.746&quot;</td><td>&quot;0.5&quot;</td><td>&quot;64.83&quot;</td><td>&quot;0.511&quot;</td><td>&quot;41128772.0&quot;</td><td>null</td><td>null</td><td>null</td><td>null</td></tr><tr><td>&quot;AFG&quot;</td><td>&quot;Asia&quot;</td><td>&quot;Afghanistan&quot;</td><td>&quot;43836&quot;</td><td>null</td><td>&quot;0.0&quot;</td><td>null</td><td>null</td><td>&quot;0.0&quot;</td><td>null</td><td>null</td><td>&quot;0.0&quot;</td><td>null</td><td>null</td><td>&quot;0.0&quot;</td><td>null</td><td>null</td><td>null</td><td>null</td><td>null</td><td>null</td><td>null</td><td>null</td><td>null</td><td>null</td><td>null</td><td>null</td><td>null</td><td>null</td><td>null</td><td>null</td><td>null</td><td>null</td><td>null</td><td>null</td><td>null</td><td>null</td><td>null</td><td>null</td><td>null</td><td>null</td><td>null</td><td>null</td><td>null</td><td>null</td><td>null</td><td>null</td><td>&quot;0.0&quot;</td><td>&quot;54.422&quot;</td><td>&quot;45095.0&quot;</td><td>&quot;2.581&quot;</td><td>&quot;1.337&quot;</td><td>&quot;1803.987&quot;</td><td>null</td><td>&quot;597.029&quot;</td><td>&quot;21794.0&quot;</td><td>null</td><td>null</td><td>&quot;37.746&quot;</td><td>&quot;0.5&quot;</td><td>&quot;64.83&quot;</td><td>&quot;0.511&quot;</td><td>&quot;41128772.0&quot;</td><td>null</td><td>null</td><td>null</td><td>null</td></tr><tr><td>&quot;AFG&quot;</td><td>&quot;Asia&quot;</td><td>&quot;Afghanistan&quot;</td><td>&quot;43837&quot;</td><td>null</td><td>&quot;0.0&quot;</td><td>null</td><td>null</td><td>&quot;0.0&quot;</td><td>null</td><td>null</td><td>&quot;0.0&quot;</td><td>null</td><td>null</td><td>&quot;0.0&quot;</td><td>null</td><td>null</td><td>null</td><td>null</td><td>null</td><td>null</td><td>null</td><td>null</td><td>null</td><td>null</td><td>null</td><td>null</td><td>null</td><td>null</td><td>null</td><td>null</td><td>null</td><td>null</td><td>null</td><td>null</td><td>null</td><td>null</td><td>null</td><td>null</td><td>null</td><td>null</td><td>null</td><td>null</td><td>null</td><td>null</td><td>null</td><td>null</td><td>&quot;0.0&quot;</td><td>&quot;54.422&quot;</td><td>&quot;45095.0&quot;</td><td>&quot;2.581&quot;</td><td>&quot;1.337&quot;</td><td>&quot;1803.987&quot;</td><td>null</td><td>&quot;597.029&quot;</td><td>&quot;21794.0&quot;</td><td>null</td><td>null</td><td>&quot;37.746&quot;</td><td>&quot;0.5&quot;</td><td>&quot;64.83&quot;</td><td>&quot;0.511&quot;</td><td>&quot;41128772.0&quot;</td><td>null</td><td>null</td><td>null</td><td>null</td></tr></tbody></table></div>"
      ]
     },
     "metadata": {},
     "output_type": "display_data"
    }
   ],
   "source": [
    "show_df(scan_rxls_xlsb_plain())\n",
    "# 11m 1.5s (341376 rows, 67 columns)"
   ]
  },
  {
   "cell_type": "code",
   "execution_count": 11,
   "metadata": {
    "notebookRunGroups": {
     "groupValue": ""
    }
   },
   "outputs": [
    {
     "name": "stdout",
     "output_type": "stream",
     "text": [
      "rows: 341376 columns: 67\n"
     ]
    },
    {
     "data": {
      "text/html": [
       "<div><style>\n",
       ".dataframe > thead > tr > th,\n",
       ".dataframe > tbody > tr > td {\n",
       "  text-align: right;\n",
       "  white-space: pre-wrap;\n",
       "}\n",
       "</style>\n",
       "<small>shape: (5, 67)</small><table border=\"1\" class=\"dataframe\"><thead><tr><th>iso_code</th><th>continent</th><th>location</th><th>date</th><th>total_cases</th><th>new_cases</th><th>new_cases_smoothed</th><th>total_deaths</th><th>new_deaths</th><th>new_deaths_smoothed</th><th>total_cases_per_million</th><th>new_cases_per_million</th><th>new_cases_smoothed_per_million</th><th>total_deaths_per_million</th><th>new_deaths_per_million</th><th>new_deaths_smoothed_per_million</th><th>reproduction_rate</th><th>icu_patients</th><th>icu_patients_per_million</th><th>hosp_patients</th><th>hosp_patients_per_million</th><th>weekly_icu_admissions</th><th>weekly_icu_admissions_per_million</th><th>weekly_hosp_admissions</th><th>weekly_hosp_admissions_per_million</th><th>total_tests</th><th>new_tests</th><th>total_tests_per_thousand</th><th>new_tests_per_thousand</th><th>new_tests_smoothed</th><th>new_tests_smoothed_per_thousand</th><th>positive_rate</th><th>tests_per_case</th><th>tests_units</th><th>total_vaccinations</th><th>people_vaccinated</th><th>people_fully_vaccinated</th><th>total_boosters</th><th>new_vaccinations</th><th>new_vaccinations_smoothed</th><th>total_vaccinations_per_hundred</th><th>people_vaccinated_per_hundred</th><th>people_fully_vaccinated_per_hundred</th><th>total_boosters_per_hundred</th><th>new_vaccinations_smoothed_per_million</th><th>new_people_vaccinated_smoothed</th><th>new_people_vaccinated_smoothed_per_hundred</th><th>stringency_index</th><th>population_density</th><th>median_age</th><th>aged_65_older</th><th>aged_70_older</th><th>gdp_per_capita</th><th>extreme_poverty</th><th>cardiovasc_death_rate</th><th>diabetes_prevalence</th><th>female_smokers</th><th>male_smokers</th><th>handwashing_facilities</th><th>hospital_beds_per_thousand</th><th>life_expectancy</th><th>human_development_index</th><th>population</th><th>excess_mortality_cumulative_absolute</th><th>excess_mortality_cumulative</th><th>excess_mortality</th><th>excess_mortality_cumulative_per_million</th></tr><tr><td>str</td><td>str</td><td>str</td><td>date</td><td>i64</td><td>i64</td><td>f64</td><td>i64</td><td>i64</td><td>f64</td><td>f64</td><td>f64</td><td>f64</td><td>f64</td><td>f64</td><td>f64</td><td>f64</td><td>i64</td><td>f64</td><td>i64</td><td>f64</td><td>i64</td><td>f64</td><td>i64</td><td>f64</td><td>i64</td><td>i64</td><td>f64</td><td>f64</td><td>i64</td><td>f64</td><td>f64</td><td>f64</td><td>str</td><td>i64</td><td>i64</td><td>i64</td><td>i64</td><td>i64</td><td>i64</td><td>f64</td><td>f64</td><td>f64</td><td>f64</td><td>i64</td><td>i64</td><td>f64</td><td>f64</td><td>f64</td><td>f64</td><td>f64</td><td>f64</td><td>f64</td><td>f64</td><td>f64</td><td>f64</td><td>f64</td><td>f64</td><td>f64</td><td>f64</td><td>f64</td><td>f64</td><td>i64</td><td>f64</td><td>f64</td><td>f64</td><td>f64</td></tr></thead><tbody><tr><td>&quot;AFG&quot;</td><td>&quot;Asia&quot;</td><td>&quot;Afghanistan&quot;</td><td>2020-01-03</td><td>null</td><td>0</td><td>null</td><td>null</td><td>0</td><td>null</td><td>null</td><td>0.0</td><td>null</td><td>null</td><td>0.0</td><td>null</td><td>null</td><td>null</td><td>null</td><td>null</td><td>null</td><td>null</td><td>null</td><td>null</td><td>null</td><td>null</td><td>null</td><td>null</td><td>null</td><td>null</td><td>null</td><td>null</td><td>null</td><td>null</td><td>null</td><td>null</td><td>null</td><td>null</td><td>null</td><td>null</td><td>null</td><td>null</td><td>null</td><td>null</td><td>null</td><td>null</td><td>null</td><td>0.0</td><td>54.422</td><td>45095.0</td><td>2.581</td><td>1.337</td><td>1803.987</td><td>null</td><td>597.029</td><td>21794.0</td><td>null</td><td>null</td><td>37.746</td><td>0.5</td><td>64.83</td><td>0.511</td><td>41128772</td><td>null</td><td>null</td><td>null</td><td>null</td></tr><tr><td>&quot;AFG&quot;</td><td>&quot;Asia&quot;</td><td>&quot;Afghanistan&quot;</td><td>2020-01-04</td><td>null</td><td>0</td><td>null</td><td>null</td><td>0</td><td>null</td><td>null</td><td>0.0</td><td>null</td><td>null</td><td>0.0</td><td>null</td><td>null</td><td>null</td><td>null</td><td>null</td><td>null</td><td>null</td><td>null</td><td>null</td><td>null</td><td>null</td><td>null</td><td>null</td><td>null</td><td>null</td><td>null</td><td>null</td><td>null</td><td>null</td><td>null</td><td>null</td><td>null</td><td>null</td><td>null</td><td>null</td><td>null</td><td>null</td><td>null</td><td>null</td><td>null</td><td>null</td><td>null</td><td>0.0</td><td>54.422</td><td>45095.0</td><td>2.581</td><td>1.337</td><td>1803.987</td><td>null</td><td>597.029</td><td>21794.0</td><td>null</td><td>null</td><td>37.746</td><td>0.5</td><td>64.83</td><td>0.511</td><td>41128772</td><td>null</td><td>null</td><td>null</td><td>null</td></tr><tr><td>&quot;AFG&quot;</td><td>&quot;Asia&quot;</td><td>&quot;Afghanistan&quot;</td><td>2020-01-05</td><td>null</td><td>0</td><td>null</td><td>null</td><td>0</td><td>null</td><td>null</td><td>0.0</td><td>null</td><td>null</td><td>0.0</td><td>null</td><td>null</td><td>null</td><td>null</td><td>null</td><td>null</td><td>null</td><td>null</td><td>null</td><td>null</td><td>null</td><td>null</td><td>null</td><td>null</td><td>null</td><td>null</td><td>null</td><td>null</td><td>null</td><td>null</td><td>null</td><td>null</td><td>null</td><td>null</td><td>null</td><td>null</td><td>null</td><td>null</td><td>null</td><td>null</td><td>null</td><td>null</td><td>0.0</td><td>54.422</td><td>45095.0</td><td>2.581</td><td>1.337</td><td>1803.987</td><td>null</td><td>597.029</td><td>21794.0</td><td>null</td><td>null</td><td>37.746</td><td>0.5</td><td>64.83</td><td>0.511</td><td>41128772</td><td>null</td><td>null</td><td>null</td><td>null</td></tr><tr><td>&quot;AFG&quot;</td><td>&quot;Asia&quot;</td><td>&quot;Afghanistan&quot;</td><td>2020-01-06</td><td>null</td><td>0</td><td>null</td><td>null</td><td>0</td><td>null</td><td>null</td><td>0.0</td><td>null</td><td>null</td><td>0.0</td><td>null</td><td>null</td><td>null</td><td>null</td><td>null</td><td>null</td><td>null</td><td>null</td><td>null</td><td>null</td><td>null</td><td>null</td><td>null</td><td>null</td><td>null</td><td>null</td><td>null</td><td>null</td><td>null</td><td>null</td><td>null</td><td>null</td><td>null</td><td>null</td><td>null</td><td>null</td><td>null</td><td>null</td><td>null</td><td>null</td><td>null</td><td>null</td><td>0.0</td><td>54.422</td><td>45095.0</td><td>2.581</td><td>1.337</td><td>1803.987</td><td>null</td><td>597.029</td><td>21794.0</td><td>null</td><td>null</td><td>37.746</td><td>0.5</td><td>64.83</td><td>0.511</td><td>41128772</td><td>null</td><td>null</td><td>null</td><td>null</td></tr><tr><td>&quot;AFG&quot;</td><td>&quot;Asia&quot;</td><td>&quot;Afghanistan&quot;</td><td>2020-01-07</td><td>null</td><td>0</td><td>null</td><td>null</td><td>0</td><td>null</td><td>null</td><td>0.0</td><td>null</td><td>null</td><td>0.0</td><td>null</td><td>null</td><td>null</td><td>null</td><td>null</td><td>null</td><td>null</td><td>null</td><td>null</td><td>null</td><td>null</td><td>null</td><td>null</td><td>null</td><td>null</td><td>null</td><td>null</td><td>null</td><td>null</td><td>null</td><td>null</td><td>null</td><td>null</td><td>null</td><td>null</td><td>null</td><td>null</td><td>null</td><td>null</td><td>null</td><td>null</td><td>null</td><td>0.0</td><td>54.422</td><td>45095.0</td><td>2.581</td><td>1.337</td><td>1803.987</td><td>null</td><td>597.029</td><td>21794.0</td><td>null</td><td>null</td><td>37.746</td><td>0.5</td><td>64.83</td><td>0.511</td><td>41128772</td><td>null</td><td>null</td><td>null</td><td>null</td></tr></tbody></table></div>"
      ]
     },
     "metadata": {},
     "output_type": "display_data"
    }
   ],
   "source": [
    "show_df(scan_rxls_xlsx())\n",
    "# 4m 30.7s (341376 rows, 67 columns)"
   ]
  },
  {
   "cell_type": "code",
   "execution_count": 12,
   "metadata": {
    "notebookRunGroups": {
     "groupValue": ""
    }
   },
   "outputs": [
    {
     "name": "stdout",
     "output_type": "stream",
     "text": [
      "rows: 341376 columns: 67\n"
     ]
    },
    {
     "data": {
      "text/html": [
       "<div><style>\n",
       ".dataframe > thead > tr > th,\n",
       ".dataframe > tbody > tr > td {\n",
       "  text-align: right;\n",
       "  white-space: pre-wrap;\n",
       "}\n",
       "</style>\n",
       "<small>shape: (5, 67)</small><table border=\"1\" class=\"dataframe\"><thead><tr><th>iso_code</th><th>continent</th><th>location</th><th>date</th><th>total_cases</th><th>new_cases</th><th>new_cases_smoothed</th><th>total_deaths</th><th>new_deaths</th><th>new_deaths_smoothed</th><th>total_cases_per_million</th><th>new_cases_per_million</th><th>new_cases_smoothed_per_million</th><th>total_deaths_per_million</th><th>new_deaths_per_million</th><th>new_deaths_smoothed_per_million</th><th>reproduction_rate</th><th>icu_patients</th><th>icu_patients_per_million</th><th>hosp_patients</th><th>hosp_patients_per_million</th><th>weekly_icu_admissions</th><th>weekly_icu_admissions_per_million</th><th>weekly_hosp_admissions</th><th>weekly_hosp_admissions_per_million</th><th>total_tests</th><th>new_tests</th><th>total_tests_per_thousand</th><th>new_tests_per_thousand</th><th>new_tests_smoothed</th><th>new_tests_smoothed_per_thousand</th><th>positive_rate</th><th>tests_per_case</th><th>tests_units</th><th>total_vaccinations</th><th>people_vaccinated</th><th>people_fully_vaccinated</th><th>total_boosters</th><th>new_vaccinations</th><th>new_vaccinations_smoothed</th><th>total_vaccinations_per_hundred</th><th>people_vaccinated_per_hundred</th><th>people_fully_vaccinated_per_hundred</th><th>total_boosters_per_hundred</th><th>new_vaccinations_smoothed_per_million</th><th>new_people_vaccinated_smoothed</th><th>new_people_vaccinated_smoothed_per_hundred</th><th>stringency_index</th><th>population_density</th><th>median_age</th><th>aged_65_older</th><th>aged_70_older</th><th>gdp_per_capita</th><th>extreme_poverty</th><th>cardiovasc_death_rate</th><th>diabetes_prevalence</th><th>female_smokers</th><th>male_smokers</th><th>handwashing_facilities</th><th>hospital_beds_per_thousand</th><th>life_expectancy</th><th>human_development_index</th><th>population</th><th>excess_mortality_cumulative_absolute</th><th>excess_mortality_cumulative</th><th>excess_mortality</th><th>excess_mortality_cumulative_per_million</th></tr><tr><td>str</td><td>str</td><td>str</td><td>date</td><td>str</td><td>str</td><td>str</td><td>str</td><td>str</td><td>str</td><td>str</td><td>str</td><td>str</td><td>str</td><td>str</td><td>str</td><td>str</td><td>str</td><td>str</td><td>str</td><td>str</td><td>str</td><td>str</td><td>str</td><td>str</td><td>str</td><td>str</td><td>str</td><td>str</td><td>str</td><td>str</td><td>str</td><td>f64</td><td>str</td><td>str</td><td>str</td><td>str</td><td>str</td><td>str</td><td>str</td><td>str</td><td>str</td><td>str</td><td>str</td><td>str</td><td>str</td><td>str</td><td>str</td><td>str</td><td>str</td><td>str</td><td>str</td><td>str</td><td>str</td><td>str</td><td>f64</td><td>f64</td><td>str</td><td>str</td><td>f64</td><td>str</td><td>str</td><td>str</td><td>str</td><td>f64</td><td>str</td><td>str</td></tr></thead><tbody><tr><td>&quot;AFG&quot;</td><td>&quot;Asia&quot;</td><td>&quot;Afghanistan&quot;</td><td>2020-01-03</td><td>null</td><td>&quot;0.0&quot;</td><td>null</td><td>null</td><td>&quot;0.0&quot;</td><td>null</td><td>null</td><td>&quot;0.0&quot;</td><td>null</td><td>null</td><td>&quot;0.0&quot;</td><td>null</td><td>null</td><td>null</td><td>null</td><td>null</td><td>null</td><td>null</td><td>null</td><td>null</td><td>null</td><td>null</td><td>null</td><td>null</td><td>null</td><td>null</td><td>null</td><td>null</td><td>null</td><td>null</td><td>null</td><td>null</td><td>null</td><td>null</td><td>null</td><td>null</td><td>null</td><td>null</td><td>null</td><td>null</td><td>null</td><td>null</td><td>null</td><td>&quot;0.0&quot;</td><td>&quot;54.422&quot;</td><td>&quot;45095.0&quot;</td><td>&quot;2.581&quot;</td><td>&quot;1.337&quot;</td><td>&quot;1803.987&quot;</td><td>null</td><td>&quot;597.029&quot;</td><td>21794.0</td><td>null</td><td>null</td><td>&quot;37.746&quot;</td><td>0.5</td><td>&quot;64.83&quot;</td><td>&quot;0.511&quot;</td><td>&quot;41128772.0&quot;</td><td>null</td><td>null</td><td>null</td><td>null</td></tr><tr><td>&quot;AFG&quot;</td><td>&quot;Asia&quot;</td><td>&quot;Afghanistan&quot;</td><td>2020-01-04</td><td>null</td><td>&quot;0.0&quot;</td><td>null</td><td>null</td><td>&quot;0.0&quot;</td><td>null</td><td>null</td><td>&quot;0.0&quot;</td><td>null</td><td>null</td><td>&quot;0.0&quot;</td><td>null</td><td>null</td><td>null</td><td>null</td><td>null</td><td>null</td><td>null</td><td>null</td><td>null</td><td>null</td><td>null</td><td>null</td><td>null</td><td>null</td><td>null</td><td>null</td><td>null</td><td>null</td><td>null</td><td>null</td><td>null</td><td>null</td><td>null</td><td>null</td><td>null</td><td>null</td><td>null</td><td>null</td><td>null</td><td>null</td><td>null</td><td>null</td><td>&quot;0.0&quot;</td><td>&quot;54.422&quot;</td><td>&quot;45095.0&quot;</td><td>&quot;2.581&quot;</td><td>&quot;1.337&quot;</td><td>&quot;1803.987&quot;</td><td>null</td><td>&quot;597.029&quot;</td><td>21794.0</td><td>null</td><td>null</td><td>&quot;37.746&quot;</td><td>0.5</td><td>&quot;64.83&quot;</td><td>&quot;0.511&quot;</td><td>&quot;41128772.0&quot;</td><td>null</td><td>null</td><td>null</td><td>null</td></tr><tr><td>&quot;AFG&quot;</td><td>&quot;Asia&quot;</td><td>&quot;Afghanistan&quot;</td><td>2020-01-05</td><td>null</td><td>&quot;0.0&quot;</td><td>null</td><td>null</td><td>&quot;0.0&quot;</td><td>null</td><td>null</td><td>&quot;0.0&quot;</td><td>null</td><td>null</td><td>&quot;0.0&quot;</td><td>null</td><td>null</td><td>null</td><td>null</td><td>null</td><td>null</td><td>null</td><td>null</td><td>null</td><td>null</td><td>null</td><td>null</td><td>null</td><td>null</td><td>null</td><td>null</td><td>null</td><td>null</td><td>null</td><td>null</td><td>null</td><td>null</td><td>null</td><td>null</td><td>null</td><td>null</td><td>null</td><td>null</td><td>null</td><td>null</td><td>null</td><td>null</td><td>&quot;0.0&quot;</td><td>&quot;54.422&quot;</td><td>&quot;45095.0&quot;</td><td>&quot;2.581&quot;</td><td>&quot;1.337&quot;</td><td>&quot;1803.987&quot;</td><td>null</td><td>&quot;597.029&quot;</td><td>21794.0</td><td>null</td><td>null</td><td>&quot;37.746&quot;</td><td>0.5</td><td>&quot;64.83&quot;</td><td>&quot;0.511&quot;</td><td>&quot;41128772.0&quot;</td><td>null</td><td>null</td><td>null</td><td>null</td></tr><tr><td>&quot;AFG&quot;</td><td>&quot;Asia&quot;</td><td>&quot;Afghanistan&quot;</td><td>2020-01-06</td><td>null</td><td>&quot;0.0&quot;</td><td>null</td><td>null</td><td>&quot;0.0&quot;</td><td>null</td><td>null</td><td>&quot;0.0&quot;</td><td>null</td><td>null</td><td>&quot;0.0&quot;</td><td>null</td><td>null</td><td>null</td><td>null</td><td>null</td><td>null</td><td>null</td><td>null</td><td>null</td><td>null</td><td>null</td><td>null</td><td>null</td><td>null</td><td>null</td><td>null</td><td>null</td><td>null</td><td>null</td><td>null</td><td>null</td><td>null</td><td>null</td><td>null</td><td>null</td><td>null</td><td>null</td><td>null</td><td>null</td><td>null</td><td>null</td><td>null</td><td>&quot;0.0&quot;</td><td>&quot;54.422&quot;</td><td>&quot;45095.0&quot;</td><td>&quot;2.581&quot;</td><td>&quot;1.337&quot;</td><td>&quot;1803.987&quot;</td><td>null</td><td>&quot;597.029&quot;</td><td>21794.0</td><td>null</td><td>null</td><td>&quot;37.746&quot;</td><td>0.5</td><td>&quot;64.83&quot;</td><td>&quot;0.511&quot;</td><td>&quot;41128772.0&quot;</td><td>null</td><td>null</td><td>null</td><td>null</td></tr><tr><td>&quot;AFG&quot;</td><td>&quot;Asia&quot;</td><td>&quot;Afghanistan&quot;</td><td>2020-01-07</td><td>null</td><td>&quot;0.0&quot;</td><td>null</td><td>null</td><td>&quot;0.0&quot;</td><td>null</td><td>null</td><td>&quot;0.0&quot;</td><td>null</td><td>null</td><td>&quot;0.0&quot;</td><td>null</td><td>null</td><td>null</td><td>null</td><td>null</td><td>null</td><td>null</td><td>null</td><td>null</td><td>null</td><td>null</td><td>null</td><td>null</td><td>null</td><td>null</td><td>null</td><td>null</td><td>null</td><td>null</td><td>null</td><td>null</td><td>null</td><td>null</td><td>null</td><td>null</td><td>null</td><td>null</td><td>null</td><td>null</td><td>null</td><td>null</td><td>null</td><td>&quot;0.0&quot;</td><td>&quot;54.422&quot;</td><td>&quot;45095.0&quot;</td><td>&quot;2.581&quot;</td><td>&quot;1.337&quot;</td><td>&quot;1803.987&quot;</td><td>null</td><td>&quot;597.029&quot;</td><td>21794.0</td><td>null</td><td>null</td><td>&quot;37.746&quot;</td><td>0.5</td><td>&quot;64.83&quot;</td><td>&quot;0.511&quot;</td><td>&quot;41128772.0&quot;</td><td>null</td><td>null</td><td>null</td><td>null</td></tr></tbody></table></div>"
      ]
     },
     "metadata": {},
     "output_type": "display_data"
    }
   ],
   "source": [
    "# NOTE: Not all columns have correct datatypes, but it is not critical\n",
    "show_df(scan_rxls_xlsb())\n",
    "# 10m 29.5s (341376 rows, 67 columns)"
   ]
  },
  {
   "attachments": {},
   "cell_type": "markdown",
   "metadata": {},
   "source": [
    "### XLSX2CSV case: xlsx -> csv -> polars.read_csv()"
   ]
  },
  {
   "cell_type": "code",
   "execution_count": 5,
   "metadata": {
    "notebookRunGroups": {
     "groupValue": "1"
    }
   },
   "outputs": [],
   "source": [
    "def scan_xlsx2csv(path: str = XLSX_FILE) -> pl.DataFrame:\n",
    "    return pl.read_excel(path, engine='xlsx2csv')"
   ]
  },
  {
   "cell_type": "code",
   "execution_count": 13,
   "metadata": {
    "notebookRunGroups": {
     "groupValue": ""
    }
   },
   "outputs": [
    {
     "name": "stdout",
     "output_type": "stream",
     "text": [
      "rows: 341376 columns: 67\n"
     ]
    },
    {
     "data": {
      "text/html": [
       "<div><style>\n",
       ".dataframe > thead > tr > th,\n",
       ".dataframe > tbody > tr > td {\n",
       "  text-align: right;\n",
       "  white-space: pre-wrap;\n",
       "}\n",
       "</style>\n",
       "<small>shape: (5, 67)</small><table border=\"1\" class=\"dataframe\"><thead><tr><th>iso_code</th><th>continent</th><th>location</th><th>date</th><th>total_cases</th><th>new_cases</th><th>new_cases_smoothed</th><th>total_deaths</th><th>new_deaths</th><th>new_deaths_smoothed</th><th>total_cases_per_million</th><th>new_cases_per_million</th><th>new_cases_smoothed_per_million</th><th>total_deaths_per_million</th><th>new_deaths_per_million</th><th>new_deaths_smoothed_per_million</th><th>reproduction_rate</th><th>icu_patients</th><th>icu_patients_per_million</th><th>hosp_patients</th><th>hosp_patients_per_million</th><th>weekly_icu_admissions</th><th>weekly_icu_admissions_per_million</th><th>weekly_hosp_admissions</th><th>weekly_hosp_admissions_per_million</th><th>total_tests</th><th>new_tests</th><th>total_tests_per_thousand</th><th>new_tests_per_thousand</th><th>new_tests_smoothed</th><th>new_tests_smoothed_per_thousand</th><th>positive_rate</th><th>tests_per_case</th><th>tests_units</th><th>total_vaccinations</th><th>people_vaccinated</th><th>people_fully_vaccinated</th><th>total_boosters</th><th>new_vaccinations</th><th>new_vaccinations_smoothed</th><th>total_vaccinations_per_hundred</th><th>people_vaccinated_per_hundred</th><th>people_fully_vaccinated_per_hundred</th><th>total_boosters_per_hundred</th><th>new_vaccinations_smoothed_per_million</th><th>new_people_vaccinated_smoothed</th><th>new_people_vaccinated_smoothed_per_hundred</th><th>stringency_index</th><th>population_density</th><th>median_age</th><th>aged_65_older</th><th>aged_70_older</th><th>gdp_per_capita</th><th>extreme_poverty</th><th>cardiovasc_death_rate</th><th>diabetes_prevalence</th><th>female_smokers</th><th>male_smokers</th><th>handwashing_facilities</th><th>hospital_beds_per_thousand</th><th>life_expectancy</th><th>human_development_index</th><th>population</th><th>excess_mortality_cumulative_absolute</th><th>excess_mortality_cumulative</th><th>excess_mortality</th><th>excess_mortality_cumulative_per_million</th></tr><tr><td>str</td><td>str</td><td>str</td><td>str</td><td>f64</td><td>f64</td><td>f64</td><td>f64</td><td>f64</td><td>f64</td><td>f64</td><td>f64</td><td>f64</td><td>f64</td><td>f64</td><td>f64</td><td>f64</td><td>str</td><td>str</td><td>str</td><td>str</td><td>str</td><td>str</td><td>str</td><td>str</td><td>str</td><td>str</td><td>str</td><td>str</td><td>str</td><td>str</td><td>str</td><td>str</td><td>str</td><td>str</td><td>str</td><td>str</td><td>str</td><td>str</td><td>str</td><td>str</td><td>str</td><td>str</td><td>str</td><td>str</td><td>str</td><td>str</td><td>f64</td><td>f64</td><td>f64</td><td>f64</td><td>f64</td><td>f64</td><td>str</td><td>f64</td><td>f64</td><td>str</td><td>str</td><td>f64</td><td>f64</td><td>f64</td><td>f64</td><td>f64</td><td>str</td><td>str</td><td>str</td><td>str</td></tr></thead><tbody><tr><td>&quot;AFG&quot;</td><td>&quot;Asia&quot;</td><td>&quot;Afghanistan&quot;</td><td>&quot;01-03-20&quot;</td><td>null</td><td>0.0</td><td>null</td><td>null</td><td>0.0</td><td>null</td><td>null</td><td>0.0</td><td>null</td><td>null</td><td>0.0</td><td>null</td><td>null</td><td>null</td><td>null</td><td>null</td><td>null</td><td>null</td><td>null</td><td>null</td><td>null</td><td>null</td><td>null</td><td>null</td><td>null</td><td>null</td><td>null</td><td>null</td><td>null</td><td>null</td><td>null</td><td>null</td><td>null</td><td>null</td><td>null</td><td>null</td><td>null</td><td>null</td><td>null</td><td>null</td><td>null</td><td>null</td><td>null</td><td>0.0</td><td>54.422</td><td>45095.0</td><td>2.581</td><td>1.337</td><td>1803.987</td><td>null</td><td>597.029</td><td>21794.0</td><td>null</td><td>null</td><td>37.746</td><td>0.5</td><td>64.83</td><td>0.511</td><td>4.1128772e7</td><td>null</td><td>null</td><td>null</td><td>null</td></tr><tr><td>&quot;AFG&quot;</td><td>&quot;Asia&quot;</td><td>&quot;Afghanistan&quot;</td><td>&quot;01-04-20&quot;</td><td>null</td><td>0.0</td><td>null</td><td>null</td><td>0.0</td><td>null</td><td>null</td><td>0.0</td><td>null</td><td>null</td><td>0.0</td><td>null</td><td>null</td><td>null</td><td>null</td><td>null</td><td>null</td><td>null</td><td>null</td><td>null</td><td>null</td><td>null</td><td>null</td><td>null</td><td>null</td><td>null</td><td>null</td><td>null</td><td>null</td><td>null</td><td>null</td><td>null</td><td>null</td><td>null</td><td>null</td><td>null</td><td>null</td><td>null</td><td>null</td><td>null</td><td>null</td><td>null</td><td>null</td><td>0.0</td><td>54.422</td><td>45095.0</td><td>2.581</td><td>1.337</td><td>1803.987</td><td>null</td><td>597.029</td><td>21794.0</td><td>null</td><td>null</td><td>37.746</td><td>0.5</td><td>64.83</td><td>0.511</td><td>4.1128772e7</td><td>null</td><td>null</td><td>null</td><td>null</td></tr><tr><td>&quot;AFG&quot;</td><td>&quot;Asia&quot;</td><td>&quot;Afghanistan&quot;</td><td>&quot;01-05-20&quot;</td><td>null</td><td>0.0</td><td>null</td><td>null</td><td>0.0</td><td>null</td><td>null</td><td>0.0</td><td>null</td><td>null</td><td>0.0</td><td>null</td><td>null</td><td>null</td><td>null</td><td>null</td><td>null</td><td>null</td><td>null</td><td>null</td><td>null</td><td>null</td><td>null</td><td>null</td><td>null</td><td>null</td><td>null</td><td>null</td><td>null</td><td>null</td><td>null</td><td>null</td><td>null</td><td>null</td><td>null</td><td>null</td><td>null</td><td>null</td><td>null</td><td>null</td><td>null</td><td>null</td><td>null</td><td>0.0</td><td>54.422</td><td>45095.0</td><td>2.581</td><td>1.337</td><td>1803.987</td><td>null</td><td>597.029</td><td>21794.0</td><td>null</td><td>null</td><td>37.746</td><td>0.5</td><td>64.83</td><td>0.511</td><td>4.1128772e7</td><td>null</td><td>null</td><td>null</td><td>null</td></tr><tr><td>&quot;AFG&quot;</td><td>&quot;Asia&quot;</td><td>&quot;Afghanistan&quot;</td><td>&quot;01-06-20&quot;</td><td>null</td><td>0.0</td><td>null</td><td>null</td><td>0.0</td><td>null</td><td>null</td><td>0.0</td><td>null</td><td>null</td><td>0.0</td><td>null</td><td>null</td><td>null</td><td>null</td><td>null</td><td>null</td><td>null</td><td>null</td><td>null</td><td>null</td><td>null</td><td>null</td><td>null</td><td>null</td><td>null</td><td>null</td><td>null</td><td>null</td><td>null</td><td>null</td><td>null</td><td>null</td><td>null</td><td>null</td><td>null</td><td>null</td><td>null</td><td>null</td><td>null</td><td>null</td><td>null</td><td>null</td><td>0.0</td><td>54.422</td><td>45095.0</td><td>2.581</td><td>1.337</td><td>1803.987</td><td>null</td><td>597.029</td><td>21794.0</td><td>null</td><td>null</td><td>37.746</td><td>0.5</td><td>64.83</td><td>0.511</td><td>4.1128772e7</td><td>null</td><td>null</td><td>null</td><td>null</td></tr><tr><td>&quot;AFG&quot;</td><td>&quot;Asia&quot;</td><td>&quot;Afghanistan&quot;</td><td>&quot;01-07-20&quot;</td><td>null</td><td>0.0</td><td>null</td><td>null</td><td>0.0</td><td>null</td><td>null</td><td>0.0</td><td>null</td><td>null</td><td>0.0</td><td>null</td><td>null</td><td>null</td><td>null</td><td>null</td><td>null</td><td>null</td><td>null</td><td>null</td><td>null</td><td>null</td><td>null</td><td>null</td><td>null</td><td>null</td><td>null</td><td>null</td><td>null</td><td>null</td><td>null</td><td>null</td><td>null</td><td>null</td><td>null</td><td>null</td><td>null</td><td>null</td><td>null</td><td>null</td><td>null</td><td>null</td><td>null</td><td>0.0</td><td>54.422</td><td>45095.0</td><td>2.581</td><td>1.337</td><td>1803.987</td><td>null</td><td>597.029</td><td>21794.0</td><td>null</td><td>null</td><td>37.746</td><td>0.5</td><td>64.83</td><td>0.511</td><td>4.1128772e7</td><td>null</td><td>null</td><td>null</td><td>null</td></tr></tbody></table></div>"
      ]
     },
     "metadata": {},
     "output_type": "display_data"
    }
   ],
   "source": [
    "# NOTE: It's fine, but date columns have incorrect datatype, and are not ISO-dates.\n",
    "show_df(scan_xlsx2csv())\n",
    "# 4m 41.7s  (341376 rows, 67 columns)"
   ]
  },
  {
   "attachments": {},
   "cell_type": "markdown",
   "metadata": {},
   "source": [
    "### OpenPyXL: Scan xlsx only"
   ]
  },
  {
   "cell_type": "code",
   "execution_count": 6,
   "metadata": {
    "notebookRunGroups": {
     "groupValue": "1"
    }
   },
   "outputs": [],
   "source": [
    "def scan_openpyxl(path: str = XLSX_FILE) -> pl.DataFrame:\n",
    "    return pl.read_excel(path, engine='openpyxl')"
   ]
  },
  {
   "cell_type": "code",
   "execution_count": 14,
   "metadata": {
    "notebookRunGroups": {
     "groupValue": ""
    }
   },
   "outputs": [
    {
     "name": "stdout",
     "output_type": "stream",
     "text": [
      "rows: 341376 columns: 67\n"
     ]
    },
    {
     "data": {
      "text/html": [
       "<div><style>\n",
       ".dataframe > thead > tr > th,\n",
       ".dataframe > tbody > tr > td {\n",
       "  text-align: right;\n",
       "  white-space: pre-wrap;\n",
       "}\n",
       "</style>\n",
       "<small>shape: (5, 67)</small><table border=\"1\" class=\"dataframe\"><thead><tr><th>iso_code</th><th>continent</th><th>location</th><th>date</th><th>total_cases</th><th>new_cases</th><th>new_cases_smoothed</th><th>total_deaths</th><th>new_deaths</th><th>new_deaths_smoothed</th><th>total_cases_per_million</th><th>new_cases_per_million</th><th>new_cases_smoothed_per_million</th><th>total_deaths_per_million</th><th>new_deaths_per_million</th><th>new_deaths_smoothed_per_million</th><th>reproduction_rate</th><th>icu_patients</th><th>icu_patients_per_million</th><th>hosp_patients</th><th>hosp_patients_per_million</th><th>weekly_icu_admissions</th><th>weekly_icu_admissions_per_million</th><th>weekly_hosp_admissions</th><th>weekly_hosp_admissions_per_million</th><th>total_tests</th><th>new_tests</th><th>total_tests_per_thousand</th><th>new_tests_per_thousand</th><th>new_tests_smoothed</th><th>new_tests_smoothed_per_thousand</th><th>positive_rate</th><th>tests_per_case</th><th>tests_units</th><th>total_vaccinations</th><th>people_vaccinated</th><th>people_fully_vaccinated</th><th>total_boosters</th><th>new_vaccinations</th><th>new_vaccinations_smoothed</th><th>total_vaccinations_per_hundred</th><th>people_vaccinated_per_hundred</th><th>people_fully_vaccinated_per_hundred</th><th>total_boosters_per_hundred</th><th>new_vaccinations_smoothed_per_million</th><th>new_people_vaccinated_smoothed</th><th>new_people_vaccinated_smoothed_per_hundred</th><th>stringency_index</th><th>population_density</th><th>median_age</th><th>aged_65_older</th><th>aged_70_older</th><th>gdp_per_capita</th><th>extreme_poverty</th><th>cardiovasc_death_rate</th><th>diabetes_prevalence</th><th>female_smokers</th><th>male_smokers</th><th>handwashing_facilities</th><th>hospital_beds_per_thousand</th><th>life_expectancy</th><th>human_development_index</th><th>population</th><th>excess_mortality_cumulative_absolute</th><th>excess_mortality_cumulative</th><th>excess_mortality</th><th>excess_mortality_cumulative_per_million</th></tr><tr><td>str</td><td>str</td><td>str</td><td>datetime[μs]</td><td>str</td><td>str</td><td>str</td><td>str</td><td>str</td><td>str</td><td>str</td><td>str</td><td>str</td><td>str</td><td>str</td><td>str</td><td>str</td><td>str</td><td>str</td><td>str</td><td>str</td><td>str</td><td>str</td><td>str</td><td>str</td><td>str</td><td>str</td><td>str</td><td>str</td><td>str</td><td>str</td><td>str</td><td>str</td><td>str</td><td>str</td><td>str</td><td>str</td><td>str</td><td>str</td><td>str</td><td>str</td><td>str</td><td>str</td><td>str</td><td>str</td><td>str</td><td>str</td><td>str</td><td>str</td><td>str</td><td>str</td><td>str</td><td>str</td><td>str</td><td>str</td><td>str</td><td>str</td><td>str</td><td>str</td><td>str</td><td>str</td><td>str</td><td>str</td><td>str</td><td>str</td><td>str</td><td>str</td></tr></thead><tbody><tr><td>&quot;AFG&quot;</td><td>&quot;Asia&quot;</td><td>&quot;Afghanistan&quot;</td><td>2020-01-03 00:00:00</td><td>null</td><td>&quot;0.0&quot;</td><td>null</td><td>null</td><td>&quot;0.0&quot;</td><td>null</td><td>null</td><td>&quot;0.0&quot;</td><td>null</td><td>null</td><td>&quot;0.0&quot;</td><td>null</td><td>null</td><td>null</td><td>null</td><td>null</td><td>null</td><td>null</td><td>null</td><td>null</td><td>null</td><td>null</td><td>null</td><td>null</td><td>null</td><td>null</td><td>null</td><td>null</td><td>null</td><td>null</td><td>null</td><td>null</td><td>null</td><td>null</td><td>null</td><td>null</td><td>null</td><td>null</td><td>null</td><td>null</td><td>null</td><td>null</td><td>null</td><td>&quot;0.0&quot;</td><td>&quot;54.422&quot;</td><td>null</td><td>&quot;2.581&quot;</td><td>&quot;1.337&quot;</td><td>&quot;1803.987&quot;</td><td>null</td><td>&quot;597.029&quot;</td><td>null</td><td>null</td><td>null</td><td>&quot;37.746&quot;</td><td>&quot;0.5&quot;</td><td>&quot;64.83&quot;</td><td>&quot;0.511&quot;</td><td>&quot;41128772.0&quot;</td><td>null</td><td>null</td><td>null</td><td>null</td></tr><tr><td>&quot;AFG&quot;</td><td>&quot;Asia&quot;</td><td>&quot;Afghanistan&quot;</td><td>2020-01-04 00:00:00</td><td>null</td><td>&quot;0.0&quot;</td><td>null</td><td>null</td><td>&quot;0.0&quot;</td><td>null</td><td>null</td><td>&quot;0.0&quot;</td><td>null</td><td>null</td><td>&quot;0.0&quot;</td><td>null</td><td>null</td><td>null</td><td>null</td><td>null</td><td>null</td><td>null</td><td>null</td><td>null</td><td>null</td><td>null</td><td>null</td><td>null</td><td>null</td><td>null</td><td>null</td><td>null</td><td>null</td><td>null</td><td>null</td><td>null</td><td>null</td><td>null</td><td>null</td><td>null</td><td>null</td><td>null</td><td>null</td><td>null</td><td>null</td><td>null</td><td>null</td><td>&quot;0.0&quot;</td><td>&quot;54.422&quot;</td><td>null</td><td>&quot;2.581&quot;</td><td>&quot;1.337&quot;</td><td>&quot;1803.987&quot;</td><td>null</td><td>&quot;597.029&quot;</td><td>null</td><td>null</td><td>null</td><td>&quot;37.746&quot;</td><td>&quot;0.5&quot;</td><td>&quot;64.83&quot;</td><td>&quot;0.511&quot;</td><td>&quot;41128772.0&quot;</td><td>null</td><td>null</td><td>null</td><td>null</td></tr><tr><td>&quot;AFG&quot;</td><td>&quot;Asia&quot;</td><td>&quot;Afghanistan&quot;</td><td>2020-01-05 00:00:00</td><td>null</td><td>&quot;0.0&quot;</td><td>null</td><td>null</td><td>&quot;0.0&quot;</td><td>null</td><td>null</td><td>&quot;0.0&quot;</td><td>null</td><td>null</td><td>&quot;0.0&quot;</td><td>null</td><td>null</td><td>null</td><td>null</td><td>null</td><td>null</td><td>null</td><td>null</td><td>null</td><td>null</td><td>null</td><td>null</td><td>null</td><td>null</td><td>null</td><td>null</td><td>null</td><td>null</td><td>null</td><td>null</td><td>null</td><td>null</td><td>null</td><td>null</td><td>null</td><td>null</td><td>null</td><td>null</td><td>null</td><td>null</td><td>null</td><td>null</td><td>&quot;0.0&quot;</td><td>&quot;54.422&quot;</td><td>null</td><td>&quot;2.581&quot;</td><td>&quot;1.337&quot;</td><td>&quot;1803.987&quot;</td><td>null</td><td>&quot;597.029&quot;</td><td>null</td><td>null</td><td>null</td><td>&quot;37.746&quot;</td><td>&quot;0.5&quot;</td><td>&quot;64.83&quot;</td><td>&quot;0.511&quot;</td><td>&quot;41128772.0&quot;</td><td>null</td><td>null</td><td>null</td><td>null</td></tr><tr><td>&quot;AFG&quot;</td><td>&quot;Asia&quot;</td><td>&quot;Afghanistan&quot;</td><td>2020-01-06 00:00:00</td><td>null</td><td>&quot;0.0&quot;</td><td>null</td><td>null</td><td>&quot;0.0&quot;</td><td>null</td><td>null</td><td>&quot;0.0&quot;</td><td>null</td><td>null</td><td>&quot;0.0&quot;</td><td>null</td><td>null</td><td>null</td><td>null</td><td>null</td><td>null</td><td>null</td><td>null</td><td>null</td><td>null</td><td>null</td><td>null</td><td>null</td><td>null</td><td>null</td><td>null</td><td>null</td><td>null</td><td>null</td><td>null</td><td>null</td><td>null</td><td>null</td><td>null</td><td>null</td><td>null</td><td>null</td><td>null</td><td>null</td><td>null</td><td>null</td><td>null</td><td>&quot;0.0&quot;</td><td>&quot;54.422&quot;</td><td>null</td><td>&quot;2.581&quot;</td><td>&quot;1.337&quot;</td><td>&quot;1803.987&quot;</td><td>null</td><td>&quot;597.029&quot;</td><td>null</td><td>null</td><td>null</td><td>&quot;37.746&quot;</td><td>&quot;0.5&quot;</td><td>&quot;64.83&quot;</td><td>&quot;0.511&quot;</td><td>&quot;41128772.0&quot;</td><td>null</td><td>null</td><td>null</td><td>null</td></tr><tr><td>&quot;AFG&quot;</td><td>&quot;Asia&quot;</td><td>&quot;Afghanistan&quot;</td><td>2020-01-07 00:00:00</td><td>null</td><td>&quot;0.0&quot;</td><td>null</td><td>null</td><td>&quot;0.0&quot;</td><td>null</td><td>null</td><td>&quot;0.0&quot;</td><td>null</td><td>null</td><td>&quot;0.0&quot;</td><td>null</td><td>null</td><td>null</td><td>null</td><td>null</td><td>null</td><td>null</td><td>null</td><td>null</td><td>null</td><td>null</td><td>null</td><td>null</td><td>null</td><td>null</td><td>null</td><td>null</td><td>null</td><td>null</td><td>null</td><td>null</td><td>null</td><td>null</td><td>null</td><td>null</td><td>null</td><td>null</td><td>null</td><td>null</td><td>null</td><td>null</td><td>null</td><td>&quot;0.0&quot;</td><td>&quot;54.422&quot;</td><td>null</td><td>&quot;2.581&quot;</td><td>&quot;1.337&quot;</td><td>&quot;1803.987&quot;</td><td>null</td><td>&quot;597.029&quot;</td><td>null</td><td>null</td><td>null</td><td>&quot;37.746&quot;</td><td>&quot;0.5&quot;</td><td>&quot;64.83&quot;</td><td>&quot;0.511&quot;</td><td>&quot;41128772.0&quot;</td><td>null</td><td>null</td><td>null</td><td>null</td></tr></tbody></table></div>"
      ]
     },
     "metadata": {},
     "output_type": "display_data"
    }
   ],
   "source": [
    "# NOTE: median_age column has missing data.\n",
    "show_df(scan_openpyxl())\n",
    "# 22m 51.3s"
   ]
  },
  {
   "attachments": {},
   "cell_type": "markdown",
   "metadata": {},
   "source": [
    "### PyXLSB: Scan xlsb only"
   ]
  },
  {
   "cell_type": "code",
   "execution_count": 7,
   "metadata": {
    "notebookRunGroups": {
     "groupValue": "1"
    }
   },
   "outputs": [],
   "source": [
    "def scan_pyxlsb(path: str = XLSB_FILE, tq: bool = False) -> pl.DataFrame:\n",
    "    with pyxlsb.open_workbook(path) as wb:\n",
    "        sheet = wb.get_sheet(1)\n",
    "\n",
    "        row_it = sheet.rows(True)\n",
    "        \n",
    "        head = list(map(lambda cell: str(cell[1].v) if cell[1].v else f'Unnamed: {cell[0]}', enumerate(next(row_it))))\n",
    "        schema = dict.fromkeys(head, pl.Utf8)\n",
    "        # NOTE: pyxlsb not recognized dates automatically - you can do this manually, but xl/styles.bin parsing required.\n",
    "        data_it = (\n",
    "            [str(cell.v) if cell.v else None for cell in row] for row in row_it\n",
    "        )\n",
    "        if tq:\n",
    "            data_it = tqdm(data_it)\n",
    "        \n",
    "        return pl.DataFrame(list(data_it), schema, orient='row')"
   ]
  },
  {
   "cell_type": "code",
   "execution_count": 16,
   "metadata": {
    "notebookRunGroups": {
     "groupValue": ""
    }
   },
   "outputs": [
    {
     "name": "stdout",
     "output_type": "stream",
     "text": [
      "rows: 341376 columns: 67\n"
     ]
    },
    {
     "data": {
      "text/html": [
       "<div><style>\n",
       ".dataframe > thead > tr > th,\n",
       ".dataframe > tbody > tr > td {\n",
       "  text-align: right;\n",
       "  white-space: pre-wrap;\n",
       "}\n",
       "</style>\n",
       "<small>shape: (5, 67)</small><table border=\"1\" class=\"dataframe\"><thead><tr><th>iso_code</th><th>continent</th><th>location</th><th>date</th><th>total_cases</th><th>new_cases</th><th>new_cases_smoothed</th><th>total_deaths</th><th>new_deaths</th><th>new_deaths_smoothed</th><th>total_cases_per_million</th><th>new_cases_per_million</th><th>new_cases_smoothed_per_million</th><th>total_deaths_per_million</th><th>new_deaths_per_million</th><th>new_deaths_smoothed_per_million</th><th>reproduction_rate</th><th>icu_patients</th><th>icu_patients_per_million</th><th>hosp_patients</th><th>hosp_patients_per_million</th><th>weekly_icu_admissions</th><th>weekly_icu_admissions_per_million</th><th>weekly_hosp_admissions</th><th>weekly_hosp_admissions_per_million</th><th>total_tests</th><th>new_tests</th><th>total_tests_per_thousand</th><th>new_tests_per_thousand</th><th>new_tests_smoothed</th><th>new_tests_smoothed_per_thousand</th><th>positive_rate</th><th>tests_per_case</th><th>tests_units</th><th>total_vaccinations</th><th>people_vaccinated</th><th>people_fully_vaccinated</th><th>total_boosters</th><th>new_vaccinations</th><th>new_vaccinations_smoothed</th><th>total_vaccinations_per_hundred</th><th>people_vaccinated_per_hundred</th><th>people_fully_vaccinated_per_hundred</th><th>total_boosters_per_hundred</th><th>new_vaccinations_smoothed_per_million</th><th>new_people_vaccinated_smoothed</th><th>new_people_vaccinated_smoothed_per_hundred</th><th>stringency_index</th><th>population_density</th><th>median_age</th><th>aged_65_older</th><th>aged_70_older</th><th>gdp_per_capita</th><th>extreme_poverty</th><th>cardiovasc_death_rate</th><th>diabetes_prevalence</th><th>female_smokers</th><th>male_smokers</th><th>handwashing_facilities</th><th>hospital_beds_per_thousand</th><th>life_expectancy</th><th>human_development_index</th><th>population</th><th>excess_mortality_cumulative_absolute</th><th>excess_mortality_cumulative</th><th>excess_mortality</th><th>excess_mortality_cumulative_per_million</th></tr><tr><td>str</td><td>str</td><td>str</td><td>str</td><td>str</td><td>str</td><td>str</td><td>str</td><td>str</td><td>str</td><td>str</td><td>str</td><td>str</td><td>str</td><td>str</td><td>str</td><td>str</td><td>str</td><td>str</td><td>str</td><td>str</td><td>str</td><td>str</td><td>str</td><td>str</td><td>str</td><td>str</td><td>str</td><td>str</td><td>str</td><td>str</td><td>str</td><td>str</td><td>str</td><td>str</td><td>str</td><td>str</td><td>str</td><td>str</td><td>str</td><td>str</td><td>str</td><td>str</td><td>str</td><td>str</td><td>str</td><td>str</td><td>str</td><td>str</td><td>str</td><td>str</td><td>str</td><td>str</td><td>str</td><td>str</td><td>str</td><td>str</td><td>str</td><td>str</td><td>str</td><td>str</td><td>str</td><td>str</td><td>str</td><td>str</td><td>str</td><td>str</td></tr></thead><tbody><tr><td>&quot;AFG&quot;</td><td>&quot;Asia&quot;</td><td>&quot;Afghanistan&quot;</td><td>&quot;43833.0&quot;</td><td>null</td><td>&quot;0.0&quot;</td><td>null</td><td>null</td><td>&quot;0.0&quot;</td><td>null</td><td>null</td><td>&quot;0.0&quot;</td><td>null</td><td>null</td><td>&quot;0.0&quot;</td><td>null</td><td>null</td><td>null</td><td>null</td><td>null</td><td>null</td><td>null</td><td>null</td><td>null</td><td>null</td><td>null</td><td>null</td><td>null</td><td>null</td><td>null</td><td>null</td><td>null</td><td>null</td><td>null</td><td>null</td><td>null</td><td>null</td><td>null</td><td>null</td><td>null</td><td>null</td><td>null</td><td>null</td><td>null</td><td>null</td><td>null</td><td>null</td><td>&quot;0.0&quot;</td><td>&quot;54.422&quot;</td><td>&quot;45095.0&quot;</td><td>&quot;2.581&quot;</td><td>&quot;1.337&quot;</td><td>&quot;1803.987&quot;</td><td>null</td><td>&quot;597.029&quot;</td><td>&quot;21794.0&quot;</td><td>null</td><td>null</td><td>&quot;37.746&quot;</td><td>&quot;0.5&quot;</td><td>&quot;64.83&quot;</td><td>&quot;0.511&quot;</td><td>&quot;41128772.0&quot;</td><td>null</td><td>null</td><td>null</td><td>null</td></tr><tr><td>&quot;AFG&quot;</td><td>&quot;Asia&quot;</td><td>&quot;Afghanistan&quot;</td><td>&quot;43834.0&quot;</td><td>null</td><td>&quot;0.0&quot;</td><td>null</td><td>null</td><td>&quot;0.0&quot;</td><td>null</td><td>null</td><td>&quot;0.0&quot;</td><td>null</td><td>null</td><td>&quot;0.0&quot;</td><td>null</td><td>null</td><td>null</td><td>null</td><td>null</td><td>null</td><td>null</td><td>null</td><td>null</td><td>null</td><td>null</td><td>null</td><td>null</td><td>null</td><td>null</td><td>null</td><td>null</td><td>null</td><td>null</td><td>null</td><td>null</td><td>null</td><td>null</td><td>null</td><td>null</td><td>null</td><td>null</td><td>null</td><td>null</td><td>null</td><td>null</td><td>null</td><td>&quot;0.0&quot;</td><td>&quot;54.422&quot;</td><td>&quot;45095.0&quot;</td><td>&quot;2.581&quot;</td><td>&quot;1.337&quot;</td><td>&quot;1803.987&quot;</td><td>null</td><td>&quot;597.029&quot;</td><td>&quot;21794.0&quot;</td><td>null</td><td>null</td><td>&quot;37.746&quot;</td><td>&quot;0.5&quot;</td><td>&quot;64.83&quot;</td><td>&quot;0.511&quot;</td><td>&quot;41128772.0&quot;</td><td>null</td><td>null</td><td>null</td><td>null</td></tr><tr><td>&quot;AFG&quot;</td><td>&quot;Asia&quot;</td><td>&quot;Afghanistan&quot;</td><td>&quot;43835.0&quot;</td><td>null</td><td>&quot;0.0&quot;</td><td>null</td><td>null</td><td>&quot;0.0&quot;</td><td>null</td><td>null</td><td>&quot;0.0&quot;</td><td>null</td><td>null</td><td>&quot;0.0&quot;</td><td>null</td><td>null</td><td>null</td><td>null</td><td>null</td><td>null</td><td>null</td><td>null</td><td>null</td><td>null</td><td>null</td><td>null</td><td>null</td><td>null</td><td>null</td><td>null</td><td>null</td><td>null</td><td>null</td><td>null</td><td>null</td><td>null</td><td>null</td><td>null</td><td>null</td><td>null</td><td>null</td><td>null</td><td>null</td><td>null</td><td>null</td><td>null</td><td>&quot;0.0&quot;</td><td>&quot;54.422&quot;</td><td>&quot;45095.0&quot;</td><td>&quot;2.581&quot;</td><td>&quot;1.337&quot;</td><td>&quot;1803.987&quot;</td><td>null</td><td>&quot;597.029&quot;</td><td>&quot;21794.0&quot;</td><td>null</td><td>null</td><td>&quot;37.746&quot;</td><td>&quot;0.5&quot;</td><td>&quot;64.83&quot;</td><td>&quot;0.511&quot;</td><td>&quot;41128772.0&quot;</td><td>null</td><td>null</td><td>null</td><td>null</td></tr><tr><td>&quot;AFG&quot;</td><td>&quot;Asia&quot;</td><td>&quot;Afghanistan&quot;</td><td>&quot;43836.0&quot;</td><td>null</td><td>&quot;0.0&quot;</td><td>null</td><td>null</td><td>&quot;0.0&quot;</td><td>null</td><td>null</td><td>&quot;0.0&quot;</td><td>null</td><td>null</td><td>&quot;0.0&quot;</td><td>null</td><td>null</td><td>null</td><td>null</td><td>null</td><td>null</td><td>null</td><td>null</td><td>null</td><td>null</td><td>null</td><td>null</td><td>null</td><td>null</td><td>null</td><td>null</td><td>null</td><td>null</td><td>null</td><td>null</td><td>null</td><td>null</td><td>null</td><td>null</td><td>null</td><td>null</td><td>null</td><td>null</td><td>null</td><td>null</td><td>null</td><td>null</td><td>&quot;0.0&quot;</td><td>&quot;54.422&quot;</td><td>&quot;45095.0&quot;</td><td>&quot;2.581&quot;</td><td>&quot;1.337&quot;</td><td>&quot;1803.987&quot;</td><td>null</td><td>&quot;597.029&quot;</td><td>&quot;21794.0&quot;</td><td>null</td><td>null</td><td>&quot;37.746&quot;</td><td>&quot;0.5&quot;</td><td>&quot;64.83&quot;</td><td>&quot;0.511&quot;</td><td>&quot;41128772.0&quot;</td><td>null</td><td>null</td><td>null</td><td>null</td></tr><tr><td>&quot;AFG&quot;</td><td>&quot;Asia&quot;</td><td>&quot;Afghanistan&quot;</td><td>&quot;43837.0&quot;</td><td>null</td><td>&quot;0.0&quot;</td><td>null</td><td>null</td><td>&quot;0.0&quot;</td><td>null</td><td>null</td><td>&quot;0.0&quot;</td><td>null</td><td>null</td><td>&quot;0.0&quot;</td><td>null</td><td>null</td><td>null</td><td>null</td><td>null</td><td>null</td><td>null</td><td>null</td><td>null</td><td>null</td><td>null</td><td>null</td><td>null</td><td>null</td><td>null</td><td>null</td><td>null</td><td>null</td><td>null</td><td>null</td><td>null</td><td>null</td><td>null</td><td>null</td><td>null</td><td>null</td><td>null</td><td>null</td><td>null</td><td>null</td><td>null</td><td>null</td><td>&quot;0.0&quot;</td><td>&quot;54.422&quot;</td><td>&quot;45095.0&quot;</td><td>&quot;2.581&quot;</td><td>&quot;1.337&quot;</td><td>&quot;1803.987&quot;</td><td>null</td><td>&quot;597.029&quot;</td><td>&quot;21794.0&quot;</td><td>null</td><td>null</td><td>&quot;37.746&quot;</td><td>&quot;0.5&quot;</td><td>&quot;64.83&quot;</td><td>&quot;0.511&quot;</td><td>&quot;41128772.0&quot;</td><td>null</td><td>null</td><td>null</td><td>null</td></tr></tbody></table></div>"
      ]
     },
     "metadata": {},
     "output_type": "display_data"
    }
   ],
   "source": [
    "show_df(scan_pyxlsb())"
   ]
  },
  {
   "attachments": {},
   "cell_type": "markdown",
   "metadata": {},
   "source": [
    "## Benchmarks"
   ]
  },
  {
   "attachments": {},
   "cell_type": "markdown",
   "metadata": {},
   "source": [
    "### Timeit"
   ]
  },
  {
   "attachments": {},
   "cell_type": "markdown",
   "metadata": {},
   "source": [
    "*For these tests, I've reload kernel between tests, for better consistency*"
   ]
  },
  {
   "cell_type": "code",
   "execution_count": 12,
   "metadata": {
    "notebookRunGroups": {
     "groupValue": "2"
    }
   },
   "outputs": [
    {
     "name": "stdout",
     "output_type": "stream",
     "text": [
      "CPU times: total: 4min 57s\n",
      "Wall time: 5min 5s\n"
     ]
    },
    {
     "data": {
      "text/html": [
       "<div><style>\n",
       ".dataframe > thead > tr > th,\n",
       ".dataframe > tbody > tr > td {\n",
       "  text-align: right;\n",
       "  white-space: pre-wrap;\n",
       "}\n",
       "</style>\n",
       "<small>shape: (5, 67)</small><table border=\"1\" class=\"dataframe\"><thead><tr><th>iso_code</th><th>continent</th><th>location</th><th>date</th><th>total_cases</th><th>new_cases</th><th>new_cases_smoothed</th><th>total_deaths</th><th>new_deaths</th><th>new_deaths_smoothed</th><th>total_cases_per_million</th><th>new_cases_per_million</th><th>new_cases_smoothed_per_million</th><th>total_deaths_per_million</th><th>new_deaths_per_million</th><th>new_deaths_smoothed_per_million</th><th>reproduction_rate</th><th>icu_patients</th><th>icu_patients_per_million</th><th>hosp_patients</th><th>hosp_patients_per_million</th><th>weekly_icu_admissions</th><th>weekly_icu_admissions_per_million</th><th>weekly_hosp_admissions</th><th>weekly_hosp_admissions_per_million</th><th>total_tests</th><th>new_tests</th><th>total_tests_per_thousand</th><th>new_tests_per_thousand</th><th>new_tests_smoothed</th><th>new_tests_smoothed_per_thousand</th><th>positive_rate</th><th>tests_per_case</th><th>tests_units</th><th>total_vaccinations</th><th>people_vaccinated</th><th>people_fully_vaccinated</th><th>total_boosters</th><th>new_vaccinations</th><th>new_vaccinations_smoothed</th><th>total_vaccinations_per_hundred</th><th>people_vaccinated_per_hundred</th><th>people_fully_vaccinated_per_hundred</th><th>total_boosters_per_hundred</th><th>new_vaccinations_smoothed_per_million</th><th>new_people_vaccinated_smoothed</th><th>new_people_vaccinated_smoothed_per_hundred</th><th>stringency_index</th><th>population_density</th><th>median_age</th><th>aged_65_older</th><th>aged_70_older</th><th>gdp_per_capita</th><th>extreme_poverty</th><th>cardiovasc_death_rate</th><th>diabetes_prevalence</th><th>female_smokers</th><th>male_smokers</th><th>handwashing_facilities</th><th>hospital_beds_per_thousand</th><th>life_expectancy</th><th>human_development_index</th><th>population</th><th>excess_mortality_cumulative_absolute</th><th>excess_mortality_cumulative</th><th>excess_mortality</th><th>excess_mortality_cumulative_per_million</th></tr><tr><td>str</td><td>str</td><td>str</td><td>str</td><td>f64</td><td>f64</td><td>f64</td><td>f64</td><td>f64</td><td>f64</td><td>f64</td><td>f64</td><td>f64</td><td>f64</td><td>f64</td><td>f64</td><td>f64</td><td>str</td><td>str</td><td>str</td><td>str</td><td>str</td><td>str</td><td>str</td><td>str</td><td>str</td><td>str</td><td>str</td><td>str</td><td>str</td><td>str</td><td>str</td><td>str</td><td>str</td><td>str</td><td>str</td><td>str</td><td>str</td><td>str</td><td>str</td><td>str</td><td>str</td><td>str</td><td>str</td><td>str</td><td>str</td><td>str</td><td>f64</td><td>f64</td><td>f64</td><td>f64</td><td>f64</td><td>f64</td><td>str</td><td>f64</td><td>f64</td><td>str</td><td>str</td><td>f64</td><td>f64</td><td>f64</td><td>f64</td><td>f64</td><td>str</td><td>str</td><td>str</td><td>str</td></tr></thead><tbody><tr><td>&quot;AFG&quot;</td><td>&quot;Asia&quot;</td><td>&quot;Afghanistan&quot;</td><td>&quot;01-03-20&quot;</td><td>null</td><td>0.0</td><td>null</td><td>null</td><td>0.0</td><td>null</td><td>null</td><td>0.0</td><td>null</td><td>null</td><td>0.0</td><td>null</td><td>null</td><td>null</td><td>null</td><td>null</td><td>null</td><td>null</td><td>null</td><td>null</td><td>null</td><td>null</td><td>null</td><td>null</td><td>null</td><td>null</td><td>null</td><td>null</td><td>null</td><td>null</td><td>null</td><td>null</td><td>null</td><td>null</td><td>null</td><td>null</td><td>null</td><td>null</td><td>null</td><td>null</td><td>null</td><td>null</td><td>null</td><td>0.0</td><td>54.422</td><td>45095.0</td><td>2.581</td><td>1.337</td><td>1803.987</td><td>null</td><td>597.029</td><td>21794.0</td><td>null</td><td>null</td><td>37.746</td><td>0.5</td><td>64.83</td><td>0.511</td><td>4.1128772e7</td><td>null</td><td>null</td><td>null</td><td>null</td></tr><tr><td>&quot;AFG&quot;</td><td>&quot;Asia&quot;</td><td>&quot;Afghanistan&quot;</td><td>&quot;01-04-20&quot;</td><td>null</td><td>0.0</td><td>null</td><td>null</td><td>0.0</td><td>null</td><td>null</td><td>0.0</td><td>null</td><td>null</td><td>0.0</td><td>null</td><td>null</td><td>null</td><td>null</td><td>null</td><td>null</td><td>null</td><td>null</td><td>null</td><td>null</td><td>null</td><td>null</td><td>null</td><td>null</td><td>null</td><td>null</td><td>null</td><td>null</td><td>null</td><td>null</td><td>null</td><td>null</td><td>null</td><td>null</td><td>null</td><td>null</td><td>null</td><td>null</td><td>null</td><td>null</td><td>null</td><td>null</td><td>0.0</td><td>54.422</td><td>45095.0</td><td>2.581</td><td>1.337</td><td>1803.987</td><td>null</td><td>597.029</td><td>21794.0</td><td>null</td><td>null</td><td>37.746</td><td>0.5</td><td>64.83</td><td>0.511</td><td>4.1128772e7</td><td>null</td><td>null</td><td>null</td><td>null</td></tr><tr><td>&quot;AFG&quot;</td><td>&quot;Asia&quot;</td><td>&quot;Afghanistan&quot;</td><td>&quot;01-05-20&quot;</td><td>null</td><td>0.0</td><td>null</td><td>null</td><td>0.0</td><td>null</td><td>null</td><td>0.0</td><td>null</td><td>null</td><td>0.0</td><td>null</td><td>null</td><td>null</td><td>null</td><td>null</td><td>null</td><td>null</td><td>null</td><td>null</td><td>null</td><td>null</td><td>null</td><td>null</td><td>null</td><td>null</td><td>null</td><td>null</td><td>null</td><td>null</td><td>null</td><td>null</td><td>null</td><td>null</td><td>null</td><td>null</td><td>null</td><td>null</td><td>null</td><td>null</td><td>null</td><td>null</td><td>null</td><td>0.0</td><td>54.422</td><td>45095.0</td><td>2.581</td><td>1.337</td><td>1803.987</td><td>null</td><td>597.029</td><td>21794.0</td><td>null</td><td>null</td><td>37.746</td><td>0.5</td><td>64.83</td><td>0.511</td><td>4.1128772e7</td><td>null</td><td>null</td><td>null</td><td>null</td></tr><tr><td>&quot;AFG&quot;</td><td>&quot;Asia&quot;</td><td>&quot;Afghanistan&quot;</td><td>&quot;01-06-20&quot;</td><td>null</td><td>0.0</td><td>null</td><td>null</td><td>0.0</td><td>null</td><td>null</td><td>0.0</td><td>null</td><td>null</td><td>0.0</td><td>null</td><td>null</td><td>null</td><td>null</td><td>null</td><td>null</td><td>null</td><td>null</td><td>null</td><td>null</td><td>null</td><td>null</td><td>null</td><td>null</td><td>null</td><td>null</td><td>null</td><td>null</td><td>null</td><td>null</td><td>null</td><td>null</td><td>null</td><td>null</td><td>null</td><td>null</td><td>null</td><td>null</td><td>null</td><td>null</td><td>null</td><td>null</td><td>0.0</td><td>54.422</td><td>45095.0</td><td>2.581</td><td>1.337</td><td>1803.987</td><td>null</td><td>597.029</td><td>21794.0</td><td>null</td><td>null</td><td>37.746</td><td>0.5</td><td>64.83</td><td>0.511</td><td>4.1128772e7</td><td>null</td><td>null</td><td>null</td><td>null</td></tr><tr><td>&quot;AFG&quot;</td><td>&quot;Asia&quot;</td><td>&quot;Afghanistan&quot;</td><td>&quot;01-07-20&quot;</td><td>null</td><td>0.0</td><td>null</td><td>null</td><td>0.0</td><td>null</td><td>null</td><td>0.0</td><td>null</td><td>null</td><td>0.0</td><td>null</td><td>null</td><td>null</td><td>null</td><td>null</td><td>null</td><td>null</td><td>null</td><td>null</td><td>null</td><td>null</td><td>null</td><td>null</td><td>null</td><td>null</td><td>null</td><td>null</td><td>null</td><td>null</td><td>null</td><td>null</td><td>null</td><td>null</td><td>null</td><td>null</td><td>null</td><td>null</td><td>null</td><td>null</td><td>null</td><td>null</td><td>null</td><td>0.0</td><td>54.422</td><td>45095.0</td><td>2.581</td><td>1.337</td><td>1803.987</td><td>null</td><td>597.029</td><td>21794.0</td><td>null</td><td>null</td><td>37.746</td><td>0.5</td><td>64.83</td><td>0.511</td><td>4.1128772e7</td><td>null</td><td>null</td><td>null</td><td>null</td></tr></tbody></table></div>"
      ],
      "text/plain": [
       "shape: (5, 67)\n",
       "┌──────────┬───────────┬────────────┬──────────┬───┬───────────┬───────────┬───────────┬───────────┐\n",
       "│ iso_code ┆ continent ┆ location   ┆ date     ┆ … ┆ excess_mo ┆ excess_mo ┆ excess_mo ┆ excess_mo │\n",
       "│ ---      ┆ ---       ┆ ---        ┆ ---      ┆   ┆ rtality_c ┆ rtality_c ┆ rtality   ┆ rtality_c │\n",
       "│ str      ┆ str       ┆ str        ┆ str      ┆   ┆ umulative ┆ umulative ┆ ---       ┆ umulative │\n",
       "│          ┆           ┆            ┆          ┆   ┆ _abso…    ┆ ---       ┆ str       ┆ _per_…    │\n",
       "│          ┆           ┆            ┆          ┆   ┆ ---       ┆ str       ┆           ┆ ---       │\n",
       "│          ┆           ┆            ┆          ┆   ┆ str       ┆           ┆           ┆ str       │\n",
       "╞══════════╪═══════════╪════════════╪══════════╪═══╪═══════════╪═══════════╪═══════════╪═══════════╡\n",
       "│ AFG      ┆ Asia      ┆ Afghanista ┆ 01-03-20 ┆ … ┆ null      ┆ null      ┆ null      ┆ null      │\n",
       "│          ┆           ┆ n          ┆          ┆   ┆           ┆           ┆           ┆           │\n",
       "│ AFG      ┆ Asia      ┆ Afghanista ┆ 01-04-20 ┆ … ┆ null      ┆ null      ┆ null      ┆ null      │\n",
       "│          ┆           ┆ n          ┆          ┆   ┆           ┆           ┆           ┆           │\n",
       "│ AFG      ┆ Asia      ┆ Afghanista ┆ 01-05-20 ┆ … ┆ null      ┆ null      ┆ null      ┆ null      │\n",
       "│          ┆           ┆ n          ┆          ┆   ┆           ┆           ┆           ┆           │\n",
       "│ AFG      ┆ Asia      ┆ Afghanista ┆ 01-06-20 ┆ … ┆ null      ┆ null      ┆ null      ┆ null      │\n",
       "│          ┆           ┆ n          ┆          ┆   ┆           ┆           ┆           ┆           │\n",
       "│ AFG      ┆ Asia      ┆ Afghanista ┆ 01-07-20 ┆ … ┆ null      ┆ null      ┆ null      ┆ null      │\n",
       "│          ┆           ┆ n          ┆          ┆   ┆           ┆           ┆           ┆           │\n",
       "└──────────┴───────────┴────────────┴──────────┴───┴───────────┴───────────┴───────────┴───────────┘"
      ]
     },
     "execution_count": 12,
     "metadata": {},
     "output_type": "execute_result"
    }
   ],
   "source": [
    "%%time\n",
    "scan_xlsx2csv().head()"
   ]
  },
  {
   "cell_type": "code",
   "execution_count": 13,
   "metadata": {
    "notebookRunGroups": {
     "groupValue": "2"
    }
   },
   "outputs": [
    {
     "name": "stdout",
     "output_type": "stream",
     "text": [
      "CPU times: total: 17min 56s\n",
      "Wall time: 25min 18s\n"
     ]
    },
    {
     "data": {
      "text/html": [
       "<div><style>\n",
       ".dataframe > thead > tr > th,\n",
       ".dataframe > tbody > tr > td {\n",
       "  text-align: right;\n",
       "  white-space: pre-wrap;\n",
       "}\n",
       "</style>\n",
       "<small>shape: (5, 67)</small><table border=\"1\" class=\"dataframe\"><thead><tr><th>iso_code</th><th>continent</th><th>location</th><th>date</th><th>total_cases</th><th>new_cases</th><th>new_cases_smoothed</th><th>total_deaths</th><th>new_deaths</th><th>new_deaths_smoothed</th><th>total_cases_per_million</th><th>new_cases_per_million</th><th>new_cases_smoothed_per_million</th><th>total_deaths_per_million</th><th>new_deaths_per_million</th><th>new_deaths_smoothed_per_million</th><th>reproduction_rate</th><th>icu_patients</th><th>icu_patients_per_million</th><th>hosp_patients</th><th>hosp_patients_per_million</th><th>weekly_icu_admissions</th><th>weekly_icu_admissions_per_million</th><th>weekly_hosp_admissions</th><th>weekly_hosp_admissions_per_million</th><th>total_tests</th><th>new_tests</th><th>total_tests_per_thousand</th><th>new_tests_per_thousand</th><th>new_tests_smoothed</th><th>new_tests_smoothed_per_thousand</th><th>positive_rate</th><th>tests_per_case</th><th>tests_units</th><th>total_vaccinations</th><th>people_vaccinated</th><th>people_fully_vaccinated</th><th>total_boosters</th><th>new_vaccinations</th><th>new_vaccinations_smoothed</th><th>total_vaccinations_per_hundred</th><th>people_vaccinated_per_hundred</th><th>people_fully_vaccinated_per_hundred</th><th>total_boosters_per_hundred</th><th>new_vaccinations_smoothed_per_million</th><th>new_people_vaccinated_smoothed</th><th>new_people_vaccinated_smoothed_per_hundred</th><th>stringency_index</th><th>population_density</th><th>median_age</th><th>aged_65_older</th><th>aged_70_older</th><th>gdp_per_capita</th><th>extreme_poverty</th><th>cardiovasc_death_rate</th><th>diabetes_prevalence</th><th>female_smokers</th><th>male_smokers</th><th>handwashing_facilities</th><th>hospital_beds_per_thousand</th><th>life_expectancy</th><th>human_development_index</th><th>population</th><th>excess_mortality_cumulative_absolute</th><th>excess_mortality_cumulative</th><th>excess_mortality</th><th>excess_mortality_cumulative_per_million</th></tr><tr><td>str</td><td>str</td><td>str</td><td>datetime[μs]</td><td>str</td><td>str</td><td>str</td><td>str</td><td>str</td><td>str</td><td>str</td><td>str</td><td>str</td><td>str</td><td>str</td><td>str</td><td>str</td><td>str</td><td>str</td><td>str</td><td>str</td><td>str</td><td>str</td><td>str</td><td>str</td><td>str</td><td>str</td><td>str</td><td>str</td><td>str</td><td>str</td><td>str</td><td>str</td><td>str</td><td>str</td><td>str</td><td>str</td><td>str</td><td>str</td><td>str</td><td>str</td><td>str</td><td>str</td><td>str</td><td>str</td><td>str</td><td>str</td><td>str</td><td>str</td><td>str</td><td>str</td><td>str</td><td>str</td><td>str</td><td>str</td><td>str</td><td>str</td><td>str</td><td>str</td><td>str</td><td>str</td><td>str</td><td>str</td><td>str</td><td>str</td><td>str</td><td>str</td></tr></thead><tbody><tr><td>&quot;AFG&quot;</td><td>&quot;Asia&quot;</td><td>&quot;Afghanistan&quot;</td><td>2020-01-03 00:00:00</td><td>null</td><td>&quot;0.0&quot;</td><td>null</td><td>null</td><td>&quot;0.0&quot;</td><td>null</td><td>null</td><td>&quot;0.0&quot;</td><td>null</td><td>null</td><td>&quot;0.0&quot;</td><td>null</td><td>null</td><td>null</td><td>null</td><td>null</td><td>null</td><td>null</td><td>null</td><td>null</td><td>null</td><td>null</td><td>null</td><td>null</td><td>null</td><td>null</td><td>null</td><td>null</td><td>null</td><td>null</td><td>null</td><td>null</td><td>null</td><td>null</td><td>null</td><td>null</td><td>null</td><td>null</td><td>null</td><td>null</td><td>null</td><td>null</td><td>null</td><td>&quot;0.0&quot;</td><td>&quot;54.422&quot;</td><td>null</td><td>&quot;2.581&quot;</td><td>&quot;1.337&quot;</td><td>&quot;1803.987&quot;</td><td>null</td><td>&quot;597.029&quot;</td><td>null</td><td>null</td><td>null</td><td>&quot;37.746&quot;</td><td>&quot;0.5&quot;</td><td>&quot;64.83&quot;</td><td>&quot;0.511&quot;</td><td>&quot;41128772.0&quot;</td><td>null</td><td>null</td><td>null</td><td>null</td></tr><tr><td>&quot;AFG&quot;</td><td>&quot;Asia&quot;</td><td>&quot;Afghanistan&quot;</td><td>2020-01-04 00:00:00</td><td>null</td><td>&quot;0.0&quot;</td><td>null</td><td>null</td><td>&quot;0.0&quot;</td><td>null</td><td>null</td><td>&quot;0.0&quot;</td><td>null</td><td>null</td><td>&quot;0.0&quot;</td><td>null</td><td>null</td><td>null</td><td>null</td><td>null</td><td>null</td><td>null</td><td>null</td><td>null</td><td>null</td><td>null</td><td>null</td><td>null</td><td>null</td><td>null</td><td>null</td><td>null</td><td>null</td><td>null</td><td>null</td><td>null</td><td>null</td><td>null</td><td>null</td><td>null</td><td>null</td><td>null</td><td>null</td><td>null</td><td>null</td><td>null</td><td>null</td><td>&quot;0.0&quot;</td><td>&quot;54.422&quot;</td><td>null</td><td>&quot;2.581&quot;</td><td>&quot;1.337&quot;</td><td>&quot;1803.987&quot;</td><td>null</td><td>&quot;597.029&quot;</td><td>null</td><td>null</td><td>null</td><td>&quot;37.746&quot;</td><td>&quot;0.5&quot;</td><td>&quot;64.83&quot;</td><td>&quot;0.511&quot;</td><td>&quot;41128772.0&quot;</td><td>null</td><td>null</td><td>null</td><td>null</td></tr><tr><td>&quot;AFG&quot;</td><td>&quot;Asia&quot;</td><td>&quot;Afghanistan&quot;</td><td>2020-01-05 00:00:00</td><td>null</td><td>&quot;0.0&quot;</td><td>null</td><td>null</td><td>&quot;0.0&quot;</td><td>null</td><td>null</td><td>&quot;0.0&quot;</td><td>null</td><td>null</td><td>&quot;0.0&quot;</td><td>null</td><td>null</td><td>null</td><td>null</td><td>null</td><td>null</td><td>null</td><td>null</td><td>null</td><td>null</td><td>null</td><td>null</td><td>null</td><td>null</td><td>null</td><td>null</td><td>null</td><td>null</td><td>null</td><td>null</td><td>null</td><td>null</td><td>null</td><td>null</td><td>null</td><td>null</td><td>null</td><td>null</td><td>null</td><td>null</td><td>null</td><td>null</td><td>&quot;0.0&quot;</td><td>&quot;54.422&quot;</td><td>null</td><td>&quot;2.581&quot;</td><td>&quot;1.337&quot;</td><td>&quot;1803.987&quot;</td><td>null</td><td>&quot;597.029&quot;</td><td>null</td><td>null</td><td>null</td><td>&quot;37.746&quot;</td><td>&quot;0.5&quot;</td><td>&quot;64.83&quot;</td><td>&quot;0.511&quot;</td><td>&quot;41128772.0&quot;</td><td>null</td><td>null</td><td>null</td><td>null</td></tr><tr><td>&quot;AFG&quot;</td><td>&quot;Asia&quot;</td><td>&quot;Afghanistan&quot;</td><td>2020-01-06 00:00:00</td><td>null</td><td>&quot;0.0&quot;</td><td>null</td><td>null</td><td>&quot;0.0&quot;</td><td>null</td><td>null</td><td>&quot;0.0&quot;</td><td>null</td><td>null</td><td>&quot;0.0&quot;</td><td>null</td><td>null</td><td>null</td><td>null</td><td>null</td><td>null</td><td>null</td><td>null</td><td>null</td><td>null</td><td>null</td><td>null</td><td>null</td><td>null</td><td>null</td><td>null</td><td>null</td><td>null</td><td>null</td><td>null</td><td>null</td><td>null</td><td>null</td><td>null</td><td>null</td><td>null</td><td>null</td><td>null</td><td>null</td><td>null</td><td>null</td><td>null</td><td>&quot;0.0&quot;</td><td>&quot;54.422&quot;</td><td>null</td><td>&quot;2.581&quot;</td><td>&quot;1.337&quot;</td><td>&quot;1803.987&quot;</td><td>null</td><td>&quot;597.029&quot;</td><td>null</td><td>null</td><td>null</td><td>&quot;37.746&quot;</td><td>&quot;0.5&quot;</td><td>&quot;64.83&quot;</td><td>&quot;0.511&quot;</td><td>&quot;41128772.0&quot;</td><td>null</td><td>null</td><td>null</td><td>null</td></tr><tr><td>&quot;AFG&quot;</td><td>&quot;Asia&quot;</td><td>&quot;Afghanistan&quot;</td><td>2020-01-07 00:00:00</td><td>null</td><td>&quot;0.0&quot;</td><td>null</td><td>null</td><td>&quot;0.0&quot;</td><td>null</td><td>null</td><td>&quot;0.0&quot;</td><td>null</td><td>null</td><td>&quot;0.0&quot;</td><td>null</td><td>null</td><td>null</td><td>null</td><td>null</td><td>null</td><td>null</td><td>null</td><td>null</td><td>null</td><td>null</td><td>null</td><td>null</td><td>null</td><td>null</td><td>null</td><td>null</td><td>null</td><td>null</td><td>null</td><td>null</td><td>null</td><td>null</td><td>null</td><td>null</td><td>null</td><td>null</td><td>null</td><td>null</td><td>null</td><td>null</td><td>null</td><td>&quot;0.0&quot;</td><td>&quot;54.422&quot;</td><td>null</td><td>&quot;2.581&quot;</td><td>&quot;1.337&quot;</td><td>&quot;1803.987&quot;</td><td>null</td><td>&quot;597.029&quot;</td><td>null</td><td>null</td><td>null</td><td>&quot;37.746&quot;</td><td>&quot;0.5&quot;</td><td>&quot;64.83&quot;</td><td>&quot;0.511&quot;</td><td>&quot;41128772.0&quot;</td><td>null</td><td>null</td><td>null</td><td>null</td></tr></tbody></table></div>"
      ],
      "text/plain": [
       "shape: (5, 67)\n",
       "┌──────────┬───────────┬───────────┬───────────┬───┬───────────┬───────────┬───────────┬───────────┐\n",
       "│ iso_code ┆ continent ┆ location  ┆ date      ┆ … ┆ excess_mo ┆ excess_mo ┆ excess_mo ┆ excess_mo │\n",
       "│ ---      ┆ ---       ┆ ---       ┆ ---       ┆   ┆ rtality_c ┆ rtality_c ┆ rtality   ┆ rtality_c │\n",
       "│ str      ┆ str       ┆ str       ┆ datetime[ ┆   ┆ umulative ┆ umulative ┆ ---       ┆ umulative │\n",
       "│          ┆           ┆           ┆ μs]       ┆   ┆ _abso…    ┆ ---       ┆ str       ┆ _per_…    │\n",
       "│          ┆           ┆           ┆           ┆   ┆ ---       ┆ str       ┆           ┆ ---       │\n",
       "│          ┆           ┆           ┆           ┆   ┆ str       ┆           ┆           ┆ str       │\n",
       "╞══════════╪═══════════╪═══════════╪═══════════╪═══╪═══════════╪═══════════╪═══════════╪═══════════╡\n",
       "│ AFG      ┆ Asia      ┆ Afghanist ┆ 2020-01-0 ┆ … ┆ null      ┆ null      ┆ null      ┆ null      │\n",
       "│          ┆           ┆ an        ┆ 3         ┆   ┆           ┆           ┆           ┆           │\n",
       "│          ┆           ┆           ┆ 00:00:00  ┆   ┆           ┆           ┆           ┆           │\n",
       "│ AFG      ┆ Asia      ┆ Afghanist ┆ 2020-01-0 ┆ … ┆ null      ┆ null      ┆ null      ┆ null      │\n",
       "│          ┆           ┆ an        ┆ 4         ┆   ┆           ┆           ┆           ┆           │\n",
       "│          ┆           ┆           ┆ 00:00:00  ┆   ┆           ┆           ┆           ┆           │\n",
       "│ AFG      ┆ Asia      ┆ Afghanist ┆ 2020-01-0 ┆ … ┆ null      ┆ null      ┆ null      ┆ null      │\n",
       "│          ┆           ┆ an        ┆ 5         ┆   ┆           ┆           ┆           ┆           │\n",
       "│          ┆           ┆           ┆ 00:00:00  ┆   ┆           ┆           ┆           ┆           │\n",
       "│ AFG      ┆ Asia      ┆ Afghanist ┆ 2020-01-0 ┆ … ┆ null      ┆ null      ┆ null      ┆ null      │\n",
       "│          ┆           ┆ an        ┆ 6         ┆   ┆           ┆           ┆           ┆           │\n",
       "│          ┆           ┆           ┆ 00:00:00  ┆   ┆           ┆           ┆           ┆           │\n",
       "│ AFG      ┆ Asia      ┆ Afghanist ┆ 2020-01-0 ┆ … ┆ null      ┆ null      ┆ null      ┆ null      │\n",
       "│          ┆           ┆ an        ┆ 7         ┆   ┆           ┆           ┆           ┆           │\n",
       "│          ┆           ┆           ┆ 00:00:00  ┆   ┆           ┆           ┆           ┆           │\n",
       "└──────────┴───────────┴───────────┴───────────┴───┴───────────┴───────────┴───────────┴───────────┘"
      ]
     },
     "execution_count": 13,
     "metadata": {},
     "output_type": "execute_result"
    }
   ],
   "source": [
    "%%time\n",
    "scan_openpyxl().head()"
   ]
  },
  {
   "cell_type": "code",
   "execution_count": 14,
   "metadata": {
    "notebookRunGroups": {
     "groupValue": "2"
    }
   },
   "outputs": [
    {
     "name": "stdout",
     "output_type": "stream",
     "text": [
      "CPU times: total: 6min 2s\n",
      "Wall time: 6min 11s\n"
     ]
    },
    {
     "data": {
      "text/html": [
       "<div><style>\n",
       ".dataframe > thead > tr > th,\n",
       ".dataframe > tbody > tr > td {\n",
       "  text-align: right;\n",
       "  white-space: pre-wrap;\n",
       "}\n",
       "</style>\n",
       "<small>shape: (5, 67)</small><table border=\"1\" class=\"dataframe\"><thead><tr><th>iso_code</th><th>continent</th><th>location</th><th>date</th><th>total_cases</th><th>new_cases</th><th>new_cases_smoothed</th><th>total_deaths</th><th>new_deaths</th><th>new_deaths_smoothed</th><th>total_cases_per_million</th><th>new_cases_per_million</th><th>new_cases_smoothed_per_million</th><th>total_deaths_per_million</th><th>new_deaths_per_million</th><th>new_deaths_smoothed_per_million</th><th>reproduction_rate</th><th>icu_patients</th><th>icu_patients_per_million</th><th>hosp_patients</th><th>hosp_patients_per_million</th><th>weekly_icu_admissions</th><th>weekly_icu_admissions_per_million</th><th>weekly_hosp_admissions</th><th>weekly_hosp_admissions_per_million</th><th>total_tests</th><th>new_tests</th><th>total_tests_per_thousand</th><th>new_tests_per_thousand</th><th>new_tests_smoothed</th><th>new_tests_smoothed_per_thousand</th><th>positive_rate</th><th>tests_per_case</th><th>tests_units</th><th>total_vaccinations</th><th>people_vaccinated</th><th>people_fully_vaccinated</th><th>total_boosters</th><th>new_vaccinations</th><th>new_vaccinations_smoothed</th><th>total_vaccinations_per_hundred</th><th>people_vaccinated_per_hundred</th><th>people_fully_vaccinated_per_hundred</th><th>total_boosters_per_hundred</th><th>new_vaccinations_smoothed_per_million</th><th>new_people_vaccinated_smoothed</th><th>new_people_vaccinated_smoothed_per_hundred</th><th>stringency_index</th><th>population_density</th><th>median_age</th><th>aged_65_older</th><th>aged_70_older</th><th>gdp_per_capita</th><th>extreme_poverty</th><th>cardiovasc_death_rate</th><th>diabetes_prevalence</th><th>female_smokers</th><th>male_smokers</th><th>handwashing_facilities</th><th>hospital_beds_per_thousand</th><th>life_expectancy</th><th>human_development_index</th><th>population</th><th>excess_mortality_cumulative_absolute</th><th>excess_mortality_cumulative</th><th>excess_mortality</th><th>excess_mortality_cumulative_per_million</th></tr><tr><td>str</td><td>str</td><td>str</td><td>str</td><td>str</td><td>str</td><td>str</td><td>str</td><td>str</td><td>str</td><td>str</td><td>str</td><td>str</td><td>str</td><td>str</td><td>str</td><td>str</td><td>str</td><td>str</td><td>str</td><td>str</td><td>str</td><td>str</td><td>str</td><td>str</td><td>str</td><td>str</td><td>str</td><td>str</td><td>str</td><td>str</td><td>str</td><td>str</td><td>str</td><td>str</td><td>str</td><td>str</td><td>str</td><td>str</td><td>str</td><td>str</td><td>str</td><td>str</td><td>str</td><td>str</td><td>str</td><td>str</td><td>str</td><td>str</td><td>str</td><td>str</td><td>str</td><td>str</td><td>str</td><td>str</td><td>str</td><td>str</td><td>str</td><td>str</td><td>str</td><td>str</td><td>str</td><td>str</td><td>str</td><td>str</td><td>str</td><td>str</td></tr></thead><tbody><tr><td>&quot;AFG&quot;</td><td>&quot;Asia&quot;</td><td>&quot;Afghanistan&quot;</td><td>&quot;43833.0&quot;</td><td>null</td><td>&quot;0.0&quot;</td><td>null</td><td>null</td><td>&quot;0.0&quot;</td><td>null</td><td>null</td><td>&quot;0.0&quot;</td><td>null</td><td>null</td><td>&quot;0.0&quot;</td><td>null</td><td>null</td><td>null</td><td>null</td><td>null</td><td>null</td><td>null</td><td>null</td><td>null</td><td>null</td><td>null</td><td>null</td><td>null</td><td>null</td><td>null</td><td>null</td><td>null</td><td>null</td><td>null</td><td>null</td><td>null</td><td>null</td><td>null</td><td>null</td><td>null</td><td>null</td><td>null</td><td>null</td><td>null</td><td>null</td><td>null</td><td>null</td><td>&quot;0.0&quot;</td><td>&quot;54.422&quot;</td><td>&quot;45095.0&quot;</td><td>&quot;2.581&quot;</td><td>&quot;1.337&quot;</td><td>&quot;1803.987&quot;</td><td>null</td><td>&quot;597.029&quot;</td><td>&quot;21794.0&quot;</td><td>null</td><td>null</td><td>&quot;37.746&quot;</td><td>&quot;0.5&quot;</td><td>&quot;64.83&quot;</td><td>&quot;0.511&quot;</td><td>&quot;41128772.0&quot;</td><td>null</td><td>null</td><td>null</td><td>null</td></tr><tr><td>&quot;AFG&quot;</td><td>&quot;Asia&quot;</td><td>&quot;Afghanistan&quot;</td><td>&quot;43834.0&quot;</td><td>null</td><td>&quot;0.0&quot;</td><td>null</td><td>null</td><td>&quot;0.0&quot;</td><td>null</td><td>null</td><td>&quot;0.0&quot;</td><td>null</td><td>null</td><td>&quot;0.0&quot;</td><td>null</td><td>null</td><td>null</td><td>null</td><td>null</td><td>null</td><td>null</td><td>null</td><td>null</td><td>null</td><td>null</td><td>null</td><td>null</td><td>null</td><td>null</td><td>null</td><td>null</td><td>null</td><td>null</td><td>null</td><td>null</td><td>null</td><td>null</td><td>null</td><td>null</td><td>null</td><td>null</td><td>null</td><td>null</td><td>null</td><td>null</td><td>null</td><td>&quot;0.0&quot;</td><td>&quot;54.422&quot;</td><td>&quot;45095.0&quot;</td><td>&quot;2.581&quot;</td><td>&quot;1.337&quot;</td><td>&quot;1803.987&quot;</td><td>null</td><td>&quot;597.029&quot;</td><td>&quot;21794.0&quot;</td><td>null</td><td>null</td><td>&quot;37.746&quot;</td><td>&quot;0.5&quot;</td><td>&quot;64.83&quot;</td><td>&quot;0.511&quot;</td><td>&quot;41128772.0&quot;</td><td>null</td><td>null</td><td>null</td><td>null</td></tr><tr><td>&quot;AFG&quot;</td><td>&quot;Asia&quot;</td><td>&quot;Afghanistan&quot;</td><td>&quot;43835.0&quot;</td><td>null</td><td>&quot;0.0&quot;</td><td>null</td><td>null</td><td>&quot;0.0&quot;</td><td>null</td><td>null</td><td>&quot;0.0&quot;</td><td>null</td><td>null</td><td>&quot;0.0&quot;</td><td>null</td><td>null</td><td>null</td><td>null</td><td>null</td><td>null</td><td>null</td><td>null</td><td>null</td><td>null</td><td>null</td><td>null</td><td>null</td><td>null</td><td>null</td><td>null</td><td>null</td><td>null</td><td>null</td><td>null</td><td>null</td><td>null</td><td>null</td><td>null</td><td>null</td><td>null</td><td>null</td><td>null</td><td>null</td><td>null</td><td>null</td><td>null</td><td>&quot;0.0&quot;</td><td>&quot;54.422&quot;</td><td>&quot;45095.0&quot;</td><td>&quot;2.581&quot;</td><td>&quot;1.337&quot;</td><td>&quot;1803.987&quot;</td><td>null</td><td>&quot;597.029&quot;</td><td>&quot;21794.0&quot;</td><td>null</td><td>null</td><td>&quot;37.746&quot;</td><td>&quot;0.5&quot;</td><td>&quot;64.83&quot;</td><td>&quot;0.511&quot;</td><td>&quot;41128772.0&quot;</td><td>null</td><td>null</td><td>null</td><td>null</td></tr><tr><td>&quot;AFG&quot;</td><td>&quot;Asia&quot;</td><td>&quot;Afghanistan&quot;</td><td>&quot;43836.0&quot;</td><td>null</td><td>&quot;0.0&quot;</td><td>null</td><td>null</td><td>&quot;0.0&quot;</td><td>null</td><td>null</td><td>&quot;0.0&quot;</td><td>null</td><td>null</td><td>&quot;0.0&quot;</td><td>null</td><td>null</td><td>null</td><td>null</td><td>null</td><td>null</td><td>null</td><td>null</td><td>null</td><td>null</td><td>null</td><td>null</td><td>null</td><td>null</td><td>null</td><td>null</td><td>null</td><td>null</td><td>null</td><td>null</td><td>null</td><td>null</td><td>null</td><td>null</td><td>null</td><td>null</td><td>null</td><td>null</td><td>null</td><td>null</td><td>null</td><td>null</td><td>&quot;0.0&quot;</td><td>&quot;54.422&quot;</td><td>&quot;45095.0&quot;</td><td>&quot;2.581&quot;</td><td>&quot;1.337&quot;</td><td>&quot;1803.987&quot;</td><td>null</td><td>&quot;597.029&quot;</td><td>&quot;21794.0&quot;</td><td>null</td><td>null</td><td>&quot;37.746&quot;</td><td>&quot;0.5&quot;</td><td>&quot;64.83&quot;</td><td>&quot;0.511&quot;</td><td>&quot;41128772.0&quot;</td><td>null</td><td>null</td><td>null</td><td>null</td></tr><tr><td>&quot;AFG&quot;</td><td>&quot;Asia&quot;</td><td>&quot;Afghanistan&quot;</td><td>&quot;43837.0&quot;</td><td>null</td><td>&quot;0.0&quot;</td><td>null</td><td>null</td><td>&quot;0.0&quot;</td><td>null</td><td>null</td><td>&quot;0.0&quot;</td><td>null</td><td>null</td><td>&quot;0.0&quot;</td><td>null</td><td>null</td><td>null</td><td>null</td><td>null</td><td>null</td><td>null</td><td>null</td><td>null</td><td>null</td><td>null</td><td>null</td><td>null</td><td>null</td><td>null</td><td>null</td><td>null</td><td>null</td><td>null</td><td>null</td><td>null</td><td>null</td><td>null</td><td>null</td><td>null</td><td>null</td><td>null</td><td>null</td><td>null</td><td>null</td><td>null</td><td>null</td><td>&quot;0.0&quot;</td><td>&quot;54.422&quot;</td><td>&quot;45095.0&quot;</td><td>&quot;2.581&quot;</td><td>&quot;1.337&quot;</td><td>&quot;1803.987&quot;</td><td>null</td><td>&quot;597.029&quot;</td><td>&quot;21794.0&quot;</td><td>null</td><td>null</td><td>&quot;37.746&quot;</td><td>&quot;0.5&quot;</td><td>&quot;64.83&quot;</td><td>&quot;0.511&quot;</td><td>&quot;41128772.0&quot;</td><td>null</td><td>null</td><td>null</td><td>null</td></tr></tbody></table></div>"
      ],
      "text/plain": [
       "shape: (5, 67)\n",
       "┌──────────┬───────────┬────────────┬─────────┬───┬────────────┬───────────┬───────────┬───────────┐\n",
       "│ iso_code ┆ continent ┆ location   ┆ date    ┆ … ┆ excess_mor ┆ excess_mo ┆ excess_mo ┆ excess_mo │\n",
       "│ ---      ┆ ---       ┆ ---        ┆ ---     ┆   ┆ tality_cum ┆ rtality_c ┆ rtality   ┆ rtality_c │\n",
       "│ str      ┆ str       ┆ str        ┆ str     ┆   ┆ ulative_ab ┆ umulative ┆ ---       ┆ umulative │\n",
       "│          ┆           ┆            ┆         ┆   ┆ so…        ┆ ---       ┆ str       ┆ _per_…    │\n",
       "│          ┆           ┆            ┆         ┆   ┆ ---        ┆ str       ┆           ┆ ---       │\n",
       "│          ┆           ┆            ┆         ┆   ┆ str        ┆           ┆           ┆ str       │\n",
       "╞══════════╪═══════════╪════════════╪═════════╪═══╪════════════╪═══════════╪═══════════╪═══════════╡\n",
       "│ AFG      ┆ Asia      ┆ Afghanista ┆ 43833.0 ┆ … ┆ null       ┆ null      ┆ null      ┆ null      │\n",
       "│          ┆           ┆ n          ┆         ┆   ┆            ┆           ┆           ┆           │\n",
       "│ AFG      ┆ Asia      ┆ Afghanista ┆ 43834.0 ┆ … ┆ null       ┆ null      ┆ null      ┆ null      │\n",
       "│          ┆           ┆ n          ┆         ┆   ┆            ┆           ┆           ┆           │\n",
       "│ AFG      ┆ Asia      ┆ Afghanista ┆ 43835.0 ┆ … ┆ null       ┆ null      ┆ null      ┆ null      │\n",
       "│          ┆           ┆ n          ┆         ┆   ┆            ┆           ┆           ┆           │\n",
       "│ AFG      ┆ Asia      ┆ Afghanista ┆ 43836.0 ┆ … ┆ null       ┆ null      ┆ null      ┆ null      │\n",
       "│          ┆           ┆ n          ┆         ┆   ┆            ┆           ┆           ┆           │\n",
       "│ AFG      ┆ Asia      ┆ Afghanista ┆ 43837.0 ┆ … ┆ null       ┆ null      ┆ null      ┆ null      │\n",
       "│          ┆           ┆ n          ┆         ┆   ┆            ┆           ┆           ┆           │\n",
       "└──────────┴───────────┴────────────┴─────────┴───┴────────────┴───────────┴───────────┴───────────┘"
      ]
     },
     "execution_count": 14,
     "metadata": {},
     "output_type": "execute_result"
    }
   ],
   "source": [
    "%%time\n",
    "scan_pyxlsb().head()"
   ]
  },
  {
   "cell_type": "code",
   "execution_count": 15,
   "metadata": {
    "notebookRunGroups": {
     "groupValue": "2"
    }
   },
   "outputs": [
    {
     "name": "stdout",
     "output_type": "stream",
     "text": [
      "CPU times: total: 4min 16s\n",
      "Wall time: 4min 15s\n"
     ]
    },
    {
     "data": {
      "text/html": [
       "<div><style>\n",
       ".dataframe > thead > tr > th,\n",
       ".dataframe > tbody > tr > td {\n",
       "  text-align: right;\n",
       "  white-space: pre-wrap;\n",
       "}\n",
       "</style>\n",
       "<small>shape: (5, 67)</small><table border=\"1\" class=\"dataframe\"><thead><tr><th>iso_code</th><th>continent</th><th>location</th><th>date</th><th>total_cases</th><th>new_cases</th><th>new_cases_smoothed</th><th>total_deaths</th><th>new_deaths</th><th>new_deaths_smoothed</th><th>total_cases_per_million</th><th>new_cases_per_million</th><th>new_cases_smoothed_per_million</th><th>total_deaths_per_million</th><th>new_deaths_per_million</th><th>new_deaths_smoothed_per_million</th><th>reproduction_rate</th><th>icu_patients</th><th>icu_patients_per_million</th><th>hosp_patients</th><th>hosp_patients_per_million</th><th>weekly_icu_admissions</th><th>weekly_icu_admissions_per_million</th><th>weekly_hosp_admissions</th><th>weekly_hosp_admissions_per_million</th><th>total_tests</th><th>new_tests</th><th>total_tests_per_thousand</th><th>new_tests_per_thousand</th><th>new_tests_smoothed</th><th>new_tests_smoothed_per_thousand</th><th>positive_rate</th><th>tests_per_case</th><th>tests_units</th><th>total_vaccinations</th><th>people_vaccinated</th><th>people_fully_vaccinated</th><th>total_boosters</th><th>new_vaccinations</th><th>new_vaccinations_smoothed</th><th>total_vaccinations_per_hundred</th><th>people_vaccinated_per_hundred</th><th>people_fully_vaccinated_per_hundred</th><th>total_boosters_per_hundred</th><th>new_vaccinations_smoothed_per_million</th><th>new_people_vaccinated_smoothed</th><th>new_people_vaccinated_smoothed_per_hundred</th><th>stringency_index</th><th>population_density</th><th>median_age</th><th>aged_65_older</th><th>aged_70_older</th><th>gdp_per_capita</th><th>extreme_poverty</th><th>cardiovasc_death_rate</th><th>diabetes_prevalence</th><th>female_smokers</th><th>male_smokers</th><th>handwashing_facilities</th><th>hospital_beds_per_thousand</th><th>life_expectancy</th><th>human_development_index</th><th>population</th><th>excess_mortality_cumulative_absolute</th><th>excess_mortality_cumulative</th><th>excess_mortality</th><th>excess_mortality_cumulative_per_million</th></tr><tr><td>str</td><td>str</td><td>str</td><td>date</td><td>i64</td><td>i64</td><td>f64</td><td>i64</td><td>i64</td><td>f64</td><td>f64</td><td>f64</td><td>f64</td><td>f64</td><td>f64</td><td>f64</td><td>f64</td><td>i64</td><td>f64</td><td>i64</td><td>f64</td><td>i64</td><td>f64</td><td>i64</td><td>f64</td><td>i64</td><td>i64</td><td>f64</td><td>f64</td><td>i64</td><td>f64</td><td>f64</td><td>f64</td><td>str</td><td>i64</td><td>i64</td><td>i64</td><td>i64</td><td>i64</td><td>i64</td><td>f64</td><td>f64</td><td>f64</td><td>f64</td><td>i64</td><td>i64</td><td>f64</td><td>f64</td><td>f64</td><td>f64</td><td>f64</td><td>f64</td><td>f64</td><td>f64</td><td>f64</td><td>f64</td><td>f64</td><td>f64</td><td>f64</td><td>f64</td><td>f64</td><td>f64</td><td>i64</td><td>f64</td><td>f64</td><td>f64</td><td>f64</td></tr></thead><tbody><tr><td>&quot;AFG&quot;</td><td>&quot;Asia&quot;</td><td>&quot;Afghanistan&quot;</td><td>2020-01-03</td><td>null</td><td>0</td><td>null</td><td>null</td><td>0</td><td>null</td><td>null</td><td>0.0</td><td>null</td><td>null</td><td>0.0</td><td>null</td><td>null</td><td>null</td><td>null</td><td>null</td><td>null</td><td>null</td><td>null</td><td>null</td><td>null</td><td>null</td><td>null</td><td>null</td><td>null</td><td>null</td><td>null</td><td>null</td><td>null</td><td>null</td><td>null</td><td>null</td><td>null</td><td>null</td><td>null</td><td>null</td><td>null</td><td>null</td><td>null</td><td>null</td><td>null</td><td>null</td><td>null</td><td>0.0</td><td>54.422</td><td>45095.0</td><td>2.581</td><td>1.337</td><td>1803.987</td><td>null</td><td>597.029</td><td>21794.0</td><td>null</td><td>null</td><td>37.746</td><td>0.5</td><td>64.83</td><td>0.511</td><td>41128772</td><td>null</td><td>null</td><td>null</td><td>null</td></tr><tr><td>&quot;AFG&quot;</td><td>&quot;Asia&quot;</td><td>&quot;Afghanistan&quot;</td><td>2020-01-04</td><td>null</td><td>0</td><td>null</td><td>null</td><td>0</td><td>null</td><td>null</td><td>0.0</td><td>null</td><td>null</td><td>0.0</td><td>null</td><td>null</td><td>null</td><td>null</td><td>null</td><td>null</td><td>null</td><td>null</td><td>null</td><td>null</td><td>null</td><td>null</td><td>null</td><td>null</td><td>null</td><td>null</td><td>null</td><td>null</td><td>null</td><td>null</td><td>null</td><td>null</td><td>null</td><td>null</td><td>null</td><td>null</td><td>null</td><td>null</td><td>null</td><td>null</td><td>null</td><td>null</td><td>0.0</td><td>54.422</td><td>45095.0</td><td>2.581</td><td>1.337</td><td>1803.987</td><td>null</td><td>597.029</td><td>21794.0</td><td>null</td><td>null</td><td>37.746</td><td>0.5</td><td>64.83</td><td>0.511</td><td>41128772</td><td>null</td><td>null</td><td>null</td><td>null</td></tr><tr><td>&quot;AFG&quot;</td><td>&quot;Asia&quot;</td><td>&quot;Afghanistan&quot;</td><td>2020-01-05</td><td>null</td><td>0</td><td>null</td><td>null</td><td>0</td><td>null</td><td>null</td><td>0.0</td><td>null</td><td>null</td><td>0.0</td><td>null</td><td>null</td><td>null</td><td>null</td><td>null</td><td>null</td><td>null</td><td>null</td><td>null</td><td>null</td><td>null</td><td>null</td><td>null</td><td>null</td><td>null</td><td>null</td><td>null</td><td>null</td><td>null</td><td>null</td><td>null</td><td>null</td><td>null</td><td>null</td><td>null</td><td>null</td><td>null</td><td>null</td><td>null</td><td>null</td><td>null</td><td>null</td><td>0.0</td><td>54.422</td><td>45095.0</td><td>2.581</td><td>1.337</td><td>1803.987</td><td>null</td><td>597.029</td><td>21794.0</td><td>null</td><td>null</td><td>37.746</td><td>0.5</td><td>64.83</td><td>0.511</td><td>41128772</td><td>null</td><td>null</td><td>null</td><td>null</td></tr><tr><td>&quot;AFG&quot;</td><td>&quot;Asia&quot;</td><td>&quot;Afghanistan&quot;</td><td>2020-01-06</td><td>null</td><td>0</td><td>null</td><td>null</td><td>0</td><td>null</td><td>null</td><td>0.0</td><td>null</td><td>null</td><td>0.0</td><td>null</td><td>null</td><td>null</td><td>null</td><td>null</td><td>null</td><td>null</td><td>null</td><td>null</td><td>null</td><td>null</td><td>null</td><td>null</td><td>null</td><td>null</td><td>null</td><td>null</td><td>null</td><td>null</td><td>null</td><td>null</td><td>null</td><td>null</td><td>null</td><td>null</td><td>null</td><td>null</td><td>null</td><td>null</td><td>null</td><td>null</td><td>null</td><td>0.0</td><td>54.422</td><td>45095.0</td><td>2.581</td><td>1.337</td><td>1803.987</td><td>null</td><td>597.029</td><td>21794.0</td><td>null</td><td>null</td><td>37.746</td><td>0.5</td><td>64.83</td><td>0.511</td><td>41128772</td><td>null</td><td>null</td><td>null</td><td>null</td></tr><tr><td>&quot;AFG&quot;</td><td>&quot;Asia&quot;</td><td>&quot;Afghanistan&quot;</td><td>2020-01-07</td><td>null</td><td>0</td><td>null</td><td>null</td><td>0</td><td>null</td><td>null</td><td>0.0</td><td>null</td><td>null</td><td>0.0</td><td>null</td><td>null</td><td>null</td><td>null</td><td>null</td><td>null</td><td>null</td><td>null</td><td>null</td><td>null</td><td>null</td><td>null</td><td>null</td><td>null</td><td>null</td><td>null</td><td>null</td><td>null</td><td>null</td><td>null</td><td>null</td><td>null</td><td>null</td><td>null</td><td>null</td><td>null</td><td>null</td><td>null</td><td>null</td><td>null</td><td>null</td><td>null</td><td>0.0</td><td>54.422</td><td>45095.0</td><td>2.581</td><td>1.337</td><td>1803.987</td><td>null</td><td>597.029</td><td>21794.0</td><td>null</td><td>null</td><td>37.746</td><td>0.5</td><td>64.83</td><td>0.511</td><td>41128772</td><td>null</td><td>null</td><td>null</td><td>null</td></tr></tbody></table></div>"
      ],
      "text/plain": [
       "shape: (5, 67)\n",
       "┌──────────┬───────────┬───────────┬───────────┬───┬───────────┬───────────┬───────────┬───────────┐\n",
       "│ iso_code ┆ continent ┆ location  ┆ date      ┆ … ┆ excess_mo ┆ excess_mo ┆ excess_mo ┆ excess_mo │\n",
       "│ ---      ┆ ---       ┆ ---       ┆ ---       ┆   ┆ rtality_c ┆ rtality_c ┆ rtality   ┆ rtality_c │\n",
       "│ str      ┆ str       ┆ str       ┆ date      ┆   ┆ umulative ┆ umulative ┆ ---       ┆ umulative │\n",
       "│          ┆           ┆           ┆           ┆   ┆ _abso…    ┆ ---       ┆ f64       ┆ _per_…    │\n",
       "│          ┆           ┆           ┆           ┆   ┆ ---       ┆ f64       ┆           ┆ ---       │\n",
       "│          ┆           ┆           ┆           ┆   ┆ f64       ┆           ┆           ┆ f64       │\n",
       "╞══════════╪═══════════╪═══════════╪═══════════╪═══╪═══════════╪═══════════╪═══════════╪═══════════╡\n",
       "│ AFG      ┆ Asia      ┆ Afghanist ┆ 2020-01-0 ┆ … ┆ null      ┆ null      ┆ null      ┆ null      │\n",
       "│          ┆           ┆ an        ┆ 3         ┆   ┆           ┆           ┆           ┆           │\n",
       "│ AFG      ┆ Asia      ┆ Afghanist ┆ 2020-01-0 ┆ … ┆ null      ┆ null      ┆ null      ┆ null      │\n",
       "│          ┆           ┆ an        ┆ 4         ┆   ┆           ┆           ┆           ┆           │\n",
       "│ AFG      ┆ Asia      ┆ Afghanist ┆ 2020-01-0 ┆ … ┆ null      ┆ null      ┆ null      ┆ null      │\n",
       "│          ┆           ┆ an        ┆ 5         ┆   ┆           ┆           ┆           ┆           │\n",
       "│ AFG      ┆ Asia      ┆ Afghanist ┆ 2020-01-0 ┆ … ┆ null      ┆ null      ┆ null      ┆ null      │\n",
       "│          ┆           ┆ an        ┆ 6         ┆   ┆           ┆           ┆           ┆           │\n",
       "│ AFG      ┆ Asia      ┆ Afghanist ┆ 2020-01-0 ┆ … ┆ null      ┆ null      ┆ null      ┆ null      │\n",
       "│          ┆           ┆ an        ┆ 7         ┆   ┆           ┆           ┆           ┆           │\n",
       "└──────────┴───────────┴───────────┴───────────┴───┴───────────┴───────────┴───────────┴───────────┘"
      ]
     },
     "execution_count": 15,
     "metadata": {},
     "output_type": "execute_result"
    }
   ],
   "source": [
    "%%time\n",
    "scan_rxls_xlsx().head()"
   ]
  },
  {
   "cell_type": "code",
   "execution_count": 16,
   "metadata": {
    "notebookRunGroups": {
     "groupValue": "2"
    }
   },
   "outputs": [
    {
     "name": "stdout",
     "output_type": "stream",
     "text": [
      "CPU times: total: 4min 3s\n",
      "Wall time: 4min 1s\n"
     ]
    },
    {
     "data": {
      "text/html": [
       "<div><style>\n",
       ".dataframe > thead > tr > th,\n",
       ".dataframe > tbody > tr > td {\n",
       "  text-align: right;\n",
       "  white-space: pre-wrap;\n",
       "}\n",
       "</style>\n",
       "<small>shape: (5, 67)</small><table border=\"1\" class=\"dataframe\"><thead><tr><th>iso_code</th><th>continent</th><th>location</th><th>date</th><th>total_cases</th><th>new_cases</th><th>new_cases_smoothed</th><th>total_deaths</th><th>new_deaths</th><th>new_deaths_smoothed</th><th>total_cases_per_million</th><th>new_cases_per_million</th><th>new_cases_smoothed_per_million</th><th>total_deaths_per_million</th><th>new_deaths_per_million</th><th>new_deaths_smoothed_per_million</th><th>reproduction_rate</th><th>icu_patients</th><th>icu_patients_per_million</th><th>hosp_patients</th><th>hosp_patients_per_million</th><th>weekly_icu_admissions</th><th>weekly_icu_admissions_per_million</th><th>weekly_hosp_admissions</th><th>weekly_hosp_admissions_per_million</th><th>total_tests</th><th>new_tests</th><th>total_tests_per_thousand</th><th>new_tests_per_thousand</th><th>new_tests_smoothed</th><th>new_tests_smoothed_per_thousand</th><th>positive_rate</th><th>tests_per_case</th><th>tests_units</th><th>total_vaccinations</th><th>people_vaccinated</th><th>people_fully_vaccinated</th><th>total_boosters</th><th>new_vaccinations</th><th>new_vaccinations_smoothed</th><th>total_vaccinations_per_hundred</th><th>people_vaccinated_per_hundred</th><th>people_fully_vaccinated_per_hundred</th><th>total_boosters_per_hundred</th><th>new_vaccinations_smoothed_per_million</th><th>new_people_vaccinated_smoothed</th><th>new_people_vaccinated_smoothed_per_hundred</th><th>stringency_index</th><th>population_density</th><th>median_age</th><th>aged_65_older</th><th>aged_70_older</th><th>gdp_per_capita</th><th>extreme_poverty</th><th>cardiovasc_death_rate</th><th>diabetes_prevalence</th><th>female_smokers</th><th>male_smokers</th><th>handwashing_facilities</th><th>hospital_beds_per_thousand</th><th>life_expectancy</th><th>human_development_index</th><th>population</th><th>excess_mortality_cumulative_absolute</th><th>excess_mortality_cumulative</th><th>excess_mortality</th><th>excess_mortality_cumulative_per_million</th></tr><tr><td>str</td><td>str</td><td>str</td><td>str</td><td>str</td><td>str</td><td>str</td><td>str</td><td>str</td><td>str</td><td>str</td><td>str</td><td>str</td><td>str</td><td>str</td><td>str</td><td>str</td><td>str</td><td>str</td><td>str</td><td>str</td><td>str</td><td>str</td><td>str</td><td>str</td><td>str</td><td>str</td><td>str</td><td>str</td><td>str</td><td>str</td><td>str</td><td>str</td><td>str</td><td>str</td><td>str</td><td>str</td><td>str</td><td>str</td><td>str</td><td>str</td><td>str</td><td>str</td><td>str</td><td>str</td><td>str</td><td>str</td><td>str</td><td>str</td><td>str</td><td>str</td><td>str</td><td>str</td><td>str</td><td>str</td><td>str</td><td>str</td><td>str</td><td>str</td><td>str</td><td>str</td><td>str</td><td>str</td><td>str</td><td>str</td><td>str</td><td>str</td></tr></thead><tbody><tr><td>&quot;AFG&quot;</td><td>&quot;Asia&quot;</td><td>&quot;Afghanistan&quot;</td><td>&quot;43833&quot;</td><td>null</td><td>&quot;0.0&quot;</td><td>null</td><td>null</td><td>&quot;0.0&quot;</td><td>null</td><td>null</td><td>&quot;0.0&quot;</td><td>null</td><td>null</td><td>&quot;0.0&quot;</td><td>null</td><td>null</td><td>null</td><td>null</td><td>null</td><td>null</td><td>null</td><td>null</td><td>null</td><td>null</td><td>null</td><td>null</td><td>null</td><td>null</td><td>null</td><td>null</td><td>null</td><td>null</td><td>null</td><td>null</td><td>null</td><td>null</td><td>null</td><td>null</td><td>null</td><td>null</td><td>null</td><td>null</td><td>null</td><td>null</td><td>null</td><td>null</td><td>&quot;0.0&quot;</td><td>&quot;54.422&quot;</td><td>&quot;45095&quot;</td><td>&quot;2.581&quot;</td><td>&quot;1.337&quot;</td><td>&quot;1803.987&quot;</td><td>null</td><td>&quot;597.029&quot;</td><td>&quot;21794&quot;</td><td>null</td><td>null</td><td>&quot;37.746&quot;</td><td>&quot;0.5&quot;</td><td>&quot;64.83&quot;</td><td>&quot;0.511&quot;</td><td>&quot;41128772.0&quot;</td><td>null</td><td>null</td><td>null</td><td>null</td></tr><tr><td>&quot;AFG&quot;</td><td>&quot;Asia&quot;</td><td>&quot;Afghanistan&quot;</td><td>&quot;43834&quot;</td><td>null</td><td>&quot;0.0&quot;</td><td>null</td><td>null</td><td>&quot;0.0&quot;</td><td>null</td><td>null</td><td>&quot;0.0&quot;</td><td>null</td><td>null</td><td>&quot;0.0&quot;</td><td>null</td><td>null</td><td>null</td><td>null</td><td>null</td><td>null</td><td>null</td><td>null</td><td>null</td><td>null</td><td>null</td><td>null</td><td>null</td><td>null</td><td>null</td><td>null</td><td>null</td><td>null</td><td>null</td><td>null</td><td>null</td><td>null</td><td>null</td><td>null</td><td>null</td><td>null</td><td>null</td><td>null</td><td>null</td><td>null</td><td>null</td><td>null</td><td>&quot;0.0&quot;</td><td>&quot;54.422&quot;</td><td>&quot;45095&quot;</td><td>&quot;2.581&quot;</td><td>&quot;1.337&quot;</td><td>&quot;1803.987&quot;</td><td>null</td><td>&quot;597.029&quot;</td><td>&quot;21794&quot;</td><td>null</td><td>null</td><td>&quot;37.746&quot;</td><td>&quot;0.5&quot;</td><td>&quot;64.83&quot;</td><td>&quot;0.511&quot;</td><td>&quot;41128772.0&quot;</td><td>null</td><td>null</td><td>null</td><td>null</td></tr><tr><td>&quot;AFG&quot;</td><td>&quot;Asia&quot;</td><td>&quot;Afghanistan&quot;</td><td>&quot;43835&quot;</td><td>null</td><td>&quot;0.0&quot;</td><td>null</td><td>null</td><td>&quot;0.0&quot;</td><td>null</td><td>null</td><td>&quot;0.0&quot;</td><td>null</td><td>null</td><td>&quot;0.0&quot;</td><td>null</td><td>null</td><td>null</td><td>null</td><td>null</td><td>null</td><td>null</td><td>null</td><td>null</td><td>null</td><td>null</td><td>null</td><td>null</td><td>null</td><td>null</td><td>null</td><td>null</td><td>null</td><td>null</td><td>null</td><td>null</td><td>null</td><td>null</td><td>null</td><td>null</td><td>null</td><td>null</td><td>null</td><td>null</td><td>null</td><td>null</td><td>null</td><td>&quot;0.0&quot;</td><td>&quot;54.422&quot;</td><td>&quot;45095&quot;</td><td>&quot;2.581&quot;</td><td>&quot;1.337&quot;</td><td>&quot;1803.987&quot;</td><td>null</td><td>&quot;597.029&quot;</td><td>&quot;21794&quot;</td><td>null</td><td>null</td><td>&quot;37.746&quot;</td><td>&quot;0.5&quot;</td><td>&quot;64.83&quot;</td><td>&quot;0.511&quot;</td><td>&quot;41128772.0&quot;</td><td>null</td><td>null</td><td>null</td><td>null</td></tr><tr><td>&quot;AFG&quot;</td><td>&quot;Asia&quot;</td><td>&quot;Afghanistan&quot;</td><td>&quot;43836&quot;</td><td>null</td><td>&quot;0.0&quot;</td><td>null</td><td>null</td><td>&quot;0.0&quot;</td><td>null</td><td>null</td><td>&quot;0.0&quot;</td><td>null</td><td>null</td><td>&quot;0.0&quot;</td><td>null</td><td>null</td><td>null</td><td>null</td><td>null</td><td>null</td><td>null</td><td>null</td><td>null</td><td>null</td><td>null</td><td>null</td><td>null</td><td>null</td><td>null</td><td>null</td><td>null</td><td>null</td><td>null</td><td>null</td><td>null</td><td>null</td><td>null</td><td>null</td><td>null</td><td>null</td><td>null</td><td>null</td><td>null</td><td>null</td><td>null</td><td>null</td><td>&quot;0.0&quot;</td><td>&quot;54.422&quot;</td><td>&quot;45095&quot;</td><td>&quot;2.581&quot;</td><td>&quot;1.337&quot;</td><td>&quot;1803.987&quot;</td><td>null</td><td>&quot;597.029&quot;</td><td>&quot;21794&quot;</td><td>null</td><td>null</td><td>&quot;37.746&quot;</td><td>&quot;0.5&quot;</td><td>&quot;64.83&quot;</td><td>&quot;0.511&quot;</td><td>&quot;41128772.0&quot;</td><td>null</td><td>null</td><td>null</td><td>null</td></tr><tr><td>&quot;AFG&quot;</td><td>&quot;Asia&quot;</td><td>&quot;Afghanistan&quot;</td><td>&quot;43837&quot;</td><td>null</td><td>&quot;0.0&quot;</td><td>null</td><td>null</td><td>&quot;0.0&quot;</td><td>null</td><td>null</td><td>&quot;0.0&quot;</td><td>null</td><td>null</td><td>&quot;0.0&quot;</td><td>null</td><td>null</td><td>null</td><td>null</td><td>null</td><td>null</td><td>null</td><td>null</td><td>null</td><td>null</td><td>null</td><td>null</td><td>null</td><td>null</td><td>null</td><td>null</td><td>null</td><td>null</td><td>null</td><td>null</td><td>null</td><td>null</td><td>null</td><td>null</td><td>null</td><td>null</td><td>null</td><td>null</td><td>null</td><td>null</td><td>null</td><td>null</td><td>&quot;0.0&quot;</td><td>&quot;54.422&quot;</td><td>&quot;45095&quot;</td><td>&quot;2.581&quot;</td><td>&quot;1.337&quot;</td><td>&quot;1803.987&quot;</td><td>null</td><td>&quot;597.029&quot;</td><td>&quot;21794&quot;</td><td>null</td><td>null</td><td>&quot;37.746&quot;</td><td>&quot;0.5&quot;</td><td>&quot;64.83&quot;</td><td>&quot;0.511&quot;</td><td>&quot;41128772.0&quot;</td><td>null</td><td>null</td><td>null</td><td>null</td></tr></tbody></table></div>"
      ],
      "text/plain": [
       "shape: (5, 67)\n",
       "┌──────────┬───────────┬────────────┬───────┬───┬────────────┬────────────┬────────────┬───────────┐\n",
       "│ iso_code ┆ continent ┆ location   ┆ date  ┆ … ┆ excess_mor ┆ excess_mor ┆ excess_mor ┆ excess_mo │\n",
       "│ ---      ┆ ---       ┆ ---        ┆ ---   ┆   ┆ tality_cum ┆ tality_cum ┆ tality     ┆ rtality_c │\n",
       "│ str      ┆ str       ┆ str        ┆ str   ┆   ┆ ulative_ab ┆ ulative    ┆ ---        ┆ umulative │\n",
       "│          ┆           ┆            ┆       ┆   ┆ so…        ┆ ---        ┆ str        ┆ _per_…    │\n",
       "│          ┆           ┆            ┆       ┆   ┆ ---        ┆ str        ┆            ┆ ---       │\n",
       "│          ┆           ┆            ┆       ┆   ┆ str        ┆            ┆            ┆ str       │\n",
       "╞══════════╪═══════════╪════════════╪═══════╪═══╪════════════╪════════════╪════════════╪═══════════╡\n",
       "│ AFG      ┆ Asia      ┆ Afghanista ┆ 43833 ┆ … ┆ null       ┆ null       ┆ null       ┆ null      │\n",
       "│          ┆           ┆ n          ┆       ┆   ┆            ┆            ┆            ┆           │\n",
       "│ AFG      ┆ Asia      ┆ Afghanista ┆ 43834 ┆ … ┆ null       ┆ null       ┆ null       ┆ null      │\n",
       "│          ┆           ┆ n          ┆       ┆   ┆            ┆            ┆            ┆           │\n",
       "│ AFG      ┆ Asia      ┆ Afghanista ┆ 43835 ┆ … ┆ null       ┆ null       ┆ null       ┆ null      │\n",
       "│          ┆           ┆ n          ┆       ┆   ┆            ┆            ┆            ┆           │\n",
       "│ AFG      ┆ Asia      ┆ Afghanista ┆ 43836 ┆ … ┆ null       ┆ null       ┆ null       ┆ null      │\n",
       "│          ┆           ┆ n          ┆       ┆   ┆            ┆            ┆            ┆           │\n",
       "│ AFG      ┆ Asia      ┆ Afghanista ┆ 43837 ┆ … ┆ null       ┆ null       ┆ null       ┆ null      │\n",
       "│          ┆           ┆ n          ┆       ┆   ┆            ┆            ┆            ┆           │\n",
       "└──────────┴───────────┴────────────┴───────┴───┴────────────┴────────────┴────────────┴───────────┘"
      ]
     },
     "execution_count": 16,
     "metadata": {},
     "output_type": "execute_result"
    }
   ],
   "source": [
    "%%time\n",
    "scan_rxls_xlsx_plain().head()"
   ]
  },
  {
   "cell_type": "code",
   "execution_count": 17,
   "metadata": {
    "notebookRunGroups": {
     "groupValue": "2"
    }
   },
   "outputs": [
    {
     "name": "stdout",
     "output_type": "stream",
     "text": [
      "CPU times: total: 8min 18s\n",
      "Wall time: 8min 27s\n"
     ]
    },
    {
     "data": {
      "text/html": [
       "<div><style>\n",
       ".dataframe > thead > tr > th,\n",
       ".dataframe > tbody > tr > td {\n",
       "  text-align: right;\n",
       "  white-space: pre-wrap;\n",
       "}\n",
       "</style>\n",
       "<small>shape: (5, 67)</small><table border=\"1\" class=\"dataframe\"><thead><tr><th>iso_code</th><th>continent</th><th>location</th><th>date</th><th>total_cases</th><th>new_cases</th><th>new_cases_smoothed</th><th>total_deaths</th><th>new_deaths</th><th>new_deaths_smoothed</th><th>total_cases_per_million</th><th>new_cases_per_million</th><th>new_cases_smoothed_per_million</th><th>total_deaths_per_million</th><th>new_deaths_per_million</th><th>new_deaths_smoothed_per_million</th><th>reproduction_rate</th><th>icu_patients</th><th>icu_patients_per_million</th><th>hosp_patients</th><th>hosp_patients_per_million</th><th>weekly_icu_admissions</th><th>weekly_icu_admissions_per_million</th><th>weekly_hosp_admissions</th><th>weekly_hosp_admissions_per_million</th><th>total_tests</th><th>new_tests</th><th>total_tests_per_thousand</th><th>new_tests_per_thousand</th><th>new_tests_smoothed</th><th>new_tests_smoothed_per_thousand</th><th>positive_rate</th><th>tests_per_case</th><th>tests_units</th><th>total_vaccinations</th><th>people_vaccinated</th><th>people_fully_vaccinated</th><th>total_boosters</th><th>new_vaccinations</th><th>new_vaccinations_smoothed</th><th>total_vaccinations_per_hundred</th><th>people_vaccinated_per_hundred</th><th>people_fully_vaccinated_per_hundred</th><th>total_boosters_per_hundred</th><th>new_vaccinations_smoothed_per_million</th><th>new_people_vaccinated_smoothed</th><th>new_people_vaccinated_smoothed_per_hundred</th><th>stringency_index</th><th>population_density</th><th>median_age</th><th>aged_65_older</th><th>aged_70_older</th><th>gdp_per_capita</th><th>extreme_poverty</th><th>cardiovasc_death_rate</th><th>diabetes_prevalence</th><th>female_smokers</th><th>male_smokers</th><th>handwashing_facilities</th><th>hospital_beds_per_thousand</th><th>life_expectancy</th><th>human_development_index</th><th>population</th><th>excess_mortality_cumulative_absolute</th><th>excess_mortality_cumulative</th><th>excess_mortality</th><th>excess_mortality_cumulative_per_million</th></tr><tr><td>str</td><td>str</td><td>str</td><td>date</td><td>str</td><td>str</td><td>str</td><td>str</td><td>str</td><td>str</td><td>str</td><td>str</td><td>str</td><td>str</td><td>str</td><td>str</td><td>str</td><td>str</td><td>str</td><td>str</td><td>str</td><td>str</td><td>str</td><td>str</td><td>str</td><td>str</td><td>str</td><td>str</td><td>str</td><td>str</td><td>str</td><td>str</td><td>f64</td><td>str</td><td>str</td><td>str</td><td>str</td><td>str</td><td>str</td><td>str</td><td>str</td><td>str</td><td>str</td><td>str</td><td>str</td><td>str</td><td>str</td><td>str</td><td>str</td><td>str</td><td>str</td><td>str</td><td>str</td><td>str</td><td>str</td><td>f64</td><td>f64</td><td>str</td><td>str</td><td>f64</td><td>str</td><td>str</td><td>str</td><td>str</td><td>f64</td><td>str</td><td>str</td></tr></thead><tbody><tr><td>&quot;AFG&quot;</td><td>&quot;Asia&quot;</td><td>&quot;Afghanistan&quot;</td><td>2020-01-03</td><td>null</td><td>&quot;0.0&quot;</td><td>null</td><td>null</td><td>&quot;0.0&quot;</td><td>null</td><td>null</td><td>&quot;0.0&quot;</td><td>null</td><td>null</td><td>&quot;0.0&quot;</td><td>null</td><td>null</td><td>null</td><td>null</td><td>null</td><td>null</td><td>null</td><td>null</td><td>null</td><td>null</td><td>null</td><td>null</td><td>null</td><td>null</td><td>null</td><td>null</td><td>null</td><td>null</td><td>null</td><td>null</td><td>null</td><td>null</td><td>null</td><td>null</td><td>null</td><td>null</td><td>null</td><td>null</td><td>null</td><td>null</td><td>null</td><td>null</td><td>&quot;0.0&quot;</td><td>&quot;54.422&quot;</td><td>&quot;45095.0&quot;</td><td>&quot;2.581&quot;</td><td>&quot;1.337&quot;</td><td>&quot;1803.987&quot;</td><td>null</td><td>&quot;597.029&quot;</td><td>21794.0</td><td>null</td><td>null</td><td>&quot;37.746&quot;</td><td>0.5</td><td>&quot;64.83&quot;</td><td>&quot;0.511&quot;</td><td>&quot;41128772.0&quot;</td><td>null</td><td>null</td><td>null</td><td>null</td></tr><tr><td>&quot;AFG&quot;</td><td>&quot;Asia&quot;</td><td>&quot;Afghanistan&quot;</td><td>2020-01-04</td><td>null</td><td>&quot;0.0&quot;</td><td>null</td><td>null</td><td>&quot;0.0&quot;</td><td>null</td><td>null</td><td>&quot;0.0&quot;</td><td>null</td><td>null</td><td>&quot;0.0&quot;</td><td>null</td><td>null</td><td>null</td><td>null</td><td>null</td><td>null</td><td>null</td><td>null</td><td>null</td><td>null</td><td>null</td><td>null</td><td>null</td><td>null</td><td>null</td><td>null</td><td>null</td><td>null</td><td>null</td><td>null</td><td>null</td><td>null</td><td>null</td><td>null</td><td>null</td><td>null</td><td>null</td><td>null</td><td>null</td><td>null</td><td>null</td><td>null</td><td>&quot;0.0&quot;</td><td>&quot;54.422&quot;</td><td>&quot;45095.0&quot;</td><td>&quot;2.581&quot;</td><td>&quot;1.337&quot;</td><td>&quot;1803.987&quot;</td><td>null</td><td>&quot;597.029&quot;</td><td>21794.0</td><td>null</td><td>null</td><td>&quot;37.746&quot;</td><td>0.5</td><td>&quot;64.83&quot;</td><td>&quot;0.511&quot;</td><td>&quot;41128772.0&quot;</td><td>null</td><td>null</td><td>null</td><td>null</td></tr><tr><td>&quot;AFG&quot;</td><td>&quot;Asia&quot;</td><td>&quot;Afghanistan&quot;</td><td>2020-01-05</td><td>null</td><td>&quot;0.0&quot;</td><td>null</td><td>null</td><td>&quot;0.0&quot;</td><td>null</td><td>null</td><td>&quot;0.0&quot;</td><td>null</td><td>null</td><td>&quot;0.0&quot;</td><td>null</td><td>null</td><td>null</td><td>null</td><td>null</td><td>null</td><td>null</td><td>null</td><td>null</td><td>null</td><td>null</td><td>null</td><td>null</td><td>null</td><td>null</td><td>null</td><td>null</td><td>null</td><td>null</td><td>null</td><td>null</td><td>null</td><td>null</td><td>null</td><td>null</td><td>null</td><td>null</td><td>null</td><td>null</td><td>null</td><td>null</td><td>null</td><td>&quot;0.0&quot;</td><td>&quot;54.422&quot;</td><td>&quot;45095.0&quot;</td><td>&quot;2.581&quot;</td><td>&quot;1.337&quot;</td><td>&quot;1803.987&quot;</td><td>null</td><td>&quot;597.029&quot;</td><td>21794.0</td><td>null</td><td>null</td><td>&quot;37.746&quot;</td><td>0.5</td><td>&quot;64.83&quot;</td><td>&quot;0.511&quot;</td><td>&quot;41128772.0&quot;</td><td>null</td><td>null</td><td>null</td><td>null</td></tr><tr><td>&quot;AFG&quot;</td><td>&quot;Asia&quot;</td><td>&quot;Afghanistan&quot;</td><td>2020-01-06</td><td>null</td><td>&quot;0.0&quot;</td><td>null</td><td>null</td><td>&quot;0.0&quot;</td><td>null</td><td>null</td><td>&quot;0.0&quot;</td><td>null</td><td>null</td><td>&quot;0.0&quot;</td><td>null</td><td>null</td><td>null</td><td>null</td><td>null</td><td>null</td><td>null</td><td>null</td><td>null</td><td>null</td><td>null</td><td>null</td><td>null</td><td>null</td><td>null</td><td>null</td><td>null</td><td>null</td><td>null</td><td>null</td><td>null</td><td>null</td><td>null</td><td>null</td><td>null</td><td>null</td><td>null</td><td>null</td><td>null</td><td>null</td><td>null</td><td>null</td><td>&quot;0.0&quot;</td><td>&quot;54.422&quot;</td><td>&quot;45095.0&quot;</td><td>&quot;2.581&quot;</td><td>&quot;1.337&quot;</td><td>&quot;1803.987&quot;</td><td>null</td><td>&quot;597.029&quot;</td><td>21794.0</td><td>null</td><td>null</td><td>&quot;37.746&quot;</td><td>0.5</td><td>&quot;64.83&quot;</td><td>&quot;0.511&quot;</td><td>&quot;41128772.0&quot;</td><td>null</td><td>null</td><td>null</td><td>null</td></tr><tr><td>&quot;AFG&quot;</td><td>&quot;Asia&quot;</td><td>&quot;Afghanistan&quot;</td><td>2020-01-07</td><td>null</td><td>&quot;0.0&quot;</td><td>null</td><td>null</td><td>&quot;0.0&quot;</td><td>null</td><td>null</td><td>&quot;0.0&quot;</td><td>null</td><td>null</td><td>&quot;0.0&quot;</td><td>null</td><td>null</td><td>null</td><td>null</td><td>null</td><td>null</td><td>null</td><td>null</td><td>null</td><td>null</td><td>null</td><td>null</td><td>null</td><td>null</td><td>null</td><td>null</td><td>null</td><td>null</td><td>null</td><td>null</td><td>null</td><td>null</td><td>null</td><td>null</td><td>null</td><td>null</td><td>null</td><td>null</td><td>null</td><td>null</td><td>null</td><td>null</td><td>&quot;0.0&quot;</td><td>&quot;54.422&quot;</td><td>&quot;45095.0&quot;</td><td>&quot;2.581&quot;</td><td>&quot;1.337&quot;</td><td>&quot;1803.987&quot;</td><td>null</td><td>&quot;597.029&quot;</td><td>21794.0</td><td>null</td><td>null</td><td>&quot;37.746&quot;</td><td>0.5</td><td>&quot;64.83&quot;</td><td>&quot;0.511&quot;</td><td>&quot;41128772.0&quot;</td><td>null</td><td>null</td><td>null</td><td>null</td></tr></tbody></table></div>"
      ],
      "text/plain": [
       "shape: (5, 67)\n",
       "┌──────────┬───────────┬───────────┬───────────┬───┬───────────┬───────────┬───────────┬───────────┐\n",
       "│ iso_code ┆ continent ┆ location  ┆ date      ┆ … ┆ excess_mo ┆ excess_mo ┆ excess_mo ┆ excess_mo │\n",
       "│ ---      ┆ ---       ┆ ---       ┆ ---       ┆   ┆ rtality_c ┆ rtality_c ┆ rtality   ┆ rtality_c │\n",
       "│ str      ┆ str       ┆ str       ┆ date      ┆   ┆ umulative ┆ umulative ┆ ---       ┆ umulative │\n",
       "│          ┆           ┆           ┆           ┆   ┆ _abso…    ┆ ---       ┆ str       ┆ _per_…    │\n",
       "│          ┆           ┆           ┆           ┆   ┆ ---       ┆ f64       ┆           ┆ ---       │\n",
       "│          ┆           ┆           ┆           ┆   ┆ str       ┆           ┆           ┆ str       │\n",
       "╞══════════╪═══════════╪═══════════╪═══════════╪═══╪═══════════╪═══════════╪═══════════╪═══════════╡\n",
       "│ AFG      ┆ Asia      ┆ Afghanist ┆ 2020-01-0 ┆ … ┆ null      ┆ null      ┆ null      ┆ null      │\n",
       "│          ┆           ┆ an        ┆ 3         ┆   ┆           ┆           ┆           ┆           │\n",
       "│ AFG      ┆ Asia      ┆ Afghanist ┆ 2020-01-0 ┆ … ┆ null      ┆ null      ┆ null      ┆ null      │\n",
       "│          ┆           ┆ an        ┆ 4         ┆   ┆           ┆           ┆           ┆           │\n",
       "│ AFG      ┆ Asia      ┆ Afghanist ┆ 2020-01-0 ┆ … ┆ null      ┆ null      ┆ null      ┆ null      │\n",
       "│          ┆           ┆ an        ┆ 5         ┆   ┆           ┆           ┆           ┆           │\n",
       "│ AFG      ┆ Asia      ┆ Afghanist ┆ 2020-01-0 ┆ … ┆ null      ┆ null      ┆ null      ┆ null      │\n",
       "│          ┆           ┆ an        ┆ 6         ┆   ┆           ┆           ┆           ┆           │\n",
       "│ AFG      ┆ Asia      ┆ Afghanist ┆ 2020-01-0 ┆ … ┆ null      ┆ null      ┆ null      ┆ null      │\n",
       "│          ┆           ┆ an        ┆ 7         ┆   ┆           ┆           ┆           ┆           │\n",
       "└──────────┴───────────┴───────────┴───────────┴───┴───────────┴───────────┴───────────┴───────────┘"
      ]
     },
     "execution_count": 17,
     "metadata": {},
     "output_type": "execute_result"
    }
   ],
   "source": [
    "%%time\n",
    "scan_rxls_xlsb().head()"
   ]
  },
  {
   "cell_type": "code",
   "execution_count": 18,
   "metadata": {
    "notebookRunGroups": {
     "groupValue": "2"
    }
   },
   "outputs": [
    {
     "name": "stdout",
     "output_type": "stream",
     "text": [
      "CPU times: total: 8min 3s\n",
      "Wall time: 8min 12s\n"
     ]
    },
    {
     "data": {
      "text/html": [
       "<div><style>\n",
       ".dataframe > thead > tr > th,\n",
       ".dataframe > tbody > tr > td {\n",
       "  text-align: right;\n",
       "  white-space: pre-wrap;\n",
       "}\n",
       "</style>\n",
       "<small>shape: (5, 67)</small><table border=\"1\" class=\"dataframe\"><thead><tr><th>iso_code</th><th>continent</th><th>location</th><th>date</th><th>total_cases</th><th>new_cases</th><th>new_cases_smoothed</th><th>total_deaths</th><th>new_deaths</th><th>new_deaths_smoothed</th><th>total_cases_per_million</th><th>new_cases_per_million</th><th>new_cases_smoothed_per_million</th><th>total_deaths_per_million</th><th>new_deaths_per_million</th><th>new_deaths_smoothed_per_million</th><th>reproduction_rate</th><th>icu_patients</th><th>icu_patients_per_million</th><th>hosp_patients</th><th>hosp_patients_per_million</th><th>weekly_icu_admissions</th><th>weekly_icu_admissions_per_million</th><th>weekly_hosp_admissions</th><th>weekly_hosp_admissions_per_million</th><th>total_tests</th><th>new_tests</th><th>total_tests_per_thousand</th><th>new_tests_per_thousand</th><th>new_tests_smoothed</th><th>new_tests_smoothed_per_thousand</th><th>positive_rate</th><th>tests_per_case</th><th>tests_units</th><th>total_vaccinations</th><th>people_vaccinated</th><th>people_fully_vaccinated</th><th>total_boosters</th><th>new_vaccinations</th><th>new_vaccinations_smoothed</th><th>total_vaccinations_per_hundred</th><th>people_vaccinated_per_hundred</th><th>people_fully_vaccinated_per_hundred</th><th>total_boosters_per_hundred</th><th>new_vaccinations_smoothed_per_million</th><th>new_people_vaccinated_smoothed</th><th>new_people_vaccinated_smoothed_per_hundred</th><th>stringency_index</th><th>population_density</th><th>median_age</th><th>aged_65_older</th><th>aged_70_older</th><th>gdp_per_capita</th><th>extreme_poverty</th><th>cardiovasc_death_rate</th><th>diabetes_prevalence</th><th>female_smokers</th><th>male_smokers</th><th>handwashing_facilities</th><th>hospital_beds_per_thousand</th><th>life_expectancy</th><th>human_development_index</th><th>population</th><th>excess_mortality_cumulative_absolute</th><th>excess_mortality_cumulative</th><th>excess_mortality</th><th>excess_mortality_cumulative_per_million</th></tr><tr><td>str</td><td>str</td><td>str</td><td>str</td><td>str</td><td>str</td><td>str</td><td>str</td><td>str</td><td>str</td><td>str</td><td>str</td><td>str</td><td>str</td><td>str</td><td>str</td><td>str</td><td>str</td><td>str</td><td>str</td><td>str</td><td>str</td><td>str</td><td>str</td><td>str</td><td>str</td><td>str</td><td>str</td><td>str</td><td>str</td><td>str</td><td>str</td><td>str</td><td>str</td><td>str</td><td>str</td><td>str</td><td>str</td><td>str</td><td>str</td><td>str</td><td>str</td><td>str</td><td>str</td><td>str</td><td>str</td><td>str</td><td>str</td><td>str</td><td>str</td><td>str</td><td>str</td><td>str</td><td>str</td><td>str</td><td>str</td><td>str</td><td>str</td><td>str</td><td>str</td><td>str</td><td>str</td><td>str</td><td>str</td><td>str</td><td>str</td><td>str</td></tr></thead><tbody><tr><td>&quot;AFG&quot;</td><td>&quot;Asia&quot;</td><td>&quot;Afghanistan&quot;</td><td>&quot;43833&quot;</td><td>null</td><td>&quot;0.0&quot;</td><td>null</td><td>null</td><td>&quot;0.0&quot;</td><td>null</td><td>null</td><td>&quot;0.0&quot;</td><td>null</td><td>null</td><td>&quot;0.0&quot;</td><td>null</td><td>null</td><td>null</td><td>null</td><td>null</td><td>null</td><td>null</td><td>null</td><td>null</td><td>null</td><td>null</td><td>null</td><td>null</td><td>null</td><td>null</td><td>null</td><td>null</td><td>null</td><td>null</td><td>null</td><td>null</td><td>null</td><td>null</td><td>null</td><td>null</td><td>null</td><td>null</td><td>null</td><td>null</td><td>null</td><td>null</td><td>null</td><td>&quot;0.0&quot;</td><td>&quot;54.422&quot;</td><td>&quot;45095.0&quot;</td><td>&quot;2.581&quot;</td><td>&quot;1.337&quot;</td><td>&quot;1803.987&quot;</td><td>null</td><td>&quot;597.029&quot;</td><td>&quot;21794.0&quot;</td><td>null</td><td>null</td><td>&quot;37.746&quot;</td><td>&quot;0.5&quot;</td><td>&quot;64.83&quot;</td><td>&quot;0.511&quot;</td><td>&quot;41128772.0&quot;</td><td>null</td><td>null</td><td>null</td><td>null</td></tr><tr><td>&quot;AFG&quot;</td><td>&quot;Asia&quot;</td><td>&quot;Afghanistan&quot;</td><td>&quot;43834&quot;</td><td>null</td><td>&quot;0.0&quot;</td><td>null</td><td>null</td><td>&quot;0.0&quot;</td><td>null</td><td>null</td><td>&quot;0.0&quot;</td><td>null</td><td>null</td><td>&quot;0.0&quot;</td><td>null</td><td>null</td><td>null</td><td>null</td><td>null</td><td>null</td><td>null</td><td>null</td><td>null</td><td>null</td><td>null</td><td>null</td><td>null</td><td>null</td><td>null</td><td>null</td><td>null</td><td>null</td><td>null</td><td>null</td><td>null</td><td>null</td><td>null</td><td>null</td><td>null</td><td>null</td><td>null</td><td>null</td><td>null</td><td>null</td><td>null</td><td>null</td><td>&quot;0.0&quot;</td><td>&quot;54.422&quot;</td><td>&quot;45095.0&quot;</td><td>&quot;2.581&quot;</td><td>&quot;1.337&quot;</td><td>&quot;1803.987&quot;</td><td>null</td><td>&quot;597.029&quot;</td><td>&quot;21794.0&quot;</td><td>null</td><td>null</td><td>&quot;37.746&quot;</td><td>&quot;0.5&quot;</td><td>&quot;64.83&quot;</td><td>&quot;0.511&quot;</td><td>&quot;41128772.0&quot;</td><td>null</td><td>null</td><td>null</td><td>null</td></tr><tr><td>&quot;AFG&quot;</td><td>&quot;Asia&quot;</td><td>&quot;Afghanistan&quot;</td><td>&quot;43835&quot;</td><td>null</td><td>&quot;0.0&quot;</td><td>null</td><td>null</td><td>&quot;0.0&quot;</td><td>null</td><td>null</td><td>&quot;0.0&quot;</td><td>null</td><td>null</td><td>&quot;0.0&quot;</td><td>null</td><td>null</td><td>null</td><td>null</td><td>null</td><td>null</td><td>null</td><td>null</td><td>null</td><td>null</td><td>null</td><td>null</td><td>null</td><td>null</td><td>null</td><td>null</td><td>null</td><td>null</td><td>null</td><td>null</td><td>null</td><td>null</td><td>null</td><td>null</td><td>null</td><td>null</td><td>null</td><td>null</td><td>null</td><td>null</td><td>null</td><td>null</td><td>&quot;0.0&quot;</td><td>&quot;54.422&quot;</td><td>&quot;45095.0&quot;</td><td>&quot;2.581&quot;</td><td>&quot;1.337&quot;</td><td>&quot;1803.987&quot;</td><td>null</td><td>&quot;597.029&quot;</td><td>&quot;21794.0&quot;</td><td>null</td><td>null</td><td>&quot;37.746&quot;</td><td>&quot;0.5&quot;</td><td>&quot;64.83&quot;</td><td>&quot;0.511&quot;</td><td>&quot;41128772.0&quot;</td><td>null</td><td>null</td><td>null</td><td>null</td></tr><tr><td>&quot;AFG&quot;</td><td>&quot;Asia&quot;</td><td>&quot;Afghanistan&quot;</td><td>&quot;43836&quot;</td><td>null</td><td>&quot;0.0&quot;</td><td>null</td><td>null</td><td>&quot;0.0&quot;</td><td>null</td><td>null</td><td>&quot;0.0&quot;</td><td>null</td><td>null</td><td>&quot;0.0&quot;</td><td>null</td><td>null</td><td>null</td><td>null</td><td>null</td><td>null</td><td>null</td><td>null</td><td>null</td><td>null</td><td>null</td><td>null</td><td>null</td><td>null</td><td>null</td><td>null</td><td>null</td><td>null</td><td>null</td><td>null</td><td>null</td><td>null</td><td>null</td><td>null</td><td>null</td><td>null</td><td>null</td><td>null</td><td>null</td><td>null</td><td>null</td><td>null</td><td>&quot;0.0&quot;</td><td>&quot;54.422&quot;</td><td>&quot;45095.0&quot;</td><td>&quot;2.581&quot;</td><td>&quot;1.337&quot;</td><td>&quot;1803.987&quot;</td><td>null</td><td>&quot;597.029&quot;</td><td>&quot;21794.0&quot;</td><td>null</td><td>null</td><td>&quot;37.746&quot;</td><td>&quot;0.5&quot;</td><td>&quot;64.83&quot;</td><td>&quot;0.511&quot;</td><td>&quot;41128772.0&quot;</td><td>null</td><td>null</td><td>null</td><td>null</td></tr><tr><td>&quot;AFG&quot;</td><td>&quot;Asia&quot;</td><td>&quot;Afghanistan&quot;</td><td>&quot;43837&quot;</td><td>null</td><td>&quot;0.0&quot;</td><td>null</td><td>null</td><td>&quot;0.0&quot;</td><td>null</td><td>null</td><td>&quot;0.0&quot;</td><td>null</td><td>null</td><td>&quot;0.0&quot;</td><td>null</td><td>null</td><td>null</td><td>null</td><td>null</td><td>null</td><td>null</td><td>null</td><td>null</td><td>null</td><td>null</td><td>null</td><td>null</td><td>null</td><td>null</td><td>null</td><td>null</td><td>null</td><td>null</td><td>null</td><td>null</td><td>null</td><td>null</td><td>null</td><td>null</td><td>null</td><td>null</td><td>null</td><td>null</td><td>null</td><td>null</td><td>null</td><td>&quot;0.0&quot;</td><td>&quot;54.422&quot;</td><td>&quot;45095.0&quot;</td><td>&quot;2.581&quot;</td><td>&quot;1.337&quot;</td><td>&quot;1803.987&quot;</td><td>null</td><td>&quot;597.029&quot;</td><td>&quot;21794.0&quot;</td><td>null</td><td>null</td><td>&quot;37.746&quot;</td><td>&quot;0.5&quot;</td><td>&quot;64.83&quot;</td><td>&quot;0.511&quot;</td><td>&quot;41128772.0&quot;</td><td>null</td><td>null</td><td>null</td><td>null</td></tr></tbody></table></div>"
      ],
      "text/plain": [
       "shape: (5, 67)\n",
       "┌──────────┬───────────┬────────────┬───────┬───┬────────────┬────────────┬────────────┬───────────┐\n",
       "│ iso_code ┆ continent ┆ location   ┆ date  ┆ … ┆ excess_mor ┆ excess_mor ┆ excess_mor ┆ excess_mo │\n",
       "│ ---      ┆ ---       ┆ ---        ┆ ---   ┆   ┆ tality_cum ┆ tality_cum ┆ tality     ┆ rtality_c │\n",
       "│ str      ┆ str       ┆ str        ┆ str   ┆   ┆ ulative_ab ┆ ulative    ┆ ---        ┆ umulative │\n",
       "│          ┆           ┆            ┆       ┆   ┆ so…        ┆ ---        ┆ str        ┆ _per_…    │\n",
       "│          ┆           ┆            ┆       ┆   ┆ ---        ┆ str        ┆            ┆ ---       │\n",
       "│          ┆           ┆            ┆       ┆   ┆ str        ┆            ┆            ┆ str       │\n",
       "╞══════════╪═══════════╪════════════╪═══════╪═══╪════════════╪════════════╪════════════╪═══════════╡\n",
       "│ AFG      ┆ Asia      ┆ Afghanista ┆ 43833 ┆ … ┆ null       ┆ null       ┆ null       ┆ null      │\n",
       "│          ┆           ┆ n          ┆       ┆   ┆            ┆            ┆            ┆           │\n",
       "│ AFG      ┆ Asia      ┆ Afghanista ┆ 43834 ┆ … ┆ null       ┆ null       ┆ null       ┆ null      │\n",
       "│          ┆           ┆ n          ┆       ┆   ┆            ┆            ┆            ┆           │\n",
       "│ AFG      ┆ Asia      ┆ Afghanista ┆ 43835 ┆ … ┆ null       ┆ null       ┆ null       ┆ null      │\n",
       "│          ┆           ┆ n          ┆       ┆   ┆            ┆            ┆            ┆           │\n",
       "│ AFG      ┆ Asia      ┆ Afghanista ┆ 43836 ┆ … ┆ null       ┆ null       ┆ null       ┆ null      │\n",
       "│          ┆           ┆ n          ┆       ┆   ┆            ┆            ┆            ┆           │\n",
       "│ AFG      ┆ Asia      ┆ Afghanista ┆ 43837 ┆ … ┆ null       ┆ null       ┆ null       ┆ null      │\n",
       "│          ┆           ┆ n          ┆       ┆   ┆            ┆            ┆            ┆           │\n",
       "└──────────┴───────────┴────────────┴───────┴───┴────────────┴────────────┴────────────┴───────────┘"
      ]
     },
     "execution_count": 18,
     "metadata": {},
     "output_type": "execute_result"
    }
   ],
   "source": [
    "%%time\n",
    "scan_rxls_xlsb_plain().head()"
   ]
  },
  {
   "attachments": {},
   "cell_type": "markdown",
   "metadata": {},
   "source": [
    "### Memory Profiler"
   ]
  },
  {
   "attachments": {},
   "cell_type": "markdown",
   "metadata": {},
   "source": [
    "*For these tests, I've reload kernel between tests, for better consistency*"
   ]
  },
  {
   "cell_type": "code",
   "execution_count": 8,
   "metadata": {
    "notebookRunGroups": {
     "groupValue": "1"
    }
   },
   "outputs": [],
   "source": [
    "%load_ext memory_profiler"
   ]
  },
  {
   "cell_type": "code",
   "execution_count": 9,
   "metadata": {},
   "outputs": [
    {
     "name": "stdout",
     "output_type": "stream",
     "text": [
      "peak memory: 1062.39 MiB, increment: 884.97 MiB\n"
     ]
    }
   ],
   "source": [
    "%memit scan_rxls_xlsb()"
   ]
  },
  {
   "cell_type": "code",
   "execution_count": 9,
   "metadata": {},
   "outputs": [
    {
     "name": "stdout",
     "output_type": "stream",
     "text": [
      "peak memory: 1197.21 MiB, increment: 1018.47 MiB\n"
     ]
    }
   ],
   "source": [
    "%memit scan_rxls_xlsx()"
   ]
  },
  {
   "cell_type": "code",
   "execution_count": 9,
   "metadata": {},
   "outputs": [
    {
     "name": "stdout",
     "output_type": "stream",
     "text": [
      "peak memory: 1295.19 MiB, increment: 1117.53 MiB\n"
     ]
    }
   ],
   "source": [
    "%memit scan_rxls_xlsb_plain()"
   ]
  },
  {
   "cell_type": "code",
   "execution_count": 9,
   "metadata": {},
   "outputs": [
    {
     "name": "stdout",
     "output_type": "stream",
     "text": [
      "peak memory: 1347.00 MiB, increment: 1168.97 MiB\n"
     ]
    }
   ],
   "source": [
    "%memit scan_rxls_xlsx_plain()"
   ]
  },
  {
   "cell_type": "code",
   "execution_count": 9,
   "metadata": {},
   "outputs": [
    {
     "name": "stdout",
     "output_type": "stream",
     "text": [
      "peak memory: 713.02 MiB, increment: 533.98 MiB\n"
     ]
    }
   ],
   "source": [
    "%memit scan_xlsx2csv()"
   ]
  },
  {
   "cell_type": "code",
   "execution_count": 9,
   "metadata": {},
   "outputs": [
    {
     "name": "stdout",
     "output_type": "stream",
     "text": [
      "peak memory: 4611.20 MiB, increment: 4433.22 MiB\n"
     ]
    }
   ],
   "source": [
    "%memit scan_openpyxl()"
   ]
  },
  {
   "cell_type": "code",
   "execution_count": 9,
   "metadata": {},
   "outputs": [
    {
     "name": "stdout",
     "output_type": "stream",
     "text": [
      "peak memory: 2666.74 MiB, increment: 2488.54 MiB\n"
     ]
    }
   ],
   "source": [
    "%memit scan_pyxlsb()"
   ]
  },
  {
   "attachments": {},
   "cell_type": "markdown",
   "metadata": {},
   "source": [
    "## Results \n",
    "\n",
    "### Middle-size: https://www.learningcontainer.com/download/sample-sales-data-excel-xls/\n",
    "\n",
    "*(see previous commit of this file for details)*"
   ]
  },
  {
   "attachments": {},
   "cell_type": "markdown",
   "metadata": {},
   "source": [
    "### TimeIt:\n",
    "\n",
    "- XLSB reading:\n",
    "    1) RXLS `(plain: 2.51 s ± 42.3 ms per loop (mean ± std. dev. of 7 runs, 1 loop each))`\n",
    "    2) PyXLSB `(2.58 s ± 105 ms per loop (mean ± std. dev. of 7 runs, 1 loop each))`\n",
    "    3) RXLS `(basic: 2.75 s ± 350 ms per loop (mean ± std. dev. of 7 runs, 1 loop each))`\n",
    "\n",
    "\n",
    "- XLSX reading:\n",
    "    1) RXLS `(2.55 s ± 171 ms per loop (mean ± std. dev. of 7 runs, 1 loop each))` *plain ~ basic*\n",
    "    2) XLSX2CSV `(2.82 s ± 266 ms per loop (mean ± std. dev. of 7 runs, 1 loop each))`\n",
    "    3) OpenPyXL `(2.86 s ± 64.7 ms per loop (mean ± std. dev. of 7 runs, 1 loop each))`"
   ]
  },
  {
   "attachments": {},
   "cell_type": "markdown",
   "metadata": {},
   "source": [
    "### Memory profiler\n",
    "\n",
    "- XLSB reading:\n",
    "    1) RXLS `(plain: peak memory: 194.72 MiB, increment: 15.71 MiB)`\n",
    "    2) PyXLSB `(peak memory: 200.15 MiB, increment: 21.14 MiB)`\n",
    "    3) RXLS `(basic: peak memory: 202.35 MiB, increment: 23.70 MiB)`\n",
    "\n",
    "\n",
    "- XLSX reading:\n",
    "    1) RXLS `(plain: peak memory: 195.05 MiB, increment: 16.29 MiB)`\n",
    "    2) XLSX2CSV `(peak memory: 206.03 MiB, increment: 18.24 MiB)`\n",
    "    3) RXLS `(basic: peak memory: 200.18 MiB, increment: 21.16 MiB)`\n",
    "    4) OpenPyXL `(peak memory: 268.98 MiB, increment: 90.93 MiB)` "
   ]
  },
  {
   "attachments": {},
   "cell_type": "markdown",
   "metadata": {},
   "source": [
    "### Large size (OWID)"
   ]
  },
  {
   "attachments": {},
   "cell_type": "markdown",
   "metadata": {},
   "source": [
    "### Time"
   ]
  },
  {
   "attachments": {},
   "cell_type": "markdown",
   "metadata": {},
   "source": [
    "* XLSB reading:\n",
    "    1. PyXLSB *(my workaround :) )*: `CPU times: total: 4min 57s; Wall time: 5min 5s`\n",
    "    2. RXLS: `CPU times: total: 8min 3s; Wall time: 8min 12s`\n",
    "\n",
    "* XLSX reading:\n",
    "    1. RXLS: `plain: CPU times: total: 4min 3s; Wall time: 4min 1s`\n",
    "    2. RXLS: `basic: CPU times: total: 4min 16s; Wall time: 4min 15s`\n",
    "    3. XLSX2CSV: `CPU times: total: 4min 57s; Wall time: 5min 5s`\n",
    "    4. OpenPyXL: `CPU times: total: 17min 56s; Wall time: 25min 18s`"
   ]
  },
  {
   "attachments": {},
   "cell_type": "markdown",
   "metadata": {},
   "source": [
    "### Memory profiler"
   ]
  },
  {
   "attachments": {},
   "cell_type": "markdown",
   "metadata": {},
   "source": [
    "* XLSB reading:\n",
    "    1. RXLS: `basic: peak memory: 1062.39 MiB, increment: 884.97 MiB`\n",
    "    2. RXLS: `plain: peak memory: 1295.19 MiB, increment: 1117.53 MiB`\n",
    "    3. PyXLSB: `peak memory: 2666.74 MiB, increment: 2488.54 MiB`\n",
    "\n",
    "* XLSX reading:\n",
    "    1. XLSX2CSV: `peak memory: 713.02 MiB, increment: 533.98 MiB`\n",
    "    2. RXLS: `basic: peak memory: 1197.21 MiB, increment: 1018.47 MiB`\n",
    "    3. RXLS: `plain: peak memory: 1347.00 MiB, increment: 1168.97 MiB`\n",
    "    4. OpenPyXL: `peak memory: 4611.20 MiB, increment: 4433.22 MiB`"
   ]
  },
  {
   "attachments": {},
   "cell_type": "markdown",
   "metadata": {},
   "source": [
    "*XLSB parsing is ~2x slower than XLSX, in RXLS (but there is many optimisation points, in both parsers)*\n",
    "\n",
    "*Memory footprint of OpenPyXL is very large - it's take all of my RAM for 97MB xlsx file.*\n",
    "\n",
    "*Maybe, some optimisations missed in Polars openpyxl adapter: `read-only workbooks, data-only mode` (?)*"
   ]
  }
 ],
 "metadata": {
  "kernelspec": {
   "display_name": ".venv",
   "language": "python",
   "name": "python3"
  },
  "language_info": {
   "codemirror_mode": {
    "name": "ipython",
    "version": 3
   },
   "file_extension": ".py",
   "mimetype": "text/x-python",
   "name": "python",
   "nbconvert_exporter": "python",
   "pygments_lexer": "ipython3",
   "version": "3.10.0"
  },
  "orig_nbformat": 4,
  "vscode": {
   "interpreter": {
    "hash": "63b6a2b0f35fa4ea1c49d25456d100cfd93064b5ee1d57f74d839a65cc2b63a2"
   }
  }
 },
 "nbformat": 4,
 "nbformat_minor": 2
}
