{
 "cells": [
  {
   "attachments": {},
   "cell_type": "markdown",
   "metadata": {},
   "source": [
    "## Initialization"
   ]
  },
  {
   "cell_type": "code",
   "execution_count": null,
   "metadata": {},
   "outputs": [],
   "source": [
    "# ruff: noqa:I001, T201"
   ]
  },
  {
   "cell_type": "code",
   "execution_count": 1,
   "metadata": {
    "notebookRunGroups": {
     "groupValue": "1"
    }
   },
   "outputs": [
    {
     "name": "stdout",
     "output_type": "stream",
     "text": [
      "[========================================================================================================================]\n",
      "|                                               benchmark environment used                                               |\n",
      "[======== system ========][========================================== property ==========================================]\n",
      "|        Platform        ||                                  Windows-10-10.0.19044-SP0                                   |\n",
      "|          CPU           ||                      AMD64 Family 23 Model 17 Stepping 0, AuthenticAMD                       |\n",
      "|         CPU HZ         ||                               2.4950 GHz (actual: 2.5000 GHz)                                |\n",
      "|         Python         ||       3.8.10 (tags/v3.8.10:3d8993a, May  3 2021, 11:48:03) [MSC v.1928 64 bit (AMD64)]       |\n",
      "[====== dependency ======][========================================== version ===========================================]\n",
      "|        PyArrow         ||                                            14.0.2                                            |\n",
      "|         Polars         ||                                            0.20.4                                            |\n",
      "|         Pandas         ||                                            2.0.3                                             |\n",
      "|         Numba          ||                                            0.58.1                                            |\n",
      "|        XLSX2CSV        ||                                            0.8.2                                             |\n",
      "|        OpenPyXL        ||                                            3.1.2                                             |\n",
      "|         PyXLSB         ||                                            1.0.10                                            |\n",
      "|    python_calamine     ||                                            0.1.7                                             |\n",
      "|          tqdm          ||                                            4.66.1                                            |\n",
      "|      recordclass       ||                                            0.21.1                                            |\n",
      "|          lxml          ||                                            5.1.0                                             |\n",
      "|        cpuinfo         ||                                            9.0.0                                             |\n",
      "|    memory_profiler     ||                                            0.61.0                                            |\n",
      "[========================][==============================================================================================]\n"
     ]
    }
   ],
   "source": [
    "import platform\n",
    "import cpuinfo\n",
    "import sys\n",
    "\n",
    "import polars as pl\n",
    "import pyarrow as pa\n",
    "import pandas as pd\n",
    "import numba as nb\n",
    "\n",
    "import xlsx2csv\n",
    "import openpyxl\n",
    "import pyxlsb\n",
    "import python_calamine as calamine\n",
    "\n",
    "import recordclass\n",
    "import tqdm as _tqdm\n",
    "import lxml\n",
    "\n",
    "import memory_profiler\n",
    "\n",
    "from rxls.reader import read as xl_scan\n",
    "from tqdm import tqdm\n",
    "\n",
    "cpu: dict = cpuinfo.get_cpu_info()\n",
    "\n",
    "print(\n",
    "    f'[{\"=\":=^120}]',\n",
    "    f'|{\" benchmark environment used \":^120}|',\n",
    "    f'[{\" system \":=^24}][{\" property \":=^94}]',\n",
    "    *[\n",
    "        f'|{f\" {name} \":^24}||{f\" {version} \":^94}|'\n",
    "        for name, version in {\n",
    "            \"Platform\": platform.platform(),\n",
    "            \"CPU\": platform.processor(),\n",
    "            \"CPU HZ\": f'{cpu[\"hz_advertised_friendly\"]} (actual: {cpu[\"hz_actual_friendly\"]})',\n",
    "            \"Python\": sys.version,\n",
    "        }.items()\n",
    "    ],\n",
    "    f'[{\" dependency \":=^24}][{\" version \":=^94}]',\n",
    "    *[\n",
    "        f'|{f\" {name} \":^24}||{f\" {version} \":^94}|'\n",
    "        for name, version in {\n",
    "            \"PyArrow\": pa.__version__,\n",
    "            \"Polars\": pl.__version__,\n",
    "            \"Pandas\": pd.__version__,\n",
    "            \"Numba\": nb.__version__,\n",
    "            \"XLSX2CSV\": xlsx2csv.__version__,\n",
    "            \"OpenPyXL\": openpyxl.__version__,\n",
    "            \"PyXLSB\": pyxlsb.__version__,\n",
    "            \"python_calamine\": \"0.1.7\",  # On 2024-01-20 this package has no `__version__` attribute\n",
    "            \"tqdm\": _tqdm.__version__,\n",
    "            \"recordclass\": recordclass.__version__,\n",
    "            \"lxml\": lxml.__version__,\n",
    "            \"cpuinfo\": \".\".join(map(str, cpuinfo.CPUINFO_VERSION)),\n",
    "            \"memory_profiler\": memory_profiler.__version__,\n",
    "        }.items()\n",
    "    ],\n",
    "    f'[{\"=\":=^24}][{\"=\":=^94}]',\n",
    "    sep=\"\\n\",\n",
    ")"
   ]
  },
  {
   "attachments": {},
   "cell_type": "markdown",
   "metadata": {},
   "source": [
    "## DataSource:\n",
    "\n",
    "Our World In Data: COVID-19\n",
    "\n",
    "https://github.com/owid/covid-19-data/raw/cd68c0641d0837adb62c2ed3146459a593aa776a/public/data/owid-covid-data.csv\n",
    "\n",
    "**I've download this, and save with MS Excel to .xlsx and .xlsb formats using `Legacy` text import wizard (keep errors in columns)**"
   ]
  },
  {
   "cell_type": "code",
   "execution_count": 2,
   "metadata": {
    "notebookRunGroups": {
     "groupValue": "1"
    }
   },
   "outputs": [],
   "source": [
    "# Original CSV file and converted XLSX/XLSB datasets saved in `benchmarks.datasets.7z`\n",
    "XLSX_FILE = \"covid.xlsx\"\n",
    "XLSB_FILE = \"covid.xlsb\""
   ]
  },
  {
   "cell_type": "code",
   "execution_count": 3,
   "metadata": {
    "notebookRunGroups": {
     "groupValue": "1"
    }
   },
   "outputs": [],
   "source": [
    "from IPython.core.display import display_html\n",
    "\n",
    "\n",
    "def show_df(df: pl.DataFrame) -> None:\n",
    "    print(f\"rows: {df.height} columns: {df.width}\")\n",
    "    display_html(df.head())"
   ]
  },
  {
   "attachments": {},
   "cell_type": "markdown",
   "metadata": {},
   "source": [
    "### RXLS. Scan both xlsx and xlsb (*plain = convert all columns to utf8*)"
   ]
  },
  {
   "cell_type": "code",
   "execution_count": 4,
   "metadata": {
    "notebookRunGroups": {
     "groupValue": "1"
    }
   },
   "outputs": [],
   "source": [
    "def scan_rxls_xlsx_plain(path: str = XLSX_FILE) -> pl.DataFrame:\n",
    "    return pl.from_arrow(xl_scan(path, header=True, dtypes=pa.large_string()))  # type: ignore\n",
    "\n",
    "\n",
    "def scan_rxls_xlsb_plain(path: str = XLSB_FILE) -> pl.DataFrame:\n",
    "    return pl.from_arrow(xl_scan(path, header=True, dtypes=pa.large_string()))  # type: ignore\n",
    "\n",
    "\n",
    "def scan_rxls_xlsx(path: str = XLSX_FILE) -> pl.DataFrame:\n",
    "    return pl.from_arrow(xl_scan(path, header=True))  # type: ignore\n",
    "\n",
    "\n",
    "def scan_rxls_xlsb(path: str = XLSB_FILE) -> pl.DataFrame:\n",
    "    return pl.from_arrow(xl_scan(path, header=True))  # type: ignore"
   ]
  },
  {
   "cell_type": "code",
   "execution_count": 10,
   "metadata": {
    "notebookRunGroups": {
     "groupValue": ""
    }
   },
   "outputs": [
    {
     "name": "stdout",
     "output_type": "stream",
     "text": [
      "rows: 276700 columns: 67\n"
     ]
    },
    {
     "data": {
      "text/html": [
       "<div><style>\n",
       ".dataframe > thead > tr,\n",
       ".dataframe > tbody > tr {\n",
       "  text-align: right;\n",
       "  white-space: pre-wrap;\n",
       "}\n",
       "</style>\n",
       "<small>shape: (5, 67)</small><table border=\"1\" class=\"dataframe\"><thead><tr><th>iso_code</th><th>continent</th><th>location</th><th>date</th><th>total_cases</th><th>new_cases</th><th>new_cases_smoothed</th><th>total_deaths</th><th>new_deaths</th><th>new_deaths_smoothed</th><th>total_cases_per_million</th><th>new_cases_per_million</th><th>new_cases_smoothed_per_million</th><th>total_deaths_per_million</th><th>new_deaths_per_million</th><th>new_deaths_smoothed_per_million</th><th>reproduction_rate</th><th>icu_patients</th><th>icu_patients_per_million</th><th>hosp_patients</th><th>hosp_patients_per_million</th><th>weekly_icu_admissions</th><th>weekly_icu_admissions_per_million</th><th>weekly_hosp_admissions</th><th>weekly_hosp_admissions_per_million</th><th>total_tests</th><th>new_tests</th><th>total_tests_per_thousand</th><th>new_tests_per_thousand</th><th>new_tests_smoothed</th><th>new_tests_smoothed_per_thousand</th><th>positive_rate</th><th>tests_per_case</th><th>tests_units</th><th>total_vaccinations</th><th>people_vaccinated</th><th>people_fully_vaccinated</th><th>total_boosters</th><th>new_vaccinations</th><th>new_vaccinations_smoothed</th><th>total_vaccinations_per_hundred</th><th>people_vaccinated_per_hundred</th><th>people_fully_vaccinated_per_hundred</th><th>total_boosters_per_hundred</th><th>new_vaccinations_smoothed_per_million</th><th>new_people_vaccinated_smoothed</th><th>new_people_vaccinated_smoothed_per_hundred</th><th>stringency_index</th><th>population_density</th><th>median_age</th><th>aged_65_older</th><th>aged_70_older</th><th>gdp_per_capita</th><th>extreme_poverty</th><th>cardiovasc_death_rate</th><th>diabetes_prevalence</th><th>female_smokers</th><th>male_smokers</th><th>handwashing_facilities</th><th>hospital_beds_per_thousand</th><th>life_expectancy</th><th>human_development_index</th><th>population</th><th>excess_mortality_cumulative_absolute</th><th>excess_mortality_cumulative</th><th>excess_mortality</th><th>excess_mortality_cumulative_per_million</th></tr><tr><td>str</td><td>str</td><td>str</td><td>str</td><td>str</td><td>str</td><td>str</td><td>str</td><td>str</td><td>str</td><td>str</td><td>str</td><td>str</td><td>str</td><td>str</td><td>str</td><td>str</td><td>str</td><td>str</td><td>str</td><td>str</td><td>str</td><td>str</td><td>str</td><td>str</td><td>str</td><td>str</td><td>str</td><td>str</td><td>str</td><td>str</td><td>str</td><td>str</td><td>str</td><td>str</td><td>str</td><td>str</td><td>str</td><td>str</td><td>str</td><td>str</td><td>str</td><td>str</td><td>str</td><td>str</td><td>str</td><td>str</td><td>str</td><td>str</td><td>str</td><td>str</td><td>str</td><td>str</td><td>str</td><td>str</td><td>str</td><td>str</td><td>str</td><td>str</td><td>str</td><td>str</td><td>str</td><td>str</td><td>str</td><td>str</td><td>str</td><td>str</td></tr></thead><tbody><tr><td>&quot;AFG&quot;</td><td>&quot;Asia&quot;</td><td>&quot;Afghanistan&quot;</td><td>&quot;2020-01-05 00:…</td><td>null</td><td>&quot;0.0&quot;</td><td>null</td><td>null</td><td>&quot;0.0&quot;</td><td>null</td><td>null</td><td>&quot;0.0&quot;</td><td>null</td><td>null</td><td>&quot;0.0&quot;</td><td>null</td><td>null</td><td>null</td><td>null</td><td>null</td><td>null</td><td>null</td><td>null</td><td>null</td><td>null</td><td>null</td><td>null</td><td>null</td><td>null</td><td>null</td><td>null</td><td>null</td><td>null</td><td>null</td><td>null</td><td>null</td><td>null</td><td>null</td><td>null</td><td>null</td><td>null</td><td>null</td><td>null</td><td>null</td><td>null</td><td>null</td><td>null</td><td>&quot;0.0&quot;</td><td>&quot;54.422&quot;</td><td>&quot;2024-06-18 00:…</td><td>&quot;2.581&quot;</td><td>&quot;1.337&quot;</td><td>&quot;1803.987&quot;</td><td>null</td><td>&quot;597.029&quot;</td><td>&quot;1959-09-01 00:…</td><td>null</td><td>null</td><td>&quot;37.746&quot;</td><td>&quot;0.5&quot;</td><td>&quot;64.83&quot;</td><td>&quot;0.511&quot;</td><td>&quot;41128772.0&quot;</td><td>null</td><td>null</td><td>null</td><td>null</td></tr><tr><td>&quot;AFG&quot;</td><td>&quot;Asia&quot;</td><td>&quot;Afghanistan&quot;</td><td>&quot;2020-01-12 00:…</td><td>null</td><td>&quot;0.0&quot;</td><td>null</td><td>null</td><td>&quot;0.0&quot;</td><td>null</td><td>null</td><td>&quot;0.0&quot;</td><td>null</td><td>null</td><td>&quot;0.0&quot;</td><td>null</td><td>null</td><td>null</td><td>null</td><td>null</td><td>null</td><td>null</td><td>null</td><td>null</td><td>null</td><td>null</td><td>null</td><td>null</td><td>null</td><td>null</td><td>null</td><td>null</td><td>null</td><td>null</td><td>null</td><td>null</td><td>null</td><td>null</td><td>null</td><td>null</td><td>null</td><td>null</td><td>null</td><td>null</td><td>null</td><td>null</td><td>null</td><td>&quot;0.0&quot;</td><td>&quot;54.422&quot;</td><td>&quot;2024-06-18 00:…</td><td>&quot;2.581&quot;</td><td>&quot;1.337&quot;</td><td>&quot;1803.987&quot;</td><td>null</td><td>&quot;597.029&quot;</td><td>&quot;1959-09-01 00:…</td><td>null</td><td>null</td><td>&quot;37.746&quot;</td><td>&quot;0.5&quot;</td><td>&quot;64.83&quot;</td><td>&quot;0.511&quot;</td><td>&quot;41128772.0&quot;</td><td>null</td><td>null</td><td>null</td><td>null</td></tr><tr><td>&quot;AFG&quot;</td><td>&quot;Asia&quot;</td><td>&quot;Afghanistan&quot;</td><td>&quot;2020-01-19 00:…</td><td>null</td><td>&quot;0.0&quot;</td><td>null</td><td>null</td><td>&quot;0.0&quot;</td><td>null</td><td>null</td><td>&quot;0.0&quot;</td><td>null</td><td>null</td><td>&quot;0.0&quot;</td><td>null</td><td>null</td><td>null</td><td>null</td><td>null</td><td>null</td><td>null</td><td>null</td><td>null</td><td>null</td><td>null</td><td>null</td><td>null</td><td>null</td><td>null</td><td>null</td><td>null</td><td>null</td><td>null</td><td>null</td><td>null</td><td>null</td><td>null</td><td>null</td><td>null</td><td>null</td><td>null</td><td>null</td><td>null</td><td>null</td><td>null</td><td>null</td><td>&quot;0.0&quot;</td><td>&quot;54.422&quot;</td><td>&quot;2024-06-18 00:…</td><td>&quot;2.581&quot;</td><td>&quot;1.337&quot;</td><td>&quot;1803.987&quot;</td><td>null</td><td>&quot;597.029&quot;</td><td>&quot;1959-09-01 00:…</td><td>null</td><td>null</td><td>&quot;37.746&quot;</td><td>&quot;0.5&quot;</td><td>&quot;64.83&quot;</td><td>&quot;0.511&quot;</td><td>&quot;41128772.0&quot;</td><td>null</td><td>null</td><td>null</td><td>null</td></tr><tr><td>&quot;AFG&quot;</td><td>&quot;Asia&quot;</td><td>&quot;Afghanistan&quot;</td><td>&quot;2020-01-26 00:…</td><td>null</td><td>&quot;0.0&quot;</td><td>null</td><td>null</td><td>&quot;0.0&quot;</td><td>null</td><td>null</td><td>&quot;0.0&quot;</td><td>null</td><td>null</td><td>&quot;0.0&quot;</td><td>null</td><td>null</td><td>null</td><td>null</td><td>null</td><td>null</td><td>null</td><td>null</td><td>null</td><td>null</td><td>null</td><td>null</td><td>null</td><td>null</td><td>null</td><td>null</td><td>null</td><td>null</td><td>null</td><td>null</td><td>null</td><td>null</td><td>null</td><td>null</td><td>null</td><td>null</td><td>null</td><td>null</td><td>null</td><td>null</td><td>null</td><td>null</td><td>&quot;0.0&quot;</td><td>&quot;54.422&quot;</td><td>&quot;2024-06-18 00:…</td><td>&quot;2.581&quot;</td><td>&quot;1.337&quot;</td><td>&quot;1803.987&quot;</td><td>null</td><td>&quot;597.029&quot;</td><td>&quot;1959-09-01 00:…</td><td>null</td><td>null</td><td>&quot;37.746&quot;</td><td>&quot;0.5&quot;</td><td>&quot;64.83&quot;</td><td>&quot;0.511&quot;</td><td>&quot;41128772.0&quot;</td><td>null</td><td>null</td><td>null</td><td>null</td></tr><tr><td>&quot;AFG&quot;</td><td>&quot;Asia&quot;</td><td>&quot;Afghanistan&quot;</td><td>&quot;2020-02-02 00:…</td><td>null</td><td>&quot;0.0&quot;</td><td>null</td><td>null</td><td>&quot;0.0&quot;</td><td>null</td><td>null</td><td>&quot;0.0&quot;</td><td>null</td><td>null</td><td>&quot;0.0&quot;</td><td>null</td><td>null</td><td>null</td><td>null</td><td>null</td><td>null</td><td>null</td><td>null</td><td>null</td><td>null</td><td>null</td><td>null</td><td>null</td><td>null</td><td>null</td><td>null</td><td>null</td><td>null</td><td>null</td><td>null</td><td>null</td><td>null</td><td>null</td><td>null</td><td>null</td><td>null</td><td>null</td><td>null</td><td>null</td><td>null</td><td>null</td><td>null</td><td>&quot;0.0&quot;</td><td>&quot;54.422&quot;</td><td>&quot;2024-06-18 00:…</td><td>&quot;2.581&quot;</td><td>&quot;1.337&quot;</td><td>&quot;1803.987&quot;</td><td>null</td><td>&quot;597.029&quot;</td><td>&quot;1959-09-01 00:…</td><td>null</td><td>null</td><td>&quot;37.746&quot;</td><td>&quot;0.5&quot;</td><td>&quot;64.83&quot;</td><td>&quot;0.511&quot;</td><td>&quot;41128772.0&quot;</td><td>null</td><td>null</td><td>null</td><td>null</td></tr></tbody></table></div>"
      ]
     },
     "metadata": {},
     "output_type": "display_data"
    }
   ],
   "source": [
    "show_df(scan_rxls_xlsx_plain())\n",
    "# 2m 2.2s (276700 rows, 67 columns)"
   ]
  },
  {
   "cell_type": "code",
   "execution_count": 10,
   "metadata": {
    "notebookRunGroups": {
     "groupValue": ""
    }
   },
   "outputs": [
    {
     "name": "stdout",
     "output_type": "stream",
     "text": [
      "rows: 276700 columns: 67\n"
     ]
    },
    {
     "data": {
      "text/html": [
       "<div><style>\n",
       ".dataframe > thead > tr,\n",
       ".dataframe > tbody > tr {\n",
       "  text-align: right;\n",
       "  white-space: pre-wrap;\n",
       "}\n",
       "</style>\n",
       "<small>shape: (5, 67)</small><table border=\"1\" class=\"dataframe\"><thead><tr><th>iso_code</th><th>continent</th><th>location</th><th>date</th><th>total_cases</th><th>new_cases</th><th>new_cases_smoothed</th><th>total_deaths</th><th>new_deaths</th><th>new_deaths_smoothed</th><th>total_cases_per_million</th><th>new_cases_per_million</th><th>new_cases_smoothed_per_million</th><th>total_deaths_per_million</th><th>new_deaths_per_million</th><th>new_deaths_smoothed_per_million</th><th>reproduction_rate</th><th>icu_patients</th><th>icu_patients_per_million</th><th>hosp_patients</th><th>hosp_patients_per_million</th><th>weekly_icu_admissions</th><th>weekly_icu_admissions_per_million</th><th>weekly_hosp_admissions</th><th>weekly_hosp_admissions_per_million</th><th>total_tests</th><th>new_tests</th><th>total_tests_per_thousand</th><th>new_tests_per_thousand</th><th>new_tests_smoothed</th><th>new_tests_smoothed_per_thousand</th><th>positive_rate</th><th>tests_per_case</th><th>tests_units</th><th>total_vaccinations</th><th>people_vaccinated</th><th>people_fully_vaccinated</th><th>total_boosters</th><th>new_vaccinations</th><th>new_vaccinations_smoothed</th><th>total_vaccinations_per_hundred</th><th>people_vaccinated_per_hundred</th><th>people_fully_vaccinated_per_hundred</th><th>total_boosters_per_hundred</th><th>new_vaccinations_smoothed_per_million</th><th>new_people_vaccinated_smoothed</th><th>new_people_vaccinated_smoothed_per_hundred</th><th>stringency_index</th><th>population_density</th><th>median_age</th><th>aged_65_older</th><th>aged_70_older</th><th>gdp_per_capita</th><th>extreme_poverty</th><th>cardiovasc_death_rate</th><th>diabetes_prevalence</th><th>female_smokers</th><th>male_smokers</th><th>handwashing_facilities</th><th>hospital_beds_per_thousand</th><th>life_expectancy</th><th>human_development_index</th><th>population</th><th>excess_mortality_cumulative_absolute</th><th>excess_mortality_cumulative</th><th>excess_mortality</th><th>excess_mortality_cumulative_per_million</th></tr><tr><td>str</td><td>str</td><td>str</td><td>str</td><td>str</td><td>str</td><td>str</td><td>str</td><td>str</td><td>str</td><td>str</td><td>str</td><td>str</td><td>str</td><td>str</td><td>str</td><td>str</td><td>str</td><td>str</td><td>str</td><td>str</td><td>str</td><td>str</td><td>str</td><td>str</td><td>str</td><td>str</td><td>str</td><td>str</td><td>str</td><td>str</td><td>str</td><td>str</td><td>str</td><td>str</td><td>str</td><td>str</td><td>str</td><td>str</td><td>str</td><td>str</td><td>str</td><td>str</td><td>str</td><td>str</td><td>str</td><td>str</td><td>str</td><td>str</td><td>str</td><td>str</td><td>str</td><td>str</td><td>str</td><td>str</td><td>str</td><td>str</td><td>str</td><td>str</td><td>str</td><td>str</td><td>str</td><td>str</td><td>str</td><td>str</td><td>str</td><td>str</td></tr></thead><tbody><tr><td>&quot;AFG&quot;</td><td>&quot;Asia&quot;</td><td>&quot;Afghanistan&quot;</td><td>&quot;2020-01-05 00:…</td><td>null</td><td>&quot;0.0&quot;</td><td>null</td><td>null</td><td>&quot;0.0&quot;</td><td>null</td><td>null</td><td>&quot;0.0&quot;</td><td>null</td><td>null</td><td>&quot;0.0&quot;</td><td>null</td><td>null</td><td>null</td><td>null</td><td>null</td><td>null</td><td>null</td><td>null</td><td>null</td><td>null</td><td>null</td><td>null</td><td>null</td><td>null</td><td>null</td><td>null</td><td>null</td><td>null</td><td>null</td><td>null</td><td>null</td><td>null</td><td>null</td><td>null</td><td>null</td><td>null</td><td>null</td><td>null</td><td>null</td><td>null</td><td>null</td><td>null</td><td>&quot;0.0&quot;</td><td>&quot;54.422&quot;</td><td>&quot;2024-06-18 00:…</td><td>&quot;2.581&quot;</td><td>&quot;1.337&quot;</td><td>&quot;1803.987&quot;</td><td>null</td><td>&quot;597.029&quot;</td><td>&quot;1959-09-01 00:…</td><td>null</td><td>null</td><td>&quot;37.746&quot;</td><td>&quot;0.5&quot;</td><td>&quot;64.83&quot;</td><td>&quot;0.511&quot;</td><td>&quot;41128772.0&quot;</td><td>null</td><td>null</td><td>null</td><td>null</td></tr><tr><td>&quot;AFG&quot;</td><td>&quot;Asia&quot;</td><td>&quot;Afghanistan&quot;</td><td>&quot;2020-01-12 00:…</td><td>null</td><td>&quot;0.0&quot;</td><td>null</td><td>null</td><td>&quot;0.0&quot;</td><td>null</td><td>null</td><td>&quot;0.0&quot;</td><td>null</td><td>null</td><td>&quot;0.0&quot;</td><td>null</td><td>null</td><td>null</td><td>null</td><td>null</td><td>null</td><td>null</td><td>null</td><td>null</td><td>null</td><td>null</td><td>null</td><td>null</td><td>null</td><td>null</td><td>null</td><td>null</td><td>null</td><td>null</td><td>null</td><td>null</td><td>null</td><td>null</td><td>null</td><td>null</td><td>null</td><td>null</td><td>null</td><td>null</td><td>null</td><td>null</td><td>null</td><td>&quot;0.0&quot;</td><td>&quot;54.422&quot;</td><td>&quot;2024-06-18 00:…</td><td>&quot;2.581&quot;</td><td>&quot;1.337&quot;</td><td>&quot;1803.987&quot;</td><td>null</td><td>&quot;597.029&quot;</td><td>&quot;1959-09-01 00:…</td><td>null</td><td>null</td><td>&quot;37.746&quot;</td><td>&quot;0.5&quot;</td><td>&quot;64.83&quot;</td><td>&quot;0.511&quot;</td><td>&quot;41128772.0&quot;</td><td>null</td><td>null</td><td>null</td><td>null</td></tr><tr><td>&quot;AFG&quot;</td><td>&quot;Asia&quot;</td><td>&quot;Afghanistan&quot;</td><td>&quot;2020-01-19 00:…</td><td>null</td><td>&quot;0.0&quot;</td><td>null</td><td>null</td><td>&quot;0.0&quot;</td><td>null</td><td>null</td><td>&quot;0.0&quot;</td><td>null</td><td>null</td><td>&quot;0.0&quot;</td><td>null</td><td>null</td><td>null</td><td>null</td><td>null</td><td>null</td><td>null</td><td>null</td><td>null</td><td>null</td><td>null</td><td>null</td><td>null</td><td>null</td><td>null</td><td>null</td><td>null</td><td>null</td><td>null</td><td>null</td><td>null</td><td>null</td><td>null</td><td>null</td><td>null</td><td>null</td><td>null</td><td>null</td><td>null</td><td>null</td><td>null</td><td>null</td><td>&quot;0.0&quot;</td><td>&quot;54.422&quot;</td><td>&quot;2024-06-18 00:…</td><td>&quot;2.581&quot;</td><td>&quot;1.337&quot;</td><td>&quot;1803.987&quot;</td><td>null</td><td>&quot;597.029&quot;</td><td>&quot;1959-09-01 00:…</td><td>null</td><td>null</td><td>&quot;37.746&quot;</td><td>&quot;0.5&quot;</td><td>&quot;64.83&quot;</td><td>&quot;0.511&quot;</td><td>&quot;41128772.0&quot;</td><td>null</td><td>null</td><td>null</td><td>null</td></tr><tr><td>&quot;AFG&quot;</td><td>&quot;Asia&quot;</td><td>&quot;Afghanistan&quot;</td><td>&quot;2020-01-26 00:…</td><td>null</td><td>&quot;0.0&quot;</td><td>null</td><td>null</td><td>&quot;0.0&quot;</td><td>null</td><td>null</td><td>&quot;0.0&quot;</td><td>null</td><td>null</td><td>&quot;0.0&quot;</td><td>null</td><td>null</td><td>null</td><td>null</td><td>null</td><td>null</td><td>null</td><td>null</td><td>null</td><td>null</td><td>null</td><td>null</td><td>null</td><td>null</td><td>null</td><td>null</td><td>null</td><td>null</td><td>null</td><td>null</td><td>null</td><td>null</td><td>null</td><td>null</td><td>null</td><td>null</td><td>null</td><td>null</td><td>null</td><td>null</td><td>null</td><td>null</td><td>&quot;0.0&quot;</td><td>&quot;54.422&quot;</td><td>&quot;2024-06-18 00:…</td><td>&quot;2.581&quot;</td><td>&quot;1.337&quot;</td><td>&quot;1803.987&quot;</td><td>null</td><td>&quot;597.029&quot;</td><td>&quot;1959-09-01 00:…</td><td>null</td><td>null</td><td>&quot;37.746&quot;</td><td>&quot;0.5&quot;</td><td>&quot;64.83&quot;</td><td>&quot;0.511&quot;</td><td>&quot;41128772.0&quot;</td><td>null</td><td>null</td><td>null</td><td>null</td></tr><tr><td>&quot;AFG&quot;</td><td>&quot;Asia&quot;</td><td>&quot;Afghanistan&quot;</td><td>&quot;2020-02-02 00:…</td><td>null</td><td>&quot;0.0&quot;</td><td>null</td><td>null</td><td>&quot;0.0&quot;</td><td>null</td><td>null</td><td>&quot;0.0&quot;</td><td>null</td><td>null</td><td>&quot;0.0&quot;</td><td>null</td><td>null</td><td>null</td><td>null</td><td>null</td><td>null</td><td>null</td><td>null</td><td>null</td><td>null</td><td>null</td><td>null</td><td>null</td><td>null</td><td>null</td><td>null</td><td>null</td><td>null</td><td>null</td><td>null</td><td>null</td><td>null</td><td>null</td><td>null</td><td>null</td><td>null</td><td>null</td><td>null</td><td>null</td><td>null</td><td>null</td><td>null</td><td>&quot;0.0&quot;</td><td>&quot;54.422&quot;</td><td>&quot;2024-06-18 00:…</td><td>&quot;2.581&quot;</td><td>&quot;1.337&quot;</td><td>&quot;1803.987&quot;</td><td>null</td><td>&quot;597.029&quot;</td><td>&quot;1959-09-01 00:…</td><td>null</td><td>null</td><td>&quot;37.746&quot;</td><td>&quot;0.5&quot;</td><td>&quot;64.83&quot;</td><td>&quot;0.511&quot;</td><td>&quot;41128772.0&quot;</td><td>null</td><td>null</td><td>null</td><td>null</td></tr></tbody></table></div>"
      ]
     },
     "metadata": {},
     "output_type": "display_data"
    }
   ],
   "source": [
    "show_df(scan_rxls_xlsb_plain())\n",
    "# 1m 28.0s (276700 rows, 67 columns)"
   ]
  },
  {
   "cell_type": "code",
   "execution_count": 10,
   "metadata": {
    "notebookRunGroups": {
     "groupValue": ""
    }
   },
   "outputs": [
    {
     "name": "stdout",
     "output_type": "stream",
     "text": [
      "rows: 276700 columns: 67\n"
     ]
    },
    {
     "data": {
      "text/html": [
       "<div><style>\n",
       ".dataframe > thead > tr,\n",
       ".dataframe > tbody > tr {\n",
       "  text-align: right;\n",
       "  white-space: pre-wrap;\n",
       "}\n",
       "</style>\n",
       "<small>shape: (5, 67)</small><table border=\"1\" class=\"dataframe\"><thead><tr><th>iso_code</th><th>continent</th><th>location</th><th>date</th><th>total_cases</th><th>new_cases</th><th>new_cases_smoothed</th><th>total_deaths</th><th>new_deaths</th><th>new_deaths_smoothed</th><th>total_cases_per_million</th><th>new_cases_per_million</th><th>new_cases_smoothed_per_million</th><th>total_deaths_per_million</th><th>new_deaths_per_million</th><th>new_deaths_smoothed_per_million</th><th>reproduction_rate</th><th>icu_patients</th><th>icu_patients_per_million</th><th>hosp_patients</th><th>hosp_patients_per_million</th><th>weekly_icu_admissions</th><th>weekly_icu_admissions_per_million</th><th>weekly_hosp_admissions</th><th>weekly_hosp_admissions_per_million</th><th>total_tests</th><th>new_tests</th><th>total_tests_per_thousand</th><th>new_tests_per_thousand</th><th>new_tests_smoothed</th><th>new_tests_smoothed_per_thousand</th><th>positive_rate</th><th>tests_per_case</th><th>tests_units</th><th>total_vaccinations</th><th>people_vaccinated</th><th>people_fully_vaccinated</th><th>total_boosters</th><th>new_vaccinations</th><th>new_vaccinations_smoothed</th><th>total_vaccinations_per_hundred</th><th>people_vaccinated_per_hundred</th><th>people_fully_vaccinated_per_hundred</th><th>total_boosters_per_hundred</th><th>new_vaccinations_smoothed_per_million</th><th>new_people_vaccinated_smoothed</th><th>new_people_vaccinated_smoothed_per_hundred</th><th>stringency_index</th><th>population_density</th><th>median_age</th><th>aged_65_older</th><th>aged_70_older</th><th>gdp_per_capita</th><th>extreme_poverty</th><th>cardiovasc_death_rate</th><th>diabetes_prevalence</th><th>female_smokers</th><th>male_smokers</th><th>handwashing_facilities</th><th>hospital_beds_per_thousand</th><th>life_expectancy</th><th>human_development_index</th><th>population</th><th>excess_mortality_cumulative_absolute</th><th>excess_mortality_cumulative</th><th>excess_mortality</th><th>excess_mortality_cumulative_per_million</th></tr><tr><td>str</td><td>str</td><td>str</td><td>datetime[ms]</td><td>str</td><td>str</td><td>str</td><td>str</td><td>str</td><td>str</td><td>str</td><td>str</td><td>str</td><td>str</td><td>str</td><td>str</td><td>str</td><td>str</td><td>str</td><td>str</td><td>str</td><td>str</td><td>str</td><td>str</td><td>str</td><td>str</td><td>str</td><td>str</td><td>str</td><td>str</td><td>str</td><td>str</td><td>str</td><td>str</td><td>str</td><td>str</td><td>str</td><td>str</td><td>str</td><td>str</td><td>str</td><td>str</td><td>str</td><td>str</td><td>str</td><td>str</td><td>str</td><td>str</td><td>str</td><td>str</td><td>str</td><td>str</td><td>str</td><td>str</td><td>str</td><td>str</td><td>str</td><td>str</td><td>str</td><td>str</td><td>str</td><td>str</td><td>str</td><td>str</td><td>str</td><td>str</td><td>str</td></tr></thead><tbody><tr><td>&quot;AFG&quot;</td><td>&quot;Asia&quot;</td><td>&quot;Afghanistan&quot;</td><td>2020-01-05 00:00:00</td><td>null</td><td>&quot;0.0&quot;</td><td>null</td><td>null</td><td>&quot;0.0&quot;</td><td>null</td><td>null</td><td>&quot;0.0&quot;</td><td>null</td><td>null</td><td>&quot;0.0&quot;</td><td>null</td><td>null</td><td>null</td><td>null</td><td>null</td><td>null</td><td>null</td><td>null</td><td>null</td><td>null</td><td>null</td><td>null</td><td>null</td><td>null</td><td>null</td><td>null</td><td>null</td><td>null</td><td>null</td><td>null</td><td>null</td><td>null</td><td>null</td><td>null</td><td>null</td><td>null</td><td>null</td><td>null</td><td>null</td><td>null</td><td>null</td><td>null</td><td>&quot;0.0&quot;</td><td>&quot;54.422&quot;</td><td>&quot;2024-06-18 00:…</td><td>&quot;2.581&quot;</td><td>&quot;1.337&quot;</td><td>&quot;1803.987&quot;</td><td>null</td><td>&quot;597.029&quot;</td><td>&quot;1959-09-01 00:…</td><td>null</td><td>null</td><td>&quot;37.746&quot;</td><td>&quot;0.5&quot;</td><td>&quot;64.83&quot;</td><td>&quot;0.511&quot;</td><td>&quot;41128772.0&quot;</td><td>null</td><td>null</td><td>null</td><td>null</td></tr><tr><td>&quot;AFG&quot;</td><td>&quot;Asia&quot;</td><td>&quot;Afghanistan&quot;</td><td>2020-01-12 00:00:00</td><td>null</td><td>&quot;0.0&quot;</td><td>null</td><td>null</td><td>&quot;0.0&quot;</td><td>null</td><td>null</td><td>&quot;0.0&quot;</td><td>null</td><td>null</td><td>&quot;0.0&quot;</td><td>null</td><td>null</td><td>null</td><td>null</td><td>null</td><td>null</td><td>null</td><td>null</td><td>null</td><td>null</td><td>null</td><td>null</td><td>null</td><td>null</td><td>null</td><td>null</td><td>null</td><td>null</td><td>null</td><td>null</td><td>null</td><td>null</td><td>null</td><td>null</td><td>null</td><td>null</td><td>null</td><td>null</td><td>null</td><td>null</td><td>null</td><td>null</td><td>&quot;0.0&quot;</td><td>&quot;54.422&quot;</td><td>&quot;2024-06-18 00:…</td><td>&quot;2.581&quot;</td><td>&quot;1.337&quot;</td><td>&quot;1803.987&quot;</td><td>null</td><td>&quot;597.029&quot;</td><td>&quot;1959-09-01 00:…</td><td>null</td><td>null</td><td>&quot;37.746&quot;</td><td>&quot;0.5&quot;</td><td>&quot;64.83&quot;</td><td>&quot;0.511&quot;</td><td>&quot;41128772.0&quot;</td><td>null</td><td>null</td><td>null</td><td>null</td></tr><tr><td>&quot;AFG&quot;</td><td>&quot;Asia&quot;</td><td>&quot;Afghanistan&quot;</td><td>2020-01-19 00:00:00</td><td>null</td><td>&quot;0.0&quot;</td><td>null</td><td>null</td><td>&quot;0.0&quot;</td><td>null</td><td>null</td><td>&quot;0.0&quot;</td><td>null</td><td>null</td><td>&quot;0.0&quot;</td><td>null</td><td>null</td><td>null</td><td>null</td><td>null</td><td>null</td><td>null</td><td>null</td><td>null</td><td>null</td><td>null</td><td>null</td><td>null</td><td>null</td><td>null</td><td>null</td><td>null</td><td>null</td><td>null</td><td>null</td><td>null</td><td>null</td><td>null</td><td>null</td><td>null</td><td>null</td><td>null</td><td>null</td><td>null</td><td>null</td><td>null</td><td>null</td><td>&quot;0.0&quot;</td><td>&quot;54.422&quot;</td><td>&quot;2024-06-18 00:…</td><td>&quot;2.581&quot;</td><td>&quot;1.337&quot;</td><td>&quot;1803.987&quot;</td><td>null</td><td>&quot;597.029&quot;</td><td>&quot;1959-09-01 00:…</td><td>null</td><td>null</td><td>&quot;37.746&quot;</td><td>&quot;0.5&quot;</td><td>&quot;64.83&quot;</td><td>&quot;0.511&quot;</td><td>&quot;41128772.0&quot;</td><td>null</td><td>null</td><td>null</td><td>null</td></tr><tr><td>&quot;AFG&quot;</td><td>&quot;Asia&quot;</td><td>&quot;Afghanistan&quot;</td><td>2020-01-26 00:00:00</td><td>null</td><td>&quot;0.0&quot;</td><td>null</td><td>null</td><td>&quot;0.0&quot;</td><td>null</td><td>null</td><td>&quot;0.0&quot;</td><td>null</td><td>null</td><td>&quot;0.0&quot;</td><td>null</td><td>null</td><td>null</td><td>null</td><td>null</td><td>null</td><td>null</td><td>null</td><td>null</td><td>null</td><td>null</td><td>null</td><td>null</td><td>null</td><td>null</td><td>null</td><td>null</td><td>null</td><td>null</td><td>null</td><td>null</td><td>null</td><td>null</td><td>null</td><td>null</td><td>null</td><td>null</td><td>null</td><td>null</td><td>null</td><td>null</td><td>null</td><td>&quot;0.0&quot;</td><td>&quot;54.422&quot;</td><td>&quot;2024-06-18 00:…</td><td>&quot;2.581&quot;</td><td>&quot;1.337&quot;</td><td>&quot;1803.987&quot;</td><td>null</td><td>&quot;597.029&quot;</td><td>&quot;1959-09-01 00:…</td><td>null</td><td>null</td><td>&quot;37.746&quot;</td><td>&quot;0.5&quot;</td><td>&quot;64.83&quot;</td><td>&quot;0.511&quot;</td><td>&quot;41128772.0&quot;</td><td>null</td><td>null</td><td>null</td><td>null</td></tr><tr><td>&quot;AFG&quot;</td><td>&quot;Asia&quot;</td><td>&quot;Afghanistan&quot;</td><td>2020-02-02 00:00:00</td><td>null</td><td>&quot;0.0&quot;</td><td>null</td><td>null</td><td>&quot;0.0&quot;</td><td>null</td><td>null</td><td>&quot;0.0&quot;</td><td>null</td><td>null</td><td>&quot;0.0&quot;</td><td>null</td><td>null</td><td>null</td><td>null</td><td>null</td><td>null</td><td>null</td><td>null</td><td>null</td><td>null</td><td>null</td><td>null</td><td>null</td><td>null</td><td>null</td><td>null</td><td>null</td><td>null</td><td>null</td><td>null</td><td>null</td><td>null</td><td>null</td><td>null</td><td>null</td><td>null</td><td>null</td><td>null</td><td>null</td><td>null</td><td>null</td><td>null</td><td>&quot;0.0&quot;</td><td>&quot;54.422&quot;</td><td>&quot;2024-06-18 00:…</td><td>&quot;2.581&quot;</td><td>&quot;1.337&quot;</td><td>&quot;1803.987&quot;</td><td>null</td><td>&quot;597.029&quot;</td><td>&quot;1959-09-01 00:…</td><td>null</td><td>null</td><td>&quot;37.746&quot;</td><td>&quot;0.5&quot;</td><td>&quot;64.83&quot;</td><td>&quot;0.511&quot;</td><td>&quot;41128772.0&quot;</td><td>null</td><td>null</td><td>null</td><td>null</td></tr></tbody></table></div>"
      ]
     },
     "metadata": {},
     "output_type": "display_data"
    }
   ],
   "source": [
    "show_df(scan_rxls_xlsx())\n",
    "# 2m 3.7s (276700 rows, 67 columns)"
   ]
  },
  {
   "cell_type": "code",
   "execution_count": 10,
   "metadata": {
    "notebookRunGroups": {
     "groupValue": ""
    }
   },
   "outputs": [
    {
     "name": "stdout",
     "output_type": "stream",
     "text": [
      "rows: 276700 columns: 67\n"
     ]
    },
    {
     "data": {
      "text/html": [
       "<div><style>\n",
       ".dataframe > thead > tr,\n",
       ".dataframe > tbody > tr {\n",
       "  text-align: right;\n",
       "  white-space: pre-wrap;\n",
       "}\n",
       "</style>\n",
       "<small>shape: (5, 67)</small><table border=\"1\" class=\"dataframe\"><thead><tr><th>iso_code</th><th>continent</th><th>location</th><th>date</th><th>total_cases</th><th>new_cases</th><th>new_cases_smoothed</th><th>total_deaths</th><th>new_deaths</th><th>new_deaths_smoothed</th><th>total_cases_per_million</th><th>new_cases_per_million</th><th>new_cases_smoothed_per_million</th><th>total_deaths_per_million</th><th>new_deaths_per_million</th><th>new_deaths_smoothed_per_million</th><th>reproduction_rate</th><th>icu_patients</th><th>icu_patients_per_million</th><th>hosp_patients</th><th>hosp_patients_per_million</th><th>weekly_icu_admissions</th><th>weekly_icu_admissions_per_million</th><th>weekly_hosp_admissions</th><th>weekly_hosp_admissions_per_million</th><th>total_tests</th><th>new_tests</th><th>total_tests_per_thousand</th><th>new_tests_per_thousand</th><th>new_tests_smoothed</th><th>new_tests_smoothed_per_thousand</th><th>positive_rate</th><th>tests_per_case</th><th>tests_units</th><th>total_vaccinations</th><th>people_vaccinated</th><th>people_fully_vaccinated</th><th>total_boosters</th><th>new_vaccinations</th><th>new_vaccinations_smoothed</th><th>total_vaccinations_per_hundred</th><th>people_vaccinated_per_hundred</th><th>people_fully_vaccinated_per_hundred</th><th>total_boosters_per_hundred</th><th>new_vaccinations_smoothed_per_million</th><th>new_people_vaccinated_smoothed</th><th>new_people_vaccinated_smoothed_per_hundred</th><th>stringency_index</th><th>population_density</th><th>median_age</th><th>aged_65_older</th><th>aged_70_older</th><th>gdp_per_capita</th><th>extreme_poverty</th><th>cardiovasc_death_rate</th><th>diabetes_prevalence</th><th>female_smokers</th><th>male_smokers</th><th>handwashing_facilities</th><th>hospital_beds_per_thousand</th><th>life_expectancy</th><th>human_development_index</th><th>population</th><th>excess_mortality_cumulative_absolute</th><th>excess_mortality_cumulative</th><th>excess_mortality</th><th>excess_mortality_cumulative_per_million</th></tr><tr><td>str</td><td>str</td><td>str</td><td>datetime[ms]</td><td>str</td><td>str</td><td>str</td><td>str</td><td>str</td><td>str</td><td>str</td><td>str</td><td>str</td><td>str</td><td>str</td><td>str</td><td>str</td><td>str</td><td>str</td><td>str</td><td>str</td><td>str</td><td>str</td><td>str</td><td>str</td><td>str</td><td>str</td><td>str</td><td>str</td><td>str</td><td>str</td><td>str</td><td>str</td><td>str</td><td>str</td><td>str</td><td>str</td><td>str</td><td>str</td><td>str</td><td>str</td><td>str</td><td>str</td><td>str</td><td>str</td><td>str</td><td>str</td><td>str</td><td>str</td><td>str</td><td>str</td><td>str</td><td>str</td><td>str</td><td>str</td><td>str</td><td>str</td><td>str</td><td>str</td><td>str</td><td>str</td><td>str</td><td>str</td><td>str</td><td>str</td><td>str</td><td>str</td></tr></thead><tbody><tr><td>&quot;AFG&quot;</td><td>&quot;Asia&quot;</td><td>&quot;Afghanistan&quot;</td><td>2020-01-05 00:00:00</td><td>null</td><td>&quot;0.0&quot;</td><td>null</td><td>null</td><td>&quot;0.0&quot;</td><td>null</td><td>null</td><td>&quot;0.0&quot;</td><td>null</td><td>null</td><td>&quot;0.0&quot;</td><td>null</td><td>null</td><td>null</td><td>null</td><td>null</td><td>null</td><td>null</td><td>null</td><td>null</td><td>null</td><td>null</td><td>null</td><td>null</td><td>null</td><td>null</td><td>null</td><td>null</td><td>null</td><td>null</td><td>null</td><td>null</td><td>null</td><td>null</td><td>null</td><td>null</td><td>null</td><td>null</td><td>null</td><td>null</td><td>null</td><td>null</td><td>null</td><td>&quot;0.0&quot;</td><td>&quot;54.422&quot;</td><td>&quot;2024-06-18 00:…</td><td>&quot;2.581&quot;</td><td>&quot;1.337&quot;</td><td>&quot;1803.987&quot;</td><td>null</td><td>&quot;597.029&quot;</td><td>&quot;1959-09-01 00:…</td><td>null</td><td>null</td><td>&quot;37.746&quot;</td><td>&quot;0.5&quot;</td><td>&quot;64.83&quot;</td><td>&quot;0.511&quot;</td><td>&quot;41128772.0&quot;</td><td>null</td><td>null</td><td>null</td><td>null</td></tr><tr><td>&quot;AFG&quot;</td><td>&quot;Asia&quot;</td><td>&quot;Afghanistan&quot;</td><td>2020-01-12 00:00:00</td><td>null</td><td>&quot;0.0&quot;</td><td>null</td><td>null</td><td>&quot;0.0&quot;</td><td>null</td><td>null</td><td>&quot;0.0&quot;</td><td>null</td><td>null</td><td>&quot;0.0&quot;</td><td>null</td><td>null</td><td>null</td><td>null</td><td>null</td><td>null</td><td>null</td><td>null</td><td>null</td><td>null</td><td>null</td><td>null</td><td>null</td><td>null</td><td>null</td><td>null</td><td>null</td><td>null</td><td>null</td><td>null</td><td>null</td><td>null</td><td>null</td><td>null</td><td>null</td><td>null</td><td>null</td><td>null</td><td>null</td><td>null</td><td>null</td><td>null</td><td>&quot;0.0&quot;</td><td>&quot;54.422&quot;</td><td>&quot;2024-06-18 00:…</td><td>&quot;2.581&quot;</td><td>&quot;1.337&quot;</td><td>&quot;1803.987&quot;</td><td>null</td><td>&quot;597.029&quot;</td><td>&quot;1959-09-01 00:…</td><td>null</td><td>null</td><td>&quot;37.746&quot;</td><td>&quot;0.5&quot;</td><td>&quot;64.83&quot;</td><td>&quot;0.511&quot;</td><td>&quot;41128772.0&quot;</td><td>null</td><td>null</td><td>null</td><td>null</td></tr><tr><td>&quot;AFG&quot;</td><td>&quot;Asia&quot;</td><td>&quot;Afghanistan&quot;</td><td>2020-01-19 00:00:00</td><td>null</td><td>&quot;0.0&quot;</td><td>null</td><td>null</td><td>&quot;0.0&quot;</td><td>null</td><td>null</td><td>&quot;0.0&quot;</td><td>null</td><td>null</td><td>&quot;0.0&quot;</td><td>null</td><td>null</td><td>null</td><td>null</td><td>null</td><td>null</td><td>null</td><td>null</td><td>null</td><td>null</td><td>null</td><td>null</td><td>null</td><td>null</td><td>null</td><td>null</td><td>null</td><td>null</td><td>null</td><td>null</td><td>null</td><td>null</td><td>null</td><td>null</td><td>null</td><td>null</td><td>null</td><td>null</td><td>null</td><td>null</td><td>null</td><td>null</td><td>&quot;0.0&quot;</td><td>&quot;54.422&quot;</td><td>&quot;2024-06-18 00:…</td><td>&quot;2.581&quot;</td><td>&quot;1.337&quot;</td><td>&quot;1803.987&quot;</td><td>null</td><td>&quot;597.029&quot;</td><td>&quot;1959-09-01 00:…</td><td>null</td><td>null</td><td>&quot;37.746&quot;</td><td>&quot;0.5&quot;</td><td>&quot;64.83&quot;</td><td>&quot;0.511&quot;</td><td>&quot;41128772.0&quot;</td><td>null</td><td>null</td><td>null</td><td>null</td></tr><tr><td>&quot;AFG&quot;</td><td>&quot;Asia&quot;</td><td>&quot;Afghanistan&quot;</td><td>2020-01-26 00:00:00</td><td>null</td><td>&quot;0.0&quot;</td><td>null</td><td>null</td><td>&quot;0.0&quot;</td><td>null</td><td>null</td><td>&quot;0.0&quot;</td><td>null</td><td>null</td><td>&quot;0.0&quot;</td><td>null</td><td>null</td><td>null</td><td>null</td><td>null</td><td>null</td><td>null</td><td>null</td><td>null</td><td>null</td><td>null</td><td>null</td><td>null</td><td>null</td><td>null</td><td>null</td><td>null</td><td>null</td><td>null</td><td>null</td><td>null</td><td>null</td><td>null</td><td>null</td><td>null</td><td>null</td><td>null</td><td>null</td><td>null</td><td>null</td><td>null</td><td>null</td><td>&quot;0.0&quot;</td><td>&quot;54.422&quot;</td><td>&quot;2024-06-18 00:…</td><td>&quot;2.581&quot;</td><td>&quot;1.337&quot;</td><td>&quot;1803.987&quot;</td><td>null</td><td>&quot;597.029&quot;</td><td>&quot;1959-09-01 00:…</td><td>null</td><td>null</td><td>&quot;37.746&quot;</td><td>&quot;0.5&quot;</td><td>&quot;64.83&quot;</td><td>&quot;0.511&quot;</td><td>&quot;41128772.0&quot;</td><td>null</td><td>null</td><td>null</td><td>null</td></tr><tr><td>&quot;AFG&quot;</td><td>&quot;Asia&quot;</td><td>&quot;Afghanistan&quot;</td><td>2020-02-02 00:00:00</td><td>null</td><td>&quot;0.0&quot;</td><td>null</td><td>null</td><td>&quot;0.0&quot;</td><td>null</td><td>null</td><td>&quot;0.0&quot;</td><td>null</td><td>null</td><td>&quot;0.0&quot;</td><td>null</td><td>null</td><td>null</td><td>null</td><td>null</td><td>null</td><td>null</td><td>null</td><td>null</td><td>null</td><td>null</td><td>null</td><td>null</td><td>null</td><td>null</td><td>null</td><td>null</td><td>null</td><td>null</td><td>null</td><td>null</td><td>null</td><td>null</td><td>null</td><td>null</td><td>null</td><td>null</td><td>null</td><td>null</td><td>null</td><td>null</td><td>null</td><td>&quot;0.0&quot;</td><td>&quot;54.422&quot;</td><td>&quot;2024-06-18 00:…</td><td>&quot;2.581&quot;</td><td>&quot;1.337&quot;</td><td>&quot;1803.987&quot;</td><td>null</td><td>&quot;597.029&quot;</td><td>&quot;1959-09-01 00:…</td><td>null</td><td>null</td><td>&quot;37.746&quot;</td><td>&quot;0.5&quot;</td><td>&quot;64.83&quot;</td><td>&quot;0.511&quot;</td><td>&quot;41128772.0&quot;</td><td>null</td><td>null</td><td>null</td><td>null</td></tr></tbody></table></div>"
      ]
     },
     "metadata": {},
     "output_type": "display_data"
    }
   ],
   "source": [
    "show_df(scan_rxls_xlsb())\n",
    "# 10m 29.5s (341376 rows, 67 columns)"
   ]
  },
  {
   "attachments": {},
   "cell_type": "markdown",
   "metadata": {},
   "source": [
    "### XLSX2CSV case: xlsx -> csv -> polars.read_csv()"
   ]
  },
  {
   "cell_type": "code",
   "execution_count": 5,
   "metadata": {
    "notebookRunGroups": {
     "groupValue": "1"
    }
   },
   "outputs": [],
   "source": [
    "def scan_xlsx2csv(path: str = XLSX_FILE) -> pl.DataFrame:\n",
    "    return pl.read_excel(\n",
    "        path,\n",
    "        engine=\"xlsx2csv\",\n",
    "        # NOTE: This parameters only needs, because of mixed dtype columns\n",
    "        read_csv_options={\"has_header\": True, \"infer_schema_length\": 0},\n",
    "    )"
   ]
  },
  {
   "cell_type": "code",
   "execution_count": 10,
   "metadata": {
    "notebookRunGroups": {
     "groupValue": ""
    }
   },
   "outputs": [
    {
     "name": "stdout",
     "output_type": "stream",
     "text": [
      "rows: 276700 columns: 67\n"
     ]
    },
    {
     "data": {
      "text/html": [
       "<div><style>\n",
       ".dataframe > thead > tr,\n",
       ".dataframe > tbody > tr {\n",
       "  text-align: right;\n",
       "  white-space: pre-wrap;\n",
       "}\n",
       "</style>\n",
       "<small>shape: (5, 67)</small><table border=\"1\" class=\"dataframe\"><thead><tr><th>iso_code</th><th>continent</th><th>location</th><th>date</th><th>total_cases</th><th>new_cases</th><th>new_cases_smoothed</th><th>total_deaths</th><th>new_deaths</th><th>new_deaths_smoothed</th><th>total_cases_per_million</th><th>new_cases_per_million</th><th>new_cases_smoothed_per_million</th><th>total_deaths_per_million</th><th>new_deaths_per_million</th><th>new_deaths_smoothed_per_million</th><th>reproduction_rate</th><th>icu_patients</th><th>icu_patients_per_million</th><th>hosp_patients</th><th>hosp_patients_per_million</th><th>weekly_icu_admissions</th><th>weekly_icu_admissions_per_million</th><th>weekly_hosp_admissions</th><th>weekly_hosp_admissions_per_million</th><th>total_tests</th><th>new_tests</th><th>total_tests_per_thousand</th><th>new_tests_per_thousand</th><th>new_tests_smoothed</th><th>new_tests_smoothed_per_thousand</th><th>positive_rate</th><th>tests_per_case</th><th>tests_units</th><th>total_vaccinations</th><th>people_vaccinated</th><th>people_fully_vaccinated</th><th>total_boosters</th><th>new_vaccinations</th><th>new_vaccinations_smoothed</th><th>total_vaccinations_per_hundred</th><th>people_vaccinated_per_hundred</th><th>people_fully_vaccinated_per_hundred</th><th>total_boosters_per_hundred</th><th>new_vaccinations_smoothed_per_million</th><th>new_people_vaccinated_smoothed</th><th>new_people_vaccinated_smoothed_per_hundred</th><th>stringency_index</th><th>population_density</th><th>median_age</th><th>aged_65_older</th><th>aged_70_older</th><th>gdp_per_capita</th><th>extreme_poverty</th><th>cardiovasc_death_rate</th><th>diabetes_prevalence</th><th>female_smokers</th><th>male_smokers</th><th>handwashing_facilities</th><th>hospital_beds_per_thousand</th><th>life_expectancy</th><th>human_development_index</th><th>population</th><th>excess_mortality_cumulative_absolute</th><th>excess_mortality_cumulative</th><th>excess_mortality</th><th>excess_mortality_cumulative_per_million</th></tr><tr><td>str</td><td>str</td><td>str</td><td>str</td><td>str</td><td>str</td><td>str</td><td>str</td><td>str</td><td>str</td><td>str</td><td>str</td><td>str</td><td>str</td><td>str</td><td>str</td><td>str</td><td>str</td><td>str</td><td>str</td><td>str</td><td>str</td><td>str</td><td>str</td><td>str</td><td>str</td><td>str</td><td>str</td><td>str</td><td>str</td><td>str</td><td>str</td><td>str</td><td>str</td><td>str</td><td>str</td><td>str</td><td>str</td><td>str</td><td>str</td><td>str</td><td>str</td><td>str</td><td>str</td><td>str</td><td>str</td><td>str</td><td>str</td><td>str</td><td>str</td><td>str</td><td>str</td><td>str</td><td>str</td><td>str</td><td>str</td><td>str</td><td>str</td><td>str</td><td>str</td><td>str</td><td>str</td><td>str</td><td>str</td><td>str</td><td>str</td><td>str</td></tr></thead><tbody><tr><td>&quot;AFG&quot;</td><td>&quot;Asia&quot;</td><td>&quot;Afghanistan&quot;</td><td>&quot;01-05-20&quot;</td><td>null</td><td>&quot;0.0&quot;</td><td>null</td><td>null</td><td>&quot;0.0&quot;</td><td>null</td><td>null</td><td>&quot;0.0&quot;</td><td>null</td><td>null</td><td>&quot;0.0&quot;</td><td>null</td><td>null</td><td>null</td><td>null</td><td>null</td><td>null</td><td>null</td><td>null</td><td>null</td><td>null</td><td>null</td><td>null</td><td>null</td><td>null</td><td>null</td><td>null</td><td>null</td><td>null</td><td>null</td><td>null</td><td>null</td><td>null</td><td>null</td><td>null</td><td>null</td><td>null</td><td>null</td><td>null</td><td>null</td><td>null</td><td>null</td><td>null</td><td>&quot;0.0&quot;</td><td>&quot;54.422&quot;</td><td>&quot;18-Jun&quot;</td><td>&quot;2.581&quot;</td><td>&quot;1.337&quot;</td><td>&quot;1803.987&quot;</td><td>null</td><td>&quot;597.029&quot;</td><td>&quot;Sep-59&quot;</td><td>null</td><td>null</td><td>&quot;37.746&quot;</td><td>&quot;0.5&quot;</td><td>&quot;64.83&quot;</td><td>&quot;0.511&quot;</td><td>&quot;41128772.0&quot;</td><td>null</td><td>null</td><td>null</td><td>null</td></tr><tr><td>&quot;AFG&quot;</td><td>&quot;Asia&quot;</td><td>&quot;Afghanistan&quot;</td><td>&quot;01-12-20&quot;</td><td>null</td><td>&quot;0.0&quot;</td><td>null</td><td>null</td><td>&quot;0.0&quot;</td><td>null</td><td>null</td><td>&quot;0.0&quot;</td><td>null</td><td>null</td><td>&quot;0.0&quot;</td><td>null</td><td>null</td><td>null</td><td>null</td><td>null</td><td>null</td><td>null</td><td>null</td><td>null</td><td>null</td><td>null</td><td>null</td><td>null</td><td>null</td><td>null</td><td>null</td><td>null</td><td>null</td><td>null</td><td>null</td><td>null</td><td>null</td><td>null</td><td>null</td><td>null</td><td>null</td><td>null</td><td>null</td><td>null</td><td>null</td><td>null</td><td>null</td><td>&quot;0.0&quot;</td><td>&quot;54.422&quot;</td><td>&quot;18-Jun&quot;</td><td>&quot;2.581&quot;</td><td>&quot;1.337&quot;</td><td>&quot;1803.987&quot;</td><td>null</td><td>&quot;597.029&quot;</td><td>&quot;Sep-59&quot;</td><td>null</td><td>null</td><td>&quot;37.746&quot;</td><td>&quot;0.5&quot;</td><td>&quot;64.83&quot;</td><td>&quot;0.511&quot;</td><td>&quot;41128772.0&quot;</td><td>null</td><td>null</td><td>null</td><td>null</td></tr><tr><td>&quot;AFG&quot;</td><td>&quot;Asia&quot;</td><td>&quot;Afghanistan&quot;</td><td>&quot;01-19-20&quot;</td><td>null</td><td>&quot;0.0&quot;</td><td>null</td><td>null</td><td>&quot;0.0&quot;</td><td>null</td><td>null</td><td>&quot;0.0&quot;</td><td>null</td><td>null</td><td>&quot;0.0&quot;</td><td>null</td><td>null</td><td>null</td><td>null</td><td>null</td><td>null</td><td>null</td><td>null</td><td>null</td><td>null</td><td>null</td><td>null</td><td>null</td><td>null</td><td>null</td><td>null</td><td>null</td><td>null</td><td>null</td><td>null</td><td>null</td><td>null</td><td>null</td><td>null</td><td>null</td><td>null</td><td>null</td><td>null</td><td>null</td><td>null</td><td>null</td><td>null</td><td>&quot;0.0&quot;</td><td>&quot;54.422&quot;</td><td>&quot;18-Jun&quot;</td><td>&quot;2.581&quot;</td><td>&quot;1.337&quot;</td><td>&quot;1803.987&quot;</td><td>null</td><td>&quot;597.029&quot;</td><td>&quot;Sep-59&quot;</td><td>null</td><td>null</td><td>&quot;37.746&quot;</td><td>&quot;0.5&quot;</td><td>&quot;64.83&quot;</td><td>&quot;0.511&quot;</td><td>&quot;41128772.0&quot;</td><td>null</td><td>null</td><td>null</td><td>null</td></tr><tr><td>&quot;AFG&quot;</td><td>&quot;Asia&quot;</td><td>&quot;Afghanistan&quot;</td><td>&quot;01-26-20&quot;</td><td>null</td><td>&quot;0.0&quot;</td><td>null</td><td>null</td><td>&quot;0.0&quot;</td><td>null</td><td>null</td><td>&quot;0.0&quot;</td><td>null</td><td>null</td><td>&quot;0.0&quot;</td><td>null</td><td>null</td><td>null</td><td>null</td><td>null</td><td>null</td><td>null</td><td>null</td><td>null</td><td>null</td><td>null</td><td>null</td><td>null</td><td>null</td><td>null</td><td>null</td><td>null</td><td>null</td><td>null</td><td>null</td><td>null</td><td>null</td><td>null</td><td>null</td><td>null</td><td>null</td><td>null</td><td>null</td><td>null</td><td>null</td><td>null</td><td>null</td><td>&quot;0.0&quot;</td><td>&quot;54.422&quot;</td><td>&quot;18-Jun&quot;</td><td>&quot;2.581&quot;</td><td>&quot;1.337&quot;</td><td>&quot;1803.987&quot;</td><td>null</td><td>&quot;597.029&quot;</td><td>&quot;Sep-59&quot;</td><td>null</td><td>null</td><td>&quot;37.746&quot;</td><td>&quot;0.5&quot;</td><td>&quot;64.83&quot;</td><td>&quot;0.511&quot;</td><td>&quot;41128772.0&quot;</td><td>null</td><td>null</td><td>null</td><td>null</td></tr><tr><td>&quot;AFG&quot;</td><td>&quot;Asia&quot;</td><td>&quot;Afghanistan&quot;</td><td>&quot;02-02-20&quot;</td><td>null</td><td>&quot;0.0&quot;</td><td>null</td><td>null</td><td>&quot;0.0&quot;</td><td>null</td><td>null</td><td>&quot;0.0&quot;</td><td>null</td><td>null</td><td>&quot;0.0&quot;</td><td>null</td><td>null</td><td>null</td><td>null</td><td>null</td><td>null</td><td>null</td><td>null</td><td>null</td><td>null</td><td>null</td><td>null</td><td>null</td><td>null</td><td>null</td><td>null</td><td>null</td><td>null</td><td>null</td><td>null</td><td>null</td><td>null</td><td>null</td><td>null</td><td>null</td><td>null</td><td>null</td><td>null</td><td>null</td><td>null</td><td>null</td><td>null</td><td>&quot;0.0&quot;</td><td>&quot;54.422&quot;</td><td>&quot;18-Jun&quot;</td><td>&quot;2.581&quot;</td><td>&quot;1.337&quot;</td><td>&quot;1803.987&quot;</td><td>null</td><td>&quot;597.029&quot;</td><td>&quot;Sep-59&quot;</td><td>null</td><td>null</td><td>&quot;37.746&quot;</td><td>&quot;0.5&quot;</td><td>&quot;64.83&quot;</td><td>&quot;0.511&quot;</td><td>&quot;41128772.0&quot;</td><td>null</td><td>null</td><td>null</td><td>null</td></tr></tbody></table></div>"
      ]
     },
     "metadata": {},
     "output_type": "display_data"
    }
   ],
   "source": [
    "# NOTE: It's fine, but date columns have incorrect datatype, and are not ISO-dates.\n",
    "show_df(scan_xlsx2csv())\n",
    "# 2m 15s  (276700 rows, 67 columns)"
   ]
  },
  {
   "attachments": {},
   "cell_type": "markdown",
   "metadata": {},
   "source": [
    "### OpenPyXL: Scan xlsx only"
   ]
  },
  {
   "cell_type": "code",
   "execution_count": 6,
   "metadata": {
    "notebookRunGroups": {
     "groupValue": "1"
    }
   },
   "outputs": [],
   "source": [
    "def scan_openpyxl(path: str = XLSX_FILE) -> pl.DataFrame:\n",
    "    return pl.read_excel(path, engine=\"openpyxl\")"
   ]
  },
  {
   "cell_type": "code",
   "execution_count": 10,
   "metadata": {
    "notebookRunGroups": {
     "groupValue": ""
    }
   },
   "outputs": [
    {
     "name": "stdout",
     "output_type": "stream",
     "text": [
      "rows: 276700 columns: 67\n"
     ]
    },
    {
     "data": {
      "text/html": [
       "<div><style>\n",
       ".dataframe > thead > tr,\n",
       ".dataframe > tbody > tr {\n",
       "  text-align: right;\n",
       "  white-space: pre-wrap;\n",
       "}\n",
       "</style>\n",
       "<small>shape: (5, 67)</small><table border=\"1\" class=\"dataframe\"><thead><tr><th>iso_code</th><th>continent</th><th>location</th><th>date</th><th>total_cases</th><th>new_cases</th><th>new_cases_smoothed</th><th>total_deaths</th><th>new_deaths</th><th>new_deaths_smoothed</th><th>total_cases_per_million</th><th>new_cases_per_million</th><th>new_cases_smoothed_per_million</th><th>total_deaths_per_million</th><th>new_deaths_per_million</th><th>new_deaths_smoothed_per_million</th><th>reproduction_rate</th><th>icu_patients</th><th>icu_patients_per_million</th><th>hosp_patients</th><th>hosp_patients_per_million</th><th>weekly_icu_admissions</th><th>weekly_icu_admissions_per_million</th><th>weekly_hosp_admissions</th><th>weekly_hosp_admissions_per_million</th><th>total_tests</th><th>new_tests</th><th>total_tests_per_thousand</th><th>new_tests_per_thousand</th><th>new_tests_smoothed</th><th>new_tests_smoothed_per_thousand</th><th>positive_rate</th><th>tests_per_case</th><th>tests_units</th><th>total_vaccinations</th><th>people_vaccinated</th><th>people_fully_vaccinated</th><th>total_boosters</th><th>new_vaccinations</th><th>new_vaccinations_smoothed</th><th>total_vaccinations_per_hundred</th><th>people_vaccinated_per_hundred</th><th>people_fully_vaccinated_per_hundred</th><th>total_boosters_per_hundred</th><th>new_vaccinations_smoothed_per_million</th><th>new_people_vaccinated_smoothed</th><th>new_people_vaccinated_smoothed_per_hundred</th><th>stringency_index</th><th>population_density</th><th>median_age</th><th>aged_65_older</th><th>aged_70_older</th><th>gdp_per_capita</th><th>extreme_poverty</th><th>cardiovasc_death_rate</th><th>diabetes_prevalence</th><th>female_smokers</th><th>male_smokers</th><th>handwashing_facilities</th><th>hospital_beds_per_thousand</th><th>life_expectancy</th><th>human_development_index</th><th>population</th><th>excess_mortality_cumulative_absolute</th><th>excess_mortality_cumulative</th><th>excess_mortality</th><th>excess_mortality_cumulative_per_million</th></tr><tr><td>str</td><td>str</td><td>str</td><td>datetime[μs]</td><td>str</td><td>str</td><td>str</td><td>str</td><td>str</td><td>str</td><td>str</td><td>str</td><td>str</td><td>str</td><td>str</td><td>str</td><td>datetime[μs]</td><td>str</td><td>str</td><td>str</td><td>str</td><td>str</td><td>str</td><td>str</td><td>str</td><td>str</td><td>str</td><td>str</td><td>str</td><td>str</td><td>str</td><td>str</td><td>datetime[μs]</td><td>str</td><td>str</td><td>str</td><td>str</td><td>str</td><td>str</td><td>str</td><td>str</td><td>str</td><td>str</td><td>str</td><td>str</td><td>str</td><td>str</td><td>str</td><td>str</td><td>datetime[μs]</td><td>str</td><td>str</td><td>str</td><td>datetime[μs]</td><td>str</td><td>datetime[μs]</td><td>datetime[μs]</td><td>str</td><td>str</td><td>str</td><td>str</td><td>str</td><td>str</td><td>str</td><td>str</td><td>datetime[μs]</td><td>str</td></tr></thead><tbody><tr><td>&quot;AFG&quot;</td><td>&quot;Asia&quot;</td><td>&quot;Afghanistan&quot;</td><td>2020-01-05 00:00:00</td><td>null</td><td>&quot;0.0&quot;</td><td>null</td><td>null</td><td>&quot;0.0&quot;</td><td>null</td><td>null</td><td>&quot;0.0&quot;</td><td>null</td><td>null</td><td>&quot;0.0&quot;</td><td>null</td><td>null</td><td>null</td><td>null</td><td>null</td><td>null</td><td>null</td><td>null</td><td>null</td><td>null</td><td>null</td><td>null</td><td>null</td><td>null</td><td>null</td><td>null</td><td>null</td><td>null</td><td>null</td><td>null</td><td>null</td><td>null</td><td>null</td><td>null</td><td>null</td><td>null</td><td>null</td><td>null</td><td>null</td><td>null</td><td>null</td><td>null</td><td>&quot;0.0&quot;</td><td>&quot;54.422&quot;</td><td>2024-06-18 00:00:00</td><td>&quot;2.581&quot;</td><td>&quot;1.337&quot;</td><td>&quot;1803.987&quot;</td><td>null</td><td>&quot;597.029&quot;</td><td>1959-09-01 00:00:00</td><td>null</td><td>null</td><td>&quot;37.746&quot;</td><td>&quot;0.5&quot;</td><td>&quot;64.83&quot;</td><td>&quot;0.511&quot;</td><td>&quot;41128772.0&quot;</td><td>null</td><td>null</td><td>null</td><td>null</td></tr><tr><td>&quot;AFG&quot;</td><td>&quot;Asia&quot;</td><td>&quot;Afghanistan&quot;</td><td>2020-01-12 00:00:00</td><td>null</td><td>&quot;0.0&quot;</td><td>null</td><td>null</td><td>&quot;0.0&quot;</td><td>null</td><td>null</td><td>&quot;0.0&quot;</td><td>null</td><td>null</td><td>&quot;0.0&quot;</td><td>null</td><td>null</td><td>null</td><td>null</td><td>null</td><td>null</td><td>null</td><td>null</td><td>null</td><td>null</td><td>null</td><td>null</td><td>null</td><td>null</td><td>null</td><td>null</td><td>null</td><td>null</td><td>null</td><td>null</td><td>null</td><td>null</td><td>null</td><td>null</td><td>null</td><td>null</td><td>null</td><td>null</td><td>null</td><td>null</td><td>null</td><td>null</td><td>&quot;0.0&quot;</td><td>&quot;54.422&quot;</td><td>2024-06-18 00:00:00</td><td>&quot;2.581&quot;</td><td>&quot;1.337&quot;</td><td>&quot;1803.987&quot;</td><td>null</td><td>&quot;597.029&quot;</td><td>1959-09-01 00:00:00</td><td>null</td><td>null</td><td>&quot;37.746&quot;</td><td>&quot;0.5&quot;</td><td>&quot;64.83&quot;</td><td>&quot;0.511&quot;</td><td>&quot;41128772.0&quot;</td><td>null</td><td>null</td><td>null</td><td>null</td></tr><tr><td>&quot;AFG&quot;</td><td>&quot;Asia&quot;</td><td>&quot;Afghanistan&quot;</td><td>2020-01-19 00:00:00</td><td>null</td><td>&quot;0.0&quot;</td><td>null</td><td>null</td><td>&quot;0.0&quot;</td><td>null</td><td>null</td><td>&quot;0.0&quot;</td><td>null</td><td>null</td><td>&quot;0.0&quot;</td><td>null</td><td>null</td><td>null</td><td>null</td><td>null</td><td>null</td><td>null</td><td>null</td><td>null</td><td>null</td><td>null</td><td>null</td><td>null</td><td>null</td><td>null</td><td>null</td><td>null</td><td>null</td><td>null</td><td>null</td><td>null</td><td>null</td><td>null</td><td>null</td><td>null</td><td>null</td><td>null</td><td>null</td><td>null</td><td>null</td><td>null</td><td>null</td><td>&quot;0.0&quot;</td><td>&quot;54.422&quot;</td><td>2024-06-18 00:00:00</td><td>&quot;2.581&quot;</td><td>&quot;1.337&quot;</td><td>&quot;1803.987&quot;</td><td>null</td><td>&quot;597.029&quot;</td><td>1959-09-01 00:00:00</td><td>null</td><td>null</td><td>&quot;37.746&quot;</td><td>&quot;0.5&quot;</td><td>&quot;64.83&quot;</td><td>&quot;0.511&quot;</td><td>&quot;41128772.0&quot;</td><td>null</td><td>null</td><td>null</td><td>null</td></tr><tr><td>&quot;AFG&quot;</td><td>&quot;Asia&quot;</td><td>&quot;Afghanistan&quot;</td><td>2020-01-26 00:00:00</td><td>null</td><td>&quot;0.0&quot;</td><td>null</td><td>null</td><td>&quot;0.0&quot;</td><td>null</td><td>null</td><td>&quot;0.0&quot;</td><td>null</td><td>null</td><td>&quot;0.0&quot;</td><td>null</td><td>null</td><td>null</td><td>null</td><td>null</td><td>null</td><td>null</td><td>null</td><td>null</td><td>null</td><td>null</td><td>null</td><td>null</td><td>null</td><td>null</td><td>null</td><td>null</td><td>null</td><td>null</td><td>null</td><td>null</td><td>null</td><td>null</td><td>null</td><td>null</td><td>null</td><td>null</td><td>null</td><td>null</td><td>null</td><td>null</td><td>null</td><td>&quot;0.0&quot;</td><td>&quot;54.422&quot;</td><td>2024-06-18 00:00:00</td><td>&quot;2.581&quot;</td><td>&quot;1.337&quot;</td><td>&quot;1803.987&quot;</td><td>null</td><td>&quot;597.029&quot;</td><td>1959-09-01 00:00:00</td><td>null</td><td>null</td><td>&quot;37.746&quot;</td><td>&quot;0.5&quot;</td><td>&quot;64.83&quot;</td><td>&quot;0.511&quot;</td><td>&quot;41128772.0&quot;</td><td>null</td><td>null</td><td>null</td><td>null</td></tr><tr><td>&quot;AFG&quot;</td><td>&quot;Asia&quot;</td><td>&quot;Afghanistan&quot;</td><td>2020-02-02 00:00:00</td><td>null</td><td>&quot;0.0&quot;</td><td>null</td><td>null</td><td>&quot;0.0&quot;</td><td>null</td><td>null</td><td>&quot;0.0&quot;</td><td>null</td><td>null</td><td>&quot;0.0&quot;</td><td>null</td><td>null</td><td>null</td><td>null</td><td>null</td><td>null</td><td>null</td><td>null</td><td>null</td><td>null</td><td>null</td><td>null</td><td>null</td><td>null</td><td>null</td><td>null</td><td>null</td><td>null</td><td>null</td><td>null</td><td>null</td><td>null</td><td>null</td><td>null</td><td>null</td><td>null</td><td>null</td><td>null</td><td>null</td><td>null</td><td>null</td><td>null</td><td>&quot;0.0&quot;</td><td>&quot;54.422&quot;</td><td>2024-06-18 00:00:00</td><td>&quot;2.581&quot;</td><td>&quot;1.337&quot;</td><td>&quot;1803.987&quot;</td><td>null</td><td>&quot;597.029&quot;</td><td>1959-09-01 00:00:00</td><td>null</td><td>null</td><td>&quot;37.746&quot;</td><td>&quot;0.5&quot;</td><td>&quot;64.83&quot;</td><td>&quot;0.511&quot;</td><td>&quot;41128772.0&quot;</td><td>null</td><td>null</td><td>null</td><td>null</td></tr></tbody></table></div>"
      ]
     },
     "metadata": {},
     "output_type": "display_data"
    }
   ],
   "source": [
    "# NOTE: median_age column has missing data.\n",
    "show_df(scan_openpyxl())\n",
    "# 6m 51.1s  (276700 rows, 67 columns)"
   ]
  },
  {
   "cell_type": "markdown",
   "metadata": {},
   "source": [
    "### PyXLSB: Scan xlsb only"
   ]
  },
  {
   "cell_type": "code",
   "execution_count": 7,
   "metadata": {
    "notebookRunGroups": {
     "groupValue": "1"
    }
   },
   "outputs": [],
   "source": [
    "def scan_pyxlsb(path: str = XLSB_FILE) -> pl.DataFrame:\n",
    "    return pl.read_excel(path, engine=\"pyxlsb\")"
   ]
  },
  {
   "cell_type": "code",
   "execution_count": 10,
   "metadata": {},
   "outputs": [
    {
     "name": "stdout",
     "output_type": "stream",
     "text": [
      "rows: 276700 columns: 67\n"
     ]
    },
    {
     "data": {
      "text/html": [
       "<div><style>\n",
       ".dataframe > thead > tr,\n",
       ".dataframe > tbody > tr {\n",
       "  text-align: right;\n",
       "  white-space: pre-wrap;\n",
       "}\n",
       "</style>\n",
       "<small>shape: (5, 67)</small><table border=\"1\" class=\"dataframe\"><thead><tr><th>iso_code</th><th>continent</th><th>location</th><th>date</th><th>total_cases</th><th>new_cases</th><th>new_cases_smoothed</th><th>total_deaths</th><th>new_deaths</th><th>new_deaths_smoothed</th><th>total_cases_per_million</th><th>new_cases_per_million</th><th>new_cases_smoothed_per_million</th><th>total_deaths_per_million</th><th>new_deaths_per_million</th><th>new_deaths_smoothed_per_million</th><th>reproduction_rate</th><th>icu_patients</th><th>icu_patients_per_million</th><th>hosp_patients</th><th>hosp_patients_per_million</th><th>weekly_icu_admissions</th><th>weekly_icu_admissions_per_million</th><th>weekly_hosp_admissions</th><th>weekly_hosp_admissions_per_million</th><th>total_tests</th><th>new_tests</th><th>total_tests_per_thousand</th><th>new_tests_per_thousand</th><th>new_tests_smoothed</th><th>new_tests_smoothed_per_thousand</th><th>positive_rate</th><th>tests_per_case</th><th>tests_units</th><th>total_vaccinations</th><th>people_vaccinated</th><th>people_fully_vaccinated</th><th>total_boosters</th><th>new_vaccinations</th><th>new_vaccinations_smoothed</th><th>total_vaccinations_per_hundred</th><th>people_vaccinated_per_hundred</th><th>people_fully_vaccinated_per_hundred</th><th>total_boosters_per_hundred</th><th>new_vaccinations_smoothed_per_million</th><th>new_people_vaccinated_smoothed</th><th>new_people_vaccinated_smoothed_per_hundred</th><th>stringency_index</th><th>population_density</th><th>median_age</th><th>aged_65_older</th><th>aged_70_older</th><th>gdp_per_capita</th><th>extreme_poverty</th><th>cardiovasc_death_rate</th><th>diabetes_prevalence</th><th>female_smokers</th><th>male_smokers</th><th>handwashing_facilities</th><th>hospital_beds_per_thousand</th><th>life_expectancy</th><th>human_development_index</th><th>population</th><th>excess_mortality_cumulative_absolute</th><th>excess_mortality_cumulative</th><th>excess_mortality</th><th>excess_mortality_cumulative_per_million</th></tr><tr><td>str</td><td>str</td><td>str</td><td>f64</td><td>str</td><td>str</td><td>str</td><td>str</td><td>str</td><td>str</td><td>str</td><td>str</td><td>str</td><td>str</td><td>str</td><td>str</td><td>str</td><td>str</td><td>str</td><td>str</td><td>str</td><td>str</td><td>str</td><td>str</td><td>str</td><td>str</td><td>str</td><td>str</td><td>str</td><td>str</td><td>str</td><td>str</td><td>str</td><td>str</td><td>str</td><td>str</td><td>str</td><td>str</td><td>str</td><td>str</td><td>str</td><td>str</td><td>str</td><td>str</td><td>str</td><td>str</td><td>str</td><td>str</td><td>str</td><td>str</td><td>str</td><td>str</td><td>str</td><td>str</td><td>str</td><td>str</td><td>str</td><td>str</td><td>str</td><td>str</td><td>str</td><td>str</td><td>str</td><td>str</td><td>str</td><td>str</td><td>str</td></tr></thead><tbody><tr><td>&quot;AFG&quot;</td><td>&quot;Asia&quot;</td><td>&quot;Afghanistan&quot;</td><td>43835.0</td><td>null</td><td>&quot;0.0&quot;</td><td>null</td><td>null</td><td>&quot;0.0&quot;</td><td>null</td><td>null</td><td>&quot;0.0&quot;</td><td>null</td><td>null</td><td>&quot;0.0&quot;</td><td>null</td><td>null</td><td>null</td><td>null</td><td>null</td><td>null</td><td>null</td><td>null</td><td>null</td><td>null</td><td>null</td><td>null</td><td>null</td><td>null</td><td>null</td><td>null</td><td>null</td><td>null</td><td>null</td><td>null</td><td>null</td><td>null</td><td>null</td><td>null</td><td>null</td><td>null</td><td>null</td><td>null</td><td>null</td><td>null</td><td>null</td><td>null</td><td>&quot;0.0&quot;</td><td>&quot;54.422&quot;</td><td>null</td><td>&quot;2.581&quot;</td><td>&quot;1.337&quot;</td><td>&quot;1803.987&quot;</td><td>null</td><td>&quot;597.029&quot;</td><td>null</td><td>null</td><td>null</td><td>&quot;37.746&quot;</td><td>&quot;0.5&quot;</td><td>&quot;64.83&quot;</td><td>&quot;0.511&quot;</td><td>&quot;41128772.0&quot;</td><td>null</td><td>null</td><td>null</td><td>null</td></tr><tr><td>&quot;AFG&quot;</td><td>&quot;Asia&quot;</td><td>&quot;Afghanistan&quot;</td><td>43842.0</td><td>null</td><td>&quot;0.0&quot;</td><td>null</td><td>null</td><td>&quot;0.0&quot;</td><td>null</td><td>null</td><td>&quot;0.0&quot;</td><td>null</td><td>null</td><td>&quot;0.0&quot;</td><td>null</td><td>null</td><td>null</td><td>null</td><td>null</td><td>null</td><td>null</td><td>null</td><td>null</td><td>null</td><td>null</td><td>null</td><td>null</td><td>null</td><td>null</td><td>null</td><td>null</td><td>null</td><td>null</td><td>null</td><td>null</td><td>null</td><td>null</td><td>null</td><td>null</td><td>null</td><td>null</td><td>null</td><td>null</td><td>null</td><td>null</td><td>null</td><td>&quot;0.0&quot;</td><td>&quot;54.422&quot;</td><td>null</td><td>&quot;2.581&quot;</td><td>&quot;1.337&quot;</td><td>&quot;1803.987&quot;</td><td>null</td><td>&quot;597.029&quot;</td><td>null</td><td>null</td><td>null</td><td>&quot;37.746&quot;</td><td>&quot;0.5&quot;</td><td>&quot;64.83&quot;</td><td>&quot;0.511&quot;</td><td>&quot;41128772.0&quot;</td><td>null</td><td>null</td><td>null</td><td>null</td></tr><tr><td>&quot;AFG&quot;</td><td>&quot;Asia&quot;</td><td>&quot;Afghanistan&quot;</td><td>43849.0</td><td>null</td><td>&quot;0.0&quot;</td><td>null</td><td>null</td><td>&quot;0.0&quot;</td><td>null</td><td>null</td><td>&quot;0.0&quot;</td><td>null</td><td>null</td><td>&quot;0.0&quot;</td><td>null</td><td>null</td><td>null</td><td>null</td><td>null</td><td>null</td><td>null</td><td>null</td><td>null</td><td>null</td><td>null</td><td>null</td><td>null</td><td>null</td><td>null</td><td>null</td><td>null</td><td>null</td><td>null</td><td>null</td><td>null</td><td>null</td><td>null</td><td>null</td><td>null</td><td>null</td><td>null</td><td>null</td><td>null</td><td>null</td><td>null</td><td>null</td><td>&quot;0.0&quot;</td><td>&quot;54.422&quot;</td><td>null</td><td>&quot;2.581&quot;</td><td>&quot;1.337&quot;</td><td>&quot;1803.987&quot;</td><td>null</td><td>&quot;597.029&quot;</td><td>null</td><td>null</td><td>null</td><td>&quot;37.746&quot;</td><td>&quot;0.5&quot;</td><td>&quot;64.83&quot;</td><td>&quot;0.511&quot;</td><td>&quot;41128772.0&quot;</td><td>null</td><td>null</td><td>null</td><td>null</td></tr><tr><td>&quot;AFG&quot;</td><td>&quot;Asia&quot;</td><td>&quot;Afghanistan&quot;</td><td>43856.0</td><td>null</td><td>&quot;0.0&quot;</td><td>null</td><td>null</td><td>&quot;0.0&quot;</td><td>null</td><td>null</td><td>&quot;0.0&quot;</td><td>null</td><td>null</td><td>&quot;0.0&quot;</td><td>null</td><td>null</td><td>null</td><td>null</td><td>null</td><td>null</td><td>null</td><td>null</td><td>null</td><td>null</td><td>null</td><td>null</td><td>null</td><td>null</td><td>null</td><td>null</td><td>null</td><td>null</td><td>null</td><td>null</td><td>null</td><td>null</td><td>null</td><td>null</td><td>null</td><td>null</td><td>null</td><td>null</td><td>null</td><td>null</td><td>null</td><td>null</td><td>&quot;0.0&quot;</td><td>&quot;54.422&quot;</td><td>null</td><td>&quot;2.581&quot;</td><td>&quot;1.337&quot;</td><td>&quot;1803.987&quot;</td><td>null</td><td>&quot;597.029&quot;</td><td>null</td><td>null</td><td>null</td><td>&quot;37.746&quot;</td><td>&quot;0.5&quot;</td><td>&quot;64.83&quot;</td><td>&quot;0.511&quot;</td><td>&quot;41128772.0&quot;</td><td>null</td><td>null</td><td>null</td><td>null</td></tr><tr><td>&quot;AFG&quot;</td><td>&quot;Asia&quot;</td><td>&quot;Afghanistan&quot;</td><td>43863.0</td><td>null</td><td>&quot;0.0&quot;</td><td>null</td><td>null</td><td>&quot;0.0&quot;</td><td>null</td><td>null</td><td>&quot;0.0&quot;</td><td>null</td><td>null</td><td>&quot;0.0&quot;</td><td>null</td><td>null</td><td>null</td><td>null</td><td>null</td><td>null</td><td>null</td><td>null</td><td>null</td><td>null</td><td>null</td><td>null</td><td>null</td><td>null</td><td>null</td><td>null</td><td>null</td><td>null</td><td>null</td><td>null</td><td>null</td><td>null</td><td>null</td><td>null</td><td>null</td><td>null</td><td>null</td><td>null</td><td>null</td><td>null</td><td>null</td><td>null</td><td>&quot;0.0&quot;</td><td>&quot;54.422&quot;</td><td>null</td><td>&quot;2.581&quot;</td><td>&quot;1.337&quot;</td><td>&quot;1803.987&quot;</td><td>null</td><td>&quot;597.029&quot;</td><td>null</td><td>null</td><td>null</td><td>&quot;37.746&quot;</td><td>&quot;0.5&quot;</td><td>&quot;64.83&quot;</td><td>&quot;0.511&quot;</td><td>&quot;41128772.0&quot;</td><td>null</td><td>null</td><td>null</td><td>null</td></tr></tbody></table></div>"
      ]
     },
     "metadata": {},
     "output_type": "display_data"
    }
   ],
   "source": [
    "# NOTE: pyxlsb not recognized dates automatically - you can do this manually, but xl/styles.bin parsing required.\n",
    "show_df(scan_pyxlsb())\n",
    "# 2m 56.2s  (276700 rows, 67 columns)"
   ]
  },
  {
   "attachments": {},
   "cell_type": "markdown",
   "metadata": {},
   "source": [
    "### Calamine: Scan both xlsx and xlsb"
   ]
  },
  {
   "cell_type": "code",
   "execution_count": 8,
   "metadata": {
    "notebookRunGroups": {
     "groupValue": "1"
    }
   },
   "outputs": [],
   "source": [
    "def scan_calamine(path: str = XLSB_FILE, *, tq: bool = False) -> pl.DataFrame:\n",
    "    wb: calamine.CalamineWorkbook = calamine.load_workbook(path)\n",
    "    ws = wb.get_sheet_by_index(0)\n",
    "\n",
    "    row_it = iter(ws.to_python(skip_empty_area=False))\n",
    "\n",
    "    head = [\n",
    "        col_header\n",
    "        if cell[1] is not None and (col_header := str(cell[1]).strip())\n",
    "        else f\"Unnamed: {cell[0]}\"\n",
    "        for cell in enumerate(next(row_it))\n",
    "    ]\n",
    "    schema = dict.fromkeys(head, pl.Utf8)\n",
    "\n",
    "    data_it = ([str(cell) if cell else None for cell in row] for row in row_it)\n",
    "    if tq:\n",
    "        data_it = tqdm(data_it)\n",
    "\n",
    "    return pl.DataFrame(list(data_it), schema, orient=\"row\")\n"
   ]
  },
  {
   "cell_type": "code",
   "execution_count": 10,
   "metadata": {},
   "outputs": [
    {
     "name": "stdout",
     "output_type": "stream",
     "text": [
      "rows: 276700 columns: 67\n"
     ]
    },
    {
     "data": {
      "text/html": [
       "<div><style>\n",
       ".dataframe > thead > tr,\n",
       ".dataframe > tbody > tr {\n",
       "  text-align: right;\n",
       "  white-space: pre-wrap;\n",
       "}\n",
       "</style>\n",
       "<small>shape: (5, 67)</small><table border=\"1\" class=\"dataframe\"><thead><tr><th>iso_code</th><th>continent</th><th>location</th><th>date</th><th>total_cases</th><th>new_cases</th><th>new_cases_smoothed</th><th>total_deaths</th><th>new_deaths</th><th>new_deaths_smoothed</th><th>total_cases_per_million</th><th>new_cases_per_million</th><th>new_cases_smoothed_per_million</th><th>total_deaths_per_million</th><th>new_deaths_per_million</th><th>new_deaths_smoothed_per_million</th><th>reproduction_rate</th><th>icu_patients</th><th>icu_patients_per_million</th><th>hosp_patients</th><th>hosp_patients_per_million</th><th>weekly_icu_admissions</th><th>weekly_icu_admissions_per_million</th><th>weekly_hosp_admissions</th><th>weekly_hosp_admissions_per_million</th><th>total_tests</th><th>new_tests</th><th>total_tests_per_thousand</th><th>new_tests_per_thousand</th><th>new_tests_smoothed</th><th>new_tests_smoothed_per_thousand</th><th>positive_rate</th><th>tests_per_case</th><th>tests_units</th><th>total_vaccinations</th><th>people_vaccinated</th><th>people_fully_vaccinated</th><th>total_boosters</th><th>new_vaccinations</th><th>new_vaccinations_smoothed</th><th>total_vaccinations_per_hundred</th><th>people_vaccinated_per_hundred</th><th>people_fully_vaccinated_per_hundred</th><th>total_boosters_per_hundred</th><th>new_vaccinations_smoothed_per_million</th><th>new_people_vaccinated_smoothed</th><th>new_people_vaccinated_smoothed_per_hundred</th><th>stringency_index</th><th>population_density</th><th>median_age</th><th>aged_65_older</th><th>aged_70_older</th><th>gdp_per_capita</th><th>extreme_poverty</th><th>cardiovasc_death_rate</th><th>diabetes_prevalence</th><th>female_smokers</th><th>male_smokers</th><th>handwashing_facilities</th><th>hospital_beds_per_thousand</th><th>life_expectancy</th><th>human_development_index</th><th>population</th><th>excess_mortality_cumulative_absolute</th><th>excess_mortality_cumulative</th><th>excess_mortality</th><th>excess_mortality_cumulative_per_million</th></tr><tr><td>str</td><td>str</td><td>str</td><td>str</td><td>str</td><td>str</td><td>str</td><td>str</td><td>str</td><td>str</td><td>str</td><td>str</td><td>str</td><td>str</td><td>str</td><td>str</td><td>str</td><td>str</td><td>str</td><td>str</td><td>str</td><td>str</td><td>str</td><td>str</td><td>str</td><td>str</td><td>str</td><td>str</td><td>str</td><td>str</td><td>str</td><td>str</td><td>str</td><td>str</td><td>str</td><td>str</td><td>str</td><td>str</td><td>str</td><td>str</td><td>str</td><td>str</td><td>str</td><td>str</td><td>str</td><td>str</td><td>str</td><td>str</td><td>str</td><td>str</td><td>str</td><td>str</td><td>str</td><td>str</td><td>str</td><td>str</td><td>str</td><td>str</td><td>str</td><td>str</td><td>str</td><td>str</td><td>str</td><td>str</td><td>str</td><td>str</td><td>str</td></tr></thead><tbody><tr><td>&quot;AFG&quot;</td><td>&quot;Asia&quot;</td><td>&quot;Afghanistan&quot;</td><td>&quot;2020-01-05&quot;</td><td>null</td><td>&quot;0.0&quot;</td><td>null</td><td>null</td><td>&quot;0.0&quot;</td><td>null</td><td>null</td><td>&quot;0.0&quot;</td><td>null</td><td>null</td><td>&quot;0.0&quot;</td><td>null</td><td>null</td><td>null</td><td>null</td><td>null</td><td>null</td><td>null</td><td>null</td><td>null</td><td>null</td><td>null</td><td>null</td><td>null</td><td>null</td><td>null</td><td>null</td><td>null</td><td>null</td><td>null</td><td>null</td><td>null</td><td>null</td><td>null</td><td>null</td><td>null</td><td>null</td><td>null</td><td>null</td><td>null</td><td>null</td><td>null</td><td>null</td><td>&quot;0.0&quot;</td><td>&quot;54.422&quot;</td><td>&quot;2024-06-18&quot;</td><td>&quot;2.581&quot;</td><td>&quot;1.337&quot;</td><td>&quot;1803.987&quot;</td><td>null</td><td>&quot;597.029&quot;</td><td>&quot;1959-09-01&quot;</td><td>null</td><td>null</td><td>&quot;37.746&quot;</td><td>&quot;0.5&quot;</td><td>&quot;64.83&quot;</td><td>&quot;0.511&quot;</td><td>&quot;41128772.0&quot;</td><td>null</td><td>null</td><td>null</td><td>null</td></tr><tr><td>&quot;AFG&quot;</td><td>&quot;Asia&quot;</td><td>&quot;Afghanistan&quot;</td><td>&quot;2020-01-12&quot;</td><td>null</td><td>&quot;0.0&quot;</td><td>null</td><td>null</td><td>&quot;0.0&quot;</td><td>null</td><td>null</td><td>&quot;0.0&quot;</td><td>null</td><td>null</td><td>&quot;0.0&quot;</td><td>null</td><td>null</td><td>null</td><td>null</td><td>null</td><td>null</td><td>null</td><td>null</td><td>null</td><td>null</td><td>null</td><td>null</td><td>null</td><td>null</td><td>null</td><td>null</td><td>null</td><td>null</td><td>null</td><td>null</td><td>null</td><td>null</td><td>null</td><td>null</td><td>null</td><td>null</td><td>null</td><td>null</td><td>null</td><td>null</td><td>null</td><td>null</td><td>&quot;0.0&quot;</td><td>&quot;54.422&quot;</td><td>&quot;2024-06-18&quot;</td><td>&quot;2.581&quot;</td><td>&quot;1.337&quot;</td><td>&quot;1803.987&quot;</td><td>null</td><td>&quot;597.029&quot;</td><td>&quot;1959-09-01&quot;</td><td>null</td><td>null</td><td>&quot;37.746&quot;</td><td>&quot;0.5&quot;</td><td>&quot;64.83&quot;</td><td>&quot;0.511&quot;</td><td>&quot;41128772.0&quot;</td><td>null</td><td>null</td><td>null</td><td>null</td></tr><tr><td>&quot;AFG&quot;</td><td>&quot;Asia&quot;</td><td>&quot;Afghanistan&quot;</td><td>&quot;2020-01-19&quot;</td><td>null</td><td>&quot;0.0&quot;</td><td>null</td><td>null</td><td>&quot;0.0&quot;</td><td>null</td><td>null</td><td>&quot;0.0&quot;</td><td>null</td><td>null</td><td>&quot;0.0&quot;</td><td>null</td><td>null</td><td>null</td><td>null</td><td>null</td><td>null</td><td>null</td><td>null</td><td>null</td><td>null</td><td>null</td><td>null</td><td>null</td><td>null</td><td>null</td><td>null</td><td>null</td><td>null</td><td>null</td><td>null</td><td>null</td><td>null</td><td>null</td><td>null</td><td>null</td><td>null</td><td>null</td><td>null</td><td>null</td><td>null</td><td>null</td><td>null</td><td>&quot;0.0&quot;</td><td>&quot;54.422&quot;</td><td>&quot;2024-06-18&quot;</td><td>&quot;2.581&quot;</td><td>&quot;1.337&quot;</td><td>&quot;1803.987&quot;</td><td>null</td><td>&quot;597.029&quot;</td><td>&quot;1959-09-01&quot;</td><td>null</td><td>null</td><td>&quot;37.746&quot;</td><td>&quot;0.5&quot;</td><td>&quot;64.83&quot;</td><td>&quot;0.511&quot;</td><td>&quot;41128772.0&quot;</td><td>null</td><td>null</td><td>null</td><td>null</td></tr><tr><td>&quot;AFG&quot;</td><td>&quot;Asia&quot;</td><td>&quot;Afghanistan&quot;</td><td>&quot;2020-01-26&quot;</td><td>null</td><td>&quot;0.0&quot;</td><td>null</td><td>null</td><td>&quot;0.0&quot;</td><td>null</td><td>null</td><td>&quot;0.0&quot;</td><td>null</td><td>null</td><td>&quot;0.0&quot;</td><td>null</td><td>null</td><td>null</td><td>null</td><td>null</td><td>null</td><td>null</td><td>null</td><td>null</td><td>null</td><td>null</td><td>null</td><td>null</td><td>null</td><td>null</td><td>null</td><td>null</td><td>null</td><td>null</td><td>null</td><td>null</td><td>null</td><td>null</td><td>null</td><td>null</td><td>null</td><td>null</td><td>null</td><td>null</td><td>null</td><td>null</td><td>null</td><td>&quot;0.0&quot;</td><td>&quot;54.422&quot;</td><td>&quot;2024-06-18&quot;</td><td>&quot;2.581&quot;</td><td>&quot;1.337&quot;</td><td>&quot;1803.987&quot;</td><td>null</td><td>&quot;597.029&quot;</td><td>&quot;1959-09-01&quot;</td><td>null</td><td>null</td><td>&quot;37.746&quot;</td><td>&quot;0.5&quot;</td><td>&quot;64.83&quot;</td><td>&quot;0.511&quot;</td><td>&quot;41128772.0&quot;</td><td>null</td><td>null</td><td>null</td><td>null</td></tr><tr><td>&quot;AFG&quot;</td><td>&quot;Asia&quot;</td><td>&quot;Afghanistan&quot;</td><td>&quot;2020-02-02&quot;</td><td>null</td><td>&quot;0.0&quot;</td><td>null</td><td>null</td><td>&quot;0.0&quot;</td><td>null</td><td>null</td><td>&quot;0.0&quot;</td><td>null</td><td>null</td><td>&quot;0.0&quot;</td><td>null</td><td>null</td><td>null</td><td>null</td><td>null</td><td>null</td><td>null</td><td>null</td><td>null</td><td>null</td><td>null</td><td>null</td><td>null</td><td>null</td><td>null</td><td>null</td><td>null</td><td>null</td><td>null</td><td>null</td><td>null</td><td>null</td><td>null</td><td>null</td><td>null</td><td>null</td><td>null</td><td>null</td><td>null</td><td>null</td><td>null</td><td>null</td><td>&quot;0.0&quot;</td><td>&quot;54.422&quot;</td><td>&quot;2024-06-18&quot;</td><td>&quot;2.581&quot;</td><td>&quot;1.337&quot;</td><td>&quot;1803.987&quot;</td><td>null</td><td>&quot;597.029&quot;</td><td>&quot;1959-09-01&quot;</td><td>null</td><td>null</td><td>&quot;37.746&quot;</td><td>&quot;0.5&quot;</td><td>&quot;64.83&quot;</td><td>&quot;0.511&quot;</td><td>&quot;41128772.0&quot;</td><td>null</td><td>null</td><td>null</td><td>null</td></tr></tbody></table></div>"
      ]
     },
     "metadata": {},
     "output_type": "display_data"
    }
   ],
   "source": [
    "show_df(scan_calamine(XLSX_FILE))\n",
    "# 38.3s  (276700 rows, 67 columns)"
   ]
  },
  {
   "cell_type": "code",
   "execution_count": 10,
   "metadata": {
    "notebookRunGroups": {
     "groupValue": ""
    }
   },
   "outputs": [
    {
     "name": "stdout",
     "output_type": "stream",
     "text": [
      "rows: 276700 columns: 67\n"
     ]
    },
    {
     "data": {
      "text/html": [
       "<div><style>\n",
       ".dataframe > thead > tr,\n",
       ".dataframe > tbody > tr {\n",
       "  text-align: right;\n",
       "  white-space: pre-wrap;\n",
       "}\n",
       "</style>\n",
       "<small>shape: (5, 67)</small><table border=\"1\" class=\"dataframe\"><thead><tr><th>iso_code</th><th>continent</th><th>location</th><th>date</th><th>total_cases</th><th>new_cases</th><th>new_cases_smoothed</th><th>total_deaths</th><th>new_deaths</th><th>new_deaths_smoothed</th><th>total_cases_per_million</th><th>new_cases_per_million</th><th>new_cases_smoothed_per_million</th><th>total_deaths_per_million</th><th>new_deaths_per_million</th><th>new_deaths_smoothed_per_million</th><th>reproduction_rate</th><th>icu_patients</th><th>icu_patients_per_million</th><th>hosp_patients</th><th>hosp_patients_per_million</th><th>weekly_icu_admissions</th><th>weekly_icu_admissions_per_million</th><th>weekly_hosp_admissions</th><th>weekly_hosp_admissions_per_million</th><th>total_tests</th><th>new_tests</th><th>total_tests_per_thousand</th><th>new_tests_per_thousand</th><th>new_tests_smoothed</th><th>new_tests_smoothed_per_thousand</th><th>positive_rate</th><th>tests_per_case</th><th>tests_units</th><th>total_vaccinations</th><th>people_vaccinated</th><th>people_fully_vaccinated</th><th>total_boosters</th><th>new_vaccinations</th><th>new_vaccinations_smoothed</th><th>total_vaccinations_per_hundred</th><th>people_vaccinated_per_hundred</th><th>people_fully_vaccinated_per_hundred</th><th>total_boosters_per_hundred</th><th>new_vaccinations_smoothed_per_million</th><th>new_people_vaccinated_smoothed</th><th>new_people_vaccinated_smoothed_per_hundred</th><th>stringency_index</th><th>population_density</th><th>median_age</th><th>aged_65_older</th><th>aged_70_older</th><th>gdp_per_capita</th><th>extreme_poverty</th><th>cardiovasc_death_rate</th><th>diabetes_prevalence</th><th>female_smokers</th><th>male_smokers</th><th>handwashing_facilities</th><th>hospital_beds_per_thousand</th><th>life_expectancy</th><th>human_development_index</th><th>population</th><th>excess_mortality_cumulative_absolute</th><th>excess_mortality_cumulative</th><th>excess_mortality</th><th>excess_mortality_cumulative_per_million</th></tr><tr><td>str</td><td>str</td><td>str</td><td>str</td><td>str</td><td>str</td><td>str</td><td>str</td><td>str</td><td>str</td><td>str</td><td>str</td><td>str</td><td>str</td><td>str</td><td>str</td><td>str</td><td>str</td><td>str</td><td>str</td><td>str</td><td>str</td><td>str</td><td>str</td><td>str</td><td>str</td><td>str</td><td>str</td><td>str</td><td>str</td><td>str</td><td>str</td><td>str</td><td>str</td><td>str</td><td>str</td><td>str</td><td>str</td><td>str</td><td>str</td><td>str</td><td>str</td><td>str</td><td>str</td><td>str</td><td>str</td><td>str</td><td>str</td><td>str</td><td>str</td><td>str</td><td>str</td><td>str</td><td>str</td><td>str</td><td>str</td><td>str</td><td>str</td><td>str</td><td>str</td><td>str</td><td>str</td><td>str</td><td>str</td><td>str</td><td>str</td><td>str</td></tr></thead><tbody><tr><td>&quot;AFG&quot;</td><td>&quot;Asia&quot;</td><td>&quot;Afghanistan&quot;</td><td>&quot;2020-01-05&quot;</td><td>null</td><td>&quot;0.0&quot;</td><td>null</td><td>null</td><td>&quot;0.0&quot;</td><td>null</td><td>null</td><td>&quot;0.0&quot;</td><td>null</td><td>null</td><td>&quot;0.0&quot;</td><td>null</td><td>null</td><td>null</td><td>null</td><td>null</td><td>null</td><td>null</td><td>null</td><td>null</td><td>null</td><td>null</td><td>null</td><td>null</td><td>null</td><td>null</td><td>null</td><td>null</td><td>null</td><td>null</td><td>null</td><td>null</td><td>null</td><td>null</td><td>null</td><td>null</td><td>null</td><td>null</td><td>null</td><td>null</td><td>null</td><td>null</td><td>null</td><td>&quot;0.0&quot;</td><td>&quot;54.422&quot;</td><td>&quot;2024-06-18&quot;</td><td>&quot;2.581&quot;</td><td>&quot;1.337&quot;</td><td>&quot;1803.987&quot;</td><td>null</td><td>&quot;597.029&quot;</td><td>&quot;1959-09-01&quot;</td><td>null</td><td>null</td><td>&quot;37.746&quot;</td><td>&quot;0.5&quot;</td><td>&quot;64.83&quot;</td><td>&quot;0.511&quot;</td><td>&quot;41128772.0&quot;</td><td>null</td><td>null</td><td>null</td><td>null</td></tr><tr><td>&quot;AFG&quot;</td><td>&quot;Asia&quot;</td><td>&quot;Afghanistan&quot;</td><td>&quot;2020-01-12&quot;</td><td>null</td><td>&quot;0.0&quot;</td><td>null</td><td>null</td><td>&quot;0.0&quot;</td><td>null</td><td>null</td><td>&quot;0.0&quot;</td><td>null</td><td>null</td><td>&quot;0.0&quot;</td><td>null</td><td>null</td><td>null</td><td>null</td><td>null</td><td>null</td><td>null</td><td>null</td><td>null</td><td>null</td><td>null</td><td>null</td><td>null</td><td>null</td><td>null</td><td>null</td><td>null</td><td>null</td><td>null</td><td>null</td><td>null</td><td>null</td><td>null</td><td>null</td><td>null</td><td>null</td><td>null</td><td>null</td><td>null</td><td>null</td><td>null</td><td>null</td><td>&quot;0.0&quot;</td><td>&quot;54.422&quot;</td><td>&quot;2024-06-18&quot;</td><td>&quot;2.581&quot;</td><td>&quot;1.337&quot;</td><td>&quot;1803.987&quot;</td><td>null</td><td>&quot;597.029&quot;</td><td>&quot;1959-09-01&quot;</td><td>null</td><td>null</td><td>&quot;37.746&quot;</td><td>&quot;0.5&quot;</td><td>&quot;64.83&quot;</td><td>&quot;0.511&quot;</td><td>&quot;41128772.0&quot;</td><td>null</td><td>null</td><td>null</td><td>null</td></tr><tr><td>&quot;AFG&quot;</td><td>&quot;Asia&quot;</td><td>&quot;Afghanistan&quot;</td><td>&quot;2020-01-19&quot;</td><td>null</td><td>&quot;0.0&quot;</td><td>null</td><td>null</td><td>&quot;0.0&quot;</td><td>null</td><td>null</td><td>&quot;0.0&quot;</td><td>null</td><td>null</td><td>&quot;0.0&quot;</td><td>null</td><td>null</td><td>null</td><td>null</td><td>null</td><td>null</td><td>null</td><td>null</td><td>null</td><td>null</td><td>null</td><td>null</td><td>null</td><td>null</td><td>null</td><td>null</td><td>null</td><td>null</td><td>null</td><td>null</td><td>null</td><td>null</td><td>null</td><td>null</td><td>null</td><td>null</td><td>null</td><td>null</td><td>null</td><td>null</td><td>null</td><td>null</td><td>&quot;0.0&quot;</td><td>&quot;54.422&quot;</td><td>&quot;2024-06-18&quot;</td><td>&quot;2.581&quot;</td><td>&quot;1.337&quot;</td><td>&quot;1803.987&quot;</td><td>null</td><td>&quot;597.029&quot;</td><td>&quot;1959-09-01&quot;</td><td>null</td><td>null</td><td>&quot;37.746&quot;</td><td>&quot;0.5&quot;</td><td>&quot;64.83&quot;</td><td>&quot;0.511&quot;</td><td>&quot;41128772.0&quot;</td><td>null</td><td>null</td><td>null</td><td>null</td></tr><tr><td>&quot;AFG&quot;</td><td>&quot;Asia&quot;</td><td>&quot;Afghanistan&quot;</td><td>&quot;2020-01-26&quot;</td><td>null</td><td>&quot;0.0&quot;</td><td>null</td><td>null</td><td>&quot;0.0&quot;</td><td>null</td><td>null</td><td>&quot;0.0&quot;</td><td>null</td><td>null</td><td>&quot;0.0&quot;</td><td>null</td><td>null</td><td>null</td><td>null</td><td>null</td><td>null</td><td>null</td><td>null</td><td>null</td><td>null</td><td>null</td><td>null</td><td>null</td><td>null</td><td>null</td><td>null</td><td>null</td><td>null</td><td>null</td><td>null</td><td>null</td><td>null</td><td>null</td><td>null</td><td>null</td><td>null</td><td>null</td><td>null</td><td>null</td><td>null</td><td>null</td><td>null</td><td>&quot;0.0&quot;</td><td>&quot;54.422&quot;</td><td>&quot;2024-06-18&quot;</td><td>&quot;2.581&quot;</td><td>&quot;1.337&quot;</td><td>&quot;1803.987&quot;</td><td>null</td><td>&quot;597.029&quot;</td><td>&quot;1959-09-01&quot;</td><td>null</td><td>null</td><td>&quot;37.746&quot;</td><td>&quot;0.5&quot;</td><td>&quot;64.83&quot;</td><td>&quot;0.511&quot;</td><td>&quot;41128772.0&quot;</td><td>null</td><td>null</td><td>null</td><td>null</td></tr><tr><td>&quot;AFG&quot;</td><td>&quot;Asia&quot;</td><td>&quot;Afghanistan&quot;</td><td>&quot;2020-02-02&quot;</td><td>null</td><td>&quot;0.0&quot;</td><td>null</td><td>null</td><td>&quot;0.0&quot;</td><td>null</td><td>null</td><td>&quot;0.0&quot;</td><td>null</td><td>null</td><td>&quot;0.0&quot;</td><td>null</td><td>null</td><td>null</td><td>null</td><td>null</td><td>null</td><td>null</td><td>null</td><td>null</td><td>null</td><td>null</td><td>null</td><td>null</td><td>null</td><td>null</td><td>null</td><td>null</td><td>null</td><td>null</td><td>null</td><td>null</td><td>null</td><td>null</td><td>null</td><td>null</td><td>null</td><td>null</td><td>null</td><td>null</td><td>null</td><td>null</td><td>null</td><td>&quot;0.0&quot;</td><td>&quot;54.422&quot;</td><td>&quot;2024-06-18&quot;</td><td>&quot;2.581&quot;</td><td>&quot;1.337&quot;</td><td>&quot;1803.987&quot;</td><td>null</td><td>&quot;597.029&quot;</td><td>&quot;1959-09-01&quot;</td><td>null</td><td>null</td><td>&quot;37.746&quot;</td><td>&quot;0.5&quot;</td><td>&quot;64.83&quot;</td><td>&quot;0.511&quot;</td><td>&quot;41128772.0&quot;</td><td>null</td><td>null</td><td>null</td><td>null</td></tr></tbody></table></div>"
      ]
     },
     "metadata": {},
     "output_type": "display_data"
    }
   ],
   "source": [
    "show_df(scan_calamine())\n",
    "# 21.6s  (276700 rows, 67 columns)"
   ]
  },
  {
   "attachments": {},
   "cell_type": "markdown",
   "metadata": {},
   "source": [
    "## Benchmarks"
   ]
  },
  {
   "attachments": {},
   "cell_type": "markdown",
   "metadata": {},
   "source": [
    "### Timeit"
   ]
  },
  {
   "attachments": {},
   "cell_type": "markdown",
   "metadata": {},
   "source": [
    "*For these tests, I've reload kernel between tests, for better consistency*"
   ]
  },
  {
   "cell_type": "code",
   "execution_count": 10,
   "metadata": {
    "notebookRunGroups": {
     "groupValue": "2"
    }
   },
   "outputs": [
    {
     "name": "stdout",
     "output_type": "stream",
     "text": [
      "CPU times: total: 2min 7s\n",
      "Wall time: 2min 15s\n"
     ]
    },
    {
     "data": {
      "text/html": [
       "<div><style>\n",
       ".dataframe > thead > tr,\n",
       ".dataframe > tbody > tr {\n",
       "  text-align: right;\n",
       "  white-space: pre-wrap;\n",
       "}\n",
       "</style>\n",
       "<small>shape: (5, 67)</small><table border=\"1\" class=\"dataframe\"><thead><tr><th>iso_code</th><th>continent</th><th>location</th><th>date</th><th>total_cases</th><th>new_cases</th><th>new_cases_smoothed</th><th>total_deaths</th><th>new_deaths</th><th>new_deaths_smoothed</th><th>total_cases_per_million</th><th>new_cases_per_million</th><th>new_cases_smoothed_per_million</th><th>total_deaths_per_million</th><th>new_deaths_per_million</th><th>new_deaths_smoothed_per_million</th><th>reproduction_rate</th><th>icu_patients</th><th>icu_patients_per_million</th><th>hosp_patients</th><th>hosp_patients_per_million</th><th>weekly_icu_admissions</th><th>weekly_icu_admissions_per_million</th><th>weekly_hosp_admissions</th><th>weekly_hosp_admissions_per_million</th><th>total_tests</th><th>new_tests</th><th>total_tests_per_thousand</th><th>new_tests_per_thousand</th><th>new_tests_smoothed</th><th>new_tests_smoothed_per_thousand</th><th>positive_rate</th><th>tests_per_case</th><th>tests_units</th><th>total_vaccinations</th><th>people_vaccinated</th><th>people_fully_vaccinated</th><th>total_boosters</th><th>new_vaccinations</th><th>new_vaccinations_smoothed</th><th>total_vaccinations_per_hundred</th><th>people_vaccinated_per_hundred</th><th>people_fully_vaccinated_per_hundred</th><th>total_boosters_per_hundred</th><th>new_vaccinations_smoothed_per_million</th><th>new_people_vaccinated_smoothed</th><th>new_people_vaccinated_smoothed_per_hundred</th><th>stringency_index</th><th>population_density</th><th>median_age</th><th>aged_65_older</th><th>aged_70_older</th><th>gdp_per_capita</th><th>extreme_poverty</th><th>cardiovasc_death_rate</th><th>diabetes_prevalence</th><th>female_smokers</th><th>male_smokers</th><th>handwashing_facilities</th><th>hospital_beds_per_thousand</th><th>life_expectancy</th><th>human_development_index</th><th>population</th><th>excess_mortality_cumulative_absolute</th><th>excess_mortality_cumulative</th><th>excess_mortality</th><th>excess_mortality_cumulative_per_million</th></tr><tr><td>str</td><td>str</td><td>str</td><td>str</td><td>str</td><td>str</td><td>str</td><td>str</td><td>str</td><td>str</td><td>str</td><td>str</td><td>str</td><td>str</td><td>str</td><td>str</td><td>str</td><td>str</td><td>str</td><td>str</td><td>str</td><td>str</td><td>str</td><td>str</td><td>str</td><td>str</td><td>str</td><td>str</td><td>str</td><td>str</td><td>str</td><td>str</td><td>str</td><td>str</td><td>str</td><td>str</td><td>str</td><td>str</td><td>str</td><td>str</td><td>str</td><td>str</td><td>str</td><td>str</td><td>str</td><td>str</td><td>str</td><td>str</td><td>str</td><td>str</td><td>str</td><td>str</td><td>str</td><td>str</td><td>str</td><td>str</td><td>str</td><td>str</td><td>str</td><td>str</td><td>str</td><td>str</td><td>str</td><td>str</td><td>str</td><td>str</td><td>str</td></tr></thead><tbody><tr><td>&quot;AFG&quot;</td><td>&quot;Asia&quot;</td><td>&quot;Afghanistan&quot;</td><td>&quot;01-05-20&quot;</td><td>null</td><td>&quot;0.0&quot;</td><td>null</td><td>null</td><td>&quot;0.0&quot;</td><td>null</td><td>null</td><td>&quot;0.0&quot;</td><td>null</td><td>null</td><td>&quot;0.0&quot;</td><td>null</td><td>null</td><td>null</td><td>null</td><td>null</td><td>null</td><td>null</td><td>null</td><td>null</td><td>null</td><td>null</td><td>null</td><td>null</td><td>null</td><td>null</td><td>null</td><td>null</td><td>null</td><td>null</td><td>null</td><td>null</td><td>null</td><td>null</td><td>null</td><td>null</td><td>null</td><td>null</td><td>null</td><td>null</td><td>null</td><td>null</td><td>null</td><td>&quot;0.0&quot;</td><td>&quot;54.422&quot;</td><td>&quot;18-Jun&quot;</td><td>&quot;2.581&quot;</td><td>&quot;1.337&quot;</td><td>&quot;1803.987&quot;</td><td>null</td><td>&quot;597.029&quot;</td><td>&quot;Sep-59&quot;</td><td>null</td><td>null</td><td>&quot;37.746&quot;</td><td>&quot;0.5&quot;</td><td>&quot;64.83&quot;</td><td>&quot;0.511&quot;</td><td>&quot;41128772.0&quot;</td><td>null</td><td>null</td><td>null</td><td>null</td></tr><tr><td>&quot;AFG&quot;</td><td>&quot;Asia&quot;</td><td>&quot;Afghanistan&quot;</td><td>&quot;01-12-20&quot;</td><td>null</td><td>&quot;0.0&quot;</td><td>null</td><td>null</td><td>&quot;0.0&quot;</td><td>null</td><td>null</td><td>&quot;0.0&quot;</td><td>null</td><td>null</td><td>&quot;0.0&quot;</td><td>null</td><td>null</td><td>null</td><td>null</td><td>null</td><td>null</td><td>null</td><td>null</td><td>null</td><td>null</td><td>null</td><td>null</td><td>null</td><td>null</td><td>null</td><td>null</td><td>null</td><td>null</td><td>null</td><td>null</td><td>null</td><td>null</td><td>null</td><td>null</td><td>null</td><td>null</td><td>null</td><td>null</td><td>null</td><td>null</td><td>null</td><td>null</td><td>&quot;0.0&quot;</td><td>&quot;54.422&quot;</td><td>&quot;18-Jun&quot;</td><td>&quot;2.581&quot;</td><td>&quot;1.337&quot;</td><td>&quot;1803.987&quot;</td><td>null</td><td>&quot;597.029&quot;</td><td>&quot;Sep-59&quot;</td><td>null</td><td>null</td><td>&quot;37.746&quot;</td><td>&quot;0.5&quot;</td><td>&quot;64.83&quot;</td><td>&quot;0.511&quot;</td><td>&quot;41128772.0&quot;</td><td>null</td><td>null</td><td>null</td><td>null</td></tr><tr><td>&quot;AFG&quot;</td><td>&quot;Asia&quot;</td><td>&quot;Afghanistan&quot;</td><td>&quot;01-19-20&quot;</td><td>null</td><td>&quot;0.0&quot;</td><td>null</td><td>null</td><td>&quot;0.0&quot;</td><td>null</td><td>null</td><td>&quot;0.0&quot;</td><td>null</td><td>null</td><td>&quot;0.0&quot;</td><td>null</td><td>null</td><td>null</td><td>null</td><td>null</td><td>null</td><td>null</td><td>null</td><td>null</td><td>null</td><td>null</td><td>null</td><td>null</td><td>null</td><td>null</td><td>null</td><td>null</td><td>null</td><td>null</td><td>null</td><td>null</td><td>null</td><td>null</td><td>null</td><td>null</td><td>null</td><td>null</td><td>null</td><td>null</td><td>null</td><td>null</td><td>null</td><td>&quot;0.0&quot;</td><td>&quot;54.422&quot;</td><td>&quot;18-Jun&quot;</td><td>&quot;2.581&quot;</td><td>&quot;1.337&quot;</td><td>&quot;1803.987&quot;</td><td>null</td><td>&quot;597.029&quot;</td><td>&quot;Sep-59&quot;</td><td>null</td><td>null</td><td>&quot;37.746&quot;</td><td>&quot;0.5&quot;</td><td>&quot;64.83&quot;</td><td>&quot;0.511&quot;</td><td>&quot;41128772.0&quot;</td><td>null</td><td>null</td><td>null</td><td>null</td></tr><tr><td>&quot;AFG&quot;</td><td>&quot;Asia&quot;</td><td>&quot;Afghanistan&quot;</td><td>&quot;01-26-20&quot;</td><td>null</td><td>&quot;0.0&quot;</td><td>null</td><td>null</td><td>&quot;0.0&quot;</td><td>null</td><td>null</td><td>&quot;0.0&quot;</td><td>null</td><td>null</td><td>&quot;0.0&quot;</td><td>null</td><td>null</td><td>null</td><td>null</td><td>null</td><td>null</td><td>null</td><td>null</td><td>null</td><td>null</td><td>null</td><td>null</td><td>null</td><td>null</td><td>null</td><td>null</td><td>null</td><td>null</td><td>null</td><td>null</td><td>null</td><td>null</td><td>null</td><td>null</td><td>null</td><td>null</td><td>null</td><td>null</td><td>null</td><td>null</td><td>null</td><td>null</td><td>&quot;0.0&quot;</td><td>&quot;54.422&quot;</td><td>&quot;18-Jun&quot;</td><td>&quot;2.581&quot;</td><td>&quot;1.337&quot;</td><td>&quot;1803.987&quot;</td><td>null</td><td>&quot;597.029&quot;</td><td>&quot;Sep-59&quot;</td><td>null</td><td>null</td><td>&quot;37.746&quot;</td><td>&quot;0.5&quot;</td><td>&quot;64.83&quot;</td><td>&quot;0.511&quot;</td><td>&quot;41128772.0&quot;</td><td>null</td><td>null</td><td>null</td><td>null</td></tr><tr><td>&quot;AFG&quot;</td><td>&quot;Asia&quot;</td><td>&quot;Afghanistan&quot;</td><td>&quot;02-02-20&quot;</td><td>null</td><td>&quot;0.0&quot;</td><td>null</td><td>null</td><td>&quot;0.0&quot;</td><td>null</td><td>null</td><td>&quot;0.0&quot;</td><td>null</td><td>null</td><td>&quot;0.0&quot;</td><td>null</td><td>null</td><td>null</td><td>null</td><td>null</td><td>null</td><td>null</td><td>null</td><td>null</td><td>null</td><td>null</td><td>null</td><td>null</td><td>null</td><td>null</td><td>null</td><td>null</td><td>null</td><td>null</td><td>null</td><td>null</td><td>null</td><td>null</td><td>null</td><td>null</td><td>null</td><td>null</td><td>null</td><td>null</td><td>null</td><td>null</td><td>null</td><td>&quot;0.0&quot;</td><td>&quot;54.422&quot;</td><td>&quot;18-Jun&quot;</td><td>&quot;2.581&quot;</td><td>&quot;1.337&quot;</td><td>&quot;1803.987&quot;</td><td>null</td><td>&quot;597.029&quot;</td><td>&quot;Sep-59&quot;</td><td>null</td><td>null</td><td>&quot;37.746&quot;</td><td>&quot;0.5&quot;</td><td>&quot;64.83&quot;</td><td>&quot;0.511&quot;</td><td>&quot;41128772.0&quot;</td><td>null</td><td>null</td><td>null</td><td>null</td></tr></tbody></table></div>"
      ],
      "text/plain": [
       "shape: (5, 67)\n",
       "┌──────────┬───────────┬────────────┬──────────┬───┬───────────┬───────────┬───────────┬───────────┐\n",
       "│ iso_code ┆ continent ┆ location   ┆ date     ┆ … ┆ excess_mo ┆ excess_mo ┆ excess_mo ┆ excess_mo │\n",
       "│ ---      ┆ ---       ┆ ---        ┆ ---      ┆   ┆ rtality_c ┆ rtality_c ┆ rtality   ┆ rtality_c │\n",
       "│ str      ┆ str       ┆ str        ┆ str      ┆   ┆ umulative ┆ umulative ┆ ---       ┆ umulative │\n",
       "│          ┆           ┆            ┆          ┆   ┆ _abso…    ┆ ---       ┆ str       ┆ _per_…    │\n",
       "│          ┆           ┆            ┆          ┆   ┆ ---       ┆ str       ┆           ┆ ---       │\n",
       "│          ┆           ┆            ┆          ┆   ┆ str       ┆           ┆           ┆ str       │\n",
       "╞══════════╪═══════════╪════════════╪══════════╪═══╪═══════════╪═══════════╪═══════════╪═══════════╡\n",
       "│ AFG      ┆ Asia      ┆ Afghanista ┆ 01-05-20 ┆ … ┆ null      ┆ null      ┆ null      ┆ null      │\n",
       "│          ┆           ┆ n          ┆          ┆   ┆           ┆           ┆           ┆           │\n",
       "│ AFG      ┆ Asia      ┆ Afghanista ┆ 01-12-20 ┆ … ┆ null      ┆ null      ┆ null      ┆ null      │\n",
       "│          ┆           ┆ n          ┆          ┆   ┆           ┆           ┆           ┆           │\n",
       "│ AFG      ┆ Asia      ┆ Afghanista ┆ 01-19-20 ┆ … ┆ null      ┆ null      ┆ null      ┆ null      │\n",
       "│          ┆           ┆ n          ┆          ┆   ┆           ┆           ┆           ┆           │\n",
       "│ AFG      ┆ Asia      ┆ Afghanista ┆ 01-26-20 ┆ … ┆ null      ┆ null      ┆ null      ┆ null      │\n",
       "│          ┆           ┆ n          ┆          ┆   ┆           ┆           ┆           ┆           │\n",
       "│ AFG      ┆ Asia      ┆ Afghanista ┆ 02-02-20 ┆ … ┆ null      ┆ null      ┆ null      ┆ null      │\n",
       "│          ┆           ┆ n          ┆          ┆   ┆           ┆           ┆           ┆           │\n",
       "└──────────┴───────────┴────────────┴──────────┴───┴───────────┴───────────┴───────────┴───────────┘"
      ]
     },
     "execution_count": 10,
     "metadata": {},
     "output_type": "execute_result"
    }
   ],
   "source": [
    "%%time\n",
    "scan_xlsx2csv().head()"
   ]
  },
  {
   "cell_type": "code",
   "execution_count": 10,
   "metadata": {
    "notebookRunGroups": {
     "groupValue": "2"
    }
   },
   "outputs": [
    {
     "name": "stdout",
     "output_type": "stream",
     "text": [
      "CPU times: total: 5min 36s\n",
      "Wall time: 6min 37s\n"
     ]
    },
    {
     "data": {
      "text/html": [
       "<div><style>\n",
       ".dataframe > thead > tr,\n",
       ".dataframe > tbody > tr {\n",
       "  text-align: right;\n",
       "  white-space: pre-wrap;\n",
       "}\n",
       "</style>\n",
       "<small>shape: (5, 67)</small><table border=\"1\" class=\"dataframe\"><thead><tr><th>iso_code</th><th>continent</th><th>location</th><th>date</th><th>total_cases</th><th>new_cases</th><th>new_cases_smoothed</th><th>total_deaths</th><th>new_deaths</th><th>new_deaths_smoothed</th><th>total_cases_per_million</th><th>new_cases_per_million</th><th>new_cases_smoothed_per_million</th><th>total_deaths_per_million</th><th>new_deaths_per_million</th><th>new_deaths_smoothed_per_million</th><th>reproduction_rate</th><th>icu_patients</th><th>icu_patients_per_million</th><th>hosp_patients</th><th>hosp_patients_per_million</th><th>weekly_icu_admissions</th><th>weekly_icu_admissions_per_million</th><th>weekly_hosp_admissions</th><th>weekly_hosp_admissions_per_million</th><th>total_tests</th><th>new_tests</th><th>total_tests_per_thousand</th><th>new_tests_per_thousand</th><th>new_tests_smoothed</th><th>new_tests_smoothed_per_thousand</th><th>positive_rate</th><th>tests_per_case</th><th>tests_units</th><th>total_vaccinations</th><th>people_vaccinated</th><th>people_fully_vaccinated</th><th>total_boosters</th><th>new_vaccinations</th><th>new_vaccinations_smoothed</th><th>total_vaccinations_per_hundred</th><th>people_vaccinated_per_hundred</th><th>people_fully_vaccinated_per_hundred</th><th>total_boosters_per_hundred</th><th>new_vaccinations_smoothed_per_million</th><th>new_people_vaccinated_smoothed</th><th>new_people_vaccinated_smoothed_per_hundred</th><th>stringency_index</th><th>population_density</th><th>median_age</th><th>aged_65_older</th><th>aged_70_older</th><th>gdp_per_capita</th><th>extreme_poverty</th><th>cardiovasc_death_rate</th><th>diabetes_prevalence</th><th>female_smokers</th><th>male_smokers</th><th>handwashing_facilities</th><th>hospital_beds_per_thousand</th><th>life_expectancy</th><th>human_development_index</th><th>population</th><th>excess_mortality_cumulative_absolute</th><th>excess_mortality_cumulative</th><th>excess_mortality</th><th>excess_mortality_cumulative_per_million</th></tr><tr><td>str</td><td>str</td><td>str</td><td>datetime[μs]</td><td>str</td><td>str</td><td>str</td><td>str</td><td>str</td><td>str</td><td>str</td><td>str</td><td>str</td><td>str</td><td>str</td><td>str</td><td>datetime[μs]</td><td>str</td><td>str</td><td>str</td><td>str</td><td>str</td><td>str</td><td>str</td><td>str</td><td>str</td><td>str</td><td>str</td><td>str</td><td>str</td><td>str</td><td>str</td><td>datetime[μs]</td><td>str</td><td>str</td><td>str</td><td>str</td><td>str</td><td>str</td><td>str</td><td>str</td><td>str</td><td>str</td><td>str</td><td>str</td><td>str</td><td>str</td><td>str</td><td>str</td><td>datetime[μs]</td><td>str</td><td>str</td><td>str</td><td>datetime[μs]</td><td>str</td><td>datetime[μs]</td><td>datetime[μs]</td><td>str</td><td>str</td><td>str</td><td>str</td><td>str</td><td>str</td><td>str</td><td>str</td><td>datetime[μs]</td><td>str</td></tr></thead><tbody><tr><td>&quot;AFG&quot;</td><td>&quot;Asia&quot;</td><td>&quot;Afghanistan&quot;</td><td>2020-01-05 00:00:00</td><td>null</td><td>&quot;0.0&quot;</td><td>null</td><td>null</td><td>&quot;0.0&quot;</td><td>null</td><td>null</td><td>&quot;0.0&quot;</td><td>null</td><td>null</td><td>&quot;0.0&quot;</td><td>null</td><td>null</td><td>null</td><td>null</td><td>null</td><td>null</td><td>null</td><td>null</td><td>null</td><td>null</td><td>null</td><td>null</td><td>null</td><td>null</td><td>null</td><td>null</td><td>null</td><td>null</td><td>null</td><td>null</td><td>null</td><td>null</td><td>null</td><td>null</td><td>null</td><td>null</td><td>null</td><td>null</td><td>null</td><td>null</td><td>null</td><td>null</td><td>&quot;0.0&quot;</td><td>&quot;54.422&quot;</td><td>2024-06-18 00:00:00</td><td>&quot;2.581&quot;</td><td>&quot;1.337&quot;</td><td>&quot;1803.987&quot;</td><td>null</td><td>&quot;597.029&quot;</td><td>1959-09-01 00:00:00</td><td>null</td><td>null</td><td>&quot;37.746&quot;</td><td>&quot;0.5&quot;</td><td>&quot;64.83&quot;</td><td>&quot;0.511&quot;</td><td>&quot;41128772.0&quot;</td><td>null</td><td>null</td><td>null</td><td>null</td></tr><tr><td>&quot;AFG&quot;</td><td>&quot;Asia&quot;</td><td>&quot;Afghanistan&quot;</td><td>2020-01-12 00:00:00</td><td>null</td><td>&quot;0.0&quot;</td><td>null</td><td>null</td><td>&quot;0.0&quot;</td><td>null</td><td>null</td><td>&quot;0.0&quot;</td><td>null</td><td>null</td><td>&quot;0.0&quot;</td><td>null</td><td>null</td><td>null</td><td>null</td><td>null</td><td>null</td><td>null</td><td>null</td><td>null</td><td>null</td><td>null</td><td>null</td><td>null</td><td>null</td><td>null</td><td>null</td><td>null</td><td>null</td><td>null</td><td>null</td><td>null</td><td>null</td><td>null</td><td>null</td><td>null</td><td>null</td><td>null</td><td>null</td><td>null</td><td>null</td><td>null</td><td>null</td><td>&quot;0.0&quot;</td><td>&quot;54.422&quot;</td><td>2024-06-18 00:00:00</td><td>&quot;2.581&quot;</td><td>&quot;1.337&quot;</td><td>&quot;1803.987&quot;</td><td>null</td><td>&quot;597.029&quot;</td><td>1959-09-01 00:00:00</td><td>null</td><td>null</td><td>&quot;37.746&quot;</td><td>&quot;0.5&quot;</td><td>&quot;64.83&quot;</td><td>&quot;0.511&quot;</td><td>&quot;41128772.0&quot;</td><td>null</td><td>null</td><td>null</td><td>null</td></tr><tr><td>&quot;AFG&quot;</td><td>&quot;Asia&quot;</td><td>&quot;Afghanistan&quot;</td><td>2020-01-19 00:00:00</td><td>null</td><td>&quot;0.0&quot;</td><td>null</td><td>null</td><td>&quot;0.0&quot;</td><td>null</td><td>null</td><td>&quot;0.0&quot;</td><td>null</td><td>null</td><td>&quot;0.0&quot;</td><td>null</td><td>null</td><td>null</td><td>null</td><td>null</td><td>null</td><td>null</td><td>null</td><td>null</td><td>null</td><td>null</td><td>null</td><td>null</td><td>null</td><td>null</td><td>null</td><td>null</td><td>null</td><td>null</td><td>null</td><td>null</td><td>null</td><td>null</td><td>null</td><td>null</td><td>null</td><td>null</td><td>null</td><td>null</td><td>null</td><td>null</td><td>null</td><td>&quot;0.0&quot;</td><td>&quot;54.422&quot;</td><td>2024-06-18 00:00:00</td><td>&quot;2.581&quot;</td><td>&quot;1.337&quot;</td><td>&quot;1803.987&quot;</td><td>null</td><td>&quot;597.029&quot;</td><td>1959-09-01 00:00:00</td><td>null</td><td>null</td><td>&quot;37.746&quot;</td><td>&quot;0.5&quot;</td><td>&quot;64.83&quot;</td><td>&quot;0.511&quot;</td><td>&quot;41128772.0&quot;</td><td>null</td><td>null</td><td>null</td><td>null</td></tr><tr><td>&quot;AFG&quot;</td><td>&quot;Asia&quot;</td><td>&quot;Afghanistan&quot;</td><td>2020-01-26 00:00:00</td><td>null</td><td>&quot;0.0&quot;</td><td>null</td><td>null</td><td>&quot;0.0&quot;</td><td>null</td><td>null</td><td>&quot;0.0&quot;</td><td>null</td><td>null</td><td>&quot;0.0&quot;</td><td>null</td><td>null</td><td>null</td><td>null</td><td>null</td><td>null</td><td>null</td><td>null</td><td>null</td><td>null</td><td>null</td><td>null</td><td>null</td><td>null</td><td>null</td><td>null</td><td>null</td><td>null</td><td>null</td><td>null</td><td>null</td><td>null</td><td>null</td><td>null</td><td>null</td><td>null</td><td>null</td><td>null</td><td>null</td><td>null</td><td>null</td><td>null</td><td>&quot;0.0&quot;</td><td>&quot;54.422&quot;</td><td>2024-06-18 00:00:00</td><td>&quot;2.581&quot;</td><td>&quot;1.337&quot;</td><td>&quot;1803.987&quot;</td><td>null</td><td>&quot;597.029&quot;</td><td>1959-09-01 00:00:00</td><td>null</td><td>null</td><td>&quot;37.746&quot;</td><td>&quot;0.5&quot;</td><td>&quot;64.83&quot;</td><td>&quot;0.511&quot;</td><td>&quot;41128772.0&quot;</td><td>null</td><td>null</td><td>null</td><td>null</td></tr><tr><td>&quot;AFG&quot;</td><td>&quot;Asia&quot;</td><td>&quot;Afghanistan&quot;</td><td>2020-02-02 00:00:00</td><td>null</td><td>&quot;0.0&quot;</td><td>null</td><td>null</td><td>&quot;0.0&quot;</td><td>null</td><td>null</td><td>&quot;0.0&quot;</td><td>null</td><td>null</td><td>&quot;0.0&quot;</td><td>null</td><td>null</td><td>null</td><td>null</td><td>null</td><td>null</td><td>null</td><td>null</td><td>null</td><td>null</td><td>null</td><td>null</td><td>null</td><td>null</td><td>null</td><td>null</td><td>null</td><td>null</td><td>null</td><td>null</td><td>null</td><td>null</td><td>null</td><td>null</td><td>null</td><td>null</td><td>null</td><td>null</td><td>null</td><td>null</td><td>null</td><td>null</td><td>&quot;0.0&quot;</td><td>&quot;54.422&quot;</td><td>2024-06-18 00:00:00</td><td>&quot;2.581&quot;</td><td>&quot;1.337&quot;</td><td>&quot;1803.987&quot;</td><td>null</td><td>&quot;597.029&quot;</td><td>1959-09-01 00:00:00</td><td>null</td><td>null</td><td>&quot;37.746&quot;</td><td>&quot;0.5&quot;</td><td>&quot;64.83&quot;</td><td>&quot;0.511&quot;</td><td>&quot;41128772.0&quot;</td><td>null</td><td>null</td><td>null</td><td>null</td></tr></tbody></table></div>"
      ],
      "text/plain": [
       "shape: (5, 67)\n",
       "┌──────────┬───────────┬───────────┬───────────┬───┬───────────┬───────────┬───────────┬───────────┐\n",
       "│ iso_code ┆ continent ┆ location  ┆ date      ┆ … ┆ excess_mo ┆ excess_mo ┆ excess_mo ┆ excess_mo │\n",
       "│ ---      ┆ ---       ┆ ---       ┆ ---       ┆   ┆ rtality_c ┆ rtality_c ┆ rtality   ┆ rtality_c │\n",
       "│ str      ┆ str       ┆ str       ┆ datetime[ ┆   ┆ umulative ┆ umulative ┆ ---       ┆ umulative │\n",
       "│          ┆           ┆           ┆ μs]       ┆   ┆ _abso…    ┆ ---       ┆ datetime[ ┆ _per_…    │\n",
       "│          ┆           ┆           ┆           ┆   ┆ ---       ┆ str       ┆ μs]       ┆ ---       │\n",
       "│          ┆           ┆           ┆           ┆   ┆ str       ┆           ┆           ┆ str       │\n",
       "╞══════════╪═══════════╪═══════════╪═══════════╪═══╪═══════════╪═══════════╪═══════════╪═══════════╡\n",
       "│ AFG      ┆ Asia      ┆ Afghanist ┆ 2020-01-0 ┆ … ┆ null      ┆ null      ┆ null      ┆ null      │\n",
       "│          ┆           ┆ an        ┆ 5         ┆   ┆           ┆           ┆           ┆           │\n",
       "│          ┆           ┆           ┆ 00:00:00  ┆   ┆           ┆           ┆           ┆           │\n",
       "│ AFG      ┆ Asia      ┆ Afghanist ┆ 2020-01-1 ┆ … ┆ null      ┆ null      ┆ null      ┆ null      │\n",
       "│          ┆           ┆ an        ┆ 2         ┆   ┆           ┆           ┆           ┆           │\n",
       "│          ┆           ┆           ┆ 00:00:00  ┆   ┆           ┆           ┆           ┆           │\n",
       "│ AFG      ┆ Asia      ┆ Afghanist ┆ 2020-01-1 ┆ … ┆ null      ┆ null      ┆ null      ┆ null      │\n",
       "│          ┆           ┆ an        ┆ 9         ┆   ┆           ┆           ┆           ┆           │\n",
       "│          ┆           ┆           ┆ 00:00:00  ┆   ┆           ┆           ┆           ┆           │\n",
       "│ AFG      ┆ Asia      ┆ Afghanist ┆ 2020-01-2 ┆ … ┆ null      ┆ null      ┆ null      ┆ null      │\n",
       "│          ┆           ┆ an        ┆ 6         ┆   ┆           ┆           ┆           ┆           │\n",
       "│          ┆           ┆           ┆ 00:00:00  ┆   ┆           ┆           ┆           ┆           │\n",
       "│ AFG      ┆ Asia      ┆ Afghanist ┆ 2020-02-0 ┆ … ┆ null      ┆ null      ┆ null      ┆ null      │\n",
       "│          ┆           ┆ an        ┆ 2         ┆   ┆           ┆           ┆           ┆           │\n",
       "│          ┆           ┆           ┆ 00:00:00  ┆   ┆           ┆           ┆           ┆           │\n",
       "└──────────┴───────────┴───────────┴───────────┴───┴───────────┴───────────┴───────────┴───────────┘"
      ]
     },
     "execution_count": 10,
     "metadata": {},
     "output_type": "execute_result"
    }
   ],
   "source": [
    "%%time\n",
    "scan_openpyxl().head()"
   ]
  },
  {
   "cell_type": "code",
   "execution_count": 10,
   "metadata": {
    "notebookRunGroups": {
     "groupValue": "2"
    }
   },
   "outputs": [
    {
     "name": "stdout",
     "output_type": "stream",
     "text": [
      "CPU times: total: 2min 33s\n",
      "Wall time: 2min 43s\n"
     ]
    },
    {
     "data": {
      "text/html": [
       "<div><style>\n",
       ".dataframe > thead > tr,\n",
       ".dataframe > tbody > tr {\n",
       "  text-align: right;\n",
       "  white-space: pre-wrap;\n",
       "}\n",
       "</style>\n",
       "<small>shape: (5, 67)</small><table border=\"1\" class=\"dataframe\"><thead><tr><th>iso_code</th><th>continent</th><th>location</th><th>date</th><th>total_cases</th><th>new_cases</th><th>new_cases_smoothed</th><th>total_deaths</th><th>new_deaths</th><th>new_deaths_smoothed</th><th>total_cases_per_million</th><th>new_cases_per_million</th><th>new_cases_smoothed_per_million</th><th>total_deaths_per_million</th><th>new_deaths_per_million</th><th>new_deaths_smoothed_per_million</th><th>reproduction_rate</th><th>icu_patients</th><th>icu_patients_per_million</th><th>hosp_patients</th><th>hosp_patients_per_million</th><th>weekly_icu_admissions</th><th>weekly_icu_admissions_per_million</th><th>weekly_hosp_admissions</th><th>weekly_hosp_admissions_per_million</th><th>total_tests</th><th>new_tests</th><th>total_tests_per_thousand</th><th>new_tests_per_thousand</th><th>new_tests_smoothed</th><th>new_tests_smoothed_per_thousand</th><th>positive_rate</th><th>tests_per_case</th><th>tests_units</th><th>total_vaccinations</th><th>people_vaccinated</th><th>people_fully_vaccinated</th><th>total_boosters</th><th>new_vaccinations</th><th>new_vaccinations_smoothed</th><th>total_vaccinations_per_hundred</th><th>people_vaccinated_per_hundred</th><th>people_fully_vaccinated_per_hundred</th><th>total_boosters_per_hundred</th><th>new_vaccinations_smoothed_per_million</th><th>new_people_vaccinated_smoothed</th><th>new_people_vaccinated_smoothed_per_hundred</th><th>stringency_index</th><th>population_density</th><th>median_age</th><th>aged_65_older</th><th>aged_70_older</th><th>gdp_per_capita</th><th>extreme_poverty</th><th>cardiovasc_death_rate</th><th>diabetes_prevalence</th><th>female_smokers</th><th>male_smokers</th><th>handwashing_facilities</th><th>hospital_beds_per_thousand</th><th>life_expectancy</th><th>human_development_index</th><th>population</th><th>excess_mortality_cumulative_absolute</th><th>excess_mortality_cumulative</th><th>excess_mortality</th><th>excess_mortality_cumulative_per_million</th></tr><tr><td>str</td><td>str</td><td>str</td><td>f64</td><td>str</td><td>str</td><td>str</td><td>str</td><td>str</td><td>str</td><td>str</td><td>str</td><td>str</td><td>str</td><td>str</td><td>str</td><td>str</td><td>str</td><td>str</td><td>str</td><td>str</td><td>str</td><td>str</td><td>str</td><td>str</td><td>str</td><td>str</td><td>str</td><td>str</td><td>str</td><td>str</td><td>str</td><td>str</td><td>str</td><td>str</td><td>str</td><td>str</td><td>str</td><td>str</td><td>str</td><td>str</td><td>str</td><td>str</td><td>str</td><td>str</td><td>str</td><td>str</td><td>str</td><td>str</td><td>str</td><td>str</td><td>str</td><td>str</td><td>str</td><td>str</td><td>str</td><td>str</td><td>str</td><td>str</td><td>str</td><td>str</td><td>str</td><td>str</td><td>str</td><td>str</td><td>str</td><td>str</td></tr></thead><tbody><tr><td>&quot;AFG&quot;</td><td>&quot;Asia&quot;</td><td>&quot;Afghanistan&quot;</td><td>43835.0</td><td>null</td><td>&quot;0.0&quot;</td><td>null</td><td>null</td><td>&quot;0.0&quot;</td><td>null</td><td>null</td><td>&quot;0.0&quot;</td><td>null</td><td>null</td><td>&quot;0.0&quot;</td><td>null</td><td>null</td><td>null</td><td>null</td><td>null</td><td>null</td><td>null</td><td>null</td><td>null</td><td>null</td><td>null</td><td>null</td><td>null</td><td>null</td><td>null</td><td>null</td><td>null</td><td>null</td><td>null</td><td>null</td><td>null</td><td>null</td><td>null</td><td>null</td><td>null</td><td>null</td><td>null</td><td>null</td><td>null</td><td>null</td><td>null</td><td>null</td><td>&quot;0.0&quot;</td><td>&quot;54.422&quot;</td><td>null</td><td>&quot;2.581&quot;</td><td>&quot;1.337&quot;</td><td>&quot;1803.987&quot;</td><td>null</td><td>&quot;597.029&quot;</td><td>null</td><td>null</td><td>null</td><td>&quot;37.746&quot;</td><td>&quot;0.5&quot;</td><td>&quot;64.83&quot;</td><td>&quot;0.511&quot;</td><td>&quot;41128772.0&quot;</td><td>null</td><td>null</td><td>null</td><td>null</td></tr><tr><td>&quot;AFG&quot;</td><td>&quot;Asia&quot;</td><td>&quot;Afghanistan&quot;</td><td>43842.0</td><td>null</td><td>&quot;0.0&quot;</td><td>null</td><td>null</td><td>&quot;0.0&quot;</td><td>null</td><td>null</td><td>&quot;0.0&quot;</td><td>null</td><td>null</td><td>&quot;0.0&quot;</td><td>null</td><td>null</td><td>null</td><td>null</td><td>null</td><td>null</td><td>null</td><td>null</td><td>null</td><td>null</td><td>null</td><td>null</td><td>null</td><td>null</td><td>null</td><td>null</td><td>null</td><td>null</td><td>null</td><td>null</td><td>null</td><td>null</td><td>null</td><td>null</td><td>null</td><td>null</td><td>null</td><td>null</td><td>null</td><td>null</td><td>null</td><td>null</td><td>&quot;0.0&quot;</td><td>&quot;54.422&quot;</td><td>null</td><td>&quot;2.581&quot;</td><td>&quot;1.337&quot;</td><td>&quot;1803.987&quot;</td><td>null</td><td>&quot;597.029&quot;</td><td>null</td><td>null</td><td>null</td><td>&quot;37.746&quot;</td><td>&quot;0.5&quot;</td><td>&quot;64.83&quot;</td><td>&quot;0.511&quot;</td><td>&quot;41128772.0&quot;</td><td>null</td><td>null</td><td>null</td><td>null</td></tr><tr><td>&quot;AFG&quot;</td><td>&quot;Asia&quot;</td><td>&quot;Afghanistan&quot;</td><td>43849.0</td><td>null</td><td>&quot;0.0&quot;</td><td>null</td><td>null</td><td>&quot;0.0&quot;</td><td>null</td><td>null</td><td>&quot;0.0&quot;</td><td>null</td><td>null</td><td>&quot;0.0&quot;</td><td>null</td><td>null</td><td>null</td><td>null</td><td>null</td><td>null</td><td>null</td><td>null</td><td>null</td><td>null</td><td>null</td><td>null</td><td>null</td><td>null</td><td>null</td><td>null</td><td>null</td><td>null</td><td>null</td><td>null</td><td>null</td><td>null</td><td>null</td><td>null</td><td>null</td><td>null</td><td>null</td><td>null</td><td>null</td><td>null</td><td>null</td><td>null</td><td>&quot;0.0&quot;</td><td>&quot;54.422&quot;</td><td>null</td><td>&quot;2.581&quot;</td><td>&quot;1.337&quot;</td><td>&quot;1803.987&quot;</td><td>null</td><td>&quot;597.029&quot;</td><td>null</td><td>null</td><td>null</td><td>&quot;37.746&quot;</td><td>&quot;0.5&quot;</td><td>&quot;64.83&quot;</td><td>&quot;0.511&quot;</td><td>&quot;41128772.0&quot;</td><td>null</td><td>null</td><td>null</td><td>null</td></tr><tr><td>&quot;AFG&quot;</td><td>&quot;Asia&quot;</td><td>&quot;Afghanistan&quot;</td><td>43856.0</td><td>null</td><td>&quot;0.0&quot;</td><td>null</td><td>null</td><td>&quot;0.0&quot;</td><td>null</td><td>null</td><td>&quot;0.0&quot;</td><td>null</td><td>null</td><td>&quot;0.0&quot;</td><td>null</td><td>null</td><td>null</td><td>null</td><td>null</td><td>null</td><td>null</td><td>null</td><td>null</td><td>null</td><td>null</td><td>null</td><td>null</td><td>null</td><td>null</td><td>null</td><td>null</td><td>null</td><td>null</td><td>null</td><td>null</td><td>null</td><td>null</td><td>null</td><td>null</td><td>null</td><td>null</td><td>null</td><td>null</td><td>null</td><td>null</td><td>null</td><td>&quot;0.0&quot;</td><td>&quot;54.422&quot;</td><td>null</td><td>&quot;2.581&quot;</td><td>&quot;1.337&quot;</td><td>&quot;1803.987&quot;</td><td>null</td><td>&quot;597.029&quot;</td><td>null</td><td>null</td><td>null</td><td>&quot;37.746&quot;</td><td>&quot;0.5&quot;</td><td>&quot;64.83&quot;</td><td>&quot;0.511&quot;</td><td>&quot;41128772.0&quot;</td><td>null</td><td>null</td><td>null</td><td>null</td></tr><tr><td>&quot;AFG&quot;</td><td>&quot;Asia&quot;</td><td>&quot;Afghanistan&quot;</td><td>43863.0</td><td>null</td><td>&quot;0.0&quot;</td><td>null</td><td>null</td><td>&quot;0.0&quot;</td><td>null</td><td>null</td><td>&quot;0.0&quot;</td><td>null</td><td>null</td><td>&quot;0.0&quot;</td><td>null</td><td>null</td><td>null</td><td>null</td><td>null</td><td>null</td><td>null</td><td>null</td><td>null</td><td>null</td><td>null</td><td>null</td><td>null</td><td>null</td><td>null</td><td>null</td><td>null</td><td>null</td><td>null</td><td>null</td><td>null</td><td>null</td><td>null</td><td>null</td><td>null</td><td>null</td><td>null</td><td>null</td><td>null</td><td>null</td><td>null</td><td>null</td><td>&quot;0.0&quot;</td><td>&quot;54.422&quot;</td><td>null</td><td>&quot;2.581&quot;</td><td>&quot;1.337&quot;</td><td>&quot;1803.987&quot;</td><td>null</td><td>&quot;597.029&quot;</td><td>null</td><td>null</td><td>null</td><td>&quot;37.746&quot;</td><td>&quot;0.5&quot;</td><td>&quot;64.83&quot;</td><td>&quot;0.511&quot;</td><td>&quot;41128772.0&quot;</td><td>null</td><td>null</td><td>null</td><td>null</td></tr></tbody></table></div>"
      ],
      "text/plain": [
       "shape: (5, 67)\n",
       "┌──────────┬───────────┬────────────┬─────────┬───┬────────────┬───────────┬───────────┬───────────┐\n",
       "│ iso_code ┆ continent ┆ location   ┆ date    ┆ … ┆ excess_mor ┆ excess_mo ┆ excess_mo ┆ excess_mo │\n",
       "│ ---      ┆ ---       ┆ ---        ┆ ---     ┆   ┆ tality_cum ┆ rtality_c ┆ rtality   ┆ rtality_c │\n",
       "│ str      ┆ str       ┆ str        ┆ f64     ┆   ┆ ulative_ab ┆ umulative ┆ ---       ┆ umulative │\n",
       "│          ┆           ┆            ┆         ┆   ┆ so…        ┆ ---       ┆ str       ┆ _per_…    │\n",
       "│          ┆           ┆            ┆         ┆   ┆ ---        ┆ str       ┆           ┆ ---       │\n",
       "│          ┆           ┆            ┆         ┆   ┆ str        ┆           ┆           ┆ str       │\n",
       "╞══════════╪═══════════╪════════════╪═════════╪═══╪════════════╪═══════════╪═══════════╪═══════════╡\n",
       "│ AFG      ┆ Asia      ┆ Afghanista ┆ 43835.0 ┆ … ┆ null       ┆ null      ┆ null      ┆ null      │\n",
       "│          ┆           ┆ n          ┆         ┆   ┆            ┆           ┆           ┆           │\n",
       "│ AFG      ┆ Asia      ┆ Afghanista ┆ 43842.0 ┆ … ┆ null       ┆ null      ┆ null      ┆ null      │\n",
       "│          ┆           ┆ n          ┆         ┆   ┆            ┆           ┆           ┆           │\n",
       "│ AFG      ┆ Asia      ┆ Afghanista ┆ 43849.0 ┆ … ┆ null       ┆ null      ┆ null      ┆ null      │\n",
       "│          ┆           ┆ n          ┆         ┆   ┆            ┆           ┆           ┆           │\n",
       "│ AFG      ┆ Asia      ┆ Afghanista ┆ 43856.0 ┆ … ┆ null       ┆ null      ┆ null      ┆ null      │\n",
       "│          ┆           ┆ n          ┆         ┆   ┆            ┆           ┆           ┆           │\n",
       "│ AFG      ┆ Asia      ┆ Afghanista ┆ 43863.0 ┆ … ┆ null       ┆ null      ┆ null      ┆ null      │\n",
       "│          ┆           ┆ n          ┆         ┆   ┆            ┆           ┆           ┆           │\n",
       "└──────────┴───────────┴────────────┴─────────┴───┴────────────┴───────────┴───────────┴───────────┘"
      ]
     },
     "execution_count": 10,
     "metadata": {},
     "output_type": "execute_result"
    }
   ],
   "source": [
    "%%time\n",
    "scan_pyxlsb().head()"
   ]
  },
  {
   "cell_type": "code",
   "execution_count": 10,
   "metadata": {},
   "outputs": [
    {
     "name": "stdout",
     "output_type": "stream",
     "text": [
      "CPU times: total: 18.3 s\n",
      "Wall time: 21.3 s\n"
     ]
    },
    {
     "data": {
      "text/html": [
       "<div><style>\n",
       ".dataframe > thead > tr,\n",
       ".dataframe > tbody > tr {\n",
       "  text-align: right;\n",
       "  white-space: pre-wrap;\n",
       "}\n",
       "</style>\n",
       "<small>shape: (5, 67)</small><table border=\"1\" class=\"dataframe\"><thead><tr><th>iso_code</th><th>continent</th><th>location</th><th>date</th><th>total_cases</th><th>new_cases</th><th>new_cases_smoothed</th><th>total_deaths</th><th>new_deaths</th><th>new_deaths_smoothed</th><th>total_cases_per_million</th><th>new_cases_per_million</th><th>new_cases_smoothed_per_million</th><th>total_deaths_per_million</th><th>new_deaths_per_million</th><th>new_deaths_smoothed_per_million</th><th>reproduction_rate</th><th>icu_patients</th><th>icu_patients_per_million</th><th>hosp_patients</th><th>hosp_patients_per_million</th><th>weekly_icu_admissions</th><th>weekly_icu_admissions_per_million</th><th>weekly_hosp_admissions</th><th>weekly_hosp_admissions_per_million</th><th>total_tests</th><th>new_tests</th><th>total_tests_per_thousand</th><th>new_tests_per_thousand</th><th>new_tests_smoothed</th><th>new_tests_smoothed_per_thousand</th><th>positive_rate</th><th>tests_per_case</th><th>tests_units</th><th>total_vaccinations</th><th>people_vaccinated</th><th>people_fully_vaccinated</th><th>total_boosters</th><th>new_vaccinations</th><th>new_vaccinations_smoothed</th><th>total_vaccinations_per_hundred</th><th>people_vaccinated_per_hundred</th><th>people_fully_vaccinated_per_hundred</th><th>total_boosters_per_hundred</th><th>new_vaccinations_smoothed_per_million</th><th>new_people_vaccinated_smoothed</th><th>new_people_vaccinated_smoothed_per_hundred</th><th>stringency_index</th><th>population_density</th><th>median_age</th><th>aged_65_older</th><th>aged_70_older</th><th>gdp_per_capita</th><th>extreme_poverty</th><th>cardiovasc_death_rate</th><th>diabetes_prevalence</th><th>female_smokers</th><th>male_smokers</th><th>handwashing_facilities</th><th>hospital_beds_per_thousand</th><th>life_expectancy</th><th>human_development_index</th><th>population</th><th>excess_mortality_cumulative_absolute</th><th>excess_mortality_cumulative</th><th>excess_mortality</th><th>excess_mortality_cumulative_per_million</th></tr><tr><td>str</td><td>str</td><td>str</td><td>str</td><td>str</td><td>str</td><td>str</td><td>str</td><td>str</td><td>str</td><td>str</td><td>str</td><td>str</td><td>str</td><td>str</td><td>str</td><td>str</td><td>str</td><td>str</td><td>str</td><td>str</td><td>str</td><td>str</td><td>str</td><td>str</td><td>str</td><td>str</td><td>str</td><td>str</td><td>str</td><td>str</td><td>str</td><td>str</td><td>str</td><td>str</td><td>str</td><td>str</td><td>str</td><td>str</td><td>str</td><td>str</td><td>str</td><td>str</td><td>str</td><td>str</td><td>str</td><td>str</td><td>str</td><td>str</td><td>str</td><td>str</td><td>str</td><td>str</td><td>str</td><td>str</td><td>str</td><td>str</td><td>str</td><td>str</td><td>str</td><td>str</td><td>str</td><td>str</td><td>str</td><td>str</td><td>str</td><td>str</td></tr></thead><tbody><tr><td>&quot;AFG&quot;</td><td>&quot;Asia&quot;</td><td>&quot;Afghanistan&quot;</td><td>&quot;2020-01-05&quot;</td><td>null</td><td>&quot;0.0&quot;</td><td>null</td><td>null</td><td>&quot;0.0&quot;</td><td>null</td><td>null</td><td>&quot;0.0&quot;</td><td>null</td><td>null</td><td>&quot;0.0&quot;</td><td>null</td><td>null</td><td>null</td><td>null</td><td>null</td><td>null</td><td>null</td><td>null</td><td>null</td><td>null</td><td>null</td><td>null</td><td>null</td><td>null</td><td>null</td><td>null</td><td>null</td><td>null</td><td>null</td><td>null</td><td>null</td><td>null</td><td>null</td><td>null</td><td>null</td><td>null</td><td>null</td><td>null</td><td>null</td><td>null</td><td>null</td><td>null</td><td>&quot;0.0&quot;</td><td>&quot;54.422&quot;</td><td>&quot;2024-06-18&quot;</td><td>&quot;2.581&quot;</td><td>&quot;1.337&quot;</td><td>&quot;1803.987&quot;</td><td>null</td><td>&quot;597.029&quot;</td><td>&quot;1959-09-01&quot;</td><td>null</td><td>null</td><td>&quot;37.746&quot;</td><td>&quot;0.5&quot;</td><td>&quot;64.83&quot;</td><td>&quot;0.511&quot;</td><td>&quot;41128772.0&quot;</td><td>null</td><td>null</td><td>null</td><td>null</td></tr><tr><td>&quot;AFG&quot;</td><td>&quot;Asia&quot;</td><td>&quot;Afghanistan&quot;</td><td>&quot;2020-01-12&quot;</td><td>null</td><td>&quot;0.0&quot;</td><td>null</td><td>null</td><td>&quot;0.0&quot;</td><td>null</td><td>null</td><td>&quot;0.0&quot;</td><td>null</td><td>null</td><td>&quot;0.0&quot;</td><td>null</td><td>null</td><td>null</td><td>null</td><td>null</td><td>null</td><td>null</td><td>null</td><td>null</td><td>null</td><td>null</td><td>null</td><td>null</td><td>null</td><td>null</td><td>null</td><td>null</td><td>null</td><td>null</td><td>null</td><td>null</td><td>null</td><td>null</td><td>null</td><td>null</td><td>null</td><td>null</td><td>null</td><td>null</td><td>null</td><td>null</td><td>null</td><td>&quot;0.0&quot;</td><td>&quot;54.422&quot;</td><td>&quot;2024-06-18&quot;</td><td>&quot;2.581&quot;</td><td>&quot;1.337&quot;</td><td>&quot;1803.987&quot;</td><td>null</td><td>&quot;597.029&quot;</td><td>&quot;1959-09-01&quot;</td><td>null</td><td>null</td><td>&quot;37.746&quot;</td><td>&quot;0.5&quot;</td><td>&quot;64.83&quot;</td><td>&quot;0.511&quot;</td><td>&quot;41128772.0&quot;</td><td>null</td><td>null</td><td>null</td><td>null</td></tr><tr><td>&quot;AFG&quot;</td><td>&quot;Asia&quot;</td><td>&quot;Afghanistan&quot;</td><td>&quot;2020-01-19&quot;</td><td>null</td><td>&quot;0.0&quot;</td><td>null</td><td>null</td><td>&quot;0.0&quot;</td><td>null</td><td>null</td><td>&quot;0.0&quot;</td><td>null</td><td>null</td><td>&quot;0.0&quot;</td><td>null</td><td>null</td><td>null</td><td>null</td><td>null</td><td>null</td><td>null</td><td>null</td><td>null</td><td>null</td><td>null</td><td>null</td><td>null</td><td>null</td><td>null</td><td>null</td><td>null</td><td>null</td><td>null</td><td>null</td><td>null</td><td>null</td><td>null</td><td>null</td><td>null</td><td>null</td><td>null</td><td>null</td><td>null</td><td>null</td><td>null</td><td>null</td><td>&quot;0.0&quot;</td><td>&quot;54.422&quot;</td><td>&quot;2024-06-18&quot;</td><td>&quot;2.581&quot;</td><td>&quot;1.337&quot;</td><td>&quot;1803.987&quot;</td><td>null</td><td>&quot;597.029&quot;</td><td>&quot;1959-09-01&quot;</td><td>null</td><td>null</td><td>&quot;37.746&quot;</td><td>&quot;0.5&quot;</td><td>&quot;64.83&quot;</td><td>&quot;0.511&quot;</td><td>&quot;41128772.0&quot;</td><td>null</td><td>null</td><td>null</td><td>null</td></tr><tr><td>&quot;AFG&quot;</td><td>&quot;Asia&quot;</td><td>&quot;Afghanistan&quot;</td><td>&quot;2020-01-26&quot;</td><td>null</td><td>&quot;0.0&quot;</td><td>null</td><td>null</td><td>&quot;0.0&quot;</td><td>null</td><td>null</td><td>&quot;0.0&quot;</td><td>null</td><td>null</td><td>&quot;0.0&quot;</td><td>null</td><td>null</td><td>null</td><td>null</td><td>null</td><td>null</td><td>null</td><td>null</td><td>null</td><td>null</td><td>null</td><td>null</td><td>null</td><td>null</td><td>null</td><td>null</td><td>null</td><td>null</td><td>null</td><td>null</td><td>null</td><td>null</td><td>null</td><td>null</td><td>null</td><td>null</td><td>null</td><td>null</td><td>null</td><td>null</td><td>null</td><td>null</td><td>&quot;0.0&quot;</td><td>&quot;54.422&quot;</td><td>&quot;2024-06-18&quot;</td><td>&quot;2.581&quot;</td><td>&quot;1.337&quot;</td><td>&quot;1803.987&quot;</td><td>null</td><td>&quot;597.029&quot;</td><td>&quot;1959-09-01&quot;</td><td>null</td><td>null</td><td>&quot;37.746&quot;</td><td>&quot;0.5&quot;</td><td>&quot;64.83&quot;</td><td>&quot;0.511&quot;</td><td>&quot;41128772.0&quot;</td><td>null</td><td>null</td><td>null</td><td>null</td></tr><tr><td>&quot;AFG&quot;</td><td>&quot;Asia&quot;</td><td>&quot;Afghanistan&quot;</td><td>&quot;2020-02-02&quot;</td><td>null</td><td>&quot;0.0&quot;</td><td>null</td><td>null</td><td>&quot;0.0&quot;</td><td>null</td><td>null</td><td>&quot;0.0&quot;</td><td>null</td><td>null</td><td>&quot;0.0&quot;</td><td>null</td><td>null</td><td>null</td><td>null</td><td>null</td><td>null</td><td>null</td><td>null</td><td>null</td><td>null</td><td>null</td><td>null</td><td>null</td><td>null</td><td>null</td><td>null</td><td>null</td><td>null</td><td>null</td><td>null</td><td>null</td><td>null</td><td>null</td><td>null</td><td>null</td><td>null</td><td>null</td><td>null</td><td>null</td><td>null</td><td>null</td><td>null</td><td>&quot;0.0&quot;</td><td>&quot;54.422&quot;</td><td>&quot;2024-06-18&quot;</td><td>&quot;2.581&quot;</td><td>&quot;1.337&quot;</td><td>&quot;1803.987&quot;</td><td>null</td><td>&quot;597.029&quot;</td><td>&quot;1959-09-01&quot;</td><td>null</td><td>null</td><td>&quot;37.746&quot;</td><td>&quot;0.5&quot;</td><td>&quot;64.83&quot;</td><td>&quot;0.511&quot;</td><td>&quot;41128772.0&quot;</td><td>null</td><td>null</td><td>null</td><td>null</td></tr></tbody></table></div>"
      ],
      "text/plain": [
       "shape: (5, 67)\n",
       "┌──────────┬───────────┬───────────┬───────────┬───┬───────────┬───────────┬───────────┬───────────┐\n",
       "│ iso_code ┆ continent ┆ location  ┆ date      ┆ … ┆ excess_mo ┆ excess_mo ┆ excess_mo ┆ excess_mo │\n",
       "│ ---      ┆ ---       ┆ ---       ┆ ---       ┆   ┆ rtality_c ┆ rtality_c ┆ rtality   ┆ rtality_c │\n",
       "│ str      ┆ str       ┆ str       ┆ str       ┆   ┆ umulative ┆ umulative ┆ ---       ┆ umulative │\n",
       "│          ┆           ┆           ┆           ┆   ┆ _abso…    ┆ ---       ┆ str       ┆ _per_…    │\n",
       "│          ┆           ┆           ┆           ┆   ┆ ---       ┆ str       ┆           ┆ ---       │\n",
       "│          ┆           ┆           ┆           ┆   ┆ str       ┆           ┆           ┆ str       │\n",
       "╞══════════╪═══════════╪═══════════╪═══════════╪═══╪═══════════╪═══════════╪═══════════╪═══════════╡\n",
       "│ AFG      ┆ Asia      ┆ Afghanist ┆ 2020-01-0 ┆ … ┆ null      ┆ null      ┆ null      ┆ null      │\n",
       "│          ┆           ┆ an        ┆ 5         ┆   ┆           ┆           ┆           ┆           │\n",
       "│ AFG      ┆ Asia      ┆ Afghanist ┆ 2020-01-1 ┆ … ┆ null      ┆ null      ┆ null      ┆ null      │\n",
       "│          ┆           ┆ an        ┆ 2         ┆   ┆           ┆           ┆           ┆           │\n",
       "│ AFG      ┆ Asia      ┆ Afghanist ┆ 2020-01-1 ┆ … ┆ null      ┆ null      ┆ null      ┆ null      │\n",
       "│          ┆           ┆ an        ┆ 9         ┆   ┆           ┆           ┆           ┆           │\n",
       "│ AFG      ┆ Asia      ┆ Afghanist ┆ 2020-01-2 ┆ … ┆ null      ┆ null      ┆ null      ┆ null      │\n",
       "│          ┆           ┆ an        ┆ 6         ┆   ┆           ┆           ┆           ┆           │\n",
       "│ AFG      ┆ Asia      ┆ Afghanist ┆ 2020-02-0 ┆ … ┆ null      ┆ null      ┆ null      ┆ null      │\n",
       "│          ┆           ┆ an        ┆ 2         ┆   ┆           ┆           ┆           ┆           │\n",
       "└──────────┴───────────┴───────────┴───────────┴───┴───────────┴───────────┴───────────┴───────────┘"
      ]
     },
     "execution_count": 10,
     "metadata": {},
     "output_type": "execute_result"
    }
   ],
   "source": [
    "%%time\n",
    "scan_calamine(XLSB_FILE).head()"
   ]
  },
  {
   "cell_type": "code",
   "execution_count": 10,
   "metadata": {
    "notebookRunGroups": {
     "groupValue": "2"
    }
   },
   "outputs": [
    {
     "name": "stdout",
     "output_type": "stream",
     "text": [
      "CPU times: total: 33.9 s\n",
      "Wall time: 36.5 s\n"
     ]
    },
    {
     "data": {
      "text/html": [
       "<div><style>\n",
       ".dataframe > thead > tr,\n",
       ".dataframe > tbody > tr {\n",
       "  text-align: right;\n",
       "  white-space: pre-wrap;\n",
       "}\n",
       "</style>\n",
       "<small>shape: (5, 67)</small><table border=\"1\" class=\"dataframe\"><thead><tr><th>iso_code</th><th>continent</th><th>location</th><th>date</th><th>total_cases</th><th>new_cases</th><th>new_cases_smoothed</th><th>total_deaths</th><th>new_deaths</th><th>new_deaths_smoothed</th><th>total_cases_per_million</th><th>new_cases_per_million</th><th>new_cases_smoothed_per_million</th><th>total_deaths_per_million</th><th>new_deaths_per_million</th><th>new_deaths_smoothed_per_million</th><th>reproduction_rate</th><th>icu_patients</th><th>icu_patients_per_million</th><th>hosp_patients</th><th>hosp_patients_per_million</th><th>weekly_icu_admissions</th><th>weekly_icu_admissions_per_million</th><th>weekly_hosp_admissions</th><th>weekly_hosp_admissions_per_million</th><th>total_tests</th><th>new_tests</th><th>total_tests_per_thousand</th><th>new_tests_per_thousand</th><th>new_tests_smoothed</th><th>new_tests_smoothed_per_thousand</th><th>positive_rate</th><th>tests_per_case</th><th>tests_units</th><th>total_vaccinations</th><th>people_vaccinated</th><th>people_fully_vaccinated</th><th>total_boosters</th><th>new_vaccinations</th><th>new_vaccinations_smoothed</th><th>total_vaccinations_per_hundred</th><th>people_vaccinated_per_hundred</th><th>people_fully_vaccinated_per_hundred</th><th>total_boosters_per_hundred</th><th>new_vaccinations_smoothed_per_million</th><th>new_people_vaccinated_smoothed</th><th>new_people_vaccinated_smoothed_per_hundred</th><th>stringency_index</th><th>population_density</th><th>median_age</th><th>aged_65_older</th><th>aged_70_older</th><th>gdp_per_capita</th><th>extreme_poverty</th><th>cardiovasc_death_rate</th><th>diabetes_prevalence</th><th>female_smokers</th><th>male_smokers</th><th>handwashing_facilities</th><th>hospital_beds_per_thousand</th><th>life_expectancy</th><th>human_development_index</th><th>population</th><th>excess_mortality_cumulative_absolute</th><th>excess_mortality_cumulative</th><th>excess_mortality</th><th>excess_mortality_cumulative_per_million</th></tr><tr><td>str</td><td>str</td><td>str</td><td>str</td><td>str</td><td>str</td><td>str</td><td>str</td><td>str</td><td>str</td><td>str</td><td>str</td><td>str</td><td>str</td><td>str</td><td>str</td><td>str</td><td>str</td><td>str</td><td>str</td><td>str</td><td>str</td><td>str</td><td>str</td><td>str</td><td>str</td><td>str</td><td>str</td><td>str</td><td>str</td><td>str</td><td>str</td><td>str</td><td>str</td><td>str</td><td>str</td><td>str</td><td>str</td><td>str</td><td>str</td><td>str</td><td>str</td><td>str</td><td>str</td><td>str</td><td>str</td><td>str</td><td>str</td><td>str</td><td>str</td><td>str</td><td>str</td><td>str</td><td>str</td><td>str</td><td>str</td><td>str</td><td>str</td><td>str</td><td>str</td><td>str</td><td>str</td><td>str</td><td>str</td><td>str</td><td>str</td><td>str</td></tr></thead><tbody><tr><td>&quot;AFG&quot;</td><td>&quot;Asia&quot;</td><td>&quot;Afghanistan&quot;</td><td>&quot;2020-01-05&quot;</td><td>null</td><td>&quot;0.0&quot;</td><td>null</td><td>null</td><td>&quot;0.0&quot;</td><td>null</td><td>null</td><td>&quot;0.0&quot;</td><td>null</td><td>null</td><td>&quot;0.0&quot;</td><td>null</td><td>null</td><td>null</td><td>null</td><td>null</td><td>null</td><td>null</td><td>null</td><td>null</td><td>null</td><td>null</td><td>null</td><td>null</td><td>null</td><td>null</td><td>null</td><td>null</td><td>null</td><td>null</td><td>null</td><td>null</td><td>null</td><td>null</td><td>null</td><td>null</td><td>null</td><td>null</td><td>null</td><td>null</td><td>null</td><td>null</td><td>null</td><td>&quot;0.0&quot;</td><td>&quot;54.422&quot;</td><td>&quot;2024-06-18&quot;</td><td>&quot;2.581&quot;</td><td>&quot;1.337&quot;</td><td>&quot;1803.987&quot;</td><td>null</td><td>&quot;597.029&quot;</td><td>&quot;1959-09-01&quot;</td><td>null</td><td>null</td><td>&quot;37.746&quot;</td><td>&quot;0.5&quot;</td><td>&quot;64.83&quot;</td><td>&quot;0.511&quot;</td><td>&quot;41128772.0&quot;</td><td>null</td><td>null</td><td>null</td><td>null</td></tr><tr><td>&quot;AFG&quot;</td><td>&quot;Asia&quot;</td><td>&quot;Afghanistan&quot;</td><td>&quot;2020-01-12&quot;</td><td>null</td><td>&quot;0.0&quot;</td><td>null</td><td>null</td><td>&quot;0.0&quot;</td><td>null</td><td>null</td><td>&quot;0.0&quot;</td><td>null</td><td>null</td><td>&quot;0.0&quot;</td><td>null</td><td>null</td><td>null</td><td>null</td><td>null</td><td>null</td><td>null</td><td>null</td><td>null</td><td>null</td><td>null</td><td>null</td><td>null</td><td>null</td><td>null</td><td>null</td><td>null</td><td>null</td><td>null</td><td>null</td><td>null</td><td>null</td><td>null</td><td>null</td><td>null</td><td>null</td><td>null</td><td>null</td><td>null</td><td>null</td><td>null</td><td>null</td><td>&quot;0.0&quot;</td><td>&quot;54.422&quot;</td><td>&quot;2024-06-18&quot;</td><td>&quot;2.581&quot;</td><td>&quot;1.337&quot;</td><td>&quot;1803.987&quot;</td><td>null</td><td>&quot;597.029&quot;</td><td>&quot;1959-09-01&quot;</td><td>null</td><td>null</td><td>&quot;37.746&quot;</td><td>&quot;0.5&quot;</td><td>&quot;64.83&quot;</td><td>&quot;0.511&quot;</td><td>&quot;41128772.0&quot;</td><td>null</td><td>null</td><td>null</td><td>null</td></tr><tr><td>&quot;AFG&quot;</td><td>&quot;Asia&quot;</td><td>&quot;Afghanistan&quot;</td><td>&quot;2020-01-19&quot;</td><td>null</td><td>&quot;0.0&quot;</td><td>null</td><td>null</td><td>&quot;0.0&quot;</td><td>null</td><td>null</td><td>&quot;0.0&quot;</td><td>null</td><td>null</td><td>&quot;0.0&quot;</td><td>null</td><td>null</td><td>null</td><td>null</td><td>null</td><td>null</td><td>null</td><td>null</td><td>null</td><td>null</td><td>null</td><td>null</td><td>null</td><td>null</td><td>null</td><td>null</td><td>null</td><td>null</td><td>null</td><td>null</td><td>null</td><td>null</td><td>null</td><td>null</td><td>null</td><td>null</td><td>null</td><td>null</td><td>null</td><td>null</td><td>null</td><td>null</td><td>&quot;0.0&quot;</td><td>&quot;54.422&quot;</td><td>&quot;2024-06-18&quot;</td><td>&quot;2.581&quot;</td><td>&quot;1.337&quot;</td><td>&quot;1803.987&quot;</td><td>null</td><td>&quot;597.029&quot;</td><td>&quot;1959-09-01&quot;</td><td>null</td><td>null</td><td>&quot;37.746&quot;</td><td>&quot;0.5&quot;</td><td>&quot;64.83&quot;</td><td>&quot;0.511&quot;</td><td>&quot;41128772.0&quot;</td><td>null</td><td>null</td><td>null</td><td>null</td></tr><tr><td>&quot;AFG&quot;</td><td>&quot;Asia&quot;</td><td>&quot;Afghanistan&quot;</td><td>&quot;2020-01-26&quot;</td><td>null</td><td>&quot;0.0&quot;</td><td>null</td><td>null</td><td>&quot;0.0&quot;</td><td>null</td><td>null</td><td>&quot;0.0&quot;</td><td>null</td><td>null</td><td>&quot;0.0&quot;</td><td>null</td><td>null</td><td>null</td><td>null</td><td>null</td><td>null</td><td>null</td><td>null</td><td>null</td><td>null</td><td>null</td><td>null</td><td>null</td><td>null</td><td>null</td><td>null</td><td>null</td><td>null</td><td>null</td><td>null</td><td>null</td><td>null</td><td>null</td><td>null</td><td>null</td><td>null</td><td>null</td><td>null</td><td>null</td><td>null</td><td>null</td><td>null</td><td>&quot;0.0&quot;</td><td>&quot;54.422&quot;</td><td>&quot;2024-06-18&quot;</td><td>&quot;2.581&quot;</td><td>&quot;1.337&quot;</td><td>&quot;1803.987&quot;</td><td>null</td><td>&quot;597.029&quot;</td><td>&quot;1959-09-01&quot;</td><td>null</td><td>null</td><td>&quot;37.746&quot;</td><td>&quot;0.5&quot;</td><td>&quot;64.83&quot;</td><td>&quot;0.511&quot;</td><td>&quot;41128772.0&quot;</td><td>null</td><td>null</td><td>null</td><td>null</td></tr><tr><td>&quot;AFG&quot;</td><td>&quot;Asia&quot;</td><td>&quot;Afghanistan&quot;</td><td>&quot;2020-02-02&quot;</td><td>null</td><td>&quot;0.0&quot;</td><td>null</td><td>null</td><td>&quot;0.0&quot;</td><td>null</td><td>null</td><td>&quot;0.0&quot;</td><td>null</td><td>null</td><td>&quot;0.0&quot;</td><td>null</td><td>null</td><td>null</td><td>null</td><td>null</td><td>null</td><td>null</td><td>null</td><td>null</td><td>null</td><td>null</td><td>null</td><td>null</td><td>null</td><td>null</td><td>null</td><td>null</td><td>null</td><td>null</td><td>null</td><td>null</td><td>null</td><td>null</td><td>null</td><td>null</td><td>null</td><td>null</td><td>null</td><td>null</td><td>null</td><td>null</td><td>null</td><td>&quot;0.0&quot;</td><td>&quot;54.422&quot;</td><td>&quot;2024-06-18&quot;</td><td>&quot;2.581&quot;</td><td>&quot;1.337&quot;</td><td>&quot;1803.987&quot;</td><td>null</td><td>&quot;597.029&quot;</td><td>&quot;1959-09-01&quot;</td><td>null</td><td>null</td><td>&quot;37.746&quot;</td><td>&quot;0.5&quot;</td><td>&quot;64.83&quot;</td><td>&quot;0.511&quot;</td><td>&quot;41128772.0&quot;</td><td>null</td><td>null</td><td>null</td><td>null</td></tr></tbody></table></div>"
      ],
      "text/plain": [
       "shape: (5, 67)\n",
       "┌──────────┬───────────┬───────────┬───────────┬───┬───────────┬───────────┬───────────┬───────────┐\n",
       "│ iso_code ┆ continent ┆ location  ┆ date      ┆ … ┆ excess_mo ┆ excess_mo ┆ excess_mo ┆ excess_mo │\n",
       "│ ---      ┆ ---       ┆ ---       ┆ ---       ┆   ┆ rtality_c ┆ rtality_c ┆ rtality   ┆ rtality_c │\n",
       "│ str      ┆ str       ┆ str       ┆ str       ┆   ┆ umulative ┆ umulative ┆ ---       ┆ umulative │\n",
       "│          ┆           ┆           ┆           ┆   ┆ _abso…    ┆ ---       ┆ str       ┆ _per_…    │\n",
       "│          ┆           ┆           ┆           ┆   ┆ ---       ┆ str       ┆           ┆ ---       │\n",
       "│          ┆           ┆           ┆           ┆   ┆ str       ┆           ┆           ┆ str       │\n",
       "╞══════════╪═══════════╪═══════════╪═══════════╪═══╪═══════════╪═══════════╪═══════════╪═══════════╡\n",
       "│ AFG      ┆ Asia      ┆ Afghanist ┆ 2020-01-0 ┆ … ┆ null      ┆ null      ┆ null      ┆ null      │\n",
       "│          ┆           ┆ an        ┆ 5         ┆   ┆           ┆           ┆           ┆           │\n",
       "│ AFG      ┆ Asia      ┆ Afghanist ┆ 2020-01-1 ┆ … ┆ null      ┆ null      ┆ null      ┆ null      │\n",
       "│          ┆           ┆ an        ┆ 2         ┆   ┆           ┆           ┆           ┆           │\n",
       "│ AFG      ┆ Asia      ┆ Afghanist ┆ 2020-01-1 ┆ … ┆ null      ┆ null      ┆ null      ┆ null      │\n",
       "│          ┆           ┆ an        ┆ 9         ┆   ┆           ┆           ┆           ┆           │\n",
       "│ AFG      ┆ Asia      ┆ Afghanist ┆ 2020-01-2 ┆ … ┆ null      ┆ null      ┆ null      ┆ null      │\n",
       "│          ┆           ┆ an        ┆ 6         ┆   ┆           ┆           ┆           ┆           │\n",
       "│ AFG      ┆ Asia      ┆ Afghanist ┆ 2020-02-0 ┆ … ┆ null      ┆ null      ┆ null      ┆ null      │\n",
       "│          ┆           ┆ an        ┆ 2         ┆   ┆           ┆           ┆           ┆           │\n",
       "└──────────┴───────────┴───────────┴───────────┴───┴───────────┴───────────┴───────────┴───────────┘"
      ]
     },
     "execution_count": 10,
     "metadata": {},
     "output_type": "execute_result"
    }
   ],
   "source": [
    "%%time\n",
    "scan_calamine(XLSX_FILE).head()"
   ]
  },
  {
   "cell_type": "code",
   "execution_count": 10,
   "metadata": {
    "notebookRunGroups": {
     "groupValue": "2"
    }
   },
   "outputs": [
    {
     "name": "stdout",
     "output_type": "stream",
     "text": [
      "CPU times: total: 2min 4s\n",
      "Wall time: 2min 6s\n"
     ]
    },
    {
     "data": {
      "text/html": [
       "<div><style>\n",
       ".dataframe > thead > tr,\n",
       ".dataframe > tbody > tr {\n",
       "  text-align: right;\n",
       "  white-space: pre-wrap;\n",
       "}\n",
       "</style>\n",
       "<small>shape: (5, 67)</small><table border=\"1\" class=\"dataframe\"><thead><tr><th>iso_code</th><th>continent</th><th>location</th><th>date</th><th>total_cases</th><th>new_cases</th><th>new_cases_smoothed</th><th>total_deaths</th><th>new_deaths</th><th>new_deaths_smoothed</th><th>total_cases_per_million</th><th>new_cases_per_million</th><th>new_cases_smoothed_per_million</th><th>total_deaths_per_million</th><th>new_deaths_per_million</th><th>new_deaths_smoothed_per_million</th><th>reproduction_rate</th><th>icu_patients</th><th>icu_patients_per_million</th><th>hosp_patients</th><th>hosp_patients_per_million</th><th>weekly_icu_admissions</th><th>weekly_icu_admissions_per_million</th><th>weekly_hosp_admissions</th><th>weekly_hosp_admissions_per_million</th><th>total_tests</th><th>new_tests</th><th>total_tests_per_thousand</th><th>new_tests_per_thousand</th><th>new_tests_smoothed</th><th>new_tests_smoothed_per_thousand</th><th>positive_rate</th><th>tests_per_case</th><th>tests_units</th><th>total_vaccinations</th><th>people_vaccinated</th><th>people_fully_vaccinated</th><th>total_boosters</th><th>new_vaccinations</th><th>new_vaccinations_smoothed</th><th>total_vaccinations_per_hundred</th><th>people_vaccinated_per_hundred</th><th>people_fully_vaccinated_per_hundred</th><th>total_boosters_per_hundred</th><th>new_vaccinations_smoothed_per_million</th><th>new_people_vaccinated_smoothed</th><th>new_people_vaccinated_smoothed_per_hundred</th><th>stringency_index</th><th>population_density</th><th>median_age</th><th>aged_65_older</th><th>aged_70_older</th><th>gdp_per_capita</th><th>extreme_poverty</th><th>cardiovasc_death_rate</th><th>diabetes_prevalence</th><th>female_smokers</th><th>male_smokers</th><th>handwashing_facilities</th><th>hospital_beds_per_thousand</th><th>life_expectancy</th><th>human_development_index</th><th>population</th><th>excess_mortality_cumulative_absolute</th><th>excess_mortality_cumulative</th><th>excess_mortality</th><th>excess_mortality_cumulative_per_million</th></tr><tr><td>str</td><td>str</td><td>str</td><td>datetime[ms]</td><td>str</td><td>str</td><td>str</td><td>str</td><td>str</td><td>str</td><td>str</td><td>str</td><td>str</td><td>str</td><td>str</td><td>str</td><td>str</td><td>str</td><td>str</td><td>str</td><td>str</td><td>str</td><td>str</td><td>str</td><td>str</td><td>str</td><td>str</td><td>str</td><td>str</td><td>str</td><td>str</td><td>str</td><td>str</td><td>str</td><td>str</td><td>str</td><td>str</td><td>str</td><td>str</td><td>str</td><td>str</td><td>str</td><td>str</td><td>str</td><td>str</td><td>str</td><td>str</td><td>str</td><td>str</td><td>str</td><td>str</td><td>str</td><td>str</td><td>str</td><td>str</td><td>str</td><td>str</td><td>str</td><td>str</td><td>str</td><td>str</td><td>str</td><td>str</td><td>str</td><td>str</td><td>str</td><td>str</td></tr></thead><tbody><tr><td>&quot;AFG&quot;</td><td>&quot;Asia&quot;</td><td>&quot;Afghanistan&quot;</td><td>2020-01-05 00:00:00</td><td>null</td><td>&quot;0.0&quot;</td><td>null</td><td>null</td><td>&quot;0.0&quot;</td><td>null</td><td>null</td><td>&quot;0.0&quot;</td><td>null</td><td>null</td><td>&quot;0.0&quot;</td><td>null</td><td>null</td><td>null</td><td>null</td><td>null</td><td>null</td><td>null</td><td>null</td><td>null</td><td>null</td><td>null</td><td>null</td><td>null</td><td>null</td><td>null</td><td>null</td><td>null</td><td>null</td><td>null</td><td>null</td><td>null</td><td>null</td><td>null</td><td>null</td><td>null</td><td>null</td><td>null</td><td>null</td><td>null</td><td>null</td><td>null</td><td>null</td><td>&quot;0.0&quot;</td><td>&quot;54.422&quot;</td><td>&quot;2024-06-18 00:…</td><td>&quot;2.581&quot;</td><td>&quot;1.337&quot;</td><td>&quot;1803.987&quot;</td><td>null</td><td>&quot;597.029&quot;</td><td>&quot;1959-09-01 00:…</td><td>null</td><td>null</td><td>&quot;37.746&quot;</td><td>&quot;0.5&quot;</td><td>&quot;64.83&quot;</td><td>&quot;0.511&quot;</td><td>&quot;41128772.0&quot;</td><td>null</td><td>null</td><td>null</td><td>null</td></tr><tr><td>&quot;AFG&quot;</td><td>&quot;Asia&quot;</td><td>&quot;Afghanistan&quot;</td><td>2020-01-12 00:00:00</td><td>null</td><td>&quot;0.0&quot;</td><td>null</td><td>null</td><td>&quot;0.0&quot;</td><td>null</td><td>null</td><td>&quot;0.0&quot;</td><td>null</td><td>null</td><td>&quot;0.0&quot;</td><td>null</td><td>null</td><td>null</td><td>null</td><td>null</td><td>null</td><td>null</td><td>null</td><td>null</td><td>null</td><td>null</td><td>null</td><td>null</td><td>null</td><td>null</td><td>null</td><td>null</td><td>null</td><td>null</td><td>null</td><td>null</td><td>null</td><td>null</td><td>null</td><td>null</td><td>null</td><td>null</td><td>null</td><td>null</td><td>null</td><td>null</td><td>null</td><td>&quot;0.0&quot;</td><td>&quot;54.422&quot;</td><td>&quot;2024-06-18 00:…</td><td>&quot;2.581&quot;</td><td>&quot;1.337&quot;</td><td>&quot;1803.987&quot;</td><td>null</td><td>&quot;597.029&quot;</td><td>&quot;1959-09-01 00:…</td><td>null</td><td>null</td><td>&quot;37.746&quot;</td><td>&quot;0.5&quot;</td><td>&quot;64.83&quot;</td><td>&quot;0.511&quot;</td><td>&quot;41128772.0&quot;</td><td>null</td><td>null</td><td>null</td><td>null</td></tr><tr><td>&quot;AFG&quot;</td><td>&quot;Asia&quot;</td><td>&quot;Afghanistan&quot;</td><td>2020-01-19 00:00:00</td><td>null</td><td>&quot;0.0&quot;</td><td>null</td><td>null</td><td>&quot;0.0&quot;</td><td>null</td><td>null</td><td>&quot;0.0&quot;</td><td>null</td><td>null</td><td>&quot;0.0&quot;</td><td>null</td><td>null</td><td>null</td><td>null</td><td>null</td><td>null</td><td>null</td><td>null</td><td>null</td><td>null</td><td>null</td><td>null</td><td>null</td><td>null</td><td>null</td><td>null</td><td>null</td><td>null</td><td>null</td><td>null</td><td>null</td><td>null</td><td>null</td><td>null</td><td>null</td><td>null</td><td>null</td><td>null</td><td>null</td><td>null</td><td>null</td><td>null</td><td>&quot;0.0&quot;</td><td>&quot;54.422&quot;</td><td>&quot;2024-06-18 00:…</td><td>&quot;2.581&quot;</td><td>&quot;1.337&quot;</td><td>&quot;1803.987&quot;</td><td>null</td><td>&quot;597.029&quot;</td><td>&quot;1959-09-01 00:…</td><td>null</td><td>null</td><td>&quot;37.746&quot;</td><td>&quot;0.5&quot;</td><td>&quot;64.83&quot;</td><td>&quot;0.511&quot;</td><td>&quot;41128772.0&quot;</td><td>null</td><td>null</td><td>null</td><td>null</td></tr><tr><td>&quot;AFG&quot;</td><td>&quot;Asia&quot;</td><td>&quot;Afghanistan&quot;</td><td>2020-01-26 00:00:00</td><td>null</td><td>&quot;0.0&quot;</td><td>null</td><td>null</td><td>&quot;0.0&quot;</td><td>null</td><td>null</td><td>&quot;0.0&quot;</td><td>null</td><td>null</td><td>&quot;0.0&quot;</td><td>null</td><td>null</td><td>null</td><td>null</td><td>null</td><td>null</td><td>null</td><td>null</td><td>null</td><td>null</td><td>null</td><td>null</td><td>null</td><td>null</td><td>null</td><td>null</td><td>null</td><td>null</td><td>null</td><td>null</td><td>null</td><td>null</td><td>null</td><td>null</td><td>null</td><td>null</td><td>null</td><td>null</td><td>null</td><td>null</td><td>null</td><td>null</td><td>&quot;0.0&quot;</td><td>&quot;54.422&quot;</td><td>&quot;2024-06-18 00:…</td><td>&quot;2.581&quot;</td><td>&quot;1.337&quot;</td><td>&quot;1803.987&quot;</td><td>null</td><td>&quot;597.029&quot;</td><td>&quot;1959-09-01 00:…</td><td>null</td><td>null</td><td>&quot;37.746&quot;</td><td>&quot;0.5&quot;</td><td>&quot;64.83&quot;</td><td>&quot;0.511&quot;</td><td>&quot;41128772.0&quot;</td><td>null</td><td>null</td><td>null</td><td>null</td></tr><tr><td>&quot;AFG&quot;</td><td>&quot;Asia&quot;</td><td>&quot;Afghanistan&quot;</td><td>2020-02-02 00:00:00</td><td>null</td><td>&quot;0.0&quot;</td><td>null</td><td>null</td><td>&quot;0.0&quot;</td><td>null</td><td>null</td><td>&quot;0.0&quot;</td><td>null</td><td>null</td><td>&quot;0.0&quot;</td><td>null</td><td>null</td><td>null</td><td>null</td><td>null</td><td>null</td><td>null</td><td>null</td><td>null</td><td>null</td><td>null</td><td>null</td><td>null</td><td>null</td><td>null</td><td>null</td><td>null</td><td>null</td><td>null</td><td>null</td><td>null</td><td>null</td><td>null</td><td>null</td><td>null</td><td>null</td><td>null</td><td>null</td><td>null</td><td>null</td><td>null</td><td>null</td><td>&quot;0.0&quot;</td><td>&quot;54.422&quot;</td><td>&quot;2024-06-18 00:…</td><td>&quot;2.581&quot;</td><td>&quot;1.337&quot;</td><td>&quot;1803.987&quot;</td><td>null</td><td>&quot;597.029&quot;</td><td>&quot;1959-09-01 00:…</td><td>null</td><td>null</td><td>&quot;37.746&quot;</td><td>&quot;0.5&quot;</td><td>&quot;64.83&quot;</td><td>&quot;0.511&quot;</td><td>&quot;41128772.0&quot;</td><td>null</td><td>null</td><td>null</td><td>null</td></tr></tbody></table></div>"
      ],
      "text/plain": [
       "shape: (5, 67)\n",
       "┌──────────┬───────────┬───────────┬───────────┬───┬───────────┬───────────┬───────────┬───────────┐\n",
       "│ iso_code ┆ continent ┆ location  ┆ date      ┆ … ┆ excess_mo ┆ excess_mo ┆ excess_mo ┆ excess_mo │\n",
       "│ ---      ┆ ---       ┆ ---       ┆ ---       ┆   ┆ rtality_c ┆ rtality_c ┆ rtality   ┆ rtality_c │\n",
       "│ str      ┆ str       ┆ str       ┆ datetime[ ┆   ┆ umulative ┆ umulative ┆ ---       ┆ umulative │\n",
       "│          ┆           ┆           ┆ ms]       ┆   ┆ _abso…    ┆ ---       ┆ str       ┆ _per_…    │\n",
       "│          ┆           ┆           ┆           ┆   ┆ ---       ┆ str       ┆           ┆ ---       │\n",
       "│          ┆           ┆           ┆           ┆   ┆ str       ┆           ┆           ┆ str       │\n",
       "╞══════════╪═══════════╪═══════════╪═══════════╪═══╪═══════════╪═══════════╪═══════════╪═══════════╡\n",
       "│ AFG      ┆ Asia      ┆ Afghanist ┆ 2020-01-0 ┆ … ┆ null      ┆ null      ┆ null      ┆ null      │\n",
       "│          ┆           ┆ an        ┆ 5         ┆   ┆           ┆           ┆           ┆           │\n",
       "│          ┆           ┆           ┆ 00:00:00  ┆   ┆           ┆           ┆           ┆           │\n",
       "│ AFG      ┆ Asia      ┆ Afghanist ┆ 2020-01-1 ┆ … ┆ null      ┆ null      ┆ null      ┆ null      │\n",
       "│          ┆           ┆ an        ┆ 2         ┆   ┆           ┆           ┆           ┆           │\n",
       "│          ┆           ┆           ┆ 00:00:00  ┆   ┆           ┆           ┆           ┆           │\n",
       "│ AFG      ┆ Asia      ┆ Afghanist ┆ 2020-01-1 ┆ … ┆ null      ┆ null      ┆ null      ┆ null      │\n",
       "│          ┆           ┆ an        ┆ 9         ┆   ┆           ┆           ┆           ┆           │\n",
       "│          ┆           ┆           ┆ 00:00:00  ┆   ┆           ┆           ┆           ┆           │\n",
       "│ AFG      ┆ Asia      ┆ Afghanist ┆ 2020-01-2 ┆ … ┆ null      ┆ null      ┆ null      ┆ null      │\n",
       "│          ┆           ┆ an        ┆ 6         ┆   ┆           ┆           ┆           ┆           │\n",
       "│          ┆           ┆           ┆ 00:00:00  ┆   ┆           ┆           ┆           ┆           │\n",
       "│ AFG      ┆ Asia      ┆ Afghanist ┆ 2020-02-0 ┆ … ┆ null      ┆ null      ┆ null      ┆ null      │\n",
       "│          ┆           ┆ an        ┆ 2         ┆   ┆           ┆           ┆           ┆           │\n",
       "│          ┆           ┆           ┆ 00:00:00  ┆   ┆           ┆           ┆           ┆           │\n",
       "└──────────┴───────────┴───────────┴───────────┴───┴───────────┴───────────┴───────────┴───────────┘"
      ]
     },
     "execution_count": 10,
     "metadata": {},
     "output_type": "execute_result"
    }
   ],
   "source": [
    "%%time\n",
    "scan_rxls_xlsx().head()"
   ]
  },
  {
   "cell_type": "code",
   "execution_count": 10,
   "metadata": {
    "notebookRunGroups": {
     "groupValue": "2"
    }
   },
   "outputs": [
    {
     "name": "stdout",
     "output_type": "stream",
     "text": [
      "CPU times: total: 1min 24s\n",
      "Wall time: 1min 41s\n"
     ]
    },
    {
     "data": {
      "text/html": [
       "<div><style>\n",
       ".dataframe > thead > tr,\n",
       ".dataframe > tbody > tr {\n",
       "  text-align: right;\n",
       "  white-space: pre-wrap;\n",
       "}\n",
       "</style>\n",
       "<small>shape: (5, 67)</small><table border=\"1\" class=\"dataframe\"><thead><tr><th>iso_code</th><th>continent</th><th>location</th><th>date</th><th>total_cases</th><th>new_cases</th><th>new_cases_smoothed</th><th>total_deaths</th><th>new_deaths</th><th>new_deaths_smoothed</th><th>total_cases_per_million</th><th>new_cases_per_million</th><th>new_cases_smoothed_per_million</th><th>total_deaths_per_million</th><th>new_deaths_per_million</th><th>new_deaths_smoothed_per_million</th><th>reproduction_rate</th><th>icu_patients</th><th>icu_patients_per_million</th><th>hosp_patients</th><th>hosp_patients_per_million</th><th>weekly_icu_admissions</th><th>weekly_icu_admissions_per_million</th><th>weekly_hosp_admissions</th><th>weekly_hosp_admissions_per_million</th><th>total_tests</th><th>new_tests</th><th>total_tests_per_thousand</th><th>new_tests_per_thousand</th><th>new_tests_smoothed</th><th>new_tests_smoothed_per_thousand</th><th>positive_rate</th><th>tests_per_case</th><th>tests_units</th><th>total_vaccinations</th><th>people_vaccinated</th><th>people_fully_vaccinated</th><th>total_boosters</th><th>new_vaccinations</th><th>new_vaccinations_smoothed</th><th>total_vaccinations_per_hundred</th><th>people_vaccinated_per_hundred</th><th>people_fully_vaccinated_per_hundred</th><th>total_boosters_per_hundred</th><th>new_vaccinations_smoothed_per_million</th><th>new_people_vaccinated_smoothed</th><th>new_people_vaccinated_smoothed_per_hundred</th><th>stringency_index</th><th>population_density</th><th>median_age</th><th>aged_65_older</th><th>aged_70_older</th><th>gdp_per_capita</th><th>extreme_poverty</th><th>cardiovasc_death_rate</th><th>diabetes_prevalence</th><th>female_smokers</th><th>male_smokers</th><th>handwashing_facilities</th><th>hospital_beds_per_thousand</th><th>life_expectancy</th><th>human_development_index</th><th>population</th><th>excess_mortality_cumulative_absolute</th><th>excess_mortality_cumulative</th><th>excess_mortality</th><th>excess_mortality_cumulative_per_million</th></tr><tr><td>str</td><td>str</td><td>str</td><td>datetime[ms]</td><td>str</td><td>str</td><td>str</td><td>str</td><td>str</td><td>str</td><td>str</td><td>str</td><td>str</td><td>str</td><td>str</td><td>str</td><td>str</td><td>str</td><td>str</td><td>str</td><td>str</td><td>str</td><td>str</td><td>str</td><td>str</td><td>str</td><td>str</td><td>str</td><td>str</td><td>str</td><td>str</td><td>str</td><td>str</td><td>str</td><td>str</td><td>str</td><td>str</td><td>str</td><td>str</td><td>str</td><td>str</td><td>str</td><td>str</td><td>str</td><td>str</td><td>str</td><td>str</td><td>str</td><td>str</td><td>str</td><td>str</td><td>str</td><td>str</td><td>str</td><td>str</td><td>str</td><td>str</td><td>str</td><td>str</td><td>str</td><td>str</td><td>str</td><td>str</td><td>str</td><td>str</td><td>str</td><td>str</td></tr></thead><tbody><tr><td>&quot;AFG&quot;</td><td>&quot;Asia&quot;</td><td>&quot;Afghanistan&quot;</td><td>2020-01-05 00:00:00</td><td>null</td><td>&quot;0.0&quot;</td><td>null</td><td>null</td><td>&quot;0.0&quot;</td><td>null</td><td>null</td><td>&quot;0.0&quot;</td><td>null</td><td>null</td><td>&quot;0.0&quot;</td><td>null</td><td>null</td><td>null</td><td>null</td><td>null</td><td>null</td><td>null</td><td>null</td><td>null</td><td>null</td><td>null</td><td>null</td><td>null</td><td>null</td><td>null</td><td>null</td><td>null</td><td>null</td><td>null</td><td>null</td><td>null</td><td>null</td><td>null</td><td>null</td><td>null</td><td>null</td><td>null</td><td>null</td><td>null</td><td>null</td><td>null</td><td>null</td><td>&quot;0.0&quot;</td><td>&quot;54.422&quot;</td><td>&quot;2024-06-18 00:…</td><td>&quot;2.581&quot;</td><td>&quot;1.337&quot;</td><td>&quot;1803.987&quot;</td><td>null</td><td>&quot;597.029&quot;</td><td>&quot;1959-09-01 00:…</td><td>null</td><td>null</td><td>&quot;37.746&quot;</td><td>&quot;0.5&quot;</td><td>&quot;64.83&quot;</td><td>&quot;0.511&quot;</td><td>&quot;41128772.0&quot;</td><td>null</td><td>null</td><td>null</td><td>null</td></tr><tr><td>&quot;AFG&quot;</td><td>&quot;Asia&quot;</td><td>&quot;Afghanistan&quot;</td><td>2020-01-12 00:00:00</td><td>null</td><td>&quot;0.0&quot;</td><td>null</td><td>null</td><td>&quot;0.0&quot;</td><td>null</td><td>null</td><td>&quot;0.0&quot;</td><td>null</td><td>null</td><td>&quot;0.0&quot;</td><td>null</td><td>null</td><td>null</td><td>null</td><td>null</td><td>null</td><td>null</td><td>null</td><td>null</td><td>null</td><td>null</td><td>null</td><td>null</td><td>null</td><td>null</td><td>null</td><td>null</td><td>null</td><td>null</td><td>null</td><td>null</td><td>null</td><td>null</td><td>null</td><td>null</td><td>null</td><td>null</td><td>null</td><td>null</td><td>null</td><td>null</td><td>null</td><td>&quot;0.0&quot;</td><td>&quot;54.422&quot;</td><td>&quot;2024-06-18 00:…</td><td>&quot;2.581&quot;</td><td>&quot;1.337&quot;</td><td>&quot;1803.987&quot;</td><td>null</td><td>&quot;597.029&quot;</td><td>&quot;1959-09-01 00:…</td><td>null</td><td>null</td><td>&quot;37.746&quot;</td><td>&quot;0.5&quot;</td><td>&quot;64.83&quot;</td><td>&quot;0.511&quot;</td><td>&quot;41128772.0&quot;</td><td>null</td><td>null</td><td>null</td><td>null</td></tr><tr><td>&quot;AFG&quot;</td><td>&quot;Asia&quot;</td><td>&quot;Afghanistan&quot;</td><td>2020-01-19 00:00:00</td><td>null</td><td>&quot;0.0&quot;</td><td>null</td><td>null</td><td>&quot;0.0&quot;</td><td>null</td><td>null</td><td>&quot;0.0&quot;</td><td>null</td><td>null</td><td>&quot;0.0&quot;</td><td>null</td><td>null</td><td>null</td><td>null</td><td>null</td><td>null</td><td>null</td><td>null</td><td>null</td><td>null</td><td>null</td><td>null</td><td>null</td><td>null</td><td>null</td><td>null</td><td>null</td><td>null</td><td>null</td><td>null</td><td>null</td><td>null</td><td>null</td><td>null</td><td>null</td><td>null</td><td>null</td><td>null</td><td>null</td><td>null</td><td>null</td><td>null</td><td>&quot;0.0&quot;</td><td>&quot;54.422&quot;</td><td>&quot;2024-06-18 00:…</td><td>&quot;2.581&quot;</td><td>&quot;1.337&quot;</td><td>&quot;1803.987&quot;</td><td>null</td><td>&quot;597.029&quot;</td><td>&quot;1959-09-01 00:…</td><td>null</td><td>null</td><td>&quot;37.746&quot;</td><td>&quot;0.5&quot;</td><td>&quot;64.83&quot;</td><td>&quot;0.511&quot;</td><td>&quot;41128772.0&quot;</td><td>null</td><td>null</td><td>null</td><td>null</td></tr><tr><td>&quot;AFG&quot;</td><td>&quot;Asia&quot;</td><td>&quot;Afghanistan&quot;</td><td>2020-01-26 00:00:00</td><td>null</td><td>&quot;0.0&quot;</td><td>null</td><td>null</td><td>&quot;0.0&quot;</td><td>null</td><td>null</td><td>&quot;0.0&quot;</td><td>null</td><td>null</td><td>&quot;0.0&quot;</td><td>null</td><td>null</td><td>null</td><td>null</td><td>null</td><td>null</td><td>null</td><td>null</td><td>null</td><td>null</td><td>null</td><td>null</td><td>null</td><td>null</td><td>null</td><td>null</td><td>null</td><td>null</td><td>null</td><td>null</td><td>null</td><td>null</td><td>null</td><td>null</td><td>null</td><td>null</td><td>null</td><td>null</td><td>null</td><td>null</td><td>null</td><td>null</td><td>&quot;0.0&quot;</td><td>&quot;54.422&quot;</td><td>&quot;2024-06-18 00:…</td><td>&quot;2.581&quot;</td><td>&quot;1.337&quot;</td><td>&quot;1803.987&quot;</td><td>null</td><td>&quot;597.029&quot;</td><td>&quot;1959-09-01 00:…</td><td>null</td><td>null</td><td>&quot;37.746&quot;</td><td>&quot;0.5&quot;</td><td>&quot;64.83&quot;</td><td>&quot;0.511&quot;</td><td>&quot;41128772.0&quot;</td><td>null</td><td>null</td><td>null</td><td>null</td></tr><tr><td>&quot;AFG&quot;</td><td>&quot;Asia&quot;</td><td>&quot;Afghanistan&quot;</td><td>2020-02-02 00:00:00</td><td>null</td><td>&quot;0.0&quot;</td><td>null</td><td>null</td><td>&quot;0.0&quot;</td><td>null</td><td>null</td><td>&quot;0.0&quot;</td><td>null</td><td>null</td><td>&quot;0.0&quot;</td><td>null</td><td>null</td><td>null</td><td>null</td><td>null</td><td>null</td><td>null</td><td>null</td><td>null</td><td>null</td><td>null</td><td>null</td><td>null</td><td>null</td><td>null</td><td>null</td><td>null</td><td>null</td><td>null</td><td>null</td><td>null</td><td>null</td><td>null</td><td>null</td><td>null</td><td>null</td><td>null</td><td>null</td><td>null</td><td>null</td><td>null</td><td>null</td><td>&quot;0.0&quot;</td><td>&quot;54.422&quot;</td><td>&quot;2024-06-18 00:…</td><td>&quot;2.581&quot;</td><td>&quot;1.337&quot;</td><td>&quot;1803.987&quot;</td><td>null</td><td>&quot;597.029&quot;</td><td>&quot;1959-09-01 00:…</td><td>null</td><td>null</td><td>&quot;37.746&quot;</td><td>&quot;0.5&quot;</td><td>&quot;64.83&quot;</td><td>&quot;0.511&quot;</td><td>&quot;41128772.0&quot;</td><td>null</td><td>null</td><td>null</td><td>null</td></tr></tbody></table></div>"
      ],
      "text/plain": [
       "shape: (5, 67)\n",
       "┌──────────┬───────────┬───────────┬───────────┬───┬───────────┬───────────┬───────────┬───────────┐\n",
       "│ iso_code ┆ continent ┆ location  ┆ date      ┆ … ┆ excess_mo ┆ excess_mo ┆ excess_mo ┆ excess_mo │\n",
       "│ ---      ┆ ---       ┆ ---       ┆ ---       ┆   ┆ rtality_c ┆ rtality_c ┆ rtality   ┆ rtality_c │\n",
       "│ str      ┆ str       ┆ str       ┆ datetime[ ┆   ┆ umulative ┆ umulative ┆ ---       ┆ umulative │\n",
       "│          ┆           ┆           ┆ ms]       ┆   ┆ _abso…    ┆ ---       ┆ str       ┆ _per_…    │\n",
       "│          ┆           ┆           ┆           ┆   ┆ ---       ┆ str       ┆           ┆ ---       │\n",
       "│          ┆           ┆           ┆           ┆   ┆ str       ┆           ┆           ┆ str       │\n",
       "╞══════════╪═══════════╪═══════════╪═══════════╪═══╪═══════════╪═══════════╪═══════════╪═══════════╡\n",
       "│ AFG      ┆ Asia      ┆ Afghanist ┆ 2020-01-0 ┆ … ┆ null      ┆ null      ┆ null      ┆ null      │\n",
       "│          ┆           ┆ an        ┆ 5         ┆   ┆           ┆           ┆           ┆           │\n",
       "│          ┆           ┆           ┆ 00:00:00  ┆   ┆           ┆           ┆           ┆           │\n",
       "│ AFG      ┆ Asia      ┆ Afghanist ┆ 2020-01-1 ┆ … ┆ null      ┆ null      ┆ null      ┆ null      │\n",
       "│          ┆           ┆ an        ┆ 2         ┆   ┆           ┆           ┆           ┆           │\n",
       "│          ┆           ┆           ┆ 00:00:00  ┆   ┆           ┆           ┆           ┆           │\n",
       "│ AFG      ┆ Asia      ┆ Afghanist ┆ 2020-01-1 ┆ … ┆ null      ┆ null      ┆ null      ┆ null      │\n",
       "│          ┆           ┆ an        ┆ 9         ┆   ┆           ┆           ┆           ┆           │\n",
       "│          ┆           ┆           ┆ 00:00:00  ┆   ┆           ┆           ┆           ┆           │\n",
       "│ AFG      ┆ Asia      ┆ Afghanist ┆ 2020-01-2 ┆ … ┆ null      ┆ null      ┆ null      ┆ null      │\n",
       "│          ┆           ┆ an        ┆ 6         ┆   ┆           ┆           ┆           ┆           │\n",
       "│          ┆           ┆           ┆ 00:00:00  ┆   ┆           ┆           ┆           ┆           │\n",
       "│ AFG      ┆ Asia      ┆ Afghanist ┆ 2020-02-0 ┆ … ┆ null      ┆ null      ┆ null      ┆ null      │\n",
       "│          ┆           ┆ an        ┆ 2         ┆   ┆           ┆           ┆           ┆           │\n",
       "│          ┆           ┆           ┆ 00:00:00  ┆   ┆           ┆           ┆           ┆           │\n",
       "└──────────┴───────────┴───────────┴───────────┴───┴───────────┴───────────┴───────────┴───────────┘"
      ]
     },
     "execution_count": 10,
     "metadata": {},
     "output_type": "execute_result"
    }
   ],
   "source": [
    "%%time\n",
    "scan_rxls_xlsb().head()"
   ]
  },
  {
   "attachments": {},
   "cell_type": "markdown",
   "metadata": {},
   "source": [
    "### Memory Profiler"
   ]
  },
  {
   "attachments": {},
   "cell_type": "markdown",
   "metadata": {},
   "source": [
    "*For these tests, I've reload kernel between tests, for better consistency*"
   ]
  },
  {
   "cell_type": "code",
   "execution_count": 9,
   "metadata": {
    "notebookRunGroups": {
     "groupValue": "1"
    }
   },
   "outputs": [],
   "source": [
    "%load_ext memory_profiler"
   ]
  },
  {
   "cell_type": "code",
   "execution_count": 10,
   "metadata": {},
   "outputs": [
    {
     "name": "stdout",
     "output_type": "stream",
     "text": [
      "peak memory: 1657.45 MiB, increment: 1480.03 MiB\n"
     ]
    }
   ],
   "source": [
    "%memit scan_rxls_xlsb()"
   ]
  },
  {
   "cell_type": "code",
   "execution_count": 10,
   "metadata": {},
   "outputs": [
    {
     "name": "stdout",
     "output_type": "stream",
     "text": [
      "peak memory: 1926.55 MiB, increment: 1748.77 MiB\n"
     ]
    }
   ],
   "source": [
    "%memit scan_rxls_xlsx()"
   ]
  },
  {
   "cell_type": "code",
   "execution_count": 10,
   "metadata": {},
   "outputs": [
    {
     "name": "stdout",
     "output_type": "stream",
     "text": [
      "peak memory: 581.82 MiB, increment: 404.13 MiB\n"
     ]
    }
   ],
   "source": [
    "%memit scan_xlsx2csv()"
   ]
  },
  {
   "cell_type": "code",
   "execution_count": 10,
   "metadata": {},
   "outputs": [
    {
     "name": "stdout",
     "output_type": "stream",
     "text": [
      "peak memory: 4489.82 MiB, increment: 4312.04 MiB\n"
     ]
    }
   ],
   "source": [
    "%memit scan_openpyxl()"
   ]
  },
  {
   "cell_type": "code",
   "execution_count": 10,
   "metadata": {},
   "outputs": [
    {
     "name": "stdout",
     "output_type": "stream",
     "text": [
      "peak memory: 2160.24 MiB, increment: 1982.36 MiB\n"
     ]
    }
   ],
   "source": [
    "%memit scan_pyxlsb()"
   ]
  },
  {
   "cell_type": "code",
   "execution_count": 10,
   "metadata": {},
   "outputs": [
    {
     "name": "stdout",
     "output_type": "stream",
     "text": [
      "peak memory: 3169.70 MiB, increment: 2992.27 MiB\n"
     ]
    }
   ],
   "source": [
    "%memit scan_calamine(XLSX_FILE)"
   ]
  },
  {
   "cell_type": "code",
   "execution_count": 10,
   "metadata": {},
   "outputs": [
    {
     "name": "stdout",
     "output_type": "stream",
     "text": [
      "peak memory: 3185.12 MiB, increment: 3007.87 MiB\n"
     ]
    }
   ],
   "source": [
    "%memit scan_calamine(XLSB_FILE)"
   ]
  },
  {
   "attachments": {},
   "cell_type": "markdown",
   "metadata": {},
   "source": [
    "## Results"
   ]
  },
  {
   "cell_type": "markdown",
   "metadata": {},
   "source": [
    "### Time Performance Stats (XLSX)\n",
    "\n",
    "| Engine | Wall Time | CPU Time    |  Score |\n",
    "|--------|-----------|-------------|--------|\n",
    "|Calamine| 36.5 s | 33.9 s | 1 |\n",
    "|  RXLS  | 2min 6s | 2min 4s | 2 |\n",
    "|XLSX2CSV| 2min 15s | 2min 7s | 3 |\n",
    "|OpenPyXL| 6min 37s | 5min 36s | 4 |"
   ]
  },
  {
   "cell_type": "markdown",
   "metadata": {},
   "source": [
    "### Time Performance Stats (XLSB)\n",
    "\n",
    "| Engine | Wall Time | CPU Time    |  Score |\n",
    "|--------|-----------|-------------|--------|\n",
    "|Calamine| 21.3 s | 18.3 s | 1 |\n",
    "|  RXLS  | 1min 41s | 1min 24s | 2 |\n",
    "| PyXLSB | 2min 43s | 2min 33s | 3 |\n"
   ]
  },
  {
   "cell_type": "markdown",
   "metadata": {},
   "source": [
    "### Memory Performance Stats (XLSX)\n",
    "\n",
    "| Engine | Peak Memory |  Increment  | Score |\n",
    "|--------|-------------|-------------|-------|\n",
    "|XLSXCSV |  581.82 MiB |  404.13 MiB | 1 |\n",
    "|  RXLS  | 1926.55 MiB | 1748.77 MiB | 2 |\n",
    "|Calamine| 3169.70 MiB | 2992.27 MiB | 3 |\n",
    "|OpenPyXL| 4489.82 MiB | 4312.04 MiB | 4 |"
   ]
  },
  {
   "cell_type": "markdown",
   "metadata": {},
   "source": [
    "### Memory Performance Stats (XLSB)\n",
    "\n",
    "| Engine | Peak Memory |  Increment  | Score |\n",
    "|--------|-------------|-------------|-------|\n",
    "|  RXLS  | 1926.55 MiB | 1748.77 MiB | 1 |\n",
    "| PyXLSB | 2160.24 MiB | 1982.36 MiB | 2 |\n",
    "|Calamine| 3185.12 MiB | 3007.87 MiB | 3 |\n"
   ]
  },
  {
   "cell_type": "code",
   "execution_count": null,
   "metadata": {},
   "outputs": [],
   "source": [
    "from datetime import time\n",
    "import polars as pl\n",
    "import hvplot\n",
    "\n",
    "hvplot.extension(\"matplotlib\")\n",
    "\n",
    "df_bench_xlsx = pl.DataFrame(\n",
    "    {\n",
    "        \"Engine\": [\"Calamine\", \"RXLS\", \"XLSX2CSV\", \"OpenPyXL\"],\n",
    "        \"Wall\": [\n",
    "            time(0, 0, 36, 500000),\n",
    "            time(0, 2, 6),\n",
    "            time(0, 2, 15),\n",
    "            time(0, 6, 37),\n",
    "        ],\n",
    "        \"CPU\": [\n",
    "            time(0, 0, 33, 900000),\n",
    "            time(0, 2, 4),\n",
    "            time(0, 2, 7),\n",
    "            time(0, 5, 36),\n",
    "        ],\n",
    "        \"Peak\": [3169.70, 1926.55, 581.82, 4489.82],\n",
    "        \"Increment\": [2992.27, 1748.77, 404.13, 4312.04],\n",
    "    }\n",
    ").with_columns(\n",
    "    # nanoseconds to minutes\n",
    "    pl.col(\"Wall\").cast(pl.Int64) / 60000000000,\n",
    "    pl.col(\"CPU\").cast(pl.Int64) / 60000000000,\n",
    ")\n",
    "\n",
    "df_bench_xlsb = pl.DataFrame(\n",
    "    {\n",
    "        \"Engine\": [\"Calamine\", \"RXLS\", \"PyXLSB\"],\n",
    "        \"Wall\": [\n",
    "            time(0, 0, 21, 300000),\n",
    "            time(0, 1, 41),\n",
    "            time(0, 2, 43),\n",
    "        ],\n",
    "        \"CPU\": [\n",
    "            time(0, 0, 18, 300000),\n",
    "            time(0, 1, 24),\n",
    "            time(0, 2, 43),\n",
    "        ],\n",
    "        \"Peak\": [3185.12, 1926.55, 2160.24],\n",
    "        \"Increment\": [3007.87, 1748.77, 1982.36],\n",
    "    }\n",
    ").with_columns(\n",
    "    # nanoseconds to minutes\n",
    "    pl.col(\"Wall\").cast(pl.Int64) / 60000000000,\n",
    "    pl.col(\"CPU\").cast(pl.Int64) / 60000000000,\n",
    ")\n"
   ]
  },
  {
   "cell_type": "code",
   "execution_count": 47,
   "metadata": {},
   "outputs": [
    {
     "data": {
      "text/html": [
       "<img src='data:image/png;base64,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' style='max-width:100%; margin: auto; display: block; '/>"
      ],
      "text/plain": [
       ":Bars   [Engine,Variable]   (value)"
      ]
     },
     "execution_count": 47,
     "metadata": {
      "application/vnd.holoviews_exec.v0+json": {}
     },
     "output_type": "execute_result"
    }
   ],
   "source": [
    "df_bench_xlsx.sort(\"Wall\", descending=False).plot.bar(\n",
    "    y=[\"Wall\", \"CPU\"], x=\"Engine\", ylabel=\"XLSX reading (time, minutes)\"\n",
    ")\n"
   ]
  },
  {
   "cell_type": "code",
   "execution_count": 48,
   "metadata": {},
   "outputs": [
    {
     "data": {
      "text/html": [
       "<img src='data:image/png;base64,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' style='max-width:100%; margin: auto; display: block; '/>"
      ],
      "text/plain": [
       ":Bars   [Engine,Variable]   (value)"
      ]
     },
     "execution_count": 48,
     "metadata": {
      "application/vnd.holoviews_exec.v0+json": {}
     },
     "output_type": "execute_result"
    }
   ],
   "source": [
    "df_bench_xlsb.sort(\"Wall\", descending=False).plot.bar(\n",
    "    y=[\"Wall\", \"CPU\"], x=\"Engine\", ylabel=\"XLSB reading (time, minutes)\"\n",
    ")\n"
   ]
  },
  {
   "cell_type": "code",
   "execution_count": 49,
   "metadata": {},
   "outputs": [
    {
     "data": {
      "text/html": [
       "<img src='data:image/png;base64,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' style='max-width:100%; margin: auto; display: block; '/>"
      ],
      "text/plain": [
       ":Bars   [Engine,Variable]   (value)"
      ]
     },
     "execution_count": 49,
     "metadata": {
      "application/vnd.holoviews_exec.v0+json": {}
     },
     "output_type": "execute_result"
    }
   ],
   "source": [
    "df_bench_xlsx.sort(\"Increment\", descending=False).plot.bar(\n",
    "    y=[\"Peak\", \"Increment\"], stacked=False, x=\"Engine\", ylabel='XLSX reading memory (MiB)'\n",
    ")\n"
   ]
  },
  {
   "cell_type": "code",
   "execution_count": 50,
   "metadata": {},
   "outputs": [
    {
     "data": {
      "text/html": [
       "<img src='data:image/png;base64,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' style='max-width:100%; margin: auto; display: block; '/>"
      ],
      "text/plain": [
       ":Bars   [Engine,Variable]   (value)"
      ]
     },
     "execution_count": 50,
     "metadata": {
      "application/vnd.holoviews_exec.v0+json": {}
     },
     "output_type": "execute_result"
    }
   ],
   "source": [
    "df_bench_xlsb.sort(\"Increment\", descending=False).plot.bar(\n",
    "    y=[\"Peak\", \"Increment\"], stacked=False, x=\"Engine\", ylabel='XLSB reading memory (MiB)'\n",
    ")\n"
   ]
  },
  {
   "cell_type": "markdown",
   "metadata": {},
   "source": [
    "### Notes about benchmark:"
   ]
  },
  {
   "cell_type": "markdown",
   "metadata": {},
   "source": [
    "* RXLS performance increases significantly since previous commit of this benchmark.\n",
    "* Previous benchmark was on slower system, so there is large performance boost for all engines.\n",
    "* Add python-calamine engine to benchmark\n",
    "* There is only one case of reading files (whole file reading). In different cases, there may be some benefits from using one engine or another.\n",
    "* You can test RXLS with `TBB` along with `Numba` for even better performance increase. There is no such tests, because of other engines use only CPU (as I know).\n",
    "* OpenPyXL eats all my RAM, as always. So, keep this in mind, that on another machine it may take even more memory, than in benchmarks.\n",
    "* Original files size:\n",
    "    - XLSX: 45894952 bytes (~43.7 MB)\n",
    "    - XLSB: 20125767 bytes (~19.1 MB)\n",
    "* For each testing case (time or memit magic cell execution), kernel was restarted.\n",
    "* *Maybe, some optimisations missed in Polars openpyxl adapter: `read-only workbooks, data-only mode` (?)*"
   ]
  },
  {
   "cell_type": "markdown",
   "metadata": {},
   "source": [
    "### Notes about data"
   ]
  },
  {
   "cell_type": "markdown",
   "metadata": {},
   "source": [
    "Almost all columns in original files have some errors, such as:\n",
    "\n",
    "- Mixed data types (timestamps and floating-point cells in one column)\n",
    "\n",
    "This is a special case for show you not only difference between memory footprints or reading speed, but also quality of result (I know, that, with some advanced tuning, almost all engines can correctly read this... Maybe).\n",
    "\n",
    "There is some examples:"
   ]
  },
  {
   "cell_type": "markdown",
   "metadata": {},
   "source": [
    "### Quality of output data"
   ]
  },
  {
   "cell_type": "code",
   "execution_count": 10,
   "metadata": {},
   "outputs": [],
   "source": [
    "# Two different engines:\n",
    "df_ox = scan_xlsx2csv()\n",
    "df_rx = scan_rxls_xlsx()"
   ]
  },
  {
   "cell_type": "code",
   "execution_count": 12,
   "metadata": {},
   "outputs": [
    {
     "data": {
      "text/html": [
       "<div><style>\n",
       ".dataframe > thead > tr,\n",
       ".dataframe > tbody > tr {\n",
       "  text-align: right;\n",
       "  white-space: pre-wrap;\n",
       "}\n",
       "</style>\n",
       "<small>shape: (9, 68)</small><table border=\"1\" class=\"dataframe\"><thead><tr><th>describe</th><th>iso_code</th><th>continent</th><th>location</th><th>date</th><th>total_cases</th><th>new_cases</th><th>new_cases_smoothed</th><th>total_deaths</th><th>new_deaths</th><th>new_deaths_smoothed</th><th>total_cases_per_million</th><th>new_cases_per_million</th><th>new_cases_smoothed_per_million</th><th>total_deaths_per_million</th><th>new_deaths_per_million</th><th>new_deaths_smoothed_per_million</th><th>reproduction_rate</th><th>icu_patients</th><th>icu_patients_per_million</th><th>hosp_patients</th><th>hosp_patients_per_million</th><th>weekly_icu_admissions</th><th>weekly_icu_admissions_per_million</th><th>weekly_hosp_admissions</th><th>weekly_hosp_admissions_per_million</th><th>total_tests</th><th>new_tests</th><th>total_tests_per_thousand</th><th>new_tests_per_thousand</th><th>new_tests_smoothed</th><th>new_tests_smoothed_per_thousand</th><th>positive_rate</th><th>tests_per_case</th><th>tests_units</th><th>total_vaccinations</th><th>people_vaccinated</th><th>people_fully_vaccinated</th><th>total_boosters</th><th>new_vaccinations</th><th>new_vaccinations_smoothed</th><th>total_vaccinations_per_hundred</th><th>people_vaccinated_per_hundred</th><th>people_fully_vaccinated_per_hundred</th><th>total_boosters_per_hundred</th><th>new_vaccinations_smoothed_per_million</th><th>new_people_vaccinated_smoothed</th><th>new_people_vaccinated_smoothed_per_hundred</th><th>stringency_index</th><th>population_density</th><th>median_age</th><th>aged_65_older</th><th>aged_70_older</th><th>gdp_per_capita</th><th>extreme_poverty</th><th>cardiovasc_death_rate</th><th>diabetes_prevalence</th><th>female_smokers</th><th>male_smokers</th><th>handwashing_facilities</th><th>hospital_beds_per_thousand</th><th>life_expectancy</th><th>human_development_index</th><th>population</th><th>excess_mortality_cumulative_absolute</th><th>excess_mortality_cumulative</th><th>excess_mortality</th><th>excess_mortality_cumulative_per_million</th></tr><tr><td>str</td><td>str</td><td>str</td><td>str</td><td>str</td><td>str</td><td>str</td><td>str</td><td>str</td><td>str</td><td>str</td><td>str</td><td>str</td><td>str</td><td>str</td><td>str</td><td>str</td><td>str</td><td>str</td><td>str</td><td>str</td><td>str</td><td>str</td><td>str</td><td>str</td><td>str</td><td>str</td><td>str</td><td>str</td><td>str</td><td>str</td><td>str</td><td>str</td><td>str</td><td>str</td><td>str</td><td>str</td><td>str</td><td>str</td><td>str</td><td>str</td><td>str</td><td>str</td><td>str</td><td>str</td><td>str</td><td>str</td><td>str</td><td>str</td><td>str</td><td>str</td><td>str</td><td>str</td><td>str</td><td>str</td><td>str</td><td>str</td><td>str</td><td>str</td><td>str</td><td>str</td><td>str</td><td>str</td><td>str</td><td>str</td><td>str</td><td>str</td><td>str</td></tr></thead><tbody><tr><td>&quot;count&quot;</td><td>&quot;276700&quot;</td><td>&quot;262726&quot;</td><td>&quot;276700&quot;</td><td>&quot;276700&quot;</td><td>&quot;47775&quot;</td><td>&quot;51838&quot;</td><td>&quot;50608&quot;</td><td>&quot;44649&quot;</td><td>&quot;51859&quot;</td><td>&quot;50629&quot;</td><td>&quot;47775&quot;</td><td>&quot;51838&quot;</td><td>&quot;50608&quot;</td><td>&quot;44649&quot;</td><td>&quot;51859&quot;</td><td>&quot;50629&quot;</td><td>&quot;184817&quot;</td><td>&quot;38195&quot;</td><td>&quot;38195&quot;</td><td>&quot;39683&quot;</td><td>&quot;39683&quot;</td><td>&quot;10453&quot;</td><td>&quot;10453&quot;</td><td>&quot;23785&quot;</td><td>&quot;23785&quot;</td><td>&quot;79387&quot;</td><td>&quot;75403&quot;</td><td>&quot;79387&quot;</td><td>&quot;75403&quot;</td><td>&quot;103965&quot;</td><td>&quot;103965&quot;</td><td>&quot;95927&quot;</td><td>&quot;94348&quot;</td><td>&quot;106788&quot;</td><td>&quot;80910&quot;</td><td>&quot;77439&quot;</td><td>&quot;74164&quot;</td><td>&quot;49060&quot;</td><td>&quot;66854&quot;</td><td>&quot;185122&quot;</td><td>&quot;80910&quot;</td><td>&quot;77439&quot;</td><td>&quot;74164&quot;</td><td>&quot;49060&quot;</td><td>&quot;185122&quot;</td><td>&quot;184820&quot;</td><td>&quot;184820&quot;</td><td>&quot;180902&quot;</td><td>&quot;245128&quot;</td><td>&quot;232151&quot;</td><td>&quot;228629&quot;</td><td>&quot;230696&quot;</td><td>&quot;229745&quot;</td><td>&quot;152762&quot;</td><td>&quot;230192&quot;</td><td>&quot;239681&quot;</td><td>&quot;178131&quot;</td><td>&quot;175546&quot;</td><td>&quot;113626&quot;</td><td>&quot;205421&quot;</td><td>&quot;254747&quot;</td><td>&quot;225670&quot;</td><td>&quot;276700&quot;</td><td>&quot;11883&quot;</td><td>&quot;11883&quot;</td><td>&quot;11883&quot;</td><td>&quot;11883&quot;</td></tr><tr><td>&quot;null_count&quot;</td><td>&quot;0&quot;</td><td>&quot;13974&quot;</td><td>&quot;0&quot;</td><td>&quot;0&quot;</td><td>&quot;228925&quot;</td><td>&quot;224862&quot;</td><td>&quot;226092&quot;</td><td>&quot;232051&quot;</td><td>&quot;224841&quot;</td><td>&quot;226071&quot;</td><td>&quot;228925&quot;</td><td>&quot;224862&quot;</td><td>&quot;226092&quot;</td><td>&quot;232051&quot;</td><td>&quot;224841&quot;</td><td>&quot;226071&quot;</td><td>&quot;91883&quot;</td><td>&quot;238505&quot;</td><td>&quot;238505&quot;</td><td>&quot;237017&quot;</td><td>&quot;237017&quot;</td><td>&quot;266247&quot;</td><td>&quot;266247&quot;</td><td>&quot;252915&quot;</td><td>&quot;252915&quot;</td><td>&quot;197313&quot;</td><td>&quot;201297&quot;</td><td>&quot;197313&quot;</td><td>&quot;201297&quot;</td><td>&quot;172735&quot;</td><td>&quot;172735&quot;</td><td>&quot;180773&quot;</td><td>&quot;182352&quot;</td><td>&quot;169912&quot;</td><td>&quot;195790&quot;</td><td>&quot;199261&quot;</td><td>&quot;202536&quot;</td><td>&quot;227640&quot;</td><td>&quot;209846&quot;</td><td>&quot;91578&quot;</td><td>&quot;195790&quot;</td><td>&quot;199261&quot;</td><td>&quot;202536&quot;</td><td>&quot;227640&quot;</td><td>&quot;91578&quot;</td><td>&quot;91880&quot;</td><td>&quot;91880&quot;</td><td>&quot;95798&quot;</td><td>&quot;31572&quot;</td><td>&quot;44549&quot;</td><td>&quot;48071&quot;</td><td>&quot;46004&quot;</td><td>&quot;46955&quot;</td><td>&quot;123938&quot;</td><td>&quot;46508&quot;</td><td>&quot;37019&quot;</td><td>&quot;98569&quot;</td><td>&quot;101154&quot;</td><td>&quot;163074&quot;</td><td>&quot;71279&quot;</td><td>&quot;21953&quot;</td><td>&quot;51030&quot;</td><td>&quot;0&quot;</td><td>&quot;264817&quot;</td><td>&quot;264817&quot;</td><td>&quot;264817&quot;</td><td>&quot;264817&quot;</td></tr><tr><td>&quot;mean&quot;</td><td>null</td><td>null</td><td>null</td><td>null</td><td>null</td><td>null</td><td>null</td><td>null</td><td>null</td><td>null</td><td>null</td><td>null</td><td>null</td><td>null</td><td>null</td><td>null</td><td>null</td><td>null</td><td>null</td><td>null</td><td>null</td><td>null</td><td>null</td><td>null</td><td>null</td><td>null</td><td>null</td><td>null</td><td>null</td><td>null</td><td>null</td><td>null</td><td>null</td><td>null</td><td>null</td><td>null</td><td>null</td><td>null</td><td>null</td><td>null</td><td>null</td><td>null</td><td>null</td><td>null</td><td>null</td><td>null</td><td>null</td><td>null</td><td>null</td><td>null</td><td>null</td><td>null</td><td>null</td><td>null</td><td>null</td><td>null</td><td>null</td><td>null</td><td>null</td><td>null</td><td>null</td><td>null</td><td>null</td><td>null</td><td>null</td><td>null</td><td>null</td></tr><tr><td>&quot;std&quot;</td><td>null</td><td>null</td><td>null</td><td>null</td><td>null</td><td>null</td><td>null</td><td>null</td><td>null</td><td>null</td><td>null</td><td>null</td><td>null</td><td>null</td><td>null</td><td>null</td><td>null</td><td>null</td><td>null</td><td>null</td><td>null</td><td>null</td><td>null</td><td>null</td><td>null</td><td>null</td><td>null</td><td>null</td><td>null</td><td>null</td><td>null</td><td>null</td><td>null</td><td>null</td><td>null</td><td>null</td><td>null</td><td>null</td><td>null</td><td>null</td><td>null</td><td>null</td><td>null</td><td>null</td><td>null</td><td>null</td><td>null</td><td>null</td><td>null</td><td>null</td><td>null</td><td>null</td><td>null</td><td>null</td><td>null</td><td>null</td><td>null</td><td>null</td><td>null</td><td>null</td><td>null</td><td>null</td><td>null</td><td>null</td><td>null</td><td>null</td><td>null</td></tr><tr><td>&quot;min&quot;</td><td>&quot;ABW&quot;</td><td>&quot;Africa&quot;</td><td>&quot;Afghanistan&quot;</td><td>&quot;01-01-20&quot;</td><td>&quot;1.0&quot;</td><td>&quot;0.0&quot;</td><td>&quot;0.0&quot;</td><td>&quot;1.0&quot;</td><td>&quot;0.0&quot;</td><td>&quot;0.0&quot;</td><td>&quot;0.0&quot;</td><td>&quot;0.0&quot;</td><td>&quot;0.0&quot;</td><td>&quot;0.0&quot;</td><td>&quot;0.0&quot;</td><td>&quot;0.0&quot;</td><td>&quot;-0.0&quot;</td><td>&quot;0.0&quot;</td><td>&quot;0.0&quot;</td><td>&quot;0.0&quot;</td><td>&quot;0.0&quot;</td><td>&quot;0.0&quot;</td><td>&quot;0.0&quot;</td><td>&quot;0.0&quot;</td><td>&quot;0.0&quot;</td><td>&quot;0.0&quot;</td><td>&quot;1.0&quot;</td><td>&quot;0.0&quot;</td><td>&quot;0.0&quot;</td><td>&quot;0.0&quot;</td><td>&quot;0.0&quot;</td><td>&quot;0.0&quot;</td><td>&quot;01-Apr&quot;</td><td>&quot;people tested&quot;</td><td>&quot;0.0&quot;</td><td>&quot;0.0&quot;</td><td>&quot;1.0&quot;</td><td>&quot;1.0&quot;</td><td>&quot;0.0&quot;</td><td>&quot;0.0&quot;</td><td>&quot;0.0&quot;</td><td>&quot;0.0&quot;</td><td>&quot;0.0&quot;</td><td>&quot;0.0&quot;</td><td>&quot;0.0&quot;</td><td>&quot;0.0&quot;</td><td>&quot;0.0&quot;</td><td>&quot;0.0&quot;</td><td>&quot;0.137&quot;</td><td>&quot;15-Jan&quot;</td><td>&quot;03-Feb&quot;</td><td>&quot;0.526&quot;</td><td>&quot;104861.851&quot;</td><td>&quot;0.1&quot;</td><td>&quot;103.957&quot;</td><td>&quot;0.99&quot;</td><td>&quot;0.1&quot;</td><td>&quot;07-Jul&quot;</td><td>&quot;1.188&quot;</td><td>&quot;0.1&quot;</td><td>&quot;53.28&quot;</td><td>&quot;0.394&quot;</td><td>&quot;10142625.0&quot;</td><td>&quot;-0.20000076&quot;</td><td>&quot;-0.01&quot;</td><td>&quot;-0.01&quot;</td><td>&quot;-0.18260218&quot;</td></tr><tr><td>&quot;25%&quot;</td><td>null</td><td>null</td><td>null</td><td>null</td><td>null</td><td>null</td><td>null</td><td>null</td><td>null</td><td>null</td><td>null</td><td>null</td><td>null</td><td>null</td><td>null</td><td>null</td><td>null</td><td>null</td><td>null</td><td>null</td><td>null</td><td>null</td><td>null</td><td>null</td><td>null</td><td>null</td><td>null</td><td>null</td><td>null</td><td>null</td><td>null</td><td>null</td><td>null</td><td>null</td><td>null</td><td>null</td><td>null</td><td>null</td><td>null</td><td>null</td><td>null</td><td>null</td><td>null</td><td>null</td><td>null</td><td>null</td><td>null</td><td>null</td><td>null</td><td>null</td><td>null</td><td>null</td><td>null</td><td>null</td><td>null</td><td>null</td><td>null</td><td>null</td><td>null</td><td>null</td><td>null</td><td>null</td><td>null</td><td>null</td><td>null</td><td>null</td><td>null</td></tr><tr><td>&quot;50%&quot;</td><td>null</td><td>null</td><td>null</td><td>null</td><td>null</td><td>null</td><td>null</td><td>null</td><td>null</td><td>null</td><td>null</td><td>null</td><td>null</td><td>null</td><td>null</td><td>null</td><td>null</td><td>null</td><td>null</td><td>null</td><td>null</td><td>null</td><td>null</td><td>null</td><td>null</td><td>null</td><td>null</td><td>null</td><td>null</td><td>null</td><td>null</td><td>null</td><td>null</td><td>null</td><td>null</td><td>null</td><td>null</td><td>null</td><td>null</td><td>null</td><td>null</td><td>null</td><td>null</td><td>null</td><td>null</td><td>null</td><td>null</td><td>null</td><td>null</td><td>null</td><td>null</td><td>null</td><td>null</td><td>null</td><td>null</td><td>null</td><td>null</td><td>null</td><td>null</td><td>null</td><td>null</td><td>null</td><td>null</td><td>null</td><td>null</td><td>null</td><td>null</td></tr><tr><td>&quot;75%&quot;</td><td>null</td><td>null</td><td>null</td><td>null</td><td>null</td><td>null</td><td>null</td><td>null</td><td>null</td><td>null</td><td>null</td><td>null</td><td>null</td><td>null</td><td>null</td><td>null</td><td>null</td><td>null</td><td>null</td><td>null</td><td>null</td><td>null</td><td>null</td><td>null</td><td>null</td><td>null</td><td>null</td><td>null</td><td>null</td><td>null</td><td>null</td><td>null</td><td>null</td><td>null</td><td>null</td><td>null</td><td>null</td><td>null</td><td>null</td><td>null</td><td>null</td><td>null</td><td>null</td><td>null</td><td>null</td><td>null</td><td>null</td><td>null</td><td>null</td><td>null</td><td>null</td><td>null</td><td>null</td><td>null</td><td>null</td><td>null</td><td>null</td><td>null</td><td>null</td><td>null</td><td>null</td><td>null</td><td>null</td><td>null</td><td>null</td><td>null</td><td>null</td></tr><tr><td>&quot;max&quot;</td><td>&quot;ZWE&quot;</td><td>&quot;South America&quot;</td><td>&quot;Zimbabwe&quot;</td><td>&quot;12-31-23&quot;</td><td>&quot;999886.0&quot;</td><td>&quot;9999.0&quot;</td><td>&quot;99985.571&quot;</td><td>&quot;99965.0&quot;</td><td>&quot;999.0&quot;</td><td>&quot;998.714&quot;</td><td>&quot;Sep-87&quot;</td><td>&quot;Sep-88&quot;</td><td>&quot;Sep-96&quot;</td><td>&quot;Sep-95&quot;</td><td>&quot;Sep-98&quot;</td><td>&quot;Sep-98&quot;</td><td>&quot;May-87&quot;</td><td>&quot;9994.0&quot;</td><td>&quot;Sep-98&quot;</td><td>&quot;999.0&quot;</td><td>&quot;Sep-93&quot;</td><td>&quot;998.0&quot;</td><td>&quot;Sep-98&quot;</td><td>&quot;9996.0&quot;</td><td>&quot;Sep-91&quot;</td><td>&quot;9999879.0&quot;</td><td>&quot;99999.0&quot;</td><td>&quot;Sep-99&quot;</td><td>&quot;Sep-99&quot;</td><td>&quot;99990.0&quot;</td><td>&quot;Sep-99&quot;</td><td>&quot;1.0&quot;</td><td>&quot;999.8&quot;</td><td>&quot;units unclear&quot;</td><td>&quot;999990.0&quot;</td><td>&quot;9999633.0&quot;</td><td>&quot;9999902.0&quot;</td><td>&quot;999995.0&quot;</td><td>&quot;999947.0&quot;</td><td>&quot;99998.0&quot;</td><td>&quot;Sep-98&quot;</td><td>&quot;Sep-99&quot;</td><td>&quot;Sep-99&quot;</td><td>&quot;Sep-99&quot;</td><td>&quot;9999.0&quot;</td><td>&quot;99996.0&quot;</td><td>&quot;Mar-21&quot;</td><td>&quot;Sep-89&quot;</td><td>&quot;Jan-98&quot;</td><td>&quot;48.2&quot;</td><td>&quot;May-82&quot;</td><td>&quot;Sep-72&quot;</td><td>&quot;9795.834&quot;</td><td>&quot;77.6&quot;</td><td>&quot;99.739&quot;</td><td>&quot;Sep-85&quot;</td><td>&quot;7.0&quot;</td><td>&quot;78.1&quot;</td><td>&quot;Jul-96&quot;</td><td>&quot;May-98&quot;</td><td>&quot;86.75&quot;</td><td>&quot;0.957&quot;</td><td>&quot;9967304.0&quot;</td><td>&quot;99988.016&quot;</td><td>&quot;Sep-99&quot;</td><td>&quot;Sep-99&quot;</td><td>&quot;999.514&quot;</td></tr></tbody></table></div>"
      ],
      "text/plain": [
       "shape: (9, 68)\n",
       "┌───────────┬──────────┬───────────┬───────────┬───┬───────────┬───────────┬───────────┬───────────┐\n",
       "│ describe  ┆ iso_code ┆ continent ┆ location  ┆ … ┆ excess_mo ┆ excess_mo ┆ excess_mo ┆ excess_mo │\n",
       "│ ---       ┆ ---      ┆ ---       ┆ ---       ┆   ┆ rtality_c ┆ rtality_c ┆ rtality   ┆ rtality_c │\n",
       "│ str       ┆ str      ┆ str       ┆ str       ┆   ┆ umulative ┆ umulative ┆ ---       ┆ umulative │\n",
       "│           ┆          ┆           ┆           ┆   ┆ _abso…    ┆ ---       ┆ str       ┆ _per_…    │\n",
       "│           ┆          ┆           ┆           ┆   ┆ ---       ┆ str       ┆           ┆ ---       │\n",
       "│           ┆          ┆           ┆           ┆   ┆ str       ┆           ┆           ┆ str       │\n",
       "╞═══════════╪══════════╪═══════════╪═══════════╪═══╪═══════════╪═══════════╪═══════════╪═══════════╡\n",
       "│ count     ┆ 276700   ┆ 262726    ┆ 276700    ┆ … ┆ 11883     ┆ 11883     ┆ 11883     ┆ 11883     │\n",
       "│ null_coun ┆ 0        ┆ 13974     ┆ 0         ┆ … ┆ 264817    ┆ 264817    ┆ 264817    ┆ 264817    │\n",
       "│ t         ┆          ┆           ┆           ┆   ┆           ┆           ┆           ┆           │\n",
       "│ mean      ┆ null     ┆ null      ┆ null      ┆ … ┆ null      ┆ null      ┆ null      ┆ null      │\n",
       "│ std       ┆ null     ┆ null      ┆ null      ┆ … ┆ null      ┆ null      ┆ null      ┆ null      │\n",
       "│ min       ┆ ABW      ┆ Africa    ┆ Afghanist ┆ … ┆ -0.200000 ┆ -0.01     ┆ -0.01     ┆ -0.182602 │\n",
       "│           ┆          ┆           ┆ an        ┆   ┆ 76        ┆           ┆           ┆ 18        │\n",
       "│ 25%       ┆ null     ┆ null      ┆ null      ┆ … ┆ null      ┆ null      ┆ null      ┆ null      │\n",
       "│ 50%       ┆ null     ┆ null      ┆ null      ┆ … ┆ null      ┆ null      ┆ null      ┆ null      │\n",
       "│ 75%       ┆ null     ┆ null      ┆ null      ┆ … ┆ null      ┆ null      ┆ null      ┆ null      │\n",
       "│ max       ┆ ZWE      ┆ South     ┆ Zimbabwe  ┆ … ┆ 99988.016 ┆ Sep-99    ┆ Sep-99    ┆ 999.514   │\n",
       "│           ┆          ┆ America   ┆           ┆   ┆           ┆           ┆           ┆           │\n",
       "└───────────┴──────────┴───────────┴───────────┴───┴───────────┴───────────┴───────────┴───────────┘"
      ]
     },
     "execution_count": 12,
     "metadata": {},
     "output_type": "execute_result"
    }
   ],
   "source": [
    "df_ox.describe()"
   ]
  },
  {
   "cell_type": "code",
   "execution_count": 13,
   "metadata": {},
   "outputs": [
    {
     "data": {
      "text/html": [
       "<div><style>\n",
       ".dataframe > thead > tr,\n",
       ".dataframe > tbody > tr {\n",
       "  text-align: right;\n",
       "  white-space: pre-wrap;\n",
       "}\n",
       "</style>\n",
       "<small>shape: (9, 68)</small><table border=\"1\" class=\"dataframe\"><thead><tr><th>describe</th><th>iso_code</th><th>continent</th><th>location</th><th>date</th><th>total_cases</th><th>new_cases</th><th>new_cases_smoothed</th><th>total_deaths</th><th>new_deaths</th><th>new_deaths_smoothed</th><th>total_cases_per_million</th><th>new_cases_per_million</th><th>new_cases_smoothed_per_million</th><th>total_deaths_per_million</th><th>new_deaths_per_million</th><th>new_deaths_smoothed_per_million</th><th>reproduction_rate</th><th>icu_patients</th><th>icu_patients_per_million</th><th>hosp_patients</th><th>hosp_patients_per_million</th><th>weekly_icu_admissions</th><th>weekly_icu_admissions_per_million</th><th>weekly_hosp_admissions</th><th>weekly_hosp_admissions_per_million</th><th>total_tests</th><th>new_tests</th><th>total_tests_per_thousand</th><th>new_tests_per_thousand</th><th>new_tests_smoothed</th><th>new_tests_smoothed_per_thousand</th><th>positive_rate</th><th>tests_per_case</th><th>tests_units</th><th>total_vaccinations</th><th>people_vaccinated</th><th>people_fully_vaccinated</th><th>total_boosters</th><th>new_vaccinations</th><th>new_vaccinations_smoothed</th><th>total_vaccinations_per_hundred</th><th>people_vaccinated_per_hundred</th><th>people_fully_vaccinated_per_hundred</th><th>total_boosters_per_hundred</th><th>new_vaccinations_smoothed_per_million</th><th>new_people_vaccinated_smoothed</th><th>new_people_vaccinated_smoothed_per_hundred</th><th>stringency_index</th><th>population_density</th><th>median_age</th><th>aged_65_older</th><th>aged_70_older</th><th>gdp_per_capita</th><th>extreme_poverty</th><th>cardiovasc_death_rate</th><th>diabetes_prevalence</th><th>female_smokers</th><th>male_smokers</th><th>handwashing_facilities</th><th>hospital_beds_per_thousand</th><th>life_expectancy</th><th>human_development_index</th><th>population</th><th>excess_mortality_cumulative_absolute</th><th>excess_mortality_cumulative</th><th>excess_mortality</th><th>excess_mortality_cumulative_per_million</th></tr><tr><td>str</td><td>str</td><td>str</td><td>str</td><td>str</td><td>str</td><td>str</td><td>str</td><td>str</td><td>str</td><td>str</td><td>str</td><td>str</td><td>str</td><td>str</td><td>str</td><td>str</td><td>str</td><td>str</td><td>str</td><td>str</td><td>str</td><td>str</td><td>str</td><td>str</td><td>str</td><td>str</td><td>str</td><td>str</td><td>str</td><td>str</td><td>str</td><td>str</td><td>str</td><td>str</td><td>str</td><td>str</td><td>str</td><td>str</td><td>str</td><td>str</td><td>str</td><td>str</td><td>str</td><td>str</td><td>str</td><td>str</td><td>str</td><td>str</td><td>str</td><td>str</td><td>str</td><td>str</td><td>str</td><td>str</td><td>str</td><td>str</td><td>str</td><td>str</td><td>str</td><td>str</td><td>str</td><td>str</td><td>str</td><td>str</td><td>str</td><td>str</td><td>str</td></tr></thead><tbody><tr><td>&quot;count&quot;</td><td>&quot;276700&quot;</td><td>&quot;262726&quot;</td><td>&quot;276700&quot;</td><td>&quot;276700&quot;</td><td>&quot;47775&quot;</td><td>&quot;51838&quot;</td><td>&quot;50608&quot;</td><td>&quot;44649&quot;</td><td>&quot;51859&quot;</td><td>&quot;50629&quot;</td><td>&quot;47775&quot;</td><td>&quot;51838&quot;</td><td>&quot;50608&quot;</td><td>&quot;44649&quot;</td><td>&quot;51859&quot;</td><td>&quot;50629&quot;</td><td>&quot;184817&quot;</td><td>&quot;38195&quot;</td><td>&quot;38195&quot;</td><td>&quot;39683&quot;</td><td>&quot;39683&quot;</td><td>&quot;10453&quot;</td><td>&quot;10453&quot;</td><td>&quot;23785&quot;</td><td>&quot;23785&quot;</td><td>&quot;79387&quot;</td><td>&quot;75403&quot;</td><td>&quot;79387&quot;</td><td>&quot;75403&quot;</td><td>&quot;103965&quot;</td><td>&quot;103965&quot;</td><td>&quot;95927&quot;</td><td>&quot;94348&quot;</td><td>&quot;106788&quot;</td><td>&quot;80910&quot;</td><td>&quot;77439&quot;</td><td>&quot;74164&quot;</td><td>&quot;49060&quot;</td><td>&quot;66854&quot;</td><td>&quot;185122&quot;</td><td>&quot;80910&quot;</td><td>&quot;77439&quot;</td><td>&quot;74164&quot;</td><td>&quot;49060&quot;</td><td>&quot;185122&quot;</td><td>&quot;184820&quot;</td><td>&quot;184820&quot;</td><td>&quot;180902&quot;</td><td>&quot;245128&quot;</td><td>&quot;232151&quot;</td><td>&quot;228629&quot;</td><td>&quot;230696&quot;</td><td>&quot;229745&quot;</td><td>&quot;152762&quot;</td><td>&quot;230192&quot;</td><td>&quot;239681&quot;</td><td>&quot;178131&quot;</td><td>&quot;175546&quot;</td><td>&quot;113626&quot;</td><td>&quot;205421&quot;</td><td>&quot;254747&quot;</td><td>&quot;225670&quot;</td><td>&quot;276700&quot;</td><td>&quot;11883&quot;</td><td>&quot;11883&quot;</td><td>&quot;11883&quot;</td><td>&quot;11883&quot;</td></tr><tr><td>&quot;null_count&quot;</td><td>&quot;0&quot;</td><td>&quot;13974&quot;</td><td>&quot;0&quot;</td><td>&quot;0&quot;</td><td>&quot;228925&quot;</td><td>&quot;224862&quot;</td><td>&quot;226092&quot;</td><td>&quot;232051&quot;</td><td>&quot;224841&quot;</td><td>&quot;226071&quot;</td><td>&quot;228925&quot;</td><td>&quot;224862&quot;</td><td>&quot;226092&quot;</td><td>&quot;232051&quot;</td><td>&quot;224841&quot;</td><td>&quot;226071&quot;</td><td>&quot;91883&quot;</td><td>&quot;238505&quot;</td><td>&quot;238505&quot;</td><td>&quot;237017&quot;</td><td>&quot;237017&quot;</td><td>&quot;266247&quot;</td><td>&quot;266247&quot;</td><td>&quot;252915&quot;</td><td>&quot;252915&quot;</td><td>&quot;197313&quot;</td><td>&quot;201297&quot;</td><td>&quot;197313&quot;</td><td>&quot;201297&quot;</td><td>&quot;172735&quot;</td><td>&quot;172735&quot;</td><td>&quot;180773&quot;</td><td>&quot;182352&quot;</td><td>&quot;169912&quot;</td><td>&quot;195790&quot;</td><td>&quot;199261&quot;</td><td>&quot;202536&quot;</td><td>&quot;227640&quot;</td><td>&quot;209846&quot;</td><td>&quot;91578&quot;</td><td>&quot;195790&quot;</td><td>&quot;199261&quot;</td><td>&quot;202536&quot;</td><td>&quot;227640&quot;</td><td>&quot;91578&quot;</td><td>&quot;91880&quot;</td><td>&quot;91880&quot;</td><td>&quot;95798&quot;</td><td>&quot;31572&quot;</td><td>&quot;44549&quot;</td><td>&quot;48071&quot;</td><td>&quot;46004&quot;</td><td>&quot;46955&quot;</td><td>&quot;123938&quot;</td><td>&quot;46508&quot;</td><td>&quot;37019&quot;</td><td>&quot;98569&quot;</td><td>&quot;101154&quot;</td><td>&quot;163074&quot;</td><td>&quot;71279&quot;</td><td>&quot;21953&quot;</td><td>&quot;51030&quot;</td><td>&quot;0&quot;</td><td>&quot;264817&quot;</td><td>&quot;264817&quot;</td><td>&quot;264817&quot;</td><td>&quot;264817&quot;</td></tr><tr><td>&quot;mean&quot;</td><td>null</td><td>null</td><td>null</td><td>null</td><td>null</td><td>null</td><td>null</td><td>null</td><td>null</td><td>null</td><td>null</td><td>null</td><td>null</td><td>null</td><td>null</td><td>null</td><td>null</td><td>null</td><td>null</td><td>null</td><td>null</td><td>null</td><td>null</td><td>null</td><td>null</td><td>null</td><td>null</td><td>null</td><td>null</td><td>null</td><td>null</td><td>null</td><td>null</td><td>null</td><td>null</td><td>null</td><td>null</td><td>null</td><td>null</td><td>null</td><td>null</td><td>null</td><td>null</td><td>null</td><td>null</td><td>null</td><td>null</td><td>null</td><td>null</td><td>null</td><td>null</td><td>null</td><td>null</td><td>null</td><td>null</td><td>null</td><td>null</td><td>null</td><td>null</td><td>null</td><td>null</td><td>null</td><td>null</td><td>null</td><td>null</td><td>null</td><td>null</td></tr><tr><td>&quot;std&quot;</td><td>null</td><td>null</td><td>null</td><td>null</td><td>null</td><td>null</td><td>null</td><td>null</td><td>null</td><td>null</td><td>null</td><td>null</td><td>null</td><td>null</td><td>null</td><td>null</td><td>null</td><td>null</td><td>null</td><td>null</td><td>null</td><td>null</td><td>null</td><td>null</td><td>null</td><td>null</td><td>null</td><td>null</td><td>null</td><td>null</td><td>null</td><td>null</td><td>null</td><td>null</td><td>null</td><td>null</td><td>null</td><td>null</td><td>null</td><td>null</td><td>null</td><td>null</td><td>null</td><td>null</td><td>null</td><td>null</td><td>null</td><td>null</td><td>null</td><td>null</td><td>null</td><td>null</td><td>null</td><td>null</td><td>null</td><td>null</td><td>null</td><td>null</td><td>null</td><td>null</td><td>null</td><td>null</td><td>null</td><td>null</td><td>null</td><td>null</td><td>null</td></tr><tr><td>&quot;min&quot;</td><td>&quot;ABW&quot;</td><td>&quot;Africa&quot;</td><td>&quot;Afghanistan&quot;</td><td>&quot;2020-01-01 00:…</td><td>&quot;1.0&quot;</td><td>&quot;0.0&quot;</td><td>&quot;0.0&quot;</td><td>&quot;1.0&quot;</td><td>&quot;0.0&quot;</td><td>&quot;0.0&quot;</td><td>&quot;0.0&quot;</td><td>&quot;0.0&quot;</td><td>&quot;0.0&quot;</td><td>&quot;0.0&quot;</td><td>&quot;0.0&quot;</td><td>&quot;0.0&quot;</td><td>&quot;-0.0&quot;</td><td>&quot;0.0&quot;</td><td>&quot;0.0&quot;</td><td>&quot;0.0&quot;</td><td>&quot;0.0&quot;</td><td>&quot;0.0&quot;</td><td>&quot;0.0&quot;</td><td>&quot;0.0&quot;</td><td>&quot;0.0&quot;</td><td>&quot;0.0&quot;</td><td>&quot;1.0&quot;</td><td>&quot;0.0&quot;</td><td>&quot;0.0&quot;</td><td>&quot;0.0&quot;</td><td>&quot;0.0&quot;</td><td>&quot;0.0&quot;</td><td>&quot;1.0&quot;</td><td>&quot;people tested&quot;</td><td>&quot;0.0&quot;</td><td>&quot;0.0&quot;</td><td>&quot;1.0&quot;</td><td>&quot;1.0&quot;</td><td>&quot;0.0&quot;</td><td>&quot;0.0&quot;</td><td>&quot;0.0&quot;</td><td>&quot;0.0&quot;</td><td>&quot;0.0&quot;</td><td>&quot;0.0&quot;</td><td>&quot;0.0&quot;</td><td>&quot;0.0&quot;</td><td>&quot;0.0&quot;</td><td>&quot;0.0&quot;</td><td>&quot;0.137&quot;</td><td>&quot;17.0&quot;</td><td>&quot;1.144&quot;</td><td>&quot;0.526&quot;</td><td>&quot;104861.851&quot;</td><td>&quot;0.1&quot;</td><td>&quot;103.957&quot;</td><td>&quot;0.99&quot;</td><td>&quot;0.1&quot;</td><td>&quot;2024-01-18 00:…</td><td>&quot;1.188&quot;</td><td>&quot;0.1&quot;</td><td>&quot;53.28&quot;</td><td>&quot;0.394&quot;</td><td>&quot;10142625.0&quot;</td><td>&quot;-0.20000076&quot;</td><td>&quot;-0.01&quot;</td><td>&quot;-0.01&quot;</td><td>&quot;-0.18260218&quot;</td></tr><tr><td>&quot;25%&quot;</td><td>null</td><td>null</td><td>null</td><td>null</td><td>null</td><td>null</td><td>null</td><td>null</td><td>null</td><td>null</td><td>null</td><td>null</td><td>null</td><td>null</td><td>null</td><td>null</td><td>null</td><td>null</td><td>null</td><td>null</td><td>null</td><td>null</td><td>null</td><td>null</td><td>null</td><td>null</td><td>null</td><td>null</td><td>null</td><td>null</td><td>null</td><td>null</td><td>null</td><td>null</td><td>null</td><td>null</td><td>null</td><td>null</td><td>null</td><td>null</td><td>null</td><td>null</td><td>null</td><td>null</td><td>null</td><td>null</td><td>null</td><td>null</td><td>null</td><td>null</td><td>null</td><td>null</td><td>null</td><td>null</td><td>null</td><td>null</td><td>null</td><td>null</td><td>null</td><td>null</td><td>null</td><td>null</td><td>null</td><td>null</td><td>null</td><td>null</td><td>null</td></tr><tr><td>&quot;50%&quot;</td><td>null</td><td>null</td><td>null</td><td>null</td><td>null</td><td>null</td><td>null</td><td>null</td><td>null</td><td>null</td><td>null</td><td>null</td><td>null</td><td>null</td><td>null</td><td>null</td><td>null</td><td>null</td><td>null</td><td>null</td><td>null</td><td>null</td><td>null</td><td>null</td><td>null</td><td>null</td><td>null</td><td>null</td><td>null</td><td>null</td><td>null</td><td>null</td><td>null</td><td>null</td><td>null</td><td>null</td><td>null</td><td>null</td><td>null</td><td>null</td><td>null</td><td>null</td><td>null</td><td>null</td><td>null</td><td>null</td><td>null</td><td>null</td><td>null</td><td>null</td><td>null</td><td>null</td><td>null</td><td>null</td><td>null</td><td>null</td><td>null</td><td>null</td><td>null</td><td>null</td><td>null</td><td>null</td><td>null</td><td>null</td><td>null</td><td>null</td><td>null</td></tr><tr><td>&quot;75%&quot;</td><td>null</td><td>null</td><td>null</td><td>null</td><td>null</td><td>null</td><td>null</td><td>null</td><td>null</td><td>null</td><td>null</td><td>null</td><td>null</td><td>null</td><td>null</td><td>null</td><td>null</td><td>null</td><td>null</td><td>null</td><td>null</td><td>null</td><td>null</td><td>null</td><td>null</td><td>null</td><td>null</td><td>null</td><td>null</td><td>null</td><td>null</td><td>null</td><td>null</td><td>null</td><td>null</td><td>null</td><td>null</td><td>null</td><td>null</td><td>null</td><td>null</td><td>null</td><td>null</td><td>null</td><td>null</td><td>null</td><td>null</td><td>null</td><td>null</td><td>null</td><td>null</td><td>null</td><td>null</td><td>null</td><td>null</td><td>null</td><td>null</td><td>null</td><td>null</td><td>null</td><td>null</td><td>null</td><td>null</td><td>null</td><td>null</td><td>null</td><td>null</td></tr><tr><td>&quot;max&quot;</td><td>&quot;ZWE&quot;</td><td>&quot;South America&quot;</td><td>&quot;Zimbabwe&quot;</td><td>&quot;2024-01-19 00:…</td><td>&quot;999886.0&quot;</td><td>&quot;9999.0&quot;</td><td>&quot;99985.571&quot;</td><td>&quot;99965.0&quot;</td><td>&quot;999.0&quot;</td><td>&quot;998.714&quot;</td><td>&quot;99996.358&quot;</td><td>&quot;999.979&quot;</td><td>&quot;999.713&quot;</td><td>&quot;999.978&quot;</td><td>&quot;99.991&quot;</td><td>&quot;99.932&quot;</td><td>&quot;4.0&quot;</td><td>&quot;9994.0&quot;</td><td>&quot;99.981&quot;</td><td>&quot;999.0&quot;</td><td>&quot;995.991&quot;</td><td>&quot;998.0&quot;</td><td>&quot;91.696&quot;</td><td>&quot;9996.0&quot;</td><td>&quot;99.988&quot;</td><td>&quot;9999879.0&quot;</td><td>&quot;99999.0&quot;</td><td>&quot;9995.96&quot;</td><td>&quot;99.539&quot;</td><td>&quot;99990.0&quot;</td><td>&quot;99.969&quot;</td><td>&quot;1.0&quot;</td><td>&quot;999.8&quot;</td><td>&quot;units unclear&quot;</td><td>&quot;999990.0&quot;</td><td>&quot;9999633.0&quot;</td><td>&quot;9999902.0&quot;</td><td>&quot;999995.0&quot;</td><td>&quot;999947.0&quot;</td><td>&quot;99998.0&quot;</td><td>&quot;99.99&quot;</td><td>&quot;99.94&quot;</td><td>&quot;99.94&quot;</td><td>&quot;99.97&quot;</td><td>&quot;9999.0&quot;</td><td>&quot;99996.0&quot;</td><td>&quot;9.262&quot;</td><td>&quot;98.15&quot;</td><td>&quot;99.11&quot;</td><td>&quot;48.2&quot;</td><td>&quot;9.954&quot;</td><td>&quot;9.842&quot;</td><td>&quot;9795.834&quot;</td><td>&quot;77.6&quot;</td><td>&quot;99.739&quot;</td><td>&quot;6.0&quot;</td><td>&quot;7.0&quot;</td><td>&quot;78.1&quot;</td><td>&quot;98.999&quot;</td><td>&quot;8.0&quot;</td><td>&quot;86.75&quot;</td><td>&quot;0.957&quot;</td><td>&quot;9967304.0&quot;</td><td>&quot;99988.016&quot;</td><td>&quot;9.0&quot;</td><td>&quot;99.55&quot;</td><td>&quot;999.514&quot;</td></tr></tbody></table></div>"
      ],
      "text/plain": [
       "shape: (9, 68)\n",
       "┌───────────┬──────────┬───────────┬───────────┬───┬───────────┬───────────┬───────────┬───────────┐\n",
       "│ describe  ┆ iso_code ┆ continent ┆ location  ┆ … ┆ excess_mo ┆ excess_mo ┆ excess_mo ┆ excess_mo │\n",
       "│ ---       ┆ ---      ┆ ---       ┆ ---       ┆   ┆ rtality_c ┆ rtality_c ┆ rtality   ┆ rtality_c │\n",
       "│ str       ┆ str      ┆ str       ┆ str       ┆   ┆ umulative ┆ umulative ┆ ---       ┆ umulative │\n",
       "│           ┆          ┆           ┆           ┆   ┆ _abso…    ┆ ---       ┆ str       ┆ _per_…    │\n",
       "│           ┆          ┆           ┆           ┆   ┆ ---       ┆ str       ┆           ┆ ---       │\n",
       "│           ┆          ┆           ┆           ┆   ┆ str       ┆           ┆           ┆ str       │\n",
       "╞═══════════╪══════════╪═══════════╪═══════════╪═══╪═══════════╪═══════════╪═══════════╪═══════════╡\n",
       "│ count     ┆ 276700   ┆ 262726    ┆ 276700    ┆ … ┆ 11883     ┆ 11883     ┆ 11883     ┆ 11883     │\n",
       "│ null_coun ┆ 0        ┆ 13974     ┆ 0         ┆ … ┆ 264817    ┆ 264817    ┆ 264817    ┆ 264817    │\n",
       "│ t         ┆          ┆           ┆           ┆   ┆           ┆           ┆           ┆           │\n",
       "│ mean      ┆ null     ┆ null      ┆ null      ┆ … ┆ null      ┆ null      ┆ null      ┆ null      │\n",
       "│ std       ┆ null     ┆ null      ┆ null      ┆ … ┆ null      ┆ null      ┆ null      ┆ null      │\n",
       "│ min       ┆ ABW      ┆ Africa    ┆ Afghanist ┆ … ┆ -0.200000 ┆ -0.01     ┆ -0.01     ┆ -0.182602 │\n",
       "│           ┆          ┆           ┆ an        ┆   ┆ 76        ┆           ┆           ┆ 18        │\n",
       "│ 25%       ┆ null     ┆ null      ┆ null      ┆ … ┆ null      ┆ null      ┆ null      ┆ null      │\n",
       "│ 50%       ┆ null     ┆ null      ┆ null      ┆ … ┆ null      ┆ null      ┆ null      ┆ null      │\n",
       "│ 75%       ┆ null     ┆ null      ┆ null      ┆ … ┆ null      ┆ null      ┆ null      ┆ null      │\n",
       "│ max       ┆ ZWE      ┆ South     ┆ Zimbabwe  ┆ … ┆ 99988.016 ┆ 9.0       ┆ 99.55     ┆ 999.514   │\n",
       "│           ┆          ┆ America   ┆           ┆   ┆           ┆           ┆           ┆           │\n",
       "└───────────┴──────────┴───────────┴───────────┴───┴───────────┴───────────┴───────────┴───────────┘"
      ]
     },
     "execution_count": 13,
     "metadata": {},
     "output_type": "execute_result"
    }
   ],
   "source": [
    "df_rx.describe()"
   ]
  },
  {
   "cell_type": "markdown",
   "metadata": {},
   "source": [
    "### Explanation"
   ]
  },
  {
   "cell_type": "markdown",
   "metadata": {},
   "source": [
    "This simple showcase will give you some information about reading MS Excel files using Python engines. Just take a look on differences in `polars.DataFrame.describe` results in columns:\n",
    "\n",
    "- `total_cases_per_million`\n",
    "- `new_cases_per_million`\n",
    "- `new_cases_smoothed_per_million`\n",
    "- `total_deaths_per_million`\n",
    "- `new_deaths_per_million`\n",
    "- `...`\n",
    "\n",
    "There is no simple answer, which engine is better for your case. But, when there is some sh*t in the input data, you should take care about these differences - and there is some benefits for using RXLS:\n",
    "\n",
    "- All temporal data in mixed-dtype columns will be represented as ISO 8601 formatted timestamps, ready for further conversions.\n",
    "\n",
    "- Mixed-dtype column parts may be seamless converted to the common datatype without data loss. But you should keep in mind, that RXLS will convert floating-point values to timestamps, and it may cause rounding issues on converting them back.\n",
    "\n",
    "- If you don't know, which data is inside XLSX/XLSB file (does it contains some errors, or not), and file is Really Large (in my practice, XLSX files may be **larger than 3GB** (!)), you just can't take a look on data (MS Excel is not supporting files this large) - RXLS can read them all (and you could save it's sheets to Apache Arrow `.parquet` files for further analyzing).\n",
    "\n",
    "Other engines also can do this, just keep in mind their cons and pros on mixed-dtype columns reading."
   ]
  },
  {
   "cell_type": "code",
   "execution_count": null,
   "metadata": {},
   "outputs": [],
   "source": [
    "##"
   ]
  }
 ],
 "metadata": {
  "kernelspec": {
   "display_name": ".venv",
   "language": "python",
   "name": "python3"
  },
  "language_info": {
   "codemirror_mode": {
    "name": "ipython",
    "version": 3
   },
   "file_extension": ".py",
   "mimetype": "text/x-python",
   "name": "python",
   "nbconvert_exporter": "python",
   "pygments_lexer": "ipython3",
   "version": "3.8.10"
  },
  "orig_nbformat": 4,
  "vscode": {
   "interpreter": {
    "hash": "63b6a2b0f35fa4ea1c49d25456d100cfd93064b5ee1d57f74d839a65cc2b63a2"
   }
  }
 },
 "nbformat": 4,
 "nbformat_minor": 2
}
